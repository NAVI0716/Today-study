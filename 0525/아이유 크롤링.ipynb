{
 "cells": [
  {
   "cell_type": "code",
   "execution_count": 1,
   "id": "497955c2",
   "metadata": {},
   "outputs": [],
   "source": [
    "import os\n",
    "import pandas as pd\n",
    "import numpy as np\n",
    "import math \n",
    "\n",
    "from selenium.webdriver.common.alert import Alert\n",
    "from selenium import webdriver  \n",
    "from selenium.webdriver.common.keys import Keys\n",
    "from selenium.webdriver import ActionChains as AC\n",
    "\n",
    "from tqdm import tqdm, tqdm_notebook\n",
    "from tqdm.notebook import tqdm\n",
    "\n",
    "import re\n",
    "from time import sleep\n",
    "import time\n",
    "\n",
    "import warnings\n",
    "warnings.filterwarnings('ignore')"
   ]
  },
  {
   "cell_type": "code",
   "execution_count": 47,
   "id": "0b738818",
   "metadata": {},
   "outputs": [
    {
     "name": "stdout",
     "output_type": "stream",
     "text": [
      "배우 이름을 입력하시오: 아이유\n"
     ]
    },
    {
     "data": {
      "text/plain": [
       "'아이유'"
      ]
     },
     "execution_count": 47,
     "metadata": {},
     "output_type": "execute_result"
    }
   ],
   "source": [
    "name=input('배우 이름을 입력하시오: ')\n",
    "name"
   ]
  },
  {
   "cell_type": "code",
   "execution_count": 48,
   "id": "5d5de45e",
   "metadata": {},
   "outputs": [],
   "source": [
    "options = webdriver.ChromeOptions()#옵션 설정\n",
    "options.add_argument(\"--window-size=720,1280\")\n",
    "\n",
    "import chromedriver_autoinstaller\n",
    "chrome_path = chromedriver_autoinstaller.install()\n",
    "driver = webdriver.Chrome(chrome_path, options=options)\n",
    "time.sleep(3)\n",
    "driver.get('http://www.naver.com')"
   ]
  },
  {
   "cell_type": "code",
   "execution_count": 49,
   "id": "6a779ebc",
   "metadata": {},
   "outputs": [],
   "source": [
    "element = driver.find_element_by_id('query')\n",
    "element.send_keys(name)\n",
    "element.submit()\n",
    "time.sleep(3)\n"
   ]
  },
  {
   "cell_type": "code",
   "execution_count": 50,
   "id": "7c4c572b",
   "metadata": {},
   "outputs": [],
   "source": [
    "driver.find_element_by_link_text('프로필').click()\n",
    "time.sleep(1)"
   ]
  },
  {
   "cell_type": "code",
   "execution_count": 51,
   "id": "ca4cd42d",
   "metadata": {},
   "outputs": [],
   "source": [
    "try:\n",
    "    driver.find_element_by_css_selector('.cm_content_area._cm_content_area_prize .area_button_arrow').click()\n",
    "    time.sleep(1)\n",
    "except:\n",
    "    pass"
   ]
  },
  {
   "cell_type": "code",
   "execution_count": 52,
   "id": "85af1d37",
   "metadata": {},
   "outputs": [],
   "source": [
    "#크롤링할내용 저장칸 만들기\n",
    "prize_list=[]"
   ]
  },
  {
   "cell_type": "code",
   "execution_count": 58,
   "id": "f2704020",
   "metadata": {},
   "outputs": [
    {
     "data": {
      "text/plain": [
       "'수상내역\\n2021\\n엠넷 아시안 뮤직 어워즈 여자 가수상\\n2021\\n엠넷 아시안 뮤직 어워즈 베스트 보컬 퍼포먼스\\n2021\\n엠넷 아시안 뮤직 어워즈 베스트 컬래버레이션\\n2021\\n제13회 멜론뮤직어워드 올해의 아티스트\\n2021\\n제13회 멜론뮤직어워드 올해의 앨범\\n2021\\n제13회 멜론뮤직어워드 베스트 솔로 여자\\n2021\\n제13회 멜론뮤직어워드 송라이터상\\n2021\\n제13회 멜론뮤직어워드 TOP10\\n2021\\n아시아 아티스트 어워즈 가수부문 U+아이돌Live 인기상\\n2021\\nKAA 어워드 광고주가 뽑은 좋은 모델상\\n2021\\n2020 APAN MUSIC AWARDS 아이돌챔프 인기상 국내 여자 솔로 부문\\n2021\\n제10회 가온차트 뮤직 어워즈 올해의 작사가상\\n이전\\n현재\\n2\\n전체\\n8 다음\\n펴고 닫기'"
      ]
     },
     "execution_count": 58,
     "metadata": {},
     "output_type": "execute_result"
    }
   ],
   "source": [
    "prize= driver.find_element_by_css_selector('.cm_content_area._cm_content_area_prize').text\n",
    "prize"
   ]
  },
  {
   "cell_type": "code",
   "execution_count": 54,
   "id": "6d8c6209",
   "metadata": {},
   "outputs": [
    {
     "data": {
      "text/plain": [
       "['2022',\n",
       " '2022',\n",
       " '2022',\n",
       " '2022',\n",
       " '2022',\n",
       " '2022',\n",
       " '2022',\n",
       " '2022',\n",
       " '2022',\n",
       " '2022',\n",
       " '2022',\n",
       " '2021']"
      ]
     },
     "execution_count": 54,
     "metadata": {},
     "output_type": "execute_result"
    }
   ],
   "source": [
    "p = re.compile('[0-9]{4,4}')\n",
    "m = p.findall(prize)\n",
    "m"
   ]
  },
  {
   "cell_type": "code",
   "execution_count": 55,
   "id": "00921b12",
   "metadata": {},
   "outputs": [
    {
     "data": {
      "text/plain": [
       "['2022',\n",
       " '2022',\n",
       " '2022',\n",
       " '2022',\n",
       " '2022',\n",
       " '2022',\n",
       " '2022',\n",
       " '2022',\n",
       " '2022',\n",
       " '2022',\n",
       " '2022',\n",
       " '2021']"
      ]
     },
     "execution_count": 55,
     "metadata": {},
     "output_type": "execute_result"
    }
   ],
   "source": [
    "prize_list=prize_list + m\n",
    "prize_list"
   ]
  },
  {
   "cell_type": "code",
   "execution_count": 56,
   "id": "fbea0b01",
   "metadata": {},
   "outputs": [],
   "source": [
    "if driver.find_element_by_css_selector('.pg_next.on'):\n",
    "    driver.find_element_by_css_selector('.pg_next.on').click()\n",
    "    time.sleep(2)"
   ]
  },
  {
   "cell_type": "code",
   "execution_count": 61,
   "id": "34cfa9e1",
   "metadata": {},
   "outputs": [
    {
     "name": "stdout",
     "output_type": "stream",
     "text": [
      "수상수: 96\n"
     ]
    },
    {
     "data": {
      "text/plain": [
       "['2022',\n",
       " '2022',\n",
       " '2022',\n",
       " '2022',\n",
       " '2022',\n",
       " '2022',\n",
       " '2022',\n",
       " '2022',\n",
       " '2022',\n",
       " '2022',\n",
       " '2022',\n",
       " '2021',\n",
       " '2021',\n",
       " '2021',\n",
       " '2021',\n",
       " '2021',\n",
       " '2021',\n",
       " '2021',\n",
       " '2021',\n",
       " '2021',\n",
       " '2021',\n",
       " '2021',\n",
       " '2021',\n",
       " '2020',\n",
       " '2021',\n",
       " '2021',\n",
       " '2021',\n",
       " '2021',\n",
       " '2021',\n",
       " '2020',\n",
       " '2020',\n",
       " '2020',\n",
       " '2020',\n",
       " '2020',\n",
       " '2020',\n",
       " '2019',\n",
       " '2019',\n",
       " '2018',\n",
       " '2018',\n",
       " '2018',\n",
       " '2018',\n",
       " '2018',\n",
       " '2018',\n",
       " '2018',\n",
       " '2018',\n",
       " '2018',\n",
       " '2018',\n",
       " '2018',\n",
       " '2018',\n",
       " '2018',\n",
       " '2018',\n",
       " '2018',\n",
       " '2017',\n",
       " '2017',\n",
       " '2017',\n",
       " '2017',\n",
       " '2016',\n",
       " '2016',\n",
       " '2015',\n",
       " '2014',\n",
       " '2014',\n",
       " '2014',\n",
       " '2014',\n",
       " '2014',\n",
       " '2013',\n",
       " '2013',\n",
       " '2013',\n",
       " '2013',\n",
       " '2013',\n",
       " '2012',\n",
       " '2012',\n",
       " '2012',\n",
       " '2012',\n",
       " '2012',\n",
       " '2012',\n",
       " '2012',\n",
       " '2012',\n",
       " '2012',\n",
       " '2011',\n",
       " '2012',\n",
       " '2012',\n",
       " '2012',\n",
       " '2011',\n",
       " '2011',\n",
       " '2011',\n",
       " '2011',\n",
       " '2011',\n",
       " '2011',\n",
       " '2011',\n",
       " '2011',\n",
       " '2011',\n",
       " '2010',\n",
       " '2010',\n",
       " '2010',\n",
       " '2010',\n",
       " '2010']"
      ]
     },
     "execution_count": 61,
     "metadata": {},
     "output_type": "execute_result"
    }
   ],
   "source": [
    "prize_list=[]\n",
    "prize_list_t=[]\n",
    "for i in range(0,100):\n",
    "    try:\n",
    "        prize= driver.find_element_by_css_selector('.cm_content_area._cm_content_area_prize').text\n",
    "        prize_list_t.append(prize)\n",
    "\n",
    "        p = re.compile('[0-9]{4,4}')\n",
    "        m = p.findall(prize)\n",
    "        prize_list=prize_list + m\n",
    "\n",
    "        if driver.find_element_by_css_selector('.pg_next.on'):\n",
    "            next = driver.find_element_by_css_selector('.pg_next.on').click()\n",
    "            time.sleep(2)\n",
    "    except:\n",
    "        break\n",
    "print(f\"수상수: {len(prize_list)}\")\n",
    "\n",
    "prize_list"
   ]
  },
  {
   "cell_type": "code",
   "execution_count": null,
   "id": "cf163d3a",
   "metadata": {},
   "outputs": [],
   "source": []
  }
 ],
 "metadata": {
  "kernelspec": {
   "display_name": "Python 3 (ipykernel)",
   "language": "python",
   "name": "python3"
  },
  "language_info": {
   "codemirror_mode": {
    "name": "ipython",
    "version": 3
   },
   "file_extension": ".py",
   "mimetype": "text/x-python",
   "name": "python",
   "nbconvert_exporter": "python",
   "pygments_lexer": "ipython3",
   "version": "3.9.7"
  }
 },
 "nbformat": 4,
 "nbformat_minor": 5
}
