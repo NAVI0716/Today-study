{
 "cells": [
  {
   "cell_type": "raw",
   "metadata": {},
   "source": [
    "목표 : LSTM을 이용해 로이터 뉴스 카테고리 분류"
   ]
  },
  {
   "cell_type": "code",
   "execution_count": 24,
   "metadata": {},
   "outputs": [],
   "source": [
    "import numpy\n",
    "import tensorflow as tf\n",
    "import matplotlib.pyplot as plt\n",
    "import os\n",
    "\n",
    "# 로이터 뉴스 데이터셋 불러오기\n",
    "from keras.datasets import reuters\n",
    "from keras.models import Sequential\n",
    "#from tensorflow.keras.models import Sequential\n",
    "#from tensorflow.keras.layers import Dense,LSTM,Embedding\n",
    "from keras.layers import Dense, LSTM, Embedding\n",
    "from keras.preprocessing import sequence\n",
    "from keras.utils import np_utils\n",
    "from keras.callbacks import ModelCheckpoint, EarlyStopping"
   ]
  },
  {
   "cell_type": "code",
   "execution_count": 25,
   "metadata": {},
   "outputs": [],
   "source": [
    "# seed 값 설정\n",
    "seed = 0\n",
    "numpy.random.seed(seed)\n",
    "tf.random.set_seed(3)"
   ]
  },
  {
   "cell_type": "code",
   "execution_count": 26,
   "metadata": {},
   "outputs": [],
   "source": [
    "# 불러온 데이터를 학습셋, 테스트셋으로 나누기\n",
    "(X_train, Y_train), (X_test, Y_test) = reuters.load_data(num_words=1000, test_split=0.2)"
   ]
  },
  {
   "cell_type": "code",
   "execution_count": 27,
   "metadata": {},
   "outputs": [
    {
     "name": "stdout",
     "output_type": "stream",
     "text": [
      "(8982,)\n",
      "(8982,)\n",
      "(2246,)\n",
      "(2246,)\n"
     ]
    }
   ],
   "source": [
    "print(X_train.shape)\n",
    "print(Y_train.shape)\n",
    "print(X_test.shape)\n",
    "print(Y_test.shape)"
   ]
  },
  {
   "cell_type": "code",
   "execution_count": 28,
   "metadata": {},
   "outputs": [],
   "source": [
    "# 전체 뉴스 unique 단어 확인 \n",
    "news_word_list = []\n",
    "for i in range(len(X_train)):\n",
    "    news_word_list = news_word_list + X_train[i]\n",
    "    "
   ]
  },
  {
   "cell_type": "code",
   "execution_count": 29,
   "metadata": {},
   "outputs": [
    {
     "data": {
      "text/plain": [
       "array([  1,   2,   4,   5,   6,   7,   8,   9,  10,  11,  12,  13,  14,\n",
       "        15,  16,  17,  18,  19,  20,  21,  22,  23,  24,  25,  26,  27,\n",
       "        28,  29,  30,  31,  32,  33,  34,  35,  36,  37,  38,  39,  40,\n",
       "        41,  42,  43,  44,  45,  46,  47,  48,  49,  50,  51,  52,  53,\n",
       "        54,  55,  56,  57,  58,  59,  60,  61,  62,  63,  64,  65,  66,\n",
       "        67,  68,  69,  70,  71,  72,  73,  74,  75,  76,  77,  78,  79,\n",
       "        80,  81,  82,  83,  84,  85,  86,  87,  88,  89,  90,  91,  92,\n",
       "        93,  94,  95,  96,  97,  98,  99, 100, 101, 102, 103, 104, 105,\n",
       "       106, 107, 108, 109, 110, 111, 112, 113, 114, 115, 116, 117, 118,\n",
       "       119, 120, 121, 122, 123, 124, 125, 126, 127, 128, 129, 130, 131,\n",
       "       132, 133, 134, 135, 136, 137, 138, 139, 140, 141, 142, 143, 144,\n",
       "       145, 146, 147, 148, 149, 150, 151, 152, 153, 154, 155, 156, 157,\n",
       "       158, 159, 160, 161, 162, 163, 164, 165, 166, 167, 168, 169, 170,\n",
       "       171, 172, 173, 174, 175, 176, 177, 178, 179, 180, 181, 182, 183,\n",
       "       184, 185, 186, 187, 188, 189, 190, 191, 192, 193, 194, 195, 196,\n",
       "       197, 198, 199, 200, 201, 202, 203, 204, 205, 206, 207, 208, 209,\n",
       "       210, 211, 212, 213, 214, 215, 216, 217, 218, 219, 220, 221, 222,\n",
       "       223, 224, 225, 226, 227, 228, 229, 230, 231, 232, 233, 234, 235,\n",
       "       236, 237, 238, 239, 240, 241, 242, 243, 244, 245, 246, 247, 248,\n",
       "       249, 250, 251, 252, 253, 254, 255, 256, 257, 258, 259, 260, 261,\n",
       "       262, 263, 264, 265, 266, 267, 268, 269, 270, 271, 272, 273, 274,\n",
       "       275, 276, 277, 278, 279, 280, 281, 282, 283, 284, 285, 286, 287,\n",
       "       288, 289, 290, 291, 292, 293, 294, 295, 296, 297, 298, 299, 300,\n",
       "       301, 302, 303, 304, 305, 306, 307, 308, 309, 310, 311, 312, 313,\n",
       "       314, 315, 316, 317, 318, 319, 320, 321, 322, 323, 324, 325, 326,\n",
       "       327, 328, 329, 330, 331, 332, 333, 334, 335, 336, 337, 338, 339,\n",
       "       340, 341, 342, 343, 344, 345, 346, 347, 348, 349, 350, 351, 352,\n",
       "       353, 354, 355, 356, 357, 358, 359, 360, 361, 362, 363, 364, 365,\n",
       "       366, 367, 368, 369, 370, 371, 372, 373, 374, 375, 376, 377, 378,\n",
       "       379, 380, 381, 382, 383, 384, 385, 386, 387, 388, 389, 390, 391,\n",
       "       392, 393, 394, 395, 396, 397, 398, 399, 400, 401, 402, 403, 404,\n",
       "       405, 406, 407, 408, 409, 410, 411, 412, 413, 414, 415, 416, 417,\n",
       "       418, 419, 420, 421, 422, 423, 424, 425, 426, 427, 428, 429, 430,\n",
       "       431, 432, 433, 434, 435, 436, 437, 438, 439, 440, 441, 442, 443,\n",
       "       444, 445, 446, 447, 448, 449, 450, 451, 452, 453, 454, 455, 456,\n",
       "       457, 458, 459, 460, 461, 462, 463, 464, 465, 466, 467, 468, 469,\n",
       "       470, 471, 472, 473, 474, 475, 476, 477, 478, 479, 480, 481, 482,\n",
       "       483, 484, 485, 486, 487, 488, 489, 490, 491, 492, 493, 494, 495,\n",
       "       496, 497, 498, 499, 500, 501, 502, 503, 504, 505, 506, 507, 508,\n",
       "       509, 510, 511, 512, 513, 514, 515, 516, 517, 518, 519, 520, 521,\n",
       "       522, 523, 524, 525, 526, 527, 528, 529, 530, 531, 532, 533, 534,\n",
       "       535, 536, 537, 538, 539, 540, 541, 542, 543, 544, 545, 546, 547,\n",
       "       548, 549, 550, 551, 552, 553, 554, 555, 556, 557, 558, 559, 560,\n",
       "       561, 562, 563, 564, 565, 566, 567, 568, 569, 570, 571, 572, 573,\n",
       "       574, 575, 576, 577, 578, 579, 580, 581, 582, 583, 584, 585, 586,\n",
       "       587, 588, 589, 590, 591, 592, 593, 594, 595, 596, 597, 598, 599,\n",
       "       600, 601, 602, 603, 604, 605, 606, 607, 608, 609, 610, 611, 612,\n",
       "       613, 614, 615, 616, 617, 618, 619, 620, 621, 622, 623, 624, 625,\n",
       "       626, 627, 628, 629, 630, 631, 632, 633, 634, 635, 636, 637, 638,\n",
       "       639, 640, 641, 642, 643, 644, 645, 646, 647, 648, 649, 650, 651,\n",
       "       652, 653, 654, 655, 656, 657, 658, 659, 660, 661, 662, 663, 664,\n",
       "       665, 666, 667, 668, 669, 670, 671, 672, 673, 674, 675, 676, 677,\n",
       "       678, 679, 680, 681, 682, 683, 684, 685, 686, 687, 688, 689, 690,\n",
       "       691, 692, 693, 694, 695, 696, 697, 698, 699, 700, 701, 702, 703,\n",
       "       704, 705, 706, 707, 708, 709, 710, 711, 712, 713, 714, 715, 716,\n",
       "       717, 718, 719, 720, 721, 722, 723, 724, 725, 726, 727, 728, 729,\n",
       "       730, 731, 732, 733, 734, 735, 736, 737, 738, 739, 740, 741, 742,\n",
       "       743, 744, 745, 746, 747, 748, 749, 750, 751, 752, 753, 754, 755,\n",
       "       756, 757, 758, 759, 760, 761, 762, 763, 764, 765, 766, 767, 768,\n",
       "       769, 770, 771, 772, 773, 774, 775, 776, 777, 778, 779, 780, 781,\n",
       "       782, 783, 784, 785, 786, 787, 788, 789, 790, 791, 792, 793, 794,\n",
       "       795, 796, 797, 798, 799, 800, 801, 802, 803, 804, 805, 806, 807,\n",
       "       808, 809, 810, 811, 812, 813, 814, 815, 816, 817, 818, 819, 820,\n",
       "       821, 822, 823, 824, 825, 826, 827, 828, 829, 830, 831, 832, 833,\n",
       "       834, 835, 836, 837, 838, 839, 840, 841, 842, 843, 844, 845, 846,\n",
       "       847, 848, 849, 850, 851, 852, 853, 854, 855, 856, 857, 858, 859,\n",
       "       860, 861, 862, 863, 864, 865, 866, 867, 868, 869, 870, 871, 872,\n",
       "       873, 874, 875, 876, 877, 878, 879, 880, 881, 882, 883, 884, 885,\n",
       "       886, 887, 888, 889, 890, 891, 892, 893, 894, 895, 896, 897, 898,\n",
       "       899, 900, 901, 902, 903, 904, 905, 906, 907, 908, 909, 910, 911,\n",
       "       912, 913, 914, 915, 916, 917, 918, 919, 920, 921, 922, 923, 924,\n",
       "       925, 926, 927, 928, 929, 930, 931, 932, 933, 934, 935, 936, 937,\n",
       "       938, 939, 940, 941, 942, 943, 944, 945, 946, 947, 948, 949, 950,\n",
       "       951, 952, 953, 954, 955, 956, 957, 958, 959, 960, 961, 962, 963,\n",
       "       964, 965, 966, 967, 968, 969, 970, 971, 972, 973, 974, 975, 976,\n",
       "       977, 978, 979, 980, 981, 982, 983, 984, 985, 986, 987, 988, 989,\n",
       "       990, 991, 992, 993, 994, 995, 996, 997, 998, 999])"
      ]
     },
     "execution_count": 29,
     "metadata": {},
     "output_type": "execute_result"
    }
   ],
   "source": [
    "# 뉴스 전체 unique 단어는 1000 개이다.\n",
    "np.unique(news_word_list)"
   ]
  },
  {
   "cell_type": "code",
   "execution_count": 30,
   "metadata": {},
   "outputs": [
    {
     "data": {
      "text/plain": [
       "array([ 0,  1,  2,  3,  4,  5,  6,  7,  8,  9, 10, 11, 12, 13, 14, 15, 16,\n",
       "       17, 18, 19, 20, 21, 22, 23, 24, 25, 26, 27, 28, 29, 30, 31, 32, 33,\n",
       "       34, 35, 36, 37, 38, 39, 40, 41, 42, 43, 44, 45])"
      ]
     },
     "execution_count": 30,
     "metadata": {},
     "output_type": "execute_result"
    }
   ],
   "source": [
    "# 뉴스 카테고리 unique값 갯수 확인 : 46개의 카테고리가 존재한다.\n",
    "np.unique(Y_train)"
   ]
  },
  {
   "cell_type": "code",
   "execution_count": 31,
   "metadata": {},
   "outputs": [
    {
     "data": {
      "text/plain": [
       "46"
      ]
     },
     "execution_count": 31,
     "metadata": {},
     "output_type": "execute_result"
    }
   ],
   "source": [
    "category = numpy.max(Y_train) + 1\n",
    "category"
   ]
  },
  {
   "cell_type": "code",
   "execution_count": 33,
   "metadata": {
    "scrolled": true
   },
   "outputs": [
    {
     "name": "stdout",
     "output_type": "stream",
     "text": [
      "87\n",
      "<class 'list'>\n"
     ]
    },
    {
     "data": {
      "text/plain": [
       "[1,\n",
       " 2,\n",
       " 2,\n",
       " 8,\n",
       " 43,\n",
       " 10,\n",
       " 447,\n",
       " 5,\n",
       " 25,\n",
       " 207,\n",
       " 270,\n",
       " 5,\n",
       " 2,\n",
       " 111,\n",
       " 16,\n",
       " 369,\n",
       " 186,\n",
       " 90,\n",
       " 67,\n",
       " 7,\n",
       " 89,\n",
       " 5,\n",
       " 19,\n",
       " 102,\n",
       " 6,\n",
       " 19,\n",
       " 124,\n",
       " 15,\n",
       " 90,\n",
       " 67,\n",
       " 84,\n",
       " 22,\n",
       " 482,\n",
       " 26,\n",
       " 7,\n",
       " 48,\n",
       " 4,\n",
       " 49,\n",
       " 8,\n",
       " 864,\n",
       " 39,\n",
       " 209,\n",
       " 154,\n",
       " 6,\n",
       " 151,\n",
       " 6,\n",
       " 83,\n",
       " 11,\n",
       " 15,\n",
       " 22,\n",
       " 155,\n",
       " 11,\n",
       " 15,\n",
       " 7,\n",
       " 48,\n",
       " 9,\n",
       " 2,\n",
       " 2,\n",
       " 504,\n",
       " 6,\n",
       " 258,\n",
       " 6,\n",
       " 272,\n",
       " 11,\n",
       " 15,\n",
       " 22,\n",
       " 134,\n",
       " 44,\n",
       " 11,\n",
       " 15,\n",
       " 16,\n",
       " 8,\n",
       " 197,\n",
       " 2,\n",
       " 90,\n",
       " 67,\n",
       " 52,\n",
       " 29,\n",
       " 209,\n",
       " 30,\n",
       " 32,\n",
       " 132,\n",
       " 6,\n",
       " 109,\n",
       " 15,\n",
       " 17,\n",
       " 12]"
      ]
     },
     "execution_count": 33,
     "metadata": {},
     "output_type": "execute_result"
    }
   ],
   "source": [
    "# 첫번째 뉴스기사 확인 : 87개의 단어로 이루어진 뉴스이다.\n",
    "print(len(X_train[0]))\n",
    "print(type(X_train[0]))\n",
    "X_train[0]"
   ]
  },
  {
   "cell_type": "code",
   "execution_count": 34,
   "metadata": {},
   "outputs": [],
   "source": [
    "# 데이터 전처리\n",
    "\n",
    "# 뉴스: 패딩\n",
    "X_train_pad = sequence.pad_sequences(X_train, maxlen=100)\n",
    "X_test_pad = sequence.pad_sequences(X_test, maxlen=100)\n",
    "\n",
    "# 카테고리 레이블: 원핫 인코딩\n",
    "Y_train_onehot = np_utils.to_categorical(Y_train)\n",
    "Y_test_onehot = np_utils.to_categorical(Y_test)"
   ]
  },
  {
   "cell_type": "code",
   "execution_count": 35,
   "metadata": {},
   "outputs": [
    {
     "data": {
      "text/plain": [
       "array([[  0,   0,   0,   0,   0,   0,   0,   0,   0,   0,   0,   0,   0,\n",
       "          1,   2,   2,   8,  43,  10, 447,   5,  25, 207, 270,   5,   2,\n",
       "        111,  16, 369, 186,  90,  67,   7,  89,   5,  19, 102,   6,  19,\n",
       "        124,  15,  90,  67,  84,  22, 482,  26,   7,  48,   4,  49,   8,\n",
       "        864,  39, 209, 154,   6, 151,   6,  83,  11,  15,  22, 155,  11,\n",
       "         15,   7,  48,   9,   2,   2, 504,   6, 258,   6, 272,  11,  15,\n",
       "         22, 134,  44,  11,  15,  16,   8, 197,   2,  90,  67,  52,  29,\n",
       "        209,  30,  32, 132,   6, 109,  15,  17,  12],\n",
       "       [  0,   0,   0,   0,   0,   0,   0,   0,   0,   0,   0,   0,   0,\n",
       "          0,   0,   0,   0,   0,   0,   0,   0,   0,   0,   0,   0,   0,\n",
       "          0,   0,   0,   0,   0,   0,   0,   0,   0,   0,   0,   0,   0,\n",
       "          0,   0,   0,   0,   0,   1,   2, 699,   2,   2,  56,   2,   2,\n",
       "          9,  56,   2,   2,  81,   5,   2,  57, 366, 737, 132,  20,   2,\n",
       "          7,   2,  49,   2,   2,   2,   2, 699,   2,   8,   7,  10, 241,\n",
       "         16, 855, 129, 231, 783,   5,   4, 587,   2,   2,   2, 775,   7,\n",
       "         48,  34, 191,  44,  35,   2, 505,  17,  12],\n",
       "       [ 19, 758,  15,  53, 959,  47,   2,  15,  14,  19, 132,  15,  39,\n",
       "        965,  32,  11,  14, 147,  72,  11, 180, 183, 187,  44,  11,  14,\n",
       "        102,  19,  11, 123, 186,  90,  67, 960,   4,  78,  13,  68, 467,\n",
       "        511, 110,  59,  89,  90,  67,   2,  55,   2,  92, 617,  80,   2,\n",
       "         46, 905, 220,  13,   4, 346,  48, 235, 629,   5, 211,   5,   2,\n",
       "          7,   2,  81,   5, 187,  11,  15,   9,   2, 201,   5,  47,   2,\n",
       "         18, 478,   2,   5,   2,   7, 232,   2,  71,   5, 160,  63,  11,\n",
       "          9,   2,  81,   5, 102,  59,  11,  17,  12]], dtype=int32)"
      ]
     },
     "execution_count": 35,
     "metadata": {},
     "output_type": "execute_result"
    }
   ],
   "source": [
    "# 뉴스 기사들이 100개 단어까지 패딩된 것 확인\n",
    "X_train_pad[:3]"
   ]
  },
  {
   "cell_type": "code",
   "execution_count": 36,
   "metadata": {},
   "outputs": [
    {
     "data": {
      "text/plain": [
       "array([[0., 0., 0., 1., 0., 0., 0., 0., 0., 0., 0., 0., 0., 0., 0., 0.,\n",
       "        0., 0., 0., 0., 0., 0., 0., 0., 0., 0., 0., 0., 0., 0., 0., 0.,\n",
       "        0., 0., 0., 0., 0., 0., 0., 0., 0., 0., 0., 0., 0., 0.],\n",
       "       [0., 0., 0., 0., 1., 0., 0., 0., 0., 0., 0., 0., 0., 0., 0., 0.,\n",
       "        0., 0., 0., 0., 0., 0., 0., 0., 0., 0., 0., 0., 0., 0., 0., 0.,\n",
       "        0., 0., 0., 0., 0., 0., 0., 0., 0., 0., 0., 0., 0., 0.],\n",
       "       [0., 0., 0., 1., 0., 0., 0., 0., 0., 0., 0., 0., 0., 0., 0., 0.,\n",
       "        0., 0., 0., 0., 0., 0., 0., 0., 0., 0., 0., 0., 0., 0., 0., 0.,\n",
       "        0., 0., 0., 0., 0., 0., 0., 0., 0., 0., 0., 0., 0., 0.],\n",
       "       [0., 0., 0., 0., 1., 0., 0., 0., 0., 0., 0., 0., 0., 0., 0., 0.,\n",
       "        0., 0., 0., 0., 0., 0., 0., 0., 0., 0., 0., 0., 0., 0., 0., 0.,\n",
       "        0., 0., 0., 0., 0., 0., 0., 0., 0., 0., 0., 0., 0., 0.],\n",
       "       [0., 0., 0., 0., 1., 0., 0., 0., 0., 0., 0., 0., 0., 0., 0., 0.,\n",
       "        0., 0., 0., 0., 0., 0., 0., 0., 0., 0., 0., 0., 0., 0., 0., 0.,\n",
       "        0., 0., 0., 0., 0., 0., 0., 0., 0., 0., 0., 0., 0., 0.],\n",
       "       [0., 0., 0., 0., 1., 0., 0., 0., 0., 0., 0., 0., 0., 0., 0., 0.,\n",
       "        0., 0., 0., 0., 0., 0., 0., 0., 0., 0., 0., 0., 0., 0., 0., 0.,\n",
       "        0., 0., 0., 0., 0., 0., 0., 0., 0., 0., 0., 0., 0., 0.],\n",
       "       [0., 0., 0., 0., 1., 0., 0., 0., 0., 0., 0., 0., 0., 0., 0., 0.,\n",
       "        0., 0., 0., 0., 0., 0., 0., 0., 0., 0., 0., 0., 0., 0., 0., 0.,\n",
       "        0., 0., 0., 0., 0., 0., 0., 0., 0., 0., 0., 0., 0., 0.],\n",
       "       [0., 0., 0., 1., 0., 0., 0., 0., 0., 0., 0., 0., 0., 0., 0., 0.,\n",
       "        0., 0., 0., 0., 0., 0., 0., 0., 0., 0., 0., 0., 0., 0., 0., 0.,\n",
       "        0., 0., 0., 0., 0., 0., 0., 0., 0., 0., 0., 0., 0., 0.],\n",
       "       [0., 0., 0., 1., 0., 0., 0., 0., 0., 0., 0., 0., 0., 0., 0., 0.,\n",
       "        0., 0., 0., 0., 0., 0., 0., 0., 0., 0., 0., 0., 0., 0., 0., 0.,\n",
       "        0., 0., 0., 0., 0., 0., 0., 0., 0., 0., 0., 0., 0., 0.],\n",
       "       [0., 0., 0., 0., 0., 0., 0., 0., 0., 0., 0., 0., 0., 0., 0., 0.,\n",
       "        1., 0., 0., 0., 0., 0., 0., 0., 0., 0., 0., 0., 0., 0., 0., 0.,\n",
       "        0., 0., 0., 0., 0., 0., 0., 0., 0., 0., 0., 0., 0., 0.]],\n",
       "      dtype=float32)"
      ]
     },
     "execution_count": 36,
     "metadata": {},
     "output_type": "execute_result"
    }
   ],
   "source": [
    "# 카테고리 레이블은 원핫인코딩된 것 확인\n",
    "Y_train_onehot[:10]"
   ]
  },
  {
   "cell_type": "raw",
   "metadata": {},
   "source": [
    "-> 여기까지가 데이터 전처리 및 피처 벡터화 완료.\n",
    "이제 딥러닝 모델을 짜서 벡터화된 데이터를 넣고 학습을 해보자."
   ]
  },
  {
   "cell_type": "code",
   "execution_count": 37,
   "metadata": {},
   "outputs": [],
   "source": [
    "# 모델의 설정\n",
    "model = Sequential()\n",
    "model.add(Embedding(1000, 100))  # 입력 벡터: 전체 단어의 인덱스(1000), 출력 벡터: 100\n",
    "model.add(LSTM(100, activation='tanh'))     # LSTM(기사 당 단어 수=100, 옵션),  LSTM의 활성화함수로 tanh를 사용하면 성능이 좋게 나옴\n",
    "model.add(Dense(46, activation='softmax'))\n",
    "\n",
    "# 모델의 컴파일\n",
    "model.compile(loss='categorical_crossentropy',\n",
    "            optimizer='adam',\n",
    "            metrics=['accuracy'])"
   ]
  },
  {
   "cell_type": "code",
   "execution_count": 38,
   "metadata": {},
   "outputs": [],
   "source": [
    "# 자동 중단 설정\n",
    "early_stopping_callback = EarlyStopping(monitor='val_loss', patience=5)"
   ]
  },
  {
   "cell_type": "code",
   "execution_count": 39,
   "metadata": {},
   "outputs": [],
   "source": [
    "# 모델 저장 폴더 만들기\n",
    "MODEL_DIR = './model/'\n",
    "if not os.path.exists(MODEL_DIR):\n",
    "    os.mkdir(MODEL_DIR)\n",
    "\n",
    "modelpath = \"./model/{epoch:02d}_{val_loss:.4f}.hdf5\"\n",
    "\n",
    "# 모델 업데이트 및 저장\n",
    "checkpointer = ModelCheckpoint(filepath=modelpath, monitor='val_loss', verbose=1, save_best_only=True)"
   ]
  },
  {
   "cell_type": "code",
   "execution_count": 40,
   "metadata": {},
   "outputs": [
    {
     "name": "stdout",
     "output_type": "stream",
     "text": [
      "Epoch 1/10\n",
      "90/90 [==============================] - ETA: 0s - loss: 2.5777 - accuracy: 0.3497\n",
      "Epoch 00001: val_loss improved from inf to 2.16983, saving model to ./model/01_2.1698.hdf5\n",
      "90/90 [==============================] - 7s 78ms/step - loss: 2.5777 - accuracy: 0.3497 - val_loss: 2.1698 - val_accuracy: 0.4488\n",
      "Epoch 2/10\n",
      "90/90 [==============================] - ETA: 0s - loss: 2.0339 - accuracy: 0.4905\n",
      "Epoch 00002: val_loss improved from 2.16983 to 1.93382, saving model to ./model/02_1.9338.hdf5\n",
      "90/90 [==============================] - 7s 75ms/step - loss: 2.0339 - accuracy: 0.4905 - val_loss: 1.9338 - val_accuracy: 0.5009\n",
      "Epoch 3/10\n",
      "90/90 [==============================] - ETA: 0s - loss: 1.8881 - accuracy: 0.5070\n",
      "Epoch 00003: val_loss improved from 1.93382 to 1.78387, saving model to ./model/03_1.7839.hdf5\n",
      "90/90 [==============================] - 7s 76ms/step - loss: 1.8881 - accuracy: 0.5070 - val_loss: 1.7839 - val_accuracy: 0.5401\n",
      "Epoch 4/10\n",
      "90/90 [==============================] - ETA: 0s - loss: 1.7426 - accuracy: 0.5441\n",
      "Epoch 00004: val_loss did not improve from 1.78387\n",
      "90/90 [==============================] - 7s 80ms/step - loss: 1.7426 - accuracy: 0.5441 - val_loss: 1.7938 - val_accuracy: 0.5338\n",
      "Epoch 5/10\n",
      "90/90 [==============================] - ETA: 0s - loss: 1.6963 - accuracy: 0.5640\n",
      "Epoch 00005: val_loss improved from 1.78387 to 1.75726, saving model to ./model/05_1.7573.hdf5\n",
      "90/90 [==============================] - 7s 80ms/step - loss: 1.6963 - accuracy: 0.5640 - val_loss: 1.7573 - val_accuracy: 0.5597\n",
      "Epoch 6/10\n",
      "90/90 [==============================] - ETA: 0s - loss: 1.6491 - accuracy: 0.5750\n",
      "Epoch 00006: val_loss improved from 1.75726 to 1.64660, saving model to ./model/06_1.6466.hdf5\n",
      "90/90 [==============================] - 7s 81ms/step - loss: 1.6491 - accuracy: 0.5750 - val_loss: 1.6466 - val_accuracy: 0.5788\n",
      "Epoch 7/10\n",
      "90/90 [==============================] - ETA: 0s - loss: 1.5493 - accuracy: 0.6081\n",
      "Epoch 00007: val_loss improved from 1.64660 to 1.54345, saving model to ./model/07_1.5434.hdf5\n",
      "90/90 [==============================] - 7s 80ms/step - loss: 1.5493 - accuracy: 0.6081 - val_loss: 1.5434 - val_accuracy: 0.6193\n",
      "Epoch 8/10\n",
      "90/90 [==============================] - ETA: 0s - loss: 1.4484 - accuracy: 0.6319\n",
      "Epoch 00008: val_loss improved from 1.54345 to 1.51756, saving model to ./model/08_1.5176.hdf5\n",
      "90/90 [==============================] - 7s 80ms/step - loss: 1.4484 - accuracy: 0.6319 - val_loss: 1.5176 - val_accuracy: 0.6215\n",
      "Epoch 9/10\n",
      "90/90 [==============================] - ETA: 0s - loss: 1.3622 - accuracy: 0.6530\n",
      "Epoch 00009: val_loss improved from 1.51756 to 1.44431, saving model to ./model/09_1.4443.hdf5\n",
      "90/90 [==============================] - 7s 80ms/step - loss: 1.3622 - accuracy: 0.6530 - val_loss: 1.4443 - val_accuracy: 0.6367\n",
      "Epoch 10/10\n",
      "90/90 [==============================] - ETA: 0s - loss: 1.2696 - accuracy: 0.6750\n",
      "Epoch 00010: val_loss improved from 1.44431 to 1.36730, saving model to ./model/10_1.3673.hdf5\n",
      "90/90 [==============================] - 7s 81ms/step - loss: 1.2696 - accuracy: 0.6750 - val_loss: 1.3673 - val_accuracy: 0.6500\n"
     ]
    }
   ],
   "source": [
    "# 모델의 실행\n",
    "history = model.fit(X_train_pad, Y_train_onehot, batch_size=100, epochs=10, verbose=1, \\\n",
    "                    validation_data=(X_test_pad, Y_test_onehot), callbacks=[early_stopping_callback, checkpointer])"
   ]
  },
  {
   "cell_type": "code",
   "execution_count": 41,
   "metadata": {},
   "outputs": [
    {
     "name": "stdout",
     "output_type": "stream",
     "text": [
      "71/71 [==============================] - 1s 10ms/step - loss: 1.3673 - accuracy: 0.6500\n",
      "\n",
      " Test Accuracy: 0.6500\n"
     ]
    }
   ],
   "source": [
    "# 테스트 정확도 출력\n",
    "print(\"\\n Test Accuracy: %.4f\" % (model.evaluate(X_test_pad, Y_test_onehot)[1]))"
   ]
  },
  {
   "cell_type": "code",
   "execution_count": 42,
   "metadata": {},
   "outputs": [
    {
     "name": "stdout",
     "output_type": "stream",
     "text": [
      "<class 'numpy.ndarray'>\n",
      "(2246, 100)\n"
     ]
    },
    {
     "data": {
      "text/plain": [
       "array([[  5,   2,   7, ..., 510,  17,  12],\n",
       "       [652, 194,   2, ..., 760,  17,  12],\n",
       "       [ 13,  10, 139, ...,   8,  17,  12],\n",
       "       ...,\n",
       "       [  0,   0,   0, ...,  11,  17,  12],\n",
       "       [  0,   0,   0, ...,   8,  17,  12],\n",
       "       [ 47, 758,  15, ...,   2,  17,  12]], dtype=int32)"
      ]
     },
     "execution_count": 42,
     "metadata": {},
     "output_type": "execute_result"
    }
   ],
   "source": [
    "print(type(X_test_pad))\n",
    "print(X_test_pad.shape)\n",
    "X_test_pad"
   ]
  },
  {
   "cell_type": "code",
   "execution_count": 43,
   "metadata": {},
   "outputs": [],
   "source": [
    "# 검증셋의 오차 변화\n",
    "y_vloss = history.history['val_loss']\n",
    "\n",
    "# 학습셋의 오차 변화\n",
    "y_loss = history.history['loss']"
   ]
  },
  {
   "cell_type": "code",
   "execution_count": 44,
   "metadata": {},
   "outputs": [
    {
     "data": {
      "image/png": "[encoded data removed]",
      "text/plain": [
       "<Figure size 432x288 with 1 Axes>"
      ]
     },
     "metadata": {
      "needs_background": "light"
     },
     "output_type": "display_data"
    }
   ],
   "source": [
    "# 그래프로 표현\n",
    "x_len = numpy.arange(len(y_loss))\n",
    "plt.plot(x_len, y_vloss, marker='.', c=\"red\", label='validset_loss')\n",
    "plt.plot(x_len, y_loss, marker='.', c=\"blue\", label='Trainset_loss')\n",
    "plt.legend(loc='upper right')\n",
    "\n",
    "# 그래프에 그리드를 주고 레이블을 표시\n",
    "plt.grid()\n",
    "plt.xlabel('epoch')\n",
    "plt.ylabel('loss')\n",
    "plt.show()"
   ]
  },
  {
   "cell_type": "markdown",
   "metadata": {},
   "source": [
    "## 저장된 모델 불러와서 테스트 데이터로 평가"
   ]
  },
  {
   "cell_type": "code",
   "execution_count": 387,
   "metadata": {},
   "outputs": [],
   "source": [
    "# 저장해둔 모델을 새로 불러옴\n",
    "model = load_model('./model/10_1.2244.hdf5') "
   ]
  },
  {
   "cell_type": "code",
   "execution_count": 388,
   "metadata": {},
   "outputs": [
    {
     "name": "stdout",
     "output_type": "stream",
     "text": [
      "<class 'numpy.ndarray'>\n",
      "(2246, 100)\n"
     ]
    },
    {
     "data": {
      "text/plain": [
       "array([[  5,   2,   7, ..., 510,  17,  12],\n",
       "       [652, 194,   2, ..., 760,  17,  12],\n",
       "       [ 13,  10, 139, ...,   8,  17,  12],\n",
       "       ...,\n",
       "       [  0,   0,   0, ...,  11,  17,  12],\n",
       "       [  0,   0,   0, ...,   8,  17,  12],\n",
       "       [ 47, 758,  15, ...,   2,  17,  12]], dtype=int32)"
      ]
     },
     "execution_count": 388,
     "metadata": {},
     "output_type": "execute_result"
    }
   ],
   "source": [
    "print(type(X_test_pad))  # x_test_pad, Y_test_onehot\n",
    "print(X_test_pad.shape)\n",
    "X_test_pad"
   ]
  },
  {
   "cell_type": "code",
   "execution_count": 389,
   "metadata": {},
   "outputs": [
    {
     "name": "stdout",
     "output_type": "stream",
     "text": [
      "<class 'numpy.ndarray'>\n",
      "(2246, 46)\n"
     ]
    },
    {
     "data": {
      "text/plain": [
       "array([[0., 0., 0., ..., 0., 0., 0.],\n",
       "       [0., 0., 0., ..., 0., 0., 0.],\n",
       "       [0., 1., 0., ..., 0., 0., 0.],\n",
       "       ...,\n",
       "       [0., 0., 0., ..., 0., 0., 0.],\n",
       "       [0., 0., 0., ..., 0., 0., 0.],\n",
       "       [0., 0., 0., ..., 0., 0., 0.]], dtype=float32)"
      ]
     },
     "execution_count": 389,
     "metadata": {},
     "output_type": "execute_result"
    }
   ],
   "source": [
    "print(type(Y_test_onehot))\n",
    "print(Y_test_onehot.shape)\n",
    "Y_test_onehot"
   ]
  },
  {
   "cell_type": "code",
   "execution_count": 390,
   "metadata": {},
   "outputs": [
    {
     "name": "stdout",
     "output_type": "stream",
     "text": [
      "71/71 [==============================] - 1s 14ms/step - loss: 1.2244 - accuracy: 0.6955\n",
      "\n",
      " Test Accuracy: 0.6955\n"
     ]
    }
   ],
   "source": [
    "print(\"\\n Test Accuracy: %.4f\" % (model.evaluate(X_test_pad, Y_test_onehot)[1]))  # 불러온 모델로 테스트 실행"
   ]
  },
  {
   "cell_type": "code",
   "execution_count": null,
   "metadata": {},
   "outputs": [],
   "source": [
    "# 실습 과제 : 첫번째 모델을 로드해서 Test Accuracy를 계산하고,\n",
    "# 맨 마지막 모델을 로드해서 Test Accuracy를 계산하고,\n",
    "# 각각의 Accuracy 차이를 계산해보기"
   ]
  }
 ],
 "metadata": {
  "kernelspec": {
   "display_name": "Python 3",
   "language": "python",
   "name": "python3"
  },
  "language_info": {
   "codemirror_mode": {
    "name": "ipython",
    "version": 3
   },
   "file_extension": ".py",
   "mimetype": "text/x-python",
   "name": "python",
   "nbconvert_exporter": "python",
   "pygments_lexer": "ipython3",
   "version": "3.7.6"
  },
  "varInspector": {
   "cols": {
    "lenName": 16,
    "lenType": 16,
    "lenVar": 40
   },
   "kernels_config": {
    "python": {
     "delete_cmd_postfix": "",
     "delete_cmd_prefix": "del ",
     "library": "var_list.py",
     "varRefreshCmd": "print(var_dic_list())"
    },
    "r": {
     "delete_cmd_postfix": ") ",
     "delete_cmd_prefix": "rm(",
     "library": "var_list.r",
     "varRefreshCmd": "cat(var_dic_list()) "
    }
   },
   "types_to_exclude": [
    "module",
    "function",
    "builtin_function_or_method",
    "instance",
    "_Feature"
   ],
   "window_display": false
  }
 },
 "nbformat": 4,
 "nbformat_minor": 2
}
