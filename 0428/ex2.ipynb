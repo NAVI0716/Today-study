{
 "cells": [
  {
   "cell_type": "code",
   "execution_count": 1,
   "id": "4ae51459",
   "metadata": {},
   "outputs": [],
   "source": [
    "import numpy as np\n",
    "def actf(x):\n",
    "    return 1/(1+np.exp(-x))\n",
    "def d_actf(x):\n",
    "    return x*(1-x)"
   ]
  },
  {
   "cell_type": "code",
   "execution_count": 2,
   "id": "b5637801",
   "metadata": {},
   "outputs": [
    {
     "data": {
      "text/plain": [
       "array([[40, 46],\n",
       "       [76, 88]])"
      ]
     },
     "execution_count": 2,
     "metadata": {},
     "output_type": "execute_result"
    }
   ],
   "source": [
    "#y=wx+b\n",
    "w=np.array([[1,2,3],\n",
    "            [3,4,5]])\n",
    "x=np.array([[4,5],\n",
    "            [6,7],\n",
    "           [8,9]])\n",
    "w.dot(x)"
   ]
  },
  {
   "cell_type": "code",
   "execution_count": 3,
   "id": "19aa2c45",
   "metadata": {},
   "outputs": [],
   "source": [
    "X = np.array([[0,0,1],[0,1,1],[1,0,1],[1,1,1]])\n",
    "y = np.array([[0],[1],[1],[0]])\n",
    "in_n=3\n",
    "h_n=6\n",
    "out_n=1\n",
    "np.random.seed(5)\n",
    "#-1~1\n",
    "w0=2*np.random.random((in_n,h_n))-1\n",
    "w1=2*np.random.random((h_n,out_n))-1"
   ]
  },
  {
   "cell_type": "code",
   "execution_count": 4,
   "id": "8acd5430",
   "metadata": {},
   "outputs": [
    {
     "name": "stdout",
     "output_type": "stream",
     "text": [
      "[[0.44867697]\n",
      " [0.48397079]\n",
      " [0.41941189]\n",
      " [0.45527361]]\n",
      "\n",
      "[[0.49810382]\n",
      " [0.52553137]\n",
      " [0.47556608]\n",
      " [0.50256195]]\n",
      "\n",
      "[[0.46051417]\n",
      " [0.52154431]\n",
      " [0.50562375]\n",
      " [0.52060927]]\n",
      "\n",
      "[[0.02391914]\n",
      " [0.9757925 ]\n",
      " [0.97343127]\n",
      " [0.03041428]]\n"
     ]
    }
   ],
   "source": [
    "for i in range(10000):\n",
    "    l0=X\n",
    "    #순전파\n",
    "    #in*W0\n",
    "    net1 = np.dot(l0,w0)#입력의 노드값이 층으로 만들어져야한다. \n",
    "    #뉴런은 시그마 끝나면 액티비에트 펑션 거쳐야함\n",
    "    l1=actf(net1)\n",
    "    l1[:,-1] = 1\n",
    "    net2= np.dot(l1,w1)\n",
    "    l2=actf(net2)#결과\n",
    "    #역전파\n",
    "    l2_e=l2-y#출력오차\n",
    "    l2_d=l2_e*d_actf(l2)#미분(출력단의 델타값)\n",
    "    \n",
    "    l1_e = np.dot(l2_d,w1.T)#은닉오차\n",
    "    l1_d=l1_e*d_actf(l1)#미분(은닉단의 델타값)\n",
    "    #가중치 변화\n",
    "    w1 += -0.2*np.dot(l1.T,l2_d)\n",
    "    w0 += -0.2*np.dot(l0.T,l1_d)\n",
    "    #print(l2)\n",
    "    #print()\n",
    "    if i == 10:\n",
    "        print(l2)\n",
    "        print()\n",
    "    if i == 100:\n",
    "        print(l2)\n",
    "        print()\n",
    "    if i == 1000:\n",
    "        print(l2)\n",
    "        print()\n",
    "    if i == 10000:\n",
    "        print(l2)\n",
    "        print()\n",
    "        \n",
    "print(l2)"
   ]
  },
  {
   "cell_type": "code",
   "execution_count": 5,
   "id": "81eef096",
   "metadata": {},
   "outputs": [
    {
     "data": {
      "text/plain": [
       "array([[0],\n",
       "       [1],\n",
       "       [1],\n",
       "       [0]])"
      ]
     },
     "execution_count": 5,
     "metadata": {},
     "output_type": "execute_result"
    }
   ],
   "source": [
    "y"
   ]
  },
  {
   "cell_type": "code",
   "execution_count": null,
   "id": "2d700960",
   "metadata": {},
   "outputs": [],
   "source": []
  }
 ],
 "metadata": {
  "kernelspec": {
   "display_name": "Python 3 (ipykernel)",
   "language": "python",
   "name": "python3"
  },
  "language_info": {
   "codemirror_mode": {
    "name": "ipython",
    "version": 3
   },
   "file_extension": ".py",
   "mimetype": "text/x-python",
   "name": "python",
   "nbconvert_exporter": "python",
   "pygments_lexer": "ipython3",
   "version": "3.9.7"
  }
 },
 "nbformat": 4,
 "nbformat_minor": 5
}
