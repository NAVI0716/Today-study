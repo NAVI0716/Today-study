{
 "cells": [
  {
   "cell_type": "code",
   "execution_count": 36,
   "id": "2005f66e",
   "metadata": {},
   "outputs": [
    {
     "data": {
      "text/plain": [
       "(48000, 784)"
      ]
     },
     "execution_count": 36,
     "metadata": {},
     "output_type": "execute_result"
    }
   ],
   "source": [
    "import tensorflow as tf\n",
    "from tensorflow import keras\n",
    "import numpy as np\n",
    "(t_x,t_y),(tt_x,tt_y) = keras.datasets.fashion_mnist.load_data()\n",
    "s_t_x=t_x/255.0\n",
    "s_tt_x=tt_x/255.0\n",
    "s_t_x = s_t_x.reshape(-1,28*28)\n",
    "from sklearn.model_selection import train_test_split\n",
    "t_x,v_x,t_y,v_y = train_test_split(s_t_x,t_y,test_size=0.2,random_state=42)\n",
    "t_x.shape"
   ]
  },
  {
   "cell_type": "code",
   "execution_count": 2,
   "id": "e8666e17",
   "metadata": {},
   "outputs": [],
   "source": [
    "#내부  층에서 소프트맥스 사용 불가능 마지막단에서만 가능 즉 시그노이드나 relu사용\n",
    "dense1 = keras.layers.Dense(100,activation='sigmoid',input_shape=(784,))#1층 #100개의 뉴론 , 입력단 784개\n",
    "dense2 = keras.layers.Dense(10,activation='softmax')#2층  #10개선을 만든다.\n",
    "#위의 것들로 학습을 위한 모델을 만들어줘야한다.\n",
    "model = keras.Sequential([dense1,dense2])#쌓을층에 대한것을 구조로 전달/모델을 만드는 객체"
   ]
  },
  {
   "cell_type": "code",
   "execution_count": 3,
   "id": "f56b3ca4",
   "metadata": {},
   "outputs": [
    {
     "name": "stdout",
     "output_type": "stream",
     "text": [
      "Model: \"sequential\"\n",
      "_________________________________________________________________\n",
      " Layer (type)                Output Shape              Param #   \n",
      "=================================================================\n",
      " dense (Dense)               (None, 100)               78500     \n",
      "                                                                 \n",
      " dense_1 (Dense)             (None, 10)                1010      \n",
      "                                                                 \n",
      "=================================================================\n",
      "Total params: 79,510\n",
      "Trainable params: 79,510\n",
      "Non-trainable params: 0\n",
      "_________________________________________________________________\n"
     ]
    }
   ],
   "source": [
    "model.summary()"
   ]
  },
  {
   "cell_type": "markdown",
   "id": "590fb534",
   "metadata": {},
   "source": [
    "_____(100)________(10)_______(10)<br><br>\n",
    "784 -> h=784x100 -> 100x10"
   ]
  },
  {
   "cell_type": "code",
   "execution_count": 4,
   "id": "59c4a817",
   "metadata": {},
   "outputs": [
    {
     "name": "stdout",
     "output_type": "stream",
     "text": [
      "Model: \"ck\"\n",
      "_________________________________________________________________\n",
      " Layer (type)                Output Shape              Param #   \n",
      "=================================================================\n",
      " hidden (Dense)              (None, 100)               78500     \n",
      "                                                                 \n",
      " output (Dense)              (None, 10)                1010      \n",
      "                                                                 \n",
      "=================================================================\n",
      "Total params: 79,510\n",
      "Trainable params: 79,510\n",
      "Non-trainable params: 0\n",
      "_________________________________________________________________\n"
     ]
    }
   ],
   "source": [
    "model = keras.Sequential([keras.layers.Dense(100,activation='sigmoid',input_shape=(784,),name='hidden'), keras.layers.Dense(10,activation='softmax',name='output')],name='ck')\n",
    "model.summary()"
   ]
  },
  {
   "cell_type": "code",
   "execution_count": 5,
   "id": "57a91b63",
   "metadata": {},
   "outputs": [
    {
     "name": "stdout",
     "output_type": "stream",
     "text": [
      "Model: \"ck\"\n",
      "_________________________________________________________________\n",
      " Layer (type)                Output Shape              Param #   \n",
      "=================================================================\n",
      " hidden (Dense)              (None, 100)               78500     \n",
      "                                                                 \n",
      " output (Dense)              (None, 10)                1010      \n",
      "                                                                 \n",
      "=================================================================\n",
      "Total params: 79,510\n",
      "Trainable params: 79,510\n",
      "Non-trainable params: 0\n",
      "_________________________________________________________________\n"
     ]
    }
   ],
   "source": [
    "model = keras.Sequential(name='ck')\n",
    "model.add(keras.layers.Dense(100,activation='sigmoid',input_shape=(784,),name='hidden'))\n",
    "model.add(keras.layers.Dense(10,activation='softmax',name='output'))\n",
    "model.summary()\n"
   ]
  },
  {
   "cell_type": "markdown",
   "id": "bb48ee21",
   "metadata": {},
   "source": [
    "학습 방법지정"
   ]
  },
  {
   "cell_type": "code",
   "execution_count": 6,
   "id": "7e868167",
   "metadata": {},
   "outputs": [
    {
     "name": "stdout",
     "output_type": "stream",
     "text": [
      "Epoch 1/10\n",
      "1500/1500 [==============================] - 3s 2ms/step - loss: 0.5707 - accuracy: 0.8055\n",
      "Epoch 2/10\n",
      "1500/1500 [==============================] - 2s 2ms/step - loss: 0.4086 - accuracy: 0.8514\n",
      "Epoch 3/10\n",
      "1500/1500 [==============================] - 3s 2ms/step - loss: 0.3732 - accuracy: 0.8654\n",
      "Epoch 4/10\n",
      "1500/1500 [==============================] - 3s 2ms/step - loss: 0.3508 - accuracy: 0.8723\n",
      "Epoch 5/10\n",
      "1500/1500 [==============================] - 3s 2ms/step - loss: 0.3336 - accuracy: 0.8796\n",
      "Epoch 6/10\n",
      "1500/1500 [==============================] - 3s 2ms/step - loss: 0.3197 - accuracy: 0.8835\n",
      "Epoch 7/10\n",
      "1500/1500 [==============================] - 3s 2ms/step - loss: 0.3076 - accuracy: 0.8881\n",
      "Epoch 8/10\n",
      "1500/1500 [==============================] - 3s 2ms/step - loss: 0.2969 - accuracy: 0.8926\n",
      "Epoch 9/10\n",
      "1500/1500 [==============================] - 3s 2ms/step - loss: 0.2890 - accuracy: 0.8944\n",
      "Epoch 10/10\n",
      "1500/1500 [==============================] - 3s 2ms/step - loss: 0.2811 - accuracy: 0.8977\n"
     ]
    },
    {
     "data": {
      "text/plain": [
       "<keras.callbacks.History at 0x1e7b1ea5d00>"
      ]
     },
     "execution_count": 6,
     "metadata": {},
     "output_type": "execute_result"
    }
   ],
   "source": [
    "model.compile(loss='sparse_categorical_crossentropy',metrics='accuracy')\n",
    "model.fit(t_x,t_y,epochs=10)"
   ]
  },
  {
   "cell_type": "code",
   "execution_count": 7,
   "id": "ee1e18e3",
   "metadata": {},
   "outputs": [
    {
     "name": "stdout",
     "output_type": "stream",
     "text": [
      "Model: \"ck\"\n",
      "_________________________________________________________________\n",
      " Layer (type)                Output Shape              Param #   \n",
      "=================================================================\n",
      " flatten (Flatten)           (None, 784)               0         \n",
      "                                                                 \n",
      " hidden (Dense)              (None, 100)               78500     \n",
      "                                                                 \n",
      " output (Dense)              (None, 10)                1010      \n",
      "                                                                 \n",
      "=================================================================\n",
      "Total params: 79,510\n",
      "Trainable params: 79,510\n",
      "Non-trainable params: 0\n",
      "_________________________________________________________________\n"
     ]
    }
   ],
   "source": [
    "model = keras.Sequential(name='ck')\n",
    "model.add(keras.layers.Flatten(input_shape=(28,28)))\n",
    "model.add(keras.layers.Dense(100,activation='relu',name='hidden'))\n",
    "model.add(keras.layers.Dense(10,activation='softmax',name='output'))#이진분류에서 시그모이드는 확률 / 소프트맥스는 범주화해서 분류\n",
    "model.summary()\n"
   ]
  },
  {
   "cell_type": "code",
   "execution_count": 8,
   "id": "467fc62f",
   "metadata": {},
   "outputs": [
    {
     "data": {
      "text/plain": [
       "(48000, 28, 28)"
      ]
     },
     "execution_count": 8,
     "metadata": {},
     "output_type": "execute_result"
    }
   ],
   "source": [
    "#reshape. 하기전값\n",
    "(t_x,t_y),(tt_x,tt_y) = keras.datasets.fashion_mnist.load_data()\n",
    "s_t_x=t_x/255.0\n",
    "t_x,v_x,t_y,v_y = train_test_split(s_t_x,t_y,test_size=0.2,random_state=42)\n",
    "t_x.shape"
   ]
  },
  {
   "cell_type": "code",
   "execution_count": 9,
   "id": "cbbb730e",
   "metadata": {},
   "outputs": [
    {
     "name": "stdout",
     "output_type": "stream",
     "text": [
      "Epoch 1/15\n",
      "1500/1500 [==============================] - 3s 2ms/step - loss: 0.5372 - accuracy: 0.8098\n",
      "Epoch 2/15\n",
      "1500/1500 [==============================] - 3s 2ms/step - loss: 0.3939 - accuracy: 0.8594\n",
      "Epoch 3/15\n",
      "1500/1500 [==============================] - 2s 2ms/step - loss: 0.3550 - accuracy: 0.8720\n",
      "Epoch 4/15\n",
      "1500/1500 [==============================] - 3s 2ms/step - loss: 0.3316 - accuracy: 0.8817\n",
      "Epoch 5/15\n",
      "1500/1500 [==============================] - 3s 2ms/step - loss: 0.3177 - accuracy: 0.8872\n",
      "Epoch 6/15\n",
      "1500/1500 [==============================] - 3s 2ms/step - loss: 0.3070 - accuracy: 0.8905\n",
      "Epoch 7/15\n",
      "1500/1500 [==============================] - 3s 2ms/step - loss: 0.2960 - accuracy: 0.8943\n",
      "Epoch 8/15\n",
      "1500/1500 [==============================] - 3s 2ms/step - loss: 0.2876 - accuracy: 0.8978\n",
      "Epoch 9/15\n",
      "1500/1500 [==============================] - 3s 2ms/step - loss: 0.2831 - accuracy: 0.9001\n",
      "Epoch 10/15\n",
      "1500/1500 [==============================] - 3s 2ms/step - loss: 0.2753 - accuracy: 0.9030\n",
      "Epoch 11/15\n",
      "1500/1500 [==============================] - 3s 2ms/step - loss: 0.2704 - accuracy: 0.9041\n",
      "Epoch 12/15\n",
      "1500/1500 [==============================] - 2s 2ms/step - loss: 0.2665 - accuracy: 0.9071\n",
      "Epoch 13/15\n",
      "1500/1500 [==============================] - 3s 2ms/step - loss: 0.2616 - accuracy: 0.9101\n",
      "Epoch 14/15\n",
      "1500/1500 [==============================] - 3s 2ms/step - loss: 0.2564 - accuracy: 0.9119\n",
      "Epoch 15/15\n",
      "1500/1500 [==============================] - 3s 2ms/step - loss: 0.2518 - accuracy: 0.9133\n"
     ]
    },
    {
     "data": {
      "text/plain": [
       "<keras.callbacks.History at 0x1e7b21ede50>"
      ]
     },
     "execution_count": 9,
     "metadata": {},
     "output_type": "execute_result"
    }
   ],
   "source": [
    "model.compile(loss='sparse_categorical_crossentropy',metrics='accuracy')\n",
    "model.fit(t_x,t_y,epochs=15)"
   ]
  },
  {
   "cell_type": "code",
   "execution_count": 10,
   "id": "6673d5a7",
   "metadata": {},
   "outputs": [
    {
     "name": "stdout",
     "output_type": "stream",
     "text": [
      "375/375 [==============================] - 1s 1ms/step - loss: 0.4418 - accuracy: 0.8749\n"
     ]
    },
    {
     "data": {
      "text/plain": [
       "[0.4417593479156494, 0.874916672706604]"
      ]
     },
     "execution_count": 10,
     "metadata": {},
     "output_type": "execute_result"
    }
   ],
   "source": [
    "model.evaluate(v_x,v_y)"
   ]
  },
  {
   "cell_type": "code",
   "execution_count": 11,
   "id": "46dc7622",
   "metadata": {},
   "outputs": [],
   "source": [
    "model.compile(optimizer='sgd',loss='sparse_categorical_crossentropy',metrics='accuracy')#accuracy':정확도\n",
    "#crossentropy:오차/optimizer='sgd': 기울기값 0 \n",
    "#그라디언트 기울기는 학습률 러닝메이트로 조절가능\n",
    "#모멘텀은 가속도에 의해 넘어가는 방식"
   ]
  },
  {
   "cell_type": "code",
   "execution_count": 12,
   "id": "c717ca84",
   "metadata": {},
   "outputs": [],
   "source": [
    "sgd=keras.optimizers.SGD(learning_rate=0.1)#내가원하는방식으로 가중치 조절해서 옵티마이져 조절\n",
    "model.compile(optimizer='sgd',loss='sparse_categorical_crossentropy',metrics='accuracy')"
   ]
  },
  {
   "cell_type": "code",
   "execution_count": 13,
   "id": "4d0c9c23",
   "metadata": {},
   "outputs": [
    {
     "ename": "TypeError",
     "evalue": "'module' object is not callable",
     "output_type": "error",
     "traceback": [
      "\u001b[1;31m---------------------------------------------------------------------------\u001b[0m",
      "\u001b[1;31mTypeError\u001b[0m                                 Traceback (most recent call last)",
      "\u001b[1;32m~\\AppData\\Local\\Temp/ipykernel_23440/1455249790.py\u001b[0m in \u001b[0;36m<module>\u001b[1;34m\u001b[0m\n\u001b[1;32m----> 1\u001b[1;33m \u001b[0msgd\u001b[0m\u001b[1;33m=\u001b[0m\u001b[0mkeras\u001b[0m\u001b[1;33m.\u001b[0m\u001b[0moptimizers\u001b[0m\u001b[1;33m(\u001b[0m\u001b[0mmomentum\u001b[0m\u001b[1;33m=\u001b[0m\u001b[1;36m0.9\u001b[0m\u001b[1;33m,\u001b[0m\u001b[0mnesterov\u001b[0m\u001b[1;33m=\u001b[0m\u001b[1;32mTrue\u001b[0m\u001b[1;33m)\u001b[0m\u001b[1;33m\u001b[0m\u001b[1;33m\u001b[0m\u001b[0m\n\u001b[0m",
      "\u001b[1;31mTypeError\u001b[0m: 'module' object is not callable"
     ]
    }
   ],
   "source": [
    "sgd=keras.optimizers(momentum=0.9,nesterov=True)"
   ]
  },
  {
   "cell_type": "code",
   "execution_count": 14,
   "id": "6d61c7d1",
   "metadata": {},
   "outputs": [
    {
     "data": {
      "text/plain": [
       "keras.optimizer_v2.rmsprop.RMSprop"
      ]
     },
     "execution_count": 14,
     "metadata": {},
     "output_type": "execute_result"
    }
   ],
   "source": [
    "keras.optimizers.RMSprop"
   ]
  },
  {
   "cell_type": "code",
   "execution_count": 15,
   "id": "e48011b5",
   "metadata": {},
   "outputs": [
    {
     "data": {
      "text/plain": [
       "keras.optimizer_v2.adagrad.Adagrad"
      ]
     },
     "execution_count": 15,
     "metadata": {},
     "output_type": "execute_result"
    }
   ],
   "source": [
    "keras.optimizers.Adagrad"
   ]
  },
  {
   "cell_type": "code",
   "execution_count": 16,
   "id": "4687a6f2",
   "metadata": {},
   "outputs": [
    {
     "name": "stdout",
     "output_type": "stream",
     "text": [
      "Model: \"ck\"\n",
      "_________________________________________________________________\n",
      " Layer (type)                Output Shape              Param #   \n",
      "=================================================================\n",
      " flatten_1 (Flatten)         (None, 784)               0         \n",
      "                                                                 \n",
      " hidden (Dense)              (None, 100)               78500     \n",
      "                                                                 \n",
      " output (Dense)              (None, 10)                1010      \n",
      "                                                                 \n",
      "=================================================================\n",
      "Total params: 79,510\n",
      "Trainable params: 79,510\n",
      "Non-trainable params: 0\n",
      "_________________________________________________________________\n",
      "Epoch 1/5\n",
      "1500/1500 [==============================] - 3s 2ms/step - loss: 0.5238 - accuracy: 0.8170\n",
      "Epoch 2/5\n",
      "1500/1500 [==============================] - 2s 2ms/step - loss: 0.3910 - accuracy: 0.8615\n",
      "Epoch 3/5\n",
      "1500/1500 [==============================] - 2s 1ms/step - loss: 0.3521 - accuracy: 0.8721\n",
      "Epoch 4/5\n",
      "1500/1500 [==============================] - 2s 1ms/step - loss: 0.3249 - accuracy: 0.8806\n",
      "Epoch 5/5\n",
      "1500/1500 [==============================] - 2s 2ms/step - loss: 0.3061 - accuracy: 0.8879\n"
     ]
    },
    {
     "data": {
      "text/plain": [
       "<keras.callbacks.History at 0x1e7cb472e20>"
      ]
     },
     "execution_count": 16,
     "metadata": {},
     "output_type": "execute_result"
    }
   ],
   "source": [
    "model1 = keras.Sequential(name='ck')\n",
    "model1.add(keras.layers.Flatten(input_shape=(28,28)))\n",
    "model1.add(keras.layers.Dense(100,activation='relu',name='hidden'))\n",
    "model1.add(keras.layers.Dense(10,activation='softmax',name='output'))#이진분류에서 시그모이드는 확률 / 소프트맥스는 범주화해서 분류\n",
    "model1.summary()\n",
    "model1.compile(optimizer='adam',loss='sparse_categorical_crossentropy',metrics='accuracy')\n",
    "model1.fit(t_x,t_y,epochs=5)"
   ]
  },
  {
   "cell_type": "code",
   "execution_count": 17,
   "id": "1f5a2ca7",
   "metadata": {},
   "outputs": [
    {
     "name": "stdout",
     "output_type": "stream",
     "text": [
      "375/375 [==============================] - 1s 1ms/step - loss: 0.4418 - accuracy: 0.8749\n",
      "375/375 [==============================] - 1s 1ms/step - loss: 0.3545 - accuracy: 0.8708\n"
     ]
    },
    {
     "data": {
      "text/plain": [
       "([0.4417593479156494, 0.874916672706604],\n",
       " [0.3545064628124237, 0.8707500100135803])"
      ]
     },
     "execution_count": 17,
     "metadata": {},
     "output_type": "execute_result"
    }
   ],
   "source": [
    "model.evaluate(v_x,v_y),model1.evaluate(v_x,v_y)"
   ]
  },
  {
   "cell_type": "markdown",
   "id": "8288cc20",
   "metadata": {},
   "source": [
    "data 확인"
   ]
  },
  {
   "cell_type": "code",
   "execution_count": 18,
   "id": "3009c5a8",
   "metadata": {},
   "outputs": [
    {
     "data": {
      "text/plain": [
       "(48000, 28, 28)"
      ]
     },
     "execution_count": 18,
     "metadata": {},
     "output_type": "execute_result"
    }
   ],
   "source": [
    "t_x.shape"
   ]
  },
  {
   "cell_type": "markdown",
   "id": "97a8ce93",
   "metadata": {},
   "source": [
    "모델생성"
   ]
  },
  {
   "cell_type": "code",
   "execution_count": 19,
   "id": "069c60c3",
   "metadata": {},
   "outputs": [
    {
     "name": "stdout",
     "output_type": "stream",
     "text": [
      "Model: \"sequential_1\"\n",
      "_________________________________________________________________\n",
      " Layer (type)                Output Shape              Param #   \n",
      "=================================================================\n",
      " flatten_2 (Flatten)         (None, 784)               0         \n",
      "                                                                 \n",
      " dense_2 (Dense)             (None, 100)               78500     \n",
      "                                                                 \n",
      " dense_3 (Dense)             (None, 300)               30300     \n",
      "                                                                 \n",
      " dense_4 (Dense)             (None, 10)                3010      \n",
      "                                                                 \n",
      "=================================================================\n",
      "Total params: 111,810\n",
      "Trainable params: 111,810\n",
      "Non-trainable params: 0\n",
      "_________________________________________________________________\n"
     ]
    }
   ],
   "source": [
    "m1=keras.Sequential()#모델생성객체\n",
    "m1.add(keras.layers.Flatten(input_shape=(28,28)))#입력단 레이어층\n",
    "m1.add(keras.layers.Dense(100,activation='relu'))#dense 데이터 모양(뉴련의 갯수)\n",
    "m1.add(keras.layers.Dense(300,activation='relu'))\n",
    "m1.add(keras.layers.Dense(10,activation='softmax'))\n",
    "m1.summary()"
   ]
  },
  {
   "cell_type": "code",
   "execution_count": 20,
   "id": "5b2433e7",
   "metadata": {},
   "outputs": [
    {
     "name": "stdout",
     "output_type": "stream",
     "text": [
      "Epoch 1/30\n",
      "1500/1500 [==============================] - 4s 2ms/step - loss: 0.5090 - accuracy: 0.8155 - val_loss: 0.3913 - val_accuracy: 0.8553\n",
      "Epoch 2/30\n",
      "1500/1500 [==============================] - 3s 2ms/step - loss: 0.3739 - accuracy: 0.8626 - val_loss: 0.3995 - val_accuracy: 0.8593\n",
      "Epoch 3/30\n",
      "1500/1500 [==============================] - 3s 2ms/step - loss: 0.3337 - accuracy: 0.8752 - val_loss: 0.3449 - val_accuracy: 0.8748\n",
      "Epoch 4/30\n",
      "1500/1500 [==============================] - 3s 2ms/step - loss: 0.3113 - accuracy: 0.8841 - val_loss: 0.3353 - val_accuracy: 0.8798\n",
      "Epoch 5/30\n",
      "1500/1500 [==============================] - 3s 2ms/step - loss: 0.2920 - accuracy: 0.8895 - val_loss: 0.3255 - val_accuracy: 0.8813\n",
      "Epoch 6/30\n",
      "1500/1500 [==============================] - 3s 2ms/step - loss: 0.2780 - accuracy: 0.8946 - val_loss: 0.3372 - val_accuracy: 0.8799\n",
      "Epoch 7/30\n",
      "1500/1500 [==============================] - 3s 2ms/step - loss: 0.2649 - accuracy: 0.8995 - val_loss: 0.3377 - val_accuracy: 0.8808\n",
      "Epoch 8/30\n",
      "1500/1500 [==============================] - 3s 2ms/step - loss: 0.2508 - accuracy: 0.9051 - val_loss: 0.3330 - val_accuracy: 0.8854\n",
      "Epoch 9/30\n",
      "1500/1500 [==============================] - 3s 2ms/step - loss: 0.2438 - accuracy: 0.9074 - val_loss: 0.3314 - val_accuracy: 0.8845\n",
      "Epoch 10/30\n",
      "1500/1500 [==============================] - 3s 2ms/step - loss: 0.2324 - accuracy: 0.9112 - val_loss: 0.3565 - val_accuracy: 0.8754\n",
      "Epoch 11/30\n",
      "1500/1500 [==============================] - 3s 2ms/step - loss: 0.2235 - accuracy: 0.9149 - val_loss: 0.3341 - val_accuracy: 0.8850\n",
      "Epoch 12/30\n",
      "1500/1500 [==============================] - 3s 2ms/step - loss: 0.2145 - accuracy: 0.9186 - val_loss: 0.3760 - val_accuracy: 0.8801\n",
      "Epoch 13/30\n",
      "1500/1500 [==============================] - 3s 2ms/step - loss: 0.2112 - accuracy: 0.9198 - val_loss: 0.3494 - val_accuracy: 0.8827\n",
      "Epoch 14/30\n",
      "1500/1500 [==============================] - 3s 2ms/step - loss: 0.2007 - accuracy: 0.9225 - val_loss: 0.3405 - val_accuracy: 0.8916\n",
      "Epoch 15/30\n",
      "1500/1500 [==============================] - 3s 2ms/step - loss: 0.1940 - accuracy: 0.9261 - val_loss: 0.3510 - val_accuracy: 0.8897\n",
      "Epoch 16/30\n",
      "1500/1500 [==============================] - 3s 2ms/step - loss: 0.1871 - accuracy: 0.9274 - val_loss: 0.3396 - val_accuracy: 0.8915\n",
      "Epoch 17/30\n",
      "1500/1500 [==============================] - 3s 2ms/step - loss: 0.1820 - accuracy: 0.9304 - val_loss: 0.3694 - val_accuracy: 0.8913\n",
      "Epoch 18/30\n",
      "1500/1500 [==============================] - 3s 2ms/step - loss: 0.1750 - accuracy: 0.9322 - val_loss: 0.3822 - val_accuracy: 0.8861\n",
      "Epoch 19/30\n",
      "1500/1500 [==============================] - 3s 2ms/step - loss: 0.1700 - accuracy: 0.9351 - val_loss: 0.3583 - val_accuracy: 0.8907\n",
      "Epoch 20/30\n",
      "1500/1500 [==============================] - 3s 2ms/step - loss: 0.1631 - accuracy: 0.9372 - val_loss: 0.3759 - val_accuracy: 0.8910\n",
      "Epoch 21/30\n",
      "1500/1500 [==============================] - 3s 2ms/step - loss: 0.1608 - accuracy: 0.9389 - val_loss: 0.3994 - val_accuracy: 0.8878\n",
      "Epoch 22/30\n",
      "1500/1500 [==============================] - 3s 2ms/step - loss: 0.1541 - accuracy: 0.9405 - val_loss: 0.3894 - val_accuracy: 0.8886\n",
      "Epoch 23/30\n",
      "1500/1500 [==============================] - 3s 2ms/step - loss: 0.1497 - accuracy: 0.9417 - val_loss: 0.4116 - val_accuracy: 0.8907\n",
      "Epoch 24/30\n",
      "1500/1500 [==============================] - 3s 2ms/step - loss: 0.1451 - accuracy: 0.9439 - val_loss: 0.4196 - val_accuracy: 0.8918\n",
      "Epoch 25/30\n",
      "1500/1500 [==============================] - 3s 2ms/step - loss: 0.1425 - accuracy: 0.9447 - val_loss: 0.3917 - val_accuracy: 0.8940\n",
      "Epoch 26/30\n",
      "1500/1500 [==============================] - 3s 2ms/step - loss: 0.1355 - accuracy: 0.9487 - val_loss: 0.3968 - val_accuracy: 0.8957\n",
      "Epoch 27/30\n",
      "1500/1500 [==============================] - 3s 2ms/step - loss: 0.1318 - accuracy: 0.9485 - val_loss: 0.4430 - val_accuracy: 0.8914\n",
      "Epoch 28/30\n",
      "1500/1500 [==============================] - 3s 2ms/step - loss: 0.1293 - accuracy: 0.9498 - val_loss: 0.4359 - val_accuracy: 0.8942\n",
      "Epoch 29/30\n",
      "1500/1500 [==============================] - 3s 2ms/step - loss: 0.1259 - accuracy: 0.9520 - val_loss: 0.4463 - val_accuracy: 0.8891\n",
      "Epoch 30/30\n",
      "1500/1500 [==============================] - 3s 2ms/step - loss: 0.1227 - accuracy: 0.9537 - val_loss: 0.4563 - val_accuracy: 0.8917\n"
     ]
    }
   ],
   "source": [
    "m1.compile(optimizer='adam',loss='sparse_categorical_crossentropy',metrics='accuracy')\n",
    "history=m1.fit(t_x,t_y,epochs=30,validation_data=(v_x,v_y))"
   ]
  },
  {
   "cell_type": "code",
   "execution_count": 21,
   "id": "55b979b4",
   "metadata": {},
   "outputs": [
    {
     "data": {
      "text/plain": [
       "{'verbose': 1, 'epochs': 30, 'steps': 1500}"
      ]
     },
     "execution_count": 21,
     "metadata": {},
     "output_type": "execute_result"
    }
   ],
   "source": [
    "history.params"
   ]
  },
  {
   "cell_type": "code",
   "execution_count": 22,
   "id": "5c7ff040",
   "metadata": {},
   "outputs": [
    {
     "data": {
      "text/plain": [
       "dict_keys(['loss', 'accuracy', 'val_loss', 'val_accuracy'])"
      ]
     },
     "execution_count": 22,
     "metadata": {},
     "output_type": "execute_result"
    }
   ],
   "source": [
    "history.history.keys()"
   ]
  },
  {
   "cell_type": "code",
   "execution_count": 23,
   "id": "0edfb236",
   "metadata": {},
   "outputs": [
    {
     "data": {
      "text/plain": [
       "(0.0, 1.0)"
      ]
     },
     "execution_count": 23,
     "metadata": {},
     "output_type": "execute_result"
    },
    {
     "data": {
      "image/png": "[encoded data removed]",
      "text/plain": [
       "<Figure size 576x360 with 1 Axes>"
      ]
     },
     "metadata": {
      "needs_background": "light"
     },
     "output_type": "display_data"
    }
   ],
   "source": [
    "import pandas as pd\n",
    "import matplotlib.pyplot as plt\n",
    "pd.DataFrame(history.history).plot(figsize=(8,5))\n",
    "plt.grid(True)#격자무늬\n",
    "plt.gca().set_ylim(0,1)"
   ]
  },
  {
   "cell_type": "code",
   "execution_count": 24,
   "id": "8086b998",
   "metadata": {},
   "outputs": [
    {
     "name": "stdout",
     "output_type": "stream",
     "text": [
      "Model: \"sequential_2\"\n",
      "_________________________________________________________________\n",
      " Layer (type)                Output Shape              Param #   \n",
      "=================================================================\n",
      " flatten_3 (Flatten)         (None, 784)               0         \n",
      "                                                                 \n",
      " dense_5 (Dense)             (None, 300)               235500    \n",
      "                                                                 \n",
      " dense_6 (Dense)             (None, 100)               30100     \n",
      "                                                                 \n",
      " dense_7 (Dense)             (None, 10)                1010      \n",
      "                                                                 \n",
      "=================================================================\n",
      "Total params: 266,610\n",
      "Trainable params: 266,610\n",
      "Non-trainable params: 0\n",
      "_________________________________________________________________\n"
     ]
    }
   ],
   "source": [
    "m2=keras.Sequential()#모델생성객체\n",
    "m2.add(keras.layers.Flatten(input_shape=(28,28)))#입력단 레이어층\n",
    "m2.add(keras.layers.Dense(300,activation='relu'))#dense 데이터 모양(뉴련의 갯수)\n",
    "m2.add(keras.layers.Dense(100,activation='relu'))\n",
    "m2.add(keras.layers.Dense(10,activation='softmax'))\n",
    "m2.summary()"
   ]
  },
  {
   "cell_type": "code",
   "execution_count": 31,
   "id": "e20f4bd4",
   "metadata": {},
   "outputs": [
    {
     "name": "stdout",
     "output_type": "stream",
     "text": [
      "Epoch 1/20\n",
      "1500/1500 [==============================] - 5s 3ms/step - loss: 0.4957 - accuracy: 0.8188 - val_loss: 0.3890 - val_accuracy: 0.8568\n",
      "Epoch 2/20\n",
      "1500/1500 [==============================] - 4s 3ms/step - loss: 0.3681 - accuracy: 0.8651 - val_loss: 0.3703 - val_accuracy: 0.8667\n",
      "Epoch 3/20\n",
      "1500/1500 [==============================] - 4s 3ms/step - loss: 0.3299 - accuracy: 0.8782 - val_loss: 0.3455 - val_accuracy: 0.8752\n",
      "Epoch 4/20\n",
      "1500/1500 [==============================] - 4s 3ms/step - loss: 0.3086 - accuracy: 0.8857 - val_loss: 0.3395 - val_accuracy: 0.8712\n",
      "Epoch 5/20\n",
      "1500/1500 [==============================] - 4s 3ms/step - loss: 0.2873 - accuracy: 0.8927 - val_loss: 0.3411 - val_accuracy: 0.8774\n",
      "Epoch 6/20\n",
      "1500/1500 [==============================] - 4s 3ms/step - loss: 0.2726 - accuracy: 0.8994 - val_loss: 0.3226 - val_accuracy: 0.8870\n",
      "Epoch 7/20\n",
      "1500/1500 [==============================] - 4s 3ms/step - loss: 0.2595 - accuracy: 0.9020 - val_loss: 0.3179 - val_accuracy: 0.8838\n",
      "Epoch 8/20\n",
      "1500/1500 [==============================] - 4s 3ms/step - loss: 0.2478 - accuracy: 0.9064 - val_loss: 0.3209 - val_accuracy: 0.8878\n",
      "Epoch 9/20\n",
      "1500/1500 [==============================] - 4s 3ms/step - loss: 0.2351 - accuracy: 0.9113 - val_loss: 0.3183 - val_accuracy: 0.8889\n",
      "Epoch 10/20\n",
      "1500/1500 [==============================] - 4s 3ms/step - loss: 0.2275 - accuracy: 0.9147 - val_loss: 0.3184 - val_accuracy: 0.8884\n",
      "Epoch 11/20\n",
      "1500/1500 [==============================] - 4s 3ms/step - loss: 0.2179 - accuracy: 0.9169 - val_loss: 0.3343 - val_accuracy: 0.8847\n",
      "Epoch 12/20\n",
      "1500/1500 [==============================] - 4s 3ms/step - loss: 0.2106 - accuracy: 0.9208 - val_loss: 0.3629 - val_accuracy: 0.8773\n",
      "Epoch 13/20\n",
      "1500/1500 [==============================] - 4s 2ms/step - loss: 0.2026 - accuracy: 0.9228 - val_loss: 0.3464 - val_accuracy: 0.8869\n",
      "Epoch 14/20\n",
      "1500/1500 [==============================] - 4s 3ms/step - loss: 0.1937 - accuracy: 0.9251 - val_loss: 0.3371 - val_accuracy: 0.8918\n",
      "Epoch 15/20\n",
      "1500/1500 [==============================] - 4s 3ms/step - loss: 0.1893 - accuracy: 0.9279 - val_loss: 0.3562 - val_accuracy: 0.8880\n",
      "Epoch 16/20\n",
      "1500/1500 [==============================] - 4s 3ms/step - loss: 0.1845 - accuracy: 0.9297 - val_loss: 0.3617 - val_accuracy: 0.8895\n",
      "Epoch 17/20\n",
      "1500/1500 [==============================] - 4s 3ms/step - loss: 0.1740 - accuracy: 0.9332 - val_loss: 0.3911 - val_accuracy: 0.8808\n",
      "Epoch 18/20\n",
      "1500/1500 [==============================] - 4s 3ms/step - loss: 0.1730 - accuracy: 0.9355 - val_loss: 0.3624 - val_accuracy: 0.8935\n",
      "Epoch 19/20\n",
      "1500/1500 [==============================] - 4s 3ms/step - loss: 0.1643 - accuracy: 0.9378 - val_loss: 0.3675 - val_accuracy: 0.8847\n",
      "Epoch 20/20\n",
      "1500/1500 [==============================] - 4s 3ms/step - loss: 0.1631 - accuracy: 0.9379 - val_loss: 0.3724 - val_accuracy: 0.8892\n"
     ]
    }
   ],
   "source": [
    "m2.compile(optimizer='adam',loss='sparse_categorical_crossentropy',metrics='accuracy')\n",
    "history1=m2.fit(t_x,t_y,epochs=20,validation_data=(v_x,v_y))"
   ]
  },
  {
   "cell_type": "code",
   "execution_count": 32,
   "id": "4f4a356e",
   "metadata": {},
   "outputs": [
    {
     "data": {
      "text/plain": [
       "(0.0, 1.0)"
      ]
     },
     "execution_count": 32,
     "metadata": {},
     "output_type": "execute_result"
    },
    {
     "data": {
      "image/png": "[encoded data removed]",
      "text/plain": [
       "<Figure size 576x360 with 1 Axes>"
      ]
     },
     "metadata": {
      "needs_background": "light"
     },
     "output_type": "display_data"
    }
   ],
   "source": [
    "import pandas as pd\n",
    "import matplotlib.pyplot as plt\n",
    "pd.DataFrame(history1.history).plot(figsize=(8,5))\n",
    "plt.gca().set_ylim(0,1)"
   ]
  },
  {
   "cell_type": "code",
   "execution_count": 28,
   "id": "8cb7e5f6",
   "metadata": {},
   "outputs": [
    {
     "name": "stdout",
     "output_type": "stream",
     "text": [
      "Model: \"sequential_3\"\n",
      "_________________________________________________________________\n",
      " Layer (type)                Output Shape              Param #   \n",
      "=================================================================\n",
      " flatten_4 (Flatten)         (None, 784)               0         \n",
      "                                                                 \n",
      " dense_8 (Dense)             (None, 300)               235500    \n",
      "                                                                 \n",
      " dense_9 (Dense)             (None, 100)               30100     \n",
      "                                                                 \n",
      " dense_10 (Dense)            (None, 10)                1010      \n",
      "                                                                 \n",
      "=================================================================\n",
      "Total params: 266,610\n",
      "Trainable params: 266,610\n",
      "Non-trainable params: 0\n",
      "_________________________________________________________________\n"
     ]
    }
   ],
   "source": [
    "m3=keras.Sequential()#모델생성객체\n",
    "m3.add(keras.layers.Flatten(input_shape=(28,28)))#입력단 레이어층\n",
    "m3.add(keras.layers.Dense(300,activation='relu'))#dense 데이터 모양(뉴련의 갯수)\n",
    "m3.add(keras.layers.Dense(100,activation='relu'))\n",
    "m3.add(keras.layers.Dense(10,activation='softmax'))\n",
    "m3.summary()"
   ]
  },
  {
   "cell_type": "code",
   "execution_count": 29,
   "id": "604ddbde",
   "metadata": {},
   "outputs": [
    {
     "name": "stdout",
     "output_type": "stream",
     "text": [
      "Epoch 1/20\n",
      "1500/1500 [==============================] - 5s 3ms/step - loss: 0.7390 - accuracy: 0.7600 - val_loss: 0.5430 - val_accuracy: 0.8101\n",
      "Epoch 2/20\n",
      "1500/1500 [==============================] - 4s 3ms/step - loss: 0.4990 - accuracy: 0.8275 - val_loss: 0.4876 - val_accuracy: 0.8253\n",
      "Epoch 3/20\n",
      "1500/1500 [==============================] - 4s 2ms/step - loss: 0.4564 - accuracy: 0.8411 - val_loss: 0.4919 - val_accuracy: 0.8255\n",
      "Epoch 4/20\n",
      "1500/1500 [==============================] - 4s 2ms/step - loss: 0.4281 - accuracy: 0.8494 - val_loss: 0.4402 - val_accuracy: 0.8437\n",
      "Epoch 5/20\n",
      "1500/1500 [==============================] - 4s 2ms/step - loss: 0.4085 - accuracy: 0.8563 - val_loss: 0.4085 - val_accuracy: 0.8580\n",
      "Epoch 6/20\n",
      "1500/1500 [==============================] - 4s 2ms/step - loss: 0.3916 - accuracy: 0.8618 - val_loss: 0.3882 - val_accuracy: 0.8649\n",
      "Epoch 7/20\n",
      "1500/1500 [==============================] - 4s 3ms/step - loss: 0.3780 - accuracy: 0.8675 - val_loss: 0.3924 - val_accuracy: 0.8597\n",
      "Epoch 8/20\n",
      "1500/1500 [==============================] - 4s 2ms/step - loss: 0.3650 - accuracy: 0.8716 - val_loss: 0.3735 - val_accuracy: 0.8682\n",
      "Epoch 9/20\n",
      "1500/1500 [==============================] - 4s 2ms/step - loss: 0.3539 - accuracy: 0.8740 - val_loss: 0.3770 - val_accuracy: 0.8666\n",
      "Epoch 10/20\n",
      "1500/1500 [==============================] - 3s 2ms/step - loss: 0.3442 - accuracy: 0.8773 - val_loss: 0.3645 - val_accuracy: 0.8709\n",
      "Epoch 11/20\n",
      "1500/1500 [==============================] - 3s 2ms/step - loss: 0.3354 - accuracy: 0.8802 - val_loss: 0.3570 - val_accuracy: 0.8733\n",
      "Epoch 12/20\n",
      "1500/1500 [==============================] - 4s 2ms/step - loss: 0.3274 - accuracy: 0.8826 - val_loss: 0.3611 - val_accuracy: 0.8724\n",
      "Epoch 13/20\n",
      "1500/1500 [==============================] - 3s 2ms/step - loss: 0.3194 - accuracy: 0.8847 - val_loss: 0.3447 - val_accuracy: 0.8769\n",
      "Epoch 14/20\n",
      "1500/1500 [==============================] - 4s 2ms/step - loss: 0.3116 - accuracy: 0.8884 - val_loss: 0.3393 - val_accuracy: 0.8792\n",
      "Epoch 15/20\n",
      "1500/1500 [==============================] - 3s 2ms/step - loss: 0.3049 - accuracy: 0.8904 - val_loss: 0.3527 - val_accuracy: 0.8744\n",
      "Epoch 16/20\n",
      "1500/1500 [==============================] - 3s 2ms/step - loss: 0.2990 - accuracy: 0.8909 - val_loss: 0.3339 - val_accuracy: 0.8802\n",
      "Epoch 17/20\n",
      "1500/1500 [==============================] - 3s 2ms/step - loss: 0.2924 - accuracy: 0.8956 - val_loss: 0.3401 - val_accuracy: 0.8804\n",
      "Epoch 18/20\n",
      "1500/1500 [==============================] - 3s 2ms/step - loss: 0.2873 - accuracy: 0.8953 - val_loss: 0.3280 - val_accuracy: 0.8827\n",
      "Epoch 19/20\n",
      "1500/1500 [==============================] - 3s 2ms/step - loss: 0.2808 - accuracy: 0.8997 - val_loss: 0.3309 - val_accuracy: 0.8795\n",
      "Epoch 20/20\n",
      "1500/1500 [==============================] - 3s 2ms/step - loss: 0.2766 - accuracy: 0.8994 - val_loss: 0.3286 - val_accuracy: 0.8815\n"
     ]
    }
   ],
   "source": [
    "m3.compile(optimizer='sgd',loss='sparse_categorical_crossentropy',metrics='accuracy')\n",
    "history2=m3.fit(t_x,t_y,epochs=20,validation_data=(v_x,v_y))"
   ]
  },
  {
   "cell_type": "code",
   "execution_count": 30,
   "id": "70b5bda8",
   "metadata": {},
   "outputs": [
    {
     "data": {
      "text/plain": [
       "(0.0, 1.0)"
      ]
     },
     "execution_count": 30,
     "metadata": {},
     "output_type": "execute_result"
    },
    {
     "data": {
      "image/png": "[encoded data removed]",
      "text/plain": [
       "<Figure size 576x360 with 1 Axes>"
      ]
     },
     "metadata": {
      "needs_background": "light"
     },
     "output_type": "display_data"
    }
   ],
   "source": [
    "pd.DataFrame(history2.history).plot(figsize=(8,5))\n",
    "plt.gca().set_ylim(0,1)"
   ]
  },
  {
   "cell_type": "code",
   "execution_count": 37,
   "id": "355df8eb",
   "metadata": {},
   "outputs": [
    {
     "name": "stdout",
     "output_type": "stream",
     "text": [
      "313/313 [==============================] - 1s 2ms/step - loss: 0.3505 - accuracy: 0.8728\n"
     ]
    },
    {
     "data": {
      "text/plain": [
       "[0.35051989555358887, 0.8727999925613403]"
      ]
     },
     "execution_count": 37,
     "metadata": {},
     "output_type": "execute_result"
    }
   ],
   "source": [
    "m3.evaluate(s_tt_x,tt_y)"
   ]
  },
  {
   "cell_type": "code",
   "execution_count": 38,
   "id": "5c5f1dfd",
   "metadata": {},
   "outputs": [
    {
     "name": "stdout",
     "output_type": "stream",
     "text": [
      "313/313 [==============================] - 1s 2ms/step - loss: 0.6807 - accuracy: 0.8846\n"
     ]
    },
    {
     "data": {
      "text/plain": [
       "[0.6807288527488708, 0.8845999836921692]"
      ]
     },
     "execution_count": 38,
     "metadata": {},
     "output_type": "execute_result"
    }
   ],
   "source": [
    "m1.evaluate(s_tt_x,tt_y)"
   ]
  },
  {
   "cell_type": "code",
   "execution_count": 39,
   "id": "acb7592d",
   "metadata": {},
   "outputs": [
    {
     "name": "stdout",
     "output_type": "stream",
     "text": [
      "313/313 [==============================] - 1s 2ms/step - loss: 0.3967 - accuracy: 0.8884\n"
     ]
    },
    {
     "data": {
      "text/plain": [
       "[0.39670825004577637, 0.8884000182151794]"
      ]
     },
     "execution_count": 39,
     "metadata": {},
     "output_type": "execute_result"
    }
   ],
   "source": [
    "m2.evaluate(s_tt_x,tt_y)"
   ]
  },
  {
   "cell_type": "code",
   "execution_count": null,
   "id": "3d34401e",
   "metadata": {},
   "outputs": [],
   "source": []
  }
 ],
 "metadata": {
  "kernelspec": {
   "display_name": "Python 3 (ipykernel)",
   "language": "python",
   "name": "python3"
  },
  "language_info": {
   "codemirror_mode": {
    "name": "ipython",
    "version": 3
   },
   "file_extension": ".py",
   "mimetype": "text/x-python",
   "name": "python",
   "nbconvert_exporter": "python",
   "pygments_lexer": "ipython3",
   "version": "3.9.7"
  }
 },
 "nbformat": 4,
 "nbformat_minor": 5
}
