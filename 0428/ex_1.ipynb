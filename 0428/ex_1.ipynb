{
 "cells": [
  {
   "cell_type": "markdown",
   "id": "d09d32b2",
   "metadata": {},
   "source": [
    "외부 모듈 로드 및 data 수집 정리"
   ]
  },
  {
   "cell_type": "code",
   "execution_count": 1,
   "id": "855e2c8a",
   "metadata": {},
   "outputs": [],
   "source": [
    "import tensorflow as tf\n",
    "from tensorflow import keras\n",
    "import numpy as np\n",
    "import pandas as pd\n",
    "import matplotlib.pyplot as plt\n",
    "(t_x,t_y),(tt_x,tt_y) = keras.datasets.fashion_mnist.load_data()\n",
    "s_t_x=t_x/255.0\n",
    "s_tt_x=tt_x/255.0\n",
    "from sklearn.model_selection import train_test_split\n",
    "t_x,v_x,t_y,v_y = train_test_split(s_t_x,t_y,test_size=0.2,random_state=42)"
   ]
  },
  {
   "cell_type": "code",
   "execution_count": null,
   "id": "6778ad93",
   "metadata": {},
   "outputs": [],
   "source": [
    "m1=keras.Sequential()#모델생성객체\n",
    "m1.add(keras.layers.Flatten(input_shape=(28,28)))#입력단 레이어층\n",
    "m1.add(keras.layers.Dense(300,activation='relu'))#dense 데이터 모양(뉴련의 갯수)\n",
    "m1.add(keras.layers.Dense(100,activation='relu'))\n",
    "m1.add(keras.layers.Dense(10,activation='softmax'))\n",
    "m1.compile(optimizer='adam',loss='sparse_categorical_crossentropy',metrics='accuracy')\n",
    "history=m1.fit(t_x,t_y,epochs=30,validation_data=(v_x,v_y))\n",
    "\n",
    "m2=keras.Sequential()#모델생성객체\n",
    "m2.add(keras.layers.Flatten(input_shape=(28,28)))#입력단 레이어층\n",
    "m2.add(keras.layers.Dense(300,activation='relu'))#dense 데이터 모양(뉴련의 갯수)\n",
    "m2.add(keras.layers.Dense(100,activation='relu'))\n",
    "m2.add(keras.layers.Dense(10,activation='softmax'))\n",
    "m2.compile(optimizer='adam',loss='sparse_categorical_crossentropy',metrics='accuracy')\n",
    "history1=m2.fit(t_x,t_y,epochs=30,validation_data=(v_x,v_y))\n",
    "\n",
    "m3=keras.Sequential()#모델생성객체\n",
    "m3.add(keras.layers.Flatten(input_shape=(28,28)))#입력단 레이어층\n",
    "m3.add(keras.layers.Dense(300,activation='relu'))#dense 데이터 모양(뉴련의 갯수)\n",
    "m3.add(keras.layers.Dense(100,activation='relu'))\n",
    "m3.add(keras.layers.Dense(10,activation='softmax'))\n",
    "m3.compile(optimizer='sgd',loss='sparse_categorical_crossentropy',metrics='accuracy')\n",
    "history2=m3.fit(t_x,t_y,epochs=20,validation_data=(v_x,v_y))"
   ]
  }
 ],
 "metadata": {
  "kernelspec": {
   "display_name": "Python 3 (ipykernel)",
   "language": "python",
   "name": "python3"
  },
  "language_info": {
   "codemirror_mode": {
    "name": "ipython",
    "version": 3
   },
   "file_extension": ".py",
   "mimetype": "text/x-python",
   "name": "python",
   "nbconvert_exporter": "python",
   "pygments_lexer": "ipython3",
   "version": "3.9.7"
  }
 },
 "nbformat": 4,
 "nbformat_minor": 5
}
