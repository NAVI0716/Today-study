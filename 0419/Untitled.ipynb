{
 "cells": [
  {
   "cell_type": "markdown",
   "id": "b9fca04b",
   "metadata": {},
   "source": [
    "## 데이터수집"
   ]
  },
  {
   "cell_type": "code",
   "execution_count": 2,
   "id": "fa4e925e",
   "metadata": {},
   "outputs": [
    {
     "data": {
      "text/plain": [
       "<matplotlib.collections.PathCollection at 0x2bbe6132760>"
      ]
     },
     "execution_count": 2,
     "metadata": {},
     "output_type": "execute_result"
    },
    {
     "data": {
      "image/png": "[encoded data removed]",
      "text/plain": [
       "<Figure size 432x288 with 1 Axes>"
      ]
     },
     "metadata": {
      "needs_background": "light"
     },
     "output_type": "display_data"
    }
   ],
   "source": [
    "A_길이 = [25.4,26.5,27.5,28.4,29.0,29.2,30.1,30.5,31.4,31.2]\n",
    "A_무게 = [243,290,340,363,430,450,500,394,450,500]\n",
    "import matplotlib.pyplot as plt\n",
    "plt.scatter(A_길이,A_무게)"
   ]
  },
  {
   "cell_type": "code",
   "execution_count": 4,
   "id": "eaee46f4",
   "metadata": {},
   "outputs": [
    {
     "data": {
      "text/plain": [
       "<matplotlib.collections.PathCollection at 0x2bbe62b76a0>"
      ]
     },
     "execution_count": 4,
     "metadata": {},
     "output_type": "execute_result"
    },
    {
     "data": {
      "image/png": "[encoded data removed]",
      "text/plain": [
       "<Figure size 432x288 with 1 Axes>"
      ]
     },
     "metadata": {
      "needs_background": "light"
     },
     "output_type": "display_data"
    }
   ],
   "source": [
    "B_길이 = [5.4,6.5,7.5,8.4,9.0,9.2,0.1,0.5,1.4,1.2]\n",
    "B_무게 = [43,90,40,63,30,50,50,94,50,50]\n",
    "plt.scatter(A_길이,A_무게)\n",
    "plt.scatter(B_길이,B_무게)"
   ]
  },
  {
   "cell_type": "markdown",
   "id": "fac70122",
   "metadata": {},
   "source": [
    "## 데이터 정리"
   ]
  },
  {
   "cell_type": "code",
   "execution_count": 8,
   "id": "4295d46a",
   "metadata": {},
   "outputs": [],
   "source": [
    "길이 = A_길이 + B_길이\n",
    "무게 = A_무게 + B_무게\n",
    "data = [[길이,무게] for 길이,무게 in zip(길이,무게)]\n",
    "X = data"
   ]
  },
  {
   "cell_type": "code",
   "execution_count": 23,
   "id": "513b23cb",
   "metadata": {},
   "outputs": [
    {
     "data": {
      "text/plain": [
       "[0, 0, 0, 0, 0, 0, 0, 0, 0, 0, 1, 1, 1, 1, 1, 1, 1, 1, 1, 1]"
      ]
     },
     "execution_count": 23,
     "metadata": {},
     "output_type": "execute_result"
    }
   ],
   "source": [
    "#A=0,B=1\n",
    "Y=[0]*10+[1]*10\n",
    "Y"
   ]
  },
  {
   "cell_type": "markdown",
   "id": "0ff0af6f",
   "metadata": {},
   "source": [
    "## 모델 생성"
   ]
  },
  {
   "cell_type": "code",
   "execution_count": 24,
   "id": "ed92b393",
   "metadata": {},
   "outputs": [
    {
     "data": {
      "text/plain": [
       "KNeighborsClassifier()"
      ]
     },
     "execution_count": 24,
     "metadata": {},
     "output_type": "execute_result"
    }
   ],
   "source": [
    "from sklearn.neighbors import KNeighborsClassifier#하나의 맵핑 가까이 붙어있는것들을 묶어준다\n",
    "kn=KNeighborsClassifier()\n"
   ]
  },
  {
   "cell_type": "markdown",
   "id": "dc5a712b",
   "metadata": {},
   "source": [
    "## 학습"
   ]
  },
  {
   "cell_type": "code",
   "execution_count": null,
   "id": "ed47f027",
   "metadata": {},
   "outputs": [],
   "source": [
    "kn.fit(X,Y)"
   ]
  },
  {
   "cell_type": "markdown",
   "id": "47b6f96a",
   "metadata": {},
   "source": [
    "## 테스트"
   ]
  },
  {
   "cell_type": "code",
   "execution_count": 25,
   "id": "f8ea62bb",
   "metadata": {},
   "outputs": [
    {
     "data": {
      "text/plain": [
       "array([1, 0])"
      ]
     },
     "execution_count": 25,
     "metadata": {},
     "output_type": "execute_result"
    }
   ],
   "source": [
    "kn.predict([[7,40],[30,400]])"
   ]
  },
  {
   "cell_type": "code",
   "execution_count": null,
   "id": "b2e415cf",
   "metadata": {},
   "outputs": [],
   "source": []
  }
 ],
 "metadata": {
  "kernelspec": {
   "display_name": "Python 3 (ipykernel)",
   "language": "python",
   "name": "python3"
  },
  "language_info": {
   "codemirror_mode": {
    "name": "ipython",
    "version": 3
   },
   "file_extension": ".py",
   "mimetype": "text/x-python",
   "name": "python",
   "nbconvert_exporter": "python",
   "pygments_lexer": "ipython3",
   "version": "3.9.7"
  }
 },
 "nbformat": 4,
 "nbformat_minor": 5
}
