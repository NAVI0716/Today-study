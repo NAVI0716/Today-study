{
 "cells": [
  {
   "cell_type": "markdown",
   "id": "5047594f",
   "metadata": {},
   "source": [
    "## 로지스틱 회귀 나누기 위해 분류하는 객체"
   ]
  },
  {
   "cell_type": "code",
   "execution_count": 1,
   "id": "4f78306c",
   "metadata": {},
   "outputs": [],
   "source": [
    "import numpy as np #data 계산을 위한 모듈\n",
    "import pandas as pd #data 로드를 위한 모듈\n",
    "from sklearn.model_selection import train_test_split #학습 data와 테스트 data 분할 모듈\n",
    "from sklearn.preprocessing import PolynomialFeatures #피처 증가를 위한 모듈\n",
    "from sklearn.linear_model import LinearRegression ,Lasso, Ridge,SGDRegressor  # 선형 회귀 모듈\n",
    "from sklearn.preprocessing import StandardScaler # data 전처리 (중복 정보 정리)->밸런싱 작업\n",
    "import matplotlib.pyplot as plt # 시각화 모듈\n",
    "from sklearn.metrics import mean_absolute_error\n",
    "from sklearn.metrics import mean_squared_error\n",
    "from sklearn.metrics import r2_score"
   ]
  },
  {
   "cell_type": "code",
   "execution_count": 55,
   "id": "740a7f23",
   "metadata": {
    "scrolled": true
   },
   "outputs": [
    {
     "data": {
      "text/html": [
       "<div>\n",
       "<style scoped>\n",
       "    .dataframe tbody tr th:only-of-type {\n",
       "        vertical-align: middle;\n",
       "    }\n",
       "\n",
       "    .dataframe tbody tr th {\n",
       "        vertical-align: top;\n",
       "    }\n",
       "\n",
       "    .dataframe thead th {\n",
       "        text-align: right;\n",
       "    }\n",
       "</style>\n",
       "<table border=\"1\" class=\"dataframe\">\n",
       "  <thead>\n",
       "    <tr style=\"text-align: right;\">\n",
       "      <th></th>\n",
       "      <th>Name</th>\n",
       "      <th>Weight</th>\n",
       "      <th>Length</th>\n",
       "      <th>Diagonal</th>\n",
       "      <th>Height</th>\n",
       "      <th>Width</th>\n",
       "    </tr>\n",
       "  </thead>\n",
       "  <tbody>\n",
       "    <tr>\n",
       "      <th>0</th>\n",
       "      <td>A</td>\n",
       "      <td>242.0</td>\n",
       "      <td>25.4</td>\n",
       "      <td>30.0</td>\n",
       "      <td>11.5200</td>\n",
       "      <td>4.0200</td>\n",
       "    </tr>\n",
       "    <tr>\n",
       "      <th>1</th>\n",
       "      <td>A</td>\n",
       "      <td>290.0</td>\n",
       "      <td>26.3</td>\n",
       "      <td>31.2</td>\n",
       "      <td>12.4800</td>\n",
       "      <td>4.3056</td>\n",
       "    </tr>\n",
       "    <tr>\n",
       "      <th>2</th>\n",
       "      <td>A</td>\n",
       "      <td>340.0</td>\n",
       "      <td>26.5</td>\n",
       "      <td>31.1</td>\n",
       "      <td>12.3778</td>\n",
       "      <td>4.6961</td>\n",
       "    </tr>\n",
       "    <tr>\n",
       "      <th>3</th>\n",
       "      <td>A</td>\n",
       "      <td>363.0</td>\n",
       "      <td>29.0</td>\n",
       "      <td>33.5</td>\n",
       "      <td>12.7300</td>\n",
       "      <td>4.4555</td>\n",
       "    </tr>\n",
       "    <tr>\n",
       "      <th>4</th>\n",
       "      <td>A</td>\n",
       "      <td>430.0</td>\n",
       "      <td>29.0</td>\n",
       "      <td>34.0</td>\n",
       "      <td>12.4440</td>\n",
       "      <td>5.1340</td>\n",
       "    </tr>\n",
       "    <tr>\n",
       "      <th>...</th>\n",
       "      <td>...</td>\n",
       "      <td>...</td>\n",
       "      <td>...</td>\n",
       "      <td>...</td>\n",
       "      <td>...</td>\n",
       "      <td>...</td>\n",
       "    </tr>\n",
       "    <tr>\n",
       "      <th>154</th>\n",
       "      <td>G</td>\n",
       "      <td>12.2</td>\n",
       "      <td>12.2</td>\n",
       "      <td>13.4</td>\n",
       "      <td>2.0904</td>\n",
       "      <td>1.3936</td>\n",
       "    </tr>\n",
       "    <tr>\n",
       "      <th>155</th>\n",
       "      <td>G</td>\n",
       "      <td>13.4</td>\n",
       "      <td>12.4</td>\n",
       "      <td>13.5</td>\n",
       "      <td>2.4300</td>\n",
       "      <td>1.2690</td>\n",
       "    </tr>\n",
       "    <tr>\n",
       "      <th>156</th>\n",
       "      <td>G</td>\n",
       "      <td>12.2</td>\n",
       "      <td>13.0</td>\n",
       "      <td>13.8</td>\n",
       "      <td>2.2770</td>\n",
       "      <td>1.2558</td>\n",
       "    </tr>\n",
       "    <tr>\n",
       "      <th>157</th>\n",
       "      <td>G</td>\n",
       "      <td>19.7</td>\n",
       "      <td>14.3</td>\n",
       "      <td>15.2</td>\n",
       "      <td>2.8728</td>\n",
       "      <td>2.0672</td>\n",
       "    </tr>\n",
       "    <tr>\n",
       "      <th>158</th>\n",
       "      <td>G</td>\n",
       "      <td>19.9</td>\n",
       "      <td>15.0</td>\n",
       "      <td>16.2</td>\n",
       "      <td>2.9322</td>\n",
       "      <td>1.8792</td>\n",
       "    </tr>\n",
       "  </tbody>\n",
       "</table>\n",
       "<p>159 rows × 6 columns</p>\n",
       "</div>"
      ],
      "text/plain": [
       "    Name  Weight  Length  Diagonal   Height   Width\n",
       "0      A   242.0    25.4      30.0  11.5200  4.0200\n",
       "1      A   290.0    26.3      31.2  12.4800  4.3056\n",
       "2      A   340.0    26.5      31.1  12.3778  4.6961\n",
       "3      A   363.0    29.0      33.5  12.7300  4.4555\n",
       "4      A   430.0    29.0      34.0  12.4440  5.1340\n",
       "..   ...     ...     ...       ...      ...     ...\n",
       "154    G    12.2    12.2      13.4   2.0904  1.3936\n",
       "155    G    13.4    12.4      13.5   2.4300  1.2690\n",
       "156    G    12.2    13.0      13.8   2.2770  1.2558\n",
       "157    G    19.7    14.3      15.2   2.8728  2.0672\n",
       "158    G    19.9    15.0      16.2   2.9322  1.8792\n",
       "\n",
       "[159 rows x 6 columns]"
      ]
     },
     "execution_count": 55,
     "metadata": {},
     "output_type": "execute_result"
    }
   ],
   "source": [
    "data=pd.read_csv('data1_all.csv')\n",
    "data"
   ]
  },
  {
   "cell_type": "markdown",
   "id": "aabb4346",
   "metadata": {},
   "source": [
    "data수집"
   ]
  },
  {
   "cell_type": "code",
   "execution_count": 56,
   "id": "fe90ab9a",
   "metadata": {},
   "outputs": [],
   "source": [
    "data_X=data[['Weight','Length','Diagonal','Height','Width']].to_numpy()\n",
    "data_Y=data['Name'].to_numpy()"
   ]
  },
  {
   "cell_type": "markdown",
   "id": "66f4b8e0",
   "metadata": {},
   "source": [
    "data 전처리"
   ]
  },
  {
   "cell_type": "code",
   "execution_count": 57,
   "id": "f0a5d77f",
   "metadata": {},
   "outputs": [],
   "source": [
    "ss=StandardScaler().fit(data_X)\n",
    "data_X=ss.transform(data_X)"
   ]
  },
  {
   "cell_type": "markdown",
   "id": "233b3f4b",
   "metadata": {},
   "source": [
    "입력data정리"
   ]
  },
  {
   "cell_type": "code",
   "execution_count": 58,
   "id": "4b9937d5",
   "metadata": {},
   "outputs": [],
   "source": [
    "t_x,tt_x,t_y,tt_y=train_test_split(data_X,data_Y,random_state=42)\n"
   ]
  },
  {
   "cell_type": "markdown",
   "id": "f7dfbdce",
   "metadata": {},
   "source": [
    "모델 생성 및 학습"
   ]
  },
  {
   "cell_type": "code",
   "execution_count": 70,
   "id": "616d9012",
   "metadata": {
    "scrolled": true
   },
   "outputs": [
    {
     "data": {
      "text/plain": [
       "array([[1., 0., 0., 0., 0., 0., 0.]])"
      ]
     },
     "execution_count": 70,
     "metadata": {},
     "output_type": "execute_result"
    }
   ],
   "source": [
    "from sklearn.linear_model import LogisticRegression\n",
    "lr=LogisticRegression(C=20,max_iter=1000)\n",
    "lr.fit(t_x,t_y)#다중분류용\n",
    "lr.score(t_x,t_y),lr.score(tt_x,tt_y)\n",
    "d=lr.decision_function(b_t_x[:1])#다중분류에서 사용하는 함수 로지스틱함수에서 2가지존재한다\n",
    "#from scipy.special import expit #2진분류는 시그노이드펑션\n",
    "from scipy.special import softmax #2다중분류는 소프트맥스평선\n",
    "np.round(softmax(d))"
   ]
  },
  {
   "cell_type": "markdown",
   "id": "e5701aea",
   "metadata": {},
   "source": [
    "검증"
   ]
  },
  {
   "cell_type": "code",
   "execution_count": 60,
   "id": "cdd9fa92",
   "metadata": {},
   "outputs": [
    {
     "data": {
      "text/plain": [
       "(0.9243697478991597, 0.925)"
      ]
     },
     "execution_count": 60,
     "metadata": {},
     "output_type": "execute_result"
    }
   ],
   "source": [
    "lr.score(t_x,t_y),lr.score(tt_x,tt_y)"
   ]
  },
  {
   "cell_type": "code",
   "execution_count": 61,
   "id": "c2043e56",
   "metadata": {},
   "outputs": [],
   "source": [
    "# z=np.arange(-5,5,0.1)\n",
    "# h=1/(1+np.exp(-z))\n"
   ]
  },
  {
   "cell_type": "code",
   "execution_count": 62,
   "id": "41e0ed55",
   "metadata": {},
   "outputs": [],
   "source": [
    "# plt.plot(z,h)"
   ]
  },
  {
   "cell_type": "code",
   "execution_count": 63,
   "id": "53b7fc15",
   "metadata": {},
   "outputs": [],
   "source": [
    "# n_l=np.array(['a','b','c'])\n",
    "# n_l[[True,False,True]]"
   ]
  },
  {
   "cell_type": "code",
   "execution_count": 64,
   "id": "844bca17",
   "metadata": {
    "scrolled": true
   },
   "outputs": [
    {
     "data": {
      "text/plain": [
       "LogisticRegression()"
      ]
     },
     "execution_count": 64,
     "metadata": {},
     "output_type": "execute_result"
    }
   ],
   "source": [
    "i=(t_y =='A')|(t_y == 'G')\n",
    "b_t_x=t_x[i]\n",
    "b_t_y=t_y[i]\n",
    "lr = LogisticRegression()\n",
    "lr.fit(b_t_x,b_t_y)"
   ]
  },
  {
   "cell_type": "code",
   "execution_count": 65,
   "id": "009c1d53",
   "metadata": {},
   "outputs": [
    {
     "data": {
      "text/plain": [
       "(array([[-0.41981254, -0.60056128, -0.68786241, -1.00159093, -0.74532495]]),\n",
       " array([-2.1898649]))"
      ]
     },
     "execution_count": 65,
     "metadata": {},
     "output_type": "execute_result"
    }
   ],
   "source": [
    "lr.coef_,lr.intercept_"
   ]
  },
  {
   "cell_type": "code",
   "execution_count": 66,
   "id": "f96f5a7f",
   "metadata": {},
   "outputs": [],
   "source": [
    "d=lr.decision_function(b_t_x[:1])#학습된 공식을 꺼냄"
   ]
  },
  {
   "cell_type": "code",
   "execution_count": 67,
   "id": "d4583350",
   "metadata": {},
   "outputs": [
    {
     "data": {
      "text/plain": [
       "array([0.00254817])"
      ]
     },
     "execution_count": 67,
     "metadata": {},
     "output_type": "execute_result"
    }
   ],
   "source": [
    "from scipy.special import expit #역함수\n",
    "expit(d)#a데이터다 b데이터다 하면서 나눠서 2분법으로 나타내는것\n",
    "#2분나눠줘서 다중으로 나눠지는것이 안댐"
   ]
  },
  {
   "cell_type": "code",
   "execution_count": null,
   "id": "790562c0",
   "metadata": {},
   "outputs": [],
   "source": []
  }
 ],
 "metadata": {
  "kernelspec": {
   "display_name": "Python 3 (ipykernel)",
   "language": "python",
   "name": "python3"
  },
  "language_info": {
   "codemirror_mode": {
    "name": "ipython",
    "version": 3
   },
   "file_extension": ".py",
   "mimetype": "text/x-python",
   "name": "python",
   "nbconvert_exporter": "python",
   "pygments_lexer": "ipython3",
   "version": "3.9.7"
  }
 },
 "nbformat": 4,
 "nbformat_minor": 5
}
