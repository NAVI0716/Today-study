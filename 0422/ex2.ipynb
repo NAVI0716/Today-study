{
 "cells": [
  {
   "cell_type": "markdown",
   "id": "3614e4f0",
   "metadata": {},
   "source": [
    "외부 모듈 로드"
   ]
  },
  {
   "cell_type": "code",
   "execution_count": 1,
   "id": "6ba42932",
   "metadata": {},
   "outputs": [],
   "source": [
    "import numpy as np #data 계산을 위한 모듈\n",
    "import pandas as pd # data 로드를 위한 모듈\n",
    "from sklearn.model_selection import train_test_split #학습 data와 테스트 data 분할모듈\n",
    "import matplotlib.pyplot as plt # 시각화\n",
    "from sklearn.preprocessing import PolynomialFeatures #피처 증가를 위한 모듈\n",
    "from sklearn.linear_model import Ridge,Lasso,LinearRegression #선형 회귀\n",
    "from sklearn.preprocessing import StandardScaler #data 전처리(중복정보정리)->"
   ]
  },
  {
   "cell_type": "markdown",
   "id": "e30b4994",
   "metadata": {},
   "source": [
    "1.data 가지고오기"
   ]
  },
  {
   "cell_type": "code",
   "execution_count": 2,
   "id": "2d6eb79a",
   "metadata": {},
   "outputs": [],
   "source": [
    "df=pd.read_csv('perch_full.csv')\n",
    "X=df.to_numpy()\n",
    "Y = np.array(\n",
    "    [5.9, 32.0, 40.0, 51.5, 70.0, 100.0, 78.0, 80.0, 85.0, 85.0, \n",
    "     110.0, 115.0, 125.0, 130.0, 120.0, 120.0, 130.0, 135.0, 110.0, \n",
    "     130.0, 150.0, 145.0, 150.0, 170.0, 225.0, 145.0, 188.0, 180.0, \n",
    "     197.0, 218.0, 300.0, 260.0, 265.0, 250.0, 250.0, 300.0, 320.0, \n",
    "     514.0, 556.0, 840.0, 685.0, 700.0, 700.0, 690.0, 900.0, 650.0, \n",
    "     820.0, 850.0, 900.0, 1015.0, 820.0, 1100.0, 1000.0, 1100.0, \n",
    "     1000.0, 1000.0]\n",
    "     )\n"
   ]
  },
  {
   "cell_type": "markdown",
   "id": "88d47a01",
   "metadata": {},
   "source": [
    "학습data와 테스트 data분할"
   ]
  },
  {
   "cell_type": "code",
   "execution_count": 18,
   "id": "2ee79816",
   "metadata": {},
   "outputs": [],
   "source": [
    "t_x,tt_x,t_y,tt_y = train_test_split(X,Y,train_size=0.7,random_state=42)#7:3비율 조정"
   ]
  },
  {
   "cell_type": "markdown",
   "id": "5110eb38",
   "metadata": {},
   "source": [
    "data 피쳐 증가 (학습의 진행을 상승)->과소적합 방지"
   ]
  },
  {
   "cell_type": "code",
   "execution_count": 20,
   "id": "339bef1e",
   "metadata": {},
   "outputs": [],
   "source": [
    "#p_m=PolynomialFeatures(include_bias=False)#학습 data기반으로 피쳐 증가\n",
    "p_m=PolynomialFeatures(degree=5,include_bias=False).fit(t_x)#과도하게 증가\n",
    "p_t_x=p_m.transform(t_x)\n",
    "p_tt_x=p_m.transform(tt_x)"
   ]
  },
  {
   "cell_type": "markdown",
   "id": "78e87854",
   "metadata": {},
   "source": [
    "data 전처리 밸런싱 작업 (특징감소)->과대적합 방지"
   ]
  },
  {
   "cell_type": "code",
   "execution_count": 21,
   "id": "b58b3d5e",
   "metadata": {},
   "outputs": [],
   "source": [
    "ss=StandardScaler().fit(p_t_x)#한쪽으로 치우친 피처 정보를 균등하게 정리\n",
    "sc_t_x=ss.transform(p_t_x)#전처리작업\n",
    "sc_tt_x=ss.transform(p_tt_x)"
   ]
  },
  {
   "cell_type": "markdown",
   "id": "8de26041",
   "metadata": {},
   "source": [
    "4.모델 생성 및 학습"
   ]
  },
  {
   "cell_type": "code",
   "execution_count": 22,
   "id": "ab489d0e",
   "metadata": {},
   "outputs": [
    {
     "data": {
      "text/plain": [
       "LinearRegression()"
      ]
     },
     "execution_count": 22,
     "metadata": {},
     "output_type": "execute_result"
    }
   ],
   "source": [
    "lr = LinearRegression()#학습 모델을 결정하고 알맞은 모델 생성(회귀모델)\n",
    "lr.fit(sc_t_x,t_y)#학습진행(지도:[입력,결과])\n",
    "#lso= Lasso()\n",
    "#rg = Ridge()"
   ]
  },
  {
   "cell_type": "markdown",
   "id": "07c18e6c",
   "metadata": {},
   "source": [
    "하이퍼파라미터 결정"
   ]
  },
  {
   "cell_type": "code",
   "execution_count": 23,
   "id": "e8e8b4d8",
   "metadata": {},
   "outputs": [
    {
     "data": {
      "text/plain": [
       "Lasso(alpha=10)"
      ]
     },
     "execution_count": 23,
     "metadata": {},
     "output_type": "execute_result"
    }
   ],
   "source": [
    "rg= Ridge(alpha=0.1)#alpha 값을 결정하여 이상적인  하이퍼파라미터값 제시\n",
    "rg.fit(sc_t_x,t_y)#학습진행(지도:[입력,결과])\n",
    "lso=Lasso(alpha=10)\n",
    "lso.fit(sc_t_x,t_y)#학습진행(지도:[입력,결과])\n",
    "\n"
   ]
  },
  {
   "cell_type": "markdown",
   "id": "a3924fbb",
   "metadata": {},
   "source": [
    "5.테스트 및 검증"
   ]
  },
  {
   "cell_type": "code",
   "execution_count": 24,
   "id": "820330eb",
   "metadata": {},
   "outputs": [
    {
     "name": "stdout",
     "output_type": "stream",
     "text": [
      "1.0 -26.192517921905765\n"
     ]
    }
   ],
   "source": [
    "y_p = lr.predict(sc_t_x)#학습된 모델을 이용하여 예측값생성(오차계산할수있는 기본적인 계산)\n",
    "t_s=lr.score(sc_t_x,t_y)#데이터 검토,학습data 이용하여 점수 확인\n",
    "tt_s=lr.score(sc_tt_x,tt_y)#데이터 검토, 테스트 data를 이용하여 점수 확인\n",
    "#t_s-tt_s 1. 둘다 낮은값이라면 과소적합  2. 학습 data 점수는 높은데 테스트data점수는 낮으면 과대적합\n",
    "print(t_s,tt_s)"
   ]
  },
  {
   "cell_type": "code",
   "execution_count": 25,
   "id": "0a9d40fb",
   "metadata": {},
   "outputs": [
    {
     "name": "stdout",
     "output_type": "stream",
     "text": [
      "0.9897983159614501 0.9842243738800773\n"
     ]
    }
   ],
   "source": [
    "t_s=rg.score(sc_t_x,t_y)\n",
    "tt_s=rg.score(sc_tt_x,tt_y)\n",
    "print(t_s,tt_s)"
   ]
  },
  {
   "cell_type": "code",
   "execution_count": 26,
   "id": "f30da6c8",
   "metadata": {},
   "outputs": [
    {
     "name": "stdout",
     "output_type": "stream",
     "text": [
      "0.9882059522438204 0.9834044009315154\n"
     ]
    }
   ],
   "source": [
    "t_s=lso.score(sc_t_x,t_y)\n",
    "tt_s=lso.score(sc_tt_x,tt_y)\n",
    "print(t_s,tt_s)"
   ]
  },
  {
   "cell_type": "code",
   "execution_count": null,
   "id": "807c5d41",
   "metadata": {},
   "outputs": [],
   "source": []
  }
 ],
 "metadata": {
  "kernelspec": {
   "display_name": "Python 3 (ipykernel)",
   "language": "python",
   "name": "python3"
  },
  "language_info": {
   "codemirror_mode": {
    "name": "ipython",
    "version": 3
   },
   "file_extension": ".py",
   "mimetype": "text/x-python",
   "name": "python",
   "nbconvert_exporter": "python",
   "pygments_lexer": "ipython3",
   "version": "3.9.7"
  }
 },
 "nbformat": 4,
 "nbformat_minor": 5
}
