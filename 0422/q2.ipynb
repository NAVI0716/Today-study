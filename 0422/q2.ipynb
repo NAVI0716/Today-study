{
 "cells": [
  {
   "cell_type": "code",
   "execution_count": 19,
   "id": "536254b2",
   "metadata": {},
   "outputs": [],
   "source": [
    "import numpy as np #data 계산을 위한 모듈\n",
    "import pandas as pd #data 로드를 위한 모듈\n",
    "from sklearn.model_selection import train_test_split #학습 data와 테스트 data 분할 모듈\n",
    "from sklearn.preprocessing import PolynomialFeatures #피처 증가를 위한 모듈\n",
    "from sklearn.linear_model import LinearRegression ,Lasso, Ridge,SGDRegressor  # 선형 회귀 모듈\n",
    "from sklearn.preprocessing import StandardScaler # data 전처리 (중복 정보 정리)->밸런싱 작업\n",
    "import matplotlib.pyplot as plt # 시각화 모듈\n",
    "from sklearn.metrics import mean_absolute_error\n",
    "from sklearn.metrics import mean_squared_error\n",
    "from sklearn.metrics import r2_score"
   ]
  },
  {
   "cell_type": "code",
   "execution_count": 2,
   "id": "0873d81f",
   "metadata": {},
   "outputs": [
    {
     "data": {
      "text/plain": [
       "dict_keys(['data', 'target', 'feature_names', 'DESCR', 'filename'])"
      ]
     },
     "execution_count": 2,
     "metadata": {},
     "output_type": "execute_result"
    }
   ],
   "source": [
    "from sklearn.datasets import load_boston\n",
    "b_data = load_boston()\n",
    "b_data.keys()"
   ]
  },
  {
   "cell_type": "code",
   "execution_count": 3,
   "id": "61d53b95",
   "metadata": {},
   "outputs": [
    {
     "data": {
      "text/plain": [
       "(506,)"
      ]
     },
     "execution_count": 3,
     "metadata": {},
     "output_type": "execute_result"
    }
   ],
   "source": [
    "X=b_data.data\n",
    "Y=b_data.target\n",
    "Y.shape"
   ]
  },
  {
   "cell_type": "code",
   "execution_count": 4,
   "id": "48ab40f5",
   "metadata": {},
   "outputs": [
    {
     "data": {
      "text/plain": [
       "(506, 1)"
      ]
     },
     "execution_count": 4,
     "metadata": {},
     "output_type": "execute_result"
    }
   ],
   "source": [
    "y_data=Y.reshape(Y.size,1)\n",
    "y_data=Y.reshape(-1,1)\n",
    "y_data.shape"
   ]
  },
  {
   "cell_type": "markdown",
   "id": "7c952ea1",
   "metadata": {},
   "source": [
    "전처리 작업"
   ]
  },
  {
   "cell_type": "code",
   "execution_count": 5,
   "id": "d49ff356",
   "metadata": {},
   "outputs": [
    {
     "data": {
      "text/plain": [
       "(506, 13)"
      ]
     },
     "execution_count": 5,
     "metadata": {},
     "output_type": "execute_result"
    }
   ],
   "source": [
    "from sklearn.preprocessing import MinMaxScaler  #2가지의 스케일작업\n",
    "mm_m=MinMaxScaler(feature_range=(0,5)).fit(X)#민멕스에대한 모델이 만들어짐\n",
    "sc_x_data=mm_m.transform(X)\n",
    "sc_x_data.shape"
   ]
  },
  {
   "cell_type": "code",
   "execution_count": 58,
   "id": "34efc505",
   "metadata": {},
   "outputs": [],
   "source": [
    "t_x,tt_x,t_y,tt_y = train_test_split(sc_x_data,y_data,test_size=0.3,random_state=10)\n",
    "t_x.shape\n",
    "y1=tt_y.copy()"
   ]
  },
  {
   "cell_type": "code",
   "execution_count": 59,
   "id": "807085d6",
   "metadata": {},
   "outputs": [],
   "source": [
    "# p_m=PolynomialFeatures(degree=3,include_bias=False).fit(t_x)\n",
    "# p_t_x=p_m.transform(t_x)\n",
    "# p_tt_x=p_m.transform(tt_x)\n",
    "# p_t_x.shape"
   ]
  },
  {
   "cell_type": "code",
   "execution_count": 60,
   "id": "0f36554c",
   "metadata": {},
   "outputs": [],
   "source": [
    "# ss=StandardScaler().fit(p_t_x)\n",
    "# sc_t_x=ss.transform(p_t_x)\n",
    "# sc_tt_x=ss.transform(p_tt_x)"
   ]
  },
  {
   "cell_type": "markdown",
   "id": "2915e3e9",
   "metadata": {},
   "source": [
    "LinearRegression"
   ]
  },
  {
   "cell_type": "code",
   "execution_count": 61,
   "id": "3fc7902e",
   "metadata": {
    "scrolled": true
   },
   "outputs": [
    {
     "data": {
      "text/plain": [
       "LinearRegression()"
      ]
     },
     "execution_count": 61,
     "metadata": {},
     "output_type": "execute_result"
    }
   ],
   "source": [
    "lr=LinearRegression().fit(t_x,t_y)\n",
    "lr"
   ]
  },
  {
   "cell_type": "code",
   "execution_count": 72,
   "id": "7b4ae954",
   "metadata": {
    "scrolled": false
   },
   "outputs": [
    {
     "name": "stdout",
     "output_type": "stream",
     "text": [
      "0.7495400632086622 0.6996255772983109\n",
      "3.707127137271813\n",
      "29.3265965261233\n",
      "0.6996255772983109\n"
     ]
    }
   ],
   "source": [
    "s_t_lr=lr.score(t_x,t_y)\n",
    "s_tt_lr=lr.score(tt_x,tt_y)\n",
    "t_x_y=lr.predict(tt_x)\n",
    "print(s_t_lr, s_tt_lr)\n",
    "print(mean_absolute_error(y1,t_x_y))\n",
    "print(mean_squared_error(y1,t_x_y))\n",
    "print(r2_score(y1,t_x_y))"
   ]
  },
  {
   "cell_type": "markdown",
   "id": "c163b3af",
   "metadata": {},
   "source": [
    "Ridge"
   ]
  },
  {
   "cell_type": "code",
   "execution_count": 75,
   "id": "62252b54",
   "metadata": {},
   "outputs": [
    {
     "name": "stdout",
     "output_type": "stream",
     "text": [
      "0.7495221025558839 0.7000568060075212\n",
      "3.7020697620464618\n",
      "29.28449417182914\n",
      "0.7000568060075212\n"
     ]
    }
   ],
   "source": [
    "rg= Ridge()\n",
    "rg.fit(t_x,t_y)\n",
    "s_t_lr=rg.score(t_x,t_y)\n",
    "s_tt_lr=rg.score(tt_x,tt_y)\n",
    "t_x_y=rg.predict(tt_x)\n",
    "print(s_t_lr, s_tt_lr)\n",
    "print(mean_absolute_error(y1,t_x_y))\n",
    "print(mean_squared_error(y1,t_x_y))\n",
    "print(r2_score(y1,t_x_y))"
   ]
  },
  {
   "cell_type": "markdown",
   "id": "6d333df0",
   "metadata": {},
   "source": [
    "Lasso"
   ]
  },
  {
   "cell_type": "code",
   "execution_count": 70,
   "id": "5c9fc029",
   "metadata": {},
   "outputs": [
    {
     "name": "stdout",
     "output_type": "stream",
     "text": [
      "0.6508848803344893 0.6192939837289688\n",
      "4.213744760928959\n",
      "37.16964858002032\n",
      "0.6192939837289688\n"
     ]
    }
   ],
   "source": [
    "lso=Lasso()\n",
    "lso.fit(t_x,t_y)\n",
    "s_t_lr=lso.score(t_x,t_y)\n",
    "s_tt_lr=lso.score(tt_x,tt_y)\n",
    "t_x_y=lso.predict(tt_x)\n",
    "print(s_t_lr, s_tt_lr)\n",
    "print(mean_absolute_error(y1,t_x_y))\n",
    "print(mean_squared_error(y1,t_x_y))\n",
    "print(r2_score(y1,t_x_y))"
   ]
  },
  {
   "cell_type": "markdown",
   "id": "5a545200",
   "metadata": {},
   "source": [
    "SGDRegressor"
   ]
  },
  {
   "cell_type": "code",
   "execution_count": 69,
   "id": "19b6a2bb",
   "metadata": {},
   "outputs": [
    {
     "name": "stdout",
     "output_type": "stream",
     "text": [
      "0.6965359685518673 0.6311704935940718\n",
      "3.924747425076671\n",
      "36.010103736555735\n",
      "0.6311704935940718\n"
     ]
    },
    {
     "name": "stderr",
     "output_type": "stream",
     "text": [
      "C:\\ProgramData\\Anaconda3\\lib\\site-packages\\sklearn\\utils\\validation.py:63: DataConversionWarning: A column-vector y was passed when a 1d array was expected. Please change the shape of y to (n_samples, ), for example using ravel().\n",
      "  return f(*args, **kwargs)\n"
     ]
    }
   ],
   "source": [
    "sgd=SGDRegressor()\n",
    "sgd.fit(t_x,t_y)\n",
    "s_t_lr=sgd.score(t_x,t_y)\n",
    "s_tt_lr=sgd.score(tt_x,tt_y)\n",
    "t_x_y=sgd.predict(tt_x)\n",
    "print(s_t_lr, s_tt_lr)\n",
    "print(mean_absolute_error(y1,t_x_y))\n",
    "print(mean_squared_error(y1,t_x_y))\n",
    "print(r2_score(y1,t_x_y))"
   ]
  },
  {
   "cell_type": "code",
   "execution_count": 74,
   "id": "5e01b98c",
   "metadata": {},
   "outputs": [
    {
     "data": {
      "text/plain": [
       "<matplotlib.collections.PathCollection at 0x1cfe7d67f70>"
      ]
     },
     "execution_count": 74,
     "metadata": {},
     "output_type": "execute_result"
    },
    {
     "data": {
      "image/png": "[encoded data removed]",
      "text/plain": [
       "<Figure size 432x288 with 1 Axes>"
      ]
     },
     "metadata": {
      "needs_background": "light"
     },
     "output_type": "display_data"
    }
   ],
   "source": [
    "plt.scatter(y1,t_x_y)"
   ]
  },
  {
   "cell_type": "code",
   "execution_count": null,
   "id": "92e4354a",
   "metadata": {},
   "outputs": [],
   "source": []
  }
 ],
 "metadata": {
  "kernelspec": {
   "display_name": "Python 3 (ipykernel)",
   "language": "python",
   "name": "python3"
  },
  "language_info": {
   "codemirror_mode": {
    "name": "ipython",
    "version": 3
   },
   "file_extension": ".py",
   "mimetype": "text/x-python",
   "name": "python",
   "nbconvert_exporter": "python",
   "pygments_lexer": "ipython3",
   "version": "3.9.7"
  }
 },
 "nbformat": 4,
 "nbformat_minor": 5
}
