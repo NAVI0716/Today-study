{
 "cells": [
  {
   "cell_type": "markdown",
   "id": "217a1510",
   "metadata": {},
   "source": [
    "### ex 2-17"
   ]
  },
  {
   "cell_type": "code",
   "execution_count": 3,
   "id": "beaff9df",
   "metadata": {},
   "outputs": [
    {
     "name": "stdout",
     "output_type": "stream",
     "text": [
      "홍지수 안녕하세요\n"
     ]
    }
   ],
   "source": [
    "name = '홍지수'\n",
    "greet = name + ' 안녕하세요'\n",
    "print(greet)"
   ]
  },
  {
   "cell_type": "code",
   "execution_count": 4,
   "id": "edef2086",
   "metadata": {},
   "outputs": [
    {
     "name": "stdout",
     "output_type": "stream",
     "text": [
      "홍지수 안녕하세요\n"
     ]
    }
   ],
   "source": [
    "print(name, '안녕하세요')"
   ]
  },
  {
   "cell_type": "markdown",
   "id": "e8d16da3",
   "metadata": {},
   "source": [
    "### ex 2-20"
   ]
  },
  {
   "cell_type": "code",
   "execution_count": 11,
   "id": "f004d2a2",
   "metadata": {},
   "outputs": [
    {
     "name": "stdout",
     "output_type": "stream",
     "text": [
      "나는 김수영입니다.\n"
     ]
    }
   ],
   "source": [
    "name = '김수영'\n",
    "a = '나는 %s입니다.'%name\n",
    "print(a)"
   ]
  },
  {
   "cell_type": "code",
   "execution_count": 14,
   "id": "485cbd25",
   "metadata": {},
   "outputs": [
    {
     "name": "stdout",
     "output_type": "stream",
     "text": [
      "나는 20살이고 김수영입니다. False\n"
     ]
    }
   ],
   "source": [
    "name = '김수영'\n",
    "num = 20\n",
    "boolean = False\n",
    "\n",
    "a = '나는 %d살이고 %s입니다. %s'%(num, name, boolean)\n",
    "print(a)"
   ]
  },
  {
   "cell_type": "markdown",
   "id": "0473288d",
   "metadata": {},
   "source": [
    "### ex2-22"
   ]
  },
  {
   "cell_type": "code",
   "execution_count": 15,
   "id": "52069067",
   "metadata": {},
   "outputs": [],
   "source": [
    "year = 2020\n",
    "months = 3\n",
    "day = 5"
   ]
  },
  {
   "cell_type": "code",
   "execution_count": 21,
   "id": "9a010ba3",
   "metadata": {},
   "outputs": [
    {
     "name": "stdout",
     "output_type": "stream",
     "text": [
      "2020-03-05\n"
     ]
    }
   ],
   "source": [
    "a = \"%d-%02d-%02d\"%(year, months, day)\n",
    "print(a)"
   ]
  },
  {
   "cell_type": "code",
   "execution_count": 25,
   "id": "19a30245",
   "metadata": {},
   "outputs": [
    {
     "name": "stdout",
     "output_type": "stream",
     "text": [
      "2020-3.00-05\n"
     ]
    }
   ],
   "source": [
    "a = \"%d-%.2f-%02d\"%(year, months, day)\n",
    "print(a)"
   ]
  },
  {
   "cell_type": "markdown",
   "id": "95ab5e26",
   "metadata": {},
   "source": [
    "### ex 2-23"
   ]
  },
  {
   "cell_type": "code",
   "execution_count": 26,
   "id": "5f085d29",
   "metadata": {},
   "outputs": [
    {
     "name": "stdout",
     "output_type": "stream",
     "text": [
      "키는 172.5입니다.\n"
     ]
    }
   ],
   "source": [
    "height = 172.5\n",
    "a = '키는 %.1f입니다.'%height\n",
    "print(a)"
   ]
  },
  {
   "cell_type": "markdown",
   "id": "b2e54115",
   "metadata": {},
   "source": [
    "### ex 2-24"
   ]
  },
  {
   "cell_type": "code",
   "execution_count": 27,
   "id": "c1797b07",
   "metadata": {},
   "outputs": [
    {
     "name": "stdout",
     "output_type": "stream",
     "text": [
      "Your name: Super man and Your age 25\n"
     ]
    }
   ],
   "source": [
    "name = 'Super man'\n",
    "age = 25\n",
    "a = 'Your name: {} and Your age {}'.format(name, age)\n",
    "print(a)"
   ]
  },
  {
   "cell_type": "markdown",
   "id": "e6483d63",
   "metadata": {},
   "source": [
    "### 문자열 카운트 & 소대문자 구분"
   ]
  },
  {
   "cell_type": "code",
   "execution_count": 42,
   "id": "32981171",
   "metadata": {},
   "outputs": [
    {
     "name": "stdout",
     "output_type": "stream",
     "text": [
      "1\n",
      "superman\n",
      "SUPERMAN\n",
      "False\n"
     ]
    }
   ],
   "source": [
    "name = 'Superman'\n",
    "result = name.count('r')\n",
    "print(result)\n",
    "result = name.lower()\n",
    "print(result)\n",
    "result = name.upper()\n",
    "print(result)\n",
    "name1 = 'a'+' '+'b'\n",
    "print(name1.isspace())#공백확인"
   ]
  },
  {
   "cell_type": "markdown",
   "id": "2b86ca6a",
   "metadata": {},
   "source": [
    "### ex 2-24"
   ]
  },
  {
   "cell_type": "code",
   "execution_count": 55,
   "id": "8a9a85ce",
   "metadata": {},
   "outputs": [
    {
     "name": "stdout",
     "output_type": "stream",
     "text": [
      "안녕 하세요  반갑 습니다.\n",
      "안녕 하세요!반갑 습니다.\n"
     ]
    }
   ],
   "source": [
    "a = '안녕 하세요'\n",
    "b = '반갑 습니다.'\n",
    "print(a, end=\"  \")\n",
    "print(b)\n",
    "print(a, b, sep=\"!\")\n"
   ]
  },
  {
   "cell_type": "markdown",
   "id": "a0d4d22d",
   "metadata": {},
   "source": [
    "### 사칙연산"
   ]
  },
  {
   "cell_type": "code",
   "execution_count": 82,
   "id": "25b6fd6f",
   "metadata": {
    "scrolled": true
   },
   "outputs": [
    {
     "name": "stdout",
     "output_type": "stream",
     "text": [
      "계산할 숫자와 연산자를 입력하시오: 2 + 3\n",
      "2 + 3 =  5\n",
      "계속 사용하시겠습니까 Y/N : Y\n",
      "계산할 숫자와 연산자를 입력하시오: 2 * 8\n",
      "2 * 8 =  16\n",
      "계속 사용하시겠습니까 Y/N : N\n"
     ]
    }
   ],
   "source": [
    "def SUM(a,b):\n",
    "    ans = int(a) + int(b)\n",
    "    return f'{a} + {b} = ', ans\n",
    "def SUB(a,b):\n",
    "    ans = int(a) - int(b)\n",
    "    return f'{a} - {b} = ', ans\n",
    "def MUL(a,b):\n",
    "    ans = int(a) * int(b)\n",
    "    return f'{a} * {b} = ', ans\n",
    "def DIV(a,b):\n",
    "    ans = int(a) / int(b)\n",
    "    return f'{a} / {b} = ', ans\n",
    "\n",
    "def INPUT():\n",
    "    a = input(\"첫 번째 숫자를 입력하세요 : \")\n",
    "    z = input(\"선택할 연산자를 입력하시오: \")\n",
    "    b = input(\"두 번째 숫자를 입력하세요 : \")\n",
    "    return a,z,b\n",
    "def INPUT_():\n",
    "    a,z,b = input(\"계산할 숫자와 연산자를 입력하시오: \").split()\n",
    "    return a,z,b\n",
    "\n",
    "f = 0\n",
    "while f == 0 :\n",
    "#    a,z,b = INPUT()\n",
    "    a,z,b = INPUT_()\n",
    "    if z == \"+\":\n",
    "        i,j = SUM(a,b)\n",
    "        print(i,j)\n",
    "    elif z == \"-\":\n",
    "        i,j = SUB(a,b)\n",
    "        print(i,j)\n",
    "    elif z == \"*\":\n",
    "        i,j = MUL(a,b)\n",
    "        print(i,j)\n",
    "    elif z == \"/\":\n",
    "        i,j = DIV(a,b)\n",
    "        print(i,j)\n",
    "    else:\n",
    "        print(\"다시 입력해주세요\")\n",
    "    result = input(\"계속 사용하시겠습니까 Y/N : \")\n",
    "    if result == 'Y':\n",
    "        continue\n",
    "    else :\n",
    "        break\n",
    "        \n",
    "#mathlist = [SUM(a,b), SUB(a,b), MUL(a,b), DIV(a,b)]\n",
    "#for i,j in mathlist:\n",
    "#    print(i,j)"
   ]
  },
  {
   "cell_type": "markdown",
   "id": "61b266f2",
   "metadata": {},
   "source": [
    "### Q2-1"
   ]
  },
  {
   "cell_type": "code",
   "execution_count": 67,
   "id": "b0335fe8",
   "metadata": {},
   "outputs": [
    {
     "name": "stdout",
     "output_type": "stream",
     "text": [
      "삼각형의 밑변 길이: 10\n",
      "삼각형의 높이: 3\n",
      "삼각형의 면적: 15.0\n"
     ]
    }
   ],
   "source": [
    "width = 10\n",
    "height = 3\n",
    "area = width * height/2\n",
    "print('삼각형의 밑변 길이:', width)\n",
    "print('삼각형의 높이:', height)\n",
    "print('삼각형의 면적:', area)"
   ]
  },
  {
   "cell_type": "markdown",
   "id": "277f0e28",
   "metadata": {},
   "source": [
    "### Q2-2"
   ]
  },
  {
   "cell_type": "code",
   "execution_count": 70,
   "id": "837cf84b",
   "metadata": {},
   "outputs": [
    {
     "name": "stdout",
     "output_type": "stream",
     "text": [
      "물건가격: 800 원\n",
      "구매개수: 3 개\n",
      "지불금맥: 5000 원\n",
      "거스름돈: 2600 원\n"
     ]
    }
   ],
   "source": [
    "price = 800\n",
    "buy = 3\n",
    "pay = 5000\n",
    "change = pay - price * buy\n",
    "print('물건가격:',price,\"원\")\n",
    "print('구매개수:',buy,\"개\")\n",
    "print('지불금맥:',pay,\"원\")\n",
    "print('거스름돈:',change,\"원\")"
   ]
  }
 ],
 "metadata": {
  "kernelspec": {
   "display_name": "Python 3 (ipykernel)",
   "language": "python",
   "name": "python3"
  },
  "language_info": {
   "codemirror_mode": {
    "name": "ipython",
    "version": 3
   },
   "file_extension": ".py",
   "mimetype": "text/x-python",
   "name": "python",
   "nbconvert_exporter": "python",
   "pygments_lexer": "ipython3",
   "version": "3.10.9"
  }
 },
 "nbformat": 4,
 "nbformat_minor": 5
}
