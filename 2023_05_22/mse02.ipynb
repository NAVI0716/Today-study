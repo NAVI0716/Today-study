{
 "cells": [
  {
   "cell_type": "markdown",
   "id": "10012bbf",
   "metadata": {},
   "source": [
    "### 가장 훌륭한 예측선"
   ]
  },
  {
   "cell_type": "markdown",
   "id": "600bb5ba",
   "metadata": {},
   "source": [
    "환경준비"
   ]
  },
  {
   "cell_type": "code",
   "execution_count": 1,
   "id": "7c51427e",
   "metadata": {},
   "outputs": [],
   "source": [
    "import numpy as np"
   ]
  },
  {
   "cell_type": "markdown",
   "id": "d9e92b54",
   "metadata": {},
   "source": [
    "데이터 준비"
   ]
  },
  {
   "cell_type": "code",
   "execution_count": 6,
   "id": "f18de398",
   "metadata": {},
   "outputs": [],
   "source": [
    "# 가상의 기울기a와 절변b를 정한다.\n",
    "init_a = 3\n",
    "init_b = 76\n",
    "# 공부 시간x와 성적y의 넘파이 배열 생성\n",
    "x = np.array([2,4,6,8])\n",
    "y = np.array([81,93,91,97])"
   ]
  },
  {
   "cell_type": "markdown",
   "id": "b54d83e3",
   "metadata": {},
   "source": [
    "평균 제곱 오차 구하기"
   ]
  },
  {
   "cell_type": "code",
   "execution_count": 8,
   "id": "8ffb7535",
   "metadata": {},
   "outputs": [
    {
     "name": "stdout",
     "output_type": "stream",
     "text": [
      "공부시간=2, 실제점수=81, 예측점수=82\n",
      "공부시간=4, 실제점수=93, 예측점수=88\n",
      "공부시간=6, 실제점수=91, 예측점수=94\n",
      "공부시간=8, 실제점수=97, 예측점수=100\n"
     ]
    }
   ],
   "source": [
    "# y=ax + b에 가상의 a,b 값을 대입한 결과를 출력하는 함수입니다.\n",
    "def predict(x):\n",
    "    return init_a * x + init_b\n",
    "\n",
    "# 예측 값이 들어갈 빈 리스트를 만듭니다.\n",
    "predict_result = []\n",
    "\n",
    "# 모든 x 값을 한 번씩 대입하여 predict_result 리스트를 완성합니다.\n",
    "for i in range(len(x)):\n",
    "    predict_result.append(predict(x[i]))\n",
    "    print(\"공부시간=%.f, 실제점수=%.f, 예측점수=%.f\" % (x[i], y[i], predict(x[i])))"
   ]
  },
  {
   "cell_type": "code",
   "execution_count": 9,
   "id": "ced411aa",
   "metadata": {},
   "outputs": [
    {
     "name": "stdout",
     "output_type": "stream",
     "text": [
      "평균 제곱 오차: 11.0\n"
     ]
    }
   ],
   "source": [
    "# 평균 제곱 오차 함수를 각 y 값에 대입하여 최종 값을 구하는 함수입니다.\n",
    "n=len(x)  \n",
    "def mse(y, y_pred):\n",
    "    return (1/n) * sum((y - y_pred)**2)\n",
    "\n",
    "# 평균 제곱 오차 값을 출력합니다.\n",
    "print(\"평균 제곱 오차: \" + str(mse(y,predict_result)))"
   ]
  },
  {
   "cell_type": "code",
   "execution_count": null,
   "id": "67789044",
   "metadata": {},
   "outputs": [],
   "source": []
  }
 ],
 "metadata": {
  "kernelspec": {
   "display_name": "Python 3 (ipykernel)",
   "language": "python",
   "name": "python3"
  },
  "language_info": {
   "codemirror_mode": {
    "name": "ipython",
    "version": 3
   },
   "file_extension": ".py",
   "mimetype": "text/x-python",
   "name": "python",
   "nbconvert_exporter": "python",
   "pygments_lexer": "ipython3",
   "version": "3.10.9"
  }
 },
 "nbformat": 4,
 "nbformat_minor": 5
}
