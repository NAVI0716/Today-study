{
 "cells": [
  {
   "cell_type": "code",
   "execution_count": 1,
   "id": "96d54272",
   "metadata": {},
   "outputs": [],
   "source": [
    "import pickle\n",
    "with open('data.picke','rb') as fw :\n",
    "    전처리_된_데이터 = pickle.load(fw)"
   ]
  },
  {
   "cell_type": "code",
   "execution_count": 4,
   "id": "d0c7e12c",
   "metadata": {},
   "outputs": [
    {
     "data": {
      "text/plain": [
       "dict"
      ]
     },
     "execution_count": 4,
     "metadata": {},
     "output_type": "execute_result"
    }
   ],
   "source": [
    "type(전처리_된_데이터)"
   ]
  },
  {
   "cell_type": "code",
   "execution_count": 6,
   "id": "7f21d546",
   "metadata": {
    "scrolled": true
   },
   "outputs": [
    {
     "data": {
      "text/plain": [
       "dict_keys(['학습_데이터', '학습_결과', '테스트_데이터', '테스트_결과', '검증_데이터', '검증_결과', '토큰', '단어수', '불용어', '입력길이'])"
      ]
     },
     "execution_count": 6,
     "metadata": {},
     "output_type": "execute_result"
    }
   ],
   "source": [
    "전처리_된_데이터.keys()"
   ]
  },
  {
   "cell_type": "code",
   "execution_count": 28,
   "id": "9a9da0bc",
   "metadata": {},
   "outputs": [],
   "source": [
    "t_x=전처리_된_데이터['학습_데이터']\n",
    "tt_x=전처리_된_데이터['테스트_데이터']\n",
    "t_y=전처리_된_데이터['학습_결과']\n",
    "tt_y=전처리_된_데이터['테스트_결과']\n",
    "v_x=전처리_된_데이터['검증_데이터']\n",
    "v_y=전처리_된_데이터['검증_결과']\n",
    "n=전처리_된_데이터['단어수']\n",
    "tk1=전처리_된_데이터['토큰']\n",
    "stop_words=전처리_된_데이터['불용어']\n",
    "max_w_l=전처리_된_데이터['입력길이']"
   ]
  },
  {
   "cell_type": "code",
   "execution_count": 37,
   "id": "6c293998",
   "metadata": {},
   "outputs": [],
   "source": [
    "from tensorflow.keras.callbacks import EarlyStopping, ModelCheckpoint,TensorBoard\n",
    "es=EarlyStopping(monitor='val_loss',mode='min',verbose=1,patience=3)\n",
    "mc=ModelCheckpoint('best_m2.h5',monitor='val_acc',mode='max',verbose=1,save_best_only=True)\n",
    "t_bd=TensorBoard(log_dir=\"logs\")"
   ]
  },
  {
   "cell_type": "code",
   "execution_count": 14,
   "id": "6c5a7f70",
   "metadata": {},
   "outputs": [],
   "source": [
    "from tensorflow.keras.models import Sequential\n",
    "from tensorflow.keras.layers import LSTM, Dense, Embedding\n",
    "from tensorflow.keras.optimizers import Adam\n",
    "from tensorflow.keras import layers"
   ]
  },
  {
   "cell_type": "code",
   "execution_count": 22,
   "id": "31326737",
   "metadata": {},
   "outputs": [],
   "source": [
    "임배딩길이=128\n",
    "뉴런수=128\n",
    "d_out=0.5\n",
    "ec=15\n",
    "lr=0.001\n",
    "배치크기=128"
   ]
  },
  {
   "cell_type": "code",
   "execution_count": 20,
   "id": "9bd0a733",
   "metadata": {},
   "outputs": [],
   "source": [
    "m=Sequential()\n",
    "m.add(Embedding(n,임배딩길이,input_length=max_w_l))\n",
    "m.add(layers.GRU(뉴런수,dropout=d_out,return_sequences=True))\n",
    "m.add(layers.GRU(뉴런수//2,dropout=d_out))\n",
    "m.add(Dense(1,activation='sigmoid'))\n",
    "m.compile(optimizer=Adam(lr),loss='binary_crossentropy',metrics=['acc'])"
   ]
  },
  {
   "cell_type": "code",
   "execution_count": 23,
   "id": "58cb4c1d",
   "metadata": {},
   "outputs": [
    {
     "name": "stdout",
     "output_type": "stream",
     "text": [
      "Epoch 1/15\n",
      "435/435 [==============================] - 73s 161ms/step - loss: 0.5240 - acc: 0.7330 - val_loss: 0.4732 - val_acc: 0.7762\n",
      "\n",
      "Epoch 00001: val_acc improved from -inf to 0.77618, saving model to best_m2.h5\n",
      "Epoch 2/15\n",
      "435/435 [==============================] - 69s 159ms/step - loss: 0.4097 - acc: 0.8155 - val_loss: 0.4549 - val_acc: 0.7878\n",
      "\n",
      "Epoch 00002: val_acc improved from 0.77618 to 0.78778, saving model to best_m2.h5\n",
      "Epoch 3/15\n",
      "435/435 [==============================] - 70s 161ms/step - loss: 0.3570 - acc: 0.8432 - val_loss: 0.4844 - val_acc: 0.7849\n",
      "\n",
      "Epoch 00003: val_acc did not improve from 0.78778\n",
      "Epoch 4/15\n",
      "435/435 [==============================] - 71s 162ms/step - loss: 0.3146 - acc: 0.8652 - val_loss: 0.5007 - val_acc: 0.7781\n",
      "\n",
      "Epoch 00004: val_acc did not improve from 0.78778\n",
      "Epoch 5/15\n",
      "435/435 [==============================] - 78s 178ms/step - loss: 0.2793 - acc: 0.8830 - val_loss: 0.5221 - val_acc: 0.7750\n",
      "\n",
      "Epoch 00005: val_acc did not improve from 0.78778\n",
      "Epoch 00005: early stopping\n"
     ]
    }
   ],
   "source": [
    "hy=m.fit(t_x,t_y,epochs=ec,callbacks=[es,mc,t_bd],batch_size=배치크기,validation_data=(v_x,v_y))"
   ]
  },
  {
   "cell_type": "code",
   "execution_count": 24,
   "id": "02f28473",
   "metadata": {},
   "outputs": [
    {
     "data": {
      "text/plain": [
       "[<matplotlib.lines.Line2D at 0x1772d977640>]"
      ]
     },
     "execution_count": 24,
     "metadata": {},
     "output_type": "execute_result"
    },
    {
     "data": {
      "image/png": "[encoded data removed]",
      "text/plain": [
       "<Figure size 432x288 with 1 Axes>"
      ]
     },
     "metadata": {
      "needs_background": "light"
     },
     "output_type": "display_data"
    }
   ],
   "source": [
    "import matplotlib.pyplot as plt\n",
    "x=range(1,len(hy.history['loss'])+1)\n",
    "plt.plot(x,hy.history['loss'])\n",
    "plt.plot(x,hy.history['val_loss'])"
   ]
  },
  {
   "cell_type": "code",
   "execution_count": 25,
   "id": "2419f0ff",
   "metadata": {},
   "outputs": [
    {
     "name": "stdout",
     "output_type": "stream",
     "text": [
      "930/930 [==============================] - 17s 17ms/step - loss: 0.4551 - acc: 0.7885\n"
     ]
    },
    {
     "data": {
      "text/plain": [
       "0.7884796261787415"
      ]
     },
     "execution_count": 25,
     "metadata": {},
     "output_type": "execute_result"
    }
   ],
   "source": [
    "from tensorflow.keras.models import load_model\n",
    "loaded_model = load_model('best_m2.h5')\n",
    "loaded_model.evaluate(tt_x,tt_y)[1]"
   ]
  },
  {
   "cell_type": "code",
   "execution_count": null,
   "id": "2e311b7c",
   "metadata": {},
   "outputs": [],
   "source": []
  },
  {
   "cell_type": "code",
   "execution_count": 35,
   "id": "365ec445",
   "metadata": {},
   "outputs": [],
   "source": [
    "import re\n",
    "from konlpy.tag import Okt\n",
    "from tensorflow.keras.preprocessing.sequence import pad_sequences\n",
    "tk=Okt()\n",
    "def 문장_전처리(문장):\n",
    "    문장 = re.sub(r'[^ㄱ-ㅎㅏ-ㅣ가-힣 ]','', 문장)\n",
    "    문장 = tk.morphs(문장, stem=True)\n",
    "    문장 = [w for w in 문장 if not w in stop_words] \n",
    "    encoded = tk1.texts_to_sequences([문장])\n",
    "    pad_new = pad_sequences(encoded, maxlen = max_w_l)\n",
    "    score = float(loaded_model.predict(pad_new))\n",
    "    if(score > 0.5):\n",
    "        print(f\"{score * 100:.2f}% 확률로 긍정 게임 리뷰입니다.\\n\")\n",
    "    else:\n",
    "        print(f\"{(1 - score) * 100:.2f}% 확률로 부정 게임 리뷰입니다.\\n\")"
   ]
  },
  {
   "cell_type": "code",
   "execution_count": 36,
   "id": "bb92832a",
   "metadata": {
    "scrolled": true
   },
   "outputs": [
    {
     "name": "stdout",
     "output_type": "stream",
     "text": [
      "95.46% 확률로 부정 게임 리뷰입니다.\n",
      "\n"
     ]
    }
   ],
   "source": [
    "문장_전처리('아니 튕기면 보상을 좀 해주던가 보스잡다가 튕긴건데 이걸 보상을 안해주네..')"
   ]
  },
  {
   "cell_type": "code",
   "execution_count": 41,
   "id": "7005e75d",
   "metadata": {},
   "outputs": [],
   "source": [
    "m1=Sequential()\n",
    "m1.add(Embedding(n,임배딩길이,input_length=max_w_l))\n",
    "m1.add(layers.GRU(뉴런수,dropout=d_out,return_sequences=True))\n",
    "m1.add(layers.GRU(뉴런수//2,dropout=d_out))\n",
    "m1.add(Dense(1,activation='sigmoid'))\n",
    "m1.compile(optimizer=Adam(lr),loss='binary_crossentropy',metrics=['acc'])"
   ]
  },
  {
   "cell_type": "code",
   "execution_count": 42,
   "id": "1a9558c9",
   "metadata": {
    "scrolled": true
   },
   "outputs": [
    {
     "name": "stdout",
     "output_type": "stream",
     "text": [
      "Epoch 1/15\n",
      "435/435 [==============================] - 85s 188ms/step - loss: 0.5181 - acc: 0.7374 - val_loss: 0.4630 - val_acc: 0.7795\n",
      "\n",
      "Epoch 00001: val_acc improved from 0.77084 to 0.77949, saving model to best_m2.h5\n",
      "Epoch 2/15\n",
      "435/435 [==============================] - 75s 172ms/step - loss: 0.4101 - acc: 0.8148 - val_loss: 0.4651 - val_acc: 0.7858\n",
      "\n",
      "Epoch 00002: val_acc improved from 0.77949 to 0.78584, saving model to best_m2.h5\n",
      "Epoch 3/15\n",
      "435/435 [==============================] - 83s 190ms/step - loss: 0.3608 - acc: 0.8427 - val_loss: 0.4744 - val_acc: 0.7805\n",
      "\n",
      "Epoch 00003: val_acc did not improve from 0.78584\n",
      "Epoch 4/15\n",
      "435/435 [==============================] - 82s 189ms/step - loss: 0.3182 - acc: 0.8647 - val_loss: 0.5106 - val_acc: 0.7793\n",
      "\n",
      "Epoch 00004: val_acc did not improve from 0.78584\n",
      "Epoch 00004: early stopping\n"
     ]
    }
   ],
   "source": [
    "hy1=m1.fit(t_x,t_y,epochs=ec,callbacks=[es,mc,t_bd],batch_size=배치크기,validation_data=(v_x,v_y))"
   ]
  },
  {
   "cell_type": "code",
   "execution_count": 43,
   "id": "102fd21f",
   "metadata": {},
   "outputs": [
    {
     "data": {
      "text/plain": [
       "[<matplotlib.lines.Line2D at 0x1772b084640>]"
      ]
     },
     "execution_count": 43,
     "metadata": {},
     "output_type": "execute_result"
    },
    {
     "data": {
      "image/png": "[encoded data removed]",
      "text/plain": [
       "<Figure size 432x288 with 1 Axes>"
      ]
     },
     "metadata": {
      "needs_background": "light"
     },
     "output_type": "display_data"
    }
   ],
   "source": [
    "import matplotlib.pyplot as plt\n",
    "x=range(1,len(hy1.history['loss'])+1)\n",
    "plt.plot(x,hy1.history['loss'])\n",
    "plt.plot(x,hy1.history['val_loss'])"
   ]
  },
  {
   "cell_type": "code",
   "execution_count": 44,
   "id": "5f7d6d1c",
   "metadata": {},
   "outputs": [
    {
     "name": "stdout",
     "output_type": "stream",
     "text": [
      "The tensorboard extension is already loaded. To reload it, use:\n",
      "  %reload_ext tensorboard\n"
     ]
    },
    {
     "data": {
      "text/plain": [
       "Reusing TensorBoard on port 6006 (pid 13452), started 0:36:37 ago. (Use '!kill 13452' to kill it.)"
      ]
     },
     "metadata": {},
     "output_type": "display_data"
    },
    {
     "data": {
      "text/html": [
       "\n",
       "      <iframe id=\"tensorboard-frame-34f5e89d9fd11e82\" width=\"100%\" height=\"800\" frameborder=\"0\">\n",
       "      </iframe>\n",
       "      <script>\n",
       "        (function() {\n",
       "          const frame = document.getElementById(\"tensorboard-frame-34f5e89d9fd11e82\");\n",
       "          const url = new URL(\"/\", window.location);\n",
       "          const port = 6006;\n",
       "          if (port) {\n",
       "            url.port = port;\n",
       "          }\n",
       "          frame.src = url;\n",
       "        })();\n",
       "      </script>\n",
       "    "
      ],
      "text/plain": [
       "<IPython.core.display.HTML object>"
      ]
     },
     "metadata": {},
     "output_type": "display_data"
    }
   ],
   "source": [
    "%load_ext tensorboard\n",
    "%tensorboard --logdir logs"
   ]
  },
  {
   "cell_type": "code",
   "execution_count": null,
   "id": "866e504c",
   "metadata": {},
   "outputs": [],
   "source": []
  }
 ],
 "metadata": {
  "kernelspec": {
   "display_name": "Python 3 (ipykernel)",
   "language": "python",
   "name": "python3"
  },
  "language_info": {
   "codemirror_mode": {
    "name": "ipython",
    "version": 3
   },
   "file_extension": ".py",
   "mimetype": "text/x-python",
   "name": "python",
   "nbconvert_exporter": "python",
   "pygments_lexer": "ipython3",
   "version": "3.9.7"
  }
 },
 "nbformat": 4,
 "nbformat_minor": 5
}
