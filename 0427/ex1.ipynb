{
 "cells": [
  {
   "cell_type": "code",
   "execution_count": 1,
   "id": "7dea82a6",
   "metadata": {},
   "outputs": [],
   "source": [
    "import numpy as np\n",
    "from sklearn.linear_model import LogisticRegression#회귀 분류\n",
    "from sklearn.tree import DecisionTreeClassifier\n",
    "from sklearn.naive_bayes import GaussianNB\n",
    "from sklearn.ensemble import VotingClassifier# fier 분류/ 앙상블형태의 "
   ]
  },
  {
   "cell_type": "code",
   "execution_count": 2,
   "id": "5d139cf0",
   "metadata": {},
   "outputs": [],
   "source": [
    "X = np.load('day7_data2_X.npy')\n",
    "y = np.load('day7_data2_y.npy')"
   ]
  },
  {
   "cell_type": "code",
   "execution_count": 3,
   "id": "5b0343d8",
   "metadata": {},
   "outputs": [],
   "source": [
    "c1 =LogisticRegression(random_state=1)\n",
    "c2 = DecisionTreeClassifier(random_state=1)#max_depth 사전 가지치기,,max_depth=4\n",
    "c3 = GaussianNB()\n",
    "ec = VotingClassifier(estimators=[('lr',c1),('rf',c2),('gnb',c3)],voting='hard')#estimators= 리스트형으로서 모델들을 분류기에 하나씩 넣어줌"
   ]
  },
  {
   "cell_type": "code",
   "execution_count": 4,
   "id": "4e6e0a0c",
   "metadata": {},
   "outputs": [
    {
     "data": {
      "text/plain": [
       "0.8009268075922046"
      ]
     },
     "execution_count": 4,
     "metadata": {},
     "output_type": "execute_result"
    }
   ],
   "source": [
    "#테스트하기 위해 교차검증을 진행한다. 교차검증은 n가지중 젤 효율 좋은 값을 찾아낸다.\n",
    "from sklearn.model_selection import cross_val_score\n",
    "cross_val_score(ec,X,y,cv=5).mean()#교차검증 점수, cv몇가지로 분류해서 나타내겠는가\n",
    "#앙상블은 절대적이지 않다. 단일 모델동작에서보다 좋지않을때도 있다."
   ]
  },
  {
   "cell_type": "code",
   "execution_count": 5,
   "id": "64553dec",
   "metadata": {},
   "outputs": [
    {
     "data": {
      "text/plain": [
       "0.8290420872214816"
      ]
     },
     "execution_count": 5,
     "metadata": {},
     "output_type": "execute_result"
    }
   ],
   "source": [
    "cross_val_score(c1,X,y,cv=5).mean()"
   ]
  },
  {
   "cell_type": "code",
   "execution_count": 6,
   "id": "52f0361e",
   "metadata": {},
   "outputs": [
    {
     "data": {
      "text/plain": [
       "0.7829175395162826"
      ]
     },
     "execution_count": 6,
     "metadata": {},
     "output_type": "execute_result"
    }
   ],
   "source": [
    "cross_val_score(c2,X,y,cv=5).mean()"
   ]
  },
  {
   "cell_type": "code",
   "execution_count": 7,
   "id": "8a45668b",
   "metadata": {},
   "outputs": [
    {
     "data": {
      "text/plain": [
       "0.4600139655938551"
      ]
     },
     "execution_count": 7,
     "metadata": {},
     "output_type": "execute_result"
    }
   ],
   "source": [
    "cross_val_score(c3,X,y,cv=5).mean() #성능이 젤 떨어짐"
   ]
  },
  {
   "cell_type": "code",
   "execution_count": 8,
   "id": "bea16d61",
   "metadata": {},
   "outputs": [
    {
     "data": {
      "text/plain": [
       "0.8222687742017394"
      ]
     },
     "execution_count": 8,
     "metadata": {},
     "output_type": "execute_result"
    }
   ],
   "source": [
    "#앙상블은 최적적의 선택을하기때문에 오래걸린다.\n",
    "#회구문제에서 가중평균이나 단순평균을 구하는방식으로 y 예측 => 쓰레기 결과도 최종결과에 영향을 줄수도있다.\n",
    "ec1 = VotingClassifier(estimators=[('lr',c1),('dt',c2)],voting ='hard')\n",
    "cross_val_score(ec1,X,y,cv=5).mean()                                                   "
   ]
  },
  {
   "cell_type": "code",
   "execution_count": 9,
   "id": "38f16fab",
   "metadata": {},
   "outputs": [],
   "source": [
    "#LogisticRegression(C=,penalty=,solver=,)#로지스틱회귀 파라미터\n",
    "c_params =  [0.1,5.0,7.0,10.0,15.0,20.0,100.0]\n",
    "params = {\n",
    "    'lr__solver':['liblinear'],\n",
    "    'lr__penalty':['l2'],#리스트를 씌워서 extend 구조를 보내야하기때문에 이렇게보낸다.\n",
    "    'lr__C':c_params,\n",
    "    'dt__criterion':['gini','entropy'], #엔트로피는 종류가 너무 많을때 정보이득값이 높게 잡힐때도있다.\n",
    "    'dt__max_depth':[10,8,7,6,5,4,3,2],\n",
    "    'dt__min_samples_leaf':[1,2,3,4,5,6,7,8,9]\n",
    "}"
   ]
  },
  {
   "cell_type": "code",
   "execution_count": 10,
   "id": "5a2e27bc",
   "metadata": {},
   "outputs": [
    {
     "data": {
      "text/plain": [
       "0.8425569732749316"
      ]
     },
     "execution_count": 10,
     "metadata": {},
     "output_type": "execute_result"
    }
   ],
   "source": [
    "from sklearn.model_selection import GridSearchCV\n",
    "g=GridSearchCV(estimator=ec1,param_grid=params,cv=5)\n",
    "g.fit(X,y)\n",
    "g.best_score_\n"
   ]
  },
  {
   "cell_type": "code",
   "execution_count": 11,
   "id": "6c927525",
   "metadata": {},
   "outputs": [
    {
     "data": {
      "text/plain": [
       "{'dt__criterion': 'gini',\n",
       " 'dt__max_depth': 10,\n",
       " 'dt__min_samples_leaf': 5,\n",
       " 'lr__C': 5.0,\n",
       " 'lr__penalty': 'l2',\n",
       " 'lr__solver': 'liblinear'}"
      ]
     },
     "execution_count": 11,
     "metadata": {},
     "output_type": "execute_result"
    }
   ],
   "source": [
    "g.best_params_"
   ]
  },
  {
   "cell_type": "code",
   "execution_count": null,
   "id": "8035cbe6",
   "metadata": {},
   "outputs": [],
   "source": [
    "ec2 = VotingClassifier(estimators=[('A',c1),('B',c2)],voting ='hard')\n",
    "params = {\n",
    "    'A__solver':['liblinear'],\n",
    "    'A__penalty':['l2'],#리스트를 씌워서 extend 구조를 보내야하기때문에 이렇게보낸다.\n",
    "    'A__C':[5.0],\n",
    "    'B__criterion':['gini'], #엔트로피는 종류가 너무 많을때 정보이득값이 높게 잡힐때도있다.\n",
    "    'B__max_depth':[10],\n",
    "    'B__min_samples_leaf':[5]\n",
    "}\n",
    "g1=GridSearchCV(estimator=ec2,param_grid=params,cv=5)\n",
    "#g.best_score_"
   ]
  },
  {
   "cell_type": "markdown",
   "id": "6723d2ed",
   "metadata": {},
   "source": [
    "각각 개별로"
   ]
  },
  {
   "cell_type": "code",
   "execution_count": 13,
   "id": "c7f044b2",
   "metadata": {},
   "outputs": [
    {
     "data": {
      "text/plain": [
       "0.8425569732749316"
      ]
     },
     "execution_count": 13,
     "metadata": {},
     "output_type": "execute_result"
    }
   ],
   "source": [
    "c1 =LogisticRegression(solver='liblinear',penalty='l2',C=5.0,random_state=1)\n",
    "c2 = DecisionTreeClassifier(criterion='gini',max_depth=10,min_samples_leaf=5,random_state=1)\n",
    "ec3 = VotingClassifier(estimators=[('A',c1),('B',c2)],voting ='hard')\n",
    "cross_val_score(ec3,X,y,cv=5).mean()"
   ]
  },
  {
   "cell_type": "markdown",
   "id": "a360d4c2",
   "metadata": {},
   "source": [
    "정리조합"
   ]
  },
  {
   "cell_type": "code",
   "execution_count": 14,
   "id": "754c6f11",
   "metadata": {},
   "outputs": [
    {
     "data": {
      "text/plain": [
       "0.8425569732749316"
      ]
     },
     "execution_count": 14,
     "metadata": {},
     "output_type": "execute_result"
    }
   ],
   "source": [
    "import numpy as np#파일 로드\n",
    "from sklearn.linear_model import LogisticRegression#모델1\n",
    "from sklearn.tree import DecisionTreeClassifier#모델2\n",
    "from sklearn.ensemble import VotingClassifier#모델 조합\n",
    "from sklearn.model_selection import cross_val_score#성능평가\n",
    "#data로드\n",
    "X = np.load('day7_data2_X.npy')\n",
    "y = np.load('day7_data2_y.npy')\n",
    "#모델 생성(최적파라미터 값을 적용)\n",
    "c1 =LogisticRegression(solver='liblinear',penalty='l2',C=5.0,random_state=1)\n",
    "c2 = DecisionTreeClassifier(criterion='gini',max_depth=10,min_samples_leaf=5,random_state=1)\n",
    "#앙상블 모델 생성\n",
    "ec = VotingClassifier(estimators=[('c1',c1),('c2',c2)],voting ='hard')\n",
    "#검증\n",
    "cross_val_score(ec,X,y,cv=5).mean()"
   ]
  },
  {
   "cell_type": "code",
   "execution_count": null,
   "id": "1e83fff8",
   "metadata": {},
   "outputs": [],
   "source": []
  }
 ],
 "metadata": {
  "kernelspec": {
   "display_name": "Python 3 (ipykernel)",
   "language": "python",
   "name": "python3"
  },
  "language_info": {
   "codemirror_mode": {
    "name": "ipython",
    "version": 3
   },
   "file_extension": ".py",
   "mimetype": "text/x-python",
   "name": "python",
   "nbconvert_exporter": "python",
   "pygments_lexer": "ipython3",
   "version": "3.9.7"
  }
 },
 "nbformat": 4,
 "nbformat_minor": 5
}
