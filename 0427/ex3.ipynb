{
 "cells": [
  {
   "cell_type": "code",
   "execution_count": 4,
   "id": "5c5b2dd5",
   "metadata": {},
   "outputs": [],
   "source": [
    "import numpy as np#파일 로드\n",
    "from sklearn.linear_model import LogisticRegression#모델1\n",
    "from sklearn.tree import DecisionTreeClassifier#모델2\n",
    "from sklearn.ensemble import VotingClassifier#모델 조합\n",
    "from sklearn.model_selection import cross_val_score#성능평가\n",
    "from sklearn.ensemble import BaggingClassifier, RandomForestClassifier\n",
    "#data로드\n",
    "X = np.load('day7_data2_X.npy')\n",
    "y = np.load('day7_data2_y.npy')"
   ]
  },
  {
   "cell_type": "code",
   "execution_count": 2,
   "id": "7aa7309b",
   "metadata": {},
   "outputs": [],
   "source": [
    "from sklearn.ensemble import AdaBoostClassifier\n",
    "aec = AdaBoostClassifier(base_estimator=DecisionTreeClassifier(max_depth=2),n_estimators=500)#결정트리DecisionTreeClassifier\n",
    "\n"
   ]
  },
  {
   "cell_type": "code",
   "execution_count": 3,
   "id": "913890fd",
   "metadata": {},
   "outputs": [
    {
     "data": {
      "text/plain": [
       "0.787443661524789"
      ]
     },
     "execution_count": 3,
     "metadata": {},
     "output_type": "execute_result"
    }
   ],
   "source": [
    "cross_val_score(aec,X,y,cv=5).mean()"
   ]
  },
  {
   "cell_type": "code",
   "execution_count": 5,
   "id": "8d986d57",
   "metadata": {},
   "outputs": [
    {
     "data": {
      "text/plain": [
       "0.8009395035866185"
      ]
     },
     "execution_count": 5,
     "metadata": {},
     "output_type": "execute_result"
    }
   ],
   "source": [
    "ck1=RandomForestClassifier(n_estimators=500)\n",
    "cross_val_score(ck1,X,y,cv=5).mean()"
   ]
  },
  {
   "cell_type": "code",
   "execution_count": 7,
   "id": "22b82c32",
   "metadata": {},
   "outputs": [
    {
     "data": {
      "text/plain": [
       "0.8302101187075477"
      ]
     },
     "execution_count": 7,
     "metadata": {},
     "output_type": "execute_result"
    }
   ],
   "source": [
    "aec1 = AdaBoostClassifier(base_estimator=DecisionTreeClassifier(max_depth=2),n_estimators=500)#결정트리DecisionTreeClassifier\n",
    "params= {\n",
    "    'n_estimators':[20,30,40,50,100],#무조건 구조로 전달해야함\n",
    "    'learning_rate':[0.4,0.45,0.5,0.55,0.6],#범위가 이동간격=학습률\n",
    "    'base_estimator__criterion':['gini','entropy'],\n",
    "    'base_estimator__max_features':[7,8],#특징수를 넘기면 안됨\n",
    "    'base_estimator__max_depth':[1,2]\n",
    "}\n",
    "from sklearn.model_selection import GridSearchCV\n",
    "g=GridSearchCV(estimator=aec1,param_grid=params,cv=5)\n",
    "g.fit(X,y)\n",
    "g.best_score_"
   ]
  },
  {
   "cell_type": "code",
   "execution_count": 8,
   "id": "0012a7c2",
   "metadata": {},
   "outputs": [
    {
     "data": {
      "text/plain": [
       "{'base_estimator__criterion': 'gini',\n",
       " 'base_estimator__max_depth': 2,\n",
       " 'base_estimator__max_features': 7,\n",
       " 'learning_rate': 0.45,\n",
       " 'n_estimators': 30}"
      ]
     },
     "execution_count": 8,
     "metadata": {},
     "output_type": "execute_result"
    }
   ],
   "source": [
    "g.best_params_"
   ]
  },
  {
   "cell_type": "code",
   "execution_count": null,
   "id": "1fc2a336",
   "metadata": {},
   "outputs": [],
   "source": []
  }
 ],
 "metadata": {
  "kernelspec": {
   "display_name": "Python 3 (ipykernel)",
   "language": "python",
   "name": "python3"
  },
  "language_info": {
   "codemirror_mode": {
    "name": "ipython",
    "version": 3
   },
   "file_extension": ".py",
   "mimetype": "text/x-python",
   "name": "python",
   "nbconvert_exporter": "python",
   "pygments_lexer": "ipython3",
   "version": "3.9.7"
  }
 },
 "nbformat": 4,
 "nbformat_minor": 5
}
