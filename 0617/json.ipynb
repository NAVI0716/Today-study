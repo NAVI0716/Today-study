{
 "cells": [
  {
   "cell_type": "code",
   "execution_count": 3,
   "id": "64d3afe3",
   "metadata": {},
   "outputs": [
    {
     "name": "stdout",
     "output_type": "stream",
     "text": [
      "질문: 관광목적을 이야기해주세요\n",
      " 답변: 바다가보고싶어요.\n",
      "\n",
      "질문: 관광목적을 이야기해주세요\n",
      " 답변: 절에가려구요.\n",
      "\n"
     ]
    }
   ],
   "source": [
    "import openpyxl\n",
    "class Conversation:\n",
    "    def __init__(self, contentName, contentType, question, answer):\n",
    "        self.contentName = contentName\n",
    "        self.contentType = contentType\n",
    "        self.question = question\n",
    "        self.answer = answer\n",
    "        \n",
    "    def __str__(self):\n",
    "        return \"질문: \"+ self.question + \"\\n 답변: \" + self.answer +\"\\n\"\n",
    "    \n",
    "wb = openpyxl.load_workbook(\"test.xlsx\")\n",
    "\n",
    "ws = wb.active#활성시트\n",
    "\n",
    "conversations = []\n",
    "\n",
    "for r in ws.rows:\n",
    "    c = Conversation(r[0].value, r[1].value, r[2].value, r[3].value)\n",
    "    conversations.append(c)\n",
    "    \n",
    "wb.close()\n",
    "\n",
    "for c in conversations:\n",
    "    print(str(c))\n"
   ]
  },
  {
   "cell_type": "code",
   "execution_count": 5,
   "id": "f48b0178",
   "metadata": {},
   "outputs": [],
   "source": [
    "# -*- coding: utf-8 -*-\n",
    "# 파일로 출력하기\n",
    "i = 1\n",
    "# 출력, 입력 값 JSON 파일을 생성합니다.\n",
    "prev = str(conversations[0].contentName) + str(conversations[0].contentType)\n",
    "f = open(prev + '.json', 'w', encoding='UTF-8')\n",
    "f.write('{ \"id\": \"10d3155d-4468-4118-8f5d-15009af446d0\", \"name\": \"' + prev + '\", \"auto\": true, \"contexts\": [], \"responses\": [ { \"resetContexts\": false, \"affectedContexts\": [], \"parameters\": [], \"messages\": [ { \"type\": 0, \"lang\": \"ko\", \"speech\": \"' + conversations[0].answer + '\" } ], \"defaultResponsePlatforms\": {}, \"speech\": [] } ], \"priority\": 500000, \"webhookUsed\": false, \"webhookForSlotFilling\": false, \"fallbackIntent\": false, \"events\": [] }')\n",
    "f.close()\n",
    "f = open(prev + '_usersays_ko.json', 'w', encoding='UTF-8')\n",
    "f.write(\"[\")\n",
    "f.write('{ \"id\": \"3330d5a3-f38e-48fd-a3e6-000000000001\", \"data\": [ { \"text\": \"' + conversations[0].question + '\", \"userDefined\": false } ], \"isTemplate\": false, \"count\": 0 },')\n",
    "while True:\n",
    "    if i >= len(conversations):\n",
    "        f.write(\"]\")\n",
    "        f.close()\n",
    "        break;\n",
    "    c = conversations[i]\n",
    "    if prev == str(c.contentName) + str(c.contentType):\n",
    "        f.write('{ \"id\": \"3330d5a3-f38e-48fd-a3e6-000000000001\", \"data\": [ { \"text\": \"' + c.question + '\", \"userDefined\": false } ], \"isTemplate\": false, \"count\": 0 },')\n",
    "    else:\n",
    "        f.write(\"]\")\n",
    "        f.close()\n",
    "        # 출력, 입력 값 JSON 파일을 생성합니다.\n",
    "        prev = str(c.contentName) + str(c.contentType)\n",
    "        f = open(prev + '.json', 'w', encoding='UTF-8')\n",
    "        f.write('{ \"id\": \"10d3155d-4468-4118-8f5d-15009af446d0\", \"name\": \"' + prev + '\", \"auto\": true, \"contexts\": [], \"responses\": [ { \"resetContexts\": false, \"affectedContexts\": [], \"parameters\": [], \"messages\": [ { \"type\": 0, \"lang\": \"ko\", \"speech\": \"' + c.answer + '\" } ], \"defaultResponsePlatforms\": {}, \"speech\": [] } ], \"priority\": 500000, \"webhookUsed\": false, \"webhookForSlotFilling\": false, \"fallbackIntent\": false, \"events\": [] }')\n",
    "        f.close()\n",
    "        f = open(prev + '_usersays_ko.json', 'w', encoding='UTF-8')\n",
    "        f.write(\"[\")\n",
    "        f.write('{ \"id\": \"3330d5a3-f38e-48fd-a3e6-000000000001\", \"data\": [ { \"text\": \"' + c.question + '\", \"userDefined\": false } ], \"isTemplate\": false, \"count\": 0 },')\n",
    "    i = i + 1\n"
   ]
  },
  {
   "cell_type": "code",
   "execution_count": null,
   "id": "1e116d10",
   "metadata": {},
   "outputs": [],
   "source": []
  }
 ],
 "metadata": {
  "kernelspec": {
   "display_name": "Python 3 (ipykernel)",
   "language": "python",
   "name": "python3"
  },
  "language_info": {
   "codemirror_mode": {
    "name": "ipython",
    "version": 3
   },
   "file_extension": ".py",
   "mimetype": "text/x-python",
   "name": "python",
   "nbconvert_exporter": "python",
   "pygments_lexer": "ipython3",
   "version": "3.9.7"
  }
 },
 "nbformat": 4,
 "nbformat_minor": 5
}
