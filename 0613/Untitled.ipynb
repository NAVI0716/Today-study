{
 "cells": [
  {
   "cell_type": "code",
   "execution_count": 67,
   "id": "dcd89a8d",
   "metadata": {},
   "outputs": [
    {
     "name": "stdout",
     "output_type": "stream",
     "text": [
      "20 2\n",
      "HHHHHPPPPPHPHPHPHHHP\n",
      "7\n"
     ]
    }
   ],
   "source": [
    "n, k=map(int,input().split())\n",
    "n_l = list(input())\n",
    "count=0\n",
    "c1=0\n",
    "for i in range(0,n):\n",
    "    if n_l[i] == 'P':\n",
    "        c1+=1\n",
    "        for j in range(i-k,i+k+1):\n",
    "            if c1 != count and j <= n-1 and n_l[j] == 'H' and j >= 0:\n",
    "                n_l[j]='X'\n",
    "                count+=1\n",
    "                c1=count\n",
    "print(count)\n",
    "                    \n",
    "        \n",
    "    \n"
   ]
  },
  {
   "cell_type": "code",
   "execution_count": 45,
   "id": "ab64a6c9",
   "metadata": {},
   "outputs": [
    {
     "data": {
      "text/plain": [
       "['H',\n",
       " 'H',\n",
       " 'H',\n",
       " 'X',\n",
       " 'X',\n",
       " 'P',\n",
       " 'P',\n",
       " 'P',\n",
       " 'P',\n",
       " 'P',\n",
       " 'X',\n",
       " 'P',\n",
       " 'X',\n",
       " 'P',\n",
       " 'X',\n",
       " 'P',\n",
       " 'X',\n",
       " 'X',\n",
       " 'X',\n",
       " 'P']"
      ]
     },
     "execution_count": 45,
     "metadata": {},
     "output_type": "execute_result"
    }
   ],
   "source": [
    "n, k=map(int,input().split())\n",
    "n_l = list(input())\n",
    "count=0\n",
    "c1=0\n",
    "l=[]\n",
    "for i in range(0,n):\n",
    "    if n_l[i] == 'P':\n",
    "        l.append(i)\n",
    "for j in l:\n",
    "    if c1 != count and j <= n-1 and n_l[j] == 'H':\n",
    "        n_l[j]='X'\n",
    "        count+=1\n",
    "        c1=count\n",
    "count\n",
    "                    \n",
    "        "
   ]
  },
  {
   "cell_type": "code",
   "execution_count": 46,
   "id": "8abf2ccd",
   "metadata": {},
   "outputs": [
    {
     "data": {
      "text/plain": [
       "9"
      ]
     },
     "execution_count": 46,
     "metadata": {},
     "output_type": "execute_result"
    }
   ],
   "source": [
    "c1"
   ]
  },
  {
   "cell_type": "code",
   "execution_count": null,
   "id": "e41777ed",
   "metadata": {},
   "outputs": [],
   "source": []
  }
 ],
 "metadata": {
  "kernelspec": {
   "display_name": "Python 3 (ipykernel)",
   "language": "python",
   "name": "python3"
  },
  "language_info": {
   "codemirror_mode": {
    "name": "ipython",
    "version": 3
   },
   "file_extension": ".py",
   "mimetype": "text/x-python",
   "name": "python",
   "nbconvert_exporter": "python",
   "pygments_lexer": "ipython3",
   "version": "3.9.7"
  }
 },
 "nbformat": 4,
 "nbformat_minor": 5
}
