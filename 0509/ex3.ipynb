{
 "cells": [
  {
   "cell_type": "code",
   "execution_count": 6,
   "id": "c736e632",
   "metadata": {},
   "outputs": [],
   "source": [
    "from konlpy.tag import Okt#한국어 형태소 분석\n",
    "from ckonlpy.tag import Twitter #한국어 분석 보조장치\n",
    "from konlpy.tag import Twitter"
   ]
  },
  {
   "cell_type": "code",
   "execution_count": 2,
   "id": "9622cb9f",
   "metadata": {},
   "outputs": [
    {
     "data": {
      "text/plain": [
       "['은', '호가', '교실']"
      ]
     },
     "execution_count": 2,
     "metadata": {},
     "output_type": "execute_result"
    }
   ],
   "source": [
    "t='은호가 교실로 들어갔다.'\n",
    "tw=Okt()\n",
    "tw.nouns(t)\n",
    "# tw.morphs#형태소 추출\n",
    "# tw.nouns#명사\n",
    "# tw.pos#품사추출"
   ]
  },
  {
   "cell_type": "code",
   "execution_count": 3,
   "id": "3e891a8f",
   "metadata": {},
   "outputs": [
    {
     "data": {
      "text/plain": [
       "['은', '호가', '교실', '로', '들어갔다', '.']"
      ]
     },
     "execution_count": 3,
     "metadata": {},
     "output_type": "execute_result"
    }
   ],
   "source": [
    "tw.morphs(t)"
   ]
  },
  {
   "cell_type": "code",
   "execution_count": 4,
   "id": "6f1eaa11",
   "metadata": {},
   "outputs": [
    {
     "data": {
      "text/plain": [
       "[('은', 'Noun'),\n",
       " ('호가', 'Noun'),\n",
       " ('교실', 'Noun'),\n",
       " ('로', 'Josa'),\n",
       " ('들어갔다', 'Verb'),\n",
       " ('.', 'Punctuation')]"
      ]
     },
     "execution_count": 4,
     "metadata": {},
     "output_type": "execute_result"
    }
   ],
   "source": [
    "tw.pos(t)"
   ]
  },
  {
   "cell_type": "code",
   "execution_count": 7,
   "id": "7d6eef05",
   "metadata": {},
   "outputs": [
    {
     "name": "stderr",
     "output_type": "stream",
     "text": [
      "C:\\ProgramData\\Anaconda3\\lib\\site-packages\\konlpy\\tag\\_okt.py:17: UserWarning: \"Twitter\" has changed to \"Okt\" since KoNLPy v0.4.5.\n",
      "  warn('\"Twitter\" has changed to \"Okt\" since KoNLPy v0.4.5.')\n"
     ]
    },
    {
     "data": {
      "text/plain": [
       "['은', '호가', '교실', '로', '들어갔다', '.']"
      ]
     },
     "execution_count": 7,
     "metadata": {},
     "output_type": "execute_result"
    }
   ],
   "source": [
    "from konlpy.tag import Twitter\n",
    "tw1=Twitter()\n",
    "tw1.morphs(t)"
   ]
  },
  {
   "cell_type": "code",
   "execution_count": 8,
   "id": "08a1a906",
   "metadata": {},
   "outputs": [
    {
     "name": "stderr",
     "output_type": "stream",
     "text": [
      "C:\\ProgramData\\Anaconda3\\lib\\site-packages\\konlpy\\tag\\_okt.py:17: UserWarning: \"Twitter\" has changed to \"Okt\" since KoNLPy v0.4.5.\n",
      "  warn('\"Twitter\" has changed to \"Okt\" since KoNLPy v0.4.5.')\n"
     ]
    },
    {
     "data": {
      "text/plain": [
       "['은', '호가', '교실', '로', '들어갔다', '.']"
      ]
     },
     "execution_count": 8,
     "metadata": {},
     "output_type": "execute_result"
    }
   ],
   "source": [
    "from ckonlpy.tag import Twitter\n",
    "tw2=Twitter()\n",
    "tw2.morphs(t)"
   ]
  },
  {
   "cell_type": "code",
   "execution_count": 17,
   "id": "9c043f1e",
   "metadata": {},
   "outputs": [],
   "source": [
    "tw2.add_dictionary('은호','Noun')\n",
    "tw2.add_dictionary('은이','Noun')"
   ]
  },
  {
   "cell_type": "code",
   "execution_count": 10,
   "id": "8425f5bd",
   "metadata": {},
   "outputs": [
    {
     "data": {
      "text/plain": [
       "['은호', '가', '교실', '로', '들어갔다', '.']"
      ]
     },
     "execution_count": 10,
     "metadata": {},
     "output_type": "execute_result"
    }
   ],
   "source": [
    "tw2.morphs(t)"
   ]
  },
  {
   "cell_type": "code",
   "execution_count": 11,
   "id": "53978840",
   "metadata": {},
   "outputs": [
    {
     "data": {
      "text/plain": [
       "['은호', '교실']"
      ]
     },
     "execution_count": 11,
     "metadata": {},
     "output_type": "execute_result"
    }
   ],
   "source": [
    "tw2.nouns(t)"
   ]
  },
  {
   "cell_type": "code",
   "execution_count": 12,
   "id": "91033e64",
   "metadata": {},
   "outputs": [
    {
     "data": {
      "text/plain": [
       "[('은호', 'Noun'),\n",
       " ('가', 'Josa'),\n",
       " ('교실', 'Noun'),\n",
       " ('로', 'Josa'),\n",
       " ('들어갔다', 'Verb'),\n",
       " ('.', 'Punctuation')]"
      ]
     },
     "execution_count": 12,
     "metadata": {},
     "output_type": "execute_result"
    }
   ],
   "source": [
    "tw2.pos(t)"
   ]
  },
  {
   "cell_type": "code",
   "execution_count": null,
   "id": "9bc9eb8b",
   "metadata": {},
   "outputs": [],
   "source": [
    "tw."
   ]
  },
  {
   "cell_type": "code",
   "execution_count": 14,
   "id": "ff52d14b",
   "metadata": {},
   "outputs": [
    {
     "data": {
      "text/plain": [
       "[('은', 'Noun'),\n",
       " ('호가', 'Noun'),\n",
       " ('교실', 'Noun'),\n",
       " ('로', 'Josa'),\n",
       " ('은', 'Noun'),\n",
       " ('이', 'Suffix'),\n",
       " ('가', 'Josa'),\n",
       " ('집', 'Noun'),\n",
       " ('으로', 'Josa'),\n",
       " ('들어갔다', 'Verb'),\n",
       " ('.', 'Punctuation')]"
      ]
     },
     "execution_count": 14,
     "metadata": {},
     "output_type": "execute_result"
    }
   ],
   "source": [
    "t2='은호가 교실로 은이가 집으로 들어갔다.'\n",
    "tw1.pos(t2)"
   ]
  },
  {
   "cell_type": "code",
   "execution_count": 15,
   "id": "d69e1f3f",
   "metadata": {},
   "outputs": [
    {
     "name": "stderr",
     "output_type": "stream",
     "text": [
      "C:\\ProgramData\\Anaconda3\\lib\\site-packages\\konlpy\\tag\\_okt.py:17: UserWarning: \"Twitter\" has changed to \"Okt\" since KoNLPy v0.4.5.\n",
      "  warn('\"Twitter\" has changed to \"Okt\" since KoNLPy v0.4.5.')\n"
     ]
    },
    {
     "data": {
      "text/plain": [
       "[('은', 'Noun'),\n",
       " ('호가', 'Noun'),\n",
       " ('교실', 'Noun'),\n",
       " ('로', 'Josa'),\n",
       " ('은', 'Noun'),\n",
       " ('이', 'Suffix'),\n",
       " ('가', 'Josa'),\n",
       " ('집', 'Noun'),\n",
       " ('으로', 'Josa'),\n",
       " ('들어갔다', 'Verb'),\n",
       " ('.', 'Punctuation')]"
      ]
     },
     "execution_count": 15,
     "metadata": {},
     "output_type": "execute_result"
    }
   ],
   "source": [
    "tw3=Twitter()\n",
    "tw3.pos(t2)"
   ]
  },
  {
   "cell_type": "code",
   "execution_count": 18,
   "id": "d3ca6957",
   "metadata": {},
   "outputs": [
    {
     "data": {
      "text/plain": [
       "['은호', '가', '교실', '로', '은이', '가', '집', '으로', '들어갔다', '.']"
      ]
     },
     "execution_count": 18,
     "metadata": {},
     "output_type": "execute_result"
    }
   ],
   "source": [
    "tw2.morphs(t2)"
   ]
  },
  {
   "cell_type": "code",
   "execution_count": null,
   "id": "225ec77c",
   "metadata": {},
   "outputs": [],
   "source": []
  }
 ],
 "metadata": {
  "kernelspec": {
   "display_name": "Python 3 (ipykernel)",
   "language": "python",
   "name": "python3"
  },
  "language_info": {
   "codemirror_mode": {
    "name": "ipython",
    "version": 3
   },
   "file_extension": ".py",
   "mimetype": "text/x-python",
   "name": "python",
   "nbconvert_exporter": "python",
   "pygments_lexer": "ipython3",
   "version": "3.9.7"
  }
 },
 "nbformat": 4,
 "nbformat_minor": 5
}
