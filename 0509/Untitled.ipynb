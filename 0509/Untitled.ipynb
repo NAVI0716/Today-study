{
 "cells": [
  {
   "cell_type": "markdown",
   "id": "03499b91",
   "metadata": {},
   "source": [
    "DictVectorizer => BOW 인코딩 벡터"
   ]
  },
  {
   "cell_type": "code",
   "execution_count": 1,
   "id": "d2bc8b53",
   "metadata": {},
   "outputs": [],
   "source": [
    "from sklearn.feature_extraction import DictVectorizer"
   ]
  },
  {
   "cell_type": "code",
   "execution_count": 9,
   "id": "b7121c80",
   "metadata": {},
   "outputs": [
    {
     "name": "stdout",
     "output_type": "stream",
     "text": [
      "[[1. 2. 0.]\n",
      " [0. 3. 1.]]\n"
     ]
    }
   ],
   "source": [
    "v=DictVectorizer(sparse=False)#벡터 전환의 목적\n",
    "D=[{'A':1,'B':2},{'B':3,'C':1}]#단어 비정형데이터 단어는 3종 문장은 2개(중괄호)\n",
    "X=v.fit_transform(D)\n",
    "print(X)"
   ]
  },
  {
   "cell_type": "code",
   "execution_count": 10,
   "id": "309855ed",
   "metadata": {},
   "outputs": [
    {
     "data": {
      "text/plain": [
       "['A', 'B', 'C']"
      ]
     },
     "execution_count": 10,
     "metadata": {},
     "output_type": "execute_result"
    }
   ],
   "source": [
    "v.feature_names_"
   ]
  },
  {
   "cell_type": "code",
   "execution_count": 11,
   "id": "70934f7c",
   "metadata": {},
   "outputs": [
    {
     "data": {
      "text/plain": [
       "array([[5., 1., 0.]])"
      ]
     },
     "execution_count": 11,
     "metadata": {},
     "output_type": "execute_result"
    }
   ],
   "source": [
    "D2=[{'A':5,'B':1,'D':100}]\n",
    "v.transform(D2)"
   ]
  },
  {
   "cell_type": "markdown",
   "id": "797e696b",
   "metadata": {},
   "source": [
    "CountVectorizer =>BOW 인코딩 벡터 문서의 집합(문장토큰화) - > 단어토큰생성 - > 각 단어의 수를 측정"
   ]
  },
  {
   "cell_type": "code",
   "execution_count": 12,
   "id": "fb307251",
   "metadata": {},
   "outputs": [],
   "source": [
    "from sklearn.feature_extraction.text import CountVectorizer"
   ]
  },
  {
   "cell_type": "code",
   "execution_count": 13,
   "id": "298f3a9c",
   "metadata": {},
   "outputs": [],
   "source": [
    "corpus = [\n",
    "    'This is the first document.',\n",
    "    'This is the second second document.',\n",
    "    'And the third one.',\n",
    "    'Is this the first document?',\n",
    "    'The last document?'\n",
    "]"
   ]
  },
  {
   "cell_type": "code",
   "execution_count": 14,
   "id": "5c77b648",
   "metadata": {},
   "outputs": [
    {
     "data": {
      "text/plain": [
       "{'this': 9,\n",
       " 'is': 3,\n",
       " 'the': 7,\n",
       " 'first': 2,\n",
       " 'document': 1,\n",
       " 'second': 6,\n",
       " 'and': 0,\n",
       " 'third': 8,\n",
       " 'one': 5,\n",
       " 'last': 4}"
      ]
     },
     "execution_count": 14,
     "metadata": {},
     "output_type": "execute_result"
    }
   ],
   "source": [
    "v1=CountVectorizer()\n",
    "v1.fit(corpus)\n",
    "v1.vocabulary_"
   ]
  },
  {
   "cell_type": "code",
   "execution_count": 17,
   "id": "aea3a544",
   "metadata": {},
   "outputs": [
    {
     "data": {
      "text/plain": [
       "array([[0, 1, 1, 1, 0, 0, 0, 1, 0, 3]], dtype=int64)"
      ]
     },
     "execution_count": 17,
     "metadata": {},
     "output_type": "execute_result"
    }
   ],
   "source": [
    "v1.transform(['This is the first document. This This']).toarray()"
   ]
  },
  {
   "cell_type": "code",
   "execution_count": null,
   "id": "1b67536a",
   "metadata": {},
   "outputs": [],
   "source": []
  }
 ],
 "metadata": {
  "kernelspec": {
   "display_name": "Python 3 (ipykernel)",
   "language": "python",
   "name": "python3"
  },
  "language_info": {
   "codemirror_mode": {
    "name": "ipython",
    "version": 3
   },
   "file_extension": ".py",
   "mimetype": "text/x-python",
   "name": "python",
   "nbconvert_exporter": "python",
   "pygments_lexer": "ipython3",
   "version": "3.9.7"
  }
 },
 "nbformat": 4,
 "nbformat_minor": 5
}
