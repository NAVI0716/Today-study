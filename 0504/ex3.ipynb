{
 "cells": [
  {
   "cell_type": "code",
   "execution_count": 1,
   "id": "b47e1f05",
   "metadata": {},
   "outputs": [],
   "source": [
    "import re"
   ]
  },
  {
   "cell_type": "markdown",
   "id": "16753d18",
   "metadata": {},
   "source": [
    ".기호(단어1개)"
   ]
  },
  {
   "cell_type": "code",
   "execution_count": 2,
   "id": "8f584a5d",
   "metadata": {},
   "outputs": [],
   "source": [
    "r=re.compile('d.t')\n",
    "r.search('ggg')"
   ]
  },
  {
   "cell_type": "code",
   "execution_count": 3,
   "id": "d77789db",
   "metadata": {},
   "outputs": [
    {
     "data": {
      "text/plain": [
       "<re.Match object; span=(0, 3), match='dat'>"
      ]
     },
     "execution_count": 3,
     "metadata": {},
     "output_type": "execute_result"
    }
   ],
   "source": [
    "r.search('dat')"
   ]
  },
  {
   "cell_type": "code",
   "execution_count": 4,
   "id": "cf885e5d",
   "metadata": {},
   "outputs": [
    {
     "data": {
      "text/plain": [
       "<re.Match object; span=(1, 4), match='dat'>"
      ]
     },
     "execution_count": 4,
     "metadata": {},
     "output_type": "execute_result"
    }
   ],
   "source": [
    "r.search('adatasadatd')"
   ]
  },
  {
   "cell_type": "markdown",
   "id": "7144a584",
   "metadata": {},
   "source": [
    "?기호 -(입력 이후 중간 문자의 유무 상관없이 끝문자가 나오면 인식 된다.)"
   ]
  },
  {
   "cell_type": "code",
   "execution_count": 5,
   "id": "cfc7f9ea",
   "metadata": {},
   "outputs": [],
   "source": [
    "r=re.compile('da?t')\n",
    "r.search('ggg')"
   ]
  },
  {
   "cell_type": "code",
   "execution_count": 9,
   "id": "a16a6cb3",
   "metadata": {},
   "outputs": [
    {
     "data": {
      "text/plain": [
       "<re.Match object; span=(0, 3), match='dat'>"
      ]
     },
     "execution_count": 9,
     "metadata": {},
     "output_type": "execute_result"
    }
   ],
   "source": [
    "r.search('datta')"
   ]
  },
  {
   "cell_type": "code",
   "execution_count": 10,
   "id": "ac5393b4",
   "metadata": {},
   "outputs": [
    {
     "data": {
      "text/plain": [
       "<re.Match object; span=(0, 2), match='dt'>"
      ]
     },
     "execution_count": 10,
     "metadata": {},
     "output_type": "execute_result"
    }
   ],
   "source": [
    "r.search('dt')"
   ]
  },
  {
   "cell_type": "markdown",
   "id": "c2669580",
   "metadata": {},
   "source": [
    "*기호(연결된 문자의 중복 갯수 상관없ㅇ ㅣ인식)"
   ]
  },
  {
   "cell_type": "code",
   "execution_count": 13,
   "id": "9c4ea2e0",
   "metadata": {},
   "outputs": [
    {
     "data": {
      "text/plain": [
       "(<re.Match object; span=(0, 8), match='abbbbbbc'>,\n",
       " <re.Match object; span=(0, 2), match='ac'>)"
      ]
     },
     "execution_count": 13,
     "metadata": {},
     "output_type": "execute_result"
    }
   ],
   "source": [
    "r=re.compile('ab*c')\n",
    "r.search('abbbbbbc'), r.search('acccccccccccc')"
   ]
  },
  {
   "cell_type": "markdown",
   "id": "6aab9f67",
   "metadata": {},
   "source": [
    "+기호-(연결된 문자의 중복 갯수 상관없이 인식)갯수1이상만 가능"
   ]
  },
  {
   "cell_type": "code",
   "execution_count": 12,
   "id": "d6f28cbd",
   "metadata": {},
   "outputs": [
    {
     "data": {
      "text/plain": [
       "<re.Match object; span=(0, 3), match='abc'>"
      ]
     },
     "execution_count": 12,
     "metadata": {},
     "output_type": "execute_result"
    }
   ],
   "source": [
    "r=re.compile('ab+c')\n",
    "r.search('abc')"
   ]
  },
  {
   "cell_type": "markdown",
   "id": "6627e7ba",
   "metadata": {},
   "source": [
    "^기호-(기호이후 문자열로시작되는 문자열 인식)"
   ]
  },
  {
   "cell_type": "code",
   "execution_count": 20,
   "id": "4af36d59",
   "metadata": {},
   "outputs": [
    {
     "data": {
      "text/plain": [
       "<re.Match object; span=(0, 2), match='ab'>"
      ]
     },
     "execution_count": 20,
     "metadata": {},
     "output_type": "execute_result"
    }
   ],
   "source": [
    "r=re.compile('^ab')\n",
    "r.search('abcㅁㄴㅇㅁㄴㅇㅁㄴㅇ')"
   ]
  },
  {
   "cell_type": "markdown",
   "id": "cd1a014a",
   "metadata": {},
   "source": [
    "{숫자}기호-(앞에 있는 단어의 갯수가 기호안의 숫자만큼 있을때 인식)"
   ]
  },
  {
   "cell_type": "code",
   "execution_count": 22,
   "id": "4a1370be",
   "metadata": {},
   "outputs": [
    {
     "data": {
      "text/plain": [
       "<re.Match object; span=(0, 4), match='abbc'>"
      ]
     },
     "execution_count": 22,
     "metadata": {},
     "output_type": "execute_result"
    }
   ],
   "source": [
    "r=re.compile('ab{2}c')\n",
    "r.search('abbc')"
   ]
  },
  {
   "cell_type": "markdown",
   "id": "cc69d219",
   "metadata": {},
   "source": [
    "{숫자,숫자}기호-(앞에 있는 단어의 갯수가 기호안의 숫자범위만큼 있을때 인식)"
   ]
  },
  {
   "cell_type": "code",
   "execution_count": 23,
   "id": "8fc17f56",
   "metadata": {},
   "outputs": [
    {
     "data": {
      "text/plain": [
       "<re.Match object; span=(0, 7), match='abbbbbc'>"
      ]
     },
     "execution_count": 23,
     "metadata": {},
     "output_type": "execute_result"
    }
   ],
   "source": [
    "r=re.compile('ab{2,5}c')\n",
    "r.search('abbbbbc')"
   ]
  },
  {
   "cell_type": "markdown",
   "id": "43814688",
   "metadata": {},
   "source": [
    "{숫자,}or {,숫자}기호-(숫자 범위까지)"
   ]
  },
  {
   "cell_type": "code",
   "execution_count": 25,
   "id": "3a9ceb68",
   "metadata": {},
   "outputs": [
    {
     "data": {
      "text/plain": [
       "<re.Match object; span=(0, 34), match='abbbbbbbbbbbbbbbbbbbbbbbbbbbbbbbbc'>"
      ]
     },
     "execution_count": 25,
     "metadata": {},
     "output_type": "execute_result"
    }
   ],
   "source": [
    "r=re.compile('ab{2,}c')\n",
    "r.search('abbbbbbbbbbbbbbbbbbbbbbbbbbbbbbbbc')"
   ]
  },
  {
   "cell_type": "markdown",
   "id": "a7c1d41a",
   "metadata": {},
   "source": [
    "[]기호-(괄호안에 있는 문자의 유무),[-]"
   ]
  },
  {
   "cell_type": "code",
   "execution_count": 28,
   "id": "9b9756f0",
   "metadata": {},
   "outputs": [
    {
     "data": {
      "text/plain": [
       "<re.Match object; span=(0, 1), match='c'>"
      ]
     },
     "execution_count": 28,
     "metadata": {},
     "output_type": "execute_result"
    }
   ],
   "source": [
    "r=re.compile('[abc]')\n",
    "r.search('cda')"
   ]
  },
  {
   "cell_type": "code",
   "execution_count": 29,
   "id": "27f7e0aa",
   "metadata": {},
   "outputs": [
    {
     "data": {
      "text/plain": [
       "<re.Match object; span=(0, 1), match='c'>"
      ]
     },
     "execution_count": 29,
     "metadata": {},
     "output_type": "execute_result"
    }
   ],
   "source": [
    "r=re.compile('[a-z]')\n",
    "r.search('cda')"
   ]
  },
  {
   "cell_type": "markdown",
   "id": "db7cc750",
   "metadata": {},
   "source": [
    "[^]기호- 내부없는 것을 DATA인식"
   ]
  },
  {
   "cell_type": "code",
   "execution_count": 32,
   "id": "dda5e663",
   "metadata": {},
   "outputs": [
    {
     "data": {
      "text/plain": [
       "<re.Match object; span=(0, 1), match='A'>"
      ]
     },
     "execution_count": 32,
     "metadata": {},
     "output_type": "execute_result"
    }
   ],
   "source": [
    "r=re.compile('[^a-c]')\n",
    "r.search('A')"
   ]
  },
  {
   "cell_type": "markdown",
   "id": "ddf3e325",
   "metadata": {},
   "source": [
    "함수"
   ]
  },
  {
   "cell_type": "code",
   "execution_count": 34,
   "id": "e4d6f912",
   "metadata": {},
   "outputs": [
    {
     "data": {
      "text/plain": [
       "<re.Match object; span=(7, 10), match='acc'>"
      ]
     },
     "execution_count": 34,
     "metadata": {},
     "output_type": "execute_result"
    }
   ],
   "source": [
    "r=re.compile('a.c')#조건설정\n",
    "r.search('data0- acc')#만족하기만하면 인식"
   ]
  },
  {
   "cell_type": "code",
   "execution_count": 35,
   "id": "36d8034b",
   "metadata": {},
   "outputs": [
    {
     "data": {
      "text/plain": [
       "<re.Match object; span=(0, 3), match='acc'>"
      ]
     },
     "execution_count": 35,
     "metadata": {},
     "output_type": "execute_result"
    }
   ],
   "source": [
    "r.match('acc')#시작부터 확인후 인식(^)"
   ]
  },
  {
   "cell_type": "code",
   "execution_count": 36,
   "id": "c3cb4e8a",
   "metadata": {},
   "outputs": [
    {
     "data": {
      "text/plain": [
       "['data1', 'data2', 'data3']"
      ]
     },
     "execution_count": 36,
     "metadata": {},
     "output_type": "execute_result"
    }
   ],
   "source": [
    "data='data1 data2 data3'\n",
    "re.split(' ',data)#자르기(조건, data)"
   ]
  },
  {
   "cell_type": "code",
   "execution_count": 45,
   "id": "58f708f7",
   "metadata": {},
   "outputs": [
    {
     "data": {
      "text/plain": [
       "['data1', 'data2', 'data3']"
      ]
     },
     "execution_count": 45,
     "metadata": {},
     "output_type": "execute_result"
    }
   ],
   "source": [
    "re.findall('\\w+',data)"
   ]
  },
  {
   "cell_type": "code",
   "execution_count": 48,
   "id": "352a8dc9",
   "metadata": {},
   "outputs": [
    {
     "data": {
      "text/plain": [
       "'data1수정data2수정data3'"
      ]
     },
     "execution_count": 48,
     "metadata": {},
     "output_type": "execute_result"
    }
   ],
   "source": [
    "re.sub('\\W+','수정', data)#재구성"
   ]
  },
  {
   "cell_type": "code",
   "execution_count": 49,
   "id": "97628791",
   "metadata": {},
   "outputs": [],
   "source": [
    "t=\"Don't be fooled by the dark sounding name, Mr. Jone's Orphanage is as cheery as cheery goes for a pastry shop.\""
   ]
  },
  {
   "cell_type": "code",
   "execution_count": 50,
   "id": "40c98308",
   "metadata": {},
   "outputs": [
    {
     "data": {
      "text/plain": [
       "['Don',\n",
       " 't',\n",
       " 'be',\n",
       " 'fooled',\n",
       " 'by',\n",
       " 'the',\n",
       " 'dark',\n",
       " 'sounding',\n",
       " 'name',\n",
       " 'Mr',\n",
       " 'Jone',\n",
       " 's',\n",
       " 'Orphanage',\n",
       " 'is',\n",
       " 'as',\n",
       " 'cheery',\n",
       " 'as',\n",
       " 'cheery',\n",
       " 'goes',\n",
       " 'for',\n",
       " 'a',\n",
       " 'pastry',\n",
       " 'shop']"
      ]
     },
     "execution_count": 50,
     "metadata": {},
     "output_type": "execute_result"
    }
   ],
   "source": [
    "from nltk.tokenize import RegexpTokenizer#정규화식 표현 토큰\n",
    "ck_1=RegexpTokenizer('[\\w]+')#정규화식이 들어가줘야함\n",
    "ck_1.tokenize(t)"
   ]
  },
  {
   "cell_type": "code",
   "execution_count": 53,
   "id": "cae4432a",
   "metadata": {},
   "outputs": [
    {
     "data": {
      "text/plain": [
       "['Don',\n",
       " 't',\n",
       " 'be',\n",
       " 'fooled',\n",
       " 'by',\n",
       " 'the',\n",
       " 'dark',\n",
       " 'sounding',\n",
       " 'name',\n",
       " 'Mr',\n",
       " 'Jone',\n",
       " 's',\n",
       " 'Orphanage',\n",
       " 'is',\n",
       " 'as',\n",
       " 'cheery',\n",
       " 'as',\n",
       " 'cheery',\n",
       " 'goes',\n",
       " 'for',\n",
       " 'a',\n",
       " 'pastry',\n",
       " 'shop']"
      ]
     },
     "execution_count": 53,
     "metadata": {},
     "output_type": "execute_result"
    }
   ],
   "source": [
    "ck_2=RegexpTokenizer('\\W+',gaps=True)#gaps는 정규표현식으로서 데이터를 쓰겠는지 확인/ 기호안씀 \\w+문자로 접근해서 결합\n",
    "ck_2.tokenize(t)"
   ]
  },
  {
   "cell_type": "code",
   "execution_count": null,
   "id": "f84ea6ad",
   "metadata": {},
   "outputs": [],
   "source": []
  }
 ],
 "metadata": {
  "kernelspec": {
   "display_name": "Python 3 (ipykernel)",
   "language": "python",
   "name": "python3"
  },
  "language_info": {
   "codemirror_mode": {
    "name": "ipython",
    "version": 3
   },
   "file_extension": ".py",
   "mimetype": "text/x-python",
   "name": "python",
   "nbconvert_exporter": "python",
   "pygments_lexer": "ipython3",
   "version": "3.9.7"
  }
 },
 "nbformat": 4,
 "nbformat_minor": 5
}
