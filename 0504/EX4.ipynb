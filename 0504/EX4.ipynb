{
 "cells": [
  {
   "cell_type": "code",
   "execution_count": 1,
   "id": "c11fdc96",
   "metadata": {},
   "outputs": [],
   "source": [
    "from nltk.tokenize import sent_tokenize\n",
    "from nltk.tokenize import word_tokenize\n",
    "from nltk.corpus import stopwords"
   ]
  },
  {
   "cell_type": "markdown",
   "id": "d42242fa",
   "metadata": {},
   "source": [
    "사전 기반 정수 인코딩"
   ]
  },
  {
   "cell_type": "markdown",
   "id": "c65535e4",
   "metadata": {},
   "source": [
    "# 데이터 수집"
   ]
  },
  {
   "cell_type": "code",
   "execution_count": 2,
   "id": "a3a435a9",
   "metadata": {},
   "outputs": [],
   "source": [
    "text = \"A barber is a person. a barber is good person. a barber is huge person. he Knew A Secret! The Secret He Kept is huge secret. Huge secret. His barber kept his word. a barber kept his word. His barber kept his secret. But keeping and keeping such a huge secret to himself was driving the barber crazy. the barber went up a huge mountain.\""
   ]
  },
  {
   "cell_type": "markdown",
   "id": "14908a73",
   "metadata": {},
   "source": [
    "데이터 전처리(문장 토큰화)"
   ]
  },
  {
   "cell_type": "code",
   "execution_count": 4,
   "id": "549460b0",
   "metadata": {},
   "outputs": [
    {
     "data": {
      "text/plain": [
       "['A barber is a person.',\n",
       " 'a barber is good person.',\n",
       " 'a barber is huge person.',\n",
       " 'he Knew A Secret!',\n",
       " 'The Secret He Kept is huge secret.',\n",
       " 'Huge secret.',\n",
       " 'His barber kept his word.',\n",
       " 'a barber kept his word.',\n",
       " 'His barber kept his secret.',\n",
       " 'But keeping and keeping such a huge secret to himself was driving the barber crazy.',\n",
       " 'the barber went up a huge mountain.']"
      ]
     },
     "execution_count": 4,
     "metadata": {},
     "output_type": "execute_result"
    }
   ],
   "source": [
    "data1=sent_tokenize(text)\n",
    "data1"
   ]
  },
  {
   "cell_type": "markdown",
   "id": "5c252de8",
   "metadata": {},
   "source": [
    "데이터 전처리(단어 토큰화)"
   ]
  },
  {
   "cell_type": "code",
   "execution_count": 9,
   "id": "0df0da13",
   "metadata": {},
   "outputs": [
    {
     "data": {
      "text/plain": [
       "[['barber', 'person'],\n",
       " ['barber', 'good', 'person'],\n",
       " ['barber', 'huge', 'person'],\n",
       " ['knew', 'secret'],\n",
       " ['secret', 'kept', 'huge', 'secret'],\n",
       " ['huge', 'secret'],\n",
       " ['barber', 'kept', 'word'],\n",
       " ['barber', 'kept', 'word'],\n",
       " ['barber', 'kept', 'secret'],\n",
       " ['keeping', 'keeping', 'huge', 'secret', 'driving', 'barber', 'crazy'],\n",
       " ['barber', 'went', 'huge', 'mountain']]"
      ]
     },
     "execution_count": 9,
     "metadata": {},
     "output_type": "execute_result"
    }
   ],
   "source": [
    "단어_모음={}\n",
    "pr_data=[]\n",
    "불용성단어= set(stopwords.words('english'))\n",
    "for 문장 in data1:\n",
    "    t_data=word_tokenize(문장)\n",
    "    l=[]\n",
    "    for 단어 in t_data:\n",
    "        소문자_단어 = 단어.lower()#모든단어 소문자화\n",
    "        if 소문자_단어 not in 불용성단어:\n",
    "            if len(소문자_단어)>2:#단어수 2이하 제거\n",
    "                l.append(소문자_단어)\n",
    "                if 소문자_단어 not in 단어_모음:#단어모음안에 있는가 없는가\n",
    "                    단어_모음[소문자_단어]=0\n",
    "                단어_모음[소문자_단어]+=1\n",
    "    pr_data.append(l)\n",
    "pr_data  # 전저리된 data 비정형 data"
   ]
  },
  {
   "cell_type": "code",
   "execution_count": 10,
   "id": "e780bfcc",
   "metadata": {},
   "outputs": [
    {
     "data": {
      "text/plain": [
       "8"
      ]
     },
     "execution_count": 10,
     "metadata": {},
     "output_type": "execute_result"
    }
   ],
   "source": [
    "단어_모음['barber']"
   ]
  },
  {
   "cell_type": "code",
   "execution_count": 12,
   "id": "b2c99b3d",
   "metadata": {},
   "outputs": [
    {
     "data": {
      "text/plain": [
       "[('barber', 8),\n",
       " ('secret', 6),\n",
       " ('huge', 5),\n",
       " ('kept', 4),\n",
       " ('person', 3),\n",
       " ('word', 2),\n",
       " ('keeping', 2),\n",
       " ('good', 1),\n",
       " ('knew', 1),\n",
       " ('driving', 1),\n",
       " ('crazy', 1),\n",
       " ('went', 1),\n",
       " ('mountain', 1)]"
      ]
     },
     "execution_count": 12,
     "metadata": {},
     "output_type": "execute_result"
    }
   ],
   "source": [
    "정렬된_단어_모음=sorted(단어_모음.items(),key=lambda x:x[1],reverse=True)#정렬매소드, x는 튜플데이터\n",
    "정렬된_단어_모음 #람다 일회성 함수 왼쪽 입력:오른쪽 함수"
   ]
  },
  {
   "cell_type": "code",
   "execution_count": 16,
   "id": "768a7a6e",
   "metadata": {},
   "outputs": [
    {
     "data": {
      "text/plain": [
       "{'barber': 1,\n",
       " 'secret': 2,\n",
       " 'huge': 3,\n",
       " 'kept': 4,\n",
       " 'person': 5,\n",
       " 'word': 6,\n",
       " 'keeping': 7}"
      ]
     },
     "execution_count": 16,
     "metadata": {},
     "output_type": "execute_result"
    }
   ],
   "source": [
    "#인코딩이후 정형화를 해줘야한다.// 빈도수 높은애를 낮은정수로 만들어준다.\n",
    "단어_인덱스={}\n",
    "i=0\n",
    "for (단어,빈도수) in 정렬된_단어_모음:\n",
    "    if 빈도수 > 1 :#빈도수 1이하 제거\n",
    "        i+=1\n",
    "        단어_인덱스[단어]=i\n",
    "단어_인덱스"
   ]
  },
  {
   "cell_type": "code",
   "execution_count": 24,
   "id": "0385fc22",
   "metadata": {},
   "outputs": [
    {
     "data": {
      "text/plain": [
       "{'barber': 1, 'secret': 2, 'huge': 3, 'kept': 4}"
      ]
     },
     "execution_count": 24,
     "metadata": {},
     "output_type": "execute_result"
    }
   ],
   "source": [
    "n=4\n",
    "삭제_결정된_data=[단어 for 단어,i in 단어_인덱스.items() if i>n]\n",
    "for i in 삭제_결정된_data:\n",
    "    del 단어_인덱스[i]\n",
    "단어_인덱스"
   ]
  },
  {
   "cell_type": "code",
   "execution_count": 27,
   "id": "8db6dcf9",
   "metadata": {},
   "outputs": [
    {
     "data": {
      "text/plain": [
       "{'barber': 1,\n",
       " 'secret': 2,\n",
       " 'huge': 3,\n",
       " 'kept': 4,\n",
       " 'data': 5,\n",
       " '집합에 없는단어': 6,\n",
       " 'OOV': 7}"
      ]
     },
     "execution_count": 27,
     "metadata": {},
     "output_type": "execute_result"
    }
   ],
   "source": [
    "단어_인덱스['OOV']=len(단어_인덱스)+1\n",
    "단어_인덱스"
   ]
  },
  {
   "cell_type": "code",
   "execution_count": 28,
   "id": "657d001d",
   "metadata": {},
   "outputs": [
    {
     "data": {
      "text/plain": [
       "[[1, 7],\n",
       " [1, 7, 7],\n",
       " [1, 3, 7],\n",
       " [7, 2],\n",
       " [2, 4, 3, 2],\n",
       " [3, 2],\n",
       " [1, 4, 7],\n",
       " [1, 4, 7],\n",
       " [1, 4, 2],\n",
       " [7, 7, 3, 2, 7, 1, 7],\n",
       " [1, 7, 3, 7]]"
      ]
     },
     "execution_count": 28,
     "metadata": {},
     "output_type": "execute_result"
    }
   ],
   "source": [
    "#이제 정형화 =>정수로서 인코딩작업\n",
    "ec_data=[]\n",
    "for i in pr_data:\n",
    "    ec_d=[]\n",
    "    for 단어 in i:\n",
    "        try:#예외발생시 에러가나면 except로 에러부분 점프\n",
    "            ec_d.append(단어_인덱스[단어])\n",
    "        except KeyError:\n",
    "            ec_d.append(단어_인덱스['OOV'])\n",
    "    ec_data.append(ec_d)\n",
    "ec_data"
   ]
  },
  {
   "cell_type": "markdown",
   "id": "5d59c4e0",
   "metadata": {},
   "source": [
    "Counter 기반 정수 인코딩"
   ]
  },
  {
   "cell_type": "code",
   "execution_count": 29,
   "id": "870b216a",
   "metadata": {},
   "outputs": [],
   "source": [
    "from collections import Counter"
   ]
  },
  {
   "cell_type": "code",
   "execution_count": 30,
   "id": "6a274618",
   "metadata": {},
   "outputs": [
    {
     "data": {
      "text/plain": [
       "[['barber', 'person'],\n",
       " ['barber', 'good', 'person'],\n",
       " ['barber', 'huge', 'person'],\n",
       " ['knew', 'secret'],\n",
       " ['secret', 'kept', 'huge', 'secret'],\n",
       " ['huge', 'secret'],\n",
       " ['barber', 'kept', 'word'],\n",
       " ['barber', 'kept', 'word'],\n",
       " ['barber', 'kept', 'secret'],\n",
       " ['keeping', 'keeping', 'huge', 'secret', 'driving', 'barber', 'crazy'],\n",
       " ['barber', 'went', 'huge', 'mountain']]"
      ]
     },
     "execution_count": 30,
     "metadata": {},
     "output_type": "execute_result"
    }
   ],
   "source": [
    "pr_data"
   ]
  },
  {
   "cell_type": "code",
   "execution_count": 31,
   "id": "e6fcd17c",
   "metadata": {},
   "outputs": [
    {
     "data": {
      "text/plain": [
       "['barber',\n",
       " 'person',\n",
       " 'barber',\n",
       " 'good',\n",
       " 'person',\n",
       " 'barber',\n",
       " 'huge',\n",
       " 'person',\n",
       " 'knew',\n",
       " 'secret',\n",
       " 'secret',\n",
       " 'kept',\n",
       " 'huge',\n",
       " 'secret',\n",
       " 'huge',\n",
       " 'secret',\n",
       " 'barber',\n",
       " 'kept',\n",
       " 'word',\n",
       " 'barber',\n",
       " 'kept',\n",
       " 'word',\n",
       " 'barber',\n",
       " 'kept',\n",
       " 'secret',\n",
       " 'keeping',\n",
       " 'keeping',\n",
       " 'huge',\n",
       " 'secret',\n",
       " 'driving',\n",
       " 'barber',\n",
       " 'crazy',\n",
       " 'barber',\n",
       " 'went',\n",
       " 'huge',\n",
       " 'mountain']"
      ]
     },
     "execution_count": 31,
     "metadata": {},
     "output_type": "execute_result"
    }
   ],
   "source": [
    "단어_모음집=sum(pr_data,[])\n",
    "단어_모음집"
   ]
  },
  {
   "cell_type": "code",
   "execution_count": 33,
   "id": "5a8c73c8",
   "metadata": {},
   "outputs": [
    {
     "data": {
      "text/plain": [
       "Counter({'barber': 8,\n",
       "         'person': 3,\n",
       "         'good': 1,\n",
       "         'huge': 5,\n",
       "         'knew': 1,\n",
       "         'secret': 6,\n",
       "         'kept': 4,\n",
       "         'word': 2,\n",
       "         'keeping': 2,\n",
       "         'driving': 1,\n",
       "         'crazy': 1,\n",
       "         'went': 1,\n",
       "         'mountain': 1})"
      ]
     },
     "execution_count": 33,
     "metadata": {},
     "output_type": "execute_result"
    }
   ],
   "source": [
    "결과_단어_모음집=Counter(단어_모음집)\n",
    "type(결과_단어_모음집)\n",
    "결과_단어_모음집"
   ]
  },
  {
   "cell_type": "code",
   "execution_count": 34,
   "id": "469cd067",
   "metadata": {},
   "outputs": [
    {
     "data": {
      "text/plain": [
       "[('barber', 8), ('secret', 6), ('huge', 5), ('kept', 4)]"
      ]
     },
     "execution_count": 34,
     "metadata": {},
     "output_type": "execute_result"
    }
   ],
   "source": [
    "n=4\n",
    "빈도수별_단어=결과_단어_모음집.most_common(n)\n",
    "빈도수별_단어"
   ]
  },
  {
   "cell_type": "code",
   "execution_count": 35,
   "id": "6c71c4a4",
   "metadata": {},
   "outputs": [
    {
     "data": {
      "text/plain": [
       "{'barber': 1, 'secret': 2, 'huge': 3, 'kept': 4}"
      ]
     },
     "execution_count": 35,
     "metadata": {},
     "output_type": "execute_result"
    }
   ],
   "source": [
    "단어_인덱스2={}\n",
    "i=0\n",
    "for 단어,빈도수 in 빈도수별_단어:\n",
    "    i+=1\n",
    "    단어_인덱스2[단어]=i\n",
    "단어_인덱스2"
   ]
  },
  {
   "cell_type": "code",
   "execution_count": 36,
   "id": "458149d1",
   "metadata": {},
   "outputs": [
    {
     "data": {
      "text/plain": [
       "{'barber': 1, 'secret': 2, 'huge': 3, 'kept': 4, 'OOV': 5}"
      ]
     },
     "execution_count": 36,
     "metadata": {},
     "output_type": "execute_result"
    }
   ],
   "source": [
    "단어_인덱스2['OOV']=len(단어_인덱스2)+1\n",
    "단어_인덱스2"
   ]
  },
  {
   "cell_type": "code",
   "execution_count": 38,
   "id": "df9eda35",
   "metadata": {},
   "outputs": [
    {
     "data": {
      "text/plain": [
       "[[1, 5],\n",
       " [1, 5, 5],\n",
       " [1, 3, 5],\n",
       " [5, 2],\n",
       " [2, 4, 3, 2],\n",
       " [3, 2],\n",
       " [1, 4, 5],\n",
       " [1, 4, 5],\n",
       " [1, 4, 2],\n",
       " [5, 5, 3, 2, 5, 1, 5],\n",
       " [1, 5, 3, 5]]"
      ]
     },
     "execution_count": 38,
     "metadata": {},
     "output_type": "execute_result"
    }
   ],
   "source": [
    "ec_data2=[]\n",
    "for i in pr_data:\n",
    "    ec_d2=[]\n",
    "    for 단어 in i:\n",
    "        try:#예외발생시 에러가나면 except로 에러부분 점프\n",
    "            ec_d2.append(단어_인덱스2[단어])\n",
    "        except KeyError:\n",
    "            ec_d2.append(단어_인덱스2['OOV'])\n",
    "    ec_data2.append(ec_d2)\n",
    "ec_data2"
   ]
  },
  {
   "cell_type": "markdown",
   "id": "39e87dfe",
   "metadata": {},
   "source": [
    "NLTk 정수 인코딩"
   ]
  },
  {
   "cell_type": "code",
   "execution_count": 42,
   "id": "e13c7155",
   "metadata": {},
   "outputs": [],
   "source": [
    "from nltk import FreqDist\n",
    "import numpy as np"
   ]
  },
  {
   "cell_type": "code",
   "execution_count": 45,
   "id": "6758a0e2",
   "metadata": {},
   "outputs": [
    {
     "data": {
      "text/plain": [
       "FreqDist({'barber': 8, 'secret': 6, 'huge': 5, 'kept': 4, 'person': 3, 'word': 2, 'keeping': 2, 'good': 1, 'knew': 1, 'driving': 1, ...})"
      ]
     },
     "execution_count": 45,
     "metadata": {},
     "output_type": "execute_result"
    }
   ],
   "source": [
    "단어_모음=FreqDist(np.hstack(pr_data))#대괄호깨기\n",
    "단어_모음"
   ]
  },
  {
   "cell_type": "code",
   "execution_count": 46,
   "id": "ab2129d8",
   "metadata": {},
   "outputs": [
    {
     "data": {
      "text/plain": [
       "[('barber', 8), ('secret', 6), ('huge', 5), ('kept', 4)]"
      ]
     },
     "execution_count": 46,
     "metadata": {},
     "output_type": "execute_result"
    }
   ],
   "source": [
    "단어_모음=단어_모음.most_common(4)\n",
    "단어_모음"
   ]
  },
  {
   "cell_type": "markdown",
   "id": "8f64badd",
   "metadata": {},
   "source": [
    "케라스 이용data 토큰화 및 정수 인코딩"
   ]
  },
  {
   "cell_type": "code",
   "execution_count": 47,
   "id": "306df4a8",
   "metadata": {},
   "outputs": [
    {
     "data": {
      "text/plain": [
       "[['barber', 'person'],\n",
       " ['barber', 'good', 'person'],\n",
       " ['barber', 'huge', 'person'],\n",
       " ['knew', 'secret'],\n",
       " ['secret', 'kept', 'huge', 'secret'],\n",
       " ['huge', 'secret'],\n",
       " ['barber', 'kept', 'word'],\n",
       " ['barber', 'kept', 'word'],\n",
       " ['barber', 'kept', 'secret'],\n",
       " ['keeping', 'keeping', 'huge', 'secret', 'driving', 'barber', 'crazy'],\n",
       " ['barber', 'went', 'huge', 'mountain']]"
      ]
     },
     "execution_count": 47,
     "metadata": {},
     "output_type": "execute_result"
    }
   ],
   "source": [
    "from tensorflow.keras.preprocessing.text import Tokenizer\n",
    "pr_data"
   ]
  },
  {
   "cell_type": "code",
   "execution_count": 49,
   "id": "08e70318",
   "metadata": {},
   "outputs": [
    {
     "data": {
      "text/plain": [
       "OrderedDict([('barber', 8),\n",
       "             ('person', 3),\n",
       "             ('good', 1),\n",
       "             ('huge', 5),\n",
       "             ('knew', 1),\n",
       "             ('secret', 6),\n",
       "             ('kept', 4),\n",
       "             ('word', 2),\n",
       "             ('keeping', 2),\n",
       "             ('driving', 1),\n",
       "             ('crazy', 1),\n",
       "             ('went', 1),\n",
       "             ('mountain', 1)])"
      ]
     },
     "execution_count": 49,
     "metadata": {},
     "output_type": "execute_result"
    }
   ],
   "source": [
    "ck_t=Tokenizer()\n",
    "ck_t.fit_on_texts(pr_data)#텍스트가 얼마나 있는지 확인\n",
    "ck_t.word_index\n",
    "ck_t.word_counts"
   ]
  },
  {
   "cell_type": "code",
   "execution_count": 64,
   "id": "56353a8b",
   "metadata": {},
   "outputs": [
    {
     "data": {
      "text/plain": [
       "[[1, 5],\n",
       " [1, 8, 5],\n",
       " [1, 3, 5],\n",
       " [9, 2],\n",
       " [2, 4, 3, 2],\n",
       " [3, 2],\n",
       " [1, 4, 6],\n",
       " [1, 4, 6],\n",
       " [1, 4, 2],\n",
       " [7, 7, 3, 2, 10, 1, 11],\n",
       " [1, 12, 3, 13]]"
      ]
     },
     "execution_count": 64,
     "metadata": {},
     "output_type": "execute_result"
    }
   ],
   "source": [
    "encoded=ck_t.texts_to_sequences(pr_data)\n",
    "encoded"
   ]
  },
  {
   "cell_type": "code",
   "execution_count": 62,
   "id": "6d71254b",
   "metadata": {},
   "outputs": [
    {
     "data": {
      "text/plain": [
       "[[2, 1],\n",
       " [2, 1, 1],\n",
       " [2, 4, 1],\n",
       " [1, 3],\n",
       " [3, 5, 4, 3],\n",
       " [4, 3],\n",
       " [2, 5, 1],\n",
       " [2, 5, 1],\n",
       " [2, 5, 3],\n",
       " [1, 1, 4, 3, 1, 2, 1],\n",
       " [2, 1, 4, 1]]"
      ]
     },
     "execution_count": 62,
     "metadata": {},
     "output_type": "execute_result"
    }
   ],
   "source": [
    "n=4\n",
    "end_ck=Tokenizer(num_words=n+2,oov_token='OOV')\n",
    "end_ck.fit_on_texts(pr_data)\n",
    "end_ck.texts_to_sequences(pr_data)"
   ]
  },
  {
   "cell_type": "code",
   "execution_count": 65,
   "id": "f97a9f8f",
   "metadata": {},
   "outputs": [
    {
     "data": {
      "text/plain": [
       "7"
      ]
     },
     "execution_count": 65,
     "metadata": {},
     "output_type": "execute_result"
    }
   ],
   "source": [
    "max_l=max(len(x)for x in encoded)\n",
    "max_l"
   ]
  },
  {
   "cell_type": "code",
   "execution_count": 67,
   "id": "24adbfec",
   "metadata": {},
   "outputs": [
    {
     "data": {
      "text/plain": [
       "array([[ 1,  5,  0,  0,  0,  0,  0],\n",
       "       [ 1,  8,  5,  0,  0,  0,  0],\n",
       "       [ 1,  3,  5,  0,  0,  0,  0],\n",
       "       [ 9,  2,  0,  0,  0,  0,  0],\n",
       "       [ 2,  4,  3,  2,  0,  0,  0],\n",
       "       [ 3,  2,  0,  0,  0,  0,  0],\n",
       "       [ 1,  4,  6,  0,  0,  0,  0],\n",
       "       [ 1,  4,  6,  0,  0,  0,  0],\n",
       "       [ 1,  4,  2,  0,  0,  0,  0],\n",
       "       [ 7,  7,  3,  2, 10,  1, 11],\n",
       "       [ 1, 12,  3, 13,  0,  0,  0]])"
      ]
     },
     "execution_count": 67,
     "metadata": {},
     "output_type": "execute_result"
    }
   ],
   "source": [
    "for i in encoded:\n",
    "    while len(i)<max_l:\n",
    "        i.append(0)\n",
    "data=np.array(encoded)\n",
    "data"
   ]
  },
  {
   "cell_type": "code",
   "execution_count": 68,
   "id": "a98a5226",
   "metadata": {},
   "outputs": [
    {
     "data": {
      "text/plain": [
       "[[1, 5],\n",
       " [1, 8, 5],\n",
       " [1, 3, 5],\n",
       " [9, 2],\n",
       " [2, 4, 3, 2],\n",
       " [3, 2],\n",
       " [1, 4, 6],\n",
       " [1, 4, 6],\n",
       " [1, 4, 2],\n",
       " [7, 7, 3, 2, 10, 1, 11],\n",
       " [1, 12, 3, 13]]"
      ]
     },
     "execution_count": 68,
     "metadata": {},
     "output_type": "execute_result"
    }
   ],
   "source": [
    "from tensorflow.keras.preprocessing.sequence import pad_sequences #크기요소 정리\n",
    "ck_t=Tokenizer()\n",
    "ck_t.fit_on_texts(pr_data)\n",
    "encoded=ck_t.texts_to_sequences(pr_data)\n",
    "encoded"
   ]
  },
  {
   "cell_type": "code",
   "execution_count": 70,
   "id": "0af2e1d0",
   "metadata": {},
   "outputs": [
    {
     "data": {
      "text/plain": [
       "array([[ 1,  5,  0,  0,  0,  0,  0],\n",
       "       [ 1,  8,  5,  0,  0,  0,  0],\n",
       "       [ 1,  3,  5,  0,  0,  0,  0],\n",
       "       [ 9,  2,  0,  0,  0,  0,  0],\n",
       "       [ 2,  4,  3,  2,  0,  0,  0],\n",
       "       [ 3,  2,  0,  0,  0,  0,  0],\n",
       "       [ 1,  4,  6,  0,  0,  0,  0],\n",
       "       [ 1,  4,  6,  0,  0,  0,  0],\n",
       "       [ 1,  4,  2,  0,  0,  0,  0],\n",
       "       [ 7,  7,  3,  2, 10,  1, 11],\n",
       "       [ 1, 12,  3, 13,  0,  0,  0]])"
      ]
     },
     "execution_count": 70,
     "metadata": {},
     "output_type": "execute_result"
    }
   ],
   "source": [
    "end_data=pad_sequences(encoded,padding='post')#post 안단 구성요소 뒷단에 데이터값\n",
    "end_data"
   ]
  },
  {
   "cell_type": "code",
   "execution_count": 72,
   "id": "6836aa70",
   "metadata": {},
   "outputs": [
    {
     "data": {
      "text/plain": [
       "array([[ 1,  5,  0,  0,  0],\n",
       "       [ 1,  8,  5,  0,  0],\n",
       "       [ 1,  3,  5,  0,  0],\n",
       "       [ 9,  2,  0,  0,  0],\n",
       "       [ 2,  4,  3,  2,  0],\n",
       "       [ 3,  2,  0,  0,  0],\n",
       "       [ 1,  4,  6,  0,  0],\n",
       "       [ 1,  4,  6,  0,  0],\n",
       "       [ 1,  4,  2,  0,  0],\n",
       "       [ 7,  7,  3,  2, 10],\n",
       "       [ 1, 12,  3, 13,  0]])"
      ]
     },
     "execution_count": 72,
     "metadata": {},
     "output_type": "execute_result"
    }
   ],
   "source": [
    "end_data=pad_sequences(encoded,padding='post',truncating='post',maxlen=5)#post 안단 구성요소 뒷단에 데이터값\n",
    "end_data"
   ]
  },
  {
   "cell_type": "code",
   "execution_count": 73,
   "id": "49f346a8",
   "metadata": {},
   "outputs": [
    {
     "data": {
      "text/plain": [
       "[[1, 5],\n",
       " [1, 8, 5],\n",
       " [1, 3, 5],\n",
       " [9, 2],\n",
       " [2, 4, 3, 2],\n",
       " [3, 2],\n",
       " [1, 4, 6],\n",
       " [1, 4, 6],\n",
       " [1, 4, 2],\n",
       " [7, 7, 3, 2, 10, 1, 11],\n",
       " [1, 12, 3, 13]]"
      ]
     },
     "execution_count": 73,
     "metadata": {},
     "output_type": "execute_result"
    }
   ],
   "source": [
    "encoded"
   ]
  },
  {
   "cell_type": "code",
   "execution_count": 78,
   "id": "579e2065",
   "metadata": {},
   "outputs": [
    {
     "data": {
      "text/plain": [
       "array([[ 1,  5, 14, 14, 14, 14, 14],\n",
       "       [ 1,  8,  5, 14, 14, 14, 14],\n",
       "       [ 1,  3,  5, 14, 14, 14, 14],\n",
       "       [ 9,  2, 14, 14, 14, 14, 14],\n",
       "       [ 2,  4,  3,  2, 14, 14, 14],\n",
       "       [ 3,  2, 14, 14, 14, 14, 14],\n",
       "       [ 1,  4,  6, 14, 14, 14, 14],\n",
       "       [ 1,  4,  6, 14, 14, 14, 14],\n",
       "       [ 1,  4,  2, 14, 14, 14, 14],\n",
       "       [ 7,  7,  3,  2, 10,  1, 11],\n",
       "       [ 1, 12,  3, 13, 14, 14, 14]])"
      ]
     },
     "execution_count": 78,
     "metadata": {},
     "output_type": "execute_result"
    }
   ],
   "source": [
    "v=len(ck_t.word_index)+1\n",
    "end_data=pad_sequences(encoded,padding='post',truncating='post',value=v)\n",
    "end_data"
   ]
  },
  {
   "cell_type": "code",
   "execution_count": null,
   "id": "620b493f",
   "metadata": {},
   "outputs": [],
   "source": [
    "#원핫인코딩은 차원이 높아지면 오버피팅 확률 높다\n"
   ]
  }
 ],
 "metadata": {
  "kernelspec": {
   "display_name": "Python 3 (ipykernel)",
   "language": "python",
   "name": "python3"
  },
  "language_info": {
   "codemirror_mode": {
    "name": "ipython",
    "version": 3
   },
   "file_extension": ".py",
   "mimetype": "text/x-python",
   "name": "python",
   "nbconvert_exporter": "python",
   "pygments_lexer": "ipython3",
   "version": "3.9.7"
  }
 },
 "nbformat": 4,
 "nbformat_minor": 5
}
