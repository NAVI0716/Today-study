{
 "cells": [
  {
   "cell_type": "markdown",
   "id": "e7825435",
   "metadata": {},
   "source": [
    "str_data=['안 녕 하 세 요1023'].str.replace('[^ㄱ-ㅎ ㅏ-ㅣ 가-힣]','')"
   ]
  },
  {
   "cell_type": "code",
   "execution_count": 1,
   "id": "23c69278",
   "metadata": {},
   "outputs": [
    {
     "data": {
      "text/plain": [
       "['id', 'document', 'label']"
      ]
     },
     "execution_count": 1,
     "metadata": {},
     "output_type": "execute_result"
    }
   ],
   "source": [
    "import codecs\n",
    "import pandas as pd\n",
    "with codecs.open('ratings_test.txt',encoding='utf-8') as f:\n",
    "    data=[i.split('\\t') for i in f.read().splitlines()]\n",
    "    m=data[0]\n",
    "    data=data[1:]\n",
    "m"
   ]
  },
  {
   "cell_type": "code",
   "execution_count": 2,
   "id": "1d9b3f10",
   "metadata": {},
   "outputs": [
    {
     "data": {
      "text/html": [
       "<div>\n",
       "<style scoped>\n",
       "    .dataframe tbody tr th:only-of-type {\n",
       "        vertical-align: middle;\n",
       "    }\n",
       "\n",
       "    .dataframe tbody tr th {\n",
       "        vertical-align: top;\n",
       "    }\n",
       "\n",
       "    .dataframe thead th {\n",
       "        text-align: right;\n",
       "    }\n",
       "</style>\n",
       "<table border=\"1\" class=\"dataframe\">\n",
       "  <thead>\n",
       "    <tr style=\"text-align: right;\">\n",
       "      <th></th>\n",
       "      <th>id</th>\n",
       "      <th>document</th>\n",
       "      <th>label</th>\n",
       "    </tr>\n",
       "  </thead>\n",
       "  <tbody>\n",
       "    <tr>\n",
       "      <th>0</th>\n",
       "      <td>6270596</td>\n",
       "      <td>굳 ㅋ</td>\n",
       "      <td>1</td>\n",
       "    </tr>\n",
       "    <tr>\n",
       "      <th>1</th>\n",
       "      <td>9274899</td>\n",
       "      <td>GDNTOPCLASSINTHECLUB</td>\n",
       "      <td>0</td>\n",
       "    </tr>\n",
       "    <tr>\n",
       "      <th>2</th>\n",
       "      <td>8544678</td>\n",
       "      <td>뭐야 이 평점들은.... 나쁘진 않지만 10점 짜리는 더더욱 아니잖아</td>\n",
       "      <td>0</td>\n",
       "    </tr>\n",
       "    <tr>\n",
       "      <th>3</th>\n",
       "      <td>6825595</td>\n",
       "      <td>지루하지는 않은데 완전 막장임... 돈주고 보기에는....</td>\n",
       "      <td>0</td>\n",
       "    </tr>\n",
       "    <tr>\n",
       "      <th>4</th>\n",
       "      <td>6723715</td>\n",
       "      <td>3D만 아니었어도 별 다섯 개 줬을텐데.. 왜 3D로 나와서 제 심기를 불편하게 하죠??</td>\n",
       "      <td>0</td>\n",
       "    </tr>\n",
       "    <tr>\n",
       "      <th>...</th>\n",
       "      <td>...</td>\n",
       "      <td>...</td>\n",
       "      <td>...</td>\n",
       "    </tr>\n",
       "    <tr>\n",
       "      <th>49995</th>\n",
       "      <td>4608761</td>\n",
       "      <td>오랜만에 평점 로긴했네ㅋㅋ 킹왕짱 쌈뽕한 영화를 만났습니다 강렬하게 육쾌함</td>\n",
       "      <td>1</td>\n",
       "    </tr>\n",
       "    <tr>\n",
       "      <th>49996</th>\n",
       "      <td>5308387</td>\n",
       "      <td>의지 박약들이나 하는거다 탈영은 일단 주인공 김대희 닮았고 이등병 찐따 OOOO</td>\n",
       "      <td>0</td>\n",
       "    </tr>\n",
       "    <tr>\n",
       "      <th>49997</th>\n",
       "      <td>9072549</td>\n",
       "      <td>그림도 좋고 완성도도 높았지만... 보는 내내 불안하게 만든다</td>\n",
       "      <td>0</td>\n",
       "    </tr>\n",
       "    <tr>\n",
       "      <th>49998</th>\n",
       "      <td>5802125</td>\n",
       "      <td>절대 봐서는 안 될 영화.. 재미도 없고 기분만 잡치고.. 한 세트장에서 다 해먹네</td>\n",
       "      <td>0</td>\n",
       "    </tr>\n",
       "    <tr>\n",
       "      <th>49999</th>\n",
       "      <td>6070594</td>\n",
       "      <td>마무리는 또 왜이래</td>\n",
       "      <td>0</td>\n",
       "    </tr>\n",
       "  </tbody>\n",
       "</table>\n",
       "<p>50000 rows × 3 columns</p>\n",
       "</div>"
      ],
      "text/plain": [
       "            id                                           document label\n",
       "0      6270596                                                굳 ㅋ     1\n",
       "1      9274899                               GDNTOPCLASSINTHECLUB     0\n",
       "2      8544678             뭐야 이 평점들은.... 나쁘진 않지만 10점 짜리는 더더욱 아니잖아     0\n",
       "3      6825595                   지루하지는 않은데 완전 막장임... 돈주고 보기에는....     0\n",
       "4      6723715  3D만 아니었어도 별 다섯 개 줬을텐데.. 왜 3D로 나와서 제 심기를 불편하게 하죠??     0\n",
       "...        ...                                                ...   ...\n",
       "49995  4608761          오랜만에 평점 로긴했네ㅋㅋ 킹왕짱 쌈뽕한 영화를 만났습니다 강렬하게 육쾌함     1\n",
       "49996  5308387       의지 박약들이나 하는거다 탈영은 일단 주인공 김대희 닮았고 이등병 찐따 OOOO     0\n",
       "49997  9072549                 그림도 좋고 완성도도 높았지만... 보는 내내 불안하게 만든다     0\n",
       "49998  5802125     절대 봐서는 안 될 영화.. 재미도 없고 기분만 잡치고.. 한 세트장에서 다 해먹네     0\n",
       "49999  6070594                                         마무리는 또 왜이래     0\n",
       "\n",
       "[50000 rows x 3 columns]"
      ]
     },
     "execution_count": 2,
     "metadata": {},
     "output_type": "execute_result"
    }
   ],
   "source": [
    "p_data=pd.DataFrame(data,columns=m)\n",
    "p_data"
   ]
  },
  {
   "cell_type": "markdown",
   "id": "ce224db6",
   "metadata": {},
   "source": [
    "1. 토큰화 : 입력데이터에서 피쳐정리\n",
    "2. 데이터 전처리\n",
    "3. 모델 생성 학습\n",
    "4. 그래프모델 표현"
   ]
  },
  {
   "cell_type": "code",
   "execution_count": 3,
   "id": "5a787875",
   "metadata": {},
   "outputs": [],
   "source": [
    "from konlpy.tag import Okt    "
   ]
  },
  {
   "cell_type": "code",
   "execution_count": 4,
   "id": "1c40daf5",
   "metadata": {},
   "outputs": [],
   "source": [
    "m=Okt()\n",
    "c=0\n",
    "end_d=[]\n",
    "for i in p_data['document']:\n",
    "    l=[]\n",
    "    l1=[]\n",
    "    k=m.morphs(i)\n",
    "    for j in k:\n",
    "        if len(j) >1:\n",
    "            if j != '..':\n",
    "                if j != '...':\n",
    "                    if j != '....':\n",
    "                        l.append(j)\n",
    "    합=\"\"\n",
    "    for j in l:\n",
    "        \n",
    "        합 = 합+ ' ' + j\n",
    "    l1.append(합)\n",
    "    end_d.append(l1)\n"
   ]
  },
  {
   "cell_type": "code",
   "execution_count": 5,
   "id": "25644ee1",
   "metadata": {},
   "outputs": [],
   "source": [
    "from tensorflow.keras.utils import to_categorical\n",
    "end_dd=pd.DataFrame(end_d,columns=['document'])\n",
    "X_data=end_dd['document'].values\n",
    "y_data=p_data['label'].values"
   ]
  },
  {
   "cell_type": "code",
   "execution_count": 20,
   "id": "e5301c3d",
   "metadata": {},
   "outputs": [
    {
     "data": {
      "text/plain": [
       "array([[0.        , 0.        , 0.        , ..., 0.        , 0.        ,\n",
       "        0.        ],\n",
       "       [0.        , 0.        , 0.        , ..., 0.        , 0.        ,\n",
       "        0.        ],\n",
       "       [0.        , 0.        , 0.        , ..., 0.        , 0.        ,\n",
       "        0.        ],\n",
       "       ...,\n",
       "       [0.        , 0.        , 0.        , ..., 0.        , 0.        ,\n",
       "        0.        ],\n",
       "       [0.        , 1.51465693, 0.        , ..., 0.        , 0.        ,\n",
       "        0.        ],\n",
       "       [0.        , 0.        , 0.        , ..., 0.        , 0.        ,\n",
       "        0.        ]])"
      ]
     },
     "execution_count": 20,
     "metadata": {},
     "output_type": "execute_result"
    }
   ],
   "source": [
    "from tensorflow.keras.preprocessing.text import Tokenizer\n",
    "tk=Tokenizer(num_words=5000)\n",
    "tk.fit_on_texts(X_data)\n",
    "t_x_data=tk.texts_to_matrix(X_data,mode='tfidf')\n",
    "t_x_data"
   ]
  },
  {
   "cell_type": "code",
   "execution_count": 7,
   "id": "181b8d02",
   "metadata": {},
   "outputs": [
    {
     "data": {
      "text/plain": [
       "array([[0., 1.],\n",
       "       [1., 0.],\n",
       "       [1., 0.],\n",
       "       ...,\n",
       "       [1., 0.],\n",
       "       [1., 0.],\n",
       "       [1., 0.]], dtype=float32)"
      ]
     },
     "execution_count": 7,
     "metadata": {},
     "output_type": "execute_result"
    }
   ],
   "source": [
    "y_data=to_categorical(y_data)\n",
    "y_data"
   ]
  },
  {
   "cell_type": "code",
   "execution_count": 21,
   "id": "31989e57",
   "metadata": {},
   "outputs": [],
   "source": [
    "from sklearn.model_selection import train_test_split\n",
    "t_x,tt_x,t_y,tt_y=train_test_split(t_x_data,y_data,random_state=1)"
   ]
  },
  {
   "cell_type": "code",
   "execution_count": 22,
   "id": "26e06317",
   "metadata": {},
   "outputs": [
    {
     "data": {
      "text/plain": [
       "((37500, 5000), (37500, 2))"
      ]
     },
     "execution_count": 22,
     "metadata": {},
     "output_type": "execute_result"
    }
   ],
   "source": [
    "t_x.shape,t_y.shape"
   ]
  },
  {
   "cell_type": "code",
   "execution_count": 24,
   "id": "0ba775f8",
   "metadata": {
    "scrolled": true
   },
   "outputs": [
    {
     "name": "stdout",
     "output_type": "stream",
     "text": [
      "Epoch 1/10\n",
      "1172/1172 [==============================] - 9s 7ms/step - loss: 0.4772 - binary_accuracy: 0.7667 - val_loss: 0.4100 - val_binary_accuracy: 0.8058\n",
      "Epoch 2/10\n",
      "1172/1172 [==============================] - 9s 8ms/step - loss: 0.3509 - binary_accuracy: 0.8358 - val_loss: 0.4242 - val_binary_accuracy: 0.8016\n",
      "Epoch 3/10\n",
      "1172/1172 [==============================] - 9s 8ms/step - loss: 0.2941 - binary_accuracy: 0.8626 - val_loss: 0.4782 - val_binary_accuracy: 0.8000\n",
      "Epoch 4/10\n",
      "1172/1172 [==============================] - 8s 7ms/step - loss: 0.2424 - binary_accuracy: 0.8864 - val_loss: 0.5086 - val_binary_accuracy: 0.7991\n",
      "Epoch 5/10\n",
      "1172/1172 [==============================] - 8s 7ms/step - loss: 0.1982 - binary_accuracy: 0.9051 - val_loss: 0.6144 - val_binary_accuracy: 0.7996\n",
      "Epoch 6/10\n",
      "1172/1172 [==============================] - 8s 7ms/step - loss: 0.1625 - binary_accuracy: 0.9243 - val_loss: 0.7099 - val_binary_accuracy: 0.7965\n",
      "Epoch 7/10\n",
      "1172/1172 [==============================] - 9s 8ms/step - loss: 0.1421 - binary_accuracy: 0.9336 - val_loss: 0.8837 - val_binary_accuracy: 0.7911\n",
      "Epoch 8/10\n",
      "1172/1172 [==============================] - 9s 7ms/step - loss: 0.1247 - binary_accuracy: 0.9405 - val_loss: 0.9233 - val_binary_accuracy: 0.7929\n",
      "Epoch 9/10\n",
      "1172/1172 [==============================] - 9s 7ms/step - loss: 0.1134 - binary_accuracy: 0.9461 - val_loss: 0.9666 - val_binary_accuracy: 0.7934\n",
      "Epoch 10/10\n",
      "1172/1172 [==============================] - 8s 7ms/step - loss: 0.1033 - binary_accuracy: 0.9488 - val_loss: 1.1178 - val_binary_accuracy: 0.7948\n"
     ]
    }
   ],
   "source": [
    "from tensorflow.keras import Sequential\n",
    "from tensorflow.keras.layers import Dense, Dropout\n",
    "from tensorflow.keras import optimizers \n",
    "m=Sequential()\n",
    "m.add(Dense(256,input_shape=(5000,),activation='relu'))\n",
    "m.add(Dropout(0.5))\n",
    "m.add(Dense(128,activation='relu'))\n",
    "m.add(Dropout(0.5))\n",
    "m.add(Dense(2,activation='sigmoid'))\n",
    "m.compile(optimizer='adam',loss='binary_crossentropy',\n",
    "          metrics=['binary_accuracy'])\n",
    "hy=m.fit(t_x,t_y,epochs=10,validation_data=(tt_x,tt_y))"
   ]
  },
  {
   "cell_type": "code",
   "execution_count": 25,
   "id": "781cdd81",
   "metadata": {},
   "outputs": [
    {
     "data": {
      "text/plain": [
       "[<matplotlib.lines.Line2D at 0x1fe18e558b0>]"
      ]
     },
     "execution_count": 25,
     "metadata": {},
     "output_type": "execute_result"
    },
    {
     "data": {
      "image/png": "[encoded data removed]",
      "text/plain": [
       "<Figure size 432x288 with 1 Axes>"
      ]
     },
     "metadata": {
      "needs_background": "light"
     },
     "output_type": "display_data"
    }
   ],
   "source": [
    "#mode=tfidf, num_words=5000\n",
    "import matplotlib.pyplot as plt\n",
    "x=range(1,len(hy.history['loss'])+1)\n",
    "plt.plot(x,hy.history['loss'])\n",
    "plt.plot(x,hy.history['val_loss'])"
   ]
  },
  {
   "cell_type": "code",
   "execution_count": 16,
   "id": "8ee2b211",
   "metadata": {},
   "outputs": [
    {
     "data": {
      "text/plain": [
       "[<matplotlib.lines.Line2D at 0x1fe445fd4c0>]"
      ]
     },
     "execution_count": 16,
     "metadata": {},
     "output_type": "execute_result"
    },
    {
     "data": {
      "image/png": "[encoded data removed]",
      "text/plain": [
       "<Figure size 432x288 with 1 Axes>"
      ]
     },
     "metadata": {
      "needs_background": "light"
     },
     "output_type": "display_data"
    }
   ],
   "source": [
    "#mode=binary, num_words=10000\n",
    "import matplotlib.pyplot as plt\n",
    "x=range(1,len(hy.history['loss'])+1)\n",
    "plt.plot(x,hy.history['loss'])\n",
    "plt.plot(x,hy.history['val_loss'])"
   ]
  },
  {
   "cell_type": "code",
   "execution_count": null,
   "id": "94a6027e",
   "metadata": {},
   "outputs": [],
   "source": [
    "#위와 같이 발산하는것은 오버피팅된것때문이다. 이를 없애기 위해서는 편향된 쓸모없는 피쳐를 제거해줘야한다."
   ]
  }
 ],
 "metadata": {
  "kernelspec": {
   "display_name": "Python 3 (ipykernel)",
   "language": "python",
   "name": "python3"
  },
  "language_info": {
   "codemirror_mode": {
    "name": "ipython",
    "version": 3
   },
   "file_extension": ".py",
   "mimetype": "text/x-python",
   "name": "python",
   "nbconvert_exporter": "python",
   "pygments_lexer": "ipython3",
   "version": "3.9.7"
  }
 },
 "nbformat": 4,
 "nbformat_minor": 5
}
