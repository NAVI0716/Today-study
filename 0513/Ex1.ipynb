{
 "cells": [
  {
   "cell_type": "code",
   "execution_count": 1,
   "id": "c08f503e",
   "metadata": {},
   "outputs": [],
   "source": [
    "import pandas as pd\n",
    "X_data=pd.read_csv('X_data.csv')"
   ]
  },
  {
   "cell_type": "code",
   "execution_count": 2,
   "id": "bf4f3173",
   "metadata": {},
   "outputs": [],
   "source": [
    "y_data=pd.read_csv('Y_data.csv')"
   ]
  },
  {
   "cell_type": "code",
   "execution_count": 3,
   "id": "cde9a41e",
   "metadata": {},
   "outputs": [
    {
     "data": {
      "text/plain": [
       "(10000, 10000)"
      ]
     },
     "execution_count": 3,
     "metadata": {},
     "output_type": "execute_result"
    }
   ],
   "source": [
    "X_data.shape"
   ]
  },
  {
   "cell_type": "code",
   "execution_count": 4,
   "id": "48ab4629",
   "metadata": {},
   "outputs": [
    {
     "data": {
      "text/plain": [
       "(10000, 103)"
      ]
     },
     "execution_count": 4,
     "metadata": {},
     "output_type": "execute_result"
    }
   ],
   "source": [
    "y_data.shape"
   ]
  },
  {
   "cell_type": "code",
   "execution_count": 7,
   "id": "7535a775",
   "metadata": {},
   "outputs": [],
   "source": [
    "from sklearn.model_selection import train_test_split\n",
    "t_x,tt_x,t_y,tt_y=train_test_split(X_data,y_data,random_state=1)"
   ]
  },
  {
   "cell_type": "code",
   "execution_count": null,
   "id": "9bc41418",
   "metadata": {},
   "outputs": [],
   "source": [
    "#다중 뉴럴 네트워크/ 앞에 진행된것과 진행될것에 영향을 안줌 foward신경망"
   ]
  },
  {
   "cell_type": "code",
   "execution_count": 8,
   "id": "5c8d150e",
   "metadata": {
    "scrolled": true
   },
   "outputs": [
    {
     "name": "stdout",
     "output_type": "stream",
     "text": [
      "Epoch 1/10\n",
      "235/235 [==============================] - 4s 16ms/step - loss: 148.7127 - accuracy: 0.0489 - val_loss: 549.4069 - val_accuracy: 4.0000e-04\n",
      "Epoch 2/10\n",
      "235/235 [==============================] - 4s 16ms/step - loss: 2102.3328 - accuracy: 0.0555 - val_loss: 4257.2124 - val_accuracy: 4.0000e-04\n",
      "Epoch 3/10\n",
      "235/235 [==============================] - 3s 14ms/step - loss: 8160.7671 - accuracy: 0.0545 - val_loss: 12934.5107 - val_accuracy: 4.0000e-04\n",
      "Epoch 4/10\n",
      "235/235 [==============================] - 3s 13ms/step - loss: 19329.5449 - accuracy: 0.0520 - val_loss: 27280.0996 - val_accuracy: 0.1880\n",
      "Epoch 5/10\n",
      "235/235 [==============================] - 3s 13ms/step - loss: 35892.0547 - accuracy: 0.0496 - val_loss: 47713.5234 - val_accuracy: 4.0000e-04\n",
      "Epoch 6/10\n",
      "235/235 [==============================] - 3s 13ms/step - loss: 59318.7695 - accuracy: 0.0519 - val_loss: 74776.8281 - val_accuracy: 0.1880\n",
      "Epoch 7/10\n",
      "235/235 [==============================] - 3s 13ms/step - loss: 87842.3516 - accuracy: 0.0552 - val_loss: 108422.2969 - val_accuracy: 4.0000e-04\n",
      "Epoch 8/10\n",
      "235/235 [==============================] - 3s 13ms/step - loss: 124885.0781 - accuracy: 0.0512 - val_loss: 150348.1875 - val_accuracy: 4.0000e-04\n",
      "Epoch 9/10\n",
      "235/235 [==============================] - 3s 13ms/step - loss: 167214.5781 - accuracy: 0.0500 - val_loss: 198745.3125 - val_accuracy: 0.0000e+00\n",
      "Epoch 10/10\n",
      "235/235 [==============================] - 3s 13ms/step - loss: 219055.5000 - accuracy: 0.0497 - val_loss: 256498.7656 - val_accuracy: 0.0000e+00\n"
     ]
    }
   ],
   "source": [
    "from tensorflow.keras.layers import Dense, Dropout\n",
    "from tensorflow.keras import Sequential\n",
    "from tensorflow.keras import optimizers\n",
    "m=Sequential()\n",
    "m.add(Dense(256,input_shape=(10000,),activation='relu'))\n",
    "m.add(Dropout(0.5))\n",
    "m.add(Dense(128,activation='relu'))\n",
    "m.add(Dropout(0.5))\n",
    "m.add(Dense(103,activation='softmax'))\n",
    "m.compile(optimizer='adam',loss = 'categorical_crossentropy',\n",
    "          metrics=['accuracy'])\n",
    "hy=m.fit(t_x,t_y,epochs=10,validation_data=(tt_x,tt_y))"
   ]
  },
  {
   "cell_type": "code",
   "execution_count": 9,
   "id": "74e2ed5d",
   "metadata": {},
   "outputs": [
    {
     "data": {
      "text/plain": [
       "[<matplotlib.lines.Line2D at 0x235b48ff430>]"
      ]
     },
     "execution_count": 9,
     "metadata": {},
     "output_type": "execute_result"
    },
    {
     "data": {
      "image/png": "[encoded data removed]",
      "text/plain": [
       "<Figure size 432x288 with 1 Axes>"
      ]
     },
     "metadata": {
      "needs_background": "light"
     },
     "output_type": "display_data"
    }
   ],
   "source": [
    "import matplotlib.pyplot as plt\n",
    "x=range(1,len(hy.history['loss'])+1)\n",
    "plt.plot(x,hy.history['loss'])\n",
    "plt.plot(x,hy.history['val_loss'])"
   ]
  },
  {
   "cell_type": "code",
   "execution_count": null,
   "id": "55a3af3d",
   "metadata": {},
   "outputs": [],
   "source": [
    "#loss 발산했다란 말은 기울기가 0이되는값을 찾지 못했다\n",
    "#관련된 요소에서 관련되값을 찾지못하고 \n",
    "#학습구성에서 1. 모델의 이용에서 옵티마이저 방식이 잘못되어서 2.데이터관련 요소가 알맞지않아서\n",
    "#softmax는 통합해서 0~1값을 말해줌 / 가장 높은값 확률값 도출=> 유일한 값을 찾을때 사용\n"
   ]
  }
 ],
 "metadata": {
  "kernelspec": {
   "display_name": "Python 3 (ipykernel)",
   "language": "python",
   "name": "python3"
  },
  "language_info": {
   "codemirror_mode": {
    "name": "ipython",
    "version": 3
   },
   "file_extension": ".py",
   "mimetype": "text/x-python",
   "name": "python",
   "nbconvert_exporter": "python",
   "pygments_lexer": "ipython3",
   "version": "3.9.7"
  }
 },
 "nbformat": 4,
 "nbformat_minor": 5
}
