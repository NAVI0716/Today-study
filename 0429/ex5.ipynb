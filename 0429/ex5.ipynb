{
 "cells": [
  {
   "cell_type": "code",
   "execution_count": 1,
   "id": "4803ec47",
   "metadata": {},
   "outputs": [],
   "source": [
    "from tensorflow import keras\n",
    "from sklearn.model_selection import train_test_split\n",
    "from keras.datasets.fashion_mnist import load_data\n",
    "(x_data,y_data),(t_x_data,t_y_data)= keras.datasets.fashion_mnist.load_data()\n",
    "x_data=x_data.reshape(-1,28,28,1)/255.0#데이터 전처리끝\n",
    "t_x,tt_x,t_y,tt_y = train_test_split(x_data,y_data,test_size=0.2,random_state=42)"
   ]
  },
  {
   "cell_type": "code",
   "execution_count": 2,
   "id": "367e2eff",
   "metadata": {},
   "outputs": [],
   "source": [
    "m=keras.Sequential()\n",
    "m.add(keras.layers.Conv2D(32,kernel_size=3,activation='relu',padding='same',input_shape=(28,28,1)))\n",
    "m.add(keras.layers.MaxPool2D(2))\n",
    "m.add(keras.layers.Conv2D(64,kernel_size=(3,3),activation='relu',padding='same'))\n",
    "m.add(keras.layers.MaxPool2D(2))  "
   ]
  },
  {
   "cell_type": "code",
   "execution_count": 3,
   "id": "fae8409e",
   "metadata": {},
   "outputs": [
    {
     "name": "stdout",
     "output_type": "stream",
     "text": [
      "Model: \"sequential\"\n",
      "_________________________________________________________________\n",
      " Layer (type)                Output Shape              Param #   \n",
      "=================================================================\n",
      " conv2d (Conv2D)             (None, 28, 28, 32)        320       \n",
      "                                                                 \n",
      " max_pooling2d (MaxPooling2D  (None, 14, 14, 32)       0         \n",
      " )                                                               \n",
      "                                                                 \n",
      " conv2d_1 (Conv2D)           (None, 14, 14, 64)        18496     \n",
      "                                                                 \n",
      " max_pooling2d_1 (MaxPooling  (None, 7, 7, 64)         0         \n",
      " 2D)                                                             \n",
      "                                                                 \n",
      " flatten (Flatten)           (None, 3136)              0         \n",
      "                                                                 \n",
      " dense (Dense)               (None, 100)               313700    \n",
      "                                                                 \n",
      " dropout (Dropout)           (None, 100)               0         \n",
      "                                                                 \n",
      " dense_1 (Dense)             (None, 10)                1010      \n",
      "                                                                 \n",
      "=================================================================\n",
      "Total params: 333,526\n",
      "Trainable params: 333,526\n",
      "Non-trainable params: 0\n",
      "_________________________________________________________________\n"
     ]
    }
   ],
   "source": [
    "m.add(keras.layers.Flatten())\n",
    "m.add(keras.layers.Dense(100,activation='relu'))\n",
    "m.add(keras.layers.Dropout(0.4))\n",
    "m.add(keras.layers.Dense(10,activation='softmax'))\n",
    "m.summary()"
   ]
  },
  {
   "cell_type": "code",
   "execution_count": null,
   "id": "7120ef36",
   "metadata": {},
   "outputs": [],
   "source": [
    "keras.utils."
   ]
  },
  {
   "cell_type": "code",
   "execution_count": null,
   "id": "1b735a16",
   "metadata": {},
   "outputs": [],
   "source": []
  }
 ],
 "metadata": {
  "kernelspec": {
   "display_name": "Python 3 (ipykernel)",
   "language": "python",
   "name": "python3"
  },
  "language_info": {
   "codemirror_mode": {
    "name": "ipython",
    "version": 3
   },
   "file_extension": ".py",
   "mimetype": "text/x-python",
   "name": "python",
   "nbconvert_exporter": "python",
   "pygments_lexer": "ipython3",
   "version": "3.9.7"
  }
 },
 "nbformat": 4,
 "nbformat_minor": 5
}
