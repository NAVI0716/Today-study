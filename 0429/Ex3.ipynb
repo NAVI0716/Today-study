{
 "cells": [
  {
   "cell_type": "code",
   "execution_count": 1,
   "id": "283b5c7e",
   "metadata": {},
   "outputs": [
    {
     "data": {
      "text/plain": [
       "(28, 28)"
      ]
     },
     "execution_count": 1,
     "metadata": {},
     "output_type": "execute_result"
    }
   ],
   "source": [
    "import tensorflow as tf\n",
    "from tensorflow import keras\n",
    "import numpy as np\n",
    "import pandas as pd\n",
    "import matplotlib.pyplot as plt\n",
    "(t_x,t_y),(tt_x,tt_y) = keras.datasets.fashion_mnist.load_data()\n",
    "s_t_x= t_x/255.0\n",
    "s_tt_x=tt_x/255.0\n",
    "from sklearn.model_selection import train_test_split\n",
    "t_x,v_x,t_y,v_y=train_test_split(s_t_x,t_y,test_size=0.2,random_state=42)\n",
    "t_x.shape[1:]"
   ]
  },
  {
   "cell_type": "code",
   "execution_count": 2,
   "id": "b34bffcc",
   "metadata": {},
   "outputs": [],
   "source": [
    "m=keras.Sequential()\n",
    "m.add(keras.layers.Flatten(input_shape=t_x.shape[1:]))\n",
    "m.add(keras.layers.Dense(100,activation='relu'))\n",
    "m.add(keras.layers.Dense(300,activation='relu'))\n",
    "m.add(keras.layers.Dense(10,activation='softmax'))\n",
    "m.compile(optimizer='sgd',loss='sparse_categorical_crossentropy',metrics='accuracy')"
   ]
  },
  {
   "cell_type": "code",
   "execution_count": 3,
   "id": "eb9c60f1",
   "metadata": {
    "scrolled": true
   },
   "outputs": [
    {
     "name": "stdout",
     "output_type": "stream",
     "text": [
      "Epoch 1/20\n",
      "1500/1500 [==============================] - 2s 1ms/step - loss: 0.8230 - accuracy: 0.7303 - val_loss: 0.5759 - val_accuracy: 0.8035\n",
      "Epoch 2/20\n",
      "1500/1500 [==============================] - 2s 1ms/step - loss: 0.5271 - accuracy: 0.8169 - val_loss: 0.5130 - val_accuracy: 0.8216\n",
      "Epoch 3/20\n",
      "1500/1500 [==============================] - 2s 1ms/step - loss: 0.4744 - accuracy: 0.8334 - val_loss: 0.4835 - val_accuracy: 0.8286\n",
      "Epoch 4/20\n",
      "1500/1500 [==============================] - 2s 1ms/step - loss: 0.4454 - accuracy: 0.8445 - val_loss: 0.4579 - val_accuracy: 0.8410\n",
      "Epoch 5/20\n",
      "1500/1500 [==============================] - 2s 1ms/step - loss: 0.4235 - accuracy: 0.8512 - val_loss: 0.4198 - val_accuracy: 0.8510\n",
      "Epoch 6/20\n",
      "1500/1500 [==============================] - 2s 1ms/step - loss: 0.4081 - accuracy: 0.8573 - val_loss: 0.4290 - val_accuracy: 0.8472\n",
      "Epoch 7/20\n",
      "1500/1500 [==============================] - 2s 1ms/step - loss: 0.3947 - accuracy: 0.8619 - val_loss: 0.4014 - val_accuracy: 0.8577\n",
      "Epoch 8/20\n",
      "1500/1500 [==============================] - 2s 1ms/step - loss: 0.3822 - accuracy: 0.8645 - val_loss: 0.3993 - val_accuracy: 0.8594\n",
      "Epoch 9/20\n",
      "1500/1500 [==============================] - 2s 1ms/step - loss: 0.3730 - accuracy: 0.8676 - val_loss: 0.4010 - val_accuracy: 0.8599\n",
      "Epoch 10/20\n",
      "1500/1500 [==============================] - 2s 1ms/step - loss: 0.3639 - accuracy: 0.8715 - val_loss: 0.3935 - val_accuracy: 0.8617\n",
      "Epoch 11/20\n",
      "1500/1500 [==============================] - 2s 1ms/step - loss: 0.3555 - accuracy: 0.8746 - val_loss: 0.3789 - val_accuracy: 0.8651\n",
      "Epoch 12/20\n",
      "1500/1500 [==============================] - 2s 1ms/step - loss: 0.3471 - accuracy: 0.8771 - val_loss: 0.3843 - val_accuracy: 0.8662\n",
      "Epoch 13/20\n",
      "1500/1500 [==============================] - 2s 1ms/step - loss: 0.3413 - accuracy: 0.8796 - val_loss: 0.3598 - val_accuracy: 0.8698\n",
      "Epoch 14/20\n",
      "1500/1500 [==============================] - 2s 1ms/step - loss: 0.3350 - accuracy: 0.8809 - val_loss: 0.3577 - val_accuracy: 0.8745\n",
      "Epoch 15/20\n",
      "1500/1500 [==============================] - 2s 1ms/step - loss: 0.3293 - accuracy: 0.8819 - val_loss: 0.3771 - val_accuracy: 0.8659\n",
      "Epoch 16/20\n",
      "1500/1500 [==============================] - 2s 1ms/step - loss: 0.3225 - accuracy: 0.8833 - val_loss: 0.3659 - val_accuracy: 0.8684\n",
      "Epoch 17/20\n",
      "1500/1500 [==============================] - 2s 1ms/step - loss: 0.3167 - accuracy: 0.8866 - val_loss: 0.3627 - val_accuracy: 0.8724\n",
      "Epoch 18/20\n",
      "1500/1500 [==============================] - 2s 1ms/step - loss: 0.3116 - accuracy: 0.8884 - val_loss: 0.3805 - val_accuracy: 0.8655\n",
      "Epoch 19/20\n",
      "1500/1500 [==============================] - 2s 1ms/step - loss: 0.3075 - accuracy: 0.8898 - val_loss: 0.3517 - val_accuracy: 0.8758\n",
      "Epoch 20/20\n",
      "1500/1500 [==============================] - 2s 1ms/step - loss: 0.3013 - accuracy: 0.8915 - val_loss: 0.3434 - val_accuracy: 0.8794\n"
     ]
    }
   ],
   "source": [
    "hy=m.fit(t_x,t_y,epochs=20,validation_data=(v_x,v_y))"
   ]
  },
  {
   "cell_type": "code",
   "execution_count": null,
   "id": "bdedaae5",
   "metadata": {},
   "outputs": [],
   "source": [
    "plt.plot(hy.history['loss'])\n",
    "plt.plot(hy.history['val_loss'])"
   ]
  },
  {
   "cell_type": "code",
   "execution_count": 5,
   "id": "53646584",
   "metadata": {},
   "outputs": [
    {
     "name": "stdout",
     "output_type": "stream",
     "text": [
      "Epoch 1/20\n",
      "1500/1500 [==============================] - 2s 1ms/step - loss: 0.5009 - accuracy: 0.8210 - val_loss: 0.4018 - val_accuracy: 0.8506\n",
      "Epoch 2/20\n",
      "1500/1500 [==============================] - 2s 1ms/step - loss: 0.3711 - accuracy: 0.8649 - val_loss: 0.3832 - val_accuracy: 0.8649\n",
      "Epoch 3/20\n",
      "1500/1500 [==============================] - 2s 1ms/step - loss: 0.3344 - accuracy: 0.8770 - val_loss: 0.3678 - val_accuracy: 0.8665\n",
      "Epoch 4/20\n",
      "1500/1500 [==============================] - 2s 1ms/step - loss: 0.3113 - accuracy: 0.8838 - val_loss: 0.3782 - val_accuracy: 0.8648\n",
      "Epoch 5/20\n",
      "1500/1500 [==============================] - 2s 1ms/step - loss: 0.2908 - accuracy: 0.8904 - val_loss: 0.3197 - val_accuracy: 0.8843\n",
      "Epoch 6/20\n",
      "1500/1500 [==============================] - 2s 1ms/step - loss: 0.2757 - accuracy: 0.8964 - val_loss: 0.3219 - val_accuracy: 0.8852\n",
      "Epoch 7/20\n",
      "1500/1500 [==============================] - 2s 1ms/step - loss: 0.2627 - accuracy: 0.9006 - val_loss: 0.3150 - val_accuracy: 0.8872\n",
      "Epoch 8/20\n",
      "1500/1500 [==============================] - 2s 1ms/step - loss: 0.2508 - accuracy: 0.9061 - val_loss: 0.3217 - val_accuracy: 0.8860\n",
      "Epoch 9/20\n",
      "1500/1500 [==============================] - 2s 1ms/step - loss: 0.2405 - accuracy: 0.9076 - val_loss: 0.3384 - val_accuracy: 0.8815\n",
      "Epoch 10/20\n",
      "1500/1500 [==============================] - 2s 1ms/step - loss: 0.2317 - accuracy: 0.9128 - val_loss: 0.3261 - val_accuracy: 0.8849\n",
      "Epoch 11/20\n",
      "1500/1500 [==============================] - 2s 1ms/step - loss: 0.2246 - accuracy: 0.9138 - val_loss: 0.3473 - val_accuracy: 0.8819\n",
      "Epoch 12/20\n",
      "1500/1500 [==============================] - 2s 1ms/step - loss: 0.2149 - accuracy: 0.9176 - val_loss: 0.3253 - val_accuracy: 0.8911\n",
      "Epoch 13/20\n",
      "1500/1500 [==============================] - 2s 1ms/step - loss: 0.2103 - accuracy: 0.9200 - val_loss: 0.3399 - val_accuracy: 0.8887\n",
      "Epoch 14/20\n",
      "1500/1500 [==============================] - 2s 1ms/step - loss: 0.1983 - accuracy: 0.9247 - val_loss: 0.3319 - val_accuracy: 0.8893\n",
      "Epoch 15/20\n",
      "1500/1500 [==============================] - 2s 1ms/step - loss: 0.1910 - accuracy: 0.9274 - val_loss: 0.3363 - val_accuracy: 0.8920\n",
      "Epoch 16/20\n",
      "1500/1500 [==============================] - 2s 1ms/step - loss: 0.1845 - accuracy: 0.9307 - val_loss: 0.3508 - val_accuracy: 0.8873\n",
      "Epoch 17/20\n",
      "1500/1500 [==============================] - 2s 1ms/step - loss: 0.1795 - accuracy: 0.9316 - val_loss: 0.3594 - val_accuracy: 0.8872\n",
      "Epoch 18/20\n",
      "1500/1500 [==============================] - 2s 1ms/step - loss: 0.1749 - accuracy: 0.9330 - val_loss: 0.3619 - val_accuracy: 0.8903\n",
      "Epoch 19/20\n",
      "1500/1500 [==============================] - 2s 1ms/step - loss: 0.1674 - accuracy: 0.9361 - val_loss: 0.3872 - val_accuracy: 0.8898\n",
      "Epoch 20/20\n",
      "1500/1500 [==============================] - 2s 1ms/step - loss: 0.1626 - accuracy: 0.9377 - val_loss: 0.3585 - val_accuracy: 0.8957\n"
     ]
    },
    {
     "data": {
      "text/plain": [
       "[<matplotlib.lines.Line2D at 0x1c585c0ba60>]"
      ]
     },
     "execution_count": 5,
     "metadata": {},
     "output_type": "execute_result"
    },
    {
     "data": {
      "image/png": "[encoded data removed]",
      "text/plain": [
       "<Figure size 432x288 with 1 Axes>"
      ]
     },
     "metadata": {
      "needs_background": "light"
     },
     "output_type": "display_data"
    }
   ],
   "source": [
    "m=keras.Sequential()\n",
    "m.add(keras.layers.Flatten(input_shape=t_x.shape[1:]))\n",
    "m.add(keras.layers.Dense(100,activation='relu'))\n",
    "m.add(keras.layers.Dense(300,activation='relu'))\n",
    "m.add(keras.layers.Dense(10,activation='softmax'))\n",
    "m.compile(optimizer='adam',loss='sparse_categorical_crossentropy',metrics='accuracy')\n",
    "hy=m.fit(t_x,t_y,epochs=20,validation_data=(v_x,v_y))\n",
    "plt.plot(hy.history['loss'])\n",
    "plt.plot(hy.history['val_loss'])"
   ]
  },
  {
   "cell_type": "code",
   "execution_count": 6,
   "id": "0f907408",
   "metadata": {
    "scrolled": false
   },
   "outputs": [
    {
     "name": "stdout",
     "output_type": "stream",
     "text": [
      "Epoch 1/20\n",
      "1500/1500 [==============================] - 2s 1ms/step - loss: 0.5846 - accuracy: 0.7868 - val_loss: 0.4196 - val_accuracy: 0.8439\n",
      "Epoch 2/20\n",
      "1500/1500 [==============================] - 2s 1ms/step - loss: 0.4438 - accuracy: 0.8361 - val_loss: 0.3804 - val_accuracy: 0.8579\n",
      "Epoch 3/20\n",
      "1500/1500 [==============================] - 2s 1ms/step - loss: 0.4108 - accuracy: 0.8490 - val_loss: 0.3700 - val_accuracy: 0.8646\n",
      "Epoch 4/20\n",
      "1500/1500 [==============================] - 2s 1ms/step - loss: 0.3861 - accuracy: 0.8572 - val_loss: 0.3588 - val_accuracy: 0.8703\n",
      "Epoch 5/20\n",
      "1500/1500 [==============================] - 2s 1ms/step - loss: 0.3701 - accuracy: 0.8638 - val_loss: 0.3515 - val_accuracy: 0.8746\n",
      "Epoch 6/20\n",
      "1500/1500 [==============================] - 2s 1ms/step - loss: 0.3588 - accuracy: 0.8677 - val_loss: 0.3506 - val_accuracy: 0.8723\n",
      "Epoch 7/20\n",
      "1500/1500 [==============================] - 2s 1ms/step - loss: 0.3472 - accuracy: 0.8722 - val_loss: 0.3401 - val_accuracy: 0.8756\n",
      "Epoch 8/20\n",
      "1500/1500 [==============================] - 2s 1ms/step - loss: 0.3384 - accuracy: 0.8731 - val_loss: 0.3278 - val_accuracy: 0.8806\n",
      "Epoch 9/20\n",
      "1500/1500 [==============================] - 2s 1ms/step - loss: 0.3323 - accuracy: 0.8771 - val_loss: 0.3300 - val_accuracy: 0.8811\n",
      "Epoch 10/20\n",
      "1500/1500 [==============================] - 2s 1ms/step - loss: 0.3257 - accuracy: 0.8802 - val_loss: 0.3338 - val_accuracy: 0.8791\n",
      "Epoch 11/20\n",
      "1500/1500 [==============================] - 2s 1ms/step - loss: 0.3214 - accuracy: 0.8790 - val_loss: 0.3364 - val_accuracy: 0.8813\n",
      "Epoch 12/20\n",
      "1500/1500 [==============================] - 2s 1ms/step - loss: 0.3142 - accuracy: 0.8843 - val_loss: 0.3152 - val_accuracy: 0.8853\n",
      "Epoch 13/20\n",
      "1500/1500 [==============================] - 2s 1ms/step - loss: 0.3093 - accuracy: 0.8843 - val_loss: 0.3255 - val_accuracy: 0.8854\n",
      "Epoch 14/20\n",
      "1500/1500 [==============================] - 2s 1ms/step - loss: 0.3035 - accuracy: 0.8867 - val_loss: 0.3196 - val_accuracy: 0.8863\n",
      "Epoch 15/20\n",
      "1500/1500 [==============================] - 2s 1ms/step - loss: 0.2999 - accuracy: 0.8878 - val_loss: 0.3187 - val_accuracy: 0.8883\n",
      "Epoch 16/20\n",
      "1500/1500 [==============================] - 2s 1ms/step - loss: 0.2961 - accuracy: 0.8885 - val_loss: 0.3244 - val_accuracy: 0.8867\n",
      "Epoch 17/20\n",
      "1500/1500 [==============================] - 2s 1ms/step - loss: 0.2918 - accuracy: 0.8905 - val_loss: 0.3216 - val_accuracy: 0.8858\n",
      "Epoch 18/20\n",
      "1500/1500 [==============================] - 2s 1ms/step - loss: 0.2871 - accuracy: 0.8916 - val_loss: 0.3214 - val_accuracy: 0.8875\n",
      "Epoch 19/20\n",
      "1500/1500 [==============================] - 2s 1ms/step - loss: 0.2851 - accuracy: 0.8924 - val_loss: 0.3272 - val_accuracy: 0.8849\n",
      "Epoch 20/20\n",
      "1500/1500 [==============================] - 2s 1ms/step - loss: 0.2839 - accuracy: 0.8932 - val_loss: 0.3156 - val_accuracy: 0.8882\n"
     ]
    },
    {
     "data": {
      "text/plain": [
       "[<matplotlib.lines.Line2D at 0x1c5ba6d8b50>]"
      ]
     },
     "execution_count": 6,
     "metadata": {},
     "output_type": "execute_result"
    },
    {
     "data": {
      "image/png": "[encoded data removed]",
      "text/plain": [
       "<Figure size 432x288 with 1 Axes>"
      ]
     },
     "metadata": {
      "needs_background": "light"
     },
     "output_type": "display_data"
    }
   ],
   "source": [
    "m=keras.Sequential()\n",
    "m.add(keras.layers.Flatten(input_shape=t_x.shape[1:]))\n",
    "m.add(keras.layers.Dense(100,activation='relu'))\n",
    "m.add(keras.layers.Dropout(0.3))\n",
    "m.add(keras.layers.Dense(300,activation='relu'))\n",
    "m.add(keras.layers.Dense(10,activation='softmax'))\n",
    "m.compile(optimizer='adam',loss='sparse_categorical_crossentropy',metrics='accuracy')\n",
    "hy=m.fit(t_x,t_y,epochs=20,validation_data=(v_x,v_y))\n",
    "plt.plot(hy.history['loss'])\n",
    "plt.plot(hy.history['val_loss'])"
   ]
  },
  {
   "cell_type": "code",
   "execution_count": 11,
   "id": "4e0ebb3c",
   "metadata": {},
   "outputs": [
    {
     "name": "stdout",
     "output_type": "stream",
     "text": [
      "1500/1500 [==============================] - 1s 711us/step - loss: 0.2301 - accuracy: 0.9162\n"
     ]
    },
    {
     "data": {
      "text/plain": [
       "[0.23006249964237213, 0.9161875247955322]"
      ]
     },
     "execution_count": 11,
     "metadata": {},
     "output_type": "execute_result"
    }
   ],
   "source": [
    "m.evaluate(t_x,t_y)"
   ]
  },
  {
   "cell_type": "markdown",
   "id": "fa0098c7",
   "metadata": {},
   "source": [
    "m.weights"
   ]
  },
  {
   "cell_type": "code",
   "execution_count": 8,
   "id": "16e24493",
   "metadata": {},
   "outputs": [],
   "source": [
    "m.save_weights('m_1_w.h5')"
   ]
  },
  {
   "cell_type": "code",
   "execution_count": 9,
   "id": "cbc6d686",
   "metadata": {},
   "outputs": [],
   "source": [
    "m.save('m1.h5')"
   ]
  },
  {
   "cell_type": "code",
   "execution_count": 12,
   "id": "015e3a76",
   "metadata": {},
   "outputs": [
    {
     "name": "stdout",
     "output_type": "stream",
     "text": [
      "1500/1500 [==============================] - 1s 687us/step - loss: 2.3056 - accuracy: 0.0992\n"
     ]
    },
    {
     "data": {
      "text/plain": [
       "[2.3056416511535645, 0.09920833259820938]"
      ]
     },
     "execution_count": 12,
     "metadata": {},
     "output_type": "execute_result"
    }
   ],
   "source": [
    "m1=keras.Sequential()\n",
    "m1.add(keras.layers.Flatten(input_shape=t_x.shape[1:]))\n",
    "m1.add(keras.layers.Dense(100,activation='relu'))\n",
    "m1.add(keras.layers.Dropout(0.3))\n",
    "m1.add(keras.layers.Dense(300,activation='relu'))\n",
    "m1.add(keras.layers.Dense(10,activation='softmax'))\n",
    "m1.compile(optimizer='adam',loss='sparse_categorical_crossentropy',metrics='accuracy')\n",
    "m1.evaluate(t_x,t_y)"
   ]
  },
  {
   "cell_type": "code",
   "execution_count": 13,
   "id": "4996dc1c",
   "metadata": {},
   "outputs": [],
   "source": [
    "m1.load_weights('m_1_w.h5')"
   ]
  },
  {
   "cell_type": "code",
   "execution_count": 14,
   "id": "a01a68aa",
   "metadata": {},
   "outputs": [
    {
     "name": "stdout",
     "output_type": "stream",
     "text": [
      "1500/1500 [==============================] - 1s 722us/step - loss: 0.2301 - accuracy: 0.9162\n"
     ]
    },
    {
     "data": {
      "text/plain": [
       "[0.23006249964237213, 0.9161875247955322]"
      ]
     },
     "execution_count": 14,
     "metadata": {},
     "output_type": "execute_result"
    }
   ],
   "source": [
    "m1.evaluate(t_x,t_y)"
   ]
  },
  {
   "cell_type": "code",
   "execution_count": 17,
   "id": "ab4f3cfd",
   "metadata": {},
   "outputs": [
    {
     "name": "stdout",
     "output_type": "stream",
     "text": [
      "1500/1500 [==============================] - 1s 704us/step - loss: 0.2301 - accuracy: 0.9162\n"
     ]
    },
    {
     "data": {
      "text/plain": [
       "[0.23006249964237213, 0.9161875247955322]"
      ]
     },
     "execution_count": 17,
     "metadata": {},
     "output_type": "execute_result"
    }
   ],
   "source": [
    "m2=keras.models.load_model('m1.h5')\n",
    "m2.evaluate(t_x,t_y)"
   ]
  }
 ],
 "metadata": {
  "kernelspec": {
   "display_name": "Python 3 (ipykernel)",
   "language": "python",
   "name": "python3"
  },
  "language_info": {
   "codemirror_mode": {
    "name": "ipython",
    "version": 3
   },
   "file_extension": ".py",
   "mimetype": "text/x-python",
   "name": "python",
   "nbconvert_exporter": "python",
   "pygments_lexer": "ipython3",
   "version": "3.9.7"
  }
 },
 "nbformat": 4,
 "nbformat_minor": 5
}
