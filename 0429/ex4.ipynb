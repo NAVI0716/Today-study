{
 "cells": [
  {
   "cell_type": "code",
   "execution_count": 1,
   "id": "58e48bd3",
   "metadata": {},
   "outputs": [
    {
     "data": {
      "text/plain": [
       "(28, 28)"
      ]
     },
     "execution_count": 1,
     "metadata": {},
     "output_type": "execute_result"
    }
   ],
   "source": [
    "import tensorflow as tf\n",
    "from tensorflow import keras\n",
    "import numpy as np\n",
    "import pandas as pd\n",
    "import matplotlib.pyplot as plt\n",
    "(t_x,t_y),(tt_x,tt_y) = keras.datasets.fashion_mnist.load_data()\n",
    "s_t_x= t_x/255.0\n",
    "s_tt_x=tt_x/255.0\n",
    "from sklearn.model_selection import train_test_split\n",
    "t_x,v_x,t_y,v_y=train_test_split(s_t_x,t_y,test_size=0.2,random_state=42)\n",
    "t_x.shape[1:]"
   ]
  },
  {
   "cell_type": "code",
   "execution_count": 2,
   "id": "eac90503",
   "metadata": {},
   "outputs": [],
   "source": [
    "def my_mf_m(l=None):\n",
    "    m=keras.Sequential()\n",
    "    m.add(keras.layers.Flatten(input_shape=(28,28)))\n",
    "    if l:\n",
    "        for i in l:\n",
    "            m.add(l)\n",
    "    m.add(keras.layers.Dense(10,activation='softmax'))\n",
    "    m.compile(loss='sparse_categorical_crossentropy',optimizer='adam',metrics='accuracy')\n",
    "    return m"
   ]
  },
  {
   "cell_type": "code",
   "execution_count": 3,
   "id": "854fdce6",
   "metadata": {},
   "outputs": [],
   "source": [
    "m=keras.Sequential()"
   ]
  },
  {
   "cell_type": "code",
   "execution_count": 4,
   "id": "01ad7e9a",
   "metadata": {},
   "outputs": [
    {
     "name": "stdout",
     "output_type": "stream",
     "text": [
      "Epoch 1/20\n",
      "1493/1500 [============================>.] - ETA: 0s - loss: 0.5921 - accuracy: 0.7914INFO:tensorflow:Assets written to: best_m.h\\assets\n",
      "1500/1500 [==============================] - 4s 2ms/step - loss: 0.5925 - accuracy: 0.7914 - val_loss: 0.4266 - val_accuracy: 0.8487\n",
      "Epoch 2/20\n",
      "1475/1500 [============================>.] - ETA: 0s - loss: 0.4373 - accuracy: 0.8423INFO:tensorflow:Assets written to: best_m.h\\assets\n",
      "1500/1500 [==============================] - 3s 2ms/step - loss: 0.4366 - accuracy: 0.8424 - val_loss: 0.3946 - val_accuracy: 0.8583\n",
      "Epoch 3/20\n",
      "1469/1500 [============================>.] - ETA: 0s - loss: 0.4032 - accuracy: 0.8541INFO:tensorflow:Assets written to: best_m.h\\assets\n",
      "1500/1500 [==============================] - 3s 2ms/step - loss: 0.4028 - accuracy: 0.8544 - val_loss: 0.3631 - val_accuracy: 0.8664\n",
      "Epoch 4/20\n",
      "1473/1500 [============================>.] - ETA: 0s - loss: 0.3800 - accuracy: 0.8599INFO:tensorflow:Assets written to: best_m.h\\assets\n",
      "1500/1500 [==============================] - 3s 2ms/step - loss: 0.3804 - accuracy: 0.8597 - val_loss: 0.3426 - val_accuracy: 0.8769\n",
      "Epoch 5/20\n",
      "1500/1500 [==============================] - 2s 2ms/step - loss: 0.3659 - accuracy: 0.8644 - val_loss: 0.3456 - val_accuracy: 0.8705\n",
      "Epoch 6/20\n",
      "1492/1500 [============================>.] - ETA: 0s - loss: 0.3532 - accuracy: 0.8700INFO:tensorflow:Assets written to: best_m.h\\assets\n",
      "1500/1500 [==============================] - 3s 2ms/step - loss: 0.3531 - accuracy: 0.8700 - val_loss: 0.3320 - val_accuracy: 0.8797\n",
      "Epoch 7/20\n",
      "1500/1500 [==============================] - 2s 2ms/step - loss: 0.3443 - accuracy: 0.8743 - val_loss: 0.3351 - val_accuracy: 0.8794\n",
      "Epoch 8/20\n",
      "1500/1500 [==============================] - 2s 2ms/step - loss: 0.3344 - accuracy: 0.8765 - val_loss: 0.3395 - val_accuracy: 0.8795\n",
      "Epoch 9/20\n",
      "1500/1500 [==============================] - 2s 2ms/step - loss: 0.3240 - accuracy: 0.8808 - val_loss: 0.3331 - val_accuracy: 0.8784\n",
      "Epoch 10/20\n",
      "1483/1500 [============================>.] - ETA: 0s - loss: 0.3154 - accuracy: 0.8821INFO:tensorflow:Assets written to: best_m.h\\assets\n",
      "1500/1500 [==============================] - 3s 2ms/step - loss: 0.3156 - accuracy: 0.8819 - val_loss: 0.3302 - val_accuracy: 0.8797\n",
      "Epoch 11/20\n",
      "1500/1500 [==============================] - 2s 2ms/step - loss: 0.3126 - accuracy: 0.8828 - val_loss: 0.3306 - val_accuracy: 0.8831\n",
      "Epoch 12/20\n",
      "1487/1500 [============================>.] - ETA: 0s - loss: 0.3047 - accuracy: 0.8850INFO:tensorflow:Assets written to: best_m.h\\assets\n",
      "1500/1500 [==============================] - 3s 2ms/step - loss: 0.3046 - accuracy: 0.8850 - val_loss: 0.3181 - val_accuracy: 0.8852\n",
      "Epoch 13/20\n",
      "1500/1500 [==============================] - 2s 2ms/step - loss: 0.3008 - accuracy: 0.8884 - val_loss: 0.3396 - val_accuracy: 0.8795\n",
      "Epoch 14/20\n",
      "1500/1500 [==============================] - 2s 2ms/step - loss: 0.2960 - accuracy: 0.8888 - val_loss: 0.3224 - val_accuracy: 0.8828\n",
      "Epoch 15/20\n",
      "1500/1500 [==============================] - 2s 2ms/step - loss: 0.2911 - accuracy: 0.8910 - val_loss: 0.3254 - val_accuracy: 0.8844\n",
      "Epoch 16/20\n",
      "1500/1500 [==============================] - 2s 1ms/step - loss: 0.2856 - accuracy: 0.8934 - val_loss: 0.3236 - val_accuracy: 0.8840\n",
      "Epoch 17/20\n",
      "1500/1500 [==============================] - 2s 1ms/step - loss: 0.2811 - accuracy: 0.8956 - val_loss: 0.3266 - val_accuracy: 0.8831\n",
      "Epoch 18/20\n",
      "1500/1500 [==============================] - 2s 2ms/step - loss: 0.2801 - accuracy: 0.8955 - val_loss: 0.3274 - val_accuracy: 0.8814\n",
      "Epoch 19/20\n",
      "1486/1500 [============================>.] - ETA: 0s - loss: 0.2771 - accuracy: 0.8947INFO:tensorflow:Assets written to: best_m.h\\assets\n",
      "1500/1500 [==============================] - 3s 2ms/step - loss: 0.2772 - accuracy: 0.8948 - val_loss: 0.3161 - val_accuracy: 0.8883\n",
      "Epoch 20/20\n",
      "1500/1500 [==============================] - 2s 2ms/step - loss: 0.2738 - accuracy: 0.8961 - val_loss: 0.3311 - val_accuracy: 0.8848\n"
     ]
    }
   ],
   "source": [
    "m=keras.Sequential()\n",
    "m.add(keras.layers.Flatten(input_shape=(28,28)))\n",
    "m.add(keras.layers.Dense(100,activation='relu'))\n",
    "m.add(keras.layers.Dropout(0.3))\n",
    "m.add(keras.layers.Dense(10,activation='softmax'))\n",
    "#신경망구축\n",
    "m.compile(loss='sparse_categorical_crossentropy',optimizer='adam',metrics='accuracy')\n",
    "#콜백\n",
    "ck_p=keras.callbacks.ModelCheckpoint('best_m.h',save_best_only=True)#콜백함수\n",
    "hy=m.fit(t_x,t_y,epochs=20,validation_data=(v_x,v_y),callbacks=[ck_p])\n",
    "\n"
   ]
  },
  {
   "cell_type": "code",
   "execution_count": 5,
   "id": "b88302f9",
   "metadata": {},
   "outputs": [
    {
     "data": {
      "text/plain": [
       "[<matplotlib.lines.Line2D at 0x23e6d8f6520>]"
      ]
     },
     "execution_count": 5,
     "metadata": {},
     "output_type": "execute_result"
    },
    {
     "data": {
      "image/png": "[encoded data removed]",
      "text/plain": [
       "<Figure size 432x288 with 1 Axes>"
      ]
     },
     "metadata": {
      "needs_background": "light"
     },
     "output_type": "display_data"
    }
   ],
   "source": [
    "plt.plot(hy.history['loss'])\n",
    "plt.plot(hy.history['val_loss'])"
   ]
  },
  {
   "cell_type": "code",
   "execution_count": 6,
   "id": "9d71356e",
   "metadata": {},
   "outputs": [
    {
     "name": "stdout",
     "output_type": "stream",
     "text": [
      "375/375 [==============================] - 0s 1ms/step - loss: 0.3241 - accuracy: 0.8822\n"
     ]
    },
    {
     "data": {
      "text/plain": [
       "[0.3240850865840912, 0.8821666836738586]"
      ]
     },
     "execution_count": 6,
     "metadata": {},
     "output_type": "execute_result"
    }
   ],
   "source": [
    "m2=keras.models.load_model('best_m.h')\n",
    "m.evaluate(v_x,v_y)"
   ]
  },
  {
   "cell_type": "code",
   "execution_count": 7,
   "id": "c3658bd6",
   "metadata": {},
   "outputs": [
    {
     "name": "stdout",
     "output_type": "stream",
     "text": [
      "375/375 [==============================] - 1s 1ms/step - loss: 0.3111 - accuracy: 0.8873\n"
     ]
    },
    {
     "data": {
      "text/plain": [
       "[0.3111457824707031, 0.8872500061988831]"
      ]
     },
     "execution_count": 7,
     "metadata": {},
     "output_type": "execute_result"
    }
   ],
   "source": [
    "m2.evaluate(v_x,v_y)"
   ]
  },
  {
   "cell_type": "code",
   "execution_count": 12,
   "id": "87cb9695",
   "metadata": {},
   "outputs": [
    {
     "ename": "NameError",
     "evalue": "name 's_my_m' is not defined",
     "output_type": "error",
     "traceback": [
      "\u001b[1;31m---------------------------------------------------------------------------\u001b[0m",
      "\u001b[1;31mNameError\u001b[0m                                 Traceback (most recent call last)",
      "\u001b[1;32m~\\AppData\\Local\\Temp/ipykernel_5024/3307213214.py\u001b[0m in \u001b[0;36m<module>\u001b[1;34m\u001b[0m\n\u001b[1;32m----> 1\u001b[1;33m m1=s_my_m([\n\u001b[0m\u001b[0;32m      2\u001b[0m     \u001b[0mkeras\u001b[0m\u001b[1;33m.\u001b[0m\u001b[0mlayers\u001b[0m\u001b[1;33m.\u001b[0m\u001b[0mDense\u001b[0m\u001b[1;33m(\u001b[0m\u001b[1;36m100\u001b[0m\u001b[1;33m,\u001b[0m\u001b[0mactivation\u001b[0m\u001b[1;33m=\u001b[0m\u001b[1;34m'relu'\u001b[0m\u001b[1;33m)\u001b[0m\u001b[1;33m,\u001b[0m\u001b[1;33m\u001b[0m\u001b[1;33m\u001b[0m\u001b[0m\n\u001b[0;32m      3\u001b[0m     \u001b[0mkeras\u001b[0m\u001b[1;33m.\u001b[0m\u001b[0mlayers\u001b[0m\u001b[1;33m.\u001b[0m\u001b[0mDropout\u001b[0m\u001b[1;33m(\u001b[0m\u001b[1;36m0.3\u001b[0m\u001b[1;33m)\u001b[0m\u001b[1;33m\u001b[0m\u001b[1;33m\u001b[0m\u001b[0m\n\u001b[0;32m      4\u001b[0m ])\n\u001b[0;32m      5\u001b[0m \u001b[1;33m\u001b[0m\u001b[0m\n",
      "\u001b[1;31mNameError\u001b[0m: name 's_my_m' is not defined"
     ]
    }
   ],
   "source": [
    "m1=s_my_m([\n",
    "    keras.layers.Dense(100,activation='relu'),\n",
    "    keras.layers.Dropout(0.3)\n",
    "])\n",
    "\n",
    "ck_p=keras.callbacks.ModelCheckpoint('best_m.h',save_best_only=True)#콜백함수\n",
    "e_st=keras.callbacks.EarlyStopping(patience=2)#검증점수가 몇번변화하지 않을경우 3을 입력할경우 3번 검증 성능이 오르지 않고 떠러지면 곡선이 연속적으로 발산예측멈춤\n",
    "m1.fit(t_x,t_y,epochs=20,validation_data=(v_x,v_y),callbacks=[ck_p])\n"
   ]
  },
  {
   "cell_type": "code",
   "execution_count": 17,
   "id": "0016ea07",
   "metadata": {},
   "outputs": [
    {
     "name": "stdout",
     "output_type": "stream",
     "text": [
      "Epoch 1/20\n",
      "1474/1500 [============================>.] - ETA: 0s - loss: 0.5985 - accuracy: 0.7906INFO:tensorflow:Assets written to: best1_m.h\\assets\n",
      "1500/1500 [==============================] - 4s 2ms/step - loss: 0.5964 - accuracy: 0.7912 - val_loss: 0.4268 - val_accuracy: 0.8444\n",
      "Epoch 2/20\n",
      "1487/1500 [============================>.] - ETA: 0s - loss: 0.4417 - accuracy: 0.8408INFO:tensorflow:Assets written to: best1_m.h\\assets\n",
      "1500/1500 [==============================] - 4s 3ms/step - loss: 0.4415 - accuracy: 0.8408 - val_loss: 0.4014 - val_accuracy: 0.8497\n",
      "Epoch 3/20\n",
      "1484/1500 [============================>.] - ETA: 0s - loss: 0.4027 - accuracy: 0.8542INFO:tensorflow:Assets written to: best1_m.h\\assets\n",
      "1500/1500 [==============================] - 3s 2ms/step - loss: 0.4034 - accuracy: 0.8539 - val_loss: 0.3638 - val_accuracy: 0.8669\n",
      "Epoch 4/20\n",
      "1481/1500 [============================>.] - ETA: 0s - loss: 0.3809 - accuracy: 0.8587INFO:tensorflow:Assets written to: best1_m.h\\assets\n",
      "1500/1500 [==============================] - 3s 2ms/step - loss: 0.3818 - accuracy: 0.8586 - val_loss: 0.3491 - val_accuracy: 0.8733\n",
      "Epoch 5/20\n",
      "1492/1500 [============================>.] - ETA: 0s - loss: 0.3673 - accuracy: 0.8663INFO:tensorflow:Assets written to: best1_m.h\\assets\n",
      "1500/1500 [==============================] - 3s 2ms/step - loss: 0.3677 - accuracy: 0.8662 - val_loss: 0.3477 - val_accuracy: 0.8740\n",
      "Epoch 6/20\n",
      "1479/1500 [============================>.] - ETA: 0s - loss: 0.3555 - accuracy: 0.8689INFO:tensorflow:Assets written to: best1_m.h\\assets\n",
      "1500/1500 [==============================] - 3s 2ms/step - loss: 0.3556 - accuracy: 0.8689 - val_loss: 0.3476 - val_accuracy: 0.8743\n",
      "Epoch 7/20\n",
      "1496/1500 [============================>.] - ETA: 0s - loss: 0.3432 - accuracy: 0.8708INFO:tensorflow:Assets written to: best1_m.h\\assets\n",
      "1500/1500 [==============================] - 4s 2ms/step - loss: 0.3432 - accuracy: 0.8709 - val_loss: 0.3437 - val_accuracy: 0.8760\n",
      "Epoch 8/20\n",
      "1494/1500 [============================>.] - ETA: 0s - loss: 0.3357 - accuracy: 0.8756INFO:tensorflow:Assets written to: best1_m.h\\assets\n",
      "1500/1500 [==============================] - 4s 3ms/step - loss: 0.3356 - accuracy: 0.8756 - val_loss: 0.3309 - val_accuracy: 0.8788\n",
      "Epoch 9/20\n",
      "1500/1500 [==============================] - 3s 2ms/step - loss: 0.3258 - accuracy: 0.8775 - val_loss: 0.3335 - val_accuracy: 0.8812\n",
      "Epoch 10/20\n",
      "1476/1500 [============================>.] - ETA: 0s - loss: 0.3204 - accuracy: 0.8822INFO:tensorflow:Assets written to: best1_m.h\\assets\n",
      "1500/1500 [==============================] - 4s 3ms/step - loss: 0.3207 - accuracy: 0.8818 - val_loss: 0.3294 - val_accuracy: 0.8802\n",
      "Epoch 11/20\n",
      "1493/1500 [============================>.] - ETA: 0s - loss: 0.3146 - accuracy: 0.8828INFO:tensorflow:Assets written to: best1_m.h\\assets\n",
      "1500/1500 [==============================] - 4s 2ms/step - loss: 0.3148 - accuracy: 0.8826 - val_loss: 0.3257 - val_accuracy: 0.8815\n",
      "Epoch 12/20\n",
      "1500/1500 [==============================] - 3s 2ms/step - loss: 0.3109 - accuracy: 0.8839 - val_loss: 0.3301 - val_accuracy: 0.8817\n",
      "Epoch 13/20\n",
      "1478/1500 [============================>.] - ETA: 0s - loss: 0.3054 - accuracy: 0.8872INFO:tensorflow:Assets written to: best1_m.h\\assets\n",
      "1500/1500 [==============================] - 4s 2ms/step - loss: 0.3055 - accuracy: 0.8870 - val_loss: 0.3256 - val_accuracy: 0.8827\n",
      "Epoch 14/20\n",
      "1473/1500 [============================>.] - ETA: 0s - loss: 0.2992 - accuracy: 0.8872INFO:tensorflow:Assets written to: best1_m.h\\assets\n",
      "1500/1500 [==============================] - 4s 3ms/step - loss: 0.2989 - accuracy: 0.8873 - val_loss: 0.3225 - val_accuracy: 0.8783\n",
      "Epoch 15/20\n",
      "1500/1500 [==============================] - ETA: 0s - loss: 0.2988 - accuracy: 0.8883INFO:tensorflow:Assets written to: best1_m.h\\assets\n",
      "1500/1500 [==============================] - 3s 2ms/step - loss: 0.2988 - accuracy: 0.8883 - val_loss: 0.3145 - val_accuracy: 0.8882\n",
      "Epoch 16/20\n",
      "1500/1500 [==============================] - 3s 2ms/step - loss: 0.2922 - accuracy: 0.8899 - val_loss: 0.3263 - val_accuracy: 0.8860\n",
      "Epoch 17/20\n",
      "1500/1500 [==============================] - 3s 2ms/step - loss: 0.2864 - accuracy: 0.8917 - val_loss: 0.3188 - val_accuracy: 0.8857\n"
     ]
    },
    {
     "data": {
      "text/plain": [
       "<keras.callbacks.History at 0x23e2bc657c0>"
      ]
     },
     "execution_count": 17,
     "metadata": {},
     "output_type": "execute_result"
    }
   ],
   "source": [
    "m1=keras.Sequential()\n",
    "m1.add(keras.layers.Flatten(input_shape=(28,28)))\n",
    "m1.add(keras.layers.Dense(100,activation='relu'))\n",
    "m1.add(keras.layers.Dropout(0.3))\n",
    "m1.add(keras.layers.Dense(10,activation='softmax'))\n",
    "#신경망구축\n",
    "m1.compile(loss='sparse_categorical_crossentropy',optimizer='adam',metrics='accuracy')\n",
    "#콜백\n",
    "ck_p=keras.callbacks.ModelCheckpoint('best1_m.h',save_best_only=True)#콜백함수\n",
    "e_st=keras.callbacks.EarlyStopping(patience=2,restore_best_weights=True)\n",
    "m1.fit(t_x,t_y,epochs=20,validation_data=(v_x,v_y),callbacks=[ck_p,e_st])"
   ]
  },
  {
   "cell_type": "code",
   "execution_count": 18,
   "id": "faa6510d",
   "metadata": {},
   "outputs": [
    {
     "name": "stdout",
     "output_type": "stream",
     "text": [
      "375/375 [==============================] - 1s 2ms/step - loss: 0.3145 - accuracy: 0.8882\n"
     ]
    },
    {
     "data": {
      "text/plain": [
       "[0.31450751423835754, 0.8881666660308838]"
      ]
     },
     "execution_count": 18,
     "metadata": {},
     "output_type": "execute_result"
    }
   ],
   "source": [
    "m1.evaluate(v_x,v_y)#검증데이터의 값 확인"
   ]
  },
  {
   "cell_type": "code",
   "execution_count": 20,
   "id": "ec98f146",
   "metadata": {},
   "outputs": [
    {
     "name": "stdout",
     "output_type": "stream",
     "text": [
      "375/375 [==============================] - 1s 2ms/step - loss: 0.3145 - accuracy: 0.8882\n"
     ]
    },
    {
     "data": {
      "text/plain": [
       "[0.31450751423835754, 0.8881666660308838]"
      ]
     },
     "execution_count": 20,
     "metadata": {},
     "output_type": "execute_result"
    }
   ],
   "source": [
    "m2=keras.models.load_model('best1_m.h')\n",
    "m2.evaluate(v_x,v_y)"
   ]
  },
  {
   "cell_type": "code",
   "execution_count": 26,
   "id": "c63ebbb1",
   "metadata": {},
   "outputs": [
    {
     "data": {
      "text/plain": [
       "(-5.0, 5.0, -0.2, 1.2)"
      ]
     },
     "execution_count": 26,
     "metadata": {},
     "output_type": "execute_result"
    },
    {
     "data": {
      "image/png": "[encoded data removed]",
      "text/plain": [
       "<Figure size 432x288 with 1 Axes>"
      ]
     },
     "metadata": {
      "needs_background": "light"
     },
     "output_type": "display_data"
    }
   ],
   "source": [
    "def sig(x):\n",
    "    return 1/(1+np.exp(-x)) # 시그모이드펑션\n",
    "x=np.linspace(-5,5,200)\n",
    "plt.plot([-5,5],[0,0])\n",
    "plt.plot([-5,5],[1,1])\n",
    "plt.plot([0,0],[-0.2,1.2])\n",
    "plt.plot([-5,5],[-3/4,7/4])\n",
    "plt.plot(x,sig(x))\n",
    "plt.grid(True)\n",
    "plt.axis([-5,5,-0.2,1.2])"
   ]
  },
  {
   "cell_type": "code",
   "execution_count": null,
   "id": "85151d53",
   "metadata": {},
   "outputs": [],
   "source": []
  }
 ],
 "metadata": {
  "kernelspec": {
   "display_name": "Python 3 (ipykernel)",
   "language": "python",
   "name": "python3"
  },
  "language_info": {
   "codemirror_mode": {
    "name": "ipython",
    "version": 3
   },
   "file_extension": ".py",
   "mimetype": "text/x-python",
   "name": "python",
   "nbconvert_exporter": "python",
   "pygments_lexer": "ipython3",
   "version": "3.9.7"
  }
 },
 "nbformat": 4,
 "nbformat_minor": 5
}
