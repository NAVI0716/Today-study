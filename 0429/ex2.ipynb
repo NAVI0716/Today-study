{
 "cells": [
  {
   "cell_type": "code",
   "execution_count": 13,
   "id": "74f3285f",
   "metadata": {},
   "outputs": [
    {
     "data": {
      "text/plain": [
       "(8,)"
      ]
     },
     "execution_count": 13,
     "metadata": {},
     "output_type": "execute_result"
    }
   ],
   "source": [
    "#입력단에 회귀는 액비티엑트펑션 필요없지만 은식단에 무조건 필요 뉴련에서 뉴런은 무조건 actf해줘야함\n",
    "from sklearn.datasets import fetch_california_housing\n",
    "from sklearn.model_selection import train_test_split\n",
    "from sklearn.preprocessing import StandardScaler#전처리작업\n",
    "from tensorflow import keras\n",
    "import tensorflow as tf\n",
    "import numpy as np\n",
    "import pandas as pd\n",
    "import matplotlib.pyplot as plt\n",
    "np.random.seed(42)\n",
    "tf.random.set_seed(42)\n",
    "data = fetch_california_housing() #데이터 꺼내옴\n",
    "in_data=StandardScaler().fit_transform(data.data)\n",
    "x_data,tt_x,y_data,tt_y=train_test_split(in_data,data.target,random_state=42)\n",
    "#x_data,tt_x,y_data,tt_x=train_test_split(data.data,data.target,random_state=42)\n",
    "t_x,v_x,t_y,v_y = train_test_split(x_data,y_data,random_state=42,test_size=0.2)\n",
    "\"\"\"\n",
    "s=StandardScaler()\n",
    "t_x=s.fit_transform(t_x)\n",
    "v_x=s.fit_transform(v_x)\n",
    "tt_v=s.fit_transform(tt_v)\n",
    "\"\"\"\n",
    "t_x.shape[1:]#입력 data의 차원의 형상"
   ]
  },
  {
   "cell_type": "code",
   "execution_count": 2,
   "id": "f2998d23",
   "metadata": {},
   "outputs": [
    {
     "data": {
      "text/plain": [
       "(12384, 8)"
      ]
     },
     "execution_count": 2,
     "metadata": {},
     "output_type": "execute_result"
    }
   ],
   "source": [
    "#입력단에 회귀는 액비티엑트펑션 필요없지만 은식단에 무조건 필요 뉴련에서 뉴런은 무조건 actf해줘야함\n",
    "from sklearn.datasets import fetch_california_housing\n",
    "from sklearn.model_selection import train_test_split\n",
    "from sklearn.preprocessing import StandardScaler#전처리작업\n",
    "data = fetch_california_housing() #데이터 꺼내옴\n",
    "x_data,tt_x,y_data,tt_y=train_test_split(data.data,data.target,random_state=42)\n",
    "t_x,v_x,t_y,v_y = train_test_split(x_data,y_data,random_state=42,test_size=0.2)\n",
    "\n",
    "s=StandardScaler()\n",
    "t_x=s.fit_transform(t_x)\n",
    "v_x=s.fit_transform(v_x)\n",
    "tt_x=s.fit_transform(tt_x)\n",
    "\n",
    "t_x.shape"
   ]
  },
  {
   "cell_type": "code",
   "execution_count": 3,
   "id": "5b7eefe2",
   "metadata": {},
   "outputs": [
    {
     "name": "stdout",
     "output_type": "stream",
     "text": [
      "Model: \"sequential\"\n",
      "_________________________________________________________________\n",
      " Layer (type)                Output Shape              Param #   \n",
      "=================================================================\n",
      " flatten (Flatten)           (None, 8)                 0         \n",
      "                                                                 \n",
      " dense (Dense)               (None, 30)                270       \n",
      "                                                                 \n",
      " dense_1 (Dense)             (None, 1)                 31        \n",
      "                                                                 \n",
      "=================================================================\n",
      "Total params: 301\n",
      "Trainable params: 301\n",
      "Non-trainable params: 0\n",
      "_________________________________________________________________\n"
     ]
    }
   ],
   "source": [
    "m=keras.models.Sequential()\n",
    "m.add(keras.layers.Flatten(input_shape=t_x.shape[1:]))\n",
    "m.add(keras.layers.Dense(30,activation='relu'))\n",
    "m.add(keras.layers.Dense(1))\n",
    "m.summary()\n"
   ]
  },
  {
   "cell_type": "code",
   "execution_count": 4,
   "id": "34a36015",
   "metadata": {
    "scrolled": true
   },
   "outputs": [
    {
     "data": {
      "image/png": "[encoded data removed]",
      "text/plain": [
       "<IPython.core.display.Image object>"
      ]
     },
     "execution_count": 4,
     "metadata": {},
     "output_type": "execute_result"
    }
   ],
   "source": [
    "keras.utils.plot_model(m,'m.png',show_shapes=True)"
   ]
  },
  {
   "cell_type": "code",
   "execution_count": 6,
   "id": "5ea20e45",
   "metadata": {},
   "outputs": [
    {
     "name": "stdout",
     "output_type": "stream",
     "text": [
      "Epoch 1/20\n",
      "387/387 [==============================] - 1s 1ms/step - loss: 1.6521 - val_loss: 0.7673\n",
      "Epoch 2/20\n",
      "387/387 [==============================] - 0s 1ms/step - loss: 0.7247 - val_loss: 0.6498\n",
      "Epoch 3/20\n",
      "387/387 [==============================] - 0s 1ms/step - loss: 0.6559 - val_loss: 0.6046\n",
      "Epoch 4/20\n",
      "387/387 [==============================] - 0s 1ms/step - loss: 0.6216 - val_loss: 0.5804\n",
      "Epoch 5/20\n",
      "387/387 [==============================] - 0s 1ms/step - loss: 0.5954 - val_loss: 0.5555\n",
      "Epoch 6/20\n",
      "387/387 [==============================] - 0s 1ms/step - loss: 0.5743 - val_loss: 0.5393\n",
      "Epoch 7/20\n",
      "387/387 [==============================] - 0s 1ms/step - loss: 0.5565 - val_loss: 0.5250\n",
      "Epoch 8/20\n",
      "387/387 [==============================] - 0s 1ms/step - loss: 0.5419 - val_loss: 0.5138\n",
      "Epoch 9/20\n",
      "387/387 [==============================] - 0s 1ms/step - loss: 0.5301 - val_loss: 0.5024\n",
      "Epoch 10/20\n",
      "387/387 [==============================] - 0s 1ms/step - loss: 0.5192 - val_loss: 0.4954\n",
      "Epoch 11/20\n",
      "387/387 [==============================] - 0s 1ms/step - loss: 0.5105 - val_loss: 0.4883\n",
      "Epoch 12/20\n",
      "387/387 [==============================] - 1s 1ms/step - loss: 0.5033 - val_loss: 0.4817\n",
      "Epoch 13/20\n",
      "387/387 [==============================] - 0s 1ms/step - loss: 0.4973 - val_loss: 0.4780\n",
      "Epoch 14/20\n",
      "387/387 [==============================] - 0s 1ms/step - loss: 0.4919 - val_loss: 0.4736\n",
      "Epoch 15/20\n",
      "387/387 [==============================] - 0s 964us/step - loss: 0.4870 - val_loss: 0.4685\n",
      "Epoch 16/20\n",
      "387/387 [==============================] - 0s 1ms/step - loss: 0.4832 - val_loss: 0.4657\n",
      "Epoch 17/20\n",
      "387/387 [==============================] - 0s 1ms/step - loss: 0.4794 - val_loss: 0.4620\n",
      "Epoch 18/20\n",
      "387/387 [==============================] - 0s 1ms/step - loss: 0.4759 - val_loss: 0.4610\n",
      "Epoch 19/20\n",
      "387/387 [==============================] - 0s 1ms/step - loss: 0.4737 - val_loss: 0.4601\n",
      "Epoch 20/20\n",
      "387/387 [==============================] - 0s 1ms/step - loss: 0.4707 - val_loss: 0.4576\n",
      "162/162 [==============================] - 0s 795us/step - loss: 0.4384\n"
     ]
    }
   ],
   "source": [
    "m.compile(optimizer=keras.optimizers.SGD(learning_rate=1e-3),loss='mean_squared_error')\n",
    "hy=m.fit(t_x,t_y,validation_data=(v_x,v_y),epochs=20)\n",
    "t_hy=m.evaluate(tt_x,tt_y)"
   ]
  },
  {
   "cell_type": "code",
   "execution_count": 14,
   "id": "d7fa1689",
   "metadata": {},
   "outputs": [
    {
     "data": {
      "text/plain": [
       "[<matplotlib.lines.Line2D at 0x1a1a29b8220>,\n",
       " <matplotlib.lines.Line2D at 0x1a1a29b8250>]"
      ]
     },
     "execution_count": 14,
     "metadata": {},
     "output_type": "execute_result"
    },
    {
     "data": {
      "image/png": "[encoded data removed]",
      "text/plain": [
       "<Figure size 432x288 with 1 Axes>"
      ]
     },
     "metadata": {
      "needs_background": "light"
     },
     "output_type": "display_data"
    }
   ],
   "source": [
    "plt.plot(pd.DataFrame(hy.history))"
   ]
  },
  {
   "cell_type": "code",
   "execution_count": 20,
   "id": "345d8ee1",
   "metadata": {},
   "outputs": [
    {
     "name": "stdout",
     "output_type": "stream",
     "text": [
      "Epoch 1/20\n",
      "387/387 [==============================] - 1s 1ms/step - loss: 0.4396 - accuracy: 0.0033 - val_loss: 0.4159 - val_accuracy: 0.0032\n",
      "Epoch 2/20\n",
      "387/387 [==============================] - 1s 1ms/step - loss: 0.4375 - accuracy: 0.0033 - val_loss: 0.4202 - val_accuracy: 0.0032\n",
      "Epoch 3/20\n",
      "387/387 [==============================] - 0s 1ms/step - loss: 0.4379 - accuracy: 0.0033 - val_loss: 0.4138 - val_accuracy: 0.0032\n",
      "Epoch 4/20\n",
      "387/387 [==============================] - 0s 1ms/step - loss: 0.4356 - accuracy: 0.0033 - val_loss: 0.4146 - val_accuracy: 0.0032\n",
      "Epoch 5/20\n",
      "387/387 [==============================] - 0s 1ms/step - loss: 0.4348 - accuracy: 0.0033 - val_loss: 0.4123 - val_accuracy: 0.0032\n",
      "Epoch 6/20\n",
      "387/387 [==============================] - 0s 1ms/step - loss: 0.4339 - accuracy: 0.0033 - val_loss: 0.4147 - val_accuracy: 0.0032\n",
      "Epoch 7/20\n",
      "387/387 [==============================] - 1s 2ms/step - loss: 0.4333 - accuracy: 0.0033 - val_loss: 0.4108 - val_accuracy: 0.0032\n",
      "Epoch 8/20\n",
      "387/387 [==============================] - 1s 2ms/step - loss: 0.4326 - accuracy: 0.0033 - val_loss: 0.4190 - val_accuracy: 0.0032\n",
      "Epoch 9/20\n",
      "387/387 [==============================] - 0s 1ms/step - loss: 0.4344 - accuracy: 0.0033 - val_loss: 0.4096 - val_accuracy: 0.0032\n",
      "Epoch 10/20\n",
      "387/387 [==============================] - 0s 1ms/step - loss: 0.4320 - accuracy: 0.0033 - val_loss: 0.4150 - val_accuracy: 0.0032\n",
      "Epoch 11/20\n",
      "387/387 [==============================] - 0s 1ms/step - loss: 0.4314 - accuracy: 0.0033 - val_loss: 0.4077 - val_accuracy: 0.0032\n",
      "Epoch 12/20\n",
      "387/387 [==============================] - 0s 1ms/step - loss: 0.4293 - accuracy: 0.0033 - val_loss: 0.4152 - val_accuracy: 0.0032\n",
      "Epoch 13/20\n",
      "387/387 [==============================] - 0s 1ms/step - loss: 0.4304 - accuracy: 0.0033 - val_loss: 0.4068 - val_accuracy: 0.0032\n",
      "Epoch 14/20\n",
      "387/387 [==============================] - 1s 1ms/step - loss: 0.4286 - accuracy: 0.0033 - val_loss: 0.4125 - val_accuracy: 0.0032\n",
      "Epoch 15/20\n",
      "387/387 [==============================] - 0s 1ms/step - loss: 0.4284 - accuracy: 0.0033 - val_loss: 0.4047 - val_accuracy: 0.0032\n",
      "Epoch 16/20\n",
      "387/387 [==============================] - 0s 1ms/step - loss: 0.4269 - accuracy: 0.0033 - val_loss: 0.4109 - val_accuracy: 0.0032\n",
      "Epoch 17/20\n",
      "387/387 [==============================] - 0s 1ms/step - loss: 0.4267 - accuracy: 0.0033 - val_loss: 0.4047 - val_accuracy: 0.0032\n",
      "Epoch 18/20\n",
      "387/387 [==============================] - 0s 1ms/step - loss: 0.4264 - accuracy: 0.0033 - val_loss: 0.4193 - val_accuracy: 0.0032\n",
      "Epoch 19/20\n",
      "387/387 [==============================] - 0s 1ms/step - loss: 0.4293 - accuracy: 0.0033 - val_loss: 0.4082 - val_accuracy: 0.0032\n",
      "Epoch 20/20\n",
      "387/387 [==============================] - 0s 1ms/step - loss: 0.4291 - accuracy: 0.0033 - val_loss: 0.4202 - val_accuracy: 0.0032\n",
      "162/162 [==============================] - 0s 798us/step - loss: 0.4237 - accuracy: 0.0021\n"
     ]
    }
   ],
   "source": [
    "m.compile(optimizer=keras.optimizers.SGD(learning_rate=1e-3),loss='mean_squared_error',metrics='accuracy')#metrics정확도\n",
    "hy=m.fit(t_x,t_y,validation_data=(v_x,v_y),epochs=20)\n",
    "t_hy=m.evaluate(tt_x,tt_y)"
   ]
  },
  {
   "cell_type": "code",
   "execution_count": 22,
   "id": "019a9152",
   "metadata": {},
   "outputs": [
    {
     "data": {
      "text/plain": [
       "[<matplotlib.lines.Line2D at 0x1a1a5886310>,\n",
       " <matplotlib.lines.Line2D at 0x1a1a58862e0>,\n",
       " <matplotlib.lines.Line2D at 0x1a1a5886b80>,\n",
       " <matplotlib.lines.Line2D at 0x1a1a589e0d0>]"
      ]
     },
     "execution_count": 22,
     "metadata": {},
     "output_type": "execute_result"
    },
    {
     "data": {
      "image/png": "[encoded data removed]",
      "text/plain": [
       "<Figure size 432x288 with 1 Axes>"
      ]
     },
     "metadata": {
      "needs_background": "light"
     },
     "output_type": "display_data"
    }
   ],
   "source": [
    "plt.plot(pd.DataFrame(hy.history))"
   ]
  },
  {
   "cell_type": "code",
   "execution_count": 23,
   "id": "6301a90b",
   "metadata": {},
   "outputs": [
    {
     "data": {
      "text/plain": [
       "array([[-1.15248922, -0.2891866 , -0.49989596, -0.15697642, -0.02956174,\n",
       "         0.07768129,  0.20044873,  0.27936569],\n",
       "       [-0.70501534,  0.10810379, -0.1574771 ,  0.20430076,  0.12320645,\n",
       "        -0.03763415, -0.23028292,  0.05475686],\n",
       "       [-0.20558796,  1.85618152, -0.5868143 ,  0.1882305 , -0.1019721 ,\n",
       "        -0.164679  ,  1.01509336, -1.43265267]])"
      ]
     },
     "execution_count": 23,
     "metadata": {},
     "output_type": "execute_result"
    }
   ],
   "source": [
    "tt_x[:3]"
   ]
  },
  {
   "cell_type": "code",
   "execution_count": 24,
   "id": "6d06153f",
   "metadata": {},
   "outputs": [
    {
     "data": {
      "text/plain": [
       "array([0.477  , 0.458  , 5.00001])"
      ]
     },
     "execution_count": 24,
     "metadata": {},
     "output_type": "execute_result"
    }
   ],
   "source": [
    "tt_y[:3]"
   ]
  },
  {
   "cell_type": "code",
   "execution_count": 25,
   "id": "22063c15",
   "metadata": {},
   "outputs": [
    {
     "data": {
      "text/plain": [
       "array([[0.5522119],\n",
       "       [1.7749662],\n",
       "       [3.0829957]], dtype=float32)"
      ]
     },
     "execution_count": 25,
     "metadata": {},
     "output_type": "execute_result"
    }
   ],
   "source": [
    "m.predict(tt_x[:3])"
   ]
  },
  {
   "cell_type": "code",
   "execution_count": null,
   "id": "e34a899e",
   "metadata": {},
   "outputs": [],
   "source": []
  }
 ],
 "metadata": {
  "kernelspec": {
   "display_name": "Python 3 (ipykernel)",
   "language": "python",
   "name": "python3"
  },
  "language_info": {
   "codemirror_mode": {
    "name": "ipython",
    "version": 3
   },
   "file_extension": ".py",
   "mimetype": "text/x-python",
   "name": "python",
   "nbconvert_exporter": "python",
   "pygments_lexer": "ipython3",
   "version": "3.9.7"
  }
 },
 "nbformat": 4,
 "nbformat_minor": 5
}
