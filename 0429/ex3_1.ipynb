{
 "cells": [
  {
   "cell_type": "code",
   "execution_count": 2,
   "id": "17470ff0",
   "metadata": {},
   "outputs": [],
   "source": [
    "import tensorflow as tf\n",
    "from tensorflow import keras\n",
    "import numpy as np\n",
    "import pandas as pd\n",
    "import matplotlib.pyplot as plt\n",
    "(t_x,t_y),(tt_x,tt_y) = keras.datasets.fashion_mnist.load_data()\n",
    "s_t_x= t_x/255.0\n",
    "s_tt_x=tt_x/255.0\n",
    "from sklearn.model_selection import train_test_split\n",
    "t_x,v_x,t_y,v_y=train_test_split(s_t_x,t_y,test_size=0.2,random_state=42)\n",
    "t_x.shape[1:]"
   ]
  },
  {
   "cell_type": "code",
   "execution_count": 11,
   "id": "2ac47aa7",
   "metadata": {},
   "outputs": [],
   "source": [
    "m1=keras.Sequential()\n",
    "m1.add(keras.layers.Flatten(input_shape=(t_x.shape[1:])))#784\n",
    "m1.add(keras.layers.Dense(100,activation='relu'))#100\n",
    "m1.add(keras.layers.Dense(300,activation='relu'))#300\n",
    "m1.add(keras.layers.Dense(10,activation='softmax'))\n",
    "m1.compile(optimizer='sgd',loss='sparse_categorical_crossentropy')"
   ]
  },
  {
   "cell_type": "code",
   "execution_count": 13,
   "id": "21ceaeba",
   "metadata": {},
   "outputs": [
    {
     "name": "stdout",
     "output_type": "stream",
     "text": [
      "Epoch 1/20\n",
      "1500/1500 [==============================] - 3s 2ms/step - loss: 0.8253 - val_loss: 0.5814\n",
      "Epoch 2/20\n",
      "1500/1500 [==============================] - 3s 2ms/step - loss: 0.5194 - val_loss: 0.4840\n",
      "Epoch 3/20\n",
      "1500/1500 [==============================] - 3s 2ms/step - loss: 0.4687 - val_loss: 0.4608\n",
      "Epoch 4/20\n",
      "1500/1500 [==============================] - 3s 2ms/step - loss: 0.4387 - val_loss: 0.4561\n",
      "Epoch 5/20\n",
      "1500/1500 [==============================] - 3s 2ms/step - loss: 0.4182 - val_loss: 0.4129\n",
      "Epoch 6/20\n",
      "1500/1500 [==============================] - 3s 2ms/step - loss: 0.4033 - val_loss: 0.4117\n",
      "Epoch 7/20\n",
      "1500/1500 [==============================] - 3s 2ms/step - loss: 0.3907 - val_loss: 0.3952\n",
      "Epoch 8/20\n",
      "1500/1500 [==============================] - 3s 2ms/step - loss: 0.3784 - val_loss: 0.3855\n",
      "Epoch 9/20\n",
      "1500/1500 [==============================] - 3s 2ms/step - loss: 0.3699 - val_loss: 0.3904\n",
      "Epoch 10/20\n",
      "1500/1500 [==============================] - 3s 2ms/step - loss: 0.3608 - val_loss: 0.3766\n",
      "Epoch 11/20\n",
      "1500/1500 [==============================] - 3s 2ms/step - loss: 0.3536 - val_loss: 0.3722\n",
      "Epoch 12/20\n",
      "1500/1500 [==============================] - 3s 2ms/step - loss: 0.3457 - val_loss: 0.3966\n",
      "Epoch 13/20\n",
      "1500/1500 [==============================] - 3s 2ms/step - loss: 0.3387 - val_loss: 0.3638\n",
      "Epoch 14/20\n",
      "1500/1500 [==============================] - 3s 2ms/step - loss: 0.3313 - val_loss: 0.3804\n",
      "Epoch 15/20\n",
      "1500/1500 [==============================] - 3s 2ms/step - loss: 0.3249 - val_loss: 0.3650\n",
      "Epoch 16/20\n",
      "1500/1500 [==============================] - 3s 2ms/step - loss: 0.3198 - val_loss: 0.3510\n",
      "Epoch 17/20\n",
      "1500/1500 [==============================] - 3s 2ms/step - loss: 0.3146 - val_loss: 0.3695\n",
      "Epoch 18/20\n",
      "1500/1500 [==============================] - 3s 2ms/step - loss: 0.3085 - val_loss: 0.3443\n",
      "Epoch 19/20\n",
      "1500/1500 [==============================] - 3s 2ms/step - loss: 0.3035 - val_loss: 0.3452\n",
      "Epoch 20/20\n",
      "1500/1500 [==============================] - 3s 2ms/step - loss: 0.2989 - val_loss: 0.3446\n"
     ]
    }
   ],
   "source": [
    "hy=m1.fit(t_x,t_y,validation_data=(v_x,v_y),epochs=20)"
   ]
  },
  {
   "cell_type": "code",
   "execution_count": 14,
   "id": "2f5022c9",
   "metadata": {},
   "outputs": [
    {
     "data": {
      "text/plain": [
       "[<matplotlib.lines.Line2D at 0x27bb37773a0>]"
      ]
     },
     "execution_count": 14,
     "metadata": {},
     "output_type": "execute_result"
    },
    {
     "data": {
      "image/png": "[encoded data removed]",
      "text/plain": [
       "<Figure size 432x288 with 1 Axes>"
      ]
     },
     "metadata": {
      "needs_background": "light"
     },
     "output_type": "display_data"
    }
   ],
   "source": [
    "plt.plot(hy.history['loss'])\n",
    "plt.plot(hy.history['val_loss'])"
   ]
  },
  {
   "cell_type": "code",
   "execution_count": 15,
   "id": "04383cb2",
   "metadata": {},
   "outputs": [
    {
     "name": "stdout",
     "output_type": "stream",
     "text": [
      "Epoch 1/20\n",
      "1500/1500 [==============================] - 4s 2ms/step - loss: 0.4988 - val_loss: 0.4624\n",
      "Epoch 2/20\n",
      "1500/1500 [==============================] - 3s 2ms/step - loss: 0.3739 - val_loss: 0.4189\n",
      "Epoch 3/20\n",
      "1500/1500 [==============================] - 3s 2ms/step - loss: 0.3341 - val_loss: 0.3839\n",
      "Epoch 4/20\n",
      "1500/1500 [==============================] - 3s 2ms/step - loss: 0.3103 - val_loss: 0.3506\n",
      "Epoch 5/20\n",
      "1500/1500 [==============================] - 3s 2ms/step - loss: 0.2931 - val_loss: 0.3702\n",
      "Epoch 6/20\n",
      "1500/1500 [==============================] - 3s 2ms/step - loss: 0.2765 - val_loss: 0.3327\n",
      "Epoch 7/20\n",
      "1500/1500 [==============================] - 3s 2ms/step - loss: 0.2653 - val_loss: 0.3195\n",
      "Epoch 8/20\n",
      "1500/1500 [==============================] - 3s 2ms/step - loss: 0.2509 - val_loss: 0.3382\n",
      "Epoch 9/20\n",
      "1500/1500 [==============================] - 4s 2ms/step - loss: 0.2405 - val_loss: 0.3249\n",
      "Epoch 10/20\n",
      "1500/1500 [==============================] - 3s 2ms/step - loss: 0.2322 - val_loss: 0.3474\n",
      "Epoch 11/20\n",
      "1500/1500 [==============================] - 4s 3ms/step - loss: 0.2228 - val_loss: 0.3546\n",
      "Epoch 12/20\n",
      "1500/1500 [==============================] - 3s 2ms/step - loss: 0.2153 - val_loss: 0.3199\n",
      "Epoch 13/20\n",
      "1500/1500 [==============================] - 3s 2ms/step - loss: 0.2084 - val_loss: 0.3410\n",
      "Epoch 14/20\n",
      "1500/1500 [==============================] - 3s 2ms/step - loss: 0.1975 - val_loss: 0.3614\n",
      "Epoch 15/20\n",
      "1500/1500 [==============================] - 3s 2ms/step - loss: 0.1933 - val_loss: 0.3482\n",
      "Epoch 16/20\n",
      "1500/1500 [==============================] - 4s 2ms/step - loss: 0.1858 - val_loss: 0.3541\n",
      "Epoch 17/20\n",
      "1500/1500 [==============================] - 3s 2ms/step - loss: 0.1792 - val_loss: 0.3525\n",
      "Epoch 18/20\n",
      "1500/1500 [==============================] - 3s 2ms/step - loss: 0.1714 - val_loss: 0.3512\n",
      "Epoch 19/20\n",
      "1500/1500 [==============================] - 5s 3ms/step - loss: 0.1685 - val_loss: 0.3898\n",
      "Epoch 20/20\n",
      "1500/1500 [==============================] - 4s 3ms/step - loss: 0.1644 - val_loss: 0.3860\n"
     ]
    },
    {
     "data": {
      "text/plain": [
       "[<matplotlib.lines.Line2D at 0x27bb3b76880>]"
      ]
     },
     "execution_count": 15,
     "metadata": {},
     "output_type": "execute_result"
    },
    {
     "data": {
      "image/png": "[encoded data removed]",
      "text/plain": [
       "<Figure size 432x288 with 1 Axes>"
      ]
     },
     "metadata": {
      "needs_background": "light"
     },
     "output_type": "display_data"
    }
   ],
   "source": [
    "m1=keras.Sequential()\n",
    "m1.add(keras.layers.Flatten(input_shape=(t_x.shape[1:])))#784\n",
    "m1.add(keras.layers.Dense(100,activation='relu'))#100\n",
    "m1.add(keras.layers.Dense(300,activation='relu'))#300\n",
    "m1.add(keras.layers.Dense(10,activation='softmax'))\n",
    "m1.compile(optimizer='adam',loss='sparse_categorical_crossentropy')\n",
    "hy=m1.fit(t_x,t_y,validation_data=(v_x,v_y),epochs=20)\n",
    "plt.plot(hy.history['loss'])\n",
    "plt.plot(hy.history['val_loss'])"
   ]
  },
  {
   "cell_type": "code",
   "execution_count": 27,
   "id": "62777249",
   "metadata": {},
   "outputs": [
    {
     "name": "stdout",
     "output_type": "stream",
     "text": [
      "Epoch 1/20\n",
      "1500/1500 [==============================] - 4s 2ms/step - loss: 0.5690 - accuracy: 0.7954 - val_loss: 0.4250 - val_accuracy: 0.8458\n",
      "Epoch 2/20\n",
      "1500/1500 [==============================] - 3s 2ms/step - loss: 0.4386 - accuracy: 0.8412 - val_loss: 0.3732 - val_accuracy: 0.8597\n",
      "Epoch 3/20\n",
      "1500/1500 [==============================] - 3s 2ms/step - loss: 0.4026 - accuracy: 0.8503 - val_loss: 0.3726 - val_accuracy: 0.8641\n",
      "Epoch 4/20\n",
      "1500/1500 [==============================] - 3s 2ms/step - loss: 0.3818 - accuracy: 0.8584 - val_loss: 0.3505 - val_accuracy: 0.8725\n",
      "Epoch 5/20\n",
      "1500/1500 [==============================] - 3s 2ms/step - loss: 0.3674 - accuracy: 0.8648 - val_loss: 0.3516 - val_accuracy: 0.8714\n",
      "Epoch 6/20\n",
      "1500/1500 [==============================] - 3s 2ms/step - loss: 0.3549 - accuracy: 0.8673 - val_loss: 0.3291 - val_accuracy: 0.8800\n",
      "Epoch 7/20\n",
      "1500/1500 [==============================] - 3s 2ms/step - loss: 0.3413 - accuracy: 0.8725 - val_loss: 0.3363 - val_accuracy: 0.8765\n",
      "Epoch 8/20\n",
      "1500/1500 [==============================] - 3s 2ms/step - loss: 0.3382 - accuracy: 0.8730 - val_loss: 0.3319 - val_accuracy: 0.8750\n",
      "Epoch 9/20\n",
      "1500/1500 [==============================] - 3s 2ms/step - loss: 0.3277 - accuracy: 0.8775 - val_loss: 0.3338 - val_accuracy: 0.8787\n",
      "Epoch 10/20\n",
      "1500/1500 [==============================] - 3s 2ms/step - loss: 0.3234 - accuracy: 0.8785 - val_loss: 0.3311 - val_accuracy: 0.8785\n",
      "Epoch 11/20\n",
      "1500/1500 [==============================] - 3s 2ms/step - loss: 0.3147 - accuracy: 0.8829 - val_loss: 0.3310 - val_accuracy: 0.8787\n",
      "Epoch 12/20\n",
      "1500/1500 [==============================] - 3s 2ms/step - loss: 0.3087 - accuracy: 0.8830 - val_loss: 0.3245 - val_accuracy: 0.8810\n",
      "Epoch 13/20\n",
      "1500/1500 [==============================] - 3s 2ms/step - loss: 0.3046 - accuracy: 0.8856 - val_loss: 0.3216 - val_accuracy: 0.8809\n",
      "Epoch 14/20\n",
      "1500/1500 [==============================] - 3s 2ms/step - loss: 0.2991 - accuracy: 0.8878 - val_loss: 0.3241 - val_accuracy: 0.8787\n",
      "Epoch 15/20\n",
      "1500/1500 [==============================] - 3s 2ms/step - loss: 0.2936 - accuracy: 0.8888 - val_loss: 0.3143 - val_accuracy: 0.8864\n",
      "Epoch 16/20\n",
      "1500/1500 [==============================] - 3s 2ms/step - loss: 0.2916 - accuracy: 0.8918 - val_loss: 0.3164 - val_accuracy: 0.8849\n",
      "Epoch 17/20\n",
      "1500/1500 [==============================] - 3s 2ms/step - loss: 0.2831 - accuracy: 0.8934 - val_loss: 0.3207 - val_accuracy: 0.8861\n",
      "Epoch 18/20\n",
      "1500/1500 [==============================] - 3s 2ms/step - loss: 0.2837 - accuracy: 0.8934 - val_loss: 0.3372 - val_accuracy: 0.8795\n",
      "Epoch 19/20\n",
      "1500/1500 [==============================] - 3s 2ms/step - loss: 0.2770 - accuracy: 0.8940 - val_loss: 0.3111 - val_accuracy: 0.8867\n",
      "Epoch 20/20\n",
      "1500/1500 [==============================] - 3s 2ms/step - loss: 0.2753 - accuracy: 0.8951 - val_loss: 0.3141 - val_accuracy: 0.8885\n"
     ]
    },
    {
     "data": {
      "text/plain": [
       "[<matplotlib.lines.Line2D at 0x27ba2d32d00>]"
      ]
     },
     "execution_count": 27,
     "metadata": {},
     "output_type": "execute_result"
    },
    {
     "data": {
      "image/png": "[encoded data removed]",
      "text/plain": [
       "<Figure size 432x288 with 1 Axes>"
      ]
     },
     "metadata": {
      "needs_background": "light"
     },
     "output_type": "display_data"
    }
   ],
   "source": [
    "m1=keras.Sequential()\n",
    "m1.add(keras.layers.Flatten(input_shape=(t_x.shape[1:])))#784\n",
    "m1.add(keras.layers.Dense(100,activation='relu'))#100\n",
    "m1.add(keras.layers.Dropout(0.3))\n",
    "m1.add(keras.layers.Dense(300,activation='relu'))#300\n",
    "m1.add(keras.layers.Dense(10,activation='softmax'))\n",
    "m1.compile(optimizer='adam',loss='sparse_categorical_crossentropy',metrics='accuracy')\n",
    "hy=m1.fit(t_x,t_y,validation_data=(v_x,v_y),epochs=20)\n",
    "plt.plot(hy.history['loss'])\n",
    "plt.plot(hy.history['val_loss'])"
   ]
  },
  {
   "cell_type": "code",
   "execution_count": 28,
   "id": "a79c9ac1",
   "metadata": {},
   "outputs": [
    {
     "name": "stdout",
     "output_type": "stream",
     "text": [
      "1500/1500 [==============================] - 2s 1ms/step - loss: 0.2295 - accuracy: 0.9154\n"
     ]
    },
    {
     "data": {
      "text/plain": [
       "[0.22949732840061188, 0.9154375195503235]"
      ]
     },
     "execution_count": 28,
     "metadata": {},
     "output_type": "execute_result"
    }
   ],
   "source": [
    "m1.evaluate(t_x,t_y)"
   ]
  },
  {
   "cell_type": "code",
   "execution_count": 19,
   "id": "f674e71a",
   "metadata": {},
   "outputs": [
    {
     "data": {
      "text/plain": [
       "[<tf.Variable 'dense_18/kernel:0' shape=(784, 100) dtype=float32, numpy=\n",
       " array([[ 7.46460930e-02,  5.99083230e-02, -5.31902313e-01, ...,\n",
       "          6.00403398e-02,  2.06518729e-04, -7.87507966e-02],\n",
       "        [-6.50545433e-02, -2.57840693e-01, -1.22928262e-01, ...,\n",
       "          7.78170628e-03, -3.76035981e-02, -2.00084820e-02],\n",
       "        [-4.67416644e-01, -1.94409356e-01, -3.56060266e-02, ...,\n",
       "         -3.03647108e-02,  2.95165718e-01, -1.48720384e-01],\n",
       "        ...,\n",
       "        [ 2.91248381e-01,  1.29261389e-01,  2.08398700e-01, ...,\n",
       "          1.98236518e-02,  3.86054665e-01, -2.83510625e-01],\n",
       "        [-9.51955616e-02,  3.63903165e-01,  2.68298805e-01, ...,\n",
       "          2.86020964e-01,  5.61281145e-01,  6.09688796e-02],\n",
       "        [ 7.00936094e-02,  1.40944235e-02, -1.41763210e-01, ...,\n",
       "          1.80719644e-01,  3.81768458e-02, -6.38197437e-02]], dtype=float32)>,\n",
       " <tf.Variable 'dense_18/bias:0' shape=(100,) dtype=float32, numpy=\n",
       " array([ 0.502057  , -0.7921412 ,  0.18691497,  0.17606416,  0.3141535 ,\n",
       "        -0.02448814,  0.18398651,  0.16979189,  0.20786993,  0.16663103,\n",
       "         0.18537588,  0.12115245, -0.51660836, -0.2213463 ,  0.41300836,\n",
       "        -0.31619802, -0.24498661, -0.02087292,  0.79723895, -0.00622425,\n",
       "        -0.25262958, -0.19372383,  0.2382243 , -0.01844685, -0.99390197,\n",
       "         0.29045138, -0.01203789,  0.4160925 , -0.17293088,  0.02822637,\n",
       "        -0.02614032,  0.5463569 ,  0.31226364, -0.02093453, -0.02454863,\n",
       "        -0.22890384,  0.00851844,  0.18868917, -0.37331343,  0.26017517,\n",
       "         0.16991398,  0.43295327, -0.37445784,  0.0888302 , -0.5003547 ,\n",
       "         0.13455981,  0.305169  ,  0.28122425,  0.13719872, -0.03774134,\n",
       "         0.13416553, -0.03422701,  0.27415714,  0.765236  ,  0.29893538,\n",
       "         0.20404465, -0.01928652, -0.08561343,  0.21148732,  0.21608926,\n",
       "         0.15317099,  0.46077582, -0.01647498,  0.494332  ,  0.29877564,\n",
       "        -0.1390385 ,  0.02752407, -0.14152853, -0.74841213,  0.22190727,\n",
       "         0.1435967 ,  0.17689964,  0.40982118, -0.62561154,  0.51106703,\n",
       "         0.10574337, -0.21229248, -0.29189277,  0.7347063 , -0.1522952 ,\n",
       "         0.23264983,  0.6251032 ,  0.19637676, -0.09914464,  0.207523  ,\n",
       "         0.39447567,  0.19194439,  0.2908916 , -0.15960829,  0.23933437,\n",
       "         0.2565869 , -0.49946064,  0.23820886,  0.522467  ,  0.65034145,\n",
       "        -0.38705465,  0.16532238, -0.5053101 ,  0.19436918, -0.08240924],\n",
       "       dtype=float32)>,\n",
       " <tf.Variable 'dense_19/kernel:0' shape=(100, 300) dtype=float32, numpy=\n",
       " array([[-0.19071002,  0.67527795,  0.19032761, ...,  0.37078658,\n",
       "          0.08038227,  0.11455871],\n",
       "        [-0.16128482,  0.01403345, -0.01994657, ..., -0.31812724,\n",
       "         -0.39038137, -0.17112984],\n",
       "        [-0.525748  ,  0.04719204, -0.44627774, ..., -0.19073008,\n",
       "         -0.24105877,  0.31128964],\n",
       "        ...,\n",
       "        [-0.54380816, -0.16219944,  0.0347436 , ..., -0.32855076,\n",
       "         -0.05418292,  0.08009978],\n",
       "        [ 0.1596289 , -0.35019016,  0.09043013, ..., -0.24679719,\n",
       "         -0.15731402, -0.3496933 ],\n",
       "        [-0.01382627,  0.43446305, -0.25645483, ..., -0.07369439,\n",
       "         -0.08092153,  0.21953753]], dtype=float32)>,\n",
       " <tf.Variable 'dense_19/bias:0' shape=(300,) dtype=float32, numpy=\n",
       " array([ 0.05782044, -0.11705113, -0.277471  , -0.46019754,  0.05936116,\n",
       "        -0.3774665 ,  0.23257402, -0.22185805, -0.00399962,  0.14131275,\n",
       "         0.33993766, -0.24854359,  0.3301508 ,  0.27811977,  0.0994242 ,\n",
       "         0.38798967, -0.00819178,  0.03479387, -0.04836199, -0.05155097,\n",
       "         0.53206414,  0.3126752 ,  0.2873568 ,  0.7134113 ,  0.28714156,\n",
       "         0.31155464, -0.129416  ,  0.10469192,  0.22410706, -0.14838699,\n",
       "        -0.15853333,  0.26997864,  0.417823  ,  0.12958276,  0.10655434,\n",
       "         0.14753333,  0.16406997,  0.36976793, -0.21543694,  0.18194523,\n",
       "         0.39886072,  0.23871309,  0.09949612, -0.18259344,  0.34930754,\n",
       "        -0.30490232, -0.1962875 , -0.01670684, -0.10270567, -0.00882683,\n",
       "         0.5839711 , -0.21415205,  0.6290425 ,  0.6190114 ,  0.08310606,\n",
       "        -0.32403362,  0.19951458,  0.05405921, -0.16755247, -0.19521753,\n",
       "         0.04114775,  0.20472935,  0.24968876,  0.05960099,  0.6401115 ,\n",
       "         0.23362246, -0.17127305,  0.26472124, -0.00815253,  0.07588673,\n",
       "         0.11789196, -0.10116344, -0.07434226,  0.12520485,  0.38141337,\n",
       "        -0.10235072,  0.25775236,  0.49454644, -0.16338387, -0.01526274,\n",
       "         0.18557946, -0.16972482,  0.2487349 , -0.05031709, -0.07908956,\n",
       "         0.19187057,  0.17079534, -0.0712387 ,  0.14145392,  0.3065289 ,\n",
       "        -0.24896047,  0.36310086,  0.10350537, -0.02850898, -0.17505161,\n",
       "         0.20197049,  0.2508475 ,  0.22431454, -0.06519646,  0.04694952,\n",
       "         0.47317842,  0.33900595, -0.09055946,  0.12973571, -0.09410138,\n",
       "         0.2941945 , -0.12715487,  0.4393225 , -0.22519913,  0.18933716,\n",
       "         0.70772743,  0.06771368, -0.05640867,  0.12577511,  0.0705748 ,\n",
       "        -0.0839868 ,  0.13863887,  0.23676567,  0.25747016,  0.35569668,\n",
       "         0.1443127 ,  0.06484533, -0.40438086,  0.34004995, -0.44580492,\n",
       "        -0.13174286, -0.10715731,  0.30138016, -0.09727343, -0.04606545,\n",
       "         0.3358847 ,  0.33114117, -0.33127692, -0.25481287,  0.3548754 ,\n",
       "         0.08833482,  0.63483816,  0.23858404, -0.19067681,  0.6527572 ,\n",
       "         0.05338674, -0.25894558, -0.03689079, -0.02475729, -0.08768691,\n",
       "         0.24803592, -0.05923312, -0.33923525,  0.2951846 , -0.01740751,\n",
       "        -0.37197593,  0.21816696, -0.22187819, -0.03106422, -0.21601932,\n",
       "        -0.17250124,  0.09294172,  0.09423304, -0.03388198, -0.09245831,\n",
       "        -0.123114  ,  0.15957187, -0.04079506,  0.68543553,  0.36945662,\n",
       "         0.28399214,  0.05081858, -0.3465791 ,  0.5123105 , -0.19227538,\n",
       "        -0.1150388 ,  0.09027141,  0.13367839, -0.18938093, -0.1840772 ,\n",
       "         0.31202582,  0.6974755 ,  0.01965439,  0.36433935,  0.7015344 ,\n",
       "         0.07912032,  0.12068503,  0.4721385 , -0.01108037,  0.35944417,\n",
       "         0.25748584, -0.54275554, -0.25519955,  0.05278694,  0.2717941 ,\n",
       "         0.49579987, -0.3143946 ,  0.2708381 ,  0.4285878 ,  0.1811331 ,\n",
       "         0.58719236, -0.13121212,  0.51298344,  0.16534261,  0.35755432,\n",
       "        -0.4212905 ,  0.1818225 , -0.1887979 ,  0.03061811,  0.29513597,\n",
       "         0.30135605,  0.33696285,  0.3124059 ,  0.18620516, -0.08899622,\n",
       "        -0.06688262, -0.28710678, -0.11149818, -0.00205254,  0.04310463,\n",
       "         0.17561361,  0.12667832,  0.10482515,  0.16031794, -0.11333881,\n",
       "         0.39057404,  0.17489937,  0.03584058,  0.03811789, -0.17490037,\n",
       "        -0.42862445,  0.3951188 ,  0.3759371 ,  0.16293044,  0.23570375,\n",
       "        -0.0147177 , -0.0083247 ,  0.18679145,  0.32443023,  0.5408645 ,\n",
       "         0.07090671, -0.2150468 ,  0.38560498, -0.16888964,  0.32458785,\n",
       "        -0.1764863 , -0.22919543,  0.34233978, -0.18454598,  0.6154695 ,\n",
       "        -0.10394722, -0.34630853, -0.17297621,  0.24414259,  0.02562208,\n",
       "         0.33349708,  0.04495572, -0.16764617,  0.21531773,  0.11815891,\n",
       "         0.42672738,  0.44515184,  0.04455098, -0.429883  ,  0.23910129,\n",
       "         0.28042477,  0.29921612,  0.29160655,  0.18895146, -0.19524078,\n",
       "         0.09965993, -0.2078825 ,  0.02802309, -0.19688837,  0.190936  ,\n",
       "        -0.29097122,  0.32942548,  0.6178571 ,  0.07776166,  0.5563353 ,\n",
       "         0.10631102, -0.20718533, -0.23710114, -0.08977001, -0.09693849,\n",
       "         0.19967738,  0.2105022 ,  0.25440696,  0.20872216,  0.24758919,\n",
       "         0.00758043, -0.30779627, -0.01887779, -0.14283063,  0.17924567,\n",
       "        -0.02247346,  0.00960214, -0.12868689, -0.02113871,  0.48730433,\n",
       "         0.46171495,  0.03848257,  0.01906097,  0.46692622,  0.3489953 ],\n",
       "       dtype=float32)>,\n",
       " <tf.Variable 'dense_20/kernel:0' shape=(300, 10) dtype=float32, numpy=\n",
       " array([[ 0.05540819,  0.10720749,  0.11872117, ..., -0.3183789 ,\n",
       "          0.13804719, -0.42771855],\n",
       "        [-0.19117713,  0.18838294, -0.2811442 , ..., -0.08672306,\n",
       "         -0.27466142,  0.14861092],\n",
       "        [ 0.06529372, -0.13975595, -0.14047424, ..., -0.16108835,\n",
       "         -0.05528671,  0.00647358],\n",
       "        ...,\n",
       "        [-0.08220961, -0.04925441, -0.23818696, ..., -0.00328935,\n",
       "          0.12053975,  0.03198395],\n",
       "        [-0.04342599,  0.05531183, -0.122484  , ...,  0.06576873,\n",
       "         -0.3521907 , -0.19641   ],\n",
       "        [-0.1081658 ,  0.05539865, -0.40319785, ...,  0.11108471,\n",
       "          0.04386548,  0.09005018]], dtype=float32)>,\n",
       " <tf.Variable 'dense_20/bias:0' shape=(10,) dtype=float32, numpy=\n",
       " array([-0.06177236, -0.2762334 ,  0.01656861,  0.3086732 , -0.26473042,\n",
       "         0.31516233,  0.11699641,  0.30963716,  0.01269231, -0.5353488 ],\n",
       "       dtype=float32)>]"
      ]
     },
     "execution_count": 19,
     "metadata": {},
     "output_type": "execute_result"
    }
   ],
   "source": [
    "m1.weights"
   ]
  },
  {
   "cell_type": "markdown",
   "id": "e9b54596",
   "metadata": {},
   "source": [
    "m1.weights"
   ]
  },
  {
   "cell_type": "code",
   "execution_count": 30,
   "id": "7dae5720",
   "metadata": {},
   "outputs": [],
   "source": [
    "m1.save_weights('m_2_w.h5')"
   ]
  },
  {
   "cell_type": "code",
   "execution_count": 31,
   "id": "f18280c3",
   "metadata": {},
   "outputs": [],
   "source": [
    "m1.save('m2.h5')"
   ]
  },
  {
   "cell_type": "code",
   "execution_count": 32,
   "id": "b2f17c2f",
   "metadata": {},
   "outputs": [
    {
     "name": "stdout",
     "output_type": "stream",
     "text": [
      "1500/1500 [==============================] - 2s 1ms/step - loss: 2.3238 - accuracy: 0.1342\n"
     ]
    },
    {
     "data": {
      "text/plain": [
       "[2.3238232135772705, 0.1342291682958603]"
      ]
     },
     "execution_count": 32,
     "metadata": {},
     "output_type": "execute_result"
    }
   ],
   "source": [
    "m2=keras.Sequential()\n",
    "m2.add(keras.layers.Flatten(input_shape=(t_x.shape[1:])))#784\n",
    "m2.add(keras.layers.Dense(100,activation='relu'))#100\n",
    "m2.add(keras.layers.Dropout(0.3))\n",
    "m2.add(keras.layers.Dense(300,activation='relu'))#300\n",
    "m2.add(keras.layers.Dense(10,activation='softmax'))\n",
    "m2.compile(optimizer='adam',loss='sparse_categorical_crossentropy',metrics='accuracy')\n",
    "m2.evaluate(t_x,t_y)\n"
   ]
  },
  {
   "cell_type": "code",
   "execution_count": 34,
   "id": "81a5f8cb",
   "metadata": {},
   "outputs": [
    {
     "ename": "FileNotFoundError",
     "evalue": "[Errno 2] Unable to open file (unable to open file: name = 'm_2w.h5', errno = 2, error message = 'No such file or directory', flags = 0, o_flags = 0)",
     "output_type": "error",
     "traceback": [
      "\u001b[1;31m---------------------------------------------------------------------------\u001b[0m",
      "\u001b[1;31mFileNotFoundError\u001b[0m                         Traceback (most recent call last)",
      "\u001b[1;32m~\\AppData\\Local\\Temp/ipykernel_9604/326703015.py\u001b[0m in \u001b[0;36m<module>\u001b[1;34m\u001b[0m\n\u001b[1;32m----> 1\u001b[1;33m \u001b[0mm1\u001b[0m\u001b[1;33m.\u001b[0m\u001b[0mload_weights\u001b[0m\u001b[1;33m(\u001b[0m\u001b[1;34m'm_2w.h5'\u001b[0m\u001b[1;33m)\u001b[0m\u001b[1;33m\u001b[0m\u001b[1;33m\u001b[0m\u001b[0m\n\u001b[0m",
      "\u001b[1;32mC:\\ProgramData\\Anaconda3\\lib\\site-packages\\keras\\utils\\traceback_utils.py\u001b[0m in \u001b[0;36merror_handler\u001b[1;34m(*args, **kwargs)\u001b[0m\n\u001b[0;32m     65\u001b[0m     \u001b[1;32mexcept\u001b[0m \u001b[0mException\u001b[0m \u001b[1;32mas\u001b[0m \u001b[0me\u001b[0m\u001b[1;33m:\u001b[0m  \u001b[1;31m# pylint: disable=broad-except\u001b[0m\u001b[1;33m\u001b[0m\u001b[1;33m\u001b[0m\u001b[0m\n\u001b[0;32m     66\u001b[0m       \u001b[0mfiltered_tb\u001b[0m \u001b[1;33m=\u001b[0m \u001b[0m_process_traceback_frames\u001b[0m\u001b[1;33m(\u001b[0m\u001b[0me\u001b[0m\u001b[1;33m.\u001b[0m\u001b[0m__traceback__\u001b[0m\u001b[1;33m)\u001b[0m\u001b[1;33m\u001b[0m\u001b[1;33m\u001b[0m\u001b[0m\n\u001b[1;32m---> 67\u001b[1;33m       \u001b[1;32mraise\u001b[0m \u001b[0me\u001b[0m\u001b[1;33m.\u001b[0m\u001b[0mwith_traceback\u001b[0m\u001b[1;33m(\u001b[0m\u001b[0mfiltered_tb\u001b[0m\u001b[1;33m)\u001b[0m \u001b[1;32mfrom\u001b[0m \u001b[1;32mNone\u001b[0m\u001b[1;33m\u001b[0m\u001b[1;33m\u001b[0m\u001b[0m\n\u001b[0m\u001b[0;32m     68\u001b[0m     \u001b[1;32mfinally\u001b[0m\u001b[1;33m:\u001b[0m\u001b[1;33m\u001b[0m\u001b[1;33m\u001b[0m\u001b[0m\n\u001b[0;32m     69\u001b[0m       \u001b[1;32mdel\u001b[0m \u001b[0mfiltered_tb\u001b[0m\u001b[1;33m\u001b[0m\u001b[1;33m\u001b[0m\u001b[0m\n",
      "\u001b[1;32mC:\\ProgramData\\Anaconda3\\lib\\site-packages\\h5py\\_hl\\files.py\u001b[0m in \u001b[0;36m__init__\u001b[1;34m(self, name, mode, driver, libver, userblock_size, swmr, rdcc_nslots, rdcc_nbytes, rdcc_w0, track_order, fs_strategy, fs_persist, fs_threshold, **kwds)\u001b[0m\n\u001b[0;32m    440\u001b[0m             \u001b[1;32mwith\u001b[0m \u001b[0mphil\u001b[0m\u001b[1;33m:\u001b[0m\u001b[1;33m\u001b[0m\u001b[1;33m\u001b[0m\u001b[0m\n\u001b[0;32m    441\u001b[0m                 \u001b[0mfapl\u001b[0m \u001b[1;33m=\u001b[0m \u001b[0mmake_fapl\u001b[0m\u001b[1;33m(\u001b[0m\u001b[0mdriver\u001b[0m\u001b[1;33m,\u001b[0m \u001b[0mlibver\u001b[0m\u001b[1;33m,\u001b[0m \u001b[0mrdcc_nslots\u001b[0m\u001b[1;33m,\u001b[0m \u001b[0mrdcc_nbytes\u001b[0m\u001b[1;33m,\u001b[0m \u001b[0mrdcc_w0\u001b[0m\u001b[1;33m,\u001b[0m \u001b[1;33m**\u001b[0m\u001b[0mkwds\u001b[0m\u001b[1;33m)\u001b[0m\u001b[1;33m\u001b[0m\u001b[1;33m\u001b[0m\u001b[0m\n\u001b[1;32m--> 442\u001b[1;33m                 fid = make_fid(name, mode, userblock_size,\n\u001b[0m\u001b[0;32m    443\u001b[0m                                fapl, fcpl=make_fcpl(track_order=track_order, fs_strategy=fs_strategy,\n\u001b[0;32m    444\u001b[0m                                fs_persist=fs_persist, fs_threshold=fs_threshold),\n",
      "\u001b[1;32mC:\\ProgramData\\Anaconda3\\lib\\site-packages\\h5py\\_hl\\files.py\u001b[0m in \u001b[0;36mmake_fid\u001b[1;34m(name, mode, userblock_size, fapl, fcpl, swmr)\u001b[0m\n\u001b[0;32m    193\u001b[0m         \u001b[1;32mif\u001b[0m \u001b[0mswmr\u001b[0m \u001b[1;32mand\u001b[0m \u001b[0mswmr_support\u001b[0m\u001b[1;33m:\u001b[0m\u001b[1;33m\u001b[0m\u001b[1;33m\u001b[0m\u001b[0m\n\u001b[0;32m    194\u001b[0m             \u001b[0mflags\u001b[0m \u001b[1;33m|=\u001b[0m \u001b[0mh5f\u001b[0m\u001b[1;33m.\u001b[0m\u001b[0mACC_SWMR_READ\u001b[0m\u001b[1;33m\u001b[0m\u001b[1;33m\u001b[0m\u001b[0m\n\u001b[1;32m--> 195\u001b[1;33m         \u001b[0mfid\u001b[0m \u001b[1;33m=\u001b[0m \u001b[0mh5f\u001b[0m\u001b[1;33m.\u001b[0m\u001b[0mopen\u001b[0m\u001b[1;33m(\u001b[0m\u001b[0mname\u001b[0m\u001b[1;33m,\u001b[0m \u001b[0mflags\u001b[0m\u001b[1;33m,\u001b[0m \u001b[0mfapl\u001b[0m\u001b[1;33m=\u001b[0m\u001b[0mfapl\u001b[0m\u001b[1;33m)\u001b[0m\u001b[1;33m\u001b[0m\u001b[1;33m\u001b[0m\u001b[0m\n\u001b[0m\u001b[0;32m    196\u001b[0m     \u001b[1;32melif\u001b[0m \u001b[0mmode\u001b[0m \u001b[1;33m==\u001b[0m \u001b[1;34m'r+'\u001b[0m\u001b[1;33m:\u001b[0m\u001b[1;33m\u001b[0m\u001b[1;33m\u001b[0m\u001b[0m\n\u001b[0;32m    197\u001b[0m         \u001b[0mfid\u001b[0m \u001b[1;33m=\u001b[0m \u001b[0mh5f\u001b[0m\u001b[1;33m.\u001b[0m\u001b[0mopen\u001b[0m\u001b[1;33m(\u001b[0m\u001b[0mname\u001b[0m\u001b[1;33m,\u001b[0m \u001b[0mh5f\u001b[0m\u001b[1;33m.\u001b[0m\u001b[0mACC_RDWR\u001b[0m\u001b[1;33m,\u001b[0m \u001b[0mfapl\u001b[0m\u001b[1;33m=\u001b[0m\u001b[0mfapl\u001b[0m\u001b[1;33m)\u001b[0m\u001b[1;33m\u001b[0m\u001b[1;33m\u001b[0m\u001b[0m\n",
      "\u001b[1;32mh5py\\_objects.pyx\u001b[0m in \u001b[0;36mh5py._objects.with_phil.wrapper\u001b[1;34m()\u001b[0m\n",
      "\u001b[1;32mh5py\\_objects.pyx\u001b[0m in \u001b[0;36mh5py._objects.with_phil.wrapper\u001b[1;34m()\u001b[0m\n",
      "\u001b[1;32mh5py\\h5f.pyx\u001b[0m in \u001b[0;36mh5py.h5f.open\u001b[1;34m()\u001b[0m\n",
      "\u001b[1;31mFileNotFoundError\u001b[0m: [Errno 2] Unable to open file (unable to open file: name = 'm_2w.h5', errno = 2, error message = 'No such file or directory', flags = 0, o_flags = 0)"
     ]
    }
   ],
   "source": [
    "m1.load_weights('m_2w.h5')"
   ]
  },
  {
   "cell_type": "code",
   "execution_count": 35,
   "id": "a75b06e1",
   "metadata": {},
   "outputs": [
    {
     "name": "stdout",
     "output_type": "stream",
     "text": [
      "1500/1500 [==============================] - 2s 1ms/step - loss: 2.3238 - accuracy: 0.1342\n"
     ]
    },
    {
     "data": {
      "text/plain": [
       "[2.3238232135772705, 0.1342291682958603]"
      ]
     },
     "execution_count": 35,
     "metadata": {},
     "output_type": "execute_result"
    }
   ],
   "source": [
    "m2.evaluate(t_x,t_y)"
   ]
  },
  {
   "cell_type": "code",
   "execution_count": null,
   "id": "815789f7",
   "metadata": {},
   "outputs": [],
   "source": [
    "m3=keras.models.load_model('m2.h5')\n",
    "m3.e"
   ]
  }
 ],
 "metadata": {
  "kernelspec": {
   "display_name": "Python 3 (ipykernel)",
   "language": "python",
   "name": "python3"
  },
  "language_info": {
   "codemirror_mode": {
    "name": "ipython",
    "version": 3
   },
   "file_extension": ".py",
   "mimetype": "text/x-python",
   "name": "python",
   "nbconvert_exporter": "python",
   "pygments_lexer": "ipython3",
   "version": "3.9.7"
  }
 },
 "nbformat": 4,
 "nbformat_minor": 5
}
