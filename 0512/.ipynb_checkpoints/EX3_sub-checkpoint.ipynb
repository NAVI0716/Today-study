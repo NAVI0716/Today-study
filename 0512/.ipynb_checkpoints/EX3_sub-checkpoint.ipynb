{
 "cells": [
  {
   "cell_type": "markdown",
   "id": "58e2995b",
   "metadata": {},
   "source": [
    "## 텍스트 기반의 다중 분류"
   ]
  },
  {
   "cell_type": "code",
   "execution_count": 1,
   "id": "0e8b12bc",
   "metadata": {},
   "outputs": [],
   "source": [
    "from sklearn.datasets import fetch_20newsgroups#DATA로드\n",
    "import pandas as pd\n",
    "from tensorflow.keras.preprocessing.text import Tokenizer#토큰\n",
    "from tensorflow.keras.utils import to_categorical#원핫인코딩 정수형 범주 조건만족\n",
    "from sklearn.model_selection import train_test_split\n",
    "import matplotlib.pyplot as plt\n",
    "from tensorflow.keras.models import Sequential\n",
    "from tensorflow.keras.layers import Dense,Dropout"
   ]
  },
  {
   "cell_type": "markdown",
   "id": "d33fcf27",
   "metadata": {},
   "source": [
    "data수집"
   ]
  },
  {
   "cell_type": "code",
   "execution_count": 2,
   "id": "e14e65e8",
   "metadata": {},
   "outputs": [],
   "source": [
    "data=fetch_20newsgroups()\n",
    "X_data=data.data\n",
    "Y_data=data.target"
   ]
  },
  {
   "cell_type": "markdown",
   "id": "97cd5089",
   "metadata": {},
   "source": [
    "data전처리"
   ]
  },
  {
   "cell_type": "code",
   "execution_count": 3,
   "id": "f0c05c99",
   "metadata": {},
   "outputs": [],
   "source": [
    "tk=Tokenizer(num_words=10000)\n",
    "tk.fit_on_texts(X_data)\n",
    "X=tk.texts_to_matrix(X_data,mode='tfidf')#mode=[binary,count,tfidf]형으로 되어있읍\n",
    "Y= to_categorical(Y_data)\n",
    "t_x,tt_x,t_y,tt_y=train_test_split(X,Y)"
   ]
  },
  {
   "cell_type": "markdown",
   "id": "f2bab9a4",
   "metadata": {},
   "source": [
    "모델 생성 학습"
   ]
  },
  {
   "cell_type": "code",
   "execution_count": 4,
   "id": "d20fff92",
   "metadata": {
    "scrolled": true
   },
   "outputs": [
    {
     "name": "stdout",
     "output_type": "stream",
     "text": [
      "Epoch 1/10\n",
      "266/266 [==============================] - 3s 11ms/step - loss: 1.9709 - accuracy: 0.4411 - val_loss: 0.6532 - val_accuracy: 0.8533\n",
      "Epoch 2/10\n",
      "266/266 [==============================] - 3s 11ms/step - loss: 0.7592 - accuracy: 0.8038 - val_loss: 0.4426 - val_accuracy: 0.8915\n",
      "Epoch 3/10\n",
      "266/266 [==============================] - 3s 10ms/step - loss: 0.4497 - accuracy: 0.8845 - val_loss: 0.4404 - val_accuracy: 0.8971\n",
      "Epoch 4/10\n",
      "266/266 [==============================] - 3s 10ms/step - loss: 0.2966 - accuracy: 0.9318 - val_loss: 0.4290 - val_accuracy: 0.8982\n",
      "Epoch 5/10\n",
      "266/266 [==============================] - 3s 11ms/step - loss: 0.2378 - accuracy: 0.9461 - val_loss: 0.4675 - val_accuracy: 0.9010\n",
      "Epoch 6/10\n",
      "266/266 [==============================] - 3s 10ms/step - loss: 0.2261 - accuracy: 0.9573 - val_loss: 0.4735 - val_accuracy: 0.8957\n",
      "Epoch 7/10\n",
      "266/266 [==============================] - 3s 11ms/step - loss: 0.1896 - accuracy: 0.9637 - val_loss: 0.4970 - val_accuracy: 0.8982\n",
      "Epoch 8/10\n",
      "266/266 [==============================] - 3s 11ms/step - loss: 0.1659 - accuracy: 0.9697 - val_loss: 0.4924 - val_accuracy: 0.8986\n",
      "Epoch 9/10\n",
      "266/266 [==============================] - 3s 11ms/step - loss: 0.1742 - accuracy: 0.9677 - val_loss: 0.5817 - val_accuracy: 0.8879\n",
      "Epoch 10/10\n",
      "266/266 [==============================] - 3s 11ms/step - loss: 0.1335 - accuracy: 0.9734 - val_loss: 0.5445 - val_accuracy: 0.8922\n"
     ]
    }
   ],
   "source": [
    "m=Sequential()\n",
    "m.add(Dense(256,input_shape=(10000,),activation='relu'))\n",
    "m.add(Dropout(0.5))\n",
    "m.add(Dense(128,activation='relu'))\n",
    "m.add(Dropout(0.5))\n",
    "m.add(Dense(20,activation='softmax'))\n",
    "m.compile(optimizer='adam',loss='categorical_crossentropy',\n",
    "          metrics=['accuracy'])\n",
    "hy=m.fit(t_x,t_y,epochs=10,validation_data=(tt_x,tt_y))"
   ]
  },
  {
   "cell_type": "code",
   "execution_count": 5,
   "id": "fa868954",
   "metadata": {},
   "outputs": [
    {
     "data": {
      "text/plain": [
       "[<matplotlib.lines.Line2D at 0x28bc0560e80>]"
      ]
     },
     "execution_count": 5,
     "metadata": {},
     "output_type": "execute_result"
    },
    {
     "data": {
      "image/png": "[encoded data removed]",
      "text/plain": [
       "<Figure size 432x288 with 1 Axes>"
      ]
     },
     "metadata": {
      "needs_background": "light"
     },
     "output_type": "display_data"
    }
   ],
   "source": [
    "ec=range(1,len(hy.history['accuracy'])+1)\n",
    "plt.plot(ec,hy.history['loss'])\n",
    "plt.plot(ec,hy.history['val_loss'])"
   ]
  }
 ],
 "metadata": {
  "kernelspec": {
   "display_name": "Python 3 (ipykernel)",
   "language": "python",
   "name": "python3"
  },
  "language_info": {
   "codemirror_mode": {
    "name": "ipython",
    "version": 3
   },
   "file_extension": ".py",
   "mimetype": "text/x-python",
   "name": "python",
   "nbconvert_exporter": "python",
   "pygments_lexer": "ipython3",
   "version": "3.9.7"
  }
 },
 "nbformat": 4,
 "nbformat_minor": 5
}
