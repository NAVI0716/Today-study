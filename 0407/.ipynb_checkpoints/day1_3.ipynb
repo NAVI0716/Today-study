{
 "cells": [
  {
   "cell_type": "markdown",
   "id": "a1e5a331",
   "metadata": {},
   "source": [
    "## 4. 판다스 data 그룹 \n",
    "data 그룹형태 변형"
   ]
  },
  {
   "cell_type": "code",
   "execution_count": 7,
   "id": "9149e208",
   "metadata": {},
   "outputs": [
    {
     "data": {
      "text/html": [
       "<div>\n",
       "<style scoped>\n",
       "    .dataframe tbody tr th:only-of-type {\n",
       "        vertical-align: middle;\n",
       "    }\n",
       "\n",
       "    .dataframe tbody tr th {\n",
       "        vertical-align: top;\n",
       "    }\n",
       "\n",
       "    .dataframe thead th {\n",
       "        text-align: right;\n",
       "    }\n",
       "</style>\n",
       "<table border=\"1\" class=\"dataframe\">\n",
       "  <thead>\n",
       "    <tr style=\"text-align: right;\">\n",
       "      <th></th>\n",
       "      <th>연도</th>\n",
       "      <th>발생</th>\n",
       "      <th>사망</th>\n",
       "      <th>부상</th>\n",
       "    </tr>\n",
       "  </thead>\n",
       "  <tbody>\n",
       "    <tr>\n",
       "      <th>0</th>\n",
       "      <td>2020</td>\n",
       "      <td>620</td>\n",
       "      <td>11</td>\n",
       "      <td>1053</td>\n",
       "    </tr>\n",
       "    <tr>\n",
       "      <th>1</th>\n",
       "      <td>2019</td>\n",
       "      <td>493</td>\n",
       "      <td>18</td>\n",
       "      <td>797</td>\n",
       "    </tr>\n",
       "    <tr>\n",
       "      <th>2</th>\n",
       "      <td>2018</td>\n",
       "      <td>680</td>\n",
       "      <td>14</td>\n",
       "      <td>1165</td>\n",
       "    </tr>\n",
       "    <tr>\n",
       "      <th>3</th>\n",
       "      <td>2017</td>\n",
       "      <td>780</td>\n",
       "      <td>18</td>\n",
       "      <td>1338</td>\n",
       "    </tr>\n",
       "    <tr>\n",
       "      <th>4</th>\n",
       "      <td>2016</td>\n",
       "      <td>708</td>\n",
       "      <td>18</td>\n",
       "      <td>1266</td>\n",
       "    </tr>\n",
       "  </tbody>\n",
       "</table>\n",
       "</div>"
      ],
      "text/plain": [
       "     연도   발생  사망    부상\n",
       "0  2020  620  11  1053\n",
       "1  2019  493  18   797\n",
       "2  2018  680  14  1165\n",
       "3  2017  780  18  1338\n",
       "4  2016  708  18  1266"
      ]
     },
     "execution_count": 7,
     "metadata": {},
     "output_type": "execute_result"
    }
   ],
   "source": [
    "import pandas as pd\n",
    "from pandas import DataFrame\n",
    "df_data=pd.read_csv('경찰청 강원도경찰청_음주교통사고 발생 현황_20201231.csv',encoding=\"euc-kr\")\n",
    "df=DataFrame(df_data)\n",
    "df"
   ]
  },
  {
   "cell_type": "markdown",
   "id": "c83ba657",
   "metadata": {},
   "source": [
    "별도의 문제 입니다.  \n",
    "1. iloc함수를 이용하여 (2,2)의 크기로변경하시오\n",
    "2. 연도, 발생 으로 df를 만드시오\n",
    "3. "
   ]
  }
 ],
 "metadata": {
  "kernelspec": {
   "display_name": "Python 3 (ipykernel)",
   "language": "python",
   "name": "python3"
  },
  "language_info": {
   "codemirror_mode": {
    "name": "ipython",
    "version": 3
   },
   "file_extension": ".py",
   "mimetype": "text/x-python",
   "name": "python",
   "nbconvert_exporter": "python",
   "pygments_lexer": "ipython3",
   "version": "3.9.7"
  }
 },
 "nbformat": 4,
 "nbformat_minor": 5
}
