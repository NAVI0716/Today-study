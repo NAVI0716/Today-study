{
 "cells": [
  {
   "cell_type": "markdown",
   "id": "4c37899e",
   "metadata": {},
   "source": [
    "### for while"
   ]
  },
  {
   "cell_type": "code",
   "execution_count": 1,
   "id": "461090f5",
   "metadata": {},
   "outputs": [
    {
     "name": "stdout",
     "output_type": "stream",
     "text": [
      "Hello Python\n",
      "Hello Python\n",
      "Hello Python\n",
      "Hello Python\n",
      "Hello Python\n"
     ]
    }
   ],
   "source": [
    "for x in range(5):\n",
    "    print(\"Hello Python\")"
   ]
  },
  {
   "cell_type": "code",
   "execution_count": 5,
   "id": "41239f77",
   "metadata": {},
   "outputs": [
    {
     "name": "stdout",
     "output_type": "stream",
     "text": [
      "0번째 Hello Python\n",
      "1번째 Hello Python\n",
      "2번째 Hello Python\n"
     ]
    }
   ],
   "source": [
    "for x in range(3):\n",
    "    print(\"%d번째\"%x,end=\" \")\n",
    "    print(\"Hello Python\")"
   ]
  },
  {
   "cell_type": "code",
   "execution_count": 14,
   "id": "aac34a75",
   "metadata": {},
   "outputs": [
    {
     "name": "stdout",
     "output_type": "stream",
     "text": [
      "5\n",
      "4\n",
      "3\n",
      "2\n",
      "1\n"
     ]
    }
   ],
   "source": [
    "for i in range(5,0,-1):\n",
    "    print(i)"
   ]
  },
  {
   "cell_type": "code",
   "execution_count": 16,
   "id": "296cda6f",
   "metadata": {},
   "outputs": [
    {
     "name": "stdout",
     "output_type": "stream",
     "text": [
      "0\n",
      "1\n",
      "2\n",
      "3\n",
      "4\n"
     ]
    }
   ],
   "source": [
    "x=0\n",
    "while x<5:\n",
    "    print(x)\n",
    "    x+=1"
   ]
  },
  {
   "cell_type": "code",
   "execution_count": 33,
   "id": "84a6566f",
   "metadata": {},
   "outputs": [
    {
     "name": "stdout",
     "output_type": "stream",
     "text": [
      "250500\n"
     ]
    }
   ],
   "source": [
    "SUM=0\n",
    "for i in range(0,1001,2):\n",
    "    SUM +=i\n",
    "    l.append(i)\n",
    "print(SUM)"
   ]
  },
  {
   "cell_type": "code",
   "execution_count": 38,
   "id": "688f95a6",
   "metadata": {},
   "outputs": [
    {
     "name": "stdout",
     "output_type": "stream",
     "text": [
      "11\n",
      "총합은55\n",
      "짝수의합은30\n",
      "홀수의합은25\n"
     ]
    }
   ],
   "source": [
    "inpu = int(input())\n",
    "SUM=0\n",
    "SUM1=0\n",
    "SUM2=0\n",
    "for i in range(1,inpu):\n",
    "    SUM +=i\n",
    "    if i%2 == 0:\n",
    "        SUM1 += i\n",
    "\n",
    "    else:\n",
    "        SUM2 += i\n",
    "print(f\"총합은{SUM}\")\n",
    "print(f\"짝수의합은{SUM1}\")\n",
    "print(f\"홀수의합은{SUM2}\")\n"
   ]
  },
  {
   "cell_type": "code",
   "execution_count": 37,
   "id": "a85b3033",
   "metadata": {},
   "outputs": [
    {
     "name": "stdout",
     "output_type": "stream",
     "text": [
      "총합은500500\n",
      "짝수의합은250500\n",
      "홀수의합은250000\n"
     ]
    }
   ],
   "source": [
    "SUM=0\n",
    "SUM1=0\n",
    "SUM2=0\n",
    "for i in range(1,1001):\n",
    "    SUM +=i\n",
    "    if i%2 == 0:\n",
    "        SUM1 += i\n",
    "\n",
    "    else:\n",
    "        SUM2 += i\n",
    "print(f\"총합은{SUM}\")\n",
    "print(f\"짝수의합은{SUM1}\")\n",
    "print(f\"홀수의합은{SUM2}\")\n",
    "\n"
   ]
  },
  {
   "cell_type": "code",
   "execution_count": null,
   "id": "fd9d4c32",
   "metadata": {},
   "outputs": [],
   "source": [
    "x = int(input())\n",
    "\n"
   ]
  },
  {
   "cell_type": "code",
   "execution_count": 27,
   "id": "64e196a4",
   "metadata": {},
   "outputs": [
    {
     "name": "stdout",
     "output_type": "stream",
     "text": [
      "1000\n"
     ]
    }
   ],
   "source": [
    "SUM=0\n",
    "while SUM != 1000:\n",
    "    SUM += 1\n",
    "print(SUM)"
   ]
  },
  {
   "cell_type": "markdown",
   "id": "3263f364",
   "metadata": {},
   "source": [
    "### 중첩루프"
   ]
  },
  {
   "cell_type": "code",
   "execution_count": 45,
   "id": "4350d081",
   "metadata": {},
   "outputs": [
    {
     "name": "stdout",
     "output_type": "stream",
     "text": [
      "* \n",
      "* * \n",
      "* * * \n",
      "* * * * \n"
     ]
    }
   ],
   "source": [
    "for i in range(1,5):\n",
    "    for j in range(1,1+i):\n",
    "        print(\"*\",end=\" \")\n",
    "    print(\"\")"
   ]
  },
  {
   "cell_type": "code",
   "execution_count": 49,
   "id": "eefedd1b",
   "metadata": {},
   "outputs": [
    {
     "name": "stdout",
     "output_type": "stream",
     "text": [
      "1x1=1\n",
      "1x2=2\n",
      "1x3=3\n",
      "1x4=4\n",
      "1x5=5\n",
      "1x6=6\n",
      "1x7=7\n",
      "1x8=8\n",
      "1x9=9\n",
      "\n",
      "2x1=2\n",
      "2x2=4\n",
      "2x3=6\n",
      "2x4=8\n",
      "2x5=10\n",
      "2x6=12\n",
      "2x7=14\n",
      "2x8=16\n",
      "2x9=18\n",
      "\n",
      "3x1=3\n",
      "3x2=6\n",
      "3x3=9\n",
      "3x4=12\n",
      "3x5=15\n",
      "3x6=18\n",
      "3x7=21\n",
      "3x8=24\n",
      "3x9=27\n",
      "\n",
      "4x1=4\n",
      "4x2=8\n",
      "4x3=12\n",
      "4x4=16\n",
      "4x5=20\n",
      "4x6=24\n",
      "4x7=28\n",
      "4x8=32\n",
      "4x9=36\n",
      "\n",
      "5x1=5\n",
      "5x2=10\n",
      "5x3=15\n",
      "5x4=20\n",
      "5x5=25\n",
      "5x6=30\n",
      "5x7=35\n",
      "5x8=40\n",
      "5x9=45\n",
      "\n",
      "6x1=6\n",
      "6x2=12\n",
      "6x3=18\n",
      "6x4=24\n",
      "6x5=30\n",
      "6x6=36\n",
      "6x7=42\n",
      "6x8=48\n",
      "6x9=54\n",
      "\n",
      "7x1=7\n",
      "7x2=14\n",
      "7x3=21\n",
      "7x4=28\n",
      "7x5=35\n",
      "7x6=42\n",
      "7x7=49\n",
      "7x8=56\n",
      "7x9=63\n",
      "\n",
      "8x1=8\n",
      "8x2=16\n",
      "8x3=24\n",
      "8x4=32\n",
      "8x5=40\n",
      "8x6=48\n",
      "8x7=56\n",
      "8x8=64\n",
      "8x9=72\n",
      "\n",
      "9x1=9\n",
      "9x2=18\n",
      "9x3=27\n",
      "9x4=36\n",
      "9x5=45\n",
      "9x6=54\n",
      "9x7=63\n",
      "9x8=72\n",
      "9x9=81\n",
      "\n"
     ]
    }
   ],
   "source": [
    "for i in range(1,10):\n",
    "    for j in range(1,10):\n",
    "        print(f\"{i}x{j}={i*j}\")\n",
    "    print(\"\")"
   ]
  },
  {
   "cell_type": "markdown",
   "id": "21712d6a",
   "metadata": {},
   "source": [
    "### 4-10"
   ]
  },
  {
   "cell_type": "code",
   "execution_count": 51,
   "id": "a16d3442",
   "metadata": {},
   "outputs": [
    {
     "name": "stdout",
     "output_type": "stream",
     "text": [
      "200 202 203 205 206 208 209 211 \n",
      "212 214 215 217 218 220 221 223 \n",
      "224 226 227 229 230 232 233 235 \n",
      "236 238 239 241 242 244 245 247 \n",
      "248 250 251 253 254 256 257 259 \n",
      "260 262 263 265 266 268 269 271 \n",
      "272 274 275 277 278 280 281 283 \n",
      "284 286 287 289 290 292 293 295 \n",
      "296 298 299 301 302 304 305 307 \n",
      "308 310 311 313 314 316 317 319 \n",
      "320 322 323 325 326 328 329 331 \n",
      "332 334 335 337 338 340 341 343 \n",
      "344 346 347 349 350 352 353 355 \n",
      "356 358 359 361 362 364 365 367 \n",
      "368 370 371 373 374 376 377 379 \n",
      "380 382 383 385 386 388 389 391 \n",
      "392 394 395 397 398 400 401 403 \n",
      "404 406 407 409 410 412 413 415 \n",
      "416 418 419 421 422 424 425 427 \n",
      "428 430 431 433 434 436 437 439 \n",
      "440 442 443 445 446 448 449 451 \n",
      "452 454 455 457 458 460 461 463 \n",
      "464 466 467 469 470 472 473 475 \n",
      "476 478 479 481 482 484 485 487 \n",
      "488 490 491 493 494 496 497 499 \n",
      "500 502 503 505 506 508 509 511 \n",
      "512 514 515 517 518 520 521 523 \n",
      "524 526 527 529 530 532 533 535 \n",
      "536 538 539 541 542 544 545 547 \n",
      "548 550 551 553 554 556 557 559 \n",
      "560 562 563 565 566 568 569 571 \n",
      "572 574 575 577 578 580 581 583 \n",
      "584 586 587 589 590 592 593 595 \n",
      "596 598 599 "
     ]
    }
   ],
   "source": [
    "i = 200\n",
    "count = 0\n",
    "while i < 601:\n",
    "    if i % 3 != 0:\n",
    "        print('%d'%i,end=\" \")\n",
    "        count +=1\n",
    "        if count % 8 == 0 :\n",
    "            print()\n",
    "    i += 1"
   ]
  },
  {
   "cell_type": "code",
   "execution_count": 72,
   "id": "c696fb2c",
   "metadata": {},
   "outputs": [
    {
     "name": "stdout",
     "output_type": "stream",
     "text": [
      "y\n",
      "p\n",
      "p\n",
      "a\n",
      "h\n",
      "\n",
      "y\n",
      "p\n",
      "p\n",
      "a\n",
      "h\n"
     ]
    }
   ],
   "source": [
    "val = \"happy\"\n",
    "for i in range(len(val)-1,-1,-1):\n",
    "    print(val[i])\n",
    "print(\"\")\n",
    "for i in range(-1,-1-len(val),-1):\n",
    "    print(val[i])"
   ]
  },
  {
   "cell_type": "code",
   "execution_count": 107,
   "id": "0870157e",
   "metadata": {},
   "outputs": [
    {
     "data": {
      "text/plain": [
       "[]"
      ]
     },
     "execution_count": 107,
     "metadata": {},
     "output_type": "execute_result"
    }
   ],
   "source": [
    "B"
   ]
  },
  {
   "cell_type": "code",
   "execution_count": 90,
   "id": "59ad3a41",
   "metadata": {},
   "outputs": [],
   "source": [
    "import matplotlib.pyplot as plt #패키지.모듈 as plt로요약 "
   ]
  },
  {
   "cell_type": "code",
   "execution_count": 112,
   "id": "9f44b6e8",
   "metadata": {},
   "outputs": [
    {
     "data": {
      "image/png": "[encoded data removed]",
      "text/plain": [
       "<Figure size 640x480 with 1 Axes>"
      ]
     },
     "metadata": {},
     "output_type": "display_data"
    }
   ],
   "source": [
    "x = [2, 8, 10, 23, 40]\n",
    "y = [10, 18, 20, 18, 32]\n",
    "z = [3, 4, 5]\n",
    "t = [6, 5, 3]\n",
    "plt.title(\"Grape Test\")\n",
    "plt.plot(x,y, marker = 'o', color = \"red\", label = \"good\")\n",
    "plt.scatter(z,t)\n",
    "plt.xlabel(\"x value\")\n",
    "plt.ylabel(\"y value\")\n",
    "plt.legend()\n",
    "plt.show()"
   ]
  },
  {
   "cell_type": "code",
   "execution_count": null,
   "id": "6813e01b",
   "metadata": {},
   "outputs": [],
   "source": []
  }
 ],
 "metadata": {
  "kernelspec": {
   "display_name": "Python 3 (ipykernel)",
   "language": "python",
   "name": "python3"
  },
  "language_info": {
   "codemirror_mode": {
    "name": "ipython",
    "version": 3
   },
   "file_extension": ".py",
   "mimetype": "text/x-python",
   "name": "python",
   "nbconvert_exporter": "python",
   "pygments_lexer": "ipython3",
   "version": "3.10.9"
  }
 },
 "nbformat": 4,
 "nbformat_minor": 5
}
