{
 "cells": [
  {
   "cell_type": "code",
   "execution_count": 1,
   "id": "29117ad9",
   "metadata": {},
   "outputs": [],
   "source": [
    "a = (10, 'love', 3.5)"
   ]
  },
  {
   "cell_type": "code",
   "execution_count": 2,
   "id": "cbc80873",
   "metadata": {},
   "outputs": [
    {
     "name": "stdout",
     "output_type": "stream",
     "text": [
      "<class 'tuple'>\n"
     ]
    }
   ],
   "source": [
    "print(type(a))"
   ]
  },
  {
   "cell_type": "code",
   "execution_count": 3,
   "id": "89c5e620",
   "metadata": {},
   "outputs": [
    {
     "data": {
      "text/plain": [
       "('love', 3.5)"
      ]
     },
     "execution_count": 3,
     "metadata": {},
     "output_type": "execute_result"
    }
   ],
   "source": [
    "a[1:]"
   ]
  },
  {
   "cell_type": "code",
   "execution_count": 62,
   "id": "55f4c728",
   "metadata": {},
   "outputs": [
    {
     "name": "stdout",
     "output_type": "stream",
     "text": [
      "김예진:90\n",
      "박영진:95\n",
      "김소희:84\n",
      "합계 :269, 평균 :89.67 \n"
     ]
    }
   ],
   "source": [
    "scores = {'김예진': 90, '박영진': 95, '김소희': 84}\n",
    "SUM = 0\n",
    "for k,v in scores.items():\n",
    "    SUM += v\n",
    "    print(f\"{k}:{v}\")\n",
    "avg = SUM/len(scores)\n",
    "print(f\"합계 :{SUM}, 평균 :{avg:.2f} \")"
   ]
  },
  {
   "cell_type": "code",
   "execution_count": 78,
   "id": "0f15e579",
   "metadata": {},
   "outputs": [
    {
     "name": "stdout",
     "output_type": "stream",
     "text": [
      "원의 반지름을 입력하세요: 10\n",
      "반지름 : 10, 원의면적 : 314.00\n"
     ]
    }
   ],
   "source": [
    "def circle_area(r):\n",
    "    area = r * r * 3.14\n",
    "    return area\n",
    "\n",
    "radius = int(input(\"원의 반지름을 입력하세요: \"))\n",
    "result = circle_area(radius)\n",
    "print(f\"반지름 : {radius}, 원의면적 : {result:.2f}\")"
   ]
  },
  {
   "cell_type": "code",
   "execution_count": 93,
   "id": "a789f806",
   "metadata": {},
   "outputs": [],
   "source": [
    "def SUM(a,b):\n",
    "    ans = int(a) + int(b)\n",
    "    return f'{a} + {b} = ', ans\n",
    "def SUB(a,b):\n",
    "    ans = int(a) - int(b)\n",
    "    return f'{a} - {b} = ', ans\n",
    "def MUL(a,b):\n",
    "    ans = int(a) * int(b)\n",
    "    return f'{a} * {b} = ', ans\n",
    "def DIV(a,b):\n",
    "    ans = int(a) / int(b)\n",
    "    return f'{a} / {b} = ', f\"{ans:.2f}\"\n",
    "\n",
    "def INPUT():\n",
    "    a = input(\"첫 번째 숫자를 입력하세요 : \")\n",
    "    z = input(\"선택할 연산자를 입력하시오: \")\n",
    "    b = input(\"두 번째 숫자를 입력하세요 : \")\n",
    "    return a,z,b\n",
    "def INPUT_():\n",
    "    a,z,b = input(\"계산할 숫자와 연산자를 입력하시오: \").split()\n",
    "    return a,z,b"
   ]
  },
  {
   "cell_type": "code",
   "execution_count": 95,
   "id": "89855c18",
   "metadata": {},
   "outputs": [
    {
     "name": "stdout",
     "output_type": "stream",
     "text": [
      "계산할 숫자와 연산자를 입력하시오: 2 + 71\n",
      "2 + 71 =  73\n",
      "계속 사용하시겠습니까 Y/N : Y\n",
      "계산할 숫자와 연산자를 입력하시오: 2 * 186\n",
      "2 * 186 =  372\n",
      "계속 사용하시겠습니까 Y/N : Y\n",
      "계산할 숫자와 연산자를 입력하시오: 874 / 54684\n",
      "874 / 54684 =  0.02\n",
      "계속 사용하시겠습니까 Y/N : N\n"
     ]
    }
   ],
   "source": [
    "f = 0\n",
    "while f == 0 :\n",
    "#    a,z,b = INPUT()\n",
    "    a,z,b = INPUT_()\n",
    "    if z == \"+\":\n",
    "        i,j = SUM(a,b)\n",
    "        print(i,j)\n",
    "    elif z == \"-\":\n",
    "        i,j = SUB(a,b)\n",
    "        print(i,j)\n",
    "    elif z == \"*\":\n",
    "        i,j = MUL(a,b)\n",
    "        print(i,j)\n",
    "    elif z == \"/\":\n",
    "        i,j = DIV(a,b)\n",
    "        print(i,j)\n",
    "    else:\n",
    "        print(\"다시 입력해주세요\")\n",
    "    result = input(\"계속 사용하시겠습니까 Y/N : \")\n",
    "    if result == 'Y':\n",
    "        continue\n",
    "    else :\n",
    "        f = 1"
   ]
  },
  {
   "cell_type": "code",
   "execution_count": 94,
   "id": "1d735d6d",
   "metadata": {
    "scrolled": true
   },
   "outputs": [
    {
     "name": "stdout",
     "output_type": "stream",
     "text": [
      "2 + 3 =  5\n",
      "2 - 3 =  -1\n",
      "2 * 3 =  6\n",
      "2 / 3 =  0.67\n"
     ]
    }
   ],
   "source": [
    "mathlist = [SUM(a,b), SUB(a,b), MUL(a,b), DIV(a,b)]\n",
    "for i,j in mathlist:\n",
    "   print(i,j)"
   ]
  },
  {
   "cell_type": "code",
   "execution_count": 103,
   "id": "65f65c16",
   "metadata": {},
   "outputs": [],
   "source": [
    "def SUM1(x,n):\n",
    "    temp = 0\n",
    "    for i in range(x+1,n+1):\n",
    "        temp += i\n",
    "    return temp\n",
    "    \n",
    "    "
   ]
  },
  {
   "cell_type": "code",
   "execution_count": 104,
   "id": "73b803a6",
   "metadata": {},
   "outputs": [
    {
     "name": "stdout",
     "output_type": "stream",
     "text": [
      "시작:100\n",
      "끝:200\n"
     ]
    },
    {
     "data": {
      "text/plain": [
       "15050"
      ]
     },
     "execution_count": 104,
     "metadata": {},
     "output_type": "execute_result"
    }
   ],
   "source": [
    "x = int(input(\"시작:\"))\n",
    "n = int(input(\"끝:\"))\n",
    "s = 0\n",
    "SUM1(x,n)"
   ]
  },
  {
   "cell_type": "code",
   "execution_count": null,
   "id": "9d3aa6ec",
   "metadata": {},
   "outputs": [],
   "source": [
    "for i in range(101,)"
   ]
  },
  {
   "cell_type": "code",
   "execution_count": 97,
   "id": "651b1a2a",
   "metadata": {},
   "outputs": [
    {
     "name": "stdout",
     "output_type": "stream",
     "text": [
      "10\n",
      "1 1\n",
      "2 3\n",
      "3 6\n",
      "4 10\n",
      "5 15\n",
      "6 21\n",
      "7 28\n",
      "8 36\n",
      "9 45\n",
      "10 55\n"
     ]
    }
   ],
   "source": [
    "x = int(input(\"시작:\"))\n",
    "s = 0\n",
    "for i in range(1,x+1):\n",
    "    s += i\n",
    "    print(i,s)"
   ]
  },
  {
   "cell_type": "code",
   "execution_count": null,
   "id": "547e4247",
   "metadata": {},
   "outputs": [],
   "source": []
  }
 ],
 "metadata": {
  "kernelspec": {
   "display_name": "Python 3 (ipykernel)",
   "language": "python",
   "name": "python3"
  },
  "language_info": {
   "codemirror_mode": {
    "name": "ipython",
    "version": 3
   },
   "file_extension": ".py",
   "mimetype": "text/x-python",
   "name": "python",
   "nbconvert_exporter": "python",
   "pygments_lexer": "ipython3",
   "version": "3.10.9"
  }
 },
 "nbformat": 4,
 "nbformat_minor": 5
}
