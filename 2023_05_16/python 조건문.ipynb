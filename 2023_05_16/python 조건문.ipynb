{
 "cells": [
  {
   "cell_type": "markdown",
   "id": "cac3cb91",
   "metadata": {},
   "source": [
    "### Q3-1"
   ]
  },
  {
   "cell_type": "code",
   "execution_count": 2,
   "id": "f68a448b",
   "metadata": {},
   "outputs": [
    {
     "name": "stdout",
     "output_type": "stream",
     "text": [
      "월을 입력하세요 :12\n",
      "12월은 겨울입니다.\n"
     ]
    }
   ],
   "source": [
    "month = int(input(\"월을 입력하세요 :\"))\n",
    "if month >=3 and month <=5:\n",
    "    print(\"%s월은 봄입니다.\"%month)\n",
    "elif month >= 6 and month <=8:\n",
    "    print(\"%s월은 여름입니다.\"%month)\n",
    "elif month >= 9 and month <= 11:\n",
    "    print(\"%s월은 가을입니다.\"%month)\n",
    "else:\n",
    "    print(\"%s월은 겨울입니다.\"%month)"
   ]
  },
  {
   "cell_type": "code",
   "execution_count": null,
   "id": "f5fa40f2",
   "metadata": {},
   "outputs": [],
   "source": []
  }
 ],
 "metadata": {
  "kernelspec": {
   "display_name": "Python 3 (ipykernel)",
   "language": "python",
   "name": "python3"
  },
  "language_info": {
   "codemirror_mode": {
    "name": "ipython",
    "version": 3
   },
   "file_extension": ".py",
   "mimetype": "text/x-python",
   "name": "python",
   "nbconvert_exporter": "python",
   "pygments_lexer": "ipython3",
   "version": "3.10.9"
  }
 },
 "nbformat": 4,
 "nbformat_minor": 5
}
