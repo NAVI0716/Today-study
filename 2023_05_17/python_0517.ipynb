{
 "cells": [
  {
   "cell_type": "code",
   "execution_count": 1,
   "id": "96d5ba31",
   "metadata": {
    "scrolled": true
   },
   "outputs": [
    {
     "name": "stdout",
     "output_type": "stream",
     "text": [
      "i = 1\n",
      "i = 2\n",
      "i = 3\n",
      "i = 4\n",
      "i = 5\n",
      "i = 6\n",
      "i = 7\n",
      "i = 8\n",
      "i = 9\n",
      "i = 10\n"
     ]
    }
   ],
   "source": [
    "for i in range(1,100):\n",
    "    print('i =', i)\n",
    "    if i == 10:\n",
    "        break"
   ]
  },
  {
   "cell_type": "code",
   "execution_count": 1,
   "id": "aec9f3d9",
   "metadata": {
    "scrolled": true
   },
   "outputs": [
    {
     "name": "stdout",
     "output_type": "stream",
     "text": [
      "2\n",
      "2 * 1 = 2\n",
      "2 * 2 = 4\n",
      "2 * 3 = 6\n",
      "2 * 4 = 8\n",
      "2 * 5 = 10\n",
      "2 * 6 = 12\n",
      "2 * 7 = 14\n",
      "2 * 8 = 16\n",
      "2 * 9 = 18\n"
     ]
    }
   ],
   "source": [
    "\n",
    "T = int(input())\n",
    "\n",
    "for i in range(1,10):\n",
    "    print(f\"{T} * {i} = {T*i}\")"
   ]
  },
  {
   "cell_type": "markdown",
   "id": "1c5790cc",
   "metadata": {},
   "source": [
    "### 지역변수 전역변수 함수"
   ]
  },
  {
   "cell_type": "code",
   "execution_count": 2,
   "id": "2583ca1c",
   "metadata": {},
   "outputs": [
    {
     "name": "stdout",
     "output_type": "stream",
     "text": [
      "10\n",
      "10\n",
      "10\n"
     ]
    }
   ],
   "source": [
    "def func():\n",
    "    global a # a 변수를 전역 변수로 사용하겠다 알림\n",
    "    a = 10 # 함수 func의 지역변수\n",
    "    print(a)\n",
    "def func2():\n",
    "    print(a)\n",
    "a = 20 #전역 변수\n",
    "func()\n",
    "func2()\n",
    "print(a)"
   ]
  },
  {
   "cell_type": "markdown",
   "id": "51906ef8",
   "metadata": {},
   "source": [
    "### 파일쓰기"
   ]
  },
  {
   "cell_type": "code",
   "execution_count": 3,
   "id": "33af390a",
   "metadata": {},
   "outputs": [
    {
     "name": "stdout",
     "output_type": "stream",
     "text": [
      "김소영 82 80 93 97 93 88\n",
      "정예린 86 100 93 86 90 77\n",
      "이세영 91 88 99 79 92 68\n",
      "정수정 86 100 93 89 92 93\n",
      "박지수 80 100 95 89 90 84\n",
      "\n"
     ]
    }
   ],
   "source": [
    "scores = ['김소영 82 80 93 97 93 88',\n",
    "'정예린 86 100 93 86 90 77',\n",
    "'이세영 91 88 99 79 92 68',\n",
    "'정수정 86 100 93 89 92 93',\n",
    "'박지수 80 100 95 89 90 84']\n",
    "data = \"\"\n",
    "for item in scores:\n",
    "    data += item+'\\n'\n",
    "print(data)"
   ]
  },
  {
   "cell_type": "code",
   "execution_count": 4,
   "id": "5e19d065",
   "metadata": {},
   "outputs": [],
   "source": [
    "file = open(\"scores.txt\",'w',encoding='utf8')\n",
    "file.write(data)\n",
    "file.close()"
   ]
  },
  {
   "cell_type": "markdown",
   "id": "9678a640",
   "metadata": {},
   "source": [
    "### 파일 읽기"
   ]
  },
  {
   "cell_type": "code",
   "execution_count": 19,
   "id": "9ac614aa",
   "metadata": {},
   "outputs": [
    {
     "name": "stdout",
     "output_type": "stream",
     "text": [
      "scores.txt 파일의 내용 :\n",
      "김소영 82 80 93 97 93 88\n",
      "정예린 86 100 93 86 90 77\n",
      "이세영 91 88 99 79 92 68\n",
      "정수정 86 100 93 89 92 93\n",
      "박지수 80 100 95 89 90 84\n"
     ]
    }
   ],
   "source": [
    "file = open('scores.txt','r',encoding = 'utf8')\n",
    "lines = file.readlines()\n",
    "\n",
    "print('scores.txt 파일의 내용 :')\n",
    "for i in lines:\n",
    "    print(i,end= \"\")\n",
    "file.close()"
   ]
  },
  {
   "cell_type": "code",
   "execution_count": 20,
   "id": "d5dc3bb2",
   "metadata": {},
   "outputs": [
    {
     "name": "stdout",
     "output_type": "stream",
     "text": [
      "김소영 82 80 93 97 93 88\n",
      "정예린 86 100 93 86 90 77\n",
      "이세영 91 88 99 79 92 68\n",
      "정수정 86 100 93 89 92 93\n",
      "박지수 80 100 95 89 90 84\n"
     ]
    }
   ],
   "source": [
    "for i in scores:\n",
    "    print(i)"
   ]
  },
  {
   "cell_type": "code",
   "execution_count": 26,
   "id": "c07d814e",
   "metadata": {},
   "outputs": [
    {
     "name": "stdout",
     "output_type": "stream",
     "text": [
      "박지수 80 100 95 89 90 84\n",
      "정수정 86 100 93 89 92 93\n",
      "이세영 91 88 99 79 92 68\n",
      "정예린 86 100 93 86 90 77\n",
      "김소영 82 80 93 97 93 88\n"
     ]
    }
   ],
   "source": [
    "for i in scores[4::-1]:\n",
    "    print(i)"
   ]
  },
  {
   "cell_type": "code",
   "execution_count": 29,
   "id": "d82f104d",
   "metadata": {},
   "outputs": [
    {
     "name": "stdout",
     "output_type": "stream",
     "text": [
      "박지수 80 100 95 89 90 84\n",
      "정수정 86 100 93 89 92 93\n",
      "이세영 91 88 99 79 92 68\n",
      "정예린 86 100 93 86 90 77\n",
      "김소영 82 80 93 97 93 88\n"
     ]
    }
   ],
   "source": [
    "for i in scores[-1:-6:-1]:\n",
    "    print(i)"
   ]
  },
  {
   "cell_type": "code",
   "execution_count": 39,
   "id": "9136878b",
   "metadata": {},
   "outputs": [],
   "source": [
    "scores = ['아리노 82 80 93 97 93 88',\n",
    "'예린정 86 100 93 86 90 77']\n",
    "data = \"\"\n",
    "for item in scores:\n",
    "    data += item+'\\n'\n",
    "file = open(\"scores.txt\",'a',encoding='utf8') # txt 추가 작성\n",
    "file.write(data)\n",
    "file.close()"
   ]
  },
  {
   "cell_type": "code",
   "execution_count": 44,
   "id": "33074c86",
   "metadata": {},
   "outputs": [
    {
     "name": "stdout",
     "output_type": "stream",
     "text": [
      "김소영 82 80 93 97 93 88\n",
      "정예린 86 100 93 86 90 77\n",
      "이세영 91 88 99 79 92 68\n",
      "정수정 86 100 93 89 92 93\n",
      "박지수 80 100 95 89 90 84\n",
      "아리노 82 80 93 97 93 88\n",
      "예린정 86 100 93 86 90 77\n"
     ]
    }
   ],
   "source": [
    "file = open('scores.txt','r',encoding='utf8')\n",
    "read = file.readlines()\n",
    "for i in read:\n",
    "    print(i,end=\"\")"
   ]
  },
  {
   "cell_type": "code",
   "execution_count": 49,
   "id": "ba4f8d3e",
   "metadata": {},
   "outputs": [
    {
     "name": "stdout",
     "output_type": "stream",
     "text": [
      "오렌지\n",
      "과자\n",
      "어머니\n",
      "형 제\n",
      "파이썬\n"
     ]
    }
   ],
   "source": [
    "eng_dict = {'orange':'오렌지', 'cookie':'과자', 'mother':'어머니', 'brother':'형 제', 'python':'파이썬'} \n",
    "for key in eng_dict.values():\n",
    "    print(key)"
   ]
  },
  {
   "cell_type": "markdown",
   "id": "48232348",
   "metadata": {},
   "source": [
    "### 모듈과 패키지"
   ]
  },
  {
   "cell_type": "code",
   "execution_count": 74,
   "id": "6cf28680",
   "metadata": {},
   "outputs": [],
   "source": [
    "import matplotlib.pyplot as plt # matplotlib 패키지, pyplot plt 모듈\n",
    "# from matplotlib import pyplot as plt as는 모듈명을 간소화시켜서 사용에 편리함을준다.\n",
    "data1 = [1, 2, 4, 6, 7, 9, 12, 25 ,12]\n",
    "data2 = [3, 4, 6, 3, 1, 1, 3, 7, 9]"
   ]
  },
  {
   "cell_type": "code",
   "execution_count": 80,
   "id": "c9a18523",
   "metadata": {},
   "outputs": [
    {
     "data": {
      "image/png": "[encoded data removed]",
      "text/plain": [
       "<Figure size 640x480 with 1 Axes>"
      ]
     },
     "metadata": {},
     "output_type": "display_data"
    }
   ],
   "source": [
    "plt.title(\"graph test\")\n",
    "plt.plot(data1, color='blue', label = 'test',)\n",
    "plt.scatter(data1,data2, color = 'red', label = 'test1')\n",
    "plt.xlabel(\"time\")\n",
    "plt.ylabel(\"cost\")\n",
    "plt.legend()\n",
    "plt.show()"
   ]
  },
  {
   "cell_type": "code",
   "execution_count": 84,
   "id": "b30b16c8",
   "metadata": {},
   "outputs": [
    {
     "name": "stdout",
     "output_type": "stream",
     "text": [
      "{1: 'data', 2: 'data', 3: 'data', 4: 'data', 5: 'data'}\n",
      "1:data\n",
      "2:data\n",
      "3:data\n",
      "4:data\n",
      "5:data\n",
      "1\n"
     ]
    }
   ],
   "source": [
    "dic={}\n",
    "l=dict.fromkeys(([1,2,3,4,5]),\"data\")\n",
    "print(l)\n",
    "for key,data in l.items():#items 키값 벨류 동시에\n",
    "    print(f\"{key}:{data}\")\n",
    "a=[1, 2, 3, 4, 5]\n",
    "x= a.pop(0)\n",
    "print(x)"
   ]
  },
  {
   "cell_type": "code",
   "execution_count": 85,
   "id": "0b97c784",
   "metadata": {},
   "outputs": [
    {
     "data": {
      "text/plain": [
       "[2, 3, 4, 5]"
      ]
     },
     "execution_count": 85,
     "metadata": {},
     "output_type": "execute_result"
    }
   ],
   "source": [
    "a"
   ]
  },
  {
   "cell_type": "code",
   "execution_count": 87,
   "id": "66a08322",
   "metadata": {},
   "outputs": [
    {
     "data": {
      "text/plain": [
       "'test님 안녕하세요.'"
      ]
     },
     "execution_count": 87,
     "metadata": {},
     "output_type": "execute_result"
    }
   ],
   "source": [
    "import greet\n",
    "greet.hello1(\"test\")"
   ]
  },
  {
   "cell_type": "code",
   "execution_count": 92,
   "id": "de2837b2",
   "metadata": {},
   "outputs": [
    {
     "name": "stdout",
     "output_type": "stream",
     "text": [
      "test님 반갑습니다.\n",
      "test님 만나서 반가워요.\n"
     ]
    }
   ],
   "source": [
    "from greet import hello2\n",
    "print(hello2(\"test\"))\n",
    "from greet import hello3\n",
    "print(hello3(\"test\"))"
   ]
  },
  {
   "cell_type": "markdown",
   "id": "e4779260",
   "metadata": {},
   "source": [
    "### 소수 > 반올림, 올림 , 내림"
   ]
  },
  {
   "cell_type": "code",
   "execution_count": 94,
   "id": "6836f8b2",
   "metadata": {},
   "outputs": [],
   "source": [
    "from math import floor\n",
    "from math import ceil"
   ]
  },
  {
   "cell_type": "code",
   "execution_count": 95,
   "id": "d293d529",
   "metadata": {
    "scrolled": true
   },
   "outputs": [
    {
     "name": "stdout",
     "output_type": "stream",
     "text": [
      "7\n",
      "11\n"
     ]
    }
   ],
   "source": [
    "print(floor(7.7))\n",
    "print(ceil(10.1))"
   ]
  },
  {
   "cell_type": "markdown",
   "id": "3e5226a7",
   "metadata": {},
   "source": [
    "###  랜덤함수"
   ]
  },
  {
   "cell_type": "code",
   "execution_count": 109,
   "id": "72ac52a1",
   "metadata": {},
   "outputs": [
    {
     "name": "stdout",
     "output_type": "stream",
     "text": [
      "0.8173182771399783\n"
     ]
    }
   ],
   "source": [
    "import random\n",
    "print(random.random())"
   ]
  },
  {
   "cell_type": "code",
   "execution_count": 106,
   "id": "22fb2846",
   "metadata": {},
   "outputs": [
    {
     "data": {
      "text/plain": [
       "2"
      ]
     },
     "execution_count": 106,
     "metadata": {},
     "output_type": "execute_result"
    }
   ],
   "source": [
    "from random import random\n",
    "a = randint(1,3)\n",
    "a"
   ]
  },
  {
   "cell_type": "code",
   "execution_count": 107,
   "id": "0558bf5f",
   "metadata": {},
   "outputs": [
    {
     "data": {
      "text/plain": [
       "60"
      ]
     },
     "execution_count": 107,
     "metadata": {},
     "output_type": "execute_result"
    }
   ],
   "source": [
    "a = randrange(100)\n",
    "a"
   ]
  },
  {
   "cell_type": "code",
   "execution_count": 112,
   "id": "31e39829",
   "metadata": {},
   "outputs": [
    {
     "name": "stdout",
     "output_type": "stream",
     "text": [
      "3\n"
     ]
    }
   ],
   "source": [
    "data = [1, 2, 3, 4]\n",
    "shu = random.choice(data)\n",
    "print(shu)"
   ]
  },
  {
   "cell_type": "code",
   "execution_count": 115,
   "id": "1e63f576",
   "metadata": {},
   "outputs": [
    {
     "name": "stdout",
     "output_type": "stream",
     "text": [
      "[4, 3, 1, 2]\n"
     ]
    }
   ],
   "source": [
    "data = [1, 2, 3, 4]\n",
    "random.shuffle(data)\n",
    "print(data)"
   ]
  },
  {
   "cell_type": "markdown",
   "id": "ac17949d",
   "metadata": {},
   "source": [
    "### 주사위 게임 만들기"
   ]
  },
  {
   "cell_type": "code",
   "execution_count": null,
   "id": "8e294116",
   "metadata": {},
   "outputs": [],
   "source": [
    "import random\n",
    "source = [1, 2, 3, 4, 5, 6]\n",
    "c= 0\n",
    "while True:\n",
    "    print(\"-\"*14)\n",
    "    c +=1\n",
    "    print(\"주사위 던지기: %d번째\"%c)\n",
    "    my = int(input(\"나:\"))\n",
    "    com = random.choice(source)\n",
    "    print(f\"com: {com}\")\n",
    "    if my > com:\n",
    "        print(\"승리\")\n",
    "    elif my == com :\n",
    "        print(\"무승부\")\n",
    "    else:\n",
    "        print(\"패배\")\n",
    "    play = input(\"계속하려면 y를 입력하세요!\")\n",
    "    if play == 'y':\n",
    "        continue\n",
    "    else:\n",
    "        break"
   ]
  },
  {
   "cell_type": "markdown",
   "id": "3b4f1ec7",
   "metadata": {},
   "source": [
    "### class 객체지향"
   ]
  },
  {
   "cell_type": "code",
   "execution_count": 147,
   "id": "b4f7727a",
   "metadata": {},
   "outputs": [],
   "source": [
    "class Member :\n",
    "    def __init__(self, name, age, balance) :\n",
    "        self.name = name\n",
    "        self.age = age\n",
    "        self.balance = balance\n",
    "        self.money = 0\n",
    "        \n",
    "    def showMember(self) :\n",
    "        print('이름 : %s' % self.name)\n",
    "        print('나이 : %d' % self.age)\n",
    "        print('잔고 : %d' % self.balance)\n",
    "        print(\"-*-\"*20)\n",
    "    \n",
    "    def deposit(self, name, money):\n",
    "        self.balance = self.balance + money\n",
    "        print('잔고: %d' % self.balance)"
   ]
  },
  {
   "cell_type": "code",
   "execution_count": 150,
   "id": "121e3c6d",
   "metadata": {},
   "outputs": [],
   "source": [
    "mam1 = Member('홍지수', 24, 20000)\n",
    "mam2 = Member('홍길동', 15, 2520000)"
   ]
  },
  {
   "cell_type": "code",
   "execution_count": 151,
   "id": "0c261f7a",
   "metadata": {},
   "outputs": [
    {
     "name": "stdout",
     "output_type": "stream",
     "text": [
      "이름 : 홍지수\n",
      "나이 : 24\n",
      "잔고 : 20000\n",
      "-*--*--*--*--*--*--*--*--*--*--*--*--*--*--*--*--*--*--*--*-\n"
     ]
    }
   ],
   "source": [
    "mam1.showMember()"
   ]
  },
  {
   "cell_type": "code",
   "execution_count": 152,
   "id": "c2c65dbb",
   "metadata": {},
   "outputs": [
    {
     "name": "stdout",
     "output_type": "stream",
     "text": [
      "이름 : 홍길동\n",
      "나이 : 15\n",
      "잔고 : 2520000\n",
      "-*--*--*--*--*--*--*--*--*--*--*--*--*--*--*--*--*--*--*--*-\n"
     ]
    }
   ],
   "source": [
    "mam2.showMember()"
   ]
  },
  {
   "cell_type": "code",
   "execution_count": 153,
   "id": "c4df9a51",
   "metadata": {},
   "outputs": [
    {
     "name": "stdout",
     "output_type": "stream",
     "text": [
      "잔고: 2520020\n"
     ]
    }
   ],
   "source": [
    "mam2.deposit('홍길동',20)"
   ]
  },
  {
   "cell_type": "code",
   "execution_count": null,
   "id": "98f11ab9",
   "metadata": {},
   "outputs": [],
   "source": []
  }
 ],
 "metadata": {
  "kernelspec": {
   "display_name": "Python 3 (ipykernel)",
   "language": "python",
   "name": "python3"
  },
  "language_info": {
   "codemirror_mode": {
    "name": "ipython",
    "version": 3
   },
   "file_extension": ".py",
   "mimetype": "text/x-python",
   "name": "python",
   "nbconvert_exporter": "python",
   "pygments_lexer": "ipython3",
   "version": "3.10.9"
  }
 },
 "nbformat": 4,
 "nbformat_minor": 5
}
