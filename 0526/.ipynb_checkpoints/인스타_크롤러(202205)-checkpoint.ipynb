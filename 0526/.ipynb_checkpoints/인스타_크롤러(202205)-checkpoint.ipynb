{
 "cells": [
  {
   "cell_type": "code",
   "execution_count": 1,
   "metadata": {},
   "outputs": [],
   "source": [
    "import pandas as pd\n",
    "import numpy as np\n",
    "\n",
    "# 라이브러리 import\n",
    "# 라이브러리 : 필요한 도구\n",
    "from selenium import webdriver  # 라이브러리(모듈) 가져오라\n",
    "from selenium.webdriver import ActionChains as AC\n",
    "import chromedriver_autoinstaller\n",
    "from tqdm import tqdm\n",
    "from tqdm import tqdm_notebook\n",
    "import re\n",
    "from time import sleep\n",
    "import time\n",
    "\n",
    "# 워닝 무시\n",
    "import warnings\n",
    "warnings.filterwarnings('ignore')"
   ]
  },
  {
   "cell_type": "markdown",
   "metadata": {},
   "source": [
    "## (테스트용)크롤링 연구"
   ]
  },
  {
   "cell_type": "code",
   "execution_count": 18,
   "metadata": {},
   "outputs": [
    {
     "data": {
      "text/plain": [
       "'역삼맛집'"
      ]
     },
     "execution_count": 18,
     "metadata": {},
     "output_type": "execute_result"
    }
   ],
   "source": [
    "# 데이터 수집할 키워드 지정\n",
    "keyword = \"역삼맛집\"\n",
    "keyword"
   ]
  },
  {
   "cell_type": "code",
   "execution_count": 20,
   "metadata": {},
   "outputs": [
    {
     "data": {
      "text/plain": [
       "'https://www.instagram.com/explore/tags/역삼맛집/'"
      ]
     },
     "execution_count": 20,
     "metadata": {},
     "output_type": "execute_result"
    }
   ],
   "source": [
    "# url에 검색 'keyword' 입력\n",
    "url = \"https://www.instagram.com/explore/tags/{}/\".format(keyword)\n",
    "\n",
    "chrome_path = chromedriver_autoinstaller.install()\n",
    "driver = webdriver.Chrome(chrome_path)\n",
    "driver.get(url)"
   ]
  },
  {
   "cell_type": "raw",
   "metadata": {},
   "source": [
    "수동 로그인 "
   ]
  },
  {
   "cell_type": "code",
   "execution_count": 34,
   "metadata": {},
   "outputs": [],
   "source": [
    "# 첫번째 사진 클릭\n",
    "CSS_tran=\".eLAPa\"\n",
    "elements = driver.find_elements_by_css_selector(CSS_tran)   # 사진 클릭\n",
    "elements[0].click()"
   ]
  },
  {
   "cell_type": "code",
   "execution_count": 77,
   "metadata": {},
   "outputs": [
    {
     "data": {
      "text/plain": [
       "'https://scontent-ssn1-1.cdninstagram.com/v/t51.2885-15/281485136_557305262648045_648122144341796259_n.jpg?stp=dst-jpg_e35&_nc_ht=scontent-ssn1-1.cdninstagram.com&_nc_cat=105&_nc_ohc=r_ivB3IutT8AX8_8VLy&edm=ALQROFkBAAAA&ccb=7-5&ig_cache_key=Mjg0MTY1MTY3NTg3MTAxMDY0Ng%3D%3D.2-ccb7-5&oh=00_AT_pjDvGKFqBs7MeqUcqYPk2LL-MZ3Ccu28AMxeotWK5GQ&oe=6295DF71&_nc_sid=30a2ef'"
      ]
     },
     "execution_count": 77,
     "metadata": {},
     "output_type": "execute_result"
    }
   ],
   "source": [
    "# 사진(pic) 크롤링\n",
    "overlays1 = \".eLAPa.RzuR0 .FFVAD\"                   # 사진창 속 사진   \n",
    "img = driver.find_element_by_css_selector(overlays1)    # 사진 선택\n",
    "img                          # 사진 url 크롤링 완료\n",
    "\n",
    "pic = img.get_attribute('src')                          # 사진 url 크롤링 완료\n",
    "pic"
   ]
  },
  {
   "cell_type": "code",
   "execution_count": 38,
   "metadata": {},
   "outputs": [
    {
     "data": {
      "text/plain": [
       "'2022년 5월 19일'"
      ]
     },
     "execution_count": 38,
     "metadata": {},
     "output_type": "execute_result"
    }
   ],
   "source": [
    "# 날짜(date) 크롤링\n",
    "overlays2 = \"._1o9PC\"                  # 날짜 지정\n",
    "datum2 = driver.find_element_by_css_selector(overlays2)     # 날짜 선택\n",
    "datum2.get_attribute('title')"
   ]
  },
  {
   "cell_type": "code",
   "execution_count": 39,
   "metadata": {},
   "outputs": [
    {
     "data": {
      "text/plain": [
       "'좋아요 2,263개'"
      ]
     },
     "execution_count": 39,
     "metadata": {},
     "output_type": "execute_result"
    }
   ],
   "source": [
    "# 좋아요(like) 크롤링\n",
    "overlays3 = \"._7UhW9.xLCgt.qyrsm.KV-D4.fDxYl.T0kll\"                                        # 리뷰창 속 날짜\n",
    "datum3 = driver.find_element_by_css_selector(overlays3)     # 리뷰 선택\n",
    "like = datum3.text                                          # 좋아요 크롤링 완료\n",
    "like"
   ]
  },
  {
   "cell_type": "code",
   "execution_count": 40,
   "metadata": {},
   "outputs": [
    {
     "data": {
      "text/plain": [
       "'#압구정로데오'"
      ]
     },
     "execution_count": 40,
     "metadata": {},
     "output_type": "execute_result"
    }
   ],
   "source": [
    "# 해시태그(tag) 크롤링\n",
    "overlays4 = \".xil3i\"                                         \n",
    "datum3 = driver.find_elements_by_css_selector(overlays4)    # 태그 선택\n",
    "datum3[0].text"
   ]
  },
  {
   "cell_type": "code",
   "execution_count": 41,
   "metadata": {},
   "outputs": [
    {
     "data": {
      "text/plain": [
       "['#압구정로데오',\n",
       " '#화춘옥',\n",
       " '#쎄럽_강남',\n",
       " '#도산공원맛집',\n",
       " '#청담맛집',\n",
       " '#압구정로데오맛집',\n",
       " '#강남맛집',\n",
       " '#압구정맛집',\n",
       " '#압구정역맛집',\n",
       " '#강남역맛집',\n",
       " '#강남맛집',\n",
       " '#강남회식',\n",
       " '#강남역회식',\n",
       " '#청담역맛집',\n",
       " '#강남데이트',\n",
       " '#기념일맛집']"
      ]
     },
     "execution_count": 41,
     "metadata": {},
     "output_type": "execute_result"
    }
   ],
   "source": [
    "tag_list = []\n",
    "for i in range(len(datum3)):\n",
    "    tag_list.append(datum3[i].text)\n",
    "tag_list"
   ]
  },
  {
   "cell_type": "code",
   "execution_count": 63,
   "metadata": {
    "scrolled": false
   },
   "outputs": [],
   "source": [
    "# 다음장 클릭\n",
    "CSS_tran2=\"body > div.RnEpo._Yhr4 > div.Z2Inc._7c9RR > div > div.l8mY4.feth3 > button > div > span > svg\"          \n",
    "driver.find_element_by_css_selector(CSS_tran2).click()  # 다음 버튼 find"
   ]
  },
  {
   "cell_type": "code",
   "execution_count": null,
   "metadata": {},
   "outputs": [],
   "source": []
  },
  {
   "cell_type": "code",
   "execution_count": null,
   "metadata": {},
   "outputs": [],
   "source": []
  },
  {
   "cell_type": "markdown",
   "metadata": {},
   "source": [
    "# for문으로 인스타그램 크롤링 시작!"
   ]
  },
  {
   "cell_type": "code",
   "execution_count": 64,
   "metadata": {},
   "outputs": [],
   "source": [
    "# 데이터 수집할 키워드 지정\n",
    "keyword = \"역삼맛집\"\n",
    "len_insta = 20  # 몇 개의 게시글을 수집할 것인가"
   ]
  },
  {
   "cell_type": "code",
   "execution_count": 65,
   "metadata": {},
   "outputs": [],
   "source": [
    "# url에 검색 'keyword' 입력\n",
    "url = \"https://www.instagram.com/explore/tags/{}/\".format(keyword)\n",
    "\n",
    "chrome_path = chromedriver_autoinstaller.install()\n",
    "driver = webdriver.Chrome(chrome_path)\n",
    "driver.get(url)"
   ]
  },
  {
   "cell_type": "raw",
   "metadata": {},
   "source": [
    "수동 로그인"
   ]
  },
  {
   "cell_type": "code",
   "execution_count": 87,
   "metadata": {
    "scrolled": true
   },
   "outputs": [
    {
     "data": {
      "application/vnd.jupyter.widget-view+json": {
       "model_id": "1266f3544eac4f2bba567fe09686339e",
       "version_major": 2,
       "version_minor": 0
      },
      "text/plain": [
       "  0%|          | 0/20 [00:00<?, ?it/s]"
      ]
     },
     "metadata": {},
     "output_type": "display_data"
    },
    {
     "name": "stdout",
     "output_type": "stream",
     "text": [
      "0 ['#압구정로데오', '#화춘옥', '#쎄럽_강남', '#도산공원맛집', '#청담맛집', '#압구정로데오맛집', '#강남맛집', '#압구정맛집', '#압구정역맛집', '#강남역맛집', '#강남맛집', '#강남회식', '#강남역회식', '#청담역맛집', '#강남데이트', '#기념일맛집']\n",
      "1 ['#강남역맛집', '#강남맛집', '#역삼맛집', '#강남역술집', '#강남술집', '#역삼술집', '#직장인맛집', '#직장인술집', '#먹스타그램', '#맛스타그램', '#술스타그램', '#맥주맛집', '#랭맥', '#강남역랭맥', '#맛쨍이_강남']\n",
      "2 ['#강남구재영', '#강남구맛집', '#역삼동재영', '#역삼동맛집', '#소고기재영', '#소고기맛집', '#동화고옥재영', '#동화고옥', '#역삼맛집', '#소고기오마카세재영', '#소고기오마카세맛집', '#소고기오마카세', '#강남N타워맛집', '#동화고옥강남N점']\n",
      "3 ['#광고', '#사위식당', '#사위식당여의도점', '#낙곱새맛집', '#낙곱새', '#마라낙곱새', '#여의도맛집', '#더현대맛집', '#영등포맛집', '#ifc몰맛집', '#여의도한강공원맛집', '#판교맛집', '#목동맛집', '#일산맛집', '#성수맛집', '#역삼맛집', '#광교맛집', '#기슐랭영등포구']\n",
      "4 ['#아먹_강남', '#다몽집', '#신논현역맛집', '#논현맛집', '#신논현맛집', '#강남역맛집', '#강남맛집', '#먹스타그램', '#서울맛집추천', '#서울고기맛집', '#역삼맛집', '#역삼동맛집', '#고기스타그램']\n",
      "6 ['#해안사골순댓국', '#제임스_역삼', '#역삼동맛집', '#순대스테이크', '#먹스타그램', '#내돈내먹']\n",
      "10 ['#강남역맛집', '#역삼맛집', '#서초맛집', '#하남맛집', '#미사맛집', '#강동구맛집', '#천호맛집', '#을지로맛집', '#힙지로', '#서울숲맛집', '#강릉맛집', '#부산맛집', '#대구맛집', '#일산맛집', '#데이트룩']\n",
      "11 []\n",
      "13 ['#강남역맛집', '#역삼맛집', '#서초맛집', '#하남맛집', '#미사맛집', '#강동구맛집', '#천호맛집', '#을지로맛집', '#힙지로', '#서울숲맛집', '#강릉맛집', '#부산맛집', '#대구맛집', '#일산맛집', '#데이트룩']\n",
      "14 ['#강남역맛집', '#역삼맛집', '#서초맛집', '#하남맛집', '#미사맛집', '#강동구맛집', '#천호맛집', '#을지로맛집', '#힙지로', '#서울숲맛집', '#강릉맛집', '#부산맛집', '#대구맛집', '#일산맛집', '#데이트룩']\n",
      "{0: {'picture': 'https://scontent-ssn1-1.cdninstagram.com/v/t51.2885-15/283782926_518006860056096_461147366964775125_n.webp?stp=dst-jpg_e35&_nc_ht=scontent-ssn1-1.cdninstagram.com&_nc_cat=100&_nc_ohc=dVylTDfufZ4AX94ec-1&tn=w6-YUoZ1HahtecxY&edm=ALQROFkBAAAA&ccb=7-5&ig_cache_key=Mjg0NTIxMjk5NDI5MTgzNDc1OA%3D%3D.2-ccb7-5&oh=00_AT_nEF5AJrlO7WT5JOKh1Se25ldaW98Iec-p1GKjOw-QLw&oe=629554A9&_nc_sid=30a2ef', 'date': '2022년 5월 24일', 'like': '좋아요 3,676개', 'tag': ['#압구정로데오', '#화춘옥', '#쎄럽_강남', '#도산공원맛집', '#청담맛집', '#압구정로데오맛집', '#강남맛집', '#압구정맛집', '#압구정역맛집', '#강남역맛집', '#강남맛집', '#강남회식', '#강남역회식', '#청담역맛집', '#강남데이트', '#기념일맛집']}, 1: {'picture': 'https://scontent-ssn1-1.cdninstagram.com/v/t51.2885-15/281485136_557305262648045_648122144341796259_n.jpg?stp=dst-jpg_e35&_nc_ht=scontent-ssn1-1.cdninstagram.com&_nc_cat=105&_nc_ohc=r_ivB3IutT8AX8_8VLy&edm=ALQROFkBAAAA&ccb=7-5&ig_cache_key=Mjg0MTY1MTY3NTg3MTAxMDY0Ng%3D%3D.2-ccb7-5&oh=00_AT_pjDvGKFqBs7MeqUcqYPk2LL-MZ3Ccu28AMxeotWK5GQ&oe=6295DF71&_nc_sid=30a2ef', 'date': '2022년 5월 19일', 'like': '좋아요 15,640개', 'tag': ['#강남역맛집', '#강남맛집', '#역삼맛집', '#강남역술집', '#강남술집', '#역삼술집', '#직장인맛집', '#직장인술집', '#먹스타그램', '#맛스타그램', '#술스타그램', '#맥주맛집', '#랭맥', '#강남역랭맥', '#맛쨍이_강남']}, 2: {'picture': 'https://scontent-ssn1-1.cdninstagram.com/v/t51.2885-15/283916575_564307408413937_8510200023915678219_n.jpg?stp=dst-jpg_e35&_nc_ht=scontent-ssn1-1.cdninstagram.com&_nc_cat=101&_nc_ohc=fQNkRKxW2HgAX9goopr&edm=ALQROFkBAAAA&ccb=7-5&ig_cache_key=Mjg0NTYxNzExNDEzODgyNDkzNA%3D%3D.2-ccb7-5&oh=00_AT_FJYhHqqREFwU6FekYPvubaMXNTkV6OgsYhcXqBb42aw&oe=6294BDE7&_nc_sid=30a2ef', 'date': '2022년 5월 25일', 'like': '좋아요 541개', 'tag': ['#강남구재영', '#강남구맛집', '#역삼동재영', '#역삼동맛집', '#소고기재영', '#소고기맛집', '#동화고옥재영', '#동화고옥', '#역삼맛집', '#소고기오마카세재영', '#소고기오마카세맛집', '#소고기오마카세', '#강남N타워맛집', '#동화고옥강남N점']}, 3: {'picture': 'https://scontent-ssn1-1.cdninstagram.com/v/t51.2885-15/283052489_551642092969191_3454694349222433626_n.jpg?stp=dst-jpg_e35&_nc_ht=scontent-ssn1-1.cdninstagram.com&_nc_cat=103&_nc_ohc=rsQ5SblQTX0AX_Zd0vx&edm=ALQROFkBAAAA&ccb=7-5&ig_cache_key=Mjg0NTE0NzQ3MjYwMjY5MTU4NQ%3D%3D.2-ccb7-5&oh=00_AT9uO-DhonL5tPRvVLAaZC5GV5fwyNop47SIr4ZaJ4sjXA&oe=62952764&_nc_sid=30a2ef', 'date': '2022년 5월 24일', 'like': '좋아요 1,489개', 'tag': ['#광고', '#사위식당', '#사위식당여의도점', '#낙곱새맛집', '#낙곱새', '#마라낙곱새', '#여의도맛집', '#더현대맛집', '#영등포맛집', '#ifc몰맛집', '#여의도한강공원맛집', '#판교맛집', '#목동맛집', '#일산맛집', '#성수맛집', '#역삼맛집', '#광교맛집', '#기슐랭영등포구']}, 4: {'picture': 'https://scontent-ssn1-1.cdninstagram.com/v/t51.2885-15/283358589_119646883904485_546392361479688709_n.jpg?stp=dst-jpg_e35&_nc_ht=scontent-ssn1-1.cdninstagram.com&_nc_cat=101&_nc_ohc=dxgAsPDOcnEAX-69oHP&edm=ALQROFkBAAAA&ccb=7-5&ig_cache_key=Mjg0NTIyNDU2MzQxNDMwNjQ0NA%3D%3D.2-ccb7-5&oh=00_AT8lWxtjNdhu5N-hd3tSRIPAhCvdrNhpS1WQLCZcFuvudw&oe=629589F5&_nc_sid=30a2ef', 'date': '2022년 5월 24일', 'like': '좋아요 841개', 'tag': ['#아먹_강남', '#다몽집', '#신논현역맛집', '#논현맛집', '#신논현맛집', '#강남역맛집', '#강남맛집', '#먹스타그램', '#서울맛집추천', '#서울고기맛집', '#역삼맛집', '#역삼동맛집', '#고기스타그램']}, 6: {'picture': 'https://scontent-ssn1-1.cdninstagram.com/v/t51.2885-15/281905034_168846175583454_785477765216053969_n.jpg?stp=dst-jpg_e35&_nc_ht=scontent-ssn1-1.cdninstagram.com&_nc_cat=106&_nc_ohc=MDBBI8diPk8AX_yRsaw&tn=w6-YUoZ1HahtecxY&edm=ALQROFkBAAAA&ccb=7-5&ig_cache_key=Mjg0MjcwNjMzNzU3ODAzNDUwMw%3D%3D.2-ccb7-5&oh=00_AT9v2NEcxNLgwFFMiquMMkeGO06YuNDzY_ins9X_pofMzg&oe=6295696E&_nc_sid=30a2ef', 'date': '2022년 5월 21일', 'like': '좋아요 1,677개', 'tag': ['#해안사골순댓국', '#제임스_역삼', '#역삼동맛집', '#순대스테이크', '#먹스타그램', '#내돈내먹']}, 10: {'picture': 'https://scontent-ssn1-1.cdninstagram.com/v/t51.2885-15/283922294_701631464431420_607820259392037540_n.webp?stp=dst-jpg_e35&_nc_ht=scontent-ssn1-1.cdninstagram.com&_nc_cat=104&_nc_ohc=VkrawWW4cvcAX9tVy44&tn=w6-YUoZ1HahtecxY&edm=ALQROFkBAAAA&ccb=7-5&ig_cache_key=Mjg0NjI3MjAxNzczNTA5MzE2MA%3D%3D.2-ccb7-5&oh=00_AT-Bq_2lSte3fUVkEKYHgVaEwNw3PQ5qjWPGMl4gzvIXYQ&oe=6296624E&_nc_sid=30a2ef', 'date': '2022년 5월 26일', 'like': '좋아요 1개', 'tag': ['#강남역맛집', '#역삼맛집', '#서초맛집', '#하남맛집', '#미사맛집', '#강동구맛집', '#천호맛집', '#을지로맛집', '#힙지로', '#서울숲맛집', '#강릉맛집', '#부산맛집', '#대구맛집', '#일산맛집', '#데이트룩']}, 11: {'picture': 'https://scontent-ssn1-1.cdninstagram.com/v/t51.2885-15/283698261_422851539345207_3852584438391286139_n.webp?stp=dst-jpg_e35&_nc_ht=scontent-ssn1-1.cdninstagram.com&_nc_cat=103&_nc_ohc=f6v2t_GzH9MAX_ylt_s&edm=ALQROFkBAAAA&ccb=7-5&ig_cache_key=Mjg0NjI3MTUwMDMyNTgxMDY5Mw%3D%3D.2-ccb7-5&oh=00_AT9kJUqQ3SYimdlvqBUEJ_4PHQ5LDsqqMr3__lBMfeQGpQ&oe=6295D512&_nc_sid=30a2ef', 'date': '2022년 5월 26일', 'like': '좋아요 1개', 'tag': []}, 13: {'picture': 'https://scontent-ssn1-1.cdninstagram.com/v/t51.2885-15/283956127_5782320201782362_6080583640758676618_n.webp?stp=dst-jpg_e35&_nc_ht=scontent-ssn1-1.cdninstagram.com&_nc_cat=110&_nc_ohc=0-5bkVd4rrgAX-5uIOT&edm=ALQROFkBAAAA&ccb=7-5&ig_cache_key=Mjg0NjI3MTE0OTU0NzkyNjMwNw%3D%3D.2-ccb7-5&oh=00_AT_If3rQlZhwaRqfpsOi1Zia6FnvNUhSEdGzvkwOxsyy1Q&oe=62959515&_nc_sid=30a2ef', 'date': '2022년 5월 26일', 'like': '좋아요 2개', 'tag': ['#강남역맛집', '#역삼맛집', '#서초맛집', '#하남맛집', '#미사맛집', '#강동구맛집', '#천호맛집', '#을지로맛집', '#힙지로', '#서울숲맛집', '#강릉맛집', '#부산맛집', '#대구맛집', '#일산맛집', '#데이트룩']}, 14: {'picture': 'https://scontent-ssn1-1.cdninstagram.com/v/t51.2885-15/284032867_378560004290859_4735127509612087857_n.webp?stp=dst-jpg_e35&_nc_ht=scontent-ssn1-1.cdninstagram.com&_nc_cat=103&_nc_ohc=VUuJltPpTxsAX_KwT9Q&edm=ALQROFkBAAAA&ccb=7-5&ig_cache_key=Mjg0NjI2NTk2NTM2MjkxNTAwOA%3D%3D.2-ccb7-5&oh=00_AT_fXLIOqxt0UEXKe3ipOaQBpqG8w_UCO4pIEEIJfHOaKw&oe=6296343E&_nc_sid=30a2ef', 'date': '2022년 5월 26일', 'like': '좋아요 1개', 'tag': ['#강남역맛집', '#역삼맛집', '#서초맛집', '#하남맛집', '#미사맛집', '#강동구맛집', '#천호맛집', '#을지로맛집', '#힙지로', '#서울숲맛집', '#강릉맛집', '#부산맛집', '#대구맛집', '#일산맛집', '#데이트룩']}}\n"
     ]
    }
   ],
   "source": [
    "dict = {}  # 전체 게시글을 담을 그릇\n",
    "\n",
    "# 첫번째 사진 클릭\n",
    "CSS_tran=\".eLAPa\"\n",
    "elements = driver.find_elements_by_css_selector(CSS_tran)   # 사진 클릭\n",
    "elements[0].click()\n",
    "time.sleep(2)\n",
    "\n",
    "# 크롤링 시작\n",
    "for j in tqdm_notebook(range(0, len_insta)):    \n",
    "\n",
    "    target_info = {}                                            # 사진별 데이터를 담을 딕셔너리 생성\n",
    "\n",
    "    try:    # 크롤링을 시도해라.\n",
    "        # 사진(pic) 크롤링\n",
    "        overlays1 = \".eLAPa.RzuR0 .FFVAD\"                   # 사진창 속 사진   \n",
    "        img = driver.find_element_by_css_selector(overlays1)    # 사진 선택\n",
    "        pic = img.get_attribute('src')                          # 사진 url 크롤링 완료\n",
    "        target_info['picture'] = pic\n",
    "\n",
    "        # 날짜(date) 크롤링\n",
    "        overlays2 = \"._1o9PC\"                # 날짜 지정\n",
    "        datum2 = driver.find_element_by_css_selector(overlays2)     # 날짜 선택\n",
    "        date = datum2.get_attribute('title')\n",
    "        target_info['date'] = date\n",
    "\n",
    "        # 좋아요(like) 크롤링\n",
    "        overlays3 = \"._7UhW9.xLCgt.qyrsm.KV-D4.fDxYl.T0kll\"                                        # 리뷰창 속 날짜\n",
    "        datum3 = driver.find_element_by_css_selector(overlays3)     # 리뷰 선택\n",
    "        like = datum3.text                                          # 좋아요 크롤링 완료\n",
    "        target_info['like'] = like\n",
    "\n",
    "        # 해시태그(tag) 크롤링\n",
    "        overlays4 = \".xil3i\"                                         \n",
    "        datum3 = driver.find_elements_by_css_selector(overlays4)    # 태그 선택\n",
    "        tag_list = []\n",
    "        for i in range(len(datum3)):\n",
    "            tag_list.append(datum3[i].text)\n",
    "        target_info['tag'] = tag_list\n",
    "\n",
    "        dict[j] = target_info            # 토탈 딕셔너리로 만들기\n",
    "\n",
    "        print(j, tag_list)\n",
    "\n",
    "        # 다음장 클릭\n",
    "        CSS_tran2=\"body > div.RnEpo._Yhr4 > div.Z2Inc._7c9RR > div > div.l8mY4.feth3 > button > div > span > svg\"             # 다음 버튼 정의\n",
    "        tran_button2 = driver.find_element_by_css_selector(CSS_tran2)  # 다음 버튼 find\n",
    "        AC(driver).move_to_element(tran_button2).click().perform()     # 다음 버튼 클릭\n",
    "        time.sleep(3)\n",
    "\n",
    "    except:  # 에러가 나면 다음장을 클릭해라\n",
    "        # 다음장 클릭\n",
    "        CSS_tran2=\"body > div.RnEpo._Yhr4 > div.Z2Inc._7c9RR > div > div.l8mY4.feth3 > button > div > span > svg\"             # 다음 버튼 정의\n",
    "        tran_button2 = driver.find_element_by_css_selector(CSS_tran2)  # 다음 버튼 find\n",
    "        AC(driver).move_to_element(tran_button2).click().perform()     # 다음 버튼 클릭\n",
    "\n",
    "        time.sleep(3)\n",
    "\n",
    "print(dict)"
   ]
  },
  {
   "cell_type": "code",
   "execution_count": 88,
   "metadata": {
    "scrolled": false
   },
   "outputs": [
    {
     "name": "stdout",
     "output_type": "stream",
     "text": [
      "(10, 4)\n"
     ]
    },
    {
     "data": {
      "text/html": [
       "<div>\n",
       "<style scoped>\n",
       "    .dataframe tbody tr th:only-of-type {\n",
       "        vertical-align: middle;\n",
       "    }\n",
       "\n",
       "    .dataframe tbody tr th {\n",
       "        vertical-align: top;\n",
       "    }\n",
       "\n",
       "    .dataframe thead th {\n",
       "        text-align: right;\n",
       "    }\n",
       "</style>\n",
       "<table border=\"1\" class=\"dataframe\">\n",
       "  <thead>\n",
       "    <tr style=\"text-align: right;\">\n",
       "      <th></th>\n",
       "      <th>picture</th>\n",
       "      <th>date</th>\n",
       "      <th>like</th>\n",
       "      <th>tag</th>\n",
       "    </tr>\n",
       "  </thead>\n",
       "  <tbody>\n",
       "    <tr>\n",
       "      <th>0</th>\n",
       "      <td>https://scontent-ssn1-1.cdninstagram.com/v/t51...</td>\n",
       "      <td>2022년 5월 24일</td>\n",
       "      <td>좋아요 3,676개</td>\n",
       "      <td>[#압구정로데오, #화춘옥, #쎄럽_강남, #도산공원맛집, #청담맛집, #압구정로데...</td>\n",
       "    </tr>\n",
       "    <tr>\n",
       "      <th>1</th>\n",
       "      <td>https://scontent-ssn1-1.cdninstagram.com/v/t51...</td>\n",
       "      <td>2022년 5월 19일</td>\n",
       "      <td>좋아요 15,640개</td>\n",
       "      <td>[#강남역맛집, #강남맛집, #역삼맛집, #강남역술집, #강남술집, #역삼술집, #...</td>\n",
       "    </tr>\n",
       "    <tr>\n",
       "      <th>2</th>\n",
       "      <td>https://scontent-ssn1-1.cdninstagram.com/v/t51...</td>\n",
       "      <td>2022년 5월 25일</td>\n",
       "      <td>좋아요 541개</td>\n",
       "      <td>[#강남구재영, #강남구맛집, #역삼동재영, #역삼동맛집, #소고기재영, #소고기맛...</td>\n",
       "    </tr>\n",
       "    <tr>\n",
       "      <th>3</th>\n",
       "      <td>https://scontent-ssn1-1.cdninstagram.com/v/t51...</td>\n",
       "      <td>2022년 5월 24일</td>\n",
       "      <td>좋아요 1,489개</td>\n",
       "      <td>[#광고, #사위식당, #사위식당여의도점, #낙곱새맛집, #낙곱새, #마라낙곱새, ...</td>\n",
       "    </tr>\n",
       "    <tr>\n",
       "      <th>4</th>\n",
       "      <td>https://scontent-ssn1-1.cdninstagram.com/v/t51...</td>\n",
       "      <td>2022년 5월 24일</td>\n",
       "      <td>좋아요 841개</td>\n",
       "      <td>[#아먹_강남, #다몽집, #신논현역맛집, #논현맛집, #신논현맛집, #강남역맛집,...</td>\n",
       "    </tr>\n",
       "    <tr>\n",
       "      <th>6</th>\n",
       "      <td>https://scontent-ssn1-1.cdninstagram.com/v/t51...</td>\n",
       "      <td>2022년 5월 21일</td>\n",
       "      <td>좋아요 1,677개</td>\n",
       "      <td>[#해안사골순댓국, #제임스_역삼, #역삼동맛집, #순대스테이크, #먹스타그램, #...</td>\n",
       "    </tr>\n",
       "    <tr>\n",
       "      <th>10</th>\n",
       "      <td>https://scontent-ssn1-1.cdninstagram.com/v/t51...</td>\n",
       "      <td>2022년 5월 26일</td>\n",
       "      <td>좋아요 1개</td>\n",
       "      <td>[#강남역맛집, #역삼맛집, #서초맛집, #하남맛집, #미사맛집, #강동구맛집, #...</td>\n",
       "    </tr>\n",
       "    <tr>\n",
       "      <th>11</th>\n",
       "      <td>https://scontent-ssn1-1.cdninstagram.com/v/t51...</td>\n",
       "      <td>2022년 5월 26일</td>\n",
       "      <td>좋아요 1개</td>\n",
       "      <td>[]</td>\n",
       "    </tr>\n",
       "    <tr>\n",
       "      <th>13</th>\n",
       "      <td>https://scontent-ssn1-1.cdninstagram.com/v/t51...</td>\n",
       "      <td>2022년 5월 26일</td>\n",
       "      <td>좋아요 2개</td>\n",
       "      <td>[#강남역맛집, #역삼맛집, #서초맛집, #하남맛집, #미사맛집, #강동구맛집, #...</td>\n",
       "    </tr>\n",
       "    <tr>\n",
       "      <th>14</th>\n",
       "      <td>https://scontent-ssn1-1.cdninstagram.com/v/t51...</td>\n",
       "      <td>2022년 5월 26일</td>\n",
       "      <td>좋아요 1개</td>\n",
       "      <td>[#강남역맛집, #역삼맛집, #서초맛집, #하남맛집, #미사맛집, #강동구맛집, #...</td>\n",
       "    </tr>\n",
       "  </tbody>\n",
       "</table>\n",
       "</div>"
      ],
      "text/plain": [
       "                                              picture          date  \\\n",
       "0   https://scontent-ssn1-1.cdninstagram.com/v/t51...  2022년 5월 24일   \n",
       "1   https://scontent-ssn1-1.cdninstagram.com/v/t51...  2022년 5월 19일   \n",
       "2   https://scontent-ssn1-1.cdninstagram.com/v/t51...  2022년 5월 25일   \n",
       "3   https://scontent-ssn1-1.cdninstagram.com/v/t51...  2022년 5월 24일   \n",
       "4   https://scontent-ssn1-1.cdninstagram.com/v/t51...  2022년 5월 24일   \n",
       "6   https://scontent-ssn1-1.cdninstagram.com/v/t51...  2022년 5월 21일   \n",
       "10  https://scontent-ssn1-1.cdninstagram.com/v/t51...  2022년 5월 26일   \n",
       "11  https://scontent-ssn1-1.cdninstagram.com/v/t51...  2022년 5월 26일   \n",
       "13  https://scontent-ssn1-1.cdninstagram.com/v/t51...  2022년 5월 26일   \n",
       "14  https://scontent-ssn1-1.cdninstagram.com/v/t51...  2022년 5월 26일   \n",
       "\n",
       "           like                                                tag  \n",
       "0    좋아요 3,676개  [#압구정로데오, #화춘옥, #쎄럽_강남, #도산공원맛집, #청담맛집, #압구정로데...  \n",
       "1   좋아요 15,640개  [#강남역맛집, #강남맛집, #역삼맛집, #강남역술집, #강남술집, #역삼술집, #...  \n",
       "2      좋아요 541개  [#강남구재영, #강남구맛집, #역삼동재영, #역삼동맛집, #소고기재영, #소고기맛...  \n",
       "3    좋아요 1,489개  [#광고, #사위식당, #사위식당여의도점, #낙곱새맛집, #낙곱새, #마라낙곱새, ...  \n",
       "4      좋아요 841개  [#아먹_강남, #다몽집, #신논현역맛집, #논현맛집, #신논현맛집, #강남역맛집,...  \n",
       "6    좋아요 1,677개  [#해안사골순댓국, #제임스_역삼, #역삼동맛집, #순대스테이크, #먹스타그램, #...  \n",
       "10       좋아요 1개  [#강남역맛집, #역삼맛집, #서초맛집, #하남맛집, #미사맛집, #강동구맛집, #...  \n",
       "11       좋아요 1개                                                 []  \n",
       "13       좋아요 2개  [#강남역맛집, #역삼맛집, #서초맛집, #하남맛집, #미사맛집, #강동구맛집, #...  \n",
       "14       좋아요 1개  [#강남역맛집, #역삼맛집, #서초맛집, #하남맛집, #미사맛집, #강동구맛집, #...  "
      ]
     },
     "execution_count": 88,
     "metadata": {},
     "output_type": "execute_result"
    }
   ],
   "source": [
    "# 판다스 데이터프레임으로 만들기 : 엑셀(테이블) 형식으로 만들기\n",
    "import pandas as pd\n",
    "result_df = pd.DataFrame.from_dict(dict, 'index')\n",
    "\n",
    "print(result_df.shape)\n",
    "result_df"
   ]
  },
  {
   "cell_type": "code",
   "execution_count": 89,
   "metadata": {
    "scrolled": false
   },
   "outputs": [],
   "source": [
    "# n = result_df['picture'].count()\n",
    "\n",
    "# csv 파일로 저장\n",
    "result_df.to_csv(\"insta({}).csv\".format(keyword), encoding='utf-8-sig')"
   ]
  },
  {
   "cell_type": "code",
   "execution_count": 90,
   "metadata": {},
   "outputs": [
    {
     "data": {
      "text/plain": [
       "10"
      ]
     },
     "execution_count": 90,
     "metadata": {},
     "output_type": "execute_result"
    }
   ],
   "source": [
    "num_pic = len(result_df['picture'])\n",
    "num_pic"
   ]
  },
  {
   "cell_type": "code",
   "execution_count": 91,
   "metadata": {},
   "outputs": [
    {
     "data": {
      "text/plain": [
       "'https://scontent-ssn1-1.cdninstagram.com/v/t51.2885-15/283782926_518006860056096_461147366964775125_n.webp?stp=dst-jpg_e35&_nc_ht=scontent-ssn1-1.cdninstagram.com&_nc_cat=100&_nc_ohc=dVylTDfufZ4AX94ec-1&tn=w6-YUoZ1HahtecxY&edm=ALQROFkBAAAA&ccb=7-5&ig_cache_key=Mjg0NTIxMjk5NDI5MTgzNDc1OA%3D%3D.2-ccb7-5&oh=00_AT_nEF5AJrlO7WT5JOKh1Se25ldaW98Iec-p1GKjOw-QLw&oe=629554A9&_nc_sid=30a2ef'"
      ]
     },
     "execution_count": 91,
     "metadata": {},
     "output_type": "execute_result"
    }
   ],
   "source": [
    "result_df['picture'][0]"
   ]
  },
  {
   "cell_type": "code",
   "execution_count": 92,
   "metadata": {},
   "outputs": [],
   "source": [
    "# 이미지들 image_insta 폴더에 다운받기\n",
    "import os\n",
    "import urllib.request\n",
    "\n",
    "# 만약 image_insta 폴더가 없으면 만들어라\n",
    "if not os.path.exists(\"image_insta\"):\n",
    "    os.makedirs(\"image_insta\")\n",
    "        \n",
    "for i in range(0, 50):\n",
    "    \n",
    "    try:\n",
    "        index = result_df['picture'][i]\n",
    "        date = result_df['date'][i]\n",
    "        urllib.request.urlretrieve(index, \"image_insta/{0}_{1}.jpg\".format(date, i))        \n",
    "    except:\n",
    "        pass"
   ]
  },
  {
   "cell_type": "markdown",
   "metadata": {},
   "source": [
    "끝"
   ]
  },
  {
   "cell_type": "code",
   "execution_count": null,
   "metadata": {},
   "outputs": [],
   "source": []
  }
 ],
 "metadata": {
  "kernelspec": {
   "display_name": "Python 3 (ipykernel)",
   "language": "python",
   "name": "python3"
  },
  "language_info": {
   "codemirror_mode": {
    "name": "ipython",
    "version": 3
   },
   "file_extension": ".py",
   "mimetype": "text/x-python",
   "name": "python",
   "nbconvert_exporter": "python",
   "pygments_lexer": "ipython3",
   "version": "3.9.7"
  },
  "toc": {
   "base_numbering": 1,
   "nav_menu": {},
   "number_sections": true,
   "sideBar": true,
   "skip_h1_title": false,
   "title_cell": "Table of Contents",
   "title_sidebar": "Contents",
   "toc_cell": false,
   "toc_position": {},
   "toc_section_display": true,
   "toc_window_display": false
  },
  "varInspector": {
   "cols": {
    "lenName": 16,
    "lenType": 16,
    "lenVar": 40
   },
   "kernels_config": {
    "python": {
     "delete_cmd_postfix": "",
     "delete_cmd_prefix": "del ",
     "library": "var_list.py",
     "varRefreshCmd": "print(var_dic_list())"
    },
    "r": {
     "delete_cmd_postfix": ") ",
     "delete_cmd_prefix": "rm(",
     "library": "var_list.r",
     "varRefreshCmd": "cat(var_dic_list()) "
    }
   },
   "types_to_exclude": [
    "module",
    "function",
    "builtin_function_or_method",
    "instance",
    "_Feature"
   ],
   "window_display": false
  }
 },
 "nbformat": 4,
 "nbformat_minor": 2
}
