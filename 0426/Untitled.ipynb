{
 "cells": [
  {
   "cell_type": "code",
   "execution_count": 2,
   "id": "1048985b",
   "metadata": {},
   "outputs": [
    {
     "data": {
      "text/plain": [
       "GridSearchCV(estimator=DecisionTreeClassifier(random_state=42),\n",
       "             param_grid={'min_impurity_decrease': [0.0001, 0.0002, 0.0003,\n",
       "                                                   0.0004, 0.0005]})"
      ]
     },
     "execution_count": 2,
     "metadata": {},
     "output_type": "execute_result"
    }
   ],
   "source": [
    "import numpy as np\n",
    "import pandas as pd\n",
    "data = pd.read_csv('day6_data1.csv')\n",
    "X=data[['alcohol','sugar','pH']].to_numpy() #alcohol\tsugar\tpH 분할 속성\n",
    "Y=data['class'].to_numpy()\n",
    "\n",
    "from sklearn.model_selection import train_test_split\n",
    "t_x,tt_x,t_y,tt_y = train_test_split(X,Y,random_state=42,test_size=0.2)\n",
    "\n",
    "from sklearn.tree import DecisionTreeClassifier\n",
    "from sklearn.model_selection import GridSearchCV \n",
    "params = {'min_impurity_decrease':[0.0001,0.0002,0.0003,0.0004,0.0005]}\n",
    "gs = GridSearchCV(DecisionTreeClassifier(random_state = 42),params)\n",
    "gs.fit(t_x,t_y)"
   ]
  },
  {
   "cell_type": "code",
   "execution_count": null,
   "id": "8b01dc70",
   "metadata": {},
   "outputs": [],
   "source": []
  }
 ],
 "metadata": {
  "kernelspec": {
   "display_name": "Python 3 (ipykernel)",
   "language": "python",
   "name": "python3"
  },
  "language_info": {
   "codemirror_mode": {
    "name": "ipython",
    "version": 3
   },
   "file_extension": ".py",
   "mimetype": "text/x-python",
   "name": "python",
   "nbconvert_exporter": "python",
   "pygments_lexer": "ipython3",
   "version": "3.9.7"
  }
 },
 "nbformat": 4,
 "nbformat_minor": 5
}
