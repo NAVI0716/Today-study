{
 "cells": [
  {
   "cell_type": "markdown",
   "id": "b00efbd5",
   "metadata": {},
   "source": [
    "앙상블"
   ]
  },
  {
   "cell_type": "code",
   "execution_count": 1,
   "id": "36310e1e",
   "metadata": {},
   "outputs": [
    {
     "data": {
      "text/plain": [
       "(0.9973541965122431, 0.8905151032797809)"
      ]
     },
     "execution_count": 1,
     "metadata": {},
     "output_type": "execute_result"
    }
   ],
   "source": [
    "import pandas as pd\n",
    "import numpy as np\n",
    "data = pd.read_csv('day6_data1.csv')\n",
    "X=data[['alcohol','sugar','pH']].to_numpy() #alcohol\tsugar\tpH 분할 속성\n",
    "Y=data['class'].to_numpy()\n",
    "from sklearn.model_selection import train_test_split\n",
    "t_x,tt_x,t_y,tt_y = train_test_split(X,Y,random_state=42,test_size=0.2)\n",
    "from sklearn.model_selection import cross_validate#교차검증, 교차검증자체가 훈련 테스트 검증 3가지를 씀\n",
    "from sklearn.ensemble import RandomForestClassifier#분류기\n",
    "rf=RandomForestClassifier(random_state=42)\n",
    "sc=cross_validate(rf,t_x,t_y,return_train_score=True)\n",
    "np.mean(sc['train_score']),np.mean(sc['test_score'])"
   ]
  },
  {
   "cell_type": "code",
   "execution_count": 2,
   "id": "28985811",
   "metadata": {},
   "outputs": [
    {
     "data": {
      "text/plain": [
       "(0.996921300750433, 0.8892307692307693)"
      ]
     },
     "execution_count": 2,
     "metadata": {},
     "output_type": "execute_result"
    }
   ],
   "source": [
    "rf.fit(t_x,t_y)\n",
    "rf.feature_importances_\n",
    "rf.score(t_x,t_y),rf.score(tt_x,tt_y)"
   ]
  },
  {
   "cell_type": "code",
   "execution_count": 3,
   "id": "4096a7fe",
   "metadata": {},
   "outputs": [
    {
     "data": {
      "text/plain": [
       "0.8934000384837406"
      ]
     },
     "execution_count": 3,
     "metadata": {},
     "output_type": "execute_result"
    }
   ],
   "source": [
    "rf1=RandomForestClassifier(oob_score=True,random_state=42)\n",
    "rf1.fit(t_x,t_y)\n",
    "rf1.score(t_x,t_y),rf1.score(tt_x,tt_y)\n",
    "rf1.oob_score_"
   ]
  },
  {
   "cell_type": "code",
   "execution_count": 4,
   "id": "6f099b95",
   "metadata": {},
   "outputs": [
    {
     "data": {
      "text/plain": [
       "(array([0.23167441, 0.50039841, 0.26792718]),\n",
       " array([0.20183568, 0.52242907, 0.27573525]))"
      ]
     },
     "execution_count": 4,
     "metadata": {},
     "output_type": "execute_result"
    }
   ],
   "source": [
    "from sklearn.ensemble import ExtraTreesClassifier\n",
    "et=ExtraTreesClassifier(random_state=42)\n",
    "sc=cross_validate(et,t_x,t_y,return_train_score=True)\n",
    "np.mean(sc['train_score']),np.mean(sc['test_score'])\n",
    "et.fit(t_x,t_y)\n",
    "rf.feature_importances_,et.feature_importances_"
   ]
  },
  {
   "cell_type": "code",
   "execution_count": 5,
   "id": "2350922e",
   "metadata": {},
   "outputs": [
    {
     "data": {
      "text/plain": [
       "(0.8881086892152563, 0.8720430147331015)"
      ]
     },
     "execution_count": 5,
     "metadata": {},
     "output_type": "execute_result"
    }
   ],
   "source": [
    "from sklearn.ensemble import GradientBoostingClassifier#~를이용해서 특정한 값을 찾아낸다.\n",
    "gd=GradientBoostingClassifier(random_state=42)\n",
    "sc=cross_validate(gd,t_x,t_y,return_train_score=True)\n",
    "np.mean(sc['train_score']),np.mean(sc['test_score'])\n"
   ]
  },
  {
   "cell_type": "code",
   "execution_count": 6,
   "id": "78e1c335",
   "metadata": {},
   "outputs": [
    {
     "data": {
      "text/plain": [
       "(0.9464595437171814, 0.8780082549788999)"
      ]
     },
     "execution_count": 6,
     "metadata": {},
     "output_type": "execute_result"
    }
   ],
   "source": [
    "gd=GradientBoostingClassifier(random_state=42,n_estimators=500,learning_rate=0.2)#트리계수 선정,학습률 선정\n",
    "sc=cross_validate(gd,t_x,t_y,return_train_score=True)\n",
    "np.mean(sc['train_score']),np.mean(sc['test_score'])"
   ]
  },
  {
   "cell_type": "code",
   "execution_count": 8,
   "id": "84cb1f24",
   "metadata": {},
   "outputs": [
    {
     "data": {
      "text/plain": [
       "(0.9321723946453317, 0.8801241948619236)"
      ]
     },
     "execution_count": 8,
     "metadata": {},
     "output_type": "execute_result"
    }
   ],
   "source": [
    "from sklearn.experimental import enable_hist_gradient_boosting\n",
    "from sklearn.ensemble import HistGradientBoostingClassifier#히스토그램\n",
    "h = HistGradientBoostingClassifier(random_state=42)\n",
    "sc=cross_validate(h,t_x,t_y,return_train_score=True)\n",
    "np.mean(sc['train_score']),np.mean(sc['test_score'])"
   ]
  },
  {
   "cell_type": "code",
   "execution_count": null,
   "id": "1634a8ef",
   "metadata": {},
   "outputs": [],
   "source": []
  }
 ],
 "metadata": {
  "kernelspec": {
   "display_name": "Python 3 (ipykernel)",
   "language": "python",
   "name": "python3"
  },
  "language_info": {
   "codemirror_mode": {
    "name": "ipython",
    "version": 3
   },
   "file_extension": ".py",
   "mimetype": "text/x-python",
   "name": "python",
   "nbconvert_exporter": "python",
   "pygments_lexer": "ipython3",
   "version": "3.9.7"
  }
 },
 "nbformat": 4,
 "nbformat_minor": 5
}
