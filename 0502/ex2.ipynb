{
 "cells": [
  {
   "cell_type": "code",
   "execution_count": 4,
   "id": "d878822f",
   "metadata": {},
   "outputs": [
    {
     "name": "stdout",
     "output_type": "stream",
     "text": [
      "Downloading data from https://storage.googleapis.com/tensorflow/tf-keras-datasets/imdb.npz\n",
      "17465344/17464789 [==============================] - 0s 0us/step\n",
      "17473536/17464789 [==============================] - 0s 0us/step\n"
     ]
    },
    {
     "data": {
      "text/plain": [
       "(25000,)"
      ]
     },
     "execution_count": 4,
     "metadata": {},
     "output_type": "execute_result"
    }
   ],
   "source": [
    "from tensorflow.keras.datasets.imdb import load_data\n",
    "(x_data,y_data),(tt_x,tt_y)=load_data(num_words=500)#500으로 끊어서 가져온다.\n",
    "x_data.shape"
   ]
  },
  {
   "cell_type": "code",
   "execution_count": 5,
   "id": "a1d8f2ae",
   "metadata": {},
   "outputs": [
    {
     "data": {
      "text/plain": [
       "[1,\n",
       " 14,\n",
       " 22,\n",
       " 16,\n",
       " 43,\n",
       " 2,\n",
       " 2,\n",
       " 2,\n",
       " 2,\n",
       " 65,\n",
       " 458,\n",
       " 2,\n",
       " 66,\n",
       " 2,\n",
       " 4,\n",
       " 173,\n",
       " 36,\n",
       " 256,\n",
       " 5,\n",
       " 25,\n",
       " 100,\n",
       " 43,\n",
       " 2,\n",
       " 112,\n",
       " 50,\n",
       " 2,\n",
       " 2,\n",
       " 9,\n",
       " 35,\n",
       " 480,\n",
       " 284,\n",
       " 5,\n",
       " 150,\n",
       " 4,\n",
       " 172,\n",
       " 112,\n",
       " 167,\n",
       " 2,\n",
       " 336,\n",
       " 385,\n",
       " 39,\n",
       " 4,\n",
       " 172,\n",
       " 2,\n",
       " 2,\n",
       " 17,\n",
       " 2,\n",
       " 38,\n",
       " 13,\n",
       " 447,\n",
       " 4,\n",
       " 192,\n",
       " 50,\n",
       " 16,\n",
       " 6,\n",
       " 147,\n",
       " 2,\n",
       " 19,\n",
       " 14,\n",
       " 22,\n",
       " 4,\n",
       " 2,\n",
       " 2,\n",
       " 469,\n",
       " 4,\n",
       " 22,\n",
       " 71,\n",
       " 87,\n",
       " 12,\n",
       " 16,\n",
       " 43,\n",
       " 2,\n",
       " 38,\n",
       " 76,\n",
       " 15,\n",
       " 13,\n",
       " 2,\n",
       " 4,\n",
       " 22,\n",
       " 17,\n",
       " 2,\n",
       " 17,\n",
       " 12,\n",
       " 16,\n",
       " 2,\n",
       " 18,\n",
       " 2,\n",
       " 5,\n",
       " 62,\n",
       " 386,\n",
       " 12,\n",
       " 8,\n",
       " 316,\n",
       " 8,\n",
       " 106,\n",
       " 5,\n",
       " 4,\n",
       " 2,\n",
       " 2,\n",
       " 16,\n",
       " 480,\n",
       " 66,\n",
       " 2,\n",
       " 33,\n",
       " 4,\n",
       " 130,\n",
       " 12,\n",
       " 16,\n",
       " 38,\n",
       " 2,\n",
       " 5,\n",
       " 25,\n",
       " 124,\n",
       " 51,\n",
       " 36,\n",
       " 135,\n",
       " 48,\n",
       " 25,\n",
       " 2,\n",
       " 33,\n",
       " 6,\n",
       " 22,\n",
       " 12,\n",
       " 215,\n",
       " 28,\n",
       " 77,\n",
       " 52,\n",
       " 5,\n",
       " 14,\n",
       " 407,\n",
       " 16,\n",
       " 82,\n",
       " 2,\n",
       " 8,\n",
       " 4,\n",
       " 107,\n",
       " 117,\n",
       " 2,\n",
       " 15,\n",
       " 256,\n",
       " 4,\n",
       " 2,\n",
       " 7,\n",
       " 2,\n",
       " 5,\n",
       " 2,\n",
       " 36,\n",
       " 71,\n",
       " 43,\n",
       " 2,\n",
       " 476,\n",
       " 26,\n",
       " 400,\n",
       " 317,\n",
       " 46,\n",
       " 7,\n",
       " 4,\n",
       " 2,\n",
       " 2,\n",
       " 13,\n",
       " 104,\n",
       " 88,\n",
       " 4,\n",
       " 381,\n",
       " 15,\n",
       " 297,\n",
       " 98,\n",
       " 32,\n",
       " 2,\n",
       " 56,\n",
       " 26,\n",
       " 141,\n",
       " 6,\n",
       " 194,\n",
       " 2,\n",
       " 18,\n",
       " 4,\n",
       " 226,\n",
       " 22,\n",
       " 21,\n",
       " 134,\n",
       " 476,\n",
       " 26,\n",
       " 480,\n",
       " 5,\n",
       " 144,\n",
       " 30,\n",
       " 2,\n",
       " 18,\n",
       " 51,\n",
       " 36,\n",
       " 28,\n",
       " 224,\n",
       " 92,\n",
       " 25,\n",
       " 104,\n",
       " 4,\n",
       " 226,\n",
       " 65,\n",
       " 16,\n",
       " 38,\n",
       " 2,\n",
       " 88,\n",
       " 12,\n",
       " 16,\n",
       " 283,\n",
       " 5,\n",
       " 16,\n",
       " 2,\n",
       " 113,\n",
       " 103,\n",
       " 32,\n",
       " 15,\n",
       " 16,\n",
       " 2,\n",
       " 19,\n",
       " 178,\n",
       " 32]"
      ]
     },
     "execution_count": 5,
     "metadata": {},
     "output_type": "execute_result"
    }
   ],
   "source": [
    "x_data[0]"
   ]
  },
  {
   "cell_type": "code",
   "execution_count": 6,
   "id": "979af995",
   "metadata": {},
   "outputs": [
    {
     "data": {
      "text/plain": [
       "(218, 189)"
      ]
     },
     "execution_count": 6,
     "metadata": {},
     "output_type": "execute_result"
    }
   ],
   "source": [
    "len(x_data[0]),len(x_data[1])"
   ]
  },
  {
   "cell_type": "code",
   "execution_count": 7,
   "id": "b0e5d7ef",
   "metadata": {},
   "outputs": [
    {
     "data": {
      "text/plain": [
       "array([1, 0, 0, 1, 0], dtype=int64)"
      ]
     },
     "execution_count": 7,
     "metadata": {},
     "output_type": "execute_result"
    }
   ],
   "source": [
    "y_data[:5]"
   ]
  },
  {
   "cell_type": "code",
   "execution_count": 8,
   "id": "2f949ddc",
   "metadata": {},
   "outputs": [],
   "source": [
    "from sklearn.model_selection import train_test_split\n",
    "t_x,v_x,t_y,v_y=train_test_split(x_data,y_data,test_size=0.2,random_state=42)"
   ]
  },
  {
   "cell_type": "code",
   "execution_count": 14,
   "id": "4bcb5427",
   "metadata": {},
   "outputs": [
    {
     "data": {
      "text/plain": [
       "(array([1.1149e+04, 5.7490e+03, 1.8590e+03, 7.3200e+02, 3.0600e+02,\n",
       "        1.8800e+02, 6.0000e+00, 4.0000e+00, 4.0000e+00, 3.0000e+00]),\n",
       " array([  11. ,  195.3,  379.6,  563.9,  748.2,  932.5, 1116.8, 1301.1,\n",
       "        1485.4, 1669.7, 1854. ]),\n",
       " <BarContainer object of 10 artists>)"
      ]
     },
     "execution_count": 14,
     "metadata": {},
     "output_type": "execute_result"
    },
    {
     "data": {
      "image/png": "[encoded data removed]",
      "text/plain": [
       "<Figure size 432x288 with 1 Axes>"
      ]
     },
     "metadata": {
      "needs_background": "light"
     },
     "output_type": "display_data"
    }
   ],
   "source": [
    "import numpy as np\n",
    "l= np.array([len(i)for i in t_x])\n",
    "import matplotlib.pyplot as plt\n",
    "plt.hist(l)"
   ]
  },
  {
   "cell_type": "code",
   "execution_count": 15,
   "id": "2c80ff14",
   "metadata": {},
   "outputs": [
    {
     "data": {
      "text/plain": [
       "178.0"
      ]
     },
     "execution_count": 15,
     "metadata": {},
     "output_type": "execute_result"
    }
   ],
   "source": [
    "np.median(l)#중간값"
   ]
  },
  {
   "cell_type": "code",
   "execution_count": 16,
   "id": "b5c2bf47",
   "metadata": {},
   "outputs": [],
   "source": [
    "from tensorflow.keras.preprocessing.sequence import pad_sequences#정리해주는 목적 정형화된 자료이고 순차적데이터\n",
    "s_t_x=pad_sequences(t_x,maxlen=100)#데이터마다 값이 달라수가다른것들을 데이터 크기사이즈를 맞춰줌/ 앞내용은 삭제되고 뒷내용만 남음"
   ]
  },
  {
   "cell_type": "code",
   "execution_count": 20,
   "id": "9ca9cd74",
   "metadata": {},
   "outputs": [
    {
     "data": {
      "text/plain": [
       "(20000, 100)"
      ]
     },
     "execution_count": 20,
     "metadata": {},
     "output_type": "execute_result"
    }
   ],
   "source": [
    "s_t_x.shape"
   ]
  },
  {
   "cell_type": "code",
   "execution_count": 22,
   "id": "7555b4d8",
   "metadata": {},
   "outputs": [],
   "source": [
    "s_v_x=pad_sequences(v_x,maxlen=100)"
   ]
  },
  {
   "cell_type": "code",
   "execution_count": 24,
   "id": "ac71f4bd",
   "metadata": {},
   "outputs": [],
   "source": [
    "from tensorflow import keras\n",
    "m = keras.Sequential()#모델객체생성"
   ]
  },
  {
   "cell_type": "code",
   "execution_count": 26,
   "id": "b84a5dbb",
   "metadata": {},
   "outputs": [],
   "source": [
    "#레이어층 추가/ 레이어층이므로 은닉층포함한 레이어\n",
    "m.add(keras.layers.SimpleRNN(8,input_shape=(100,500)))\n",
    "m.add(keras.layers.Dense(1,activation='sigmoid'))"
   ]
  },
  {
   "cell_type": "code",
   "execution_count": 27,
   "id": "017d5d0c",
   "metadata": {},
   "outputs": [
    {
     "data": {
      "text/plain": [
       "(20000, 100, 500)"
      ]
     },
     "execution_count": 27,
     "metadata": {},
     "output_type": "execute_result"
    }
   ],
   "source": [
    "t_ho=keras.utils.to_categorical(s_t_x)#가변작업 가변된 트레이닝 데이터-> 데이터마다 값이 달라수가다른것들을 데이터 크기사이즈를 맞춰줌\n",
    "t_ho.shape#원핫인코딩작업으로 맞춰줌"
   ]
  },
  {
   "cell_type": "code",
   "execution_count": 28,
   "id": "9b226413",
   "metadata": {},
   "outputs": [
    {
     "data": {
      "text/plain": [
       "(5000, 100, 500)"
      ]
     },
     "execution_count": 28,
     "metadata": {},
     "output_type": "execute_result"
    }
   ],
   "source": [
    "v_ho=keras.utils.to_categorical(s_v_x)\n",
    "v_ho.shape#범주형데이터"
   ]
  },
  {
   "cell_type": "code",
   "execution_count": 29,
   "id": "94d9284d",
   "metadata": {},
   "outputs": [
    {
     "name": "stdout",
     "output_type": "stream",
     "text": [
      "Model: \"sequential_1\"\n",
      "_________________________________________________________________\n",
      " Layer (type)                Output Shape              Param #   \n",
      "=================================================================\n",
      " simple_rnn (SimpleRNN)      (None, 8)                 4072      \n",
      "                                                                 \n",
      " dense (Dense)               (None, 1)                 9         \n",
      "                                                                 \n",
      "=================================================================\n",
      "Total params: 4,081\n",
      "Trainable params: 4,081\n",
      "Non-trainable params: 0\n",
      "_________________________________________________________________\n"
     ]
    }
   ],
   "source": [
    "m.summary()"
   ]
  },
  {
   "cell_type": "code",
   "execution_count": 32,
   "id": "23a06de4",
   "metadata": {},
   "outputs": [
    {
     "name": "stdout",
     "output_type": "stream",
     "text": [
      "Epoch 1/100\n",
      "313/313 [==============================] - 10s 28ms/step - loss: 0.6996 - accuracy: 0.4981 - val_loss: 0.6972 - val_accuracy: 0.4962\n",
      "Epoch 2/100\n",
      "313/313 [==============================] - 8s 25ms/step - loss: 0.6950 - accuracy: 0.5119 - val_loss: 0.6937 - val_accuracy: 0.5082\n",
      "Epoch 3/100\n",
      "313/313 [==============================] - 7s 24ms/step - loss: 0.6867 - accuracy: 0.5490 - val_loss: 0.6826 - val_accuracy: 0.5640\n",
      "Epoch 4/100\n",
      "313/313 [==============================] - 8s 25ms/step - loss: 0.6746 - accuracy: 0.5960 - val_loss: 0.6722 - val_accuracy: 0.5972\n",
      "Epoch 5/100\n",
      "313/313 [==============================] - 8s 25ms/step - loss: 0.6607 - accuracy: 0.6297 - val_loss: 0.6584 - val_accuracy: 0.6312\n",
      "Epoch 6/100\n",
      "313/313 [==============================] - 7s 24ms/step - loss: 0.6443 - accuracy: 0.6576 - val_loss: 0.6429 - val_accuracy: 0.6538\n",
      "Epoch 7/100\n",
      "313/313 [==============================] - 8s 24ms/step - loss: 0.6274 - accuracy: 0.6822 - val_loss: 0.6285 - val_accuracy: 0.6772\n",
      "Epoch 8/100\n",
      "313/313 [==============================] - 8s 24ms/step - loss: 0.6101 - accuracy: 0.7019 - val_loss: 0.6122 - val_accuracy: 0.6946\n",
      "Epoch 9/100\n",
      "313/313 [==============================] - 8s 25ms/step - loss: 0.5932 - accuracy: 0.7201 - val_loss: 0.5953 - val_accuracy: 0.7078\n",
      "Epoch 10/100\n",
      "313/313 [==============================] - 8s 24ms/step - loss: 0.5768 - accuracy: 0.7348 - val_loss: 0.5808 - val_accuracy: 0.7244\n",
      "Epoch 11/100\n",
      "313/313 [==============================] - 8s 25ms/step - loss: 0.5605 - accuracy: 0.7486 - val_loss: 0.5700 - val_accuracy: 0.7306\n",
      "Epoch 12/100\n",
      "313/313 [==============================] - 8s 25ms/step - loss: 0.5470 - accuracy: 0.7585 - val_loss: 0.5549 - val_accuracy: 0.7410\n",
      "Epoch 13/100\n",
      "313/313 [==============================] - 8s 24ms/step - loss: 0.5348 - accuracy: 0.7653 - val_loss: 0.5433 - val_accuracy: 0.7458\n",
      "Epoch 14/100\n",
      "313/313 [==============================] - 8s 25ms/step - loss: 0.5234 - accuracy: 0.7727 - val_loss: 0.5343 - val_accuracy: 0.7542\n",
      "Epoch 15/100\n",
      "313/313 [==============================] - 8s 25ms/step - loss: 0.5128 - accuracy: 0.7783 - val_loss: 0.5298 - val_accuracy: 0.7532\n",
      "Epoch 16/100\n",
      "313/313 [==============================] - 8s 24ms/step - loss: 0.5026 - accuracy: 0.7845 - val_loss: 0.5240 - val_accuracy: 0.7596\n",
      "Epoch 17/100\n",
      "313/313 [==============================] - 7s 24ms/step - loss: 0.4938 - accuracy: 0.7884 - val_loss: 0.5118 - val_accuracy: 0.7632\n",
      "Epoch 18/100\n",
      "313/313 [==============================] - 8s 24ms/step - loss: 0.4851 - accuracy: 0.7921 - val_loss: 0.5018 - val_accuracy: 0.7742\n",
      "Epoch 19/100\n",
      "313/313 [==============================] - 8s 25ms/step - loss: 0.4786 - accuracy: 0.7954 - val_loss: 0.4957 - val_accuracy: 0.7798\n",
      "Epoch 20/100\n",
      "313/313 [==============================] - 8s 25ms/step - loss: 0.4720 - accuracy: 0.7971 - val_loss: 0.4898 - val_accuracy: 0.7796\n",
      "Epoch 21/100\n",
      "313/313 [==============================] - 7s 23ms/step - loss: 0.4658 - accuracy: 0.7975 - val_loss: 0.4867 - val_accuracy: 0.7818\n",
      "Epoch 22/100\n",
      "313/313 [==============================] - 7s 24ms/step - loss: 0.4602 - accuracy: 0.8008 - val_loss: 0.4809 - val_accuracy: 0.7884\n",
      "Epoch 23/100\n",
      "313/313 [==============================] - 9s 28ms/step - loss: 0.4551 - accuracy: 0.8026 - val_loss: 0.4783 - val_accuracy: 0.7888\n",
      "Epoch 24/100\n",
      "313/313 [==============================] - 8s 26ms/step - loss: 0.4508 - accuracy: 0.8045 - val_loss: 0.4785 - val_accuracy: 0.7840\n",
      "Epoch 25/100\n",
      "313/313 [==============================] - 8s 25ms/step - loss: 0.4458 - accuracy: 0.8058 - val_loss: 0.4716 - val_accuracy: 0.7910\n",
      "Epoch 26/100\n",
      "313/313 [==============================] - 8s 26ms/step - loss: 0.4427 - accuracy: 0.8058 - val_loss: 0.4697 - val_accuracy: 0.7914\n",
      "Epoch 27/100\n",
      "313/313 [==============================] - 8s 26ms/step - loss: 0.4386 - accuracy: 0.8087 - val_loss: 0.4672 - val_accuracy: 0.7936\n",
      "Epoch 28/100\n",
      "313/313 [==============================] - 9s 28ms/step - loss: 0.4353 - accuracy: 0.8098 - val_loss: 0.4681 - val_accuracy: 0.7910\n",
      "Epoch 29/100\n",
      "313/313 [==============================] - 8s 26ms/step - loss: 0.4324 - accuracy: 0.8098 - val_loss: 0.4652 - val_accuracy: 0.7918\n",
      "Epoch 30/100\n",
      "313/313 [==============================] - 8s 24ms/step - loss: 0.4293 - accuracy: 0.8128 - val_loss: 0.4637 - val_accuracy: 0.7904\n",
      "Epoch 31/100\n",
      "313/313 [==============================] - 8s 26ms/step - loss: 0.4270 - accuracy: 0.8123 - val_loss: 0.4625 - val_accuracy: 0.7936\n",
      "Epoch 32/100\n",
      "313/313 [==============================] - 8s 26ms/step - loss: 0.4244 - accuracy: 0.8156 - val_loss: 0.4598 - val_accuracy: 0.7970\n",
      "Epoch 33/100\n",
      "313/313 [==============================] - 8s 26ms/step - loss: 0.4223 - accuracy: 0.8166 - val_loss: 0.4634 - val_accuracy: 0.7910\n",
      "Epoch 34/100\n",
      "313/313 [==============================] - 8s 27ms/step - loss: 0.4201 - accuracy: 0.8170 - val_loss: 0.4585 - val_accuracy: 0.7948\n",
      "Epoch 35/100\n",
      "313/313 [==============================] - 8s 27ms/step - loss: 0.4184 - accuracy: 0.8164 - val_loss: 0.4651 - val_accuracy: 0.7882\n",
      "Epoch 36/100\n",
      "313/313 [==============================] - 8s 27ms/step - loss: 0.4161 - accuracy: 0.8171 - val_loss: 0.4586 - val_accuracy: 0.7954\n",
      "Epoch 37/100\n",
      "313/313 [==============================] - 8s 25ms/step - loss: 0.4141 - accuracy: 0.8194 - val_loss: 0.4587 - val_accuracy: 0.7952\n"
     ]
    }
   ],
   "source": [
    "ot=keras.optimizers.RMSprop(learning_rate=1e-4)\n",
    "m.compile(optimizer=ot,loss='binary_crossentropy',metrics='accuracy')\n",
    "ck_p = keras.callbacks.ModelCheckpoint('Ex2.h5',save_best_only=True)\n",
    "e_stopping=keras.callbacks.EarlyStopping(patience=3,restore_best_weights=True)\n",
    "hy=m.fit(t_ho,t_y,epochs=100,batch_size=64,validation_data=(v_ho,v_y),callbacks=[ck_p,e_stopping])"
   ]
  },
  {
   "cell_type": "code",
   "execution_count": 34,
   "id": "20a89ca6",
   "metadata": {},
   "outputs": [
    {
     "data": {
      "text/plain": [
       "[<matplotlib.lines.Line2D at 0x27548e52ca0>]"
      ]
     },
     "execution_count": 34,
     "metadata": {},
     "output_type": "execute_result"
    },
    {
     "data": {
      "image/png": "[encoded data removed]",
      "text/plain": [
       "<Figure size 432x288 with 1 Axes>"
      ]
     },
     "metadata": {
      "needs_background": "light"
     },
     "output_type": "display_data"
    }
   ],
   "source": [
    "plt.plot(hy.history['loss'])\n",
    "plt.plot(hy.history['val_loss'])"
   ]
  },
  {
   "cell_type": "code",
   "execution_count": 37,
   "id": "a4b53352",
   "metadata": {},
   "outputs": [
    {
     "name": "stdout",
     "output_type": "stream",
     "text": [
      "Epoch 1/100\n",
      "312/313 [============================>.] - ETA: 0s - loss: 0.6955 - accuracy: 0.4943INFO:tensorflow:Assets written to: Ex2.emd5\\assets\n",
      "313/313 [==============================] - 8s 21ms/step - loss: 0.6955 - accuracy: 0.4942 - val_loss: 0.6945 - val_accuracy: 0.4940\n",
      "Epoch 2/100\n",
      "310/313 [============================>.] - ETA: 0s - loss: 0.6921 - accuracy: 0.5169INFO:tensorflow:Assets written to: Ex2.emd5\\assets\n",
      "313/313 [==============================] - 6s 20ms/step - loss: 0.6920 - accuracy: 0.5172 - val_loss: 0.6926 - val_accuracy: 0.5188\n",
      "Epoch 3/100\n",
      "311/313 [============================>.] - ETA: 0s - loss: 0.6892 - accuracy: 0.5424INFO:tensorflow:Assets written to: Ex2.emd5\\assets\n",
      "313/313 [==============================] - 6s 19ms/step - loss: 0.6893 - accuracy: 0.5422 - val_loss: 0.6895 - val_accuracy: 0.5424\n",
      "Epoch 4/100\n",
      "312/313 [============================>.] - ETA: 0s - loss: 0.6806 - accuracy: 0.5928INFO:tensorflow:Assets written to: Ex2.emd5\\assets\n",
      "313/313 [==============================] - 6s 20ms/step - loss: 0.6806 - accuracy: 0.5929 - val_loss: 0.6781 - val_accuracy: 0.6092\n",
      "Epoch 5/100\n",
      "312/313 [============================>.] - ETA: 0s - loss: 0.6643 - accuracy: 0.6538INFO:tensorflow:Assets written to: Ex2.emd5\\assets\n",
      "313/313 [==============================] - 6s 20ms/step - loss: 0.6643 - accuracy: 0.6539 - val_loss: 0.6614 - val_accuracy: 0.6584\n",
      "Epoch 6/100\n",
      "310/313 [============================>.] - ETA: 0s - loss: 0.6445 - accuracy: 0.6950INFO:tensorflow:Assets written to: Ex2.emd5\\assets\n",
      "313/313 [==============================] - 6s 19ms/step - loss: 0.6445 - accuracy: 0.6945 - val_loss: 0.6447 - val_accuracy: 0.6830\n",
      "Epoch 7/100\n",
      "311/313 [============================>.] - ETA: 0s - loss: 0.6250 - accuracy: 0.7175INFO:tensorflow:Assets written to: Ex2.emd5\\assets\n",
      "313/313 [==============================] - 6s 20ms/step - loss: 0.6250 - accuracy: 0.7175 - val_loss: 0.6307 - val_accuracy: 0.6956\n",
      "Epoch 8/100\n",
      "312/313 [============================>.] - ETA: 0s - loss: 0.6069 - accuracy: 0.7343INFO:tensorflow:Assets written to: Ex2.emd5\\assets\n",
      "313/313 [==============================] - 7s 21ms/step - loss: 0.6069 - accuracy: 0.7343 - val_loss: 0.6109 - val_accuracy: 0.7164\n",
      "Epoch 9/100\n",
      "311/313 [============================>.] - ETA: 0s - loss: 0.5907 - accuracy: 0.7439INFO:tensorflow:Assets written to: Ex2.emd5\\assets\n",
      "313/313 [==============================] - 6s 20ms/step - loss: 0.5907 - accuracy: 0.7438 - val_loss: 0.5971 - val_accuracy: 0.7296\n",
      "Epoch 10/100\n",
      "310/313 [============================>.] - ETA: 0s - loss: 0.5755 - accuracy: 0.7528INFO:tensorflow:Assets written to: Ex2.emd5\\assets\n",
      "313/313 [==============================] - 6s 19ms/step - loss: 0.5755 - accuracy: 0.7530 - val_loss: 0.5842 - val_accuracy: 0.7348\n",
      "Epoch 11/100\n",
      "309/313 [============================>.] - ETA: 0s - loss: 0.5604 - accuracy: 0.7618INFO:tensorflow:Assets written to: Ex2.emd5\\assets\n",
      "313/313 [==============================] - 6s 19ms/step - loss: 0.5603 - accuracy: 0.7619 - val_loss: 0.5693 - val_accuracy: 0.7462\n",
      "Epoch 12/100\n",
      "313/313 [==============================] - ETA: 0s - loss: 0.5469 - accuracy: 0.7692INFO:tensorflow:Assets written to: Ex2.emd5\\assets\n",
      "313/313 [==============================] - 6s 19ms/step - loss: 0.5469 - accuracy: 0.7692 - val_loss: 0.5588 - val_accuracy: 0.7522\n",
      "Epoch 13/100\n",
      "312/313 [============================>.] - ETA: 0s - loss: 0.5335 - accuracy: 0.7753INFO:tensorflow:Assets written to: Ex2.emd5\\assets\n",
      "313/313 [==============================] - 6s 21ms/step - loss: 0.5335 - accuracy: 0.7753 - val_loss: 0.5506 - val_accuracy: 0.7484\n",
      "Epoch 14/100\n",
      "310/313 [============================>.] - ETA: 0s - loss: 0.5211 - accuracy: 0.7815INFO:tensorflow:Assets written to: Ex2.emd5\\assets\n",
      "313/313 [==============================] - 6s 21ms/step - loss: 0.5212 - accuracy: 0.7815 - val_loss: 0.5366 - val_accuracy: 0.7646\n",
      "Epoch 15/100\n",
      "312/313 [============================>.] - ETA: 0s - loss: 0.5096 - accuracy: 0.7856INFO:tensorflow:Assets written to: Ex2.emd5\\assets\n",
      "313/313 [==============================] - 6s 20ms/step - loss: 0.5096 - accuracy: 0.7856 - val_loss: 0.5273 - val_accuracy: 0.7676\n",
      "Epoch 16/100\n",
      "310/313 [============================>.] - ETA: 0s - loss: 0.4986 - accuracy: 0.7907INFO:tensorflow:Assets written to: Ex2.emd5\\assets\n",
      "313/313 [==============================] - 6s 21ms/step - loss: 0.4985 - accuracy: 0.7908 - val_loss: 0.5183 - val_accuracy: 0.7680\n",
      "Epoch 17/100\n",
      "311/313 [============================>.] - ETA: 0s - loss: 0.4880 - accuracy: 0.7961INFO:tensorflow:Assets written to: Ex2.emd5\\assets\n",
      "313/313 [==============================] - 6s 19ms/step - loss: 0.4877 - accuracy: 0.7964 - val_loss: 0.5101 - val_accuracy: 0.7712\n",
      "Epoch 18/100\n",
      "312/313 [============================>.] - ETA: 0s - loss: 0.4782 - accuracy: 0.7980INFO:tensorflow:Assets written to: Ex2.emd5\\assets\n",
      "313/313 [==============================] - 6s 20ms/step - loss: 0.4781 - accuracy: 0.7980 - val_loss: 0.5069 - val_accuracy: 0.7674\n",
      "Epoch 19/100\n",
      "313/313 [==============================] - ETA: 0s - loss: 0.4680 - accuracy: 0.8031INFO:tensorflow:Assets written to: Ex2.emd5\\assets\n",
      "313/313 [==============================] - 6s 18ms/step - loss: 0.4680 - accuracy: 0.8031 - val_loss: 0.4963 - val_accuracy: 0.7738\n",
      "Epoch 20/100\n",
      "312/313 [============================>.] - ETA: 0s - loss: 0.4599 - accuracy: 0.8060INFO:tensorflow:Assets written to: Ex2.emd5\\assets\n",
      "313/313 [==============================] - 6s 19ms/step - loss: 0.4598 - accuracy: 0.8061 - val_loss: 0.4899 - val_accuracy: 0.7792\n",
      "Epoch 21/100\n",
      "313/313 [==============================] - ETA: 0s - loss: 0.4517 - accuracy: 0.8105INFO:tensorflow:Assets written to: Ex2.emd5\\assets\n",
      "313/313 [==============================] - 6s 19ms/step - loss: 0.4517 - accuracy: 0.8105 - val_loss: 0.4843 - val_accuracy: 0.7766\n",
      "Epoch 22/100\n",
      "313/313 [==============================] - 5s 15ms/step - loss: 0.4443 - accuracy: 0.8135 - val_loss: 0.4858 - val_accuracy: 0.7796\n",
      "Epoch 23/100\n",
      "313/313 [==============================] - ETA: 0s - loss: 0.4380 - accuracy: 0.8149INFO:tensorflow:Assets written to: Ex2.emd5\\assets\n",
      "313/313 [==============================] - 6s 21ms/step - loss: 0.4380 - accuracy: 0.8149 - val_loss: 0.4766 - val_accuracy: 0.7838\n",
      "Epoch 24/100\n",
      "313/313 [==============================] - ETA: 0s - loss: 0.4323 - accuracy: 0.8171INFO:tensorflow:Assets written to: Ex2.emd5\\assets\n",
      "313/313 [==============================] - 7s 22ms/step - loss: 0.4323 - accuracy: 0.8171 - val_loss: 0.4736 - val_accuracy: 0.7812\n",
      "Epoch 25/100\n",
      "310/313 [============================>.] - ETA: 0s - loss: 0.4267 - accuracy: 0.8200INFO:tensorflow:Assets written to: Ex2.emd5\\assets\n",
      "313/313 [==============================] - 6s 21ms/step - loss: 0.4265 - accuracy: 0.8201 - val_loss: 0.4719 - val_accuracy: 0.7812\n",
      "Epoch 26/100\n",
      "313/313 [==============================] - 5s 15ms/step - loss: 0.4217 - accuracy: 0.8209 - val_loss: 0.4721 - val_accuracy: 0.7852\n",
      "Epoch 27/100\n",
      "312/313 [============================>.] - ETA: 0s - loss: 0.4178 - accuracy: 0.8217INFO:tensorflow:Assets written to: Ex2.emd5\\assets\n",
      "313/313 [==============================] - 6s 20ms/step - loss: 0.4179 - accuracy: 0.8217 - val_loss: 0.4677 - val_accuracy: 0.7866\n",
      "Epoch 28/100\n",
      "313/313 [==============================] - 5s 16ms/step - loss: 0.4135 - accuracy: 0.8237 - val_loss: 0.4712 - val_accuracy: 0.7826\n",
      "Epoch 29/100\n",
      "313/313 [==============================] - ETA: 0s - loss: 0.4103 - accuracy: 0.8255INFO:tensorflow:Assets written to: Ex2.emd5\\assets\n",
      "313/313 [==============================] - 6s 20ms/step - loss: 0.4103 - accuracy: 0.8255 - val_loss: 0.4668 - val_accuracy: 0.7838\n",
      "Epoch 30/100\n",
      "312/313 [============================>.] - ETA: 0s - loss: 0.4073 - accuracy: 0.8268INFO:tensorflow:Assets written to: Ex2.emd5\\assets\n",
      "313/313 [==============================] - 6s 19ms/step - loss: 0.4072 - accuracy: 0.8269 - val_loss: 0.4658 - val_accuracy: 0.7832\n",
      "Epoch 31/100\n",
      "312/313 [============================>.] - ETA: 0s - loss: 0.4036 - accuracy: 0.8285INFO:tensorflow:Assets written to: Ex2.emd5\\assets\n",
      "313/313 [==============================] - 6s 19ms/step - loss: 0.4039 - accuracy: 0.8284 - val_loss: 0.4656 - val_accuracy: 0.7834\n"
     ]
    },
    {
     "name": "stdout",
     "output_type": "stream",
     "text": [
      "Epoch 32/100\n",
      "313/313 [==============================] - 4s 14ms/step - loss: 0.4010 - accuracy: 0.8306 - val_loss: 0.4660 - val_accuracy: 0.7852\n",
      "Epoch 33/100\n",
      "313/313 [==============================] - 4s 14ms/step - loss: 0.3984 - accuracy: 0.8310 - val_loss: 0.4659 - val_accuracy: 0.7828\n",
      "Epoch 34/100\n",
      "313/313 [==============================] - 5s 15ms/step - loss: 0.3959 - accuracy: 0.8330 - val_loss: 0.4671 - val_accuracy: 0.7838\n"
     ]
    }
   ],
   "source": [
    "m1 = keras.Sequential()\n",
    "m1.add(keras.layers.Embedding(500,16,input_length=100))#500회,데이터를 16정도로 바꿔줌,데이터의 길이\n",
    "m1.add(keras.layers.SimpleRNN(8))\n",
    "m1.add(keras.layers.Dense(1,activation='sigmoid'))\n",
    "\n",
    "ot=keras.optimizers.RMSprop(learning_rate=1e-4)\n",
    "m1.compile(optimizer=ot,loss='binary_crossentropy',metrics='accuracy')\n",
    "ck_p = keras.callbacks.ModelCheckpoint('Ex2.emd5',save_best_only=True)\n",
    "e_stopping=keras.callbacks.EarlyStopping(patience=3,restore_best_weights=True)\n",
    "hy=m1.fit(s_t_x,t_y,epochs=100,batch_size=64,validation_data=(s_v_x,v_y),callbacks=[ck_p,e_stopping])"
   ]
  },
  {
   "cell_type": "code",
   "execution_count": 38,
   "id": "de8a1749",
   "metadata": {},
   "outputs": [
    {
     "data": {
      "text/plain": [
       "[<matplotlib.lines.Line2D at 0x27687baaf10>]"
      ]
     },
     "execution_count": 38,
     "metadata": {},
     "output_type": "execute_result"
    },
    {
     "data": {
      "image/png": "[encoded data removed]",
      "text/plain": [
       "<Figure size 432x288 with 1 Axes>"
      ]
     },
     "metadata": {
      "needs_background": "light"
     },
     "output_type": "display_data"
    }
   ],
   "source": [
    "plt.plot(hy.history['loss'])\n",
    "plt.plot(hy.history['val_loss'])"
   ]
  },
  {
   "cell_type": "code",
   "execution_count": 39,
   "id": "52376e3b",
   "metadata": {},
   "outputs": [],
   "source": [
    "t_x,v_x,t_y,v_y=train_test_split(x_data,y_data,test_size=0.2,random_state=42)\n",
    "(x_data,y_data),(tt_x,tt_y)=load_data(num_words=500)"
   ]
  },
  {
   "cell_type": "code",
   "execution_count": 40,
   "id": "1efd8263",
   "metadata": {},
   "outputs": [],
   "source": [
    "s_t_x=pad_sequences(t_x,maxlen=100)\n",
    "s_v_x=pad_sequences(v_x,maxlen=100)"
   ]
  },
  {
   "cell_type": "code",
   "execution_count": 46,
   "id": "526e5fd4",
   "metadata": {
    "scrolled": true
   },
   "outputs": [
    {
     "name": "stdout",
     "output_type": "stream",
     "text": [
      "Epoch 1/100\n",
      "313/313 [==============================] - 11s 28ms/step - loss: 0.6928 - accuracy: 0.5268 - val_loss: 0.6923 - val_accuracy: 0.5968\n",
      "Epoch 2/100\n",
      "313/313 [==============================] - 8s 27ms/step - loss: 0.6912 - accuracy: 0.5956 - val_loss: 0.6897 - val_accuracy: 0.6148\n",
      "Epoch 3/100\n",
      "313/313 [==============================] - 8s 27ms/step - loss: 0.6856 - accuracy: 0.6256 - val_loss: 0.6781 - val_accuracy: 0.6450\n",
      "Epoch 4/100\n",
      "313/313 [==============================] - 10s 32ms/step - loss: 0.6597 - accuracy: 0.6880 - val_loss: 0.6388 - val_accuracy: 0.7180\n",
      "Epoch 5/100\n",
      "313/313 [==============================] - 9s 30ms/step - loss: 0.6199 - accuracy: 0.7267 - val_loss: 0.6043 - val_accuracy: 0.7348\n",
      "Epoch 6/100\n",
      "313/313 [==============================] - 9s 30ms/step - loss: 0.5943 - accuracy: 0.7372 - val_loss: 0.5803 - val_accuracy: 0.7516\n",
      "Epoch 7/100\n",
      "313/313 [==============================] - 9s 28ms/step - loss: 0.5685 - accuracy: 0.7538 - val_loss: 0.5561 - val_accuracy: 0.7586\n",
      "Epoch 8/100\n",
      "313/313 [==============================] - 12s 39ms/step - loss: 0.5442 - accuracy: 0.7649 - val_loss: 0.5347 - val_accuracy: 0.7636\n",
      "Epoch 9/100\n",
      "313/313 [==============================] - 11s 34ms/step - loss: 0.5230 - accuracy: 0.7692 - val_loss: 0.5142 - val_accuracy: 0.7720\n",
      "Epoch 10/100\n",
      "313/313 [==============================] - 10s 31ms/step - loss: 0.5061 - accuracy: 0.7771 - val_loss: 0.5018 - val_accuracy: 0.7738\n",
      "Epoch 11/100\n",
      "313/313 [==============================] - 10s 33ms/step - loss: 0.4939 - accuracy: 0.7803 - val_loss: 0.4925 - val_accuracy: 0.7780\n",
      "Epoch 12/100\n",
      "313/313 [==============================] - 10s 31ms/step - loss: 0.4851 - accuracy: 0.7852 - val_loss: 0.4838 - val_accuracy: 0.7836\n",
      "Epoch 13/100\n",
      "313/313 [==============================] - 9s 30ms/step - loss: 0.4771 - accuracy: 0.7889 - val_loss: 0.4786 - val_accuracy: 0.7818\n",
      "Epoch 14/100\n",
      "313/313 [==============================] - 9s 29ms/step - loss: 0.4718 - accuracy: 0.7879 - val_loss: 0.4730 - val_accuracy: 0.7870\n",
      "Epoch 15/100\n",
      "313/313 [==============================] - 10s 30ms/step - loss: 0.4637 - accuracy: 0.7916 - val_loss: 0.4701 - val_accuracy: 0.7886\n",
      "Epoch 16/100\n",
      "313/313 [==============================] - 9s 28ms/step - loss: 0.4611 - accuracy: 0.7941 - val_loss: 0.4642 - val_accuracy: 0.7880\n",
      "Epoch 17/100\n",
      "313/313 [==============================] - 9s 29ms/step - loss: 0.4557 - accuracy: 0.7947 - val_loss: 0.4607 - val_accuracy: 0.7894\n",
      "Epoch 18/100\n",
      "313/313 [==============================] - 8s 26ms/step - loss: 0.4509 - accuracy: 0.7980 - val_loss: 0.4586 - val_accuracy: 0.7902\n",
      "Epoch 19/100\n",
      "313/313 [==============================] - 8s 26ms/step - loss: 0.4477 - accuracy: 0.7993 - val_loss: 0.4561 - val_accuracy: 0.7920\n",
      "Epoch 20/100\n",
      "313/313 [==============================] - 8s 26ms/step - loss: 0.4458 - accuracy: 0.8014 - val_loss: 0.4526 - val_accuracy: 0.7910\n",
      "Epoch 21/100\n",
      "313/313 [==============================] - 8s 26ms/step - loss: 0.4407 - accuracy: 0.8024 - val_loss: 0.4511 - val_accuracy: 0.7940\n",
      "Epoch 22/100\n",
      "313/313 [==============================] - 8s 26ms/step - loss: 0.4402 - accuracy: 0.8015 - val_loss: 0.4482 - val_accuracy: 0.7924\n",
      "Epoch 23/100\n",
      "313/313 [==============================] - 8s 26ms/step - loss: 0.4382 - accuracy: 0.8022 - val_loss: 0.4470 - val_accuracy: 0.7946\n",
      "Epoch 24/100\n",
      "313/313 [==============================] - 8s 26ms/step - loss: 0.4348 - accuracy: 0.8068 - val_loss: 0.4458 - val_accuracy: 0.7950\n",
      "Epoch 25/100\n",
      "313/313 [==============================] - 8s 26ms/step - loss: 0.4335 - accuracy: 0.8020 - val_loss: 0.4443 - val_accuracy: 0.7980\n",
      "Epoch 26/100\n",
      "313/313 [==============================] - 9s 30ms/step - loss: 0.4306 - accuracy: 0.8057 - val_loss: 0.4416 - val_accuracy: 0.7962\n",
      "Epoch 27/100\n",
      "313/313 [==============================] - 9s 28ms/step - loss: 0.4303 - accuracy: 0.8054 - val_loss: 0.4417 - val_accuracy: 0.7976\n",
      "Epoch 28/100\n",
      "313/313 [==============================] - 8s 27ms/step - loss: 0.4283 - accuracy: 0.8062 - val_loss: 0.4398 - val_accuracy: 0.7956\n",
      "Epoch 29/100\n",
      "313/313 [==============================] - 8s 27ms/step - loss: 0.4260 - accuracy: 0.8104 - val_loss: 0.4425 - val_accuracy: 0.7922\n",
      "Epoch 30/100\n",
      "313/313 [==============================] - 8s 26ms/step - loss: 0.4244 - accuracy: 0.8079 - val_loss: 0.4372 - val_accuracy: 0.7964\n",
      "Epoch 31/100\n",
      "313/313 [==============================] - 9s 27ms/step - loss: 0.4228 - accuracy: 0.8100 - val_loss: 0.4367 - val_accuracy: 0.8006\n",
      "Epoch 32/100\n",
      "313/313 [==============================] - 9s 28ms/step - loss: 0.4234 - accuracy: 0.8112 - val_loss: 0.4352 - val_accuracy: 0.8000\n",
      "Epoch 33/100\n",
      "313/313 [==============================] - 9s 29ms/step - loss: 0.4232 - accuracy: 0.8080 - val_loss: 0.4342 - val_accuracy: 0.7996\n",
      "Epoch 34/100\n",
      "313/313 [==============================] - 8s 27ms/step - loss: 0.4204 - accuracy: 0.8110 - val_loss: 0.4329 - val_accuracy: 0.8002\n",
      "Epoch 35/100\n",
      "313/313 [==============================] - 8s 26ms/step - loss: 0.4186 - accuracy: 0.8133 - val_loss: 0.4332 - val_accuracy: 0.8010\n",
      "Epoch 36/100\n",
      "313/313 [==============================] - 8s 27ms/step - loss: 0.4190 - accuracy: 0.8123 - val_loss: 0.4313 - val_accuracy: 0.8030\n",
      "Epoch 37/100\n",
      "313/313 [==============================] - 8s 27ms/step - loss: 0.4185 - accuracy: 0.8113 - val_loss: 0.4347 - val_accuracy: 0.8020\n",
      "Epoch 38/100\n",
      "313/313 [==============================] - 8s 27ms/step - loss: 0.4180 - accuracy: 0.8105 - val_loss: 0.4299 - val_accuracy: 0.8026\n",
      "Epoch 39/100\n",
      "313/313 [==============================] - 9s 28ms/step - loss: 0.4162 - accuracy: 0.8109 - val_loss: 0.4315 - val_accuracy: 0.8034\n",
      "Epoch 40/100\n",
      "313/313 [==============================] - 9s 29ms/step - loss: 0.4138 - accuracy: 0.8131 - val_loss: 0.4299 - val_accuracy: 0.8044\n",
      "Epoch 41/100\n",
      "313/313 [==============================] - 9s 30ms/step - loss: 0.4154 - accuracy: 0.8101 - val_loss: 0.4286 - val_accuracy: 0.8030\n",
      "Epoch 42/100\n",
      "313/313 [==============================] - 11s 34ms/step - loss: 0.4118 - accuracy: 0.8152 - val_loss: 0.4278 - val_accuracy: 0.8034\n",
      "Epoch 43/100\n",
      "313/313 [==============================] - 17s 54ms/step - loss: 0.4126 - accuracy: 0.8130 - val_loss: 0.4266 - val_accuracy: 0.8046\n",
      "Epoch 44/100\n",
      "313/313 [==============================] - 15s 48ms/step - loss: 0.4099 - accuracy: 0.8142 - val_loss: 0.4273 - val_accuracy: 0.8068\n",
      "Epoch 45/100\n",
      "313/313 [==============================] - 15s 47ms/step - loss: 0.4106 - accuracy: 0.8138 - val_loss: 0.4262 - val_accuracy: 0.8052\n",
      "Epoch 46/100\n",
      "313/313 [==============================] - 11s 35ms/step - loss: 0.4095 - accuracy: 0.8142 - val_loss: 0.4307 - val_accuracy: 0.7994\n",
      "Epoch 47/100\n",
      "313/313 [==============================] - 9s 27ms/step - loss: 0.4100 - accuracy: 0.8149 - val_loss: 0.4255 - val_accuracy: 0.8036\n",
      "Epoch 48/100\n",
      "313/313 [==============================] - 8s 26ms/step - loss: 0.4084 - accuracy: 0.8149 - val_loss: 0.4246 - val_accuracy: 0.8070\n",
      "Epoch 49/100\n",
      "313/313 [==============================] - 8s 26ms/step - loss: 0.4073 - accuracy: 0.8148 - val_loss: 0.4243 - val_accuracy: 0.8084\n",
      "Epoch 50/100\n",
      "313/313 [==============================] - 8s 26ms/step - loss: 0.4053 - accuracy: 0.8184 - val_loss: 0.4248 - val_accuracy: 0.8076\n",
      "Epoch 51/100\n",
      "313/313 [==============================] - 8s 26ms/step - loss: 0.4054 - accuracy: 0.8165 - val_loss: 0.4293 - val_accuracy: 0.7990\n",
      "Epoch 52/100\n",
      "313/313 [==============================] - 8s 27ms/step - loss: 0.4049 - accuracy: 0.8151 - val_loss: 0.4265 - val_accuracy: 0.8004\n"
     ]
    }
   ],
   "source": [
    "m2 = keras.Sequential()\n",
    "m2.add(keras.layers.Embedding(500,16,input_length=100))#전처리층\n",
    "m2.add(keras.layers.LSTM(8,dropout=0.3))#학습된 레이어층\n",
    "m2.add(keras.layers.Dense(1,activation='sigmoid'))\n",
    "\n",
    "ot=keras.optimizers.RMSprop(learning_rate=1e-4)\n",
    "m2.compile(optimizer=ot,loss='binary_crossentropy',metrics='accuracy')\n",
    "ck_p = keras.callbacks.ModelCheckpoint('Ex2_LSTM.h5',save_best_only=True)\n",
    "e_stopping=keras.callbacks.EarlyStopping(patience=3,restore_best_weights=True)\n",
    "hy2=m2.fit(s_t_x,t_y,epochs=100,batch_size=64,validation_data=(s_v_x,v_y),callbacks=[ck_p,e_stopping])"
   ]
  },
  {
   "cell_type": "code",
   "execution_count": null,
   "id": "ec94efe1",
   "metadata": {},
   "outputs": [],
   "source": [
    "plt.plot(hy2.history['loss'])\n",
    "plt.plot(hy2.history['val_loss'])"
   ]
  },
  {
   "cell_type": "code",
   "execution_count": null,
   "id": "2c3641d0",
   "metadata": {},
   "outputs": [],
   "source": [
    "#컴벌루션 네트워크 ->데이터 특징을 잘뽑아냄\n",
    "#RNN은 이전과 이후의 데이터에 영향을 끼침 연속적인 관련성을 포함시키는것 ,순환적인 특성을 토대로 이전의 데이터의 영향력을 유지시는 학습\n",
    "#단점 단기기억\n",
    "m3 = keras.Sequential()\n",
    "m3.add(keras.layers.Embedding(500,16,input_length=100))#전처리층\n",
    "m3.add(keras.layers.GRU(8,dropout=0.3))#학습된 레이어층\n",
    "m3.add(keras.layers.Dense(1,activation='sigmoid'))\n",
    "\n",
    "#가중치 갱신방법 옵티마이저\n",
    "ot=keras.optimizers.RMSprop(learning_rate=1e-4)\n",
    "m3.compile(optimizer=ot,loss='binary_crossentropy',metrics='accuracy')\n",
    "ck_p = keras.callbacks.ModelCheckpoint('Ex2_LSTM.h5',save_best_only=True)\n",
    "e_stopping=keras.callbacks.EarlyStopping(patience=3,restore_best_weights=True)\n",
    "hy3=m3.fit(s_t_x,t_y,epochs=100,batch_size=64,validation_data=(s_v_x,v_y),callbacks=[ck_p,e_stopping])"
   ]
  }
 ],
 "metadata": {
  "kernelspec": {
   "display_name": "Python 3 (ipykernel)",
   "language": "python",
   "name": "python3"
  },
  "language_info": {
   "codemirror_mode": {
    "name": "ipython",
    "version": 3
   },
   "file_extension": ".py",
   "mimetype": "text/x-python",
   "name": "python",
   "nbconvert_exporter": "python",
   "pygments_lexer": "ipython3",
   "version": "3.9.7"
  }
 },
 "nbformat": 4,
 "nbformat_minor": 5
}
