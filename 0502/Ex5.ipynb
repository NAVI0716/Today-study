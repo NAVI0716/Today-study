{
 "cells": [
  {
   "cell_type": "code",
   "execution_count": 1,
   "id": "80c6addb",
   "metadata": {},
   "outputs": [],
   "source": [
    "import numpy as np\n",
    "import tensorflow as tf\n",
    "np.random.seed(42)\n",
    "tf.random.set_seed(42)"
   ]
  },
  {
   "cell_type": "code",
   "execution_count": 38,
   "id": "b8c7caa6",
   "metadata": {},
   "outputs": [
    {
     "data": {
      "text/plain": [
       "(60000, 28, 28)"
      ]
     },
     "execution_count": 38,
     "metadata": {},
     "output_type": "execute_result"
    }
   ],
   "source": [
    "from tensorflow import keras\n",
    "from sklearn.model_selection import train_test_split\n",
    "from keras.datasets.fashion_mnist import load_data\n",
    "import matplotlib.pyplot as plt\n",
    "(x_data,y_data),(t_x_data,t_y_data) = load_data()\n",
    "x_data.shape"
   ]
  },
  {
   "cell_type": "code",
   "execution_count": 2,
   "id": "f2ea095e",
   "metadata": {},
   "outputs": [],
   "source": [
    "from tensorflow import keras\n",
    "from sklearn.model_selection import train_test_split\n",
    "from keras.datasets.fashion_mnist import load_data\n",
    "import matplotlib.pyplot as plt\n",
    "(x_data,y_data),(t_x_data,t_y_data) = load_data()\n",
    "x_data=x_data.reshape(-1,28,28,1)/255.0\n",
    "t_x,tt_x,t_y,tt_y = train_test_split(x_data,y_data,test_size=0.2,random_state=42)"
   ]
  },
  {
   "cell_type": "code",
   "execution_count": 3,
   "id": "2edc9fa1",
   "metadata": {},
   "outputs": [],
   "source": [
    "m=keras.Sequential()\n",
    "m.add(keras.layers.Conv2D(32,kernel_size=3,activation='relu',padding='same'#32장의 이미지\n",
    "                          ,input_shape=(28,28,1)))\n",
    "m.add(keras.layers.MaxPooling2D(2)) #차원축소,이미지에서 풀링작업하면 이미지이동에 둔감해진다.\n",
    "m.add(keras.layers.Conv2D(64,kernel_size=(3,3),activation='relu',padding='same'))\n",
    "m.add(keras.layers.MaxPooling2D(2)) #맥스풀링/평균 풀링"
   ]
  },
  {
   "cell_type": "code",
   "execution_count": 4,
   "id": "4c08c35c",
   "metadata": {
    "scrolled": true
   },
   "outputs": [
    {
     "name": "stdout",
     "output_type": "stream",
     "text": [
      "Model: \"sequential\"\n",
      "_________________________________________________________________\n",
      " Layer (type)                Output Shape              Param #   \n",
      "=================================================================\n",
      " conv2d (Conv2D)             (None, 28, 28, 32)        320       \n",
      "                                                                 \n",
      " max_pooling2d (MaxPooling2D  (None, 14, 14, 32)       0         \n",
      " )                                                               \n",
      "                                                                 \n",
      " conv2d_1 (Conv2D)           (None, 14, 14, 64)        18496     \n",
      "                                                                 \n",
      " max_pooling2d_1 (MaxPooling  (None, 7, 7, 64)         0         \n",
      " 2D)                                                             \n",
      "                                                                 \n",
      " flatten (Flatten)           (None, 3136)              0         \n",
      "                                                                 \n",
      " dense (Dense)               (None, 100)               313700    \n",
      "                                                                 \n",
      " dropout (Dropout)           (None, 100)               0         \n",
      "                                                                 \n",
      " dense_1 (Dense)             (None, 10)                1010      \n",
      "                                                                 \n",
      "=================================================================\n",
      "Total params: 333,526\n",
      "Trainable params: 333,526\n",
      "Non-trainable params: 0\n",
      "_________________________________________________________________\n"
     ]
    }
   ],
   "source": [
    "#가중치의 특징을 가지고있는 뉴런\n",
    "m.add(keras.layers.Flatten())\n",
    "m.add(keras.layers.Dense(100,activation='relu'))\n",
    "m.add(keras.layers.Dropout(0.4))\n",
    "m.add(keras.layers.Dense(10,activation='softmax'))\n",
    "m.summary()"
   ]
  },
  {
   "cell_type": "code",
   "execution_count": 5,
   "id": "8557351d",
   "metadata": {
    "scrolled": false
   },
   "outputs": [
    {
     "data": {
      "image/png": "[encoded data removed]",
      "text/plain": [
       "<IPython.core.display.Image object>"
      ]
     },
     "execution_count": 5,
     "metadata": {},
     "output_type": "execute_result"
    }
   ],
   "source": [
    "keras.utils.plot_model(m)"
   ]
  },
  {
   "cell_type": "code",
   "execution_count": 7,
   "id": "eb93ad6c",
   "metadata": {},
   "outputs": [],
   "source": [
    "m.compile(optimizer='adam', loss='sparse_categorical_crossentropy', \n",
    "              metrics='accuracy')"
   ]
  },
  {
   "cell_type": "code",
   "execution_count": 11,
   "id": "d94bd15d",
   "metadata": {},
   "outputs": [
    {
     "name": "stdout",
     "output_type": "stream",
     "text": [
      "Epoch 1/20\n",
      "1500/1500 [==============================] - 25s 16ms/step - loss: 0.5385 - accuracy: 0.8073 - val_loss: 0.3411 - val_accuracy: 0.8733\n",
      "Epoch 2/20\n",
      "1500/1500 [==============================] - 24s 16ms/step - loss: 0.3566 - accuracy: 0.8728 - val_loss: 0.2786 - val_accuracy: 0.8950\n",
      "Epoch 3/20\n",
      "1500/1500 [==============================] - 25s 16ms/step - loss: 0.3035 - accuracy: 0.8904 - val_loss: 0.2595 - val_accuracy: 0.9027\n",
      "Epoch 4/20\n",
      "1500/1500 [==============================] - 24s 16ms/step - loss: 0.2729 - accuracy: 0.9011 - val_loss: 0.2391 - val_accuracy: 0.9112\n",
      "Epoch 5/20\n",
      "1500/1500 [==============================] - 24s 16ms/step - loss: 0.2451 - accuracy: 0.9112 - val_loss: 0.2494 - val_accuracy: 0.9082\n",
      "Epoch 6/20\n",
      "1500/1500 [==============================] - 24s 16ms/step - loss: 0.2268 - accuracy: 0.9163 - val_loss: 0.2234 - val_accuracy: 0.9172\n",
      "Epoch 7/20\n",
      "1500/1500 [==============================] - 24s 16ms/step - loss: 0.2115 - accuracy: 0.9222 - val_loss: 0.2174 - val_accuracy: 0.9221\n",
      "Epoch 8/20\n",
      "1500/1500 [==============================] - 24s 16ms/step - loss: 0.1924 - accuracy: 0.9290 - val_loss: 0.2196 - val_accuracy: 0.9214\n",
      "Epoch 9/20\n",
      "1500/1500 [==============================] - 24s 16ms/step - loss: 0.1800 - accuracy: 0.9330 - val_loss: 0.2187 - val_accuracy: 0.9225\n"
     ]
    }
   ],
   "source": [
    "ck_p=keras.callbacks.ModelCheckpoint('best-cnn-model.h5',save_best_only=True)\n",
    "e_stopping= keras.callbacks.EarlyStopping(patience=2, restore_best_weights=True)\n",
    "history=m.fit(t_x,t_y,epochs=20,validation_data=(tt_x,tt_y),callbacks=[ck_p,e_stopping])"
   ]
  },
  {
   "cell_type": "code",
   "execution_count": 13,
   "id": "cdc7ff54",
   "metadata": {},
   "outputs": [
    {
     "data": {
      "text/plain": [
       "[<matplotlib.lines.Line2D at 0x1db13d7d640>]"
      ]
     },
     "execution_count": 13,
     "metadata": {},
     "output_type": "execute_result"
    },
    {
     "data": {
      "image/png": "[encoded data removed]",
      "text/plain": [
       "<Figure size 432x288 with 1 Axes>"
      ]
     },
     "metadata": {
      "needs_background": "light"
     },
     "output_type": "display_data"
    }
   ],
   "source": [
    "plt.plot(history.history['loss'])\n",
    "plt.plot(history.history['val_loss'])"
   ]
  },
  {
   "cell_type": "code",
   "execution_count": 21,
   "id": "1dc7eb0c",
   "metadata": {},
   "outputs": [
    {
     "name": "stdout",
     "output_type": "stream",
     "text": [
      "375/375 [==============================] - 2s 5ms/step - loss: 0.2174 - accuracy: 0.9221\n"
     ]
    },
    {
     "data": {
      "text/plain": [
       "[0.21740148961544037, 0.92208331823349]"
      ]
     },
     "execution_count": 21,
     "metadata": {},
     "output_type": "execute_result"
    }
   ],
   "source": [
    "m2=keras.models.load_model('best-cnn-model.h5')\n",
    "m.evaluate(tt_x,tt_y)"
   ]
  },
  {
   "cell_type": "code",
   "execution_count": 22,
   "id": "e1788cb8",
   "metadata": {},
   "outputs": [
    {
     "name": "stdout",
     "output_type": "stream",
     "text": [
      "375/375 [==============================] - 2s 5ms/step - loss: 0.2174 - accuracy: 0.9221\n"
     ]
    },
    {
     "data": {
      "text/plain": [
       "[0.21740148961544037, 0.92208331823349]"
      ]
     },
     "execution_count": 22,
     "metadata": {},
     "output_type": "execute_result"
    }
   ],
   "source": [
    "m2.evaluate(tt_x,tt_y)"
   ]
  },
  {
   "cell_type": "code",
   "execution_count": 14,
   "id": "9348281c",
   "metadata": {},
   "outputs": [
    {
     "data": {
      "image/png": "[encoded data removed]",
      "text/plain": [
       "<Figure size 432x288 with 1 Axes>"
      ]
     },
     "metadata": {
      "needs_background": "light"
     },
     "output_type": "display_data"
    }
   ],
   "source": [
    "plt.imshow(tt_x[0].reshape(28,28),cmap='gray_r')\n",
    "plt.show()"
   ]
  },
  {
   "cell_type": "code",
   "execution_count": 16,
   "id": "9774cdc1",
   "metadata": {},
   "outputs": [
    {
     "data": {
      "text/plain": [
       "array([[2.4953233e-13, 1.5463866e-22, 3.4826935e-16, 1.2512136e-14,\n",
       "        1.3681427e-14, 4.9515347e-14, 7.5126103e-14, 4.2307809e-15,\n",
       "        1.0000000e+00, 1.9333017e-15]], dtype=float32)"
      ]
     },
     "execution_count": 16,
     "metadata": {},
     "output_type": "execute_result"
    }
   ],
   "source": [
    "ck_data=m.predict(tt_x[0:1])\n",
    "ck_data"
   ]
  },
  {
   "cell_type": "code",
   "execution_count": 17,
   "id": "42aa7cff",
   "metadata": {},
   "outputs": [
    {
     "data": {
      "text/plain": [
       "<BarContainer object of 10 artists>"
      ]
     },
     "execution_count": 17,
     "metadata": {},
     "output_type": "execute_result"
    },
    {
     "data": {
      "image/png": "[encoded data removed]",
      "text/plain": [
       "<Figure size 432x288 with 1 Axes>"
      ]
     },
     "metadata": {
      "needs_background": "light"
     },
     "output_type": "display_data"
    }
   ],
   "source": [
    "plt.bar(range(1,11),ck_data[0])"
   ]
  },
  {
   "cell_type": "code",
   "execution_count": 23,
   "id": "6fb9a721",
   "metadata": {},
   "outputs": [
    {
     "data": {
      "text/plain": [
       "8"
      ]
     },
     "execution_count": 23,
     "metadata": {},
     "output_type": "execute_result"
    }
   ],
   "source": [
    "tt_y[0]#값이 위치하는 장소"
   ]
  },
  {
   "cell_type": "code",
   "execution_count": 24,
   "id": "ba2f7a0d",
   "metadata": {},
   "outputs": [
    {
     "data": {
      "text/plain": [
       "'가방'"
      ]
     },
     "execution_count": 24,
     "metadata": {},
     "output_type": "execute_result"
    }
   ],
   "source": [
    "classes = ['티셔츠','바지','스웨터','드레스','코트','샌달','셔츠','스니커즈','가방','앵클 부츠']\n",
    "classes[np.argmax(ck_data)]"
   ]
  },
  {
   "cell_type": "code",
   "execution_count": 25,
   "id": "55e5bcff",
   "metadata": {},
   "outputs": [
    {
     "name": "stdout",
     "output_type": "stream",
     "text": [
      "313/313 [==============================] - 2s 6ms/step - loss: 0.2374 - accuracy: 0.9150\n"
     ]
    },
    {
     "data": {
      "text/plain": [
       "[0.2374257743358612, 0.9150000214576721]"
      ]
     },
     "execution_count": 25,
     "metadata": {},
     "output_type": "execute_result"
    }
   ],
   "source": [
    "ck_data1=t_x_data.reshape(-1,28,28,1)/255.0\n",
    "m.evaluate(ck_data1,t_y_data)"
   ]
  },
  {
   "cell_type": "code",
   "execution_count": 29,
   "id": "00f3d376",
   "metadata": {},
   "outputs": [
    {
     "data": {
      "text/plain": [
       "array([[3.17681481e-09, 3.98475654e-12, 1.08117383e-10, 9.84422432e-10,\n",
       "        1.79840351e-10, 5.67811139e-06, 2.21418595e-09, 4.73031629e-04,\n",
       "        9.32420030e-10, 9.99521255e-01],\n",
       "       [1.01533949e-07, 1.57084733e-14, 9.99998331e-01, 1.69786182e-11,\n",
       "        4.15880464e-07, 8.65122262e-17, 1.23078621e-06, 1.17418191e-20,\n",
       "        1.95128462e-11, 6.12231196e-18],\n",
       "       [1.11042217e-11, 1.00000000e+00, 1.52617903e-12, 1.62732527e-09,\n",
       "        2.59603672e-10, 6.00544666e-16, 3.81280736e-11, 4.28148473e-15,\n",
       "        1.74774732e-13, 8.77567943e-14],\n",
       "       [8.05284726e-14, 1.00000000e+00, 1.49360437e-14, 1.20368160e-11,\n",
       "        1.69335622e-11, 2.72803054e-19, 9.20176804e-13, 3.83167353e-19,\n",
       "        3.99040027e-16, 8.85743842e-18],\n",
       "       [1.34147972e-01, 5.73023669e-07, 2.07889192e-02, 6.50765665e-04,\n",
       "        3.08173546e-03, 4.41060024e-08, 8.41139257e-01, 1.59476521e-08,\n",
       "        1.90049963e-04, 6.19950981e-07],\n",
       "       [2.05904338e-09, 9.99999881e-01, 3.09928333e-10, 1.35418134e-07,\n",
       "        1.31340201e-08, 1.05413096e-12, 8.27953817e-10, 7.13927276e-14,\n",
       "        1.33692155e-10, 4.67990273e-12],\n",
       "       [6.84962652e-06, 2.68670169e-10, 7.34330595e-01, 1.71033787e-09,\n",
       "        2.65543193e-01, 6.54570105e-12, 1.19349665e-04, 1.85836674e-14,\n",
       "        1.30807480e-08, 3.25712818e-10],\n",
       "       [5.54719081e-05, 2.47524294e-08, 6.70752896e-04, 4.94298351e-04,\n",
       "        3.69107500e-02, 1.81508042e-07, 9.61847544e-01, 6.96288582e-09,\n",
       "        2.05909328e-05, 4.48012230e-07],\n",
       "       [3.60721629e-07, 1.07764405e-12, 6.01092651e-08, 2.36293957e-07,\n",
       "        2.56121773e-08, 9.99858856e-01, 5.68897690e-07, 5.12075603e-05,\n",
       "        8.83707835e-05, 1.33923606e-07],\n",
       "       [3.84672544e-10, 1.08792183e-14, 3.28033526e-13, 8.86109654e-13,\n",
       "        7.75360136e-14, 2.70866565e-08, 1.46293377e-11, 9.99998331e-01,\n",
       "        2.04390407e-10, 1.70343071e-06]], dtype=float32)"
      ]
     },
     "execution_count": 29,
     "metadata": {},
     "output_type": "execute_result"
    }
   ],
   "source": [
    "y_l=m.predict(ck_data1[0:10])\n"
   ]
  },
  {
   "cell_type": "code",
   "execution_count": 30,
   "id": "4ce548dd",
   "metadata": {},
   "outputs": [
    {
     "data": {
      "text/plain": [
       "'스웨터'"
      ]
     },
     "execution_count": 30,
     "metadata": {},
     "output_type": "execute_result"
    }
   ],
   "source": [
    "classes[np.argmax(y_l[1:2])]"
   ]
  },
  {
   "cell_type": "code",
   "execution_count": 31,
   "id": "9ad21094",
   "metadata": {},
   "outputs": [
    {
     "data": {
      "image/png": "[encoded data removed]",
      "text/plain": [
       "<Figure size 432x288 with 1 Axes>"
      ]
     },
     "metadata": {
      "needs_background": "light"
     },
     "output_type": "display_data"
    }
   ],
   "source": [
    "plt.imshow(ck_data1[1].reshape(28,28),cmap='gray_r')\n",
    "plt.show()"
   ]
  },
  {
   "cell_type": "code",
   "execution_count": 32,
   "id": "699007fe",
   "metadata": {},
   "outputs": [
    {
     "data": {
      "text/plain": [
       "10"
      ]
     },
     "execution_count": 32,
     "metadata": {},
     "output_type": "execute_result"
    }
   ],
   "source": [
    "len(y_l)"
   ]
  },
  {
   "cell_type": "code",
   "execution_count": 34,
   "id": "ea3504a9",
   "metadata": {},
   "outputs": [
    {
     "data": {
      "image/png": "[encoded data removed]",
      "text/plain": [
       "<Figure size 432x288 with 1 Axes>"
      ]
     },
     "metadata": {
      "needs_background": "light"
     },
     "output_type": "display_data"
    },
    {
     "data": {
      "image/png": "[encoded data removed]",
      "text/plain": [
       "<Figure size 432x288 with 1 Axes>"
      ]
     },
     "metadata": {
      "needs_background": "light"
     },
     "output_type": "display_data"
    },
    {
     "data": {
      "image/png": "[encoded data removed]",
      "text/plain": [
       "<Figure size 432x288 with 1 Axes>"
      ]
     },
     "metadata": {
      "needs_background": "light"
     },
     "output_type": "display_data"
    },
    {
     "data": {
      "image/png": "[encoded data removed]",
      "text/plain": [
       "<Figure size 432x288 with 1 Axes>"
      ]
     },
     "metadata": {
      "needs_background": "light"
     },
     "output_type": "display_data"
    },
    {
     "data": {
      "image/png": "[encoded data removed]",
      "text/plain": [
       "<Figure size 432x288 with 1 Axes>"
      ]
     },
     "metadata": {
      "needs_background": "light"
     },
     "output_type": "display_data"
    },
    {
     "data": {
      "image/png": "[encoded data removed]",
      "text/plain": [
       "<Figure size 432x288 with 1 Axes>"
      ]
     },
     "metadata": {
      "needs_background": "light"
     },
     "output_type": "display_data"
    },
    {
     "data": {
      "image/png": "[encoded data removed]",
      "text/plain": [
       "<Figure size 432x288 with 1 Axes>"
      ]
     },
     "metadata": {
      "needs_background": "light"
     },
     "output_type": "display_data"
    },
    {
     "data": {
      "image/png": "[encoded data removed]",
      "text/plain": [
       "<Figure size 432x288 with 1 Axes>"
      ]
     },
     "metadata": {
      "needs_background": "light"
     },
     "output_type": "display_data"
    },
    {
     "data": {
      "image/png": "[encoded data removed]",
      "text/plain": [
       "<Figure size 432x288 with 1 Axes>"
      ]
     },
     "metadata": {
      "needs_background": "light"
     },
     "output_type": "display_data"
    }
   ],
   "source": [
    "for i in range(len(y_l)-1):\n",
    "    classes[np.argmax(y_l[i,i+1])]\n",
    "    plt.imshow(ck_data1[i].reshape(28,28),cmap='gray_r')\n",
    "    plt.show()"
   ]
  },
  {
   "cell_type": "code",
   "execution_count": null,
   "id": "623678e0",
   "metadata": {},
   "outputs": [],
   "source": []
  },
  {
   "cell_type": "code",
   "execution_count": null,
   "id": "b577d540",
   "metadata": {},
   "outputs": [],
   "source": []
  }
 ],
 "metadata": {
  "kernelspec": {
   "display_name": "Python 3 (ipykernel)",
   "language": "python",
   "name": "python3"
  },
  "language_info": {
   "codemirror_mode": {
    "name": "ipython",
    "version": 3
   },
   "file_extension": ".py",
   "mimetype": "text/x-python",
   "name": "python",
   "nbconvert_exporter": "python",
   "pygments_lexer": "ipython3",
   "version": "3.9.7"
  }
 },
 "nbformat": 4,
 "nbformat_minor": 5
}
