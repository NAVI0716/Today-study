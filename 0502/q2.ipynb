{
 "cells": [
  {
   "cell_type": "code",
   "execution_count": 1,
   "id": "4c72ba4c",
   "metadata": {},
   "outputs": [],
   "source": [
    "from keras.datasets.mnist import load_data\n",
    "import matplotlib.pyplot as plt\n",
    "import numpy as np\n",
    "(x_data,y_data),(t_x_data,t_y_data) = load_data()"
   ]
  },
  {
   "cell_type": "markdown",
   "id": "9f68ab7b",
   "metadata": {},
   "source": [
    "plt.imshow(x_data[0],cmap='gray_r')"
   ]
  },
  {
   "cell_type": "markdown",
   "id": "59498644",
   "metadata": {},
   "source": [
    " CNN분류기\n",
    "1. 모델을 만들어주세요\n",
    "    - 컨벌루션2층\n",
    "    - 뉴럴은 최소 1층\n",
    "    - 모델의 형상을 출력\n",
    "2. 학습 / 최적모델을  저장하시오\n",
    "    - 조건을 부여하여 학습의 진행을 정지시켜라.\n",
    "    - 검증 데이터를 이용하여 점수를 도출하시오\n",
    "3. 시각화 작업\n",
    "    - 테스트 데이터를 이용하여 입력을 통한 결과출력을 시각화하시오\n",
    "    - 테스트 데이터를 이용하여 점수를 도출하시오\n",
    "4. 모델피처 검토\n",
    "    - 학습된 모델을 이용하여 컨벌루션 층의 피쳐들을 시각화하시오."
   ]
  },
  {
   "cell_type": "code",
   "execution_count": 2,
   "id": "2c906b55",
   "metadata": {},
   "outputs": [],
   "source": [
    "from sklearn.model_selection import train_test_split\n",
    "import tensorflow as tf\n",
    "from tensorflow import keras"
   ]
  },
  {
   "cell_type": "code",
   "execution_count": 3,
   "id": "5cb1cba4",
   "metadata": {},
   "outputs": [
    {
     "data": {
      "text/plain": [
       "(60000, 28, 28)"
      ]
     },
     "execution_count": 3,
     "metadata": {},
     "output_type": "execute_result"
    }
   ],
   "source": [
    "x_data.shape"
   ]
  },
  {
   "cell_type": "code",
   "execution_count": 24,
   "id": "3665c34d",
   "metadata": {},
   "outputs": [
    {
     "data": {
      "text/plain": [
       "10"
      ]
     },
     "execution_count": 24,
     "metadata": {},
     "output_type": "execute_result"
    }
   ],
   "source": [
    "np.unique(y_data)"
   ]
  },
  {
   "cell_type": "code",
   "execution_count": 5,
   "id": "d6161cd6",
   "metadata": {},
   "outputs": [],
   "source": [
    "x_data=x_data.reshape(-1,28,28,1)/255.0\n",
    "tt_x=t_x_data.reshape(-1,28,28,1)/255.0\n",
    "tt_y=t_y_data\n",
    "t_x,v_x,t_y,v_y=train_test_split(x_data,y_data,test_size=0.2,random_state=42)"
   ]
  },
  {
   "cell_type": "code",
   "execution_count": 11,
   "id": "6110a053",
   "metadata": {},
   "outputs": [],
   "source": [
    "m=keras.Sequential()\n",
    "m.add(keras.layers.Conv2D(32,kernel_size=(3,3),activation='relu',padding='same', input_shape=(28,28,1)))\n",
    "m.add(keras.layers.MaxPooling2D(pool_size=(2,2)))\n",
    "m.add(keras.layers.Conv2D(64,kernel_size=(3,3),activation='relu',padding='same'))\n",
    "m.add(keras.layers.MaxPooling2D(pool_size=(2,2)))      "
   ]
  },
  {
   "cell_type": "code",
   "execution_count": 12,
   "id": "d4581db2",
   "metadata": {
    "scrolled": true
   },
   "outputs": [
    {
     "name": "stdout",
     "output_type": "stream",
     "text": [
      "Model: \"sequential_1\"\n",
      "_________________________________________________________________\n",
      " Layer (type)                Output Shape              Param #   \n",
      "=================================================================\n",
      " conv2d_2 (Conv2D)           (None, 28, 28, 32)        320       \n",
      "                                                                 \n",
      " max_pooling2d_2 (MaxPooling  (None, 14, 14, 32)       0         \n",
      " 2D)                                                             \n",
      "                                                                 \n",
      " conv2d_3 (Conv2D)           (None, 14, 14, 64)        18496     \n",
      "                                                                 \n",
      " max_pooling2d_3 (MaxPooling  (None, 7, 7, 64)         0         \n",
      " 2D)                                                             \n",
      "                                                                 \n",
      " flatten_2 (Flatten)         (None, 3136)              0         \n",
      "                                                                 \n",
      " dense_4 (Dense)             (None, 100)               313700    \n",
      "                                                                 \n",
      " dense_5 (Dense)             (None, 10)                1010      \n",
      "                                                                 \n",
      "=================================================================\n",
      "Total params: 333,526\n",
      "Trainable params: 333,526\n",
      "Non-trainable params: 0\n",
      "_________________________________________________________________\n"
     ]
    }
   ],
   "source": [
    "m.add(keras.layers.Flatten())\n",
    "m.add(keras.layers.Dense(100,activation='relu'))\n",
    "m.add(keras.layers.Dense(10,activation='softmax'))\n",
    "m.summary()"
   ]
  },
  {
   "cell_type": "code",
   "execution_count": 13,
   "id": "7d81efc2",
   "metadata": {},
   "outputs": [],
   "source": [
    "m.compile(optimizer='adam', loss='sparse_categorical_crossentropy', metrics='accuracy')"
   ]
  },
  {
   "cell_type": "code",
   "execution_count": 14,
   "id": "cc90e50d",
   "metadata": {},
   "outputs": [
    {
     "name": "stdout",
     "output_type": "stream",
     "text": [
      "Epoch 1/20\n",
      "1498/1500 [============================>.] - ETA: 0s - loss: 0.1434 - accuracy: 0.9560INFO:tensorflow:Assets written to: best_sellect.h\\assets\n",
      "1500/1500 [==============================] - 29s 19ms/step - loss: 0.1432 - accuracy: 0.9560 - val_loss: 0.0626 - val_accuracy: 0.9811\n",
      "Epoch 2/20\n",
      "1498/1500 [============================>.] - ETA: 0s - loss: 0.0470 - accuracy: 0.9854INFO:tensorflow:Assets written to: best_sellect.h\\assets\n",
      "1500/1500 [==============================] - 29s 19ms/step - loss: 0.0469 - accuracy: 0.9854 - val_loss: 0.0406 - val_accuracy: 0.9883\n",
      "Epoch 3/20\n",
      "1500/1500 [==============================] - 28s 19ms/step - loss: 0.0311 - accuracy: 0.9906 - val_loss: 0.0430 - val_accuracy: 0.9868\n",
      "Epoch 4/20\n",
      "1498/1500 [============================>.] - ETA: 0s - loss: 0.0221 - accuracy: 0.9930INFO:tensorflow:Assets written to: best_sellect.h\\assets\n",
      "1500/1500 [==============================] - 29s 19ms/step - loss: 0.0221 - accuracy: 0.9930 - val_loss: 0.0369 - val_accuracy: 0.9893\n",
      "Epoch 5/20\n",
      "1498/1500 [============================>.] - ETA: 0s - loss: 0.0174 - accuracy: 0.9942INFO:tensorflow:Assets written to: best_sellect.h\\assets\n",
      "1500/1500 [==============================] - 31s 21ms/step - loss: 0.0174 - accuracy: 0.9942 - val_loss: 0.0345 - val_accuracy: 0.9907\n",
      "Epoch 6/20\n",
      "1500/1500 [==============================] - 30s 20ms/step - loss: 0.0127 - accuracy: 0.9959 - val_loss: 0.0413 - val_accuracy: 0.9889\n",
      "Epoch 7/20\n",
      "1500/1500 [==============================] - 31s 21ms/step - loss: 0.0103 - accuracy: 0.9966 - val_loss: 0.0412 - val_accuracy: 0.9906\n"
     ]
    }
   ],
   "source": [
    "ck=keras.callbacks.ModelCheckpoint('best_sellect.h',save_best_only=True)\n",
    "stop=keras.callbacks.EarlyStopping(patience=2)\n",
    "his = m.fit(t_x,t_y,epochs=20,validation_data=(v_x,v_y),callbacks=[ck,stop])"
   ]
  },
  {
   "cell_type": "code",
   "execution_count": 18,
   "id": "bfe4566e",
   "metadata": {},
   "outputs": [
    {
     "name": "stdout",
     "output_type": "stream",
     "text": [
      "375/375 [==============================] - 2s 5ms/step - loss: 0.0412 - accuracy: 0.9906\n",
      "375/375 [==============================] - 2s 5ms/step - loss: 0.0345 - accuracy: 0.9907\n"
     ]
    },
    {
     "data": {
      "text/plain": [
       "([0.04116111248731613, 0.9905833601951599],\n",
       " [0.03448905050754547, 0.9906666874885559])"
      ]
     },
     "execution_count": 18,
     "metadata": {},
     "output_type": "execute_result"
    }
   ],
   "source": [
    "m2=keras.models.load_model('best_sellect.h')\n",
    "m.evaluate(v_x,v_y),m2.evaluate(v_x,v_y)"
   ]
  },
  {
   "cell_type": "code",
   "execution_count": 21,
   "id": "f2017ab0",
   "metadata": {},
   "outputs": [
    {
     "data": {
      "image/png": "[encoded data removed]",
      "text/plain": [
       "<Figure size 432x288 with 1 Axes>"
      ]
     },
     "metadata": {
      "needs_background": "light"
     },
     "output_type": "display_data"
    }
   ],
   "source": [
    "plt.plot(his.history['loss'])\n",
    "plt.plot(his.history['val_loss'])\n",
    "plt.show()"
   ]
  },
  {
   "cell_type": "code",
   "execution_count": 22,
   "id": "5e2160e7",
   "metadata": {},
   "outputs": [
    {
     "data": {
      "image/png": "[encoded data removed]",
      "text/plain": [
       "<Figure size 432x288 with 1 Axes>"
      ]
     },
     "metadata": {
      "needs_background": "light"
     },
     "output_type": "display_data"
    }
   ],
   "source": [
    "plt.plot(his.history['accuracy'])\n",
    "plt.plot(his.history['val_accuracy'])\n",
    "plt.show()"
   ]
  },
  {
   "cell_type": "code",
   "execution_count": 29,
   "id": "4d2d2660",
   "metadata": {},
   "outputs": [
    {
     "data": {
      "text/plain": [
       "<matplotlib.image.AxesImage at 0x250014cdc40>"
      ]
     },
     "execution_count": 29,
     "metadata": {},
     "output_type": "execute_result"
    },
    {
     "data": {
      "image/png": "[encoded data removed]",
      "text/plain": [
       "<Figure size 432x288 with 1 Axes>"
      ]
     },
     "metadata": {
      "needs_background": "light"
     },
     "output_type": "display_data"
    }
   ],
   "source": [
    "plt.imshow(v_x[0].reshape(28,28),cmap='gray_r')\n"
   ]
  },
  {
   "cell_type": "code",
   "execution_count": 36,
   "id": "071559fa",
   "metadata": {},
   "outputs": [
    {
     "data": {
      "image/png": "[encoded data removed]",
      "text/plain": [
       "<Figure size 432x288 with 1 Axes>"
      ]
     },
     "metadata": {
      "needs_background": "light"
     },
     "output_type": "display_data"
    },
    {
     "data": {
      "image/png": "[encoded data removed]",
      "text/plain": [
       "<Figure size 432x288 with 1 Axes>"
      ]
     },
     "metadata": {
      "needs_background": "light"
     },
     "output_type": "display_data"
    },
    {
     "data": {
      "image/png": "[encoded data removed]",
      "text/plain": [
       "<Figure size 432x288 with 1 Axes>"
      ]
     },
     "metadata": {
      "needs_background": "light"
     },
     "output_type": "display_data"
    },
    {
     "data": {
      "image/png": "[encoded data removed]",
      "text/plain": [
       "<Figure size 432x288 with 1 Axes>"
      ]
     },
     "metadata": {
      "needs_background": "light"
     },
     "output_type": "display_data"
    },
    {
     "data": {
      "image/png": "[encoded data removed]",
      "text/plain": [
       "<Figure size 432x288 with 1 Axes>"
      ]
     },
     "metadata": {
      "needs_background": "light"
     },
     "output_type": "display_data"
    },
    {
     "data": {
      "image/png": "[encoded data removed]",
      "text/plain": [
       "<Figure size 432x288 with 1 Axes>"
      ]
     },
     "metadata": {
      "needs_background": "light"
     },
     "output_type": "display_data"
    },
    {
     "data": {
      "image/png": "[encoded data removed]",
      "text/plain": [
       "<Figure size 432x288 with 1 Axes>"
      ]
     },
     "metadata": {
      "needs_background": "light"
     },
     "output_type": "display_data"
    },
    {
     "data": {
      "image/png": "[encoded data removed]",
      "text/plain": [
       "<Figure size 432x288 with 1 Axes>"
      ]
     },
     "metadata": {
      "needs_background": "light"
     },
     "output_type": "display_data"
    },
    {
     "data": {
      "image/png": "[encoded data removed]",
      "text/plain": [
       "<Figure size 432x288 with 1 Axes>"
      ]
     },
     "metadata": {
      "needs_background": "light"
     },
     "output_type": "display_data"
    },
    {
     "data": {
      "image/png": "[encoded data removed]",
      "text/plain": [
       "<Figure size 432x288 with 1 Axes>"
      ]
     },
     "metadata": {
      "needs_background": "light"
     },
     "output_type": "display_data"
    }
   ],
   "source": [
    "for i in range(len(np.unique(y_data))):\n",
    "    plt.imshow(v_x[i].reshape(28,28),cmap='gray_r')\n",
    "    plt.show()"
   ]
  },
  {
   "cell_type": "code",
   "execution_count": 37,
   "id": "52befc7c",
   "metadata": {},
   "outputs": [
    {
     "data": {
      "text/plain": [
       "[<keras.layers.convolutional.Conv2D at 0x250385d3f40>,\n",
       " <keras.layers.pooling.MaxPooling2D at 0x250385d3f10>,\n",
       " <keras.layers.convolutional.Conv2D at 0x25035c17fa0>,\n",
       " <keras.layers.pooling.MaxPooling2D at 0x250385d3fd0>,\n",
       " <keras.layers.core.flatten.Flatten at 0x250385d34c0>,\n",
       " <keras.layers.core.dense.Dense at 0x250385d3580>,\n",
       " <keras.layers.core.dense.Dense at 0x2502a860610>]"
      ]
     },
     "execution_count": 37,
     "metadata": {},
     "output_type": "execute_result"
    }
   ],
   "source": [
    "m.layers"
   ]
  },
  {
   "cell_type": "code",
   "execution_count": 38,
   "id": "50f4c299",
   "metadata": {},
   "outputs": [
    {
     "data": {
      "text/plain": [
       "(TensorShape([3, 3, 1, 32]), TensorShape([32]))"
      ]
     },
     "execution_count": 38,
     "metadata": {},
     "output_type": "execute_result"
    }
   ],
   "source": [
    "conv=m.layers[0]\n",
    "conv.weights[0].shape,conv.weights[1].shape"
   ]
  },
  {
   "cell_type": "code",
   "execution_count": 39,
   "id": "cc8a127b",
   "metadata": {},
   "outputs": [],
   "source": [
    "end=list(np.unique(y_data))\n",
    "y_l=m.predict(tt_x)"
   ]
  },
  {
   "cell_type": "code",
   "execution_count": 40,
   "id": "8c59abfd",
   "metadata": {},
   "outputs": [
    {
     "name": "stdout",
     "output_type": "stream",
     "text": [
      "0\n"
     ]
    },
    {
     "data": {
      "image/png": "[encoded data removed]",
      "text/plain": [
       "<Figure size 432x288 with 1 Axes>"
      ]
     },
     "metadata": {
      "needs_background": "light"
     },
     "output_type": "display_data"
    },
    {
     "name": "stdout",
     "output_type": "stream",
     "text": [
      "0\n"
     ]
    },
    {
     "data": {
      "image/png": "[encoded data removed]",
      "text/plain": [
       "<Figure size 432x288 with 1 Axes>"
      ]
     },
     "metadata": {
      "needs_background": "light"
     },
     "output_type": "display_data"
    },
    {
     "name": "stdout",
     "output_type": "stream",
     "text": [
      "0\n"
     ]
    },
    {
     "data": {
      "image/png": "[encoded data removed]",
      "text/plain": [
       "<Figure size 432x288 with 1 Axes>"
      ]
     },
     "metadata": {
      "needs_background": "light"
     },
     "output_type": "display_data"
    },
    {
     "name": "stdout",
     "output_type": "stream",
     "text": [
      "0\n"
     ]
    },
    {
     "data": {
      "image/png": "[encoded data removed]",
      "text/plain": [
       "<Figure size 432x288 with 1 Axes>"
      ]
     },
     "metadata": {
      "needs_background": "light"
     },
     "output_type": "display_data"
    },
    {
     "name": "stdout",
     "output_type": "stream",
     "text": [
      "0\n"
     ]
    },
    {
     "data": {
      "image/png": "[encoded data removed]",
      "text/plain": [
       "<Figure size 432x288 with 1 Axes>"
      ]
     },
     "metadata": {
      "needs_background": "light"
     },
     "output_type": "display_data"
    },
    {
     "name": "stdout",
     "output_type": "stream",
     "text": [
      "0\n"
     ]
    },
    {
     "data": {
      "image/png": "[encoded data removed]",
      "text/plain": [
       "<Figure size 432x288 with 1 Axes>"
      ]
     },
     "metadata": {
      "needs_background": "light"
     },
     "output_type": "display_data"
    },
    {
     "name": "stdout",
     "output_type": "stream",
     "text": [
      "0\n"
     ]
    },
    {
     "data": {
      "image/png": "[encoded data removed]",
      "text/plain": [
       "<Figure size 432x288 with 1 Axes>"
      ]
     },
     "metadata": {
      "needs_background": "light"
     },
     "output_type": "display_data"
    },
    {
     "name": "stdout",
     "output_type": "stream",
     "text": [
      "0\n"
     ]
    },
    {
     "data": {
      "image/png": "[encoded data removed]",
      "text/plain": [
       "<Figure size 432x288 with 1 Axes>"
      ]
     },
     "metadata": {
      "needs_background": "light"
     },
     "output_type": "display_data"
    },
    {
     "name": "stdout",
     "output_type": "stream",
     "text": [
      "0\n"
     ]
    },
    {
     "data": {
      "image/png": "[encoded data removed]",
      "text/plain": [
       "<Figure size 432x288 with 1 Axes>"
      ]
     },
     "metadata": {
      "needs_background": "light"
     },
     "output_type": "display_data"
    },
    {
     "ename": "IndexError",
     "evalue": "index 10 is out of bounds for axis 1 with size 10",
     "output_type": "error",
     "traceback": [
      "\u001b[1;31m---------------------------------------------------------------------------\u001b[0m",
      "\u001b[1;31mIndexError\u001b[0m                                Traceback (most recent call last)",
      "\u001b[1;32m~\\AppData\\Local\\Temp/ipykernel_16756/851715251.py\u001b[0m in \u001b[0;36m<module>\u001b[1;34m\u001b[0m\n\u001b[0;32m      1\u001b[0m \u001b[1;32mfor\u001b[0m \u001b[0mi\u001b[0m \u001b[1;32min\u001b[0m \u001b[0mrange\u001b[0m\u001b[1;33m(\u001b[0m\u001b[0mlen\u001b[0m\u001b[1;33m(\u001b[0m\u001b[0my_l\u001b[0m\u001b[1;33m[\u001b[0m\u001b[1;36m100\u001b[0m\u001b[1;33m]\u001b[0m\u001b[1;33m)\u001b[0m\u001b[1;33m)\u001b[0m\u001b[1;33m:\u001b[0m\u001b[1;33m\u001b[0m\u001b[1;33m\u001b[0m\u001b[0m\n\u001b[1;32m----> 2\u001b[1;33m     \u001b[0mprint\u001b[0m\u001b[1;33m(\u001b[0m\u001b[0mend\u001b[0m\u001b[1;33m[\u001b[0m\u001b[0mnp\u001b[0m\u001b[1;33m.\u001b[0m\u001b[0margmax\u001b[0m\u001b[1;33m(\u001b[0m\u001b[0my_l\u001b[0m\u001b[1;33m[\u001b[0m\u001b[0mi\u001b[0m\u001b[1;33m,\u001b[0m\u001b[0mi\u001b[0m\u001b[1;33m+\u001b[0m\u001b[1;36m1\u001b[0m\u001b[1;33m]\u001b[0m\u001b[1;33m)\u001b[0m\u001b[1;33m]\u001b[0m\u001b[1;33m)\u001b[0m\u001b[1;33m\u001b[0m\u001b[1;33m\u001b[0m\u001b[0m\n\u001b[0m\u001b[0;32m      3\u001b[0m     \u001b[0mplt\u001b[0m\u001b[1;33m.\u001b[0m\u001b[0mimshow\u001b[0m\u001b[1;33m(\u001b[0m\u001b[0mtt_x\u001b[0m\u001b[1;33m[\u001b[0m\u001b[0mi\u001b[0m\u001b[1;33m]\u001b[0m\u001b[1;33m.\u001b[0m\u001b[0mreshape\u001b[0m\u001b[1;33m(\u001b[0m\u001b[1;36m28\u001b[0m\u001b[1;33m,\u001b[0m\u001b[1;36m28\u001b[0m\u001b[1;33m)\u001b[0m\u001b[1;33m,\u001b[0m\u001b[0mcmap\u001b[0m\u001b[1;33m=\u001b[0m\u001b[1;34m'gray_r'\u001b[0m\u001b[1;33m)\u001b[0m\u001b[1;33m\u001b[0m\u001b[1;33m\u001b[0m\u001b[0m\n\u001b[0;32m      4\u001b[0m     \u001b[0mplt\u001b[0m\u001b[1;33m.\u001b[0m\u001b[0mshow\u001b[0m\u001b[1;33m(\u001b[0m\u001b[1;33m)\u001b[0m\u001b[1;33m\u001b[0m\u001b[1;33m\u001b[0m\u001b[0m\n",
      "\u001b[1;31mIndexError\u001b[0m: index 10 is out of bounds for axis 1 with size 10"
     ]
    }
   ],
   "source": [
    "for i in range(len(y_l[100])):\n",
    "    print(end[np.argmax(y_l[i,i+1])])\n",
    "    plt.imshow(tt_x[i].reshape(28,28),cmap='gray_r')\n",
    "    plt.show()"
   ]
  },
  {
   "cell_type": "code",
   "execution_count": 41,
   "id": "99d87ef6",
   "metadata": {},
   "outputs": [],
   "source": [
    "m_ck=keras.models.load_model('best_sellect.h')"
   ]
  },
  {
   "cell_type": "code",
   "execution_count": 42,
   "id": "a474ee35",
   "metadata": {},
   "outputs": [],
   "source": [
    "w1=m_ck.layers[0].weights[0].numpy()"
   ]
  },
  {
   "cell_type": "code",
   "execution_count": 43,
   "id": "c9327ee9",
   "metadata": {},
   "outputs": [],
   "source": [
    "w2=m_ck.layers[2].weights[0].numpy()"
   ]
  },
  {
   "cell_type": "code",
   "execution_count": null,
   "id": "b5c2776a",
   "metadata": {},
   "outputs": [],
   "source": [
    "fig,axs=plt.subplots(2,16,figsize=(15,2))\n",
    "for i in range(4):\n",
    "    for j in range(32):\n",
    "            axs[i,j].imshow(w2[:,:,0,i*32+j])\n",
    "            axs[i,j].axis('off')"
   ]
  },
  {
   "cell_type": "code",
   "execution_count": 45,
   "id": "1bcd5672",
   "metadata": {},
   "outputs": [
    {
     "data": {
      "image/png": "[encoded data removed]",
      "text/plain": [
       "<Figure size 1080x144 with 32 Axes>"
      ]
     },
     "metadata": {
      "needs_background": "light"
     },
     "output_type": "display_data"
    }
   ],
   "source": [
    "fig,axs=plt.subplots(2,16,figsize=(15,2))\n",
    "for i in range(2):\n",
    "    for j in range(16):\n",
    "            axs[i,j].imshow(w2[:,:,0,i*32+j])\n",
    "            axs[i,j].axis('off')"
   ]
  },
  {
   "cell_type": "code",
   "execution_count": null,
   "id": "cc12dc66",
   "metadata": {},
   "outputs": [],
   "source": []
  }
 ],
 "metadata": {
  "kernelspec": {
   "display_name": "Python 3 (ipykernel)",
   "language": "python",
   "name": "python3"
  },
  "language_info": {
   "codemirror_mode": {
    "name": "ipython",
    "version": 3
   },
   "file_extension": ".py",
   "mimetype": "text/x-python",
   "name": "python",
   "nbconvert_exporter": "python",
   "pygments_lexer": "ipython3",
   "version": "3.9.7"
  }
 },
 "nbformat": 4,
 "nbformat_minor": 5
}
