{
 "cells": [
  {
   "cell_type": "code",
   "execution_count": 1,
   "id": "e2a2c940",
   "metadata": {},
   "outputs": [
    {
     "data": {
      "text/plain": [
       "{1, 2, 3, 4, 5, 6, 7}"
      ]
     },
     "execution_count": 1,
     "metadata": {},
     "output_type": "execute_result"
    }
   ],
   "source": [
    "A=set([1,2,3,4,5])\n",
    "B=set([4,5,6,7])\n",
    "A | B #합집합\n"
   ]
  },
  {
   "cell_type": "code",
   "execution_count": 2,
   "id": "00e06df4",
   "metadata": {},
   "outputs": [
    {
     "data": {
      "text/plain": [
       "{4, 5}"
      ]
     },
     "execution_count": 2,
     "metadata": {},
     "output_type": "execute_result"
    }
   ],
   "source": [
    "A=set([1,2,3,4,5])\n",
    "B=set([4,5,6,7])\n",
    "A & B"
   ]
  },
  {
   "cell_type": "code",
   "execution_count": 3,
   "id": "0d24e626",
   "metadata": {},
   "outputs": [
    {
     "data": {
      "text/plain": [
       "['안녕', '나는', '오늘', '힘들어']"
      ]
     },
     "execution_count": 3,
     "metadata": {},
     "output_type": "execute_result"
    }
   ],
   "source": [
    "data1='안녕 나는 오늘 힘들어'.split()\n",
    "data2='안녕 못해 나는 지금 너무 힘들어'.split()\n",
    "data1"
   ]
  },
  {
   "cell_type": "code",
   "execution_count": 4,
   "id": "bec887b9",
   "metadata": {},
   "outputs": [
    {
     "data": {
      "text/plain": [
       "{'나는', '너무', '못해', '안녕', '오늘', '지금', '힘들어'}"
      ]
     },
     "execution_count": 4,
     "metadata": {},
     "output_type": "execute_result"
    }
   ],
   "source": [
    "un=set(data1) | set(data2)\n",
    "un"
   ]
  },
  {
   "cell_type": "code",
   "execution_count": 5,
   "id": "a4a5ddc3",
   "metadata": {},
   "outputs": [
    {
     "data": {
      "text/plain": [
       "{'나는', '안녕', '힘들어'}"
      ]
     },
     "execution_count": 5,
     "metadata": {},
     "output_type": "execute_result"
    }
   ],
   "source": [
    "intd = set(data1) & set(data2)\n",
    "intd"
   ]
  },
  {
   "cell_type": "code",
   "execution_count": 6,
   "id": "c4e55186",
   "metadata": {},
   "outputs": [
    {
     "data": {
      "text/plain": [
       "0.42857142857142855"
      ]
     },
     "execution_count": 6,
     "metadata": {},
     "output_type": "execute_result"
    }
   ],
   "source": [
    "len(intd)/len(un) #유사도 계산 자카드 유사도"
   ]
  },
  {
   "cell_type": "code",
   "execution_count": 9,
   "id": "7772aea3",
   "metadata": {},
   "outputs": [],
   "source": [
    "data1='안녕 나는 오늘 힘들어.'\n",
    "data2='안녕 못해 나는 지금 너무 힘들어'"
   ]
  },
  {
   "cell_type": "code",
   "execution_count": 10,
   "id": "a9ae3fe7",
   "metadata": {},
   "outputs": [
    {
     "data": {
      "text/plain": [
       "'안녕 나는 오늘 힘들어.  안녕 못해 나는 지금 너무 힘들어'"
      ]
     },
     "execution_count": 10,
     "metadata": {},
     "output_type": "execute_result"
    }
   ],
   "source": [
    "all_data=data1 +'  '+data2\n",
    "all_data"
   ]
  },
  {
   "cell_type": "code",
   "execution_count": 12,
   "id": "c5a75fd7",
   "metadata": {
    "scrolled": true
   },
   "outputs": [
    {
     "data": {
      "text/plain": [
       "array([[0.44832087, 0.        , 0.        , 0.44832087, 0.63009934,\n",
       "        0.        , 0.44832087],\n",
       "       [0.33471228, 0.47042643, 0.47042643, 0.33471228, 0.        ,\n",
       "        0.47042643, 0.33471228]])"
      ]
     },
     "execution_count": 12,
     "metadata": {},
     "output_type": "execute_result"
    }
   ],
   "source": [
    "from sklearn.feature_extraction.text import TfidfVectorizer\n",
    "t_v=TfidfVectorizer()\n",
    "m_data=t_v.fit_transform([data1,data2])\n",
    "m_data.toarray()"
   ]
  },
  {
   "cell_type": "code",
   "execution_count": 14,
   "id": "8260cf82",
   "metadata": {},
   "outputs": [
    {
     "data": {
      "text/plain": [
       "{'안녕': 3, '나는': 0, '오늘': 4, '힘들어': 6, '못해': 2, '지금': 5, '너무': 1}"
      ]
     },
     "execution_count": 14,
     "metadata": {},
     "output_type": "execute_result"
    }
   ],
   "source": [
    "t_v.vocabulary_"
   ]
  },
  {
   "cell_type": "code",
   "execution_count": 13,
   "id": "398c68cf",
   "metadata": {},
   "outputs": [
    {
     "data": {
      "text/plain": [
       "array([1.        , 1.40546511, 1.40546511, 1.        , 1.40546511,\n",
       "       1.40546511, 1.        ])"
      ]
     },
     "execution_count": 13,
     "metadata": {},
     "output_type": "execute_result"
    }
   ],
   "source": [
    "idf=t_v.idf_#있냐 없냐 유무를 알려줌"
   ]
  },
  {
   "cell_type": "code",
   "execution_count": 15,
   "id": "ecca73a6",
   "metadata": {},
   "outputs": [
    {
     "data": {
      "text/plain": [
       "array([[0.44832087, 0.        , 0.        , 0.44832087, 0.63009934,\n",
       "        0.        , 0.44832087]])"
      ]
     },
     "execution_count": 15,
     "metadata": {},
     "output_type": "execute_result"
    }
   ],
   "source": [
    "m_data[0:1].toarray()"
   ]
  },
  {
   "cell_type": "code",
   "execution_count": 18,
   "id": "800a1e6c",
   "metadata": {},
   "outputs": [
    {
     "data": {
      "text/plain": [
       "array([0.33333333, 0.5       , 0.        ])"
      ]
     },
     "execution_count": 18,
     "metadata": {},
     "output_type": "execute_result"
    }
   ],
   "source": [
    "from sklearn.metrics import jaccard_score\n",
    "import numpy as np\n",
    "jaccard_score(np.array([0,1,0,0]),np.array([0,1,1,2]),average=None)"
   ]
  },
  {
   "cell_type": "code",
   "execution_count": 23,
   "id": "106aae1e",
   "metadata": {},
   "outputs": [],
   "source": [
    "def f(A,B):\n",
    "    return np.sqrt(np.sum((A-B)**2))#sqre 루트,넘파이 어레이는 각각 길이가 같은것들은 계산된다."
   ]
  },
  {
   "cell_type": "code",
   "execution_count": 24,
   "id": "f41a6f6c",
   "metadata": {},
   "outputs": [
    {
     "data": {
      "text/plain": [
       "2.23606797749979"
      ]
     },
     "execution_count": 24,
     "metadata": {},
     "output_type": "execute_result"
    }
   ],
   "source": [
    "A=np.array([0,1,2,3,4])\n",
    "B=np.array([1,0,1,2,3])\n",
    "f(A,B)"
   ]
  },
  {
   "cell_type": "markdown",
   "id": "75eb8ab3",
   "metadata": {},
   "source": [
    "유클리드 거리 유사도 확인"
   ]
  },
  {
   "cell_type": "code",
   "execution_count": 25,
   "id": "a5b0bd7e",
   "metadata": {},
   "outputs": [
    {
     "data": {
      "text/plain": [
       "array([[1.0486415]])"
      ]
     },
     "execution_count": 25,
     "metadata": {},
     "output_type": "execute_result"
    }
   ],
   "source": [
    "from sklearn.metrics import euclidean_distances\n",
    "euclidean_distances(m_data[0:1],m_data[1:2])"
   ]
  },
  {
   "cell_type": "code",
   "execution_count": 26,
   "id": "055796de",
   "metadata": {},
   "outputs": [
    {
     "data": {
      "text/plain": [
       "array([[0.44832087, 0.        , 0.        , 0.44832087, 0.63009934,\n",
       "        0.        , 0.44832087],\n",
       "       [0.33471228, 0.47042643, 0.47042643, 0.33471228, 0.        ,\n",
       "        0.47042643, 0.33471228]])"
      ]
     },
     "execution_count": 26,
     "metadata": {},
     "output_type": "execute_result"
    }
   ],
   "source": [
    "m_data.toarray()"
   ]
  },
  {
   "cell_type": "code",
   "execution_count": 27,
   "id": "0622e643",
   "metadata": {},
   "outputs": [],
   "source": [
    "def e_f(m):\n",
    "    return m/np.sum(m) #정규화작업"
   ]
  },
  {
   "cell_type": "code",
   "execution_count": 31,
   "id": "9a5c497a",
   "metadata": {},
   "outputs": [],
   "source": [
    "e_data=e_f(m_data).toarray()"
   ]
  },
  {
   "cell_type": "code",
   "execution_count": 32,
   "id": "512ef775",
   "metadata": {},
   "outputs": [
    {
     "data": {
      "text/plain": [
       "array([[0.23884449]])"
      ]
     },
     "execution_count": 32,
     "metadata": {},
     "output_type": "execute_result"
    }
   ],
   "source": [
    "euclidean_distances(e_data[0:1],e_data[1:2])"
   ]
  },
  {
   "cell_type": "code",
   "execution_count": 38,
   "id": "bc30c1a5",
   "metadata": {},
   "outputs": [],
   "source": [
    "a=np.array([-1,2,3])\n",
    "b=np.array([1,3,-4])\n",
    "def f(A,B):\n",
    "    return np.sum(abs((A-B)))\n",
    "#abs(a-b)#절댓값"
   ]
  },
  {
   "cell_type": "code",
   "execution_count": 39,
   "id": "1d7b2e7b",
   "metadata": {
    "scrolled": true
   },
   "outputs": [
    {
     "data": {
      "text/plain": [
       "5"
      ]
     },
     "execution_count": 39,
     "metadata": {},
     "output_type": "execute_result"
    }
   ],
   "source": [
    "A=np.array([0,1,2,3,4])\n",
    "B=np.array([1,0,1,2,3])\n",
    "f(A,B)#수치값이 낮을수록 좋다"
   ]
  },
  {
   "cell_type": "markdown",
   "id": "c0bc561e",
   "metadata": {},
   "source": [
    "맨하탄 거리 유사도 확인"
   ]
  },
  {
   "cell_type": "code",
   "execution_count": 41,
   "id": "0fa605a7",
   "metadata": {},
   "outputs": [
    {
     "data": {
      "text/plain": [
       "array([[2.38220441]])"
      ]
     },
     "execution_count": 41,
     "metadata": {},
     "output_type": "execute_result"
    }
   ],
   "source": [
    "from sklearn.metrics.pairwise import manhattan_distances\n",
    "manhattan_distances(m_data[0:1],m_data[1:2])"
   ]
  },
  {
   "cell_type": "markdown",
   "id": "8f15d25a",
   "metadata": {},
   "source": [
    "정규화된 data를 이용하여 유사도 계산"
   ]
  },
  {
   "cell_type": "code",
   "execution_count": 42,
   "id": "43bc9dd0",
   "metadata": {
    "scrolled": true
   },
   "outputs": [
    {
     "data": {
      "text/plain": [
       "array([[0.54258429]])"
      ]
     },
     "execution_count": 42,
     "metadata": {},
     "output_type": "execute_result"
    }
   ],
   "source": [
    "manhattan_distances(e_data[0:1],e_data[1:2])"
   ]
  },
  {
   "cell_type": "code",
   "execution_count": 43,
   "id": "27f273f1",
   "metadata": {},
   "outputs": [
    {
     "data": {
      "text/plain": [
       "array([[0.23884449]])"
      ]
     },
     "execution_count": 43,
     "metadata": {},
     "output_type": "execute_result"
    }
   ],
   "source": [
    "euclidean_distances(e_data[0:1],e_data[1:2])"
   ]
  },
  {
   "cell_type": "code",
   "execution_count": 44,
   "id": "737e209d",
   "metadata": {},
   "outputs": [],
   "source": [
    "data1='안녕 나는 오늘 힘들어.'\n",
    "data2='안녕 못해 나는 지금 너무 힘들어'\n",
    "data3='나는 너무 즐거워'\n",
    "m_data=t_v.fit_transform([data1,data2,data3])"
   ]
  },
  {
   "cell_type": "code",
   "execution_count": 49,
   "id": "663fd0bb",
   "metadata": {},
   "outputs": [],
   "source": [
    "#정규화\n",
    "def e_f(m):\n",
    "    return m/np.sum(m)\n",
    "e_data=e_f(m_data)"
   ]
  },
  {
   "cell_type": "code",
   "execution_count": 56,
   "id": "a4db1833",
   "metadata": {},
   "outputs": [
    {
     "data": {
      "text/plain": [
       "(array([[1.02891385]]), array([[1.15714912]]), array([[-0.12823528]]))"
      ]
     },
     "execution_count": 56,
     "metadata": {},
     "output_type": "execute_result"
    }
   ],
   "source": [
    "ck1=euclidean_distances(m_data[0:1],m_data[1:2])\n",
    "ck2=euclidean_distances(m_data[1:2],m_data[2:3])\n",
    "ck1,ck2,ck1-ck2"
   ]
  },
  {
   "cell_type": "code",
   "execution_count": 57,
   "id": "a9768332",
   "metadata": {},
   "outputs": [
    {
     "data": {
      "text/plain": [
       "(array([[1.]]), array([[1.15714912]]))"
      ]
     },
     "execution_count": 57,
     "metadata": {},
     "output_type": "execute_result"
    }
   ],
   "source": [
    "ck1=ck1/ck1\n",
    "ck2=ck2/ck1\n",
    "ck1,ck2#정규화 하지 않은데이터"
   ]
  },
  {
   "cell_type": "code",
   "execution_count": 58,
   "id": "0323f662",
   "metadata": {},
   "outputs": [
    {
     "data": {
      "text/plain": [
       "(array([[0.16949987]]), array([[0.19062493]]), array([[-0.02112506]]))"
      ]
     },
     "execution_count": 58,
     "metadata": {},
     "output_type": "execute_result"
    }
   ],
   "source": [
    "e_ck1=euclidean_distances(e_data[0:1],e_data[1:2])\n",
    "e_ck2=euclidean_distances(e_data[1:2],e_data[2:3])\n",
    "e_ck1,e_ck2,e_ck1-e_ck2"
   ]
  },
  {
   "cell_type": "code",
   "execution_count": 59,
   "id": "834abf19",
   "metadata": {},
   "outputs": [
    {
     "data": {
      "text/plain": [
       "(array([[1.]]), array([[0.19062493]]))"
      ]
     },
     "execution_count": 59,
     "metadata": {},
     "output_type": "execute_result"
    }
   ],
   "source": [
    "e_ck1=e_ck1/e_ck1\n",
    "e_ck2=e_ck2/e_ck1\n",
    "e_ck1,e_ck2#정규화를 한 데이터"
   ]
  },
  {
   "cell_type": "code",
   "execution_count": 61,
   "id": "f6e462e6",
   "metadata": {},
   "outputs": [
    {
     "data": {
      "text/plain": [
       "(array([[0.15714912]]), array([[0.80937507]]))"
      ]
     },
     "execution_count": 61,
     "metadata": {},
     "output_type": "execute_result"
    }
   ],
   "source": [
    "abs(ck1-ck2),abs(e_ck1-e_ck2) # => 유사성 판명도에는 명확하게 만들어주는게 정규화 작업이다. 0.15<<<0.809"
   ]
  },
  {
   "cell_type": "code",
   "execution_count": 54,
   "id": "7a06fdce",
   "metadata": {},
   "outputs": [
    {
     "data": {
      "text/plain": [
       "(array([[2.28685493]]), array([[2.76734191]]))"
      ]
     },
     "execution_count": 54,
     "metadata": {},
     "output_type": "execute_result"
    }
   ],
   "source": [
    "manhattan_distances(m_data[0:1],m_data[1:2]),manhattan_distances(m_data[1:2],m_data[2:3])"
   ]
  },
  {
   "cell_type": "code",
   "execution_count": 55,
   "id": "652c4b64",
   "metadata": {},
   "outputs": [
    {
     "data": {
      "text/plain": [
       "(array([[0.37672893]]), array([[0.45588277]]))"
      ]
     },
     "execution_count": 55,
     "metadata": {},
     "output_type": "execute_result"
    }
   ],
   "source": [
    "manhattan_distances(e_data[0:1],e_data[1:2]),manhattan_distances(e_data[1:2],e_data[2:3])"
   ]
  },
  {
   "cell_type": "code",
   "execution_count": 63,
   "id": "150464cf",
   "metadata": {},
   "outputs": [
    {
     "name": "stdout",
     "output_type": "stream",
     "text": [
      "유클리드 거리를 이용한 계산\n",
      "정규화 전 data이용 거리 계산[[0.15714912]]\n",
      "정규화 후 data이용 거리 계산[[0.80937507]]\n"
     ]
    }
   ],
   "source": [
    "ck1=euclidean_distances(m_data[0:1],m_data[1:2])\n",
    "ck2=euclidean_distances(m_data[1:2],m_data[2:3])\n",
    "ck1=ck1/ck1\n",
    "ck2=ck2/ck1\n",
    "e_ck1=euclidean_distances(e_data[0:1],e_data[1:2])\n",
    "e_ck2=euclidean_distances(e_data[1:2],e_data[2:3])\n",
    "e_ck1=e_ck1/e_ck1\n",
    "e_ck2=e_ck2/e_ck1\n",
    "print(\"유클리드 거리를 이용한 계산\")\n",
    "print(f'정규화 전 data이용 거리 계산{abs(ck1-ck2)}')\n",
    "print(f'정규화 후 data이용 거리 계산{abs(e_ck1-e_ck2)}')"
   ]
  },
  {
   "cell_type": "code",
   "execution_count": 64,
   "id": "f07f9f25",
   "metadata": {},
   "outputs": [
    {
     "name": "stdout",
     "output_type": "stream",
     "text": [
      "맨하탄 거리를 이용한 계산\n",
      "정규화 전 data이용 거리 계산[[1.76734191]]\n",
      "정규화 후 data이용 거리 계산[[0.54411723]]\n"
     ]
    }
   ],
   "source": [
    "ck1=manhattan_distances(m_data[0:1],m_data[1:2])\n",
    "ck2=manhattan_distances(m_data[1:2],m_data[2:3])\n",
    "ck1=ck1/ck1\n",
    "ck2=ck2/ck1\n",
    "e_ck1=manhattan_distances(e_data[0:1],e_data[1:2])\n",
    "e_ck2=manhattan_distances(e_data[1:2],e_data[2:3])\n",
    "e_ck1=e_ck1/e_ck1\n",
    "e_ck2=e_ck2/e_ck1\n",
    "print(\"맨하탄 거리를 이용한 계산\")\n",
    "print(f'정규화 전 data이용 거리 계산{abs(ck1-ck2)}')\n",
    "print(f'정규화 후 data이용 거리 계산{abs(e_ck1-e_ck2)}')"
   ]
  },
  {
   "cell_type": "code",
   "execution_count": null,
   "id": "7604a7c8",
   "metadata": {},
   "outputs": [],
   "source": []
  }
 ],
 "metadata": {
  "kernelspec": {
   "display_name": "Python 3 (ipykernel)",
   "language": "python",
   "name": "python3"
  },
  "language_info": {
   "codemirror_mode": {
    "name": "ipython",
    "version": 3
   },
   "file_extension": ".py",
   "mimetype": "text/x-python",
   "name": "python",
   "nbconvert_exporter": "python",
   "pygments_lexer": "ipython3",
   "version": "3.9.7"
  }
 },
 "nbformat": 4,
 "nbformat_minor": 5
}
