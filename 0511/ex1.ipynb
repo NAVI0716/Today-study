{
 "cells": [
  {
   "cell_type": "code",
   "execution_count": 6,
   "id": "e3d35b05",
   "metadata": {},
   "outputs": [
    {
     "data": {
      "text/plain": [
       "1154    The Empire Strikes Back\n",
       "1167         Return of the Jedi\n",
       "1267               Mad Dog Time\n",
       "5187        The Triumph of Love\n",
       "309           The Swan Princess\n",
       "Name: title, dtype: object"
      ]
     },
     "execution_count": 6,
     "metadata": {},
     "output_type": "execute_result"
    }
   ],
   "source": [
    "import pandas as pd\n",
    "from sklearn.feature_extraction.text import TfidfVectorizer\n",
    "from sklearn.metrics.pairwise import cosine_similarity\n",
    "data=pd.read_csv('data1.csv',low_memory=False)\n",
    "data=data.head(20000)\n",
    "data['overview']=data['overview'].fillna('')#의미 없는데이터 걸러주기 /정형작업\n",
    "tfidf = TfidfVectorizer(stop_words='english')#벡터기반으로 단어를 숫자화해줌 tfid는 빈도수뿐만아니라 문서수도 고려한다.\n",
    "tfidf_t=tfidf.fit_transform(data['overview'])#모델 텍스트 테이블 형성/ 실수값으로 숫자를 만들어줌\n",
    "#선입력 data별 후입력 data 모두와 코사인유사도 계산\n",
    "cos=cosine_similarity(tfidf_t,tfidf_t)# 방향성이 같은지 유무를 기울기 관점으로 유사도 검사/2만개의 리뷰가 2만개 쌓여있다.\n",
    "def ck_s_t(t,cosine_sim=cos):\n",
    "    idx=t_idx[t]\n",
    "    c_sc=list(enumerate(cosine_sim[idx]))#enumerate:하나씩 가져오는데 인덱스를 붙여서 튜플로 가져옴/cosine_sim[idx]:영화제목/여기 인덱스는 영화제목\n",
    "    c_sc=sorted(c_sc,key=lambda x:x[1],reverse=True)#내림차순 정렬 크면클수록 유사도가 높다 최대치가 1이기 때문\n",
    "    m_i=c_sc[1:6]#유사도 검사가 끝났을때 나 자신도 학습되기때문 첫번째 값을 빼야한다./인덱스는 영화제목\n",
    "    m_idx=[i[0] for i in m_i]\n",
    "    return data['title'].iloc[m_idx]  #iloc:데이터들을 인덱스로 처리할수있음\n",
    "ck_s_t('Star Wars')\n"
   ]
  },
  {
   "cell_type": "code",
   "execution_count": 5,
   "id": "bd94d4b5",
   "metadata": {},
   "outputs": [
    {
     "data": {
      "text/plain": [
       "0        Led by Woody, Andy's toys live happily in his ...\n",
       "1        When siblings Judy and Peter discover an encha...\n",
       "2        A family wedding reignites the ancient feud be...\n",
       "3        Cheated on, mistreated and stepped on, the wom...\n",
       "4        Just when George Banks has recovered from his ...\n",
       "                               ...                        \n",
       "19995    Dissidents in a French colony attack a police ...\n",
       "19996    A young mother Nina and her son Enzo find them...\n",
       "19997    An in-depth analysis of the relationship betwe...\n",
       "19998    Follows the life and work of animator Lotte Re...\n",
       "19999    An in-depth look at the genesis, production, a...\n",
       "Name: overview, Length: 20000, dtype: object"
      ]
     },
     "execution_count": 5,
     "metadata": {},
     "output_type": "execute_result"
    }
   ],
   "source": [
    "data['overview']"
   ]
  },
  {
   "cell_type": "code",
   "execution_count": null,
   "id": "9db34bfa",
   "metadata": {},
   "outputs": [],
   "source": []
  }
 ],
 "metadata": {
  "kernelspec": {
   "display_name": "Python 3 (ipykernel)",
   "language": "python",
   "name": "python3"
  },
  "language_info": {
   "codemirror_mode": {
    "name": "ipython",
    "version": 3
   },
   "file_extension": ".py",
   "mimetype": "text/x-python",
   "name": "python",
   "nbconvert_exporter": "python",
   "pygments_lexer": "ipython3",
   "version": "3.9.7"
  }
 },
 "nbformat": 4,
 "nbformat_minor": 5
}
