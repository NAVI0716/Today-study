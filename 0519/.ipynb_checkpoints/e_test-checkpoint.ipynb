{
 "cells": [
  {
   "cell_type": "code",
   "execution_count": 7,
   "id": "3f8edd8f",
   "metadata": {},
   "outputs": [
    {
     "name": "stdout",
     "output_type": "stream",
     "text": [
      "결측치 확인:True\n",
      "X 중복 확인:(194543, 200000)\n",
      "y 중복 확인:(2, 200000)\n"
     ]
    },
    {
     "name": "stderr",
     "output_type": "stream",
     "text": [
      "C:\\Users\\류성빈\\AppData\\Local\\Temp/ipykernel_9184/4078463318.py:34: FutureWarning: The default value of regex will change from True to False in a future version.\n",
      "  self.data['clean_X'] = self.data.X.str.replace('[^ㄱ-ㅎㅏ-ㅣ가-힣 ]', '')\n",
      "C:\\Users\\류성빈\\AppData\\Local\\Temp/ipykernel_9184/4078463318.py:34: SettingWithCopyWarning: \n",
      "A value is trying to be set on a copy of a slice from a DataFrame.\n",
      "Try using .loc[row_indexer,col_indexer] = value instead\n",
      "\n",
      "See the caveats in the documentation: https://pandas.pydata.org/pandas-docs/stable/user_guide/indexing.html#returning-a-view-versus-a-copy\n",
      "  self.data['clean_X'] = self.data.X.str.replace('[^ㄱ-ㅎㅏ-ㅣ가-힣 ]', '')\n",
      "C:\\Users\\류성빈\\AppData\\Local\\Temp/ipykernel_9184/4078463318.py:35: FutureWarning: The default value of regex will change from True to False in a future version.\n",
      "  self.data['clean_X'] = self.data.clean_X.str.replace('^ +', '')\n",
      "C:\\Users\\류성빈\\AppData\\Local\\Temp/ipykernel_9184/4078463318.py:35: SettingWithCopyWarning: \n",
      "A value is trying to be set on a copy of a slice from a DataFrame.\n",
      "Try using .loc[row_indexer,col_indexer] = value instead\n",
      "\n",
      "See the caveats in the documentation: https://pandas.pydata.org/pandas-docs/stable/user_guide/indexing.html#returning-a-view-versus-a-copy\n",
      "  self.data['clean_X'] = self.data.clean_X.str.replace('^ +', '')\n",
      "C:\\Users\\류성빈\\AppData\\Local\\Temp/ipykernel_9184/4078463318.py:36: SettingWithCopyWarning: \n",
      "A value is trying to be set on a copy of a slice from a DataFrame.\n",
      "Try using .loc[row_indexer,col_indexer] = value instead\n",
      "\n",
      "See the caveats in the documentation: https://pandas.pydata.org/pandas-docs/stable/user_guide/indexing.html#returning-a-view-versus-a-copy\n",
      "  self.data['clean_X'] = self.data.clean_X.replace('', np.nan)\n",
      "100%|█████████████████████████████████████████████████████████████████████████████████████████████████████████████████████████████████████████████████████████████████████████████████████████| 193518/193518 [14:07<00:00, 228.36it/s]\n"
     ]
    },
    {
     "name": "stdout",
     "output_type": "stream",
     "text": [
      "(107910, 68) (107910,) (57757, 68) (57757,) (26965, 68) (26965,)\n"
     ]
    }
   ],
   "source": [
    "from konlpy.tag import Okt\n",
    "from tensorflow.keras.preprocessing.text import Tokenizer\n",
    "from tensorflow.keras.preprocessing.sequence import pad_sequences\n",
    "from sklearn.preprocessing import LabelEncoder\n",
    "from sklearn.model_selection import train_test_split\n",
    "from tensorflow.keras.utils import to_categorical\n",
    "import numpy as np\n",
    "from nltk.corpus import stopwords\n",
    "from bs4 import BeautifulSoup\n",
    "import re\n",
    "from tqdm import tqdm\n",
    "import pandas as pd\n",
    "import numpy as np\n",
    "from tqdm import tqdm\n",
    "train_data = pd.read_table('ratings_train.txt')[['document','label']]\n",
    "test_data = pd.read_table('ratings_test.txt')[['document','label']]\n",
    "data=pd.concat((train_data,test_data),axis=0)\n",
    "data=data.rename(columns = {'label':'y', 'document' : 'X'})\n",
    "\n",
    "class 한글처리기:\n",
    "    def __init__(self,data):\n",
    "        data['clean_X'] =data['X']\n",
    "        data['y_name'] = data['y']\n",
    "        data['encoder_y'] = LabelEncoder().fit_transform(data['y'])\n",
    "        data['categorical_y'] = list(to_categorical(data['encoder_y']))\n",
    "        self.data = data\n",
    "    def ck_m(self):\n",
    "        print(f'결측치 확인:{self.data.isnull().values.any()}')\n",
    "        print(f\"X 중복 확인:{self.data['X'].nunique(),len(self.data['X'])}\\n\"\n",
    "              f\"y 중복 확인:{self.data['y'].nunique(),len(self.data['y'])}\")\n",
    "\n",
    "    def 전처리_결과_출력(self, n=1):\n",
    "        self.data = self.data.drop_duplicates(subset=['X'])\n",
    "        self.data['clean_X'] = self.data.X.str.replace('[^ㄱ-ㅎㅏ-ㅣ가-힣 ]', '')\n",
    "        self.data['clean_X'] = self.data.clean_X.str.replace('^ +', '')\n",
    "        self.data['clean_X'] = self.data.clean_X.replace('', np.nan)\n",
    "        self.data = self.data.dropna(how='any')\n",
    "        s_w = set(['은', '는', '이', '가', '를', '들', '에게', '의', '을', '도', '으로', '만', '라서', '하다'])\n",
    "        okt = Okt()\n",
    "        X_data = []\n",
    "        for i in tqdm(self.data['clean_X']):\n",
    "            tk_d = okt.morphs(i)\n",
    "            end_d = [w for w in tk_d if not w in s_w]\n",
    "            X_data.append(' '.join(end_d))\n",
    "        if n==1:\n",
    "            Y = np.array(self.data['encoder_y'])\n",
    "        else:\n",
    "            Y = to_categorical(self.data['encoder_y'])\n",
    "        X = np.array(X_data)\n",
    "        x_data, test_x, y_data, test_y = train_test_split(X, Y, test_size=0.3, random_state=0)\n",
    "        train_x, val_x, train_y, val_y = train_test_split(x_data, y_data, test_size=0.2, random_state=0)\n",
    "        tk = Tokenizer()\n",
    "        tk.fit_on_texts(train_x)\n",
    "        n = len([d for d in sorted(list(tk.word_counts.items()), key=lambda x: x[1]) if d[1] > 4]) + 1\n",
    "        token = Tokenizer(n)\n",
    "        token.fit_on_texts(train_x)\n",
    "        token_train_x = token.texts_to_sequences(train_x)\n",
    "        token_test_x = token.texts_to_sequences(test_x)\n",
    "        token_val_x = token.texts_to_sequences(val_x)\n",
    "        drop_train = [index for index, sentence in enumerate(token_train_x) if len(sentence) < 1]\n",
    "        drop_test = [index for index, sentence in enumerate(token_test_x) if len(sentence) < 1]\n",
    "        drop_val = [index for index, sentence in enumerate(token_val_x) if len(sentence) < 1]\n",
    "        token_train_x = np.delete(token_train_x, drop_train, axis=0)\n",
    "        train_y = np.delete(train_y, drop_train, axis=0)\n",
    "        token_test_x = np.delete(token_test_x, drop_test, axis=0)\n",
    "        test_y = np.delete(test_y, drop_test, axis=0)\n",
    "        token_val_x = np.delete(token_val_x, drop_val, axis=0)\n",
    "        val_y = np.delete(val_y, drop_val, axis=0)\n",
    "        w_l = len(pad_sequences(token_train_x)[0])\n",
    "        train_inputs = pad_sequences(token_train_x, maxlen=w_l)\n",
    "        test_inputs = pad_sequences(token_test_x, maxlen=w_l)\n",
    "        val_inputs = pad_sequences(token_val_x, maxlen=w_l)\n",
    "        train_outputs = train_y\n",
    "        test_outputs = test_y\n",
    "        val_outputs = val_y\n",
    "        return train_inputs,train_outputs,test_inputs,test_outputs,val_inputs,val_outputs,len(token.word_index)+1\n",
    "pr_mc = 한글처리기(data)\n",
    "pr_mc.ck_m()\n",
    "t_x,t_y,tt_x,tt_y,v_x,v_y,w_n=pr_mc.전처리_결과_출력()\n",
    "print(t_x.shape,t_y.shape,tt_x.shape,tt_y.shape,v_x.shape,v_y.shape)"
   ]
  },
  {
   "cell_type": "code",
   "execution_count": 8,
   "id": "3dcb10e1",
   "metadata": {},
   "outputs": [],
   "source": [
    "from tensorflow.keras.callbacks import EarlyStopping, ModelCheckpoint\n",
    "es=EarlyStopping(monitor='val_loss',mode='min',verbose=1,patience=4)\n",
    "mc=ModelCheckpoint('best_m1.h5',monitor='val_acc',mode='max',verbose=1,save_best_only=True)"
   ]
  },
  {
   "cell_type": "code",
   "execution_count": 13,
   "id": "652d31f7",
   "metadata": {},
   "outputs": [],
   "source": [
    "from tensorflow.keras.models import Sequential\n",
    "from tensorflow.keras.layers import Dense, LSTM, Embedding\n",
    "m=Sequential()\n",
    "m.add(Embedding(26965,128))\n",
    "m.add(LSTM(128))\n",
    "m.add(Dense(1,activation='sigmoid'))\n",
    "m.compile(optimizer='adam',loss='binary_crossentropy',metrics=['acc'])"
   ]
  },
  {
   "cell_type": "code",
   "execution_count": 14,
   "id": "ec82d673",
   "metadata": {},
   "outputs": [
    {
     "name": "stdout",
     "output_type": "stream",
     "text": [
      "Epoch 1/15\n",
      "844/844 [==============================] - 132s 155ms/step - loss: 0.3984 - acc: 0.8160 - val_loss: 0.3524 - val_acc: 0.8448\n",
      "Epoch 2/15\n",
      "844/844 [==============================] - 135s 160ms/step - loss: 0.2971 - acc: 0.8727 - val_loss: 0.3528 - val_acc: 0.8458\n",
      "Epoch 3/15\n",
      "844/844 [==============================] - 138s 164ms/step - loss: 0.2464 - acc: 0.8968 - val_loss: 0.3758 - val_acc: 0.8440\n",
      "Epoch 4/15\n",
      "844/844 [==============================] - 139s 165ms/step - loss: 0.1995 - acc: 0.9159 - val_loss: 0.4151 - val_acc: 0.8404\n",
      "Epoch 5/15\n",
      "844/844 [==============================] - 130s 154ms/step - loss: 0.1592 - acc: 0.9337 - val_loss: 0.4707 - val_acc: 0.8331\n"
     ]
    }
   ],
   "source": [
    "hy=m.fit(t_x,t_y,epochs=15,batch_size=128,callbacks=[es,mc],validation_data=(tt_x,tt_y))"
   ]
  },
  {
   "cell_type": "code",
   "execution_count": 17,
   "id": "fc1bee78",
   "metadata": {},
   "outputs": [
    {
     "data": {
      "text/plain": [
       "[<matplotlib.lines.Line2D at 0x1fb40ed3fa0>]"
      ]
     },
     "execution_count": 17,
     "metadata": {},
     "output_type": "execute_result"
    },
    {
     "data": {
      "image/png": "[encoded data removed]",
      "text/plain": [
       "<Figure size 432x288 with 1 Axes>"
      ]
     },
     "metadata": {
      "needs_background": "light"
     },
     "output_type": "display_data"
    }
   ],
   "source": [
    "import matplotlib.pyplot as plt\n",
    "epochs = range(1, len(hy.history['acc']) + 1)\n",
    "plt.plot(epochs, hy.history['loss'])\n",
    "plt.plot(epochs, hy.history['val_loss'])"
   ]
  },
  {
   "cell_type": "code",
   "execution_count": 21,
   "id": "e6a2bdf3",
   "metadata": {},
   "outputs": [
    {
     "name": "stdout",
     "output_type": "stream",
     "text": [
      "1805/1805 [==============================] - 33s 18ms/step - loss: 0.3528 - acc: 0.8458\n"
     ]
    },
    {
     "data": {
      "text/plain": [
       "0.845836877822876"
      ]
     },
     "execution_count": 21,
     "metadata": {},
     "output_type": "execute_result"
    }
   ],
   "source": [
    "from tensorflow.keras.models import load_model\n",
    "loaded_model = load_model('best_m1.h5')\n",
    "loaded_model.evaluate(tt_x,tt_y)[1]"
   ]
  },
  {
   "cell_type": "code",
   "execution_count": null,
   "id": "20e6422f",
   "metadata": {},
   "outputs": [],
   "source": []
  }
 ],
 "metadata": {
  "kernelspec": {
   "display_name": "Python 3 (ipykernel)",
   "language": "python",
   "name": "python3"
  },
  "language_info": {
   "codemirror_mode": {
    "name": "ipython",
    "version": 3
   },
   "file_extension": ".py",
   "mimetype": "text/x-python",
   "name": "python",
   "nbconvert_exporter": "python",
   "pygments_lexer": "ipython3",
   "version": "3.9.7"
  }
 },
 "nbformat": 4,
 "nbformat_minor": 5
}
