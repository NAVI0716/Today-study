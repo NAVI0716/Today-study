{
 "cells": [
  {
   "cell_type": "code",
   "execution_count": 21,
   "id": "d2866b41",
   "metadata": {},
   "outputs": [],
   "source": [
    "import pandas as pd\n",
    "import numpy as np\n",
    "import matplotlib.pyplot as plt\n",
    "from sklearn.model_selection import train_test_split\n",
    "\n",
    "X = np.array(\n",
    "    [8.4, 13.7, 15.0, 16.2, 17.4, 18.0, 18.7, 19.0, 19.6, 20.0, \n",
    "     21.0, 21.0, 21.0, 21.3, 22.0, 22.0, 22.0, 22.0, 22.0, 22.5, \n",
    "     22.5, 22.7, 23.0, 23.5, 24.0, 24.0, 24.6, 25.0, 25.6, 26.5, \n",
    "     27.3, 27.5, 27.5, 27.5, 28.0, 28.7, 30.0, 32.8, 34.5, 35.0, \n",
    "     36.5, 36.0, 37.0, 37.0, 39.0, 39.0, 39.0, 40.0, 40.0, 40.0, \n",
    "     40.0, 42.0, 43.0, 43.0, 43.5, 44.0]\n",
    "     )\n",
    "Y = np.array(\n",
    "    [5.9, 32.0, 40.0, 51.5, 70.0, 100.0, 78.0, 80.0, 85.0, 85.0, \n",
    "     110.0, 115.0, 125.0, 130.0, 120.0, 120.0, 130.0, 135.0, 110.0, \n",
    "     130.0, 150.0, 145.0, 150.0, 170.0, 225.0, 145.0, 188.0, 180.0, \n",
    "     197.0, 218.0, 300.0, 260.0, 265.0, 250.0, 250.0, 300.0, 320.0, \n",
    "     514.0, 556.0, 840.0, 685.0, 700.0, 700.0, 690.0, 900.0, 650.0, \n",
    "     820.0, 850.0, 900.0, 1015.0, 820.0, 1100.0, 1000.0, 1100.0, \n",
    "     1000.0, 1000.0]\n",
    "     )"
   ]
  },
  {
   "cell_type": "code",
   "execution_count": 22,
   "id": "29a86c3f",
   "metadata": {},
   "outputs": [
    {
     "data": {
      "text/plain": [
       "<matplotlib.collections.PathCollection at 0x1bcda2c57c0>"
      ]
     },
     "execution_count": 22,
     "metadata": {},
     "output_type": "execute_result"
    },
    {
     "data": {
      "image/png": "[encoded data removed]",
      "text/plain": [
       "<Figure size 432x288 with 1 Axes>"
      ]
     },
     "metadata": {
      "needs_background": "light"
     },
     "output_type": "display_data"
    }
   ],
   "source": [
    "plt.scatter([X],[Y])"
   ]
  },
  {
   "cell_type": "code",
   "execution_count": 23,
   "id": "f0c36140",
   "metadata": {
    "scrolled": true
   },
   "outputs": [
    {
     "name": "stdout",
     "output_type": "stream",
     "text": [
      "(42,) (14,)\n"
     ]
    }
   ],
   "source": [
    "from sklearn.model_selection import train_test_split\n",
    "t_x,tt_x,t_y,tt_y = train_test_split(X,Y,random_state=43)\n",
    "print(t_x.shape,tt_x.shape)"
   ]
  },
  {
   "cell_type": "code",
   "execution_count": 24,
   "id": "81c9012a",
   "metadata": {},
   "outputs": [
    {
     "data": {
      "text/plain": [
       "array([34.5, 39. , 43. , 16.2, 39. , 19.6, 22. , 36. , 19. , 40. , 30. ,\n",
       "       22.5, 26.5, 32.8, 20. , 42. , 25.6, 21. , 27.5, 24. , 21. , 44. ,\n",
       "       37. , 40. , 37. , 28. , 13.7, 24. , 21. , 28.7, 43.5, 23.5, 27.3,\n",
       "       39. , 15. , 25. , 22. , 22. , 22.7, 40. ,  8.4, 17.4])"
      ]
     },
     "execution_count": 24,
     "metadata": {},
     "output_type": "execute_result"
    }
   ],
   "source": [
    "t_x"
   ]
  },
  {
   "cell_type": "code",
   "execution_count": 25,
   "id": "9c50169f",
   "metadata": {},
   "outputs": [
    {
     "name": "stdout",
     "output_type": "stream",
     "text": [
      "(42, 1) (14, 1)\n"
     ]
    }
   ],
   "source": [
    "n_t_x = t_x.reshape(-1,1)#2차원으로 각원소가 하나씩 들어가게 변경작업해줌\n",
    "n_tt_x = tt_x.reshape(-1,1)#테스트 데이터도 동일하게\n",
    "print(n_t_x.shape,n_tt_x.shape)"
   ]
  },
  {
   "cell_type": "code",
   "execution_count": 26,
   "id": "e9ce4039",
   "metadata": {},
   "outputs": [
    {
     "data": {
      "text/plain": [
       "KNeighborsRegressor()"
      ]
     },
     "execution_count": 26,
     "metadata": {},
     "output_type": "execute_result"
    }
   ],
   "source": [
    "from sklearn.neighbors import KNeighborsRegressor # k회귀 점인접된것을 찾는것\n",
    "#모델 생성\n",
    "knr = KNeighborsRegressor()\n",
    "knr.fit(n_t_x,t_y)#학습완료"
   ]
  },
  {
   "cell_type": "code",
   "execution_count": 27,
   "id": "e6a9ce16",
   "metadata": {},
   "outputs": [
    {
     "data": {
      "text/plain": [
       "0.9662464614810213"
      ]
     },
     "execution_count": 27,
     "metadata": {},
     "output_type": "execute_result"
    }
   ],
   "source": [
    "knr.score(n_tt_x,tt_y)#테스트 데이터"
   ]
  },
  {
   "cell_type": "markdown",
   "id": "8b690a87",
   "metadata": {},
   "source": [
    "오차확인(차이점)/ 정답-결과"
   ]
  },
  {
   "cell_type": "markdown",
   "id": "f0d42625",
   "metadata": {},
   "source": [
    "=> 머신러닝 Y =WX -학습 ->정답 = W입력 -> Y=W(학습돼서 값을 갖고있다.)x ->y=wx <-x입력"
   ]
  },
  {
   "cell_type": "code",
   "execution_count": 28,
   "id": "10df8041",
   "metadata": {},
   "outputs": [
    {
     "name": "stdout",
     "output_type": "stream",
     "text": [
      "29.69285714285715\n"
     ]
    }
   ],
   "source": [
    "from sklearn.metrics import mean_absolute_error#비교모델\n",
    "end_tt_y = knr.predict(n_tt_x)#회귀란 함수식을 새워두는것/ 모델(학습된)에다가 입력을 주겠다\n",
    "\n",
    "mae=mean_absolute_error(tt_y,end_tt_y)#tt_y 실제 결과값\n",
    "print(mae)#평균절댓값오차"
   ]
  },
  {
   "cell_type": "code",
   "execution_count": 29,
   "id": "325ab84e",
   "metadata": {},
   "outputs": [
    {
     "data": {
      "text/plain": [
       "0.9662464614810213"
      ]
     },
     "execution_count": 29,
     "metadata": {},
     "output_type": "execute_result"
    }
   ],
   "source": [
    "knr.score(n_tt_x,tt_y)#95퍼센트의 수준으로 데이터 인식이 잘되고있다./ 오차와 동일하게 보면안된다. 스코어값이 높다고 신뢰성이랑 동일시하면안됨"
   ]
  },
  {
   "cell_type": "markdown",
   "id": "8db52b09",
   "metadata": {},
   "source": [
    "모델 변경전 트레이닝데이터로 점수확인"
   ]
  },
  {
   "cell_type": "code",
   "execution_count": 30,
   "id": "e41cdeb5",
   "metadata": {},
   "outputs": [
    {
     "data": {
      "text/plain": [
       "KNeighborsRegressor()"
      ]
     },
     "execution_count": 30,
     "metadata": {},
     "output_type": "execute_result"
    }
   ],
   "source": [
    "knr.fit(n_t_x,t_y)#데이터가 있다면 가까이 있는 숫자값에 맵팽서 숫자값 일치"
   ]
  },
  {
   "cell_type": "code",
   "execution_count": 31,
   "id": "481eb957",
   "metadata": {},
   "outputs": [
    {
     "data": {
      "text/plain": [
       "0.9815010309553626"
      ]
     },
     "execution_count": 31,
     "metadata": {},
     "output_type": "execute_result"
    }
   ],
   "source": [
    "knr.score(n_t_x,t_y)"
   ]
  },
  {
   "cell_type": "code",
   "execution_count": 32,
   "id": "49ec17a8",
   "metadata": {},
   "outputs": [
    {
     "data": {
      "text/plain": [
       "0.9625437594582437"
      ]
     },
     "execution_count": 32,
     "metadata": {},
     "output_type": "execute_result"
    }
   ],
   "source": [
    "#...(38,4)(39,4.1)(40,4.2)(50,5)(60,6)#5가지중 각각의 평균값을 계산해줌\n",
    "#x=40\n",
    "knr.n_neighbors=3 #k의 선별숫자 변경\n",
    "knr.fit(n_t_x,t_y)\n",
    "knr.score(n_tt_x,tt_y)\n",
    "#트레이닝점수가 높다고해서 무조건 좋은것이 아니다\n",
    "#학습을 했을때 너무 벗어나거나 너무 포커싱되면 좋지않다\n",
    "#테스트와 트레이닝데이터차이가 많이나면 1.학습이 덜된것/ 2.학습이 과도할때"
   ]
  },
  {
   "cell_type": "markdown",
   "id": "5598a92b",
   "metadata": {},
   "source": [
    "모델 변경후 트레이닝 데이터로 점수확인"
   ]
  },
  {
   "cell_type": "code",
   "execution_count": 33,
   "id": "6ac74720",
   "metadata": {},
   "outputs": [
    {
     "data": {
      "image/png": "[encoded data removed]",
      "text/plain": [
       "<Figure size 432x288 with 1 Axes>"
      ]
     },
     "metadata": {
      "needs_background": "light"
     },
     "output_type": "display_data"
    },
    {
     "data": {
      "image/png": "[encoded data removed]",
      "text/plain": [
       "<Figure size 432x288 with 1 Axes>"
      ]
     },
     "metadata": {
      "needs_background": "light"
     },
     "output_type": "display_data"
    },
    {
     "data": {
      "image/png": "[encoded data removed]",
      "text/plain": [
       "<Figure size 432x288 with 1 Axes>"
      ]
     },
     "metadata": {
      "needs_background": "light"
     },
     "output_type": "display_data"
    }
   ],
   "source": [
    "knr1=KNeighborsRegressor()\n",
    "x=np.arange(5,45).reshape(-1,1)#비교를 위한 data생성\n",
    "for n in [1,5,10]:\n",
    "    knr1.n_neighbors=n\n",
    "    knr1.fit(n_t_x,t_y)\n",
    "    p_data=knr1.predict(x)\n",
    "    plt.scatter(n_t_x,t_y)\n",
    "    plt.plot(x,p_data)\n",
    "    plt.title('n_plt{n}')\n",
    "    plt.show()"
   ]
  },
  {
   "cell_type": "markdown",
   "id": "f5f9b48f",
   "metadata": {},
   "source": [
    "k회귀의  한계"
   ]
  },
  {
   "cell_type": "code",
   "execution_count": 34,
   "id": "cdf6627d",
   "metadata": {},
   "outputs": [
    {
     "data": {
      "text/plain": [
       "array([1033.33333333])"
      ]
     },
     "execution_count": 34,
     "metadata": {},
     "output_type": "execute_result"
    }
   ],
   "source": [
    "knr2=KNeighborsRegressor(n_neighbors=3)\n",
    "knr2.fit(n_t_x,t_y)\n",
    "knr2.predict([[50]])\n",
    "\n"
   ]
  },
  {
   "cell_type": "code",
   "execution_count": 35,
   "id": "85e6cec8",
   "metadata": {},
   "outputs": [
    {
     "data": {
      "text/plain": [
       "<matplotlib.collections.PathCollection at 0x1bcdb466670>"
      ]
     },
     "execution_count": 35,
     "metadata": {},
     "output_type": "execute_result"
    },
    {
     "data": {
      "image/png": "[encoded data removed]",
      "text/plain": [
       "<Figure size 432x288 with 1 Axes>"
      ]
     },
     "metadata": {
      "needs_background": "light"
     },
     "output_type": "display_data"
    }
   ],
   "source": [
    "d,i=knr2.kneighbors([[50]])\n",
    "plt.scatter(n_t_x,t_y)\n",
    "plt.scatter(n_t_x[i],t_y[i],marker='*')\n",
    "plt.scatter(50,1000.3,marker='^')"
   ]
  },
  {
   "cell_type": "code",
   "execution_count": 36,
   "id": "b76293d0",
   "metadata": {},
   "outputs": [
    {
     "data": {
      "text/plain": [
       "array([1033.33333333])"
      ]
     },
     "execution_count": 36,
     "metadata": {},
     "output_type": "execute_result"
    }
   ],
   "source": [
    "knr2.predict([[1000]])"
   ]
  },
  {
   "cell_type": "code",
   "execution_count": 37,
   "id": "66278a5b",
   "metadata": {},
   "outputs": [],
   "source": [
    "from sklearn.linear_model import LinearRegression\n",
    "lr=LinearRegression().fit(n_t_x,t_y)\n"
   ]
  },
  {
   "cell_type": "code",
   "execution_count": 38,
   "id": "cbee2fbd",
   "metadata": {},
   "outputs": [
    {
     "name": "stdout",
     "output_type": "stream",
     "text": [
      "[1187.92199858]\n",
      "[35638.66987063]\n"
     ]
    }
   ],
   "source": [
    "print(lr.predict([[50]]))\n",
    "print(lr.predict([[1000]]))\n"
   ]
  },
  {
   "cell_type": "code",
   "execution_count": 39,
   "id": "85a4def3",
   "metadata": {},
   "outputs": [
    {
     "data": {
      "text/plain": [
       "[<matplotlib.lines.Line2D at 0x1bcdb3d3ee0>]"
      ]
     },
     "execution_count": 39,
     "metadata": {},
     "output_type": "execute_result"
    },
    {
     "data": {
      "image/png": "[encoded data removed]",
      "text/plain": [
       "<Figure size 432x288 with 1 Axes>"
      ]
     },
     "metadata": {
      "needs_background": "light"
     },
     "output_type": "display_data"
    }
   ],
   "source": [
    "plt.scatter(n_t_x,t_y)\n",
    "#1차 방정식을 만들어 내는것\n",
    "plt.plot([15,50],[15*lr.coef_+lr.intercept_,50*lr.coef_+lr.intercept_])#임의의 값에 웨이트값/ 웨이트값 결합 w0 lr.coef_ w1 lr.intercept_"
   ]
  },
  {
   "cell_type": "markdown",
   "id": "862d1568",
   "metadata": {},
   "source": [
    "## 다항으로 회귀"
   ]
  },
  {
   "cell_type": "code",
   "execution_count": 42,
   "id": "1d64f407",
   "metadata": {},
   "outputs": [
    {
     "name": "stdout",
     "output_type": "stream",
     "text": [
      "(42, 2) (42, 2)\n"
     ]
    }
   ],
   "source": [
    "p_t_x=np.column_stack((n_t_x**2,n_t_x))\n",
    "p_tt_x=np.column_stack((n_t_x**2,n_t_x))\n",
    "print(p_t_x.shape,p_tt_x.shape)"
   ]
  },
  {
   "cell_type": "code",
   "execution_count": 44,
   "id": "a814b05d",
   "metadata": {},
   "outputs": [
    {
     "name": "stdout",
     "output_type": "stream",
     "text": [
      "[1573.06792794]\n"
     ]
    }
   ],
   "source": [
    "lr = LinearRegression()#만들어진 선형회귀 가져옴\n",
    "lr.fit(p_t_x,t_y)#학습\n",
    "print(lr.predict([[50**2,50]]))#[[]]써서 단일데이터로 만들어줌"
   ]
  },
  {
   "cell_type": "code",
   "execution_count": 45,
   "id": "0a04334f",
   "metadata": {},
   "outputs": [
    {
     "name": "stdout",
     "output_type": "stream",
     "text": [
      "[  1.05682431 -24.53340579] 157.67745303390137\n"
     ]
    }
   ],
   "source": [
    "print(lr.coef_,lr.intercept_)"
   ]
  },
  {
   "cell_type": "code",
   "execution_count": 47,
   "id": "6b17f3fd",
   "metadata": {},
   "outputs": [
    {
     "data": {
      "text/plain": [
       "<matplotlib.collections.PathCollection at 0x1bcda361610>"
      ]
     },
     "execution_count": 47,
     "metadata": {},
     "output_type": "execute_result"
    },
    {
     "data": {
      "image/png": "[encoded data removed]",
      "text/plain": [
       "<Figure size 432x288 with 1 Axes>"
      ]
     },
     "metadata": {
      "needs_background": "light"
     },
     "output_type": "display_data"
    }
   ],
   "source": [
    "p=np.arange(15,50)\n",
    "plt.scatter(n_t_x,t_y)\n",
    "plt.plot(p,1.05*p**2 -24.5*p +157.6)#그래프에 y값 설정완료\n",
    "plt.scatter([50],[1573.06])"
   ]
  },
  {
   "cell_type": "code",
   "execution_count": null,
   "id": "5e05afd6",
   "metadata": {},
   "outputs": [],
   "source": []
  }
 ],
 "metadata": {
  "kernelspec": {
   "display_name": "Python 3 (ipykernel)",
   "language": "python",
   "name": "python3"
  },
  "language_info": {
   "codemirror_mode": {
    "name": "ipython",
    "version": 3
   },
   "file_extension": ".py",
   "mimetype": "text/x-python",
   "name": "python",
   "nbconvert_exporter": "python",
   "pygments_lexer": "ipython3",
   "version": "3.9.7"
  }
 },
 "nbformat": 4,
 "nbformat_minor": 5
}
