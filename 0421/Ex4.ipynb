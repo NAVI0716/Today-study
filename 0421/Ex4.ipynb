{
 "cells": [
  {
   "cell_type": "code",
   "execution_count": 10,
   "id": "6ea90e65",
   "metadata": {},
   "outputs": [],
   "source": [
    "import numpy as np\n",
    "class LinearRegressionGD(object):\n",
    "    def __init__(self, fit_intercept=True, copy_X=True,\n",
    "                 eta0=0.001, epochs=1000, batch_size = 1, \n",
    "                 weight_decay=0.9, shuffle = True):\n",
    "        self.fit_intercept = fit_intercept\n",
    "        self.copy_X = copy_X\n",
    "        self._eta0 = eta0\n",
    "        self._epochs = epochs\n",
    "\n",
    "        self._cost_history = []\n",
    "\n",
    "        self._coef = None\n",
    "        self._intercept = None\n",
    "        self._new_X = None\n",
    "        self._w_history = None\n",
    "        self._weight_decay = weight_decay\n",
    "        self._batch_size = batch_size\n",
    "        self._is_SGD = shuffle\n",
    "\n",
    "    def gradient(self, X, y, theta):\n",
    "        return X.T.dot(self.hypothesis_function(X, theta)-y) / len(X)\n",
    "\n",
    "    def fit(self, X, y):\n",
    "        self._new_X = np.array(X)\n",
    "        y = y.reshape(-1, 1)\n",
    "\n",
    "        if self.fit_intercept:\n",
    "\n",
    "            intercept_vector = np.ones([len(self._new_X), 1])\n",
    "            self._new_X = np.concatenate(\n",
    "                    (intercept_vector, self._new_X), axis=1)\n",
    "\n",
    "        theta_init = np.random.normal(0, 1, self._new_X.shape[1])         \n",
    "        # weight값 초기화\n",
    "        self._w_history = [theta_init]#데이터 기록남김\n",
    "        self._cost_history = [self.cost(\n",
    "                        self.hypothesis_function(self._new_X, theta_init), y)]\n",
    "\n",
    "        theta = theta_init\n",
    "\n",
    "        for epoch in range(self._epochs):#에포크한개가 데이터 전체 1회\n",
    "            X_copy = np.copy(self._new_X)\n",
    "\n",
    "            if self._is_SGD:#데이터에 맞춰서 동작\n",
    "                np.random.shuffle(X_copy)\n",
    "\n",
    "            batch = len(X_copy) // self._batch_size \n",
    "\n",
    "\n",
    "            for batch_count  in range(batch):\n",
    "                X_batch = np.copy(\n",
    "                            X_copy[batch_count * self._batch_size : (batch_count+1) & self._batch_size])\n",
    "\n",
    "                gradient = self.gradient(X_batch  , y, theta).flatten()\n",
    "                theta = theta - self._eta0 * gradient\n",
    "\n",
    "            if epoch % 100 == 0:\n",
    "                self._w_history.append(theta)\n",
    "                cost = self.cost(\n",
    "                    self.hypothesis_function(self._new_X, theta), y)\n",
    "                self._cost_history.append(cost)\n",
    "            self._eta0 = self._eta0 * self._weight_decay\n",
    "\n",
    "        if self.fit_intercept:\n",
    "            self._intercept = theta[0]\n",
    "            self._coef = theta[1:]\n",
    "        else:\n",
    "            self._coef = theta\n",
    "    def cost(self, h, y): #동작에 대한 기능 COST : 비용함수\n",
    "        return 1/(2*len(y)) * np.sum((h-y).flatten() ** 2)\n",
    "\n",
    "    def hypothesis_function(self, X, theta):#미리설정하는 초기값\n",
    "        return X.dot(theta).reshape(-1, 1)\n",
    "\n",
    "    def gradient(self, X, y, theta):\n",
    "        return X.T.dot(self.hypothesis_function(X, theta)-y) / len(X)\n",
    "\n",
    "    def fit(self, X, y):#학습\n",
    "        self._new_X = np.array(X)\n",
    "        y = y.reshape(-1, 1)\n",
    "\n",
    "        if self.fit_intercept:\n",
    "            intercept_vector = np.ones([len(self._new_X), 1])\n",
    "            self._new_X = np.concatenate(\n",
    "                    (intercept_vector, self._new_X), axis=1)\n",
    "\n",
    "        theta_init = np.random.normal(0, 1, self._new_X.shape[1])\n",
    "        self._w_history = [theta_init]\n",
    "        self._cost_history = [self.cost(\n",
    "                        self.hypothesis_function(self._new_X, theta_init), y)]\n",
    "\n",
    "        theta = theta_init\n",
    "\n",
    "        for epoch in range(self._epochs):\n",
    "            gradient = self.gradient(self._new_X, y, theta).flatten()\n",
    "            theta = theta - self._eta0 * gradient\n",
    "\n",
    "            if epoch % 100 == 0:\n",
    "                self._w_history.append(theta)\n",
    "                cost = self.cost(\n",
    "                    self.hypothesis_function(self._new_X, theta), y)\n",
    "                self._cost_history.append(cost)\n",
    "            self._eta0 = self._eta0 * self._weight_decay\n",
    "\n",
    "        if self.fit_intercept:\n",
    "            self._intercept = theta[0]\n",
    "            self._coef = theta[1:]\n",
    "        else:\n",
    "            self._coef = theta\n",
    "\n",
    "    def predict(self, X):\n",
    "        test_X = np.array(X)\n",
    "\n",
    "        if self.fit_intercept:\n",
    "            intercept_vector = np.ones([len(test_X), 1])\n",
    "            test_X = np.concatenate(\n",
    "                    (intercept_vector, test_X), axis=1)\n",
    "\n",
    "            weights = np.concatenate(([self._intercept], self._coef), axis=0)\n",
    "        else:\n",
    "            weights = self._coef\n",
    "\n",
    "        return test_X.dot(weights)\n",
    "\n",
    "    @property\n",
    "    def coef(self):\n",
    "        return self._coef\n",
    "\n",
    "    @property\n",
    "    def intercept(self):\n",
    "        return self._intercept\n",
    "\n",
    "    @property\n",
    "    def weights_history(self):\n",
    "        return np.array(self._w_history)\n",
    "\n",
    "    @property\n",
    "    def cost_history(self):\n",
    "        return self._cost_history"
   ]
  },
  {
   "cell_type": "code",
   "execution_count": 13,
   "id": "c9573529",
   "metadata": {},
   "outputs": [
    {
     "data": {
      "text/plain": [
       "[<matplotlib.lines.Line2D at 0x24656ce1100>]"
      ]
     },
     "execution_count": 13,
     "metadata": {},
     "output_type": "execute_result"
    },
    {
     "data": {
      "image/png": "[encoded data removed]",
      "text/plain": [
       "<Figure size 432x288 with 1 Axes>"
      ]
     },
     "metadata": {
      "needs_background": "light"
     },
     "output_type": "display_data"
    }
   ],
   "source": [
    "import pandas as pd\n",
    "df = pd.read_csv('train.csv')\n",
    "X = df['x'].values.reshape(-1,1)\n",
    "Y = df['y'].values\n",
    "gd_lr = LinearRegressionGD(batch_size=1,shuffle=False,eta0=0.001,epochs=10000)#eta0 학습률, epochs 만번실행\n",
    "gd_lr.fit(X,Y) # 학습이 잘되고있는지 확인할때 cost 값 확인\n",
    "import matplotlib.pyplot as plt\n",
    "plt.plot(range(len(gd_lr.cost_history)),gd_lr.cost_history)"
   ]
  },
  {
   "cell_type": "code",
   "execution_count": 27,
   "id": "3038151a",
   "metadata": {
    "scrolled": true
   },
   "outputs": [
    {
     "data": {
      "text/plain": [
       "[<matplotlib.lines.Line2D at 0x246572400d0>]"
      ]
     },
     "execution_count": 27,
     "metadata": {},
     "output_type": "execute_result"
    },
    {
     "data": {
      "image/png": "[encoded data removed]",
      "text/plain": [
       "<Figure size 432x288 with 1 Axes>"
      ]
     },
     "metadata": {
      "needs_background": "light"
     },
     "output_type": "display_data"
    }
   ],
   "source": [
    "sgd_lr = LinearRegressionGD()\n",
    "bgd_lr = LinearRegressionGD(batch_size=len(X),shuffle=False)#batch_size=len(x)전체 데이터/eta0 학습률, epochs 만번실행\n",
    "msgd_lr = LinearRegressionGD(batch_size=200)\n",
    "sgd_lr.fit(X,Y) # 학습이 잘되고있는지 확인할때 cost 값 확인\n",
    "bgd_lr.fit(X,Y)\n",
    "msgd_lr.fit(X,Y)\n",
    "import matplotlib.pyplot as plt\n",
    "plt.plot(range(len(sgd_lr.cost_history)),sgd_lr.cost_history)\n",
    "plt.plot(range(len(bgd_lr.cost_history)),bgd_lr.cost_history)\n",
    "plt.plot(range(len(msgd_lr.cost_history)),msgd_lr.cost_history)"
   ]
  }
 ],
 "metadata": {
  "kernelspec": {
   "display_name": "Python 3 (ipykernel)",
   "language": "python",
   "name": "python3"
  },
  "language_info": {
   "codemirror_mode": {
    "name": "ipython",
    "version": 3
   },
   "file_extension": ".py",
   "mimetype": "text/x-python",
   "name": "python",
   "nbconvert_exporter": "python",
   "pygments_lexer": "ipython3",
   "version": "3.9.7"
  }
 },
 "nbformat": 4,
 "nbformat_minor": 5
}
