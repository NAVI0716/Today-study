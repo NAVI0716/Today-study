{
 "cells": [
  {
   "cell_type": "code",
   "execution_count": 1,
   "id": "e321786b",
   "metadata": {},
   "outputs": [
    {
     "data": {
      "text/plain": [
       "([('I', 'am'), ('am', 'a'), ('a', 'boy')],\n",
       " [('I', 'am', 'a'), ('am', 'a', 'boy')])"
      ]
     },
     "execution_count": 1,
     "metadata": {},
     "output_type": "execute_result"
    }
   ],
   "source": [
    "from nltk import bigrams, word_tokenize\n",
    "from nltk.util import ngrams\n",
    "t='I am a boy'\n",
    "tk=word_tokenize(t)\n",
    "bg=bigrams(tk)#직전의 단어\n",
    "ng=ngrams(tk,3)#특정 영역\n",
    "list(bg),list(ng)"
   ]
  },
  {
   "cell_type": "markdown",
   "id": "6d36ef95",
   "metadata": {},
   "source": [
    "SS<문장>SE"
   ]
  },
  {
   "cell_type": "code",
   "execution_count": 3,
   "id": "00793bad",
   "metadata": {},
   "outputs": [
    {
     "data": {
      "text/plain": [
       "[('SS', 'I'), ('I', 'am'), ('am', 'a'), ('a', 'boy'), ('boy', 'SE')]"
      ]
     },
     "execution_count": 3,
     "metadata": {},
     "output_type": "execute_result"
    }
   ],
   "source": [
    "#모델 바이그램 언어모델 : 앞에단어로 뒤에단어 예측\n",
    "data2=ngrams(tk,2,pad_left=True,pad_right=True,left_pad_symbol=\"SS\",right_pad_symbol=\"SE\")\n",
    "list(data2)"
   ]
  },
  {
   "cell_type": "code",
   "execution_count": 4,
   "id": "e4792adb",
   "metadata": {},
   "outputs": [],
   "source": [
    "for i in data2:\n",
    "    print(i[0],i[1])"
   ]
  },
  {
   "cell_type": "code",
   "execution_count": 5,
   "id": "50dbf2f4",
   "metadata": {},
   "outputs": [],
   "source": [
    "#조건부확률\n",
    "from nltk import ConditionalFreqDist\n",
    "t='I am a boy'\n",
    "t2='you are a boy'\n",
    "tk=word_tokenize(t)\n",
    "ng2=ngrams(tk,2,pad_left=True,pad_right=True,left_pad_symbol=\"SS\",right_pad_symbol=\"SE\")\n",
    "fd=ConditionalFreqDist([(i[0],i[1])for i in ng2])"
   ]
  },
  {
   "cell_type": "code",
   "execution_count": 6,
   "id": "c22d861f",
   "metadata": {},
   "outputs": [
    {
     "data": {
      "text/plain": [
       "['SS', 'I', 'am', 'a', 'boy']"
      ]
     },
     "execution_count": 6,
     "metadata": {},
     "output_type": "execute_result"
    }
   ],
   "source": [
    "fd.conditions()#정답 접근 정보"
   ]
  },
  {
   "cell_type": "code",
   "execution_count": 7,
   "id": "0f849e86",
   "metadata": {},
   "outputs": [
    {
     "data": {
      "text/plain": [
       "FreqDist({'I': 1})"
      ]
     },
     "execution_count": 7,
     "metadata": {},
     "output_type": "execute_result"
    }
   ],
   "source": [
    "fd['SS']"
   ]
  },
  {
   "cell_type": "code",
   "execution_count": 8,
   "id": "5bc4c258",
   "metadata": {},
   "outputs": [
    {
     "name": "stderr",
     "output_type": "stream",
     "text": [
      "[nltk_data] Downloading package movie_reviews to\n",
      "[nltk_data]     C:\\Users\\류성빈\\AppData\\Roaming\\nltk_data...\n",
      "[nltk_data]   Package movie_reviews is already up-to-date!\n",
      "[nltk_data] Downloading package punkt to\n",
      "[nltk_data]     C:\\Users\\류성빈\\AppData\\Roaming\\nltk_data...\n",
      "[nltk_data]   Package punkt is already up-to-date!\n"
     ]
    },
    {
     "data": {
      "text/plain": [
       "True"
      ]
     },
     "execution_count": 8,
     "metadata": {},
     "output_type": "execute_result"
    }
   ],
   "source": [
    "import nltk\n",
    "nltk.download('movie_reviews')\n",
    "nltk.download('punkt')"
   ]
  },
  {
   "cell_type": "code",
   "execution_count": 9,
   "id": "58a39655",
   "metadata": {},
   "outputs": [],
   "source": [
    "from nltk.corpus import movie_reviews\n",
    "data_l=[]\n",
    "n=0\n",
    "for i in movie_reviews.sents():#전체적인 구조를 볼수있음/여러문장이 이미 토큰화가 되어있음\n",
    "    bg2=ngrams(i,2,pad_left=True,pad_right=True,left_pad_symbol=\"SS\",right_pad_symbol=\"SE\")    \n",
    "    data_l+=[t for t in bg2]\n",
    "    n+=1\n",
    "#len(data_l)\n",
    "#print(n)#조건의 개수\n",
    "cfd= ConditionalFreqDist(data_l)"
   ]
  },
  {
   "cell_type": "code",
   "execution_count": 10,
   "id": "8f845457",
   "metadata": {},
   "outputs": [
    {
     "data": {
      "text/plain": [
       "[('the', 8071),\n",
       " ('.', 3173),\n",
       " ('it', 3136),\n",
       " ('i', 2471),\n",
       " ('but', 1814),\n",
       " ('and', 1735),\n",
       " ('he', 1672),\n",
       " ('in', 1659),\n",
       " ('this', 1651),\n",
       " ('there', 1298)]"
      ]
     },
     "execution_count": 10,
     "metadata": {},
     "output_type": "execute_result"
    }
   ],
   "source": [
    "cfd[\"SS\"].most_common(10)#너무많아 한정적으로 범위 줄여줌"
   ]
  },
  {
   "cell_type": "code",
   "execution_count": 11,
   "id": "babbce30",
   "metadata": {},
   "outputs": [
    {
     "data": {
      "text/plain": [
       "[('film', 4542),\n",
       " ('movie', 2147),\n",
       " ('story', 985),\n",
       " ('most', 945),\n",
       " ('first', 902),\n",
       " ('same', 774),\n",
       " ('only', 665),\n",
       " ('end', 664),\n",
       " ('best', 642),\n",
       " ('audience', 620)]"
      ]
     },
     "execution_count": 11,
     "metadata": {},
     "output_type": "execute_result"
    }
   ],
   "source": [
    "cfd[\"the\"].most_common(10)"
   ]
  },
  {
   "cell_type": "code",
   "execution_count": 12,
   "id": "2941d2eb",
   "metadata": {},
   "outputs": [
    {
     "data": {
      "text/plain": [
       "[('.', 802),\n",
       " (',', 659),\n",
       " ('is', 469),\n",
       " (\"'\", 234),\n",
       " ('that', 210),\n",
       " ('was', 123),\n",
       " ('and', 105),\n",
       " ('with', 87),\n",
       " ('to', 72),\n",
       " ('has', 69)]"
      ]
     },
     "execution_count": 12,
     "metadata": {},
     "output_type": "execute_result"
    }
   ],
   "source": [
    "cfd[\"movie\"].most_common(10)"
   ]
  },
  {
   "cell_type": "code",
   "execution_count": 13,
   "id": "6ab4e819",
   "metadata": {},
   "outputs": [
    {
     "data": {
      "text/plain": [
       "[('SE', 63404), ('\"', 1854), (')', 535), (\"'\", 70), (']', 10), (\"''\", 3)]"
      ]
     },
     "execution_count": 13,
     "metadata": {},
     "output_type": "execute_result"
    }
   ],
   "source": [
    "cfd[\".\"].most_common(10)"
   ]
  },
  {
   "cell_type": "code",
   "execution_count": 16,
   "id": "a0cec52e",
   "metadata": {},
   "outputs": [],
   "source": [
    "from nltk.probability import ConditionalProbDist ,MLEProbDist\n",
    "cpd = ConditionalProbDist(cfd,MLEProbDist)"
   ]
  },
  {
   "cell_type": "code",
   "execution_count": 18,
   "id": "1ea46d76",
   "metadata": {},
   "outputs": [
    {
     "data": {
      "text/plain": [
       "0.0280547243528597"
      ]
     },
     "execution_count": 18,
     "metadata": {},
     "output_type": "execute_result"
    }
   ],
   "source": [
    "cpd['the'].prob('movie')"
   ]
  },
  {
   "cell_type": "code",
   "execution_count": 19,
   "id": "c333bd0d",
   "metadata": {},
   "outputs": [
    {
     "data": {
      "text/plain": [
       "0.13897071564720154"
      ]
     },
     "execution_count": 19,
     "metadata": {},
     "output_type": "execute_result"
    }
   ],
   "source": [
    "cpd['movie'].prob('.')"
   ]
  },
  {
   "cell_type": "code",
   "execution_count": 20,
   "id": "14a791a9",
   "metadata": {},
   "outputs": [
    {
     "data": {
      "text/plain": [
       "0.0"
      ]
     },
     "execution_count": 20,
     "metadata": {},
     "output_type": "execute_result"
    }
   ],
   "source": [
    "cpd['.'].prob('the')"
   ]
  },
  {
   "cell_type": "code",
   "execution_count": 22,
   "id": "0f5c124b",
   "metadata": {},
   "outputs": [],
   "source": [
    "P(SS<문장>SE) = P(시작단어|SS)*P(|)*P(|)*P(|)*P(|)*P(SE|종료단어)\n",
    "import numpy as np\n",
    "def s_sc_f(x):#바이그램 언어 모형의 확률 연산 함수\n",
    "    p = 0.0\n",
    "    for i in range(len(x)-1):\n",
    "        c=x[i]\n",
    "        w=x[i+1]\n",
    "        p+= np.log(cpd[c].prob(w)+np.finfo(float).eps)\n",
    "    return np.exp(p)"
   ]
  },
  {
   "cell_type": "code",
   "execution_count": 23,
   "id": "1664e059",
   "metadata": {
    "scrolled": true
   },
   "outputs": [
    {
     "data": {
      "text/plain": [
       "0.003898785120601922"
      ]
     },
     "execution_count": 23,
     "metadata": {},
     "output_type": "execute_result"
    }
   ],
   "source": [
    "test_data=['the','movie','.'] #실현 가능 문장\n",
    "s_sc_f(test_data)"
   ]
  },
  {
   "cell_type": "code",
   "execution_count": 24,
   "id": "9caba291",
   "metadata": {},
   "outputs": [
    {
     "data": {
      "text/plain": [
       "3.085769765203191e-17"
      ]
     },
     "execution_count": 24,
     "metadata": {},
     "output_type": "execute_result"
    }
   ],
   "source": [
    "test_data2=['movie','.','the'] #실현불가능 문장\n",
    "s_sc_f(test_data2) #"
   ]
  },
  {
   "cell_type": "code",
   "execution_count": 29,
   "id": "f7d51292",
   "metadata": {},
   "outputs": [
    {
     "data": {
      "text/plain": [
       "'she'"
      ]
     },
     "execution_count": 29,
     "metadata": {},
     "output_type": "execute_result"
    }
   ],
   "source": [
    "import random\n",
    "random.seed(10)\n",
    "cpd['SS'].generate()"
   ]
  },
  {
   "cell_type": "code",
   "execution_count": 30,
   "id": "62659139",
   "metadata": {},
   "outputs": [
    {
     "data": {
      "text/plain": [
       "'and'"
      ]
     },
     "execution_count": 30,
     "metadata": {},
     "output_type": "execute_result"
    }
   ],
   "source": [
    "cpd['she'].generate()"
   ]
  },
  {
   "cell_type": "code",
   "execution_count": 31,
   "id": "39f0a456",
   "metadata": {},
   "outputs": [
    {
     "data": {
      "text/plain": [
       "'fine'"
      ]
     },
     "execution_count": 31,
     "metadata": {},
     "output_type": "execute_result"
    }
   ],
   "source": [
    "cpd['and'].generate()"
   ]
  },
  {
   "cell_type": "code",
   "execution_count": 32,
   "id": "0442f7fe",
   "metadata": {},
   "outputs": [
    {
     "data": {
      "text/plain": [
       "'effect'"
      ]
     },
     "execution_count": 32,
     "metadata": {},
     "output_type": "execute_result"
    }
   ],
   "source": [
    "cpd['fine'].generate()"
   ]
  },
  {
   "cell_type": "code",
   "execution_count": 33,
   "id": "6e6f06b7",
   "metadata": {},
   "outputs": [
    {
     "data": {
      "text/plain": [
       "';'"
      ]
     },
     "execution_count": 33,
     "metadata": {},
     "output_type": "execute_result"
    }
   ],
   "source": [
    "cpd['effect'].generate()"
   ]
  },
  {
   "cell_type": "markdown",
   "id": "ae793626",
   "metadata": {},
   "source": [
    "data=\"data+=문자열\".join([])"
   ]
  },
  {
   "cell_type": "code",
   "execution_count": null,
   "id": "37971a04",
   "metadata": {},
   "outputs": [],
   "source": [
    "문자의 생성(조건부 확률을 기반한 )"
   ]
  },
  {
   "cell_type": "code",
   "execution_count": null,
   "id": "ed92aedf",
   "metadata": {},
   "outputs": [],
   "source": [
    "data=''\n",
    "data+=문자열#더느리다 확인해야해서\n",
    "str.join()#더 빠르다"
   ]
  },
  {
   "cell_type": "code",
   "execution_count": 39,
   "id": "496ec400",
   "metadata": {},
   "outputs": [
    {
     "data": {
      "text/plain": [
       "\"she wasn ' s first part of these guys catch a hard 2 is . \""
      ]
     },
     "execution_count": 39,
     "metadata": {},
     "output_type": "execute_result"
    }
   ],
   "source": [
    "st='SS'\n",
    "all_str=[]\n",
    "while True:\n",
    "    import random\n",
    "    random.seed(10)\n",
    "    st=cpd[st].generate()\n",
    "    all_str.append(st+' ')\n",
    "    if st == 'SE':\n",
    "        all_str.pop()\n",
    "        break\n",
    "''.join(all_str)"
   ]
  },
  {
   "cell_type": "code",
   "execution_count": 40,
   "id": "b703e0c2",
   "metadata": {},
   "outputs": [],
   "source": [
    "from nltk import ConditionalFreqDist#데이터가 얼만큼의 빈도수를 가지는지: 문맥별 단어의 빈도수측정\n",
    "from nltk.util import ngrams #앞단어와 뒷단어를 갖고있는 data생성 토큰작업을하기위해\n",
    "from nltk.probability import ConditionalProbDist#조건부 확률 추정 클랙스\n",
    "from nltk.probability import MLEProbDist #최대 우도 추정값을 도출클래스\n",
    "#.generate() 샘플 추출 (임의의값을 추출)"
   ]
  },
  {
   "cell_type": "markdown",
   "id": "2cd1ed10",
   "metadata": {},
   "source": [
    "1.데이터수집"
   ]
  },
  {
   "cell_type": "code",
   "execution_count": 43,
   "id": "94d251db",
   "metadata": {},
   "outputs": [],
   "source": [
    "from nltk.corpus import movie_reviews\n",
    "data=movie_reviews.sents()#단어별 토큰화된 문장들"
   ]
  },
  {
   "cell_type": "markdown",
   "id": "7b23b5b0",
   "metadata": {},
   "source": [
    "2.데이터  전처리#모델 입력에 맞게 가공하는것<br> \n",
    "    - 토큰화<br>\n",
    "    - 정형화<br>\n",
    "    - 정규화<br>"
   ]
  },
  {
   "cell_type": "code",
   "execution_count": 44,
   "id": "a0adf37c",
   "metadata": {},
   "outputs": [],
   "source": [
    "data_l=[]#처리된 문서\n",
    "n=0\n",
    "for i in data:#i는 문장\n",
    "    bg=ngrams(i,2,pad_left=True,pad_right=True,left_pad_symbol=\"SS\",right_pad_symbol=\"SE\")    \n",
    "    data_l+=[t for t in bg]"
   ]
  },
  {
   "cell_type": "markdown",
   "id": "e16abe79",
   "metadata": {},
   "source": [
    "3.모델 학습"
   ]
  },
  {
   "cell_type": "code",
   "execution_count": 45,
   "id": "930318eb",
   "metadata": {},
   "outputs": [],
   "source": [
    "cfd= ConditionalFreqDist(data_l)\n",
    "cpd = ConditionalProbDist(cfd,MLEProbDist)"
   ]
  },
  {
   "cell_type": "markdown",
   "id": "43d5429d",
   "metadata": {},
   "source": [
    "4.검증(생략)"
   ]
  },
  {
   "cell_type": "markdown",
   "id": "67593555",
   "metadata": {},
   "source": [
    "5.동작"
   ]
  },
  {
   "cell_type": "markdown",
   "id": "77b9f0c7",
   "metadata": {},
   "source": [
    "최종동작\n",
    "-(data별 추가적 처리가 필요)"
   ]
  },
  {
   "cell_type": "code",
   "execution_count": 48,
   "id": "595dc825",
   "metadata": {},
   "outputs": [],
   "source": [
    "st='SS'\n",
    "all_str=[]\n",
    "import random\n",
    "random.seed(10)\n",
    "while True:    \n",
    "    st=cpd[st].generate()\n",
    "    all_str.append(st)\n",
    "    if st == 'SE':\n",
    "        all_str.pop()\n",
    "        break\n",
    "생성된_data=''.join(all_str)"
   ]
  },
  {
   "cell_type": "code",
   "execution_count": 49,
   "id": "38c0fc13",
   "metadata": {},
   "outputs": [
    {
     "data": {
      "text/plain": [
       "'sheandfineeffect;frankly,anddoinghissonbecomesshockinglylazyshortcuttohermotherof\"story\"'"
      ]
     },
     "execution_count": 49,
     "metadata": {},
     "output_type": "execute_result"
    }
   ],
   "source": [
    "생성된_data"
   ]
  },
  {
   "cell_type": "code",
   "execution_count": null,
   "id": "0fcbf5e7",
   "metadata": {},
   "outputs": [],
   "source": [
    "\n"
   ]
  }
 ],
 "metadata": {
  "kernelspec": {
   "display_name": "Python 3 (ipykernel)",
   "language": "python",
   "name": "python3"
  },
  "language_info": {
   "codemirror_mode": {
    "name": "ipython",
    "version": 3
   },
   "file_extension": ".py",
   "mimetype": "text/x-python",
   "name": "python",
   "nbconvert_exporter": "python",
   "pygments_lexer": "ipython3",
   "version": "3.9.7"
  }
 },
 "nbformat": 4,
 "nbformat_minor": 5
}
