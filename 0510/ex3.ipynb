{
 "cells": [
  {
   "cell_type": "markdown",
   "id": "0b7f4fdf",
   "metadata": {},
   "source": [
    "Bag of Words->단어들의 빈도수 (문장기준)\n",
    "1. 단어들의 집합\n",
    "2. 백터화"
   ]
  },
  {
   "cell_type": "code",
   "execution_count": 1,
   "id": "0c2d2108",
   "metadata": {},
   "outputs": [],
   "source": [
    "t=\"안녕 나는 강사야 너는 잘 듣고있니?\""
   ]
  },
  {
   "cell_type": "code",
   "execution_count": 2,
   "id": "51e2cac2",
   "metadata": {},
   "outputs": [
    {
     "data": {
      "text/plain": [
       "({'안녕': 0, '나': 1, '는': 2, '강사': 3, '야': 4, '너': 5, '잘': 6, '듣고있니': 7},\n",
       " [1, 1, 2, 1, 1, 1, 1, 1])"
      ]
     },
     "execution_count": 2,
     "metadata": {},
     "output_type": "execute_result"
    }
   ],
   "source": [
    "from konlpy.tag import Okt\n",
    "tk=Okt()\n",
    "\n",
    "def 문장_처리(t):\n",
    "    t=t.replace('?','')#입력문장\n",
    "    tk_data=tk.morphs(t)#토큰화된 문장\n",
    "    idx={}#단어집합\n",
    "    d_l=[]#단어 빈도수\n",
    "    for i in tk_data:\n",
    "        if i not in idx.keys():\n",
    "            idx[i] = len(idx)\n",
    "            d_l.insert(len(idx)-1,1)\n",
    "        else:\n",
    "            ix=idx.get(i)\n",
    "            d_l[ix]+=1\n",
    "    return idx, d_l\n",
    "문장_처리(t)\n",
    "\n"
   ]
  },
  {
   "cell_type": "code",
   "execution_count": 3,
   "id": "ab697206",
   "metadata": {},
   "outputs": [
    {
     "name": "stdout",
     "output_type": "stream",
     "text": [
      "['안녕', '나', '는', '강사', '야', '너', '는', '잘', '듣고있니']\n"
     ]
    },
    {
     "data": {
      "text/plain": [
       "{'안녕': 4, '나는': 1, '강사야': 0, '너는': 2, '듣고있니': 3}"
      ]
     },
     "execution_count": 3,
     "metadata": {},
     "output_type": "execute_result"
    }
   ],
   "source": [
    "from sklearn.feature_extraction.text import CountVectorizer #BOW #추출목적/.text:단어\n",
    "tr_t=t.replace('?','')\n",
    "tr_t1=tk.morphs(tr_t)\n",
    "print(tr_t1)\n",
    "v=CountVectorizer()#백터화 객체\n",
    "v.fit_transform([tr_t]).toarray()#입력데이터 전환\n",
    "#v.fit_transform(tr_t1).toarray()\n",
    "v.vocabulary_"
   ]
  },
  {
   "cell_type": "code",
   "execution_count": 4,
   "id": "5c288ff6",
   "metadata": {},
   "outputs": [],
   "source": [
    "문장_집합=['안녕 나는 강사','나는 학생','나는 공부중','나는 노는중','나는 자는중']"
   ]
  },
  {
   "cell_type": "code",
   "execution_count": 5,
   "id": "363ddb46",
   "metadata": {},
   "outputs": [
    {
     "data": {
      "text/plain": [
       "{'안녕': 4, '나는': 1, '강사야': 0, '너는': 2, '듣고있니': 3}"
      ]
     },
     "execution_count": 5,
     "metadata": {},
     "output_type": "execute_result"
    }
   ],
   "source": [
    "v.vocabulary_"
   ]
  },
  {
   "cell_type": "code",
   "execution_count": 6,
   "id": "f16b1f45",
   "metadata": {},
   "outputs": [
    {
     "data": {
      "text/plain": [
       "array([[0, 1, 0, 0, 1],\n",
       "       [0, 1, 0, 0, 0],\n",
       "       [0, 1, 0, 0, 0],\n",
       "       [0, 1, 0, 0, 0],\n",
       "       [0, 1, 0, 0, 0]], dtype=int64)"
      ]
     },
     "execution_count": 6,
     "metadata": {},
     "output_type": "execute_result"
    }
   ],
   "source": [
    "v.transform(문장_집합).toarray()"
   ]
  },
  {
   "cell_type": "code",
   "execution_count": 7,
   "id": "3677878c",
   "metadata": {},
   "outputs": [
    {
     "data": {
      "text/plain": [
       "array([[1, 0, 0, 1, 0, 0],\n",
       "       [0, 0, 0, 0, 0, 1],\n",
       "       [0, 1, 0, 0, 0, 0],\n",
       "       [0, 0, 1, 0, 0, 0],\n",
       "       [0, 0, 0, 0, 1, 0]], dtype=int64)"
      ]
     },
     "execution_count": 7,
     "metadata": {},
     "output_type": "execute_result"
    }
   ],
   "source": [
    "v2=CountVectorizer(stop_words=['나는'])\n",
    "v2.fit_transform(문장_집합).toarray()"
   ]
  },
  {
   "cell_type": "code",
   "execution_count": 8,
   "id": "8ecf3b90",
   "metadata": {},
   "outputs": [
    {
     "data": {
      "text/plain": [
       "{'안녕': 3, '강사': 0, '학생': 5, '공부중': 1, '노는중': 2, '자는중': 4}"
      ]
     },
     "execution_count": 8,
     "metadata": {},
     "output_type": "execute_result"
    }
   ],
   "source": [
    "v2.vocabulary_"
   ]
  },
  {
   "cell_type": "code",
   "execution_count": 16,
   "id": "78ed78f6",
   "metadata": {},
   "outputs": [
    {
     "data": {
      "text/plain": [
       "['안녕',\n",
       " '나',\n",
       " '는',\n",
       " '강사',\n",
       " '나',\n",
       " '는',\n",
       " '학생',\n",
       " '나',\n",
       " '는',\n",
       " '공부',\n",
       " '중',\n",
       " '나',\n",
       " '는',\n",
       " '노',\n",
       " '는',\n",
       " '중',\n",
       " '나',\n",
       " '는',\n",
       " '자는',\n",
       " '중']"
      ]
     },
     "execution_count": 16,
     "metadata": {},
     "output_type": "execute_result"
    }
   ],
   "source": [
    "# t_l=[]\n",
    "# for i in 문장_집합:\n",
    "#     t_l.append(tk.morphs(i))\n",
    "# t_l\n",
    "t_l = []\n",
    "for i in 문장_집합:\n",
    "    t_l+=tk.morphs(i)\n",
    "t_l    \n"
   ]
  },
  {
   "cell_type": "code",
   "execution_count": 22,
   "id": "43b2f56b",
   "metadata": {},
   "outputs": [
    {
     "data": {
      "text/plain": [
       "CountVectorizer()"
      ]
     },
     "execution_count": 22,
     "metadata": {},
     "output_type": "execute_result"
    }
   ],
   "source": [
    "v3=CountVectorizer()\n",
    "v3.fit(t_l)\n",
    "# v3=CountVectorizer()\n",
    "# v3.fit_transform(t_l).toarray()"
   ]
  },
  {
   "cell_type": "code",
   "execution_count": 23,
   "id": "37fbc65a",
   "metadata": {},
   "outputs": [
    {
     "data": {
      "text/plain": [
       "{'안녕': 2, '강사': 0, '학생': 4, '공부': 1, '자는': 3}"
      ]
     },
     "execution_count": 23,
     "metadata": {},
     "output_type": "execute_result"
    }
   ],
   "source": [
    "v3.vocabulary_"
   ]
  },
  {
   "cell_type": "code",
   "execution_count": 24,
   "id": "2cc2b641",
   "metadata": {},
   "outputs": [],
   "source": [
    "t2='나는 강사입니다. 그리고 나는 학생들과 함께 공부를 하고있습니다. 저기 자는 학생 일어나요.'"
   ]
  },
  {
   "cell_type": "code",
   "execution_count": 25,
   "id": "17a0cdfb",
   "metadata": {},
   "outputs": [
    {
     "data": {
      "text/plain": [
       "array([[0, 0, 0, 1, 1]], dtype=int64)"
      ]
     },
     "execution_count": 25,
     "metadata": {},
     "output_type": "execute_result"
    }
   ],
   "source": [
    "v3.transform([t2]).toarray()"
   ]
  },
  {
   "cell_type": "code",
   "execution_count": 26,
   "id": "06fe623f",
   "metadata": {},
   "outputs": [
    {
     "data": {
      "text/plain": [
       "array([[1, 0, 1, 0, 0],\n",
       "       [0, 0, 0, 0, 1],\n",
       "       [0, 0, 0, 0, 0],\n",
       "       [0, 0, 0, 0, 0],\n",
       "       [0, 0, 0, 0, 0]], dtype=int64)"
      ]
     },
     "execution_count": 26,
     "metadata": {},
     "output_type": "execute_result"
    }
   ],
   "source": [
    "v3.transform(문장_집합).toarray()"
   ]
  },
  {
   "cell_type": "code",
   "execution_count": null,
   "id": "4fe072fc",
   "metadata": {},
   "outputs": [],
   "source": [
    "t ='the i am a boy a a a a a'"
   ]
  }
 ],
 "metadata": {
  "kernelspec": {
   "display_name": "Python 3 (ipykernel)",
   "language": "python",
   "name": "python3"
  },
  "language_info": {
   "codemirror_mode": {
    "name": "ipython",
    "version": 3
   },
   "file_extension": ".py",
   "mimetype": "text/x-python",
   "name": "python",
   "nbconvert_exporter": "python",
   "pygments_lexer": "ipython3",
   "version": "3.9.7"
  }
 },
 "nbformat": 4,
 "nbformat_minor": 5
}
