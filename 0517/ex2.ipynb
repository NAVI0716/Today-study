{
 "cells": [
  {
   "cell_type": "code",
   "execution_count": 1,
   "id": "ee9e27f2",
   "metadata": {},
   "outputs": [
    {
     "name": "stderr",
     "output_type": "stream",
     "text": [
      "<__array_function__ internals>:5: VisibleDeprecationWarning: Creating an ndarray from ragged nested sequences (which is a list-or-tuple of lists-or-tuples-or ndarrays with different lengths or shapes) is deprecated. If you meant to do this, you must specify 'dtype=object' when creating the ndarray\n",
      "C:\\ProgramData\\Anaconda3\\lib\\site-packages\\tensorflow\\python\\keras\\datasets\\imdb.py:155: VisibleDeprecationWarning: Creating an ndarray from ragged nested sequences (which is a list-or-tuple of lists-or-tuples-or ndarrays with different lengths or shapes) is deprecated. If you meant to do this, you must specify 'dtype=object' when creating the ndarray\n",
      "  x_train, y_train = np.array(xs[:idx]), np.array(labels[:idx])\n",
      "C:\\ProgramData\\Anaconda3\\lib\\site-packages\\tensorflow\\python\\keras\\datasets\\imdb.py:156: VisibleDeprecationWarning: Creating an ndarray from ragged nested sequences (which is a list-or-tuple of lists-or-tuples-or ndarrays with different lengths or shapes) is deprecated. If you meant to do this, you must specify 'dtype=object' when creating the ndarray\n",
      "  x_test, y_test = np.array(xs[idx:]), np.array(labels[idx:])\n"
     ]
    }
   ],
   "source": [
    "import tensorflow as tf\n",
    "import numpy as np\n",
    "from tensorflow.keras.layers import Dense, Embedding, SimpleRNN, LSTM,Bidirectional,Dropout\n",
    "from tensorflow.keras.models import Sequential\n",
    "from tensorflow.keras.optimizers import Adam\n",
    "from tensorflow.keras.datasets.imdb import load_data\n",
    "tf.random.set_seed(22)\n",
    "np.random.seed(22)\n",
    "(t_x,t_y),(tt_x,tt_y)= load_data(num_words=10000)"
   ]
  },
  {
   "cell_type": "code",
   "execution_count": 2,
   "id": "6b1fbc4a",
   "metadata": {},
   "outputs": [],
   "source": [
    "t_x= tf.keras.preprocessing.sequence.pad_sequences(t_x,maxlen=80)\n",
    "tt_x = tf.keras.preprocessing.sequence.pad_sequences(tt_x,maxlen=80)"
   ]
  },
  {
   "cell_type": "code",
   "execution_count": 3,
   "id": "49f9357b",
   "metadata": {},
   "outputs": [
    {
     "data": {
      "text/plain": [
       "((25000, 80), (25000, 80), (25000,), (25000,))"
      ]
     },
     "execution_count": 3,
     "metadata": {},
     "output_type": "execute_result"
    }
   ],
   "source": [
    "t_x.shape,tt_x.shape,t_y.shape,tt_y.shape"
   ]
  },
  {
   "cell_type": "code",
   "execution_count": 4,
   "id": "2094e81e",
   "metadata": {},
   "outputs": [],
   "source": [
    "#Embedding(단어수,피처차원)\n",
    "# m=Sequential()\n",
    "# m.add(Embedding(10000,100,input_length=80))#공간에다가 점을 찍는다\n",
    "# m.add(SimpleRNN(64,dropout=0.5,return_sequences=True))#쉴구축\n",
    "# m.add(SimpleRNN(64,dropout=0.5))#rnn복층을 쌓으면 하나가 나오게 된다 하지만 우리는 여러개 나오개 해야하므로 return_sequences= 사용\n",
    "# m.add(Dense(1))\n"
   ]
  },
  {
   "cell_type": "markdown",
   "id": "7485761d",
   "metadata": {},
   "source": [
    "옵션작성"
   ]
  },
  {
   "cell_type": "code",
   "execution_count": 5,
   "id": "f26efba0",
   "metadata": {},
   "outputs": [],
   "source": [
    "배치크기=128 #동작에서 크기 사이즈를 고정\n",
    "총단어수=10000\n",
    "최고문장길이=80\n",
    "임배팅길이=100\n",
    "뉴런수=64\n",
    "d_out=0.5\n",
    "lr=0.001\n",
    "ec=4"
   ]
  },
  {
   "cell_type": "code",
   "execution_count": 6,
   "id": "f7fdb36a",
   "metadata": {},
   "outputs": [
    {
     "name": "stdout",
     "output_type": "stream",
     "text": [
      "Epoch 1/4\n",
      "782/782 [==============================] - 28s 33ms/step - loss: 0.6471 - acc: 0.5977\n",
      "Epoch 2/4\n",
      "782/782 [==============================] - 30s 38ms/step - loss: 0.4708 - acc: 0.7793 - val_loss: 0.4270 - val_acc: 0.8069\n",
      "Epoch 3/4\n",
      "782/782 [==============================] - 25s 32ms/step - loss: 0.3809 - acc: 0.8393\n",
      "Epoch 4/4\n",
      "782/782 [==============================] - 29s 38ms/step - loss: 0.3275 - acc: 0.8645 - val_loss: 0.4119 - val_acc: 0.8256\n"
     ]
    },
    {
     "data": {
      "text/plain": [
       "<tensorflow.python.keras.callbacks.History at 0x25c5dfa59d0>"
      ]
     },
     "execution_count": 6,
     "metadata": {},
     "output_type": "execute_result"
    }
   ],
   "source": [
    "m=Sequential()\n",
    "m.add(Embedding(총단어수,임배팅길이,input_length=최고문장길이))#공간에다가 점을 찍는다\n",
    "m.add(SimpleRNN(뉴런수,dropout=d_out,return_sequences=True))#쉴구축\n",
    "m.add(SimpleRNN(뉴런수,dropout=d_out))#rnn복층을 쌓으면 하나가 나오게 된다 하지만 우리는 여러개 나오개 해야하므로 return_sequences= 사용\n",
    "m.add(Dense(1,activation='sigmoid'))\n",
    "m.compile(optimizer=Adam(lr),loss=tf.losses.BinaryCrossentropy(),metrics=['acc'])#acc=accuracy\n",
    "m.fit(t_x,t_y,epochs=ec,validation_data=(tt_x,tt_y),validation_freq=2)#freq 간격"
   ]
  },
  {
   "cell_type": "code",
   "execution_count": 7,
   "id": "caefbe60",
   "metadata": {},
   "outputs": [
    {
     "name": "stdout",
     "output_type": "stream",
     "text": [
      "Epoch 1/4\n",
      "782/782 [==============================] - 27s 33ms/step - loss: 0.6775 - acc: 0.5530\n",
      "Epoch 2/4\n",
      "782/782 [==============================] - 30s 38ms/step - loss: 0.4915 - acc: 0.7742 - val_loss: 0.5231 - val_acc: 0.7485\n",
      "Epoch 3/4\n",
      "782/782 [==============================] - 26s 33ms/step - loss: 0.4023 - acc: 0.8301\n",
      "Epoch 4/4\n",
      "782/782 [==============================] - 30s 39ms/step - loss: 0.3614 - acc: 0.8499 - val_loss: 0.4232 - val_acc: 0.8120\n"
     ]
    },
    {
     "data": {
      "text/plain": [
       "<tensorflow.python.keras.callbacks.History at 0x25c5f47b190>"
      ]
     },
     "execution_count": 7,
     "metadata": {},
     "output_type": "execute_result"
    }
   ],
   "source": [
    "m1=Sequential()\n",
    "m1.add(Embedding(총단어수,임배팅길이,input_length=최고문장길이))#공간에다가 점을 찍는다\n",
    "m1.add(SimpleRNN(뉴런수,dropout=d_out,return_sequences=True))#쉴구축\n",
    "m1.add(SimpleRNN(뉴런수,dropout=d_out))#rnn복층을 쌓으면 하나가 나오게 된다 하지만 우리는 여러개 나오개 해야하므로 return_sequences= 사용\n",
    "m1.add(Dense(1,activation='sigmoid'))\n",
    "m1.compile(optimizer=Adam(lr),loss=tf.losses.BinaryCrossentropy(),metrics=['acc'])#acc=accuracy\n",
    "m1.fit(t_x,t_y,epochs=ec,validation_data=(tt_x,tt_y),validation_freq=2)#freq 간격"
   ]
  },
  {
   "cell_type": "code",
   "execution_count": 8,
   "id": "d6687345",
   "metadata": {},
   "outputs": [
    {
     "name": "stdout",
     "output_type": "stream",
     "text": [
      "Epoch 1/4\n",
      "782/782 [==============================] - 50s 61ms/step - loss: 0.4363 - acc: 0.7904\n",
      "Epoch 2/4\n",
      "782/782 [==============================] - 62s 80ms/step - loss: 0.2934 - acc: 0.8779 - val_loss: 0.3666 - val_acc: 0.8375\n",
      "Epoch 3/4\n",
      "782/782 [==============================] - 53s 67ms/step - loss: 0.2358 - acc: 0.9077 0s - loss: 0.235\n",
      "Epoch 4/4\n",
      "782/782 [==============================] - 57s 73ms/step - loss: 0.1885 - acc: 0.9273 - val_loss: 0.4584 - val_acc: 0.8284\n"
     ]
    },
    {
     "data": {
      "text/plain": [
       "<tensorflow.python.keras.callbacks.History at 0x25c5ffe2b80>"
      ]
     },
     "execution_count": 8,
     "metadata": {},
     "output_type": "execute_result"
    }
   ],
   "source": [
    "m1=Sequential()\n",
    "m1.add(Embedding(총단어수,임배팅길이,input_length=최고문장길이))#공간에다가 점을 찍는다\n",
    "m1.add(LSTM(뉴런수,dropout=d_out,return_sequences=True))#쉴구축\n",
    "m1.add(LSTM(뉴런수,dropout=d_out))#rnn복층을 쌓으면 하나가 나오게 된다 하지만 우리는 여러개 나오개 해야하므로 return_sequences= 사용\n",
    "m1.add(Dense(1,activation='sigmoid'))\n",
    "m1.compile(optimizer=Adam(lr),loss=tf.losses.BinaryCrossentropy(),metrics=['acc'])#acc=accuracy\n",
    "m1.fit(t_x,t_y,epochs=ec,validation_data=(tt_x,tt_y),validation_freq=2)#freq 간격"
   ]
  },
  {
   "cell_type": "code",
   "execution_count": 9,
   "id": "6e645fce",
   "metadata": {},
   "outputs": [
    {
     "ename": "NameError",
     "evalue": "name 'layers' is not defined",
     "output_type": "error",
     "traceback": [
      "\u001b[1;31m---------------------------------------------------------------------------\u001b[0m",
      "\u001b[1;31mNameError\u001b[0m                                 Traceback (most recent call last)",
      "\u001b[1;32m~\\AppData\\Local\\Temp/ipykernel_12040/4227623758.py\u001b[0m in \u001b[0;36m<module>\u001b[1;34m\u001b[0m\n\u001b[0;32m      1\u001b[0m \u001b[0mm1\u001b[0m\u001b[1;33m=\u001b[0m\u001b[0mSequential\u001b[0m\u001b[1;33m(\u001b[0m\u001b[1;33m)\u001b[0m\u001b[1;33m\u001b[0m\u001b[1;33m\u001b[0m\u001b[0m\n\u001b[0;32m      2\u001b[0m \u001b[0mm1\u001b[0m\u001b[1;33m.\u001b[0m\u001b[0madd\u001b[0m\u001b[1;33m(\u001b[0m\u001b[0mEmbedding\u001b[0m\u001b[1;33m(\u001b[0m\u001b[0m총단어수\u001b[0m\u001b[1;33m,\u001b[0m\u001b[0m임배팅길이\u001b[0m\u001b[1;33m,\u001b[0m\u001b[0minput_length\u001b[0m\u001b[1;33m=\u001b[0m\u001b[0m최고문장길이\u001b[0m\u001b[1;33m)\u001b[0m\u001b[1;33m)\u001b[0m\u001b[1;31m#공간에다가 점을 찍는다\u001b[0m\u001b[1;33m\u001b[0m\u001b[1;33m\u001b[0m\u001b[0m\n\u001b[1;32m----> 3\u001b[1;33m \u001b[0mm1\u001b[0m\u001b[1;33m.\u001b[0m\u001b[0madd\u001b[0m\u001b[1;33m(\u001b[0m\u001b[0mlayers\u001b[0m\u001b[1;33m.\u001b[0m\u001b[0mGRU\u001b[0m\u001b[1;33m(\u001b[0m\u001b[0m뉴런수\u001b[0m\u001b[1;33m,\u001b[0m\u001b[0mdropout\u001b[0m\u001b[1;33m=\u001b[0m\u001b[0md_out\u001b[0m\u001b[1;33m,\u001b[0m\u001b[0mreturn_sequences\u001b[0m\u001b[1;33m=\u001b[0m\u001b[1;32mTrue\u001b[0m\u001b[1;33m)\u001b[0m\u001b[1;33m)\u001b[0m\u001b[1;31m#쉴구축\u001b[0m\u001b[1;33m\u001b[0m\u001b[1;33m\u001b[0m\u001b[0m\n\u001b[0m\u001b[0;32m      4\u001b[0m \u001b[0mm1\u001b[0m\u001b[1;33m.\u001b[0m\u001b[0madd\u001b[0m\u001b[1;33m(\u001b[0m\u001b[0mlayers\u001b[0m\u001b[1;33m.\u001b[0m\u001b[0mGRU\u001b[0m\u001b[1;33m(\u001b[0m\u001b[0m뉴런수\u001b[0m\u001b[1;33m,\u001b[0m\u001b[0mdropout\u001b[0m\u001b[1;33m=\u001b[0m\u001b[0md_out\u001b[0m\u001b[1;33m)\u001b[0m\u001b[1;33m)\u001b[0m\u001b[1;31m#rnn복층을 쌓으면 하나가 나오게 된다 하지만 우리는 여러개 나오개 해야하므로 return_sequences= 사용\u001b[0m\u001b[1;33m\u001b[0m\u001b[1;33m\u001b[0m\u001b[0m\n\u001b[0;32m      5\u001b[0m \u001b[0mm1\u001b[0m\u001b[1;33m.\u001b[0m\u001b[0madd\u001b[0m\u001b[1;33m(\u001b[0m\u001b[0mDense\u001b[0m\u001b[1;33m(\u001b[0m\u001b[1;36m1\u001b[0m\u001b[1;33m,\u001b[0m\u001b[0mactivation\u001b[0m\u001b[1;33m=\u001b[0m\u001b[1;34m'sigmoid'\u001b[0m\u001b[1;33m)\u001b[0m\u001b[1;33m)\u001b[0m\u001b[1;33m\u001b[0m\u001b[1;33m\u001b[0m\u001b[0m\n",
      "\u001b[1;31mNameError\u001b[0m: name 'layers' is not defined"
     ]
    }
   ],
   "source": [
    "m1=Sequential()\n",
    "m1.add(Embedding(총단어수,임배팅길이,input_length=최고문장길이))#공간에다가 점을 찍는다\n",
    "m1.add(layers.GRU(뉴런수,dropout=d_out,return_sequences=True))#쉴구축\n",
    "m1.add(layers.GRU(뉴런수,dropout=d_out))#rnn복층을 쌓으면 하나가 나오게 된다 하지만 우리는 여러개 나오개 해야하므로 return_sequences= 사용\n",
    "m1.add(Dense(1,activation='sigmoid'))\n",
    "m1.compile(optimizer=Adam(lr),loss=tf.losses.BinaryCrossentropy(),metrics=['acc'])#acc=accuracy\n",
    "m1.fit(t_x,t_y,epochs=ec,validation_data=(tt_x,tt_y),validation_freq=2)#freq 간격"
   ]
  },
  {
   "cell_type": "code",
   "execution_count": 10,
   "id": "725d688d",
   "metadata": {},
   "outputs": [
    {
     "name": "stdout",
     "output_type": "stream",
     "text": [
      "Epoch 1/4\n",
      "782/782 [==============================] - 39s 46ms/step - loss: 0.4284 - acc: 0.7960\n",
      "Epoch 2/4\n",
      "782/782 [==============================] - 46s 59ms/step - loss: 0.2748 - acc: 0.8869 - val_loss: 0.3723 - val_acc: 0.8344\n",
      "Epoch 3/4\n",
      "782/782 [==============================] - 41s 52ms/step - loss: 0.1955 - acc: 0.9248\n",
      "Epoch 4/4\n",
      "782/782 [==============================] - 48s 61ms/step - loss: 0.1181 - acc: 0.9554 - val_loss: 0.4892 - val_acc: 0.8253\n"
     ]
    },
    {
     "data": {
      "text/plain": [
       "<tensorflow.python.keras.callbacks.History at 0x25c62ddbd00>"
      ]
     },
     "execution_count": 10,
     "metadata": {},
     "output_type": "execute_result"
    }
   ],
   "source": [
    "m1=Sequential()\n",
    "m1.add(Embedding(총단어수,임배팅길이,input_length=최고문장길이))#공간에다가 점을 찍는다\n",
    "m1.add(Bidirectional(LSTM(뉴런수)))#양방향 RNN\n",
    "m1.add(Dropout(0.5))\n",
    "m1.add(Dense(1,activation='sigmoid'))\n",
    "m1.compile(optimizer=Adam(lr),loss=tf.losses.BinaryCrossentropy(),metrics=['acc'])#acc=accuracy\n",
    "m1.fit(t_x,t_y,epochs=ec,validation_data=(tt_x,tt_y),validation_freq=2)#freq 간격"
   ]
  },
  {
   "cell_type": "markdown",
   "id": "75f1bc8e",
   "metadata": {},
   "source": [
    "LSTM 은 까먹는거다.\n",
    "LSTM은 주요정보들을 남기는것 / 학습한것중에 주요정보\n",
    "망각게이트를 거쳐 과거 기억을 저장할지 말지 정함\n",
    "\n",
    "1. 임베딩이란 단어를 공간화 시킨다. 임배딩 길이에 단어를 뿌린다.\n"
   ]
  },
  {
   "cell_type": "code",
   "execution_count": null,
   "id": "c49411b4",
   "metadata": {},
   "outputs": [],
   "source": [
    "RNN 쉘구조 3가지 SimppleRNN LSTM GRU\n",
    "양방향 RNN은 쉘을 안가지고이다. 즉 DROPOUT해줘야함"
   ]
  },
  {
   "cell_type": "code",
   "execution_count": 13,
   "id": "e4fb2d1d",
   "metadata": {},
   "outputs": [
    {
     "ename": "TypeError",
     "evalue": "('Keyword argument not understood:', 'return_sequences')",
     "output_type": "error",
     "traceback": [
      "\u001b[1;31m---------------------------------------------------------------------------\u001b[0m",
      "\u001b[1;31mTypeError\u001b[0m                                 Traceback (most recent call last)",
      "\u001b[1;32m~\\AppData\\Local\\Temp/ipykernel_12040/301969072.py\u001b[0m in \u001b[0;36m<module>\u001b[1;34m\u001b[0m\n\u001b[0;32m      1\u001b[0m \u001b[0mm1\u001b[0m\u001b[1;33m=\u001b[0m\u001b[0mSequential\u001b[0m\u001b[1;33m(\u001b[0m\u001b[1;33m)\u001b[0m\u001b[1;33m\u001b[0m\u001b[1;33m\u001b[0m\u001b[0m\n\u001b[0;32m      2\u001b[0m \u001b[0mm1\u001b[0m\u001b[1;33m.\u001b[0m\u001b[0madd\u001b[0m\u001b[1;33m(\u001b[0m\u001b[0mEmbedding\u001b[0m\u001b[1;33m(\u001b[0m\u001b[0m총단어수\u001b[0m\u001b[1;33m,\u001b[0m\u001b[0m임배팅길이\u001b[0m\u001b[1;33m,\u001b[0m\u001b[0minput_length\u001b[0m\u001b[1;33m=\u001b[0m\u001b[0m최고문장길이\u001b[0m\u001b[1;33m)\u001b[0m\u001b[1;33m)\u001b[0m\u001b[1;31m#공간에다가 점을 찍는다\u001b[0m\u001b[1;33m\u001b[0m\u001b[1;33m\u001b[0m\u001b[0m\n\u001b[1;32m----> 3\u001b[1;33m \u001b[0mm1\u001b[0m\u001b[1;33m.\u001b[0m\u001b[0madd\u001b[0m\u001b[1;33m(\u001b[0m\u001b[0mBidirectional\u001b[0m\u001b[1;33m(\u001b[0m\u001b[0mLSTM\u001b[0m\u001b[1;33m(\u001b[0m\u001b[0m뉴런수\u001b[0m\u001b[1;33m)\u001b[0m\u001b[1;33m,\u001b[0m\u001b[0mreturn_sequences\u001b[0m\u001b[1;33m=\u001b[0m\u001b[1;32mTrue\u001b[0m\u001b[1;33m)\u001b[0m\u001b[1;33m)\u001b[0m\u001b[1;31m#양방향 RNN\u001b[0m\u001b[1;33m\u001b[0m\u001b[1;33m\u001b[0m\u001b[0m\n\u001b[0m\u001b[0;32m      4\u001b[0m \u001b[0mm1\u001b[0m\u001b[1;33m.\u001b[0m\u001b[0madd\u001b[0m\u001b[1;33m(\u001b[0m\u001b[0mBidirectional\u001b[0m\u001b[1;33m(\u001b[0m\u001b[0mLSTM\u001b[0m\u001b[1;33m(\u001b[0m\u001b[0m뉴런수\u001b[0m\u001b[1;33m//\u001b[0m\u001b[1;36m2\u001b[0m\u001b[1;33m)\u001b[0m\u001b[1;33m)\u001b[0m\u001b[1;33m)\u001b[0m\u001b[1;33m\u001b[0m\u001b[1;33m\u001b[0m\u001b[0m\n\u001b[0;32m      5\u001b[0m \u001b[0mm1\u001b[0m\u001b[1;33m.\u001b[0m\u001b[0madd\u001b[0m\u001b[1;33m(\u001b[0m\u001b[0mDropout\u001b[0m\u001b[1;33m(\u001b[0m\u001b[1;36m0.5\u001b[0m\u001b[1;33m)\u001b[0m\u001b[1;33m)\u001b[0m\u001b[1;33m\u001b[0m\u001b[1;33m\u001b[0m\u001b[0m\n",
      "\u001b[1;32mC:\\ProgramData\\Anaconda3\\lib\\site-packages\\tensorflow\\python\\keras\\layers\\wrappers.py\u001b[0m in \u001b[0;36m__init__\u001b[1;34m(self, layer, merge_mode, weights, backward_layer, **kwargs)\u001b[0m\n\u001b[0;32m    467\u001b[0m     \u001b[1;31m# of it we actually run.\u001b[0m\u001b[1;33m\u001b[0m\u001b[1;33m\u001b[0m\u001b[0m\n\u001b[0;32m    468\u001b[0m     \u001b[0mself\u001b[0m\u001b[1;33m.\u001b[0m\u001b[0m_setattr_tracking\u001b[0m \u001b[1;33m=\u001b[0m \u001b[1;32mFalse\u001b[0m\u001b[1;33m\u001b[0m\u001b[1;33m\u001b[0m\u001b[0m\n\u001b[1;32m--> 469\u001b[1;33m     \u001b[0msuper\u001b[0m\u001b[1;33m(\u001b[0m\u001b[0mBidirectional\u001b[0m\u001b[1;33m,\u001b[0m \u001b[0mself\u001b[0m\u001b[1;33m)\u001b[0m\u001b[1;33m.\u001b[0m\u001b[0m__init__\u001b[0m\u001b[1;33m(\u001b[0m\u001b[0mlayer\u001b[0m\u001b[1;33m,\u001b[0m \u001b[1;33m**\u001b[0m\u001b[0mkwargs\u001b[0m\u001b[1;33m)\u001b[0m\u001b[1;33m\u001b[0m\u001b[1;33m\u001b[0m\u001b[0m\n\u001b[0m\u001b[0;32m    470\u001b[0m     \u001b[0mself\u001b[0m\u001b[1;33m.\u001b[0m\u001b[0m_setattr_tracking\u001b[0m \u001b[1;33m=\u001b[0m \u001b[1;32mTrue\u001b[0m\u001b[1;33m\u001b[0m\u001b[1;33m\u001b[0m\u001b[0m\n\u001b[0;32m    471\u001b[0m \u001b[1;33m\u001b[0m\u001b[0m\n",
      "\u001b[1;32mC:\\ProgramData\\Anaconda3\\lib\\site-packages\\tensorflow\\python\\keras\\layers\\wrappers.py\u001b[0m in \u001b[0;36m__init__\u001b[1;34m(self, layer, **kwargs)\u001b[0m\n\u001b[0;32m     50\u001b[0m     \u001b[1;32massert\u001b[0m \u001b[0misinstance\u001b[0m\u001b[1;33m(\u001b[0m\u001b[0mlayer\u001b[0m\u001b[1;33m,\u001b[0m \u001b[0mLayer\u001b[0m\u001b[1;33m)\u001b[0m\u001b[1;33m\u001b[0m\u001b[1;33m\u001b[0m\u001b[0m\n\u001b[0;32m     51\u001b[0m     \u001b[0mself\u001b[0m\u001b[1;33m.\u001b[0m\u001b[0mlayer\u001b[0m \u001b[1;33m=\u001b[0m \u001b[0mlayer\u001b[0m\u001b[1;33m\u001b[0m\u001b[1;33m\u001b[0m\u001b[0m\n\u001b[1;32m---> 52\u001b[1;33m     \u001b[0msuper\u001b[0m\u001b[1;33m(\u001b[0m\u001b[0mWrapper\u001b[0m\u001b[1;33m,\u001b[0m \u001b[0mself\u001b[0m\u001b[1;33m)\u001b[0m\u001b[1;33m.\u001b[0m\u001b[0m__init__\u001b[0m\u001b[1;33m(\u001b[0m\u001b[1;33m**\u001b[0m\u001b[0mkwargs\u001b[0m\u001b[1;33m)\u001b[0m\u001b[1;33m\u001b[0m\u001b[1;33m\u001b[0m\u001b[0m\n\u001b[0m\u001b[0;32m     53\u001b[0m \u001b[1;33m\u001b[0m\u001b[0m\n\u001b[0;32m     54\u001b[0m   \u001b[1;32mdef\u001b[0m \u001b[0mbuild\u001b[0m\u001b[1;33m(\u001b[0m\u001b[0mself\u001b[0m\u001b[1;33m,\u001b[0m \u001b[0minput_shape\u001b[0m\u001b[1;33m=\u001b[0m\u001b[1;32mNone\u001b[0m\u001b[1;33m)\u001b[0m\u001b[1;33m:\u001b[0m\u001b[1;33m\u001b[0m\u001b[1;33m\u001b[0m\u001b[0m\n",
      "\u001b[1;32mC:\\ProgramData\\Anaconda3\\lib\\site-packages\\tensorflow\\python\\training\\tracking\\base.py\u001b[0m in \u001b[0;36m_method_wrapper\u001b[1;34m(self, *args, **kwargs)\u001b[0m\n\u001b[0;32m    520\u001b[0m     \u001b[0mself\u001b[0m\u001b[1;33m.\u001b[0m\u001b[0m_self_setattr_tracking\u001b[0m \u001b[1;33m=\u001b[0m \u001b[1;32mFalse\u001b[0m  \u001b[1;31m# pylint: disable=protected-access\u001b[0m\u001b[1;33m\u001b[0m\u001b[1;33m\u001b[0m\u001b[0m\n\u001b[0;32m    521\u001b[0m     \u001b[1;32mtry\u001b[0m\u001b[1;33m:\u001b[0m\u001b[1;33m\u001b[0m\u001b[1;33m\u001b[0m\u001b[0m\n\u001b[1;32m--> 522\u001b[1;33m       \u001b[0mresult\u001b[0m \u001b[1;33m=\u001b[0m \u001b[0mmethod\u001b[0m\u001b[1;33m(\u001b[0m\u001b[0mself\u001b[0m\u001b[1;33m,\u001b[0m \u001b[1;33m*\u001b[0m\u001b[0margs\u001b[0m\u001b[1;33m,\u001b[0m \u001b[1;33m**\u001b[0m\u001b[0mkwargs\u001b[0m\u001b[1;33m)\u001b[0m\u001b[1;33m\u001b[0m\u001b[1;33m\u001b[0m\u001b[0m\n\u001b[0m\u001b[0;32m    523\u001b[0m     \u001b[1;32mfinally\u001b[0m\u001b[1;33m:\u001b[0m\u001b[1;33m\u001b[0m\u001b[1;33m\u001b[0m\u001b[0m\n\u001b[0;32m    524\u001b[0m       \u001b[0mself\u001b[0m\u001b[1;33m.\u001b[0m\u001b[0m_self_setattr_tracking\u001b[0m \u001b[1;33m=\u001b[0m \u001b[0mprevious_value\u001b[0m  \u001b[1;31m# pylint: disable=protected-access\u001b[0m\u001b[1;33m\u001b[0m\u001b[1;33m\u001b[0m\u001b[0m\n",
      "\u001b[1;32mC:\\ProgramData\\Anaconda3\\lib\\site-packages\\tensorflow\\python\\keras\\engine\\base_layer.py\u001b[0m in \u001b[0;36m__init__\u001b[1;34m(self, trainable, name, dtype, dynamic, **kwargs)\u001b[0m\n\u001b[0;32m    345\u001b[0m     }\n\u001b[0;32m    346\u001b[0m     \u001b[1;31m# Validate optional keyword arguments.\u001b[0m\u001b[1;33m\u001b[0m\u001b[1;33m\u001b[0m\u001b[0m\n\u001b[1;32m--> 347\u001b[1;33m     \u001b[0mgeneric_utils\u001b[0m\u001b[1;33m.\u001b[0m\u001b[0mvalidate_kwargs\u001b[0m\u001b[1;33m(\u001b[0m\u001b[0mkwargs\u001b[0m\u001b[1;33m,\u001b[0m \u001b[0mallowed_kwargs\u001b[0m\u001b[1;33m)\u001b[0m\u001b[1;33m\u001b[0m\u001b[1;33m\u001b[0m\u001b[0m\n\u001b[0m\u001b[0;32m    348\u001b[0m \u001b[1;33m\u001b[0m\u001b[0m\n\u001b[0;32m    349\u001b[0m     \u001b[1;31m# Mutable properties\u001b[0m\u001b[1;33m\u001b[0m\u001b[1;33m\u001b[0m\u001b[0m\n",
      "\u001b[1;32mC:\\ProgramData\\Anaconda3\\lib\\site-packages\\tensorflow\\python\\keras\\utils\\generic_utils.py\u001b[0m in \u001b[0;36mvalidate_kwargs\u001b[1;34m(kwargs, allowed_kwargs, error_message)\u001b[0m\n\u001b[0;32m   1135\u001b[0m   \u001b[1;32mfor\u001b[0m \u001b[0mkwarg\u001b[0m \u001b[1;32min\u001b[0m \u001b[0mkwargs\u001b[0m\u001b[1;33m:\u001b[0m\u001b[1;33m\u001b[0m\u001b[1;33m\u001b[0m\u001b[0m\n\u001b[0;32m   1136\u001b[0m     \u001b[1;32mif\u001b[0m \u001b[0mkwarg\u001b[0m \u001b[1;32mnot\u001b[0m \u001b[1;32min\u001b[0m \u001b[0mallowed_kwargs\u001b[0m\u001b[1;33m:\u001b[0m\u001b[1;33m\u001b[0m\u001b[1;33m\u001b[0m\u001b[0m\n\u001b[1;32m-> 1137\u001b[1;33m       \u001b[1;32mraise\u001b[0m \u001b[0mTypeError\u001b[0m\u001b[1;33m(\u001b[0m\u001b[0merror_message\u001b[0m\u001b[1;33m,\u001b[0m \u001b[0mkwarg\u001b[0m\u001b[1;33m)\u001b[0m\u001b[1;33m\u001b[0m\u001b[1;33m\u001b[0m\u001b[0m\n\u001b[0m\u001b[0;32m   1138\u001b[0m \u001b[1;33m\u001b[0m\u001b[0m\n\u001b[0;32m   1139\u001b[0m \u001b[1;33m\u001b[0m\u001b[0m\n",
      "\u001b[1;31mTypeError\u001b[0m: ('Keyword argument not understood:', 'return_sequences')"
     ]
    }
   ],
   "source": [
    "m1=Sequential()\n",
    "m1.add(Embedding(총단어수,임배팅길이,input_length=최고문장길이))#공간에다가 점을 찍는다\n",
    "m1.add(Bidirectional(LSTM(뉴런수),return_sequences=True))#양방향 RNN\n",
    "m1.add(Bidirectional(LSTM(뉴런수//2)))\n",
    "m1.add(Dropout(0.5))\n",
    "#양방향 RNN\n",
    "m1.add(Dense(1,activation='sigmoid'))\n",
    "m1.compile(optimizer=Adam(lr),loss=tf.losses.BinaryCrossentropy(),metrics=['acc'])#acc=accuracy\n",
    "m1.fit(t_x,t_y,epochs=5,validation_data=(tt_x,tt_y),validation_freq=2)#freq 간격"
   ]
  },
  {
   "cell_type": "code",
   "execution_count": null,
   "id": "9d977aea",
   "metadata": {},
   "outputs": [],
   "source": []
  }
 ],
 "metadata": {
  "kernelspec": {
   "display_name": "Python 3 (ipykernel)",
   "language": "python",
   "name": "python3"
  },
  "language_info": {
   "codemirror_mode": {
    "name": "ipython",
    "version": 3
   },
   "file_extension": ".py",
   "mimetype": "text/x-python",
   "name": "python",
   "nbconvert_exporter": "python",
   "pygments_lexer": "ipython3",
   "version": "3.9.7"
  }
 },
 "nbformat": 4,
 "nbformat_minor": 5
}
