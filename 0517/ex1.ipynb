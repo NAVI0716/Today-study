{
 "cells": [
  {
   "cell_type": "markdown",
   "id": "b9688a93",
   "metadata": {},
   "source": [
    "제시된 한국어 리뷰 data를 이용하여\n",
    "탐색적 데이터 분석 (EDA)를 하시오."
   ]
  },
  {
   "cell_type": "code",
   "execution_count": 1,
   "id": "266a86c6",
   "metadata": {},
   "outputs": [
    {
     "data": {
      "text/html": [
       "<div>\n",
       "<style scoped>\n",
       "    .dataframe tbody tr th:only-of-type {\n",
       "        vertical-align: middle;\n",
       "    }\n",
       "\n",
       "    .dataframe tbody tr th {\n",
       "        vertical-align: top;\n",
       "    }\n",
       "\n",
       "    .dataframe thead th {\n",
       "        text-align: right;\n",
       "    }\n",
       "</style>\n",
       "<table border=\"1\" class=\"dataframe\">\n",
       "  <thead>\n",
       "    <tr style=\"text-align: right;\">\n",
       "      <th></th>\n",
       "      <th>id</th>\n",
       "      <th>document</th>\n",
       "      <th>label</th>\n",
       "    </tr>\n",
       "  </thead>\n",
       "  <tbody>\n",
       "    <tr>\n",
       "      <th>0</th>\n",
       "      <td>6270596</td>\n",
       "      <td>굳 ㅋ</td>\n",
       "      <td>1</td>\n",
       "    </tr>\n",
       "    <tr>\n",
       "      <th>1</th>\n",
       "      <td>9274899</td>\n",
       "      <td>GDNTOPCLASSINTHECLUB</td>\n",
       "      <td>0</td>\n",
       "    </tr>\n",
       "    <tr>\n",
       "      <th>2</th>\n",
       "      <td>8544678</td>\n",
       "      <td>뭐야 이 평점들은.... 나쁘진 않지만 10점 짜리는 더더욱 아니잖아</td>\n",
       "      <td>0</td>\n",
       "    </tr>\n",
       "    <tr>\n",
       "      <th>3</th>\n",
       "      <td>6825595</td>\n",
       "      <td>지루하지는 않은데 완전 막장임... 돈주고 보기에는....</td>\n",
       "      <td>0</td>\n",
       "    </tr>\n",
       "    <tr>\n",
       "      <th>4</th>\n",
       "      <td>6723715</td>\n",
       "      <td>3D만 아니었어도 별 다섯 개 줬을텐데.. 왜 3D로 나와서 제 심기를 불편하게 하죠??</td>\n",
       "      <td>0</td>\n",
       "    </tr>\n",
       "    <tr>\n",
       "      <th>...</th>\n",
       "      <td>...</td>\n",
       "      <td>...</td>\n",
       "      <td>...</td>\n",
       "    </tr>\n",
       "    <tr>\n",
       "      <th>49995</th>\n",
       "      <td>4608761</td>\n",
       "      <td>오랜만에 평점 로긴했네ㅋㅋ 킹왕짱 쌈뽕한 영화를 만났습니다 강렬하게 육쾌함</td>\n",
       "      <td>1</td>\n",
       "    </tr>\n",
       "    <tr>\n",
       "      <th>49996</th>\n",
       "      <td>5308387</td>\n",
       "      <td>의지 박약들이나 하는거다 탈영은 일단 주인공 김대희 닮았고 이등병 찐따 OOOO</td>\n",
       "      <td>0</td>\n",
       "    </tr>\n",
       "    <tr>\n",
       "      <th>49997</th>\n",
       "      <td>9072549</td>\n",
       "      <td>그림도 좋고 완성도도 높았지만... 보는 내내 불안하게 만든다</td>\n",
       "      <td>0</td>\n",
       "    </tr>\n",
       "    <tr>\n",
       "      <th>49998</th>\n",
       "      <td>5802125</td>\n",
       "      <td>절대 봐서는 안 될 영화.. 재미도 없고 기분만 잡치고.. 한 세트장에서 다 해먹네</td>\n",
       "      <td>0</td>\n",
       "    </tr>\n",
       "    <tr>\n",
       "      <th>49999</th>\n",
       "      <td>6070594</td>\n",
       "      <td>마무리는 또 왜이래</td>\n",
       "      <td>0</td>\n",
       "    </tr>\n",
       "  </tbody>\n",
       "</table>\n",
       "<p>50000 rows × 3 columns</p>\n",
       "</div>"
      ],
      "text/plain": [
       "            id                                           document label\n",
       "0      6270596                                                굳 ㅋ     1\n",
       "1      9274899                               GDNTOPCLASSINTHECLUB     0\n",
       "2      8544678             뭐야 이 평점들은.... 나쁘진 않지만 10점 짜리는 더더욱 아니잖아     0\n",
       "3      6825595                   지루하지는 않은데 완전 막장임... 돈주고 보기에는....     0\n",
       "4      6723715  3D만 아니었어도 별 다섯 개 줬을텐데.. 왜 3D로 나와서 제 심기를 불편하게 하죠??     0\n",
       "...        ...                                                ...   ...\n",
       "49995  4608761          오랜만에 평점 로긴했네ㅋㅋ 킹왕짱 쌈뽕한 영화를 만났습니다 강렬하게 육쾌함     1\n",
       "49996  5308387       의지 박약들이나 하는거다 탈영은 일단 주인공 김대희 닮았고 이등병 찐따 OOOO     0\n",
       "49997  9072549                 그림도 좋고 완성도도 높았지만... 보는 내내 불안하게 만든다     0\n",
       "49998  5802125     절대 봐서는 안 될 영화.. 재미도 없고 기분만 잡치고.. 한 세트장에서 다 해먹네     0\n",
       "49999  6070594                                         마무리는 또 왜이래     0\n",
       "\n",
       "[50000 rows x 3 columns]"
      ]
     },
     "execution_count": 1,
     "metadata": {},
     "output_type": "execute_result"
    }
   ],
   "source": [
    "import codecs\n",
    "import pandas as pd\n",
    "with codecs.open('ratings_test.txt',encoding='utf-8') as f:\n",
    "    data=[i.split('\\t') for i in f.read().splitlines()]\n",
    "    m=data[0]\n",
    "    data=data[1:]\n",
    "p_data=pd.DataFrame(data,columns=m)\n",
    "p_data"
   ]
  },
  {
   "cell_type": "code",
   "execution_count": 2,
   "id": "14a2f08c",
   "metadata": {},
   "outputs": [
    {
     "data": {
      "text/html": [
       "<div>\n",
       "<style scoped>\n",
       "    .dataframe tbody tr th:only-of-type {\n",
       "        vertical-align: middle;\n",
       "    }\n",
       "\n",
       "    .dataframe tbody tr th {\n",
       "        vertical-align: top;\n",
       "    }\n",
       "\n",
       "    .dataframe thead th {\n",
       "        text-align: right;\n",
       "    }\n",
       "</style>\n",
       "<table border=\"1\" class=\"dataframe\">\n",
       "  <thead>\n",
       "    <tr style=\"text-align: right;\">\n",
       "      <th></th>\n",
       "      <th>document</th>\n",
       "      <th>label</th>\n",
       "    </tr>\n",
       "  </thead>\n",
       "  <tbody>\n",
       "    <tr>\n",
       "      <th>0</th>\n",
       "      <td>굳 ㅋ</td>\n",
       "      <td>1</td>\n",
       "    </tr>\n",
       "    <tr>\n",
       "      <th>1</th>\n",
       "      <td>GDNTOPCLASSINTHECLUB</td>\n",
       "      <td>0</td>\n",
       "    </tr>\n",
       "    <tr>\n",
       "      <th>2</th>\n",
       "      <td>뭐야 이 평점들은.... 나쁘진 않지만 10점 짜리는 더더욱 아니잖아</td>\n",
       "      <td>0</td>\n",
       "    </tr>\n",
       "    <tr>\n",
       "      <th>3</th>\n",
       "      <td>지루하지는 않은데 완전 막장임... 돈주고 보기에는....</td>\n",
       "      <td>0</td>\n",
       "    </tr>\n",
       "    <tr>\n",
       "      <th>4</th>\n",
       "      <td>3D만 아니었어도 별 다섯 개 줬을텐데.. 왜 3D로 나와서 제 심기를 불편하게 하죠??</td>\n",
       "      <td>0</td>\n",
       "    </tr>\n",
       "    <tr>\n",
       "      <th>...</th>\n",
       "      <td>...</td>\n",
       "      <td>...</td>\n",
       "    </tr>\n",
       "    <tr>\n",
       "      <th>49995</th>\n",
       "      <td>오랜만에 평점 로긴했네ㅋㅋ 킹왕짱 쌈뽕한 영화를 만났습니다 강렬하게 육쾌함</td>\n",
       "      <td>1</td>\n",
       "    </tr>\n",
       "    <tr>\n",
       "      <th>49996</th>\n",
       "      <td>의지 박약들이나 하는거다 탈영은 일단 주인공 김대희 닮았고 이등병 찐따 OOOO</td>\n",
       "      <td>0</td>\n",
       "    </tr>\n",
       "    <tr>\n",
       "      <th>49997</th>\n",
       "      <td>그림도 좋고 완성도도 높았지만... 보는 내내 불안하게 만든다</td>\n",
       "      <td>0</td>\n",
       "    </tr>\n",
       "    <tr>\n",
       "      <th>49998</th>\n",
       "      <td>절대 봐서는 안 될 영화.. 재미도 없고 기분만 잡치고.. 한 세트장에서 다 해먹네</td>\n",
       "      <td>0</td>\n",
       "    </tr>\n",
       "    <tr>\n",
       "      <th>49999</th>\n",
       "      <td>마무리는 또 왜이래</td>\n",
       "      <td>0</td>\n",
       "    </tr>\n",
       "  </tbody>\n",
       "</table>\n",
       "<p>50000 rows × 2 columns</p>\n",
       "</div>"
      ],
      "text/plain": [
       "                                                document label\n",
       "0                                                    굳 ㅋ     1\n",
       "1                                   GDNTOPCLASSINTHECLUB     0\n",
       "2                 뭐야 이 평점들은.... 나쁘진 않지만 10점 짜리는 더더욱 아니잖아     0\n",
       "3                       지루하지는 않은데 완전 막장임... 돈주고 보기에는....     0\n",
       "4      3D만 아니었어도 별 다섯 개 줬을텐데.. 왜 3D로 나와서 제 심기를 불편하게 하죠??     0\n",
       "...                                                  ...   ...\n",
       "49995          오랜만에 평점 로긴했네ㅋㅋ 킹왕짱 쌈뽕한 영화를 만났습니다 강렬하게 육쾌함     1\n",
       "49996       의지 박약들이나 하는거다 탈영은 일단 주인공 김대희 닮았고 이등병 찐따 OOOO     0\n",
       "49997                 그림도 좋고 완성도도 높았지만... 보는 내내 불안하게 만든다     0\n",
       "49998     절대 봐서는 안 될 영화.. 재미도 없고 기분만 잡치고.. 한 세트장에서 다 해먹네     0\n",
       "49999                                         마무리는 또 왜이래     0\n",
       "\n",
       "[50000 rows x 2 columns]"
      ]
     },
     "execution_count": 2,
     "metadata": {},
     "output_type": "execute_result"
    }
   ],
   "source": [
    "df=pd.DataFrame()\n",
    "df['document']=p_data['document'].values\n",
    "df['label']=p_data['label'].values\n",
    "df"
   ]
  },
  {
   "cell_type": "markdown",
   "id": "441b8e14",
   "metadata": {},
   "source": [
    "1.결측치확인"
   ]
  },
  {
   "cell_type": "code",
   "execution_count": 3,
   "id": "a8fdb3ca",
   "metadata": {},
   "outputs": [
    {
     "data": {
      "text/plain": [
       "document    0\n",
       "label       0\n",
       "dtype: int64"
      ]
     },
     "execution_count": 3,
     "metadata": {},
     "output_type": "execute_result"
    }
   ],
   "source": [
    "import numpy as np\n",
    "df.isna().sum()"
   ]
  },
  {
   "cell_type": "markdown",
   "id": "853ab3a8",
   "metadata": {},
   "source": [
    "2.중복제거"
   ]
  },
  {
   "cell_type": "code",
   "execution_count": 4,
   "id": "1307f024",
   "metadata": {},
   "outputs": [
    {
     "data": {
      "text/plain": [
       "array(['', '!!', '!!!!', ..., '힙합에 똥칠하는 찐따 둘이서 힙합을 능욕하는 모습을 그린영화.',\n",
       "       '힛걸에, 힛걸을 위한, 힛걸의', '龍頭蛇尾 過猶不及 針小棒大 키리시마는 맥거핀~'], dtype=object)"
      ]
     },
     "execution_count": 4,
     "metadata": {},
     "output_type": "execute_result"
    }
   ],
   "source": [
    "np.unique(df)"
   ]
  },
  {
   "cell_type": "code",
   "execution_count": 5,
   "id": "348c880e",
   "metadata": {},
   "outputs": [
    {
     "data": {
      "text/plain": [
       "49158"
      ]
     },
     "execution_count": 5,
     "metadata": {},
     "output_type": "execute_result"
    }
   ],
   "source": [
    "df.document.nunique() # 개수 확인"
   ]
  },
  {
   "cell_type": "code",
   "execution_count": 6,
   "id": "f444bd1f",
   "metadata": {},
   "outputs": [
    {
     "data": {
      "text/html": [
       "<div>\n",
       "<style scoped>\n",
       "    .dataframe tbody tr th:only-of-type {\n",
       "        vertical-align: middle;\n",
       "    }\n",
       "\n",
       "    .dataframe tbody tr th {\n",
       "        vertical-align: top;\n",
       "    }\n",
       "\n",
       "    .dataframe thead th {\n",
       "        text-align: right;\n",
       "    }\n",
       "</style>\n",
       "<table border=\"1\" class=\"dataframe\">\n",
       "  <thead>\n",
       "    <tr style=\"text-align: right;\">\n",
       "      <th></th>\n",
       "      <th>document</th>\n",
       "      <th>label</th>\n",
       "    </tr>\n",
       "  </thead>\n",
       "  <tbody>\n",
       "    <tr>\n",
       "      <th>0</th>\n",
       "      <td>굳 ㅋ</td>\n",
       "      <td>1</td>\n",
       "    </tr>\n",
       "    <tr>\n",
       "      <th>1</th>\n",
       "      <td>GDNTOPCLASSINTHECLUB</td>\n",
       "      <td>0</td>\n",
       "    </tr>\n",
       "    <tr>\n",
       "      <th>2</th>\n",
       "      <td>뭐야 이 평점들은.... 나쁘진 않지만 10점 짜리는 더더욱 아니잖아</td>\n",
       "      <td>0</td>\n",
       "    </tr>\n",
       "    <tr>\n",
       "      <th>3</th>\n",
       "      <td>지루하지는 않은데 완전 막장임... 돈주고 보기에는....</td>\n",
       "      <td>0</td>\n",
       "    </tr>\n",
       "    <tr>\n",
       "      <th>4</th>\n",
       "      <td>3D만 아니었어도 별 다섯 개 줬을텐데.. 왜 3D로 나와서 제 심기를 불편하게 하죠??</td>\n",
       "      <td>0</td>\n",
       "    </tr>\n",
       "    <tr>\n",
       "      <th>...</th>\n",
       "      <td>...</td>\n",
       "      <td>...</td>\n",
       "    </tr>\n",
       "    <tr>\n",
       "      <th>49995</th>\n",
       "      <td>오랜만에 평점 로긴했네ㅋㅋ 킹왕짱 쌈뽕한 영화를 만났습니다 강렬하게 육쾌함</td>\n",
       "      <td>1</td>\n",
       "    </tr>\n",
       "    <tr>\n",
       "      <th>49996</th>\n",
       "      <td>의지 박약들이나 하는거다 탈영은 일단 주인공 김대희 닮았고 이등병 찐따 OOOO</td>\n",
       "      <td>0</td>\n",
       "    </tr>\n",
       "    <tr>\n",
       "      <th>49997</th>\n",
       "      <td>그림도 좋고 완성도도 높았지만... 보는 내내 불안하게 만든다</td>\n",
       "      <td>0</td>\n",
       "    </tr>\n",
       "    <tr>\n",
       "      <th>49998</th>\n",
       "      <td>절대 봐서는 안 될 영화.. 재미도 없고 기분만 잡치고.. 한 세트장에서 다 해먹네</td>\n",
       "      <td>0</td>\n",
       "    </tr>\n",
       "    <tr>\n",
       "      <th>49999</th>\n",
       "      <td>마무리는 또 왜이래</td>\n",
       "      <td>0</td>\n",
       "    </tr>\n",
       "  </tbody>\n",
       "</table>\n",
       "<p>49158 rows × 2 columns</p>\n",
       "</div>"
      ],
      "text/plain": [
       "                                                document label\n",
       "0                                                    굳 ㅋ     1\n",
       "1                                   GDNTOPCLASSINTHECLUB     0\n",
       "2                 뭐야 이 평점들은.... 나쁘진 않지만 10점 짜리는 더더욱 아니잖아     0\n",
       "3                       지루하지는 않은데 완전 막장임... 돈주고 보기에는....     0\n",
       "4      3D만 아니었어도 별 다섯 개 줬을텐데.. 왜 3D로 나와서 제 심기를 불편하게 하죠??     0\n",
       "...                                                  ...   ...\n",
       "49995          오랜만에 평점 로긴했네ㅋㅋ 킹왕짱 쌈뽕한 영화를 만났습니다 강렬하게 육쾌함     1\n",
       "49996       의지 박약들이나 하는거다 탈영은 일단 주인공 김대희 닮았고 이등병 찐따 OOOO     0\n",
       "49997                 그림도 좋고 완성도도 높았지만... 보는 내내 불안하게 만든다     0\n",
       "49998     절대 봐서는 안 될 영화.. 재미도 없고 기분만 잡치고.. 한 세트장에서 다 해먹네     0\n",
       "49999                                         마무리는 또 왜이래     0\n",
       "\n",
       "[49158 rows x 2 columns]"
      ]
     },
     "execution_count": 6,
     "metadata": {},
     "output_type": "execute_result"
    }
   ],
   "source": [
    "df=df.drop_duplicates(subset=['document'])\n",
    "df"
   ]
  },
  {
   "cell_type": "markdown",
   "id": "86d10dba",
   "metadata": {},
   "source": [
    "3. 한글아닌 요소 제거"
   ]
  },
  {
   "cell_type": "code",
   "execution_count": 7,
   "id": "ec97e1f9",
   "metadata": {},
   "outputs": [
    {
     "name": "stderr",
     "output_type": "stream",
     "text": [
      "C:\\Users\\류성빈\\AppData\\Local\\Temp/ipykernel_16928/2985358417.py:1: FutureWarning: The default value of regex will change from True to False in a future version.\n",
      "  df['document']=df.document.str.replace('[^ㄱ-ㅎ ㅏ-ㅣ 가-힣 ]','')\n",
      "C:\\Users\\류성빈\\AppData\\Local\\Temp/ipykernel_16928/2985358417.py:1: SettingWithCopyWarning: \n",
      "A value is trying to be set on a copy of a slice from a DataFrame.\n",
      "Try using .loc[row_indexer,col_indexer] = value instead\n",
      "\n",
      "See the caveats in the documentation: https://pandas.pydata.org/pandas-docs/stable/user_guide/indexing.html#returning-a-view-versus-a-copy\n",
      "  df['document']=df.document.str.replace('[^ㄱ-ㅎ ㅏ-ㅣ 가-힣 ]','')\n"
     ]
    }
   ],
   "source": [
    "df['document']=df.document.str.replace('[^ㄱ-ㅎ ㅏ-ㅣ 가-힣 ]','')"
   ]
  },
  {
   "cell_type": "code",
   "execution_count": 8,
   "id": "228d1d63",
   "metadata": {
    "scrolled": true
   },
   "outputs": [
    {
     "name": "stderr",
     "output_type": "stream",
     "text": [
      "C:\\Users\\류성빈\\AppData\\Local\\Temp/ipykernel_16928/221906412.py:1: FutureWarning: The default value of regex will change from True to False in a future version.\n",
      "  df['document']=df.document.str.replace('^ +','') # 시작지점 앞 공백 제거\n",
      "C:\\Users\\류성빈\\AppData\\Local\\Temp/ipykernel_16928/221906412.py:1: SettingWithCopyWarning: \n",
      "A value is trying to be set on a copy of a slice from a DataFrame.\n",
      "Try using .loc[row_indexer,col_indexer] = value instead\n",
      "\n",
      "See the caveats in the documentation: https://pandas.pydata.org/pandas-docs/stable/user_guide/indexing.html#returning-a-view-versus-a-copy\n",
      "  df['document']=df.document.str.replace('^ +','') # 시작지점 앞 공백 제거\n"
     ]
    }
   ],
   "source": [
    "df['document']=df.document.str.replace('^ +','') # 시작지점 앞 공백 제거"
   ]
  },
  {
   "cell_type": "code",
   "execution_count": 9,
   "id": "03e8b920",
   "metadata": {},
   "outputs": [
    {
     "name": "stderr",
     "output_type": "stream",
     "text": [
      "C:\\Users\\류성빈\\AppData\\Local\\Temp/ipykernel_16928/423754258.py:1: SettingWithCopyWarning: \n",
      "A value is trying to be set on a copy of a slice from a DataFrame.\n",
      "Try using .loc[row_indexer,col_indexer] = value instead\n",
      "\n",
      "See the caveats in the documentation: https://pandas.pydata.org/pandas-docs/stable/user_guide/indexing.html#returning-a-view-versus-a-copy\n",
      "  df['document']=df.document.replace('',np.nan) #공백을 nan으로 지정\n"
     ]
    }
   ],
   "source": [
    "df['document']=df.document.replace('',np.nan) #공백을 nan으로 지정"
   ]
  },
  {
   "cell_type": "code",
   "execution_count": 10,
   "id": "4120d07b",
   "metadata": {},
   "outputs": [
    {
     "data": {
      "text/html": [
       "<div>\n",
       "<style scoped>\n",
       "    .dataframe tbody tr th:only-of-type {\n",
       "        vertical-align: middle;\n",
       "    }\n",
       "\n",
       "    .dataframe tbody tr th {\n",
       "        vertical-align: top;\n",
       "    }\n",
       "\n",
       "    .dataframe thead th {\n",
       "        text-align: right;\n",
       "    }\n",
       "</style>\n",
       "<table border=\"1\" class=\"dataframe\">\n",
       "  <thead>\n",
       "    <tr style=\"text-align: right;\">\n",
       "      <th></th>\n",
       "      <th>document</th>\n",
       "      <th>label</th>\n",
       "    </tr>\n",
       "  </thead>\n",
       "  <tbody>\n",
       "    <tr>\n",
       "      <th>0</th>\n",
       "      <td>굳 ㅋ</td>\n",
       "      <td>1</td>\n",
       "    </tr>\n",
       "    <tr>\n",
       "      <th>2</th>\n",
       "      <td>뭐야 이 평점들은 나쁘진 않지만 점 짜리는 더더욱 아니잖아</td>\n",
       "      <td>0</td>\n",
       "    </tr>\n",
       "    <tr>\n",
       "      <th>3</th>\n",
       "      <td>지루하지는 않은데 완전 막장임 돈주고 보기에는</td>\n",
       "      <td>0</td>\n",
       "    </tr>\n",
       "    <tr>\n",
       "      <th>4</th>\n",
       "      <td>만 아니었어도 별 다섯 개 줬을텐데 왜 로 나와서 제 심기를 불편하게 하죠</td>\n",
       "      <td>0</td>\n",
       "    </tr>\n",
       "    <tr>\n",
       "      <th>5</th>\n",
       "      <td>음악이 주가 된 최고의 음악영화</td>\n",
       "      <td>1</td>\n",
       "    </tr>\n",
       "    <tr>\n",
       "      <th>...</th>\n",
       "      <td>...</td>\n",
       "      <td>...</td>\n",
       "    </tr>\n",
       "    <tr>\n",
       "      <th>49995</th>\n",
       "      <td>오랜만에 평점 로긴했네ㅋㅋ 킹왕짱 쌈뽕한 영화를 만났습니다 강렬하게 육쾌함</td>\n",
       "      <td>1</td>\n",
       "    </tr>\n",
       "    <tr>\n",
       "      <th>49996</th>\n",
       "      <td>의지 박약들이나 하는거다 탈영은 일단 주인공 김대희 닮았고 이등병 찐따</td>\n",
       "      <td>0</td>\n",
       "    </tr>\n",
       "    <tr>\n",
       "      <th>49997</th>\n",
       "      <td>그림도 좋고 완성도도 높았지만 보는 내내 불안하게 만든다</td>\n",
       "      <td>0</td>\n",
       "    </tr>\n",
       "    <tr>\n",
       "      <th>49998</th>\n",
       "      <td>절대 봐서는 안 될 영화 재미도 없고 기분만 잡치고 한 세트장에서 다 해먹네</td>\n",
       "      <td>0</td>\n",
       "    </tr>\n",
       "    <tr>\n",
       "      <th>49999</th>\n",
       "      <td>마무리는 또 왜이래</td>\n",
       "      <td>0</td>\n",
       "    </tr>\n",
       "  </tbody>\n",
       "</table>\n",
       "<p>48852 rows × 2 columns</p>\n",
       "</div>"
      ],
      "text/plain": [
       "                                         document label\n",
       "0                                             굳 ㅋ     1\n",
       "2                뭐야 이 평점들은 나쁘진 않지만 점 짜리는 더더욱 아니잖아     0\n",
       "3                       지루하지는 않은데 완전 막장임 돈주고 보기에는     0\n",
       "4       만 아니었어도 별 다섯 개 줬을텐데 왜 로 나와서 제 심기를 불편하게 하죠     0\n",
       "5                               음악이 주가 된 최고의 음악영화     1\n",
       "...                                           ...   ...\n",
       "49995   오랜만에 평점 로긴했네ㅋㅋ 킹왕짱 쌈뽕한 영화를 만났습니다 강렬하게 육쾌함     1\n",
       "49996    의지 박약들이나 하는거다 탈영은 일단 주인공 김대희 닮았고 이등병 찐따      0\n",
       "49997             그림도 좋고 완성도도 높았지만 보는 내내 불안하게 만든다     0\n",
       "49998  절대 봐서는 안 될 영화 재미도 없고 기분만 잡치고 한 세트장에서 다 해먹네     0\n",
       "49999                                  마무리는 또 왜이래     0\n",
       "\n",
       "[48852 rows x 2 columns]"
      ]
     },
     "execution_count": 10,
     "metadata": {},
     "output_type": "execute_result"
    }
   ],
   "source": [
    "df=df.dropna()\n",
    "df"
   ]
  },
  {
   "cell_type": "code",
   "execution_count": 36,
   "id": "de9a8386",
   "metadata": {},
   "outputs": [],
   "source": [
    "s_w=['은','는','이','가','를','들','에게','의','를','도','으로','만','라서','한다','함','네','이래','하게','한','어','요','에','을','에서','이다','다','영화','너무','하는','하고','정말']"
   ]
  },
  {
   "cell_type": "code",
   "execution_count": 37,
   "id": "62b78298",
   "metadata": {
    "scrolled": false
   },
   "outputs": [
    {
     "data": {
      "text/html": [
       "<div>\n",
       "<style scoped>\n",
       "    .dataframe tbody tr th:only-of-type {\n",
       "        vertical-align: middle;\n",
       "    }\n",
       "\n",
       "    .dataframe tbody tr th {\n",
       "        vertical-align: top;\n",
       "    }\n",
       "\n",
       "    .dataframe thead th {\n",
       "        text-align: right;\n",
       "    }\n",
       "</style>\n",
       "<table border=\"1\" class=\"dataframe\">\n",
       "  <thead>\n",
       "    <tr style=\"text-align: right;\">\n",
       "      <th></th>\n",
       "      <th>document</th>\n",
       "      <th>label</th>\n",
       "    </tr>\n",
       "  </thead>\n",
       "  <tbody>\n",
       "    <tr>\n",
       "      <th>0</th>\n",
       "      <td>굳 ㅋ</td>\n",
       "      <td>1</td>\n",
       "    </tr>\n",
       "    <tr>\n",
       "      <th>1</th>\n",
       "      <td>뭐 야 평점 나쁘진 않지만 점 짜 리 더 더욱 아니잖아</td>\n",
       "      <td>0</td>\n",
       "    </tr>\n",
       "    <tr>\n",
       "      <th>2</th>\n",
       "      <td>지루하지는 않은데 완전 막장 임 돈 주고 보기 에는</td>\n",
       "      <td>0</td>\n",
       "    </tr>\n",
       "    <tr>\n",
       "      <th>3</th>\n",
       "      <td>아니었어도 별 다섯 개 줬을텐데 왜 로 나와서 제 심기 불편하게 하죠</td>\n",
       "      <td>0</td>\n",
       "    </tr>\n",
       "    <tr>\n",
       "      <th>4</th>\n",
       "      <td>음악 주가 된 최고 음악</td>\n",
       "      <td>1</td>\n",
       "    </tr>\n",
       "    <tr>\n",
       "      <th>...</th>\n",
       "      <td>...</td>\n",
       "      <td>...</td>\n",
       "    </tr>\n",
       "    <tr>\n",
       "      <th>48847</th>\n",
       "      <td>오랜 평점 로 긴 했네 ㅋㅋ 킹왕짱 쌈뽕 만났습니다 강렬하게 육 쾌함</td>\n",
       "      <td>1</td>\n",
       "    </tr>\n",
       "    <tr>\n",
       "      <th>48848</th>\n",
       "      <td>의지 박약 이나 하는거다 탈영 일단 주인공 김대희 닮았고 이등병 찐 따</td>\n",
       "      <td>0</td>\n",
       "    </tr>\n",
       "    <tr>\n",
       "      <th>48849</th>\n",
       "      <td>그림 좋고 완성 도도 높았지만 보는 내내 불안하게 만든다</td>\n",
       "      <td>0</td>\n",
       "    </tr>\n",
       "    <tr>\n",
       "      <th>48850</th>\n",
       "      <td>절대 봐 서는 안 될 재미 없고 기분 잡 치고 세트 장 해먹</td>\n",
       "      <td>0</td>\n",
       "    </tr>\n",
       "    <tr>\n",
       "      <th>48851</th>\n",
       "      <td>마무리 또 왜</td>\n",
       "      <td>0</td>\n",
       "    </tr>\n",
       "  </tbody>\n",
       "</table>\n",
       "<p>48852 rows × 2 columns</p>\n",
       "</div>"
      ],
      "text/plain": [
       "                                       document label\n",
       "0                                           굳 ㅋ     1\n",
       "1                뭐 야 평점 나쁘진 않지만 점 짜 리 더 더욱 아니잖아     0\n",
       "2                  지루하지는 않은데 완전 막장 임 돈 주고 보기 에는     0\n",
       "3        아니었어도 별 다섯 개 줬을텐데 왜 로 나와서 제 심기 불편하게 하죠     0\n",
       "4                                 음악 주가 된 최고 음악     1\n",
       "...                                         ...   ...\n",
       "48847    오랜 평점 로 긴 했네 ㅋㅋ 킹왕짱 쌈뽕 만났습니다 강렬하게 육 쾌함     1\n",
       "48848   의지 박약 이나 하는거다 탈영 일단 주인공 김대희 닮았고 이등병 찐 따     0\n",
       "48849           그림 좋고 완성 도도 높았지만 보는 내내 불안하게 만든다     0\n",
       "48850         절대 봐 서는 안 될 재미 없고 기분 잡 치고 세트 장 해먹     0\n",
       "48851                                   마무리 또 왜     0\n",
       "\n",
       "[48852 rows x 2 columns]"
      ]
     },
     "execution_count": 37,
     "metadata": {},
     "output_type": "execute_result"
    }
   ],
   "source": [
    "from konlpy.tag import Okt\n",
    "tk=Okt()\n",
    "end_d=[]\n",
    "\n",
    "for i in df['document']:\n",
    "    l=[]\n",
    "    \n",
    "    tk_m=tk.morphs(i)\n",
    "    for j in tk_m:\n",
    "        if j not in s_w:\n",
    "            l.append(j)\n",
    "    l2=[]\n",
    "    합=\"\"\n",
    "    for k in l:\n",
    "        합=합+' '+k\n",
    "    l2.append(합)\n",
    "    end_d.append(l2)\n",
    "    \n",
    "end_k=[]\n",
    "for i in df['label']:\n",
    "    k=[]\n",
    "    k.append(i)\n",
    "    end_k.append(k)\n",
    "\n",
    "    \n",
    "df_d=pd.DataFrame(end_d,columns=['document'])\n",
    "df_d['label']=pd.DataFrame(end_k)\n",
    "df_d\n"
   ]
  },
  {
   "cell_type": "code",
   "execution_count": 38,
   "id": "a6ec74f3",
   "metadata": {},
   "outputs": [
    {
     "data": {
      "text/plain": [
       "document    0\n",
       "label       0\n",
       "dtype: int64"
      ]
     },
     "execution_count": 38,
     "metadata": {},
     "output_type": "execute_result"
    }
   ],
   "source": [
    "df_d.isna().sum()"
   ]
  },
  {
   "cell_type": "code",
   "execution_count": 39,
   "id": "f5a15d1e",
   "metadata": {},
   "outputs": [
    {
     "data": {
      "text/html": [
       "<div>\n",
       "<style scoped>\n",
       "    .dataframe tbody tr th:only-of-type {\n",
       "        vertical-align: middle;\n",
       "    }\n",
       "\n",
       "    .dataframe tbody tr th {\n",
       "        vertical-align: top;\n",
       "    }\n",
       "\n",
       "    .dataframe thead th {\n",
       "        text-align: right;\n",
       "    }\n",
       "</style>\n",
       "<table border=\"1\" class=\"dataframe\">\n",
       "  <thead>\n",
       "    <tr style=\"text-align: right;\">\n",
       "      <th></th>\n",
       "      <th>document</th>\n",
       "      <th>label</th>\n",
       "    </tr>\n",
       "  </thead>\n",
       "  <tbody>\n",
       "    <tr>\n",
       "      <th>0</th>\n",
       "      <td>False</td>\n",
       "      <td>False</td>\n",
       "    </tr>\n",
       "    <tr>\n",
       "      <th>1</th>\n",
       "      <td>False</td>\n",
       "      <td>False</td>\n",
       "    </tr>\n",
       "    <tr>\n",
       "      <th>2</th>\n",
       "      <td>False</td>\n",
       "      <td>False</td>\n",
       "    </tr>\n",
       "    <tr>\n",
       "      <th>3</th>\n",
       "      <td>False</td>\n",
       "      <td>False</td>\n",
       "    </tr>\n",
       "    <tr>\n",
       "      <th>4</th>\n",
       "      <td>False</td>\n",
       "      <td>False</td>\n",
       "    </tr>\n",
       "    <tr>\n",
       "      <th>5</th>\n",
       "      <td>False</td>\n",
       "      <td>False</td>\n",
       "    </tr>\n",
       "    <tr>\n",
       "      <th>6</th>\n",
       "      <td>False</td>\n",
       "      <td>False</td>\n",
       "    </tr>\n",
       "    <tr>\n",
       "      <th>7</th>\n",
       "      <td>False</td>\n",
       "      <td>False</td>\n",
       "    </tr>\n",
       "    <tr>\n",
       "      <th>8</th>\n",
       "      <td>False</td>\n",
       "      <td>False</td>\n",
       "    </tr>\n",
       "    <tr>\n",
       "      <th>9</th>\n",
       "      <td>False</td>\n",
       "      <td>False</td>\n",
       "    </tr>\n",
       "    <tr>\n",
       "      <th>10</th>\n",
       "      <td>False</td>\n",
       "      <td>False</td>\n",
       "    </tr>\n",
       "    <tr>\n",
       "      <th>11</th>\n",
       "      <td>False</td>\n",
       "      <td>False</td>\n",
       "    </tr>\n",
       "    <tr>\n",
       "      <th>12</th>\n",
       "      <td>False</td>\n",
       "      <td>False</td>\n",
       "    </tr>\n",
       "    <tr>\n",
       "      <th>13</th>\n",
       "      <td>False</td>\n",
       "      <td>False</td>\n",
       "    </tr>\n",
       "    <tr>\n",
       "      <th>14</th>\n",
       "      <td>False</td>\n",
       "      <td>False</td>\n",
       "    </tr>\n",
       "    <tr>\n",
       "      <th>15</th>\n",
       "      <td>False</td>\n",
       "      <td>False</td>\n",
       "    </tr>\n",
       "    <tr>\n",
       "      <th>16</th>\n",
       "      <td>False</td>\n",
       "      <td>False</td>\n",
       "    </tr>\n",
       "    <tr>\n",
       "      <th>17</th>\n",
       "      <td>False</td>\n",
       "      <td>False</td>\n",
       "    </tr>\n",
       "    <tr>\n",
       "      <th>18</th>\n",
       "      <td>False</td>\n",
       "      <td>False</td>\n",
       "    </tr>\n",
       "    <tr>\n",
       "      <th>19</th>\n",
       "      <td>False</td>\n",
       "      <td>False</td>\n",
       "    </tr>\n",
       "  </tbody>\n",
       "</table>\n",
       "</div>"
      ],
      "text/plain": [
       "    document  label\n",
       "0      False  False\n",
       "1      False  False\n",
       "2      False  False\n",
       "3      False  False\n",
       "4      False  False\n",
       "5      False  False\n",
       "6      False  False\n",
       "7      False  False\n",
       "8      False  False\n",
       "9      False  False\n",
       "10     False  False\n",
       "11     False  False\n",
       "12     False  False\n",
       "13     False  False\n",
       "14     False  False\n",
       "15     False  False\n",
       "16     False  False\n",
       "17     False  False\n",
       "18     False  False\n",
       "19     False  False"
      ]
     },
     "execution_count": 39,
     "metadata": {},
     "output_type": "execute_result"
    }
   ],
   "source": [
    "df_d.isna().head(20)"
   ]
  },
  {
   "cell_type": "code",
   "execution_count": 40,
   "id": "69db127c",
   "metadata": {},
   "outputs": [],
   "source": [
    "from sklearn.feature_extraction.text import CountVectorizer#특정단어가 얼만큼 입력되었는지 확ㅇ인하기위한 것\n",
    "from wordcloud import WordCloud,STOPWORDS \n",
    "from bs4 import BeautifulSoup#html 파서해서 단어만 남게함 /데이터 정리\n",
    "import re\n",
    "import nltk\n",
    "from nltk.corpus import stopwords\n",
    "from string import punctuation # 데이터 구성상에서 글자에 대응대는 부호들을 의미한다. 이를 배제할때 사용하기위해 불러옴\n",
    "from nltk import pos_tag# 글자마다 키워드값 제시\n",
    "import seaborn as sns\n",
    "import matplotlib.pyplot as plt"
   ]
  },
  {
   "cell_type": "code",
   "execution_count": 41,
   "id": "cee197cf",
   "metadata": {},
   "outputs": [],
   "source": [
    "df_d.label.replace('1',1,inplace=True)\n",
    "df_d.label.replace('0',0,inplace=True)\n",
    "#df_d.label=df_d.label.astype(int)"
   ]
  },
  {
   "cell_type": "code",
   "execution_count": 42,
   "id": "0bd5bf70",
   "metadata": {
    "scrolled": true
   },
   "outputs": [
    {
     "data": {
      "text/plain": [
       "<matplotlib.image.AxesImage at 0x27e622ee370>"
      ]
     },
     "execution_count": 42,
     "metadata": {},
     "output_type": "execute_result"
    },
    {
     "data": {
      "image/png": "[encoded data removed]",
      "text/plain": [
       "<Figure size 432x288 with 1 Axes>"
      ]
     },
     "metadata": {
      "needs_background": "light"
     },
     "output_type": "display_data"
    }
   ],
   "source": [
    "wc=WordCloud(font_path='malgun',max_words=2000).generate(' '.join(df_d[df_d.label==0].document))\n",
    "plt.imshow(wc)"
   ]
  },
  {
   "cell_type": "code",
   "execution_count": 43,
   "id": "d8ee2a62",
   "metadata": {},
   "outputs": [
    {
     "data": {
      "text/plain": [
       "<matplotlib.image.AxesImage at 0x27e7e619dc0>"
      ]
     },
     "execution_count": 43,
     "metadata": {},
     "output_type": "execute_result"
    },
    {
     "data": {
      "image/png": "[encoded data removed]",
      "text/plain": [
       "<Figure size 432x288 with 1 Axes>"
      ]
     },
     "metadata": {
      "needs_background": "light"
     },
     "output_type": "display_data"
    }
   ],
   "source": [
    "wc=WordCloud(font_path='malgun',max_words=2000).generate(' '.join(df_d[df_d.label==1].document))\n",
    "plt.imshow(wc)"
   ]
  },
  {
   "cell_type": "code",
   "execution_count": 44,
   "id": "618fb145",
   "metadata": {},
   "outputs": [
    {
     "data": {
      "text/plain": [
       "0         4\n",
       "4        14\n",
       "8        37\n",
       "9        17\n",
       "11       61\n",
       "         ..\n",
       "48843    10\n",
       "48844    20\n",
       "48845    36\n",
       "48846     6\n",
       "48847    39\n",
       "Name: document, Length: 24520, dtype: int64"
      ]
     },
     "execution_count": 44,
     "metadata": {},
     "output_type": "execute_result"
    }
   ],
   "source": [
    "t_l_0=df_d[df_d.label==0]['document'].str.len()\n",
    "t_l_1=df_d[df_d.label==1]['document'].str.len()\n",
    "t_l_1"
   ]
  },
  {
   "cell_type": "code",
   "execution_count": 45,
   "id": "173d5526",
   "metadata": {},
   "outputs": [
    {
     "data": {
      "image/png": "[encoded data removed]",
      "text/plain": [
       "<Figure size 432x288 with 2 Axes>"
      ]
     },
     "metadata": {
      "needs_background": "light"
     },
     "output_type": "display_data"
    }
   ],
   "source": [
    "fig,(ax1,ax2)=plt.subplots(1,2)\n",
    "ax1.hist(t_l_0)\n",
    "ax2.hist(t_l_1)\n",
    "plt.show()"
   ]
  },
  {
   "cell_type": "code",
   "execution_count": 46,
   "id": "6d1de4d4",
   "metadata": {},
   "outputs": [
    {
     "name": "stderr",
     "output_type": "stream",
     "text": [
      "C:\\ProgramData\\Anaconda3\\lib\\site-packages\\seaborn\\distributions.py:2619: FutureWarning:\n",
      "\n",
      "`distplot` is a deprecated function and will be removed in a future version. Please adapt your code to use either `displot` (a figure-level function with similar flexibility) or `histplot` (an axes-level function for histograms).\n",
      "\n",
      "C:\\ProgramData\\Anaconda3\\lib\\site-packages\\seaborn\\distributions.py:2619: FutureWarning:\n",
      "\n",
      "`distplot` is a deprecated function and will be removed in a future version. Please adapt your code to use either `displot` (a figure-level function with similar flexibility) or `histplot` (an axes-level function for histograms).\n",
      "\n"
     ]
    },
    {
     "data": {
      "text/plain": [
       "<AxesSubplot:xlabel='document', ylabel='Density'>"
      ]
     },
     "execution_count": 46,
     "metadata": {},
     "output_type": "execute_result"
    },
    {
     "data": {
      "image/png": "[encoded data removed]",
      "text/plain": [
       "<Figure size 432x288 with 2 Axes>"
      ]
     },
     "metadata": {
      "needs_background": "light"
     },
     "output_type": "display_data"
    }
   ],
   "source": [
    "fig,(ax1,ax2)=plt.subplots(1,2)\n",
    "t_l_0=df_d[df_d.label==0]['document'].str.split().apply(lambda x:[len(i) for i in x])\n",
    "sns.distplot(t_l_0.map(lambda x : np.mean(x)),ax=ax1)\n",
    "t_l_1=df_d[df_d.label==1]['document'].str.split().apply(lambda x:[len(i) for i in x])\n",
    "sns.distplot(t_l_1.map(lambda x : np.mean(x)),ax=ax2)"
   ]
  },
  {
   "cell_type": "code",
   "execution_count": 47,
   "id": "20842a4b",
   "metadata": {},
   "outputs": [],
   "source": [
    "def N_그램_표현(t,n,g):\n",
    "    tv=CountVectorizer(ngram_range=(g,g)).fit(t)\n",
    "    BoW=tv.transform(t)\n",
    "    sum_Bow=BoW.sum(axis=0)\n",
    "    w_f=[(w,sum_Bow[0,i]) for w,i in tv.vocabulary_.items()]\n",
    "    w_f=sorted(w_f,key=lambda x:x[1], reverse=True)\n",
    "    return w_f[:n]\n",
    "ck1_data=dict(N_그램_표현(df_d.document,20,1))"
   ]
  },
  {
   "cell_type": "code",
   "execution_count": 48,
   "id": "53eab9aa",
   "metadata": {},
   "outputs": [],
   "source": [
    "import plotly.express as px"
   ]
  },
  {
   "cell_type": "code",
   "execution_count": 49,
   "id": "161f439d",
   "metadata": {},
   "outputs": [
    {
     "data": {
      "text/plain": [
       "{'진짜': 2927,\n",
       " '평점': 2210,\n",
       " '연기': 2161,\n",
       " '최고': 1950,\n",
       " '생각': 1824,\n",
       " '이런': 1749,\n",
       " '스토리': 1696,\n",
       " '드라마': 1642,\n",
       " '사람': 1641,\n",
       " '감동': 1631,\n",
       " '보고': 1550,\n",
       " '감독': 1411,\n",
       " '배우': 1401,\n",
       " 'ㅋㅋ': 1383,\n",
       " '그냥': 1350,\n",
       " '내용': 1347,\n",
       " '까지': 1336,\n",
       " '재미': 1306,\n",
       " '보다': 1303,\n",
       " '시간': 1279}"
      ]
     },
     "execution_count": 49,
     "metadata": {},
     "output_type": "execute_result"
    }
   ],
   "source": [
    "ck1_data"
   ]
  },
  {
   "cell_type": "code",
   "execution_count": 50,
   "id": "95de041d",
   "metadata": {},
   "outputs": [
    {
     "data": {
      "text/html": [
       "<div>\n",
       "<style scoped>\n",
       "    .dataframe tbody tr th:only-of-type {\n",
       "        vertical-align: middle;\n",
       "    }\n",
       "\n",
       "    .dataframe tbody tr th {\n",
       "        vertical-align: top;\n",
       "    }\n",
       "\n",
       "    .dataframe thead th {\n",
       "        text-align: right;\n",
       "    }\n",
       "</style>\n",
       "<table border=\"1\" class=\"dataframe\">\n",
       "  <thead>\n",
       "    <tr style=\"text-align: right;\">\n",
       "      <th></th>\n",
       "      <th>c_w</th>\n",
       "      <th>n</th>\n",
       "    </tr>\n",
       "  </thead>\n",
       "  <tbody>\n",
       "    <tr>\n",
       "      <th>0</th>\n",
       "      <td>진짜</td>\n",
       "      <td>2927</td>\n",
       "    </tr>\n",
       "    <tr>\n",
       "      <th>1</th>\n",
       "      <td>평점</td>\n",
       "      <td>2210</td>\n",
       "    </tr>\n",
       "    <tr>\n",
       "      <th>2</th>\n",
       "      <td>연기</td>\n",
       "      <td>2161</td>\n",
       "    </tr>\n",
       "    <tr>\n",
       "      <th>3</th>\n",
       "      <td>최고</td>\n",
       "      <td>1950</td>\n",
       "    </tr>\n",
       "    <tr>\n",
       "      <th>4</th>\n",
       "      <td>생각</td>\n",
       "      <td>1824</td>\n",
       "    </tr>\n",
       "    <tr>\n",
       "      <th>5</th>\n",
       "      <td>이런</td>\n",
       "      <td>1749</td>\n",
       "    </tr>\n",
       "    <tr>\n",
       "      <th>6</th>\n",
       "      <td>스토리</td>\n",
       "      <td>1696</td>\n",
       "    </tr>\n",
       "    <tr>\n",
       "      <th>7</th>\n",
       "      <td>드라마</td>\n",
       "      <td>1642</td>\n",
       "    </tr>\n",
       "    <tr>\n",
       "      <th>8</th>\n",
       "      <td>사람</td>\n",
       "      <td>1641</td>\n",
       "    </tr>\n",
       "    <tr>\n",
       "      <th>9</th>\n",
       "      <td>감동</td>\n",
       "      <td>1631</td>\n",
       "    </tr>\n",
       "    <tr>\n",
       "      <th>10</th>\n",
       "      <td>보고</td>\n",
       "      <td>1550</td>\n",
       "    </tr>\n",
       "    <tr>\n",
       "      <th>11</th>\n",
       "      <td>감독</td>\n",
       "      <td>1411</td>\n",
       "    </tr>\n",
       "    <tr>\n",
       "      <th>12</th>\n",
       "      <td>배우</td>\n",
       "      <td>1401</td>\n",
       "    </tr>\n",
       "    <tr>\n",
       "      <th>13</th>\n",
       "      <td>ㅋㅋ</td>\n",
       "      <td>1383</td>\n",
       "    </tr>\n",
       "    <tr>\n",
       "      <th>14</th>\n",
       "      <td>그냥</td>\n",
       "      <td>1350</td>\n",
       "    </tr>\n",
       "    <tr>\n",
       "      <th>15</th>\n",
       "      <td>내용</td>\n",
       "      <td>1347</td>\n",
       "    </tr>\n",
       "    <tr>\n",
       "      <th>16</th>\n",
       "      <td>까지</td>\n",
       "      <td>1336</td>\n",
       "    </tr>\n",
       "    <tr>\n",
       "      <th>17</th>\n",
       "      <td>재미</td>\n",
       "      <td>1306</td>\n",
       "    </tr>\n",
       "    <tr>\n",
       "      <th>18</th>\n",
       "      <td>보다</td>\n",
       "      <td>1303</td>\n",
       "    </tr>\n",
       "    <tr>\n",
       "      <th>19</th>\n",
       "      <td>시간</td>\n",
       "      <td>1279</td>\n",
       "    </tr>\n",
       "  </tbody>\n",
       "</table>\n",
       "</div>"
      ],
      "text/plain": [
       "    c_w     n\n",
       "0    진짜  2927\n",
       "1    평점  2210\n",
       "2    연기  2161\n",
       "3    최고  1950\n",
       "4    생각  1824\n",
       "5    이런  1749\n",
       "6   스토리  1696\n",
       "7   드라마  1642\n",
       "8    사람  1641\n",
       "9    감동  1631\n",
       "10   보고  1550\n",
       "11   감독  1411\n",
       "12   배우  1401\n",
       "13   ㅋㅋ  1383\n",
       "14   그냥  1350\n",
       "15   내용  1347\n",
       "16   까지  1336\n",
       "17   재미  1306\n",
       "18   보다  1303\n",
       "19   시간  1279"
      ]
     },
     "execution_count": 50,
     "metadata": {},
     "output_type": "execute_result"
    }
   ],
   "source": [
    "v_df=pd.DataFrame(columns=['c_w','n'])\n",
    "v_df['c_w']=list(ck1_data.keys())\n",
    "v_df['n']=list(ck1_data.values())\n",
    "v_df"
   ]
  },
  {
   "cell_type": "code",
   "execution_count": 51,
   "id": "23c7b963",
   "metadata": {},
   "outputs": [
    {
     "data": {
      "application/vnd.plotly.v1+json": {
       "config": {
        "plotlyServerURL": "https://plot.ly"
       },
       "data": [
        {
         "alignmentgroup": "True",
         "hovertemplate": "c_w=%{y}<br>n=%{x}<extra></extra>",
         "legendgroup": "진짜",
         "marker": {
          "color": "#636efa",
          "pattern": {
           "shape": ""
          }
         },
         "name": "진짜",
         "offsetgroup": "진짜",
         "orientation": "h",
         "showlegend": true,
         "textposition": "auto",
         "type": "bar",
         "x": [
          2927
         ],
         "xaxis": "x",
         "y": [
          "진짜"
         ],
         "yaxis": "y"
        },
        {
         "alignmentgroup": "True",
         "hovertemplate": "c_w=%{y}<br>n=%{x}<extra></extra>",
         "legendgroup": "평점",
         "marker": {
          "color": "#EF553B",
          "pattern": {
           "shape": ""
          }
         },
         "name": "평점",
         "offsetgroup": "평점",
         "orientation": "h",
         "showlegend": true,
         "textposition": "auto",
         "type": "bar",
         "x": [
          2210
         ],
         "xaxis": "x",
         "y": [
          "평점"
         ],
         "yaxis": "y"
        },
        {
         "alignmentgroup": "True",
         "hovertemplate": "c_w=%{y}<br>n=%{x}<extra></extra>",
         "legendgroup": "연기",
         "marker": {
          "color": "#00cc96",
          "pattern": {
           "shape": ""
          }
         },
         "name": "연기",
         "offsetgroup": "연기",
         "orientation": "h",
         "showlegend": true,
         "textposition": "auto",
         "type": "bar",
         "x": [
          2161
         ],
         "xaxis": "x",
         "y": [
          "연기"
         ],
         "yaxis": "y"
        },
        {
         "alignmentgroup": "True",
         "hovertemplate": "c_w=%{y}<br>n=%{x}<extra></extra>",
         "legendgroup": "최고",
         "marker": {
          "color": "#ab63fa",
          "pattern": {
           "shape": ""
          }
         },
         "name": "최고",
         "offsetgroup": "최고",
         "orientation": "h",
         "showlegend": true,
         "textposition": "auto",
         "type": "bar",
         "x": [
          1950
         ],
         "xaxis": "x",
         "y": [
          "최고"
         ],
         "yaxis": "y"
        },
        {
         "alignmentgroup": "True",
         "hovertemplate": "c_w=%{y}<br>n=%{x}<extra></extra>",
         "legendgroup": "생각",
         "marker": {
          "color": "#FFA15A",
          "pattern": {
           "shape": ""
          }
         },
         "name": "생각",
         "offsetgroup": "생각",
         "orientation": "h",
         "showlegend": true,
         "textposition": "auto",
         "type": "bar",
         "x": [
          1824
         ],
         "xaxis": "x",
         "y": [
          "생각"
         ],
         "yaxis": "y"
        },
        {
         "alignmentgroup": "True",
         "hovertemplate": "c_w=%{y}<br>n=%{x}<extra></extra>",
         "legendgroup": "이런",
         "marker": {
          "color": "#19d3f3",
          "pattern": {
           "shape": ""
          }
         },
         "name": "이런",
         "offsetgroup": "이런",
         "orientation": "h",
         "showlegend": true,
         "textposition": "auto",
         "type": "bar",
         "x": [
          1749
         ],
         "xaxis": "x",
         "y": [
          "이런"
         ],
         "yaxis": "y"
        },
        {
         "alignmentgroup": "True",
         "hovertemplate": "c_w=%{y}<br>n=%{x}<extra></extra>",
         "legendgroup": "스토리",
         "marker": {
          "color": "#FF6692",
          "pattern": {
           "shape": ""
          }
         },
         "name": "스토리",
         "offsetgroup": "스토리",
         "orientation": "h",
         "showlegend": true,
         "textposition": "auto",
         "type": "bar",
         "x": [
          1696
         ],
         "xaxis": "x",
         "y": [
          "스토리"
         ],
         "yaxis": "y"
        },
        {
         "alignmentgroup": "True",
         "hovertemplate": "c_w=%{y}<br>n=%{x}<extra></extra>",
         "legendgroup": "드라마",
         "marker": {
          "color": "#B6E880",
          "pattern": {
           "shape": ""
          }
         },
         "name": "드라마",
         "offsetgroup": "드라마",
         "orientation": "h",
         "showlegend": true,
         "textposition": "auto",
         "type": "bar",
         "x": [
          1642
         ],
         "xaxis": "x",
         "y": [
          "드라마"
         ],
         "yaxis": "y"
        },
        {
         "alignmentgroup": "True",
         "hovertemplate": "c_w=%{y}<br>n=%{x}<extra></extra>",
         "legendgroup": "사람",
         "marker": {
          "color": "#FF97FF",
          "pattern": {
           "shape": ""
          }
         },
         "name": "사람",
         "offsetgroup": "사람",
         "orientation": "h",
         "showlegend": true,
         "textposition": "auto",
         "type": "bar",
         "x": [
          1641
         ],
         "xaxis": "x",
         "y": [
          "사람"
         ],
         "yaxis": "y"
        },
        {
         "alignmentgroup": "True",
         "hovertemplate": "c_w=%{y}<br>n=%{x}<extra></extra>",
         "legendgroup": "감동",
         "marker": {
          "color": "#FECB52",
          "pattern": {
           "shape": ""
          }
         },
         "name": "감동",
         "offsetgroup": "감동",
         "orientation": "h",
         "showlegend": true,
         "textposition": "auto",
         "type": "bar",
         "x": [
          1631
         ],
         "xaxis": "x",
         "y": [
          "감동"
         ],
         "yaxis": "y"
        },
        {
         "alignmentgroup": "True",
         "hovertemplate": "c_w=%{y}<br>n=%{x}<extra></extra>",
         "legendgroup": "보고",
         "marker": {
          "color": "#636efa",
          "pattern": {
           "shape": ""
          }
         },
         "name": "보고",
         "offsetgroup": "보고",
         "orientation": "h",
         "showlegend": true,
         "textposition": "auto",
         "type": "bar",
         "x": [
          1550
         ],
         "xaxis": "x",
         "y": [
          "보고"
         ],
         "yaxis": "y"
        },
        {
         "alignmentgroup": "True",
         "hovertemplate": "c_w=%{y}<br>n=%{x}<extra></extra>",
         "legendgroup": "감독",
         "marker": {
          "color": "#EF553B",
          "pattern": {
           "shape": ""
          }
         },
         "name": "감독",
         "offsetgroup": "감독",
         "orientation": "h",
         "showlegend": true,
         "textposition": "auto",
         "type": "bar",
         "x": [
          1411
         ],
         "xaxis": "x",
         "y": [
          "감독"
         ],
         "yaxis": "y"
        },
        {
         "alignmentgroup": "True",
         "hovertemplate": "c_w=%{y}<br>n=%{x}<extra></extra>",
         "legendgroup": "배우",
         "marker": {
          "color": "#00cc96",
          "pattern": {
           "shape": ""
          }
         },
         "name": "배우",
         "offsetgroup": "배우",
         "orientation": "h",
         "showlegend": true,
         "textposition": "auto",
         "type": "bar",
         "x": [
          1401
         ],
         "xaxis": "x",
         "y": [
          "배우"
         ],
         "yaxis": "y"
        },
        {
         "alignmentgroup": "True",
         "hovertemplate": "c_w=%{y}<br>n=%{x}<extra></extra>",
         "legendgroup": "ㅋㅋ",
         "marker": {
          "color": "#ab63fa",
          "pattern": {
           "shape": ""
          }
         },
         "name": "ㅋㅋ",
         "offsetgroup": "ㅋㅋ",
         "orientation": "h",
         "showlegend": true,
         "textposition": "auto",
         "type": "bar",
         "x": [
          1383
         ],
         "xaxis": "x",
         "y": [
          "ㅋㅋ"
         ],
         "yaxis": "y"
        },
        {
         "alignmentgroup": "True",
         "hovertemplate": "c_w=%{y}<br>n=%{x}<extra></extra>",
         "legendgroup": "그냥",
         "marker": {
          "color": "#FFA15A",
          "pattern": {
           "shape": ""
          }
         },
         "name": "그냥",
         "offsetgroup": "그냥",
         "orientation": "h",
         "showlegend": true,
         "textposition": "auto",
         "type": "bar",
         "x": [
          1350
         ],
         "xaxis": "x",
         "y": [
          "그냥"
         ],
         "yaxis": "y"
        },
        {
         "alignmentgroup": "True",
         "hovertemplate": "c_w=%{y}<br>n=%{x}<extra></extra>",
         "legendgroup": "내용",
         "marker": {
          "color": "#19d3f3",
          "pattern": {
           "shape": ""
          }
         },
         "name": "내용",
         "offsetgroup": "내용",
         "orientation": "h",
         "showlegend": true,
         "textposition": "auto",
         "type": "bar",
         "x": [
          1347
         ],
         "xaxis": "x",
         "y": [
          "내용"
         ],
         "yaxis": "y"
        },
        {
         "alignmentgroup": "True",
         "hovertemplate": "c_w=%{y}<br>n=%{x}<extra></extra>",
         "legendgroup": "까지",
         "marker": {
          "color": "#FF6692",
          "pattern": {
           "shape": ""
          }
         },
         "name": "까지",
         "offsetgroup": "까지",
         "orientation": "h",
         "showlegend": true,
         "textposition": "auto",
         "type": "bar",
         "x": [
          1336
         ],
         "xaxis": "x",
         "y": [
          "까지"
         ],
         "yaxis": "y"
        },
        {
         "alignmentgroup": "True",
         "hovertemplate": "c_w=%{y}<br>n=%{x}<extra></extra>",
         "legendgroup": "재미",
         "marker": {
          "color": "#B6E880",
          "pattern": {
           "shape": ""
          }
         },
         "name": "재미",
         "offsetgroup": "재미",
         "orientation": "h",
         "showlegend": true,
         "textposition": "auto",
         "type": "bar",
         "x": [
          1306
         ],
         "xaxis": "x",
         "y": [
          "재미"
         ],
         "yaxis": "y"
        },
        {
         "alignmentgroup": "True",
         "hovertemplate": "c_w=%{y}<br>n=%{x}<extra></extra>",
         "legendgroup": "보다",
         "marker": {
          "color": "#FF97FF",
          "pattern": {
           "shape": ""
          }
         },
         "name": "보다",
         "offsetgroup": "보다",
         "orientation": "h",
         "showlegend": true,
         "textposition": "auto",
         "type": "bar",
         "x": [
          1303
         ],
         "xaxis": "x",
         "y": [
          "보다"
         ],
         "yaxis": "y"
        },
        {
         "alignmentgroup": "True",
         "hovertemplate": "c_w=%{y}<br>n=%{x}<extra></extra>",
         "legendgroup": "시간",
         "marker": {
          "color": "#FECB52",
          "pattern": {
           "shape": ""
          }
         },
         "name": "시간",
         "offsetgroup": "시간",
         "orientation": "h",
         "showlegend": true,
         "textposition": "auto",
         "type": "bar",
         "x": [
          1279
         ],
         "xaxis": "x",
         "y": [
          "시간"
         ],
         "yaxis": "y"
        }
       ],
       "layout": {
        "barmode": "relative",
        "legend": {
         "title": {
          "text": "c_w"
         },
         "tracegroupgap": 0
        },
        "template": {
         "data": {
          "bar": [
           {
            "error_x": {
             "color": "#2a3f5f"
            },
            "error_y": {
             "color": "#2a3f5f"
            },
            "marker": {
             "line": {
              "color": "#E5ECF6",
              "width": 0.5
             },
             "pattern": {
              "fillmode": "overlay",
              "size": 10,
              "solidity": 0.2
             }
            },
            "type": "bar"
           }
          ],
          "barpolar": [
           {
            "marker": {
             "line": {
              "color": "#E5ECF6",
              "width": 0.5
             },
             "pattern": {
              "fillmode": "overlay",
              "size": 10,
              "solidity": 0.2
             }
            },
            "type": "barpolar"
           }
          ],
          "carpet": [
           {
            "aaxis": {
             "endlinecolor": "#2a3f5f",
             "gridcolor": "white",
             "linecolor": "white",
             "minorgridcolor": "white",
             "startlinecolor": "#2a3f5f"
            },
            "baxis": {
             "endlinecolor": "#2a3f5f",
             "gridcolor": "white",
             "linecolor": "white",
             "minorgridcolor": "white",
             "startlinecolor": "#2a3f5f"
            },
            "type": "carpet"
           }
          ],
          "choropleth": [
           {
            "colorbar": {
             "outlinewidth": 0,
             "ticks": ""
            },
            "type": "choropleth"
           }
          ],
          "contour": [
           {
            "colorbar": {
             "outlinewidth": 0,
             "ticks": ""
            },
            "colorscale": [
             [
              0,
              "#0d0887"
             ],
             [
              0.1111111111111111,
              "#46039f"
             ],
             [
              0.2222222222222222,
              "#7201a8"
             ],
             [
              0.3333333333333333,
              "#9c179e"
             ],
             [
              0.4444444444444444,
              "#bd3786"
             ],
             [
              0.5555555555555556,
              "#d8576b"
             ],
             [
              0.6666666666666666,
              "#ed7953"
             ],
             [
              0.7777777777777778,
              "#fb9f3a"
             ],
             [
              0.8888888888888888,
              "#fdca26"
             ],
             [
              1,
              "#f0f921"
             ]
            ],
            "type": "contour"
           }
          ],
          "contourcarpet": [
           {
            "colorbar": {
             "outlinewidth": 0,
             "ticks": ""
            },
            "type": "contourcarpet"
           }
          ],
          "heatmap": [
           {
            "colorbar": {
             "outlinewidth": 0,
             "ticks": ""
            },
            "colorscale": [
             [
              0,
              "#0d0887"
             ],
             [
              0.1111111111111111,
              "#46039f"
             ],
             [
              0.2222222222222222,
              "#7201a8"
             ],
             [
              0.3333333333333333,
              "#9c179e"
             ],
             [
              0.4444444444444444,
              "#bd3786"
             ],
             [
              0.5555555555555556,
              "#d8576b"
             ],
             [
              0.6666666666666666,
              "#ed7953"
             ],
             [
              0.7777777777777778,
              "#fb9f3a"
             ],
             [
              0.8888888888888888,
              "#fdca26"
             ],
             [
              1,
              "#f0f921"
             ]
            ],
            "type": "heatmap"
           }
          ],
          "heatmapgl": [
           {
            "colorbar": {
             "outlinewidth": 0,
             "ticks": ""
            },
            "colorscale": [
             [
              0,
              "#0d0887"
             ],
             [
              0.1111111111111111,
              "#46039f"
             ],
             [
              0.2222222222222222,
              "#7201a8"
             ],
             [
              0.3333333333333333,
              "#9c179e"
             ],
             [
              0.4444444444444444,
              "#bd3786"
             ],
             [
              0.5555555555555556,
              "#d8576b"
             ],
             [
              0.6666666666666666,
              "#ed7953"
             ],
             [
              0.7777777777777778,
              "#fb9f3a"
             ],
             [
              0.8888888888888888,
              "#fdca26"
             ],
             [
              1,
              "#f0f921"
             ]
            ],
            "type": "heatmapgl"
           }
          ],
          "histogram": [
           {
            "marker": {
             "pattern": {
              "fillmode": "overlay",
              "size": 10,
              "solidity": 0.2
             }
            },
            "type": "histogram"
           }
          ],
          "histogram2d": [
           {
            "colorbar": {
             "outlinewidth": 0,
             "ticks": ""
            },
            "colorscale": [
             [
              0,
              "#0d0887"
             ],
             [
              0.1111111111111111,
              "#46039f"
             ],
             [
              0.2222222222222222,
              "#7201a8"
             ],
             [
              0.3333333333333333,
              "#9c179e"
             ],
             [
              0.4444444444444444,
              "#bd3786"
             ],
             [
              0.5555555555555556,
              "#d8576b"
             ],
             [
              0.6666666666666666,
              "#ed7953"
             ],
             [
              0.7777777777777778,
              "#fb9f3a"
             ],
             [
              0.8888888888888888,
              "#fdca26"
             ],
             [
              1,
              "#f0f921"
             ]
            ],
            "type": "histogram2d"
           }
          ],
          "histogram2dcontour": [
           {
            "colorbar": {
             "outlinewidth": 0,
             "ticks": ""
            },
            "colorscale": [
             [
              0,
              "#0d0887"
             ],
             [
              0.1111111111111111,
              "#46039f"
             ],
             [
              0.2222222222222222,
              "#7201a8"
             ],
             [
              0.3333333333333333,
              "#9c179e"
             ],
             [
              0.4444444444444444,
              "#bd3786"
             ],
             [
              0.5555555555555556,
              "#d8576b"
             ],
             [
              0.6666666666666666,
              "#ed7953"
             ],
             [
              0.7777777777777778,
              "#fb9f3a"
             ],
             [
              0.8888888888888888,
              "#fdca26"
             ],
             [
              1,
              "#f0f921"
             ]
            ],
            "type": "histogram2dcontour"
           }
          ],
          "mesh3d": [
           {
            "colorbar": {
             "outlinewidth": 0,
             "ticks": ""
            },
            "type": "mesh3d"
           }
          ],
          "parcoords": [
           {
            "line": {
             "colorbar": {
              "outlinewidth": 0,
              "ticks": ""
             }
            },
            "type": "parcoords"
           }
          ],
          "pie": [
           {
            "automargin": true,
            "type": "pie"
           }
          ],
          "scatter": [
           {
            "fillpattern": {
             "fillmode": "overlay",
             "size": 10,
             "solidity": 0.2
            },
            "type": "scatter"
           }
          ],
          "scatter3d": [
           {
            "line": {
             "colorbar": {
              "outlinewidth": 0,
              "ticks": ""
             }
            },
            "marker": {
             "colorbar": {
              "outlinewidth": 0,
              "ticks": ""
             }
            },
            "type": "scatter3d"
           }
          ],
          "scattercarpet": [
           {
            "marker": {
             "colorbar": {
              "outlinewidth": 0,
              "ticks": ""
             }
            },
            "type": "scattercarpet"
           }
          ],
          "scattergeo": [
           {
            "marker": {
             "colorbar": {
              "outlinewidth": 0,
              "ticks": ""
             }
            },
            "type": "scattergeo"
           }
          ],
          "scattergl": [
           {
            "marker": {
             "colorbar": {
              "outlinewidth": 0,
              "ticks": ""
             }
            },
            "type": "scattergl"
           }
          ],
          "scattermapbox": [
           {
            "marker": {
             "colorbar": {
              "outlinewidth": 0,
              "ticks": ""
             }
            },
            "type": "scattermapbox"
           }
          ],
          "scatterpolar": [
           {
            "marker": {
             "colorbar": {
              "outlinewidth": 0,
              "ticks": ""
             }
            },
            "type": "scatterpolar"
           }
          ],
          "scatterpolargl": [
           {
            "marker": {
             "colorbar": {
              "outlinewidth": 0,
              "ticks": ""
             }
            },
            "type": "scatterpolargl"
           }
          ],
          "scatterternary": [
           {
            "marker": {
             "colorbar": {
              "outlinewidth": 0,
              "ticks": ""
             }
            },
            "type": "scatterternary"
           }
          ],
          "surface": [
           {
            "colorbar": {
             "outlinewidth": 0,
             "ticks": ""
            },
            "colorscale": [
             [
              0,
              "#0d0887"
             ],
             [
              0.1111111111111111,
              "#46039f"
             ],
             [
              0.2222222222222222,
              "#7201a8"
             ],
             [
              0.3333333333333333,
              "#9c179e"
             ],
             [
              0.4444444444444444,
              "#bd3786"
             ],
             [
              0.5555555555555556,
              "#d8576b"
             ],
             [
              0.6666666666666666,
              "#ed7953"
             ],
             [
              0.7777777777777778,
              "#fb9f3a"
             ],
             [
              0.8888888888888888,
              "#fdca26"
             ],
             [
              1,
              "#f0f921"
             ]
            ],
            "type": "surface"
           }
          ],
          "table": [
           {
            "cells": {
             "fill": {
              "color": "#EBF0F8"
             },
             "line": {
              "color": "white"
             }
            },
            "header": {
             "fill": {
              "color": "#C8D4E3"
             },
             "line": {
              "color": "white"
             }
            },
            "type": "table"
           }
          ]
         },
         "layout": {
          "annotationdefaults": {
           "arrowcolor": "#2a3f5f",
           "arrowhead": 0,
           "arrowwidth": 1
          },
          "autotypenumbers": "strict",
          "coloraxis": {
           "colorbar": {
            "outlinewidth": 0,
            "ticks": ""
           }
          },
          "colorscale": {
           "diverging": [
            [
             0,
             "#8e0152"
            ],
            [
             0.1,
             "#c51b7d"
            ],
            [
             0.2,
             "#de77ae"
            ],
            [
             0.3,
             "#f1b6da"
            ],
            [
             0.4,
             "#fde0ef"
            ],
            [
             0.5,
             "#f7f7f7"
            ],
            [
             0.6,
             "#e6f5d0"
            ],
            [
             0.7,
             "#b8e186"
            ],
            [
             0.8,
             "#7fbc41"
            ],
            [
             0.9,
             "#4d9221"
            ],
            [
             1,
             "#276419"
            ]
           ],
           "sequential": [
            [
             0,
             "#0d0887"
            ],
            [
             0.1111111111111111,
             "#46039f"
            ],
            [
             0.2222222222222222,
             "#7201a8"
            ],
            [
             0.3333333333333333,
             "#9c179e"
            ],
            [
             0.4444444444444444,
             "#bd3786"
            ],
            [
             0.5555555555555556,
             "#d8576b"
            ],
            [
             0.6666666666666666,
             "#ed7953"
            ],
            [
             0.7777777777777778,
             "#fb9f3a"
            ],
            [
             0.8888888888888888,
             "#fdca26"
            ],
            [
             1,
             "#f0f921"
            ]
           ],
           "sequentialminus": [
            [
             0,
             "#0d0887"
            ],
            [
             0.1111111111111111,
             "#46039f"
            ],
            [
             0.2222222222222222,
             "#7201a8"
            ],
            [
             0.3333333333333333,
             "#9c179e"
            ],
            [
             0.4444444444444444,
             "#bd3786"
            ],
            [
             0.5555555555555556,
             "#d8576b"
            ],
            [
             0.6666666666666666,
             "#ed7953"
            ],
            [
             0.7777777777777778,
             "#fb9f3a"
            ],
            [
             0.8888888888888888,
             "#fdca26"
            ],
            [
             1,
             "#f0f921"
            ]
           ]
          },
          "colorway": [
           "#636efa",
           "#EF553B",
           "#00cc96",
           "#ab63fa",
           "#FFA15A",
           "#19d3f3",
           "#FF6692",
           "#B6E880",
           "#FF97FF",
           "#FECB52"
          ],
          "font": {
           "color": "#2a3f5f"
          },
          "geo": {
           "bgcolor": "white",
           "lakecolor": "white",
           "landcolor": "#E5ECF6",
           "showlakes": true,
           "showland": true,
           "subunitcolor": "white"
          },
          "hoverlabel": {
           "align": "left"
          },
          "hovermode": "closest",
          "mapbox": {
           "style": "light"
          },
          "paper_bgcolor": "white",
          "plot_bgcolor": "#E5ECF6",
          "polar": {
           "angularaxis": {
            "gridcolor": "white",
            "linecolor": "white",
            "ticks": ""
           },
           "bgcolor": "#E5ECF6",
           "radialaxis": {
            "gridcolor": "white",
            "linecolor": "white",
            "ticks": ""
           }
          },
          "scene": {
           "xaxis": {
            "backgroundcolor": "#E5ECF6",
            "gridcolor": "white",
            "gridwidth": 2,
            "linecolor": "white",
            "showbackground": true,
            "ticks": "",
            "zerolinecolor": "white"
           },
           "yaxis": {
            "backgroundcolor": "#E5ECF6",
            "gridcolor": "white",
            "gridwidth": 2,
            "linecolor": "white",
            "showbackground": true,
            "ticks": "",
            "zerolinecolor": "white"
           },
           "zaxis": {
            "backgroundcolor": "#E5ECF6",
            "gridcolor": "white",
            "gridwidth": 2,
            "linecolor": "white",
            "showbackground": true,
            "ticks": "",
            "zerolinecolor": "white"
           }
          },
          "shapedefaults": {
           "line": {
            "color": "#2a3f5f"
           }
          },
          "ternary": {
           "aaxis": {
            "gridcolor": "white",
            "linecolor": "white",
            "ticks": ""
           },
           "baxis": {
            "gridcolor": "white",
            "linecolor": "white",
            "ticks": ""
           },
           "bgcolor": "#E5ECF6",
           "caxis": {
            "gridcolor": "white",
            "linecolor": "white",
            "ticks": ""
           }
          },
          "title": {
           "x": 0.05
          },
          "xaxis": {
           "automargin": true,
           "gridcolor": "white",
           "linecolor": "white",
           "ticks": "",
           "title": {
            "standoff": 15
           },
           "zerolinecolor": "white",
           "zerolinewidth": 2
          },
          "yaxis": {
           "automargin": true,
           "gridcolor": "white",
           "linecolor": "white",
           "ticks": "",
           "title": {
            "standoff": 15
           },
           "zerolinecolor": "white",
           "zerolinewidth": 2
          }
         }
        },
        "title": {
         "text": "c_w_n"
        },
        "xaxis": {
         "anchor": "y",
         "domain": [
          0,
          1
         ],
         "title": {
          "text": "n"
         }
        },
        "yaxis": {
         "anchor": "x",
         "categoryarray": [
          "시간",
          "보다",
          "재미",
          "까지",
          "내용",
          "그냥",
          "ㅋㅋ",
          "배우",
          "감독",
          "보고",
          "감동",
          "사람",
          "드라마",
          "스토리",
          "이런",
          "생각",
          "최고",
          "연기",
          "평점",
          "진짜"
         ],
         "categoryorder": "array",
         "domain": [
          0,
          1
         ],
         "title": {
          "text": "c_w"
         }
        }
       }
      },
      "text/html": [
       "<div>                            <div id=\"a396f90d-7988-4ee7-b8f6-97d4884807b3\" class=\"plotly-graph-div\" style=\"height:525px; width:100%;\"></div>            <script type=\"text/javascript\">                require([\"plotly\"], function(Plotly) {                    window.PLOTLYENV=window.PLOTLYENV || {};                                    if (document.getElementById(\"a396f90d-7988-4ee7-b8f6-97d4884807b3\")) {                    Plotly.newPlot(                        \"a396f90d-7988-4ee7-b8f6-97d4884807b3\",                        [{\"alignmentgroup\":\"True\",\"hovertemplate\":\"c_w=%{y}<br>n=%{x}<extra></extra>\",\"legendgroup\":\"\\uc9c4\\uc9dc\",\"marker\":{\"color\":\"#636efa\",\"pattern\":{\"shape\":\"\"}},\"name\":\"\\uc9c4\\uc9dc\",\"offsetgroup\":\"\\uc9c4\\uc9dc\",\"orientation\":\"h\",\"showlegend\":true,\"textposition\":\"auto\",\"x\":[2927],\"xaxis\":\"x\",\"y\":[\"\\uc9c4\\uc9dc\"],\"yaxis\":\"y\",\"type\":\"bar\"},{\"alignmentgroup\":\"True\",\"hovertemplate\":\"c_w=%{y}<br>n=%{x}<extra></extra>\",\"legendgroup\":\"\\ud3c9\\uc810\",\"marker\":{\"color\":\"#EF553B\",\"pattern\":{\"shape\":\"\"}},\"name\":\"\\ud3c9\\uc810\",\"offsetgroup\":\"\\ud3c9\\uc810\",\"orientation\":\"h\",\"showlegend\":true,\"textposition\":\"auto\",\"x\":[2210],\"xaxis\":\"x\",\"y\":[\"\\ud3c9\\uc810\"],\"yaxis\":\"y\",\"type\":\"bar\"},{\"alignmentgroup\":\"True\",\"hovertemplate\":\"c_w=%{y}<br>n=%{x}<extra></extra>\",\"legendgroup\":\"\\uc5f0\\uae30\",\"marker\":{\"color\":\"#00cc96\",\"pattern\":{\"shape\":\"\"}},\"name\":\"\\uc5f0\\uae30\",\"offsetgroup\":\"\\uc5f0\\uae30\",\"orientation\":\"h\",\"showlegend\":true,\"textposition\":\"auto\",\"x\":[2161],\"xaxis\":\"x\",\"y\":[\"\\uc5f0\\uae30\"],\"yaxis\":\"y\",\"type\":\"bar\"},{\"alignmentgroup\":\"True\",\"hovertemplate\":\"c_w=%{y}<br>n=%{x}<extra></extra>\",\"legendgroup\":\"\\ucd5c\\uace0\",\"marker\":{\"color\":\"#ab63fa\",\"pattern\":{\"shape\":\"\"}},\"name\":\"\\ucd5c\\uace0\",\"offsetgroup\":\"\\ucd5c\\uace0\",\"orientation\":\"h\",\"showlegend\":true,\"textposition\":\"auto\",\"x\":[1950],\"xaxis\":\"x\",\"y\":[\"\\ucd5c\\uace0\"],\"yaxis\":\"y\",\"type\":\"bar\"},{\"alignmentgroup\":\"True\",\"hovertemplate\":\"c_w=%{y}<br>n=%{x}<extra></extra>\",\"legendgroup\":\"\\uc0dd\\uac01\",\"marker\":{\"color\":\"#FFA15A\",\"pattern\":{\"shape\":\"\"}},\"name\":\"\\uc0dd\\uac01\",\"offsetgroup\":\"\\uc0dd\\uac01\",\"orientation\":\"h\",\"showlegend\":true,\"textposition\":\"auto\",\"x\":[1824],\"xaxis\":\"x\",\"y\":[\"\\uc0dd\\uac01\"],\"yaxis\":\"y\",\"type\":\"bar\"},{\"alignmentgroup\":\"True\",\"hovertemplate\":\"c_w=%{y}<br>n=%{x}<extra></extra>\",\"legendgroup\":\"\\uc774\\ub7f0\",\"marker\":{\"color\":\"#19d3f3\",\"pattern\":{\"shape\":\"\"}},\"name\":\"\\uc774\\ub7f0\",\"offsetgroup\":\"\\uc774\\ub7f0\",\"orientation\":\"h\",\"showlegend\":true,\"textposition\":\"auto\",\"x\":[1749],\"xaxis\":\"x\",\"y\":[\"\\uc774\\ub7f0\"],\"yaxis\":\"y\",\"type\":\"bar\"},{\"alignmentgroup\":\"True\",\"hovertemplate\":\"c_w=%{y}<br>n=%{x}<extra></extra>\",\"legendgroup\":\"\\uc2a4\\ud1a0\\ub9ac\",\"marker\":{\"color\":\"#FF6692\",\"pattern\":{\"shape\":\"\"}},\"name\":\"\\uc2a4\\ud1a0\\ub9ac\",\"offsetgroup\":\"\\uc2a4\\ud1a0\\ub9ac\",\"orientation\":\"h\",\"showlegend\":true,\"textposition\":\"auto\",\"x\":[1696],\"xaxis\":\"x\",\"y\":[\"\\uc2a4\\ud1a0\\ub9ac\"],\"yaxis\":\"y\",\"type\":\"bar\"},{\"alignmentgroup\":\"True\",\"hovertemplate\":\"c_w=%{y}<br>n=%{x}<extra></extra>\",\"legendgroup\":\"\\ub4dc\\ub77c\\ub9c8\",\"marker\":{\"color\":\"#B6E880\",\"pattern\":{\"shape\":\"\"}},\"name\":\"\\ub4dc\\ub77c\\ub9c8\",\"offsetgroup\":\"\\ub4dc\\ub77c\\ub9c8\",\"orientation\":\"h\",\"showlegend\":true,\"textposition\":\"auto\",\"x\":[1642],\"xaxis\":\"x\",\"y\":[\"\\ub4dc\\ub77c\\ub9c8\"],\"yaxis\":\"y\",\"type\":\"bar\"},{\"alignmentgroup\":\"True\",\"hovertemplate\":\"c_w=%{y}<br>n=%{x}<extra></extra>\",\"legendgroup\":\"\\uc0ac\\ub78c\",\"marker\":{\"color\":\"#FF97FF\",\"pattern\":{\"shape\":\"\"}},\"name\":\"\\uc0ac\\ub78c\",\"offsetgroup\":\"\\uc0ac\\ub78c\",\"orientation\":\"h\",\"showlegend\":true,\"textposition\":\"auto\",\"x\":[1641],\"xaxis\":\"x\",\"y\":[\"\\uc0ac\\ub78c\"],\"yaxis\":\"y\",\"type\":\"bar\"},{\"alignmentgroup\":\"True\",\"hovertemplate\":\"c_w=%{y}<br>n=%{x}<extra></extra>\",\"legendgroup\":\"\\uac10\\ub3d9\",\"marker\":{\"color\":\"#FECB52\",\"pattern\":{\"shape\":\"\"}},\"name\":\"\\uac10\\ub3d9\",\"offsetgroup\":\"\\uac10\\ub3d9\",\"orientation\":\"h\",\"showlegend\":true,\"textposition\":\"auto\",\"x\":[1631],\"xaxis\":\"x\",\"y\":[\"\\uac10\\ub3d9\"],\"yaxis\":\"y\",\"type\":\"bar\"},{\"alignmentgroup\":\"True\",\"hovertemplate\":\"c_w=%{y}<br>n=%{x}<extra></extra>\",\"legendgroup\":\"\\ubcf4\\uace0\",\"marker\":{\"color\":\"#636efa\",\"pattern\":{\"shape\":\"\"}},\"name\":\"\\ubcf4\\uace0\",\"offsetgroup\":\"\\ubcf4\\uace0\",\"orientation\":\"h\",\"showlegend\":true,\"textposition\":\"auto\",\"x\":[1550],\"xaxis\":\"x\",\"y\":[\"\\ubcf4\\uace0\"],\"yaxis\":\"y\",\"type\":\"bar\"},{\"alignmentgroup\":\"True\",\"hovertemplate\":\"c_w=%{y}<br>n=%{x}<extra></extra>\",\"legendgroup\":\"\\uac10\\ub3c5\",\"marker\":{\"color\":\"#EF553B\",\"pattern\":{\"shape\":\"\"}},\"name\":\"\\uac10\\ub3c5\",\"offsetgroup\":\"\\uac10\\ub3c5\",\"orientation\":\"h\",\"showlegend\":true,\"textposition\":\"auto\",\"x\":[1411],\"xaxis\":\"x\",\"y\":[\"\\uac10\\ub3c5\"],\"yaxis\":\"y\",\"type\":\"bar\"},{\"alignmentgroup\":\"True\",\"hovertemplate\":\"c_w=%{y}<br>n=%{x}<extra></extra>\",\"legendgroup\":\"\\ubc30\\uc6b0\",\"marker\":{\"color\":\"#00cc96\",\"pattern\":{\"shape\":\"\"}},\"name\":\"\\ubc30\\uc6b0\",\"offsetgroup\":\"\\ubc30\\uc6b0\",\"orientation\":\"h\",\"showlegend\":true,\"textposition\":\"auto\",\"x\":[1401],\"xaxis\":\"x\",\"y\":[\"\\ubc30\\uc6b0\"],\"yaxis\":\"y\",\"type\":\"bar\"},{\"alignmentgroup\":\"True\",\"hovertemplate\":\"c_w=%{y}<br>n=%{x}<extra></extra>\",\"legendgroup\":\"\\u314b\\u314b\",\"marker\":{\"color\":\"#ab63fa\",\"pattern\":{\"shape\":\"\"}},\"name\":\"\\u314b\\u314b\",\"offsetgroup\":\"\\u314b\\u314b\",\"orientation\":\"h\",\"showlegend\":true,\"textposition\":\"auto\",\"x\":[1383],\"xaxis\":\"x\",\"y\":[\"\\u314b\\u314b\"],\"yaxis\":\"y\",\"type\":\"bar\"},{\"alignmentgroup\":\"True\",\"hovertemplate\":\"c_w=%{y}<br>n=%{x}<extra></extra>\",\"legendgroup\":\"\\uadf8\\ub0e5\",\"marker\":{\"color\":\"#FFA15A\",\"pattern\":{\"shape\":\"\"}},\"name\":\"\\uadf8\\ub0e5\",\"offsetgroup\":\"\\uadf8\\ub0e5\",\"orientation\":\"h\",\"showlegend\":true,\"textposition\":\"auto\",\"x\":[1350],\"xaxis\":\"x\",\"y\":[\"\\uadf8\\ub0e5\"],\"yaxis\":\"y\",\"type\":\"bar\"},{\"alignmentgroup\":\"True\",\"hovertemplate\":\"c_w=%{y}<br>n=%{x}<extra></extra>\",\"legendgroup\":\"\\ub0b4\\uc6a9\",\"marker\":{\"color\":\"#19d3f3\",\"pattern\":{\"shape\":\"\"}},\"name\":\"\\ub0b4\\uc6a9\",\"offsetgroup\":\"\\ub0b4\\uc6a9\",\"orientation\":\"h\",\"showlegend\":true,\"textposition\":\"auto\",\"x\":[1347],\"xaxis\":\"x\",\"y\":[\"\\ub0b4\\uc6a9\"],\"yaxis\":\"y\",\"type\":\"bar\"},{\"alignmentgroup\":\"True\",\"hovertemplate\":\"c_w=%{y}<br>n=%{x}<extra></extra>\",\"legendgroup\":\"\\uae4c\\uc9c0\",\"marker\":{\"color\":\"#FF6692\",\"pattern\":{\"shape\":\"\"}},\"name\":\"\\uae4c\\uc9c0\",\"offsetgroup\":\"\\uae4c\\uc9c0\",\"orientation\":\"h\",\"showlegend\":true,\"textposition\":\"auto\",\"x\":[1336],\"xaxis\":\"x\",\"y\":[\"\\uae4c\\uc9c0\"],\"yaxis\":\"y\",\"type\":\"bar\"},{\"alignmentgroup\":\"True\",\"hovertemplate\":\"c_w=%{y}<br>n=%{x}<extra></extra>\",\"legendgroup\":\"\\uc7ac\\ubbf8\",\"marker\":{\"color\":\"#B6E880\",\"pattern\":{\"shape\":\"\"}},\"name\":\"\\uc7ac\\ubbf8\",\"offsetgroup\":\"\\uc7ac\\ubbf8\",\"orientation\":\"h\",\"showlegend\":true,\"textposition\":\"auto\",\"x\":[1306],\"xaxis\":\"x\",\"y\":[\"\\uc7ac\\ubbf8\"],\"yaxis\":\"y\",\"type\":\"bar\"},{\"alignmentgroup\":\"True\",\"hovertemplate\":\"c_w=%{y}<br>n=%{x}<extra></extra>\",\"legendgroup\":\"\\ubcf4\\ub2e4\",\"marker\":{\"color\":\"#FF97FF\",\"pattern\":{\"shape\":\"\"}},\"name\":\"\\ubcf4\\ub2e4\",\"offsetgroup\":\"\\ubcf4\\ub2e4\",\"orientation\":\"h\",\"showlegend\":true,\"textposition\":\"auto\",\"x\":[1303],\"xaxis\":\"x\",\"y\":[\"\\ubcf4\\ub2e4\"],\"yaxis\":\"y\",\"type\":\"bar\"},{\"alignmentgroup\":\"True\",\"hovertemplate\":\"c_w=%{y}<br>n=%{x}<extra></extra>\",\"legendgroup\":\"\\uc2dc\\uac04\",\"marker\":{\"color\":\"#FECB52\",\"pattern\":{\"shape\":\"\"}},\"name\":\"\\uc2dc\\uac04\",\"offsetgroup\":\"\\uc2dc\\uac04\",\"orientation\":\"h\",\"showlegend\":true,\"textposition\":\"auto\",\"x\":[1279],\"xaxis\":\"x\",\"y\":[\"\\uc2dc\\uac04\"],\"yaxis\":\"y\",\"type\":\"bar\"}],                        {\"template\":{\"data\":{\"histogram2dcontour\":[{\"type\":\"histogram2dcontour\",\"colorbar\":{\"outlinewidth\":0,\"ticks\":\"\"},\"colorscale\":[[0.0,\"#0d0887\"],[0.1111111111111111,\"#46039f\"],[0.2222222222222222,\"#7201a8\"],[0.3333333333333333,\"#9c179e\"],[0.4444444444444444,\"#bd3786\"],[0.5555555555555556,\"#d8576b\"],[0.6666666666666666,\"#ed7953\"],[0.7777777777777778,\"#fb9f3a\"],[0.8888888888888888,\"#fdca26\"],[1.0,\"#f0f921\"]]}],\"choropleth\":[{\"type\":\"choropleth\",\"colorbar\":{\"outlinewidth\":0,\"ticks\":\"\"}}],\"histogram2d\":[{\"type\":\"histogram2d\",\"colorbar\":{\"outlinewidth\":0,\"ticks\":\"\"},\"colorscale\":[[0.0,\"#0d0887\"],[0.1111111111111111,\"#46039f\"],[0.2222222222222222,\"#7201a8\"],[0.3333333333333333,\"#9c179e\"],[0.4444444444444444,\"#bd3786\"],[0.5555555555555556,\"#d8576b\"],[0.6666666666666666,\"#ed7953\"],[0.7777777777777778,\"#fb9f3a\"],[0.8888888888888888,\"#fdca26\"],[1.0,\"#f0f921\"]]}],\"heatmap\":[{\"type\":\"heatmap\",\"colorbar\":{\"outlinewidth\":0,\"ticks\":\"\"},\"colorscale\":[[0.0,\"#0d0887\"],[0.1111111111111111,\"#46039f\"],[0.2222222222222222,\"#7201a8\"],[0.3333333333333333,\"#9c179e\"],[0.4444444444444444,\"#bd3786\"],[0.5555555555555556,\"#d8576b\"],[0.6666666666666666,\"#ed7953\"],[0.7777777777777778,\"#fb9f3a\"],[0.8888888888888888,\"#fdca26\"],[1.0,\"#f0f921\"]]}],\"heatmapgl\":[{\"type\":\"heatmapgl\",\"colorbar\":{\"outlinewidth\":0,\"ticks\":\"\"},\"colorscale\":[[0.0,\"#0d0887\"],[0.1111111111111111,\"#46039f\"],[0.2222222222222222,\"#7201a8\"],[0.3333333333333333,\"#9c179e\"],[0.4444444444444444,\"#bd3786\"],[0.5555555555555556,\"#d8576b\"],[0.6666666666666666,\"#ed7953\"],[0.7777777777777778,\"#fb9f3a\"],[0.8888888888888888,\"#fdca26\"],[1.0,\"#f0f921\"]]}],\"contourcarpet\":[{\"type\":\"contourcarpet\",\"colorbar\":{\"outlinewidth\":0,\"ticks\":\"\"}}],\"contour\":[{\"type\":\"contour\",\"colorbar\":{\"outlinewidth\":0,\"ticks\":\"\"},\"colorscale\":[[0.0,\"#0d0887\"],[0.1111111111111111,\"#46039f\"],[0.2222222222222222,\"#7201a8\"],[0.3333333333333333,\"#9c179e\"],[0.4444444444444444,\"#bd3786\"],[0.5555555555555556,\"#d8576b\"],[0.6666666666666666,\"#ed7953\"],[0.7777777777777778,\"#fb9f3a\"],[0.8888888888888888,\"#fdca26\"],[1.0,\"#f0f921\"]]}],\"surface\":[{\"type\":\"surface\",\"colorbar\":{\"outlinewidth\":0,\"ticks\":\"\"},\"colorscale\":[[0.0,\"#0d0887\"],[0.1111111111111111,\"#46039f\"],[0.2222222222222222,\"#7201a8\"],[0.3333333333333333,\"#9c179e\"],[0.4444444444444444,\"#bd3786\"],[0.5555555555555556,\"#d8576b\"],[0.6666666666666666,\"#ed7953\"],[0.7777777777777778,\"#fb9f3a\"],[0.8888888888888888,\"#fdca26\"],[1.0,\"#f0f921\"]]}],\"mesh3d\":[{\"type\":\"mesh3d\",\"colorbar\":{\"outlinewidth\":0,\"ticks\":\"\"}}],\"scatter\":[{\"fillpattern\":{\"fillmode\":\"overlay\",\"size\":10,\"solidity\":0.2},\"type\":\"scatter\"}],\"parcoords\":[{\"type\":\"parcoords\",\"line\":{\"colorbar\":{\"outlinewidth\":0,\"ticks\":\"\"}}}],\"scatterpolargl\":[{\"type\":\"scatterpolargl\",\"marker\":{\"colorbar\":{\"outlinewidth\":0,\"ticks\":\"\"}}}],\"bar\":[{\"error_x\":{\"color\":\"#2a3f5f\"},\"error_y\":{\"color\":\"#2a3f5f\"},\"marker\":{\"line\":{\"color\":\"#E5ECF6\",\"width\":0.5},\"pattern\":{\"fillmode\":\"overlay\",\"size\":10,\"solidity\":0.2}},\"type\":\"bar\"}],\"scattergeo\":[{\"type\":\"scattergeo\",\"marker\":{\"colorbar\":{\"outlinewidth\":0,\"ticks\":\"\"}}}],\"scatterpolar\":[{\"type\":\"scatterpolar\",\"marker\":{\"colorbar\":{\"outlinewidth\":0,\"ticks\":\"\"}}}],\"histogram\":[{\"marker\":{\"pattern\":{\"fillmode\":\"overlay\",\"size\":10,\"solidity\":0.2}},\"type\":\"histogram\"}],\"scattergl\":[{\"type\":\"scattergl\",\"marker\":{\"colorbar\":{\"outlinewidth\":0,\"ticks\":\"\"}}}],\"scatter3d\":[{\"type\":\"scatter3d\",\"line\":{\"colorbar\":{\"outlinewidth\":0,\"ticks\":\"\"}},\"marker\":{\"colorbar\":{\"outlinewidth\":0,\"ticks\":\"\"}}}],\"scattermapbox\":[{\"type\":\"scattermapbox\",\"marker\":{\"colorbar\":{\"outlinewidth\":0,\"ticks\":\"\"}}}],\"scatterternary\":[{\"type\":\"scatterternary\",\"marker\":{\"colorbar\":{\"outlinewidth\":0,\"ticks\":\"\"}}}],\"scattercarpet\":[{\"type\":\"scattercarpet\",\"marker\":{\"colorbar\":{\"outlinewidth\":0,\"ticks\":\"\"}}}],\"carpet\":[{\"aaxis\":{\"endlinecolor\":\"#2a3f5f\",\"gridcolor\":\"white\",\"linecolor\":\"white\",\"minorgridcolor\":\"white\",\"startlinecolor\":\"#2a3f5f\"},\"baxis\":{\"endlinecolor\":\"#2a3f5f\",\"gridcolor\":\"white\",\"linecolor\":\"white\",\"minorgridcolor\":\"white\",\"startlinecolor\":\"#2a3f5f\"},\"type\":\"carpet\"}],\"table\":[{\"cells\":{\"fill\":{\"color\":\"#EBF0F8\"},\"line\":{\"color\":\"white\"}},\"header\":{\"fill\":{\"color\":\"#C8D4E3\"},\"line\":{\"color\":\"white\"}},\"type\":\"table\"}],\"barpolar\":[{\"marker\":{\"line\":{\"color\":\"#E5ECF6\",\"width\":0.5},\"pattern\":{\"fillmode\":\"overlay\",\"size\":10,\"solidity\":0.2}},\"type\":\"barpolar\"}],\"pie\":[{\"automargin\":true,\"type\":\"pie\"}]},\"layout\":{\"autotypenumbers\":\"strict\",\"colorway\":[\"#636efa\",\"#EF553B\",\"#00cc96\",\"#ab63fa\",\"#FFA15A\",\"#19d3f3\",\"#FF6692\",\"#B6E880\",\"#FF97FF\",\"#FECB52\"],\"font\":{\"color\":\"#2a3f5f\"},\"hovermode\":\"closest\",\"hoverlabel\":{\"align\":\"left\"},\"paper_bgcolor\":\"white\",\"plot_bgcolor\":\"#E5ECF6\",\"polar\":{\"bgcolor\":\"#E5ECF6\",\"angularaxis\":{\"gridcolor\":\"white\",\"linecolor\":\"white\",\"ticks\":\"\"},\"radialaxis\":{\"gridcolor\":\"white\",\"linecolor\":\"white\",\"ticks\":\"\"}},\"ternary\":{\"bgcolor\":\"#E5ECF6\",\"aaxis\":{\"gridcolor\":\"white\",\"linecolor\":\"white\",\"ticks\":\"\"},\"baxis\":{\"gridcolor\":\"white\",\"linecolor\":\"white\",\"ticks\":\"\"},\"caxis\":{\"gridcolor\":\"white\",\"linecolor\":\"white\",\"ticks\":\"\"}},\"coloraxis\":{\"colorbar\":{\"outlinewidth\":0,\"ticks\":\"\"}},\"colorscale\":{\"sequential\":[[0.0,\"#0d0887\"],[0.1111111111111111,\"#46039f\"],[0.2222222222222222,\"#7201a8\"],[0.3333333333333333,\"#9c179e\"],[0.4444444444444444,\"#bd3786\"],[0.5555555555555556,\"#d8576b\"],[0.6666666666666666,\"#ed7953\"],[0.7777777777777778,\"#fb9f3a\"],[0.8888888888888888,\"#fdca26\"],[1.0,\"#f0f921\"]],\"sequentialminus\":[[0.0,\"#0d0887\"],[0.1111111111111111,\"#46039f\"],[0.2222222222222222,\"#7201a8\"],[0.3333333333333333,\"#9c179e\"],[0.4444444444444444,\"#bd3786\"],[0.5555555555555556,\"#d8576b\"],[0.6666666666666666,\"#ed7953\"],[0.7777777777777778,\"#fb9f3a\"],[0.8888888888888888,\"#fdca26\"],[1.0,\"#f0f921\"]],\"diverging\":[[0,\"#8e0152\"],[0.1,\"#c51b7d\"],[0.2,\"#de77ae\"],[0.3,\"#f1b6da\"],[0.4,\"#fde0ef\"],[0.5,\"#f7f7f7\"],[0.6,\"#e6f5d0\"],[0.7,\"#b8e186\"],[0.8,\"#7fbc41\"],[0.9,\"#4d9221\"],[1,\"#276419\"]]},\"xaxis\":{\"gridcolor\":\"white\",\"linecolor\":\"white\",\"ticks\":\"\",\"title\":{\"standoff\":15},\"zerolinecolor\":\"white\",\"automargin\":true,\"zerolinewidth\":2},\"yaxis\":{\"gridcolor\":\"white\",\"linecolor\":\"white\",\"ticks\":\"\",\"title\":{\"standoff\":15},\"zerolinecolor\":\"white\",\"automargin\":true,\"zerolinewidth\":2},\"scene\":{\"xaxis\":{\"backgroundcolor\":\"#E5ECF6\",\"gridcolor\":\"white\",\"linecolor\":\"white\",\"showbackground\":true,\"ticks\":\"\",\"zerolinecolor\":\"white\",\"gridwidth\":2},\"yaxis\":{\"backgroundcolor\":\"#E5ECF6\",\"gridcolor\":\"white\",\"linecolor\":\"white\",\"showbackground\":true,\"ticks\":\"\",\"zerolinecolor\":\"white\",\"gridwidth\":2},\"zaxis\":{\"backgroundcolor\":\"#E5ECF6\",\"gridcolor\":\"white\",\"linecolor\":\"white\",\"showbackground\":true,\"ticks\":\"\",\"zerolinecolor\":\"white\",\"gridwidth\":2}},\"shapedefaults\":{\"line\":{\"color\":\"#2a3f5f\"}},\"annotationdefaults\":{\"arrowcolor\":\"#2a3f5f\",\"arrowhead\":0,\"arrowwidth\":1},\"geo\":{\"bgcolor\":\"white\",\"landcolor\":\"#E5ECF6\",\"subunitcolor\":\"white\",\"showland\":true,\"showlakes\":true,\"lakecolor\":\"white\"},\"title\":{\"x\":0.05},\"mapbox\":{\"style\":\"light\"}}},\"xaxis\":{\"anchor\":\"y\",\"domain\":[0.0,1.0],\"title\":{\"text\":\"n\"}},\"yaxis\":{\"anchor\":\"x\",\"domain\":[0.0,1.0],\"title\":{\"text\":\"c_w\"},\"categoryorder\":\"array\",\"categoryarray\":[\"\\uc2dc\\uac04\",\"\\ubcf4\\ub2e4\",\"\\uc7ac\\ubbf8\",\"\\uae4c\\uc9c0\",\"\\ub0b4\\uc6a9\",\"\\uadf8\\ub0e5\",\"\\u314b\\u314b\",\"\\ubc30\\uc6b0\",\"\\uac10\\ub3c5\",\"\\ubcf4\\uace0\",\"\\uac10\\ub3d9\",\"\\uc0ac\\ub78c\",\"\\ub4dc\\ub77c\\ub9c8\",\"\\uc2a4\\ud1a0\\ub9ac\",\"\\uc774\\ub7f0\",\"\\uc0dd\\uac01\",\"\\ucd5c\\uace0\",\"\\uc5f0\\uae30\",\"\\ud3c9\\uc810\",\"\\uc9c4\\uc9dc\"]},\"legend\":{\"title\":{\"text\":\"c_w\"},\"tracegroupgap\":0},\"title\":{\"text\":\"c_w_n\"},\"barmode\":\"relative\"},                        {\"responsive\": true}                    ).then(function(){\n",
       "                            \n",
       "var gd = document.getElementById('a396f90d-7988-4ee7-b8f6-97d4884807b3');\n",
       "var x = new MutationObserver(function (mutations, observer) {{\n",
       "        var display = window.getComputedStyle(gd).display;\n",
       "        if (!display || display === 'none') {{\n",
       "            console.log([gd, 'removed!']);\n",
       "            Plotly.purge(gd);\n",
       "            observer.disconnect();\n",
       "        }}\n",
       "}});\n",
       "\n",
       "// Listen for the removal of the full notebook cells\n",
       "var notebookContainer = gd.closest('#notebook-container');\n",
       "if (notebookContainer) {{\n",
       "    x.observe(notebookContainer, {childList: true});\n",
       "}}\n",
       "\n",
       "// Listen for the clearing of the current output cell\n",
       "var outputEl = gd.closest('.output');\n",
       "if (outputEl) {{\n",
       "    x.observe(outputEl, {childList: true});\n",
       "}}\n",
       "\n",
       "                        })                };                });            </script>        </div>"
      ]
     },
     "metadata": {},
     "output_type": "display_data"
    }
   ],
   "source": [
    "fig=px.bar(v_df,x='n',y='c_w',orientation='h',title='c_w_n',color='c_w')#orientation:동작 형식\n",
    "fig.show()"
   ]
  },
  {
   "cell_type": "code",
   "execution_count": 52,
   "id": "bc06f0a7",
   "metadata": {},
   "outputs": [
    {
     "data": {
      "application/vnd.plotly.v1+json": {
       "config": {
        "plotlyServerURL": "https://plot.ly"
       },
       "data": [
        {
         "alignmentgroup": "True",
         "hovertemplate": "c_w=%{y}<br>n=%{x}<extra></extra>",
         "legendgroup": "배우 연기",
         "marker": {
          "color": "#636efa",
          "pattern": {
           "shape": ""
          }
         },
         "name": "배우 연기",
         "offsetgroup": "배우 연기",
         "orientation": "h",
         "showlegend": true,
         "textposition": "auto",
         "type": "bar",
         "x": [
          255
         ],
         "xaxis": "x",
         "y": [
          "배우 연기"
         ],
         "yaxis": "y"
        },
        {
         "alignmentgroup": "True",
         "hovertemplate": "c_w=%{y}<br>n=%{x}<extra></extra>",
         "legendgroup": "보는 내내",
         "marker": {
          "color": "#EF553B",
          "pattern": {
           "shape": ""
          }
         },
         "name": "보는 내내",
         "offsetgroup": "보는 내내",
         "orientation": "h",
         "showlegend": true,
         "textposition": "auto",
         "type": "bar",
         "x": [
          198
         ],
         "xaxis": "x",
         "y": [
          "보는 내내"
         ],
         "yaxis": "y"
        },
        {
         "alignmentgroup": "True",
         "hovertemplate": "c_w=%{y}<br>n=%{x}<extra></extra>",
         "legendgroup": "재미 없고",
         "marker": {
          "color": "#00cc96",
          "pattern": {
           "shape": ""
          }
         },
         "name": "재미 없고",
         "offsetgroup": "재미 없고",
         "orientation": "h",
         "showlegend": true,
         "textposition": "auto",
         "type": "bar",
         "x": [
          141
         ],
         "xaxis": "x",
         "y": [
          "재미 없고"
         ],
         "yaxis": "y"
        },
        {
         "alignmentgroup": "True",
         "hovertemplate": "c_w=%{y}<br>n=%{x}<extra></extra>",
         "legendgroup": "생각 보다",
         "marker": {
          "color": "#ab63fa",
          "pattern": {
           "shape": ""
          }
         },
         "name": "생각 보다",
         "offsetgroup": "생각 보다",
         "orientation": "h",
         "showlegend": true,
         "textposition": "auto",
         "type": "bar",
         "x": [
          139
         ],
         "xaxis": "x",
         "y": [
          "생각 보다"
         ],
         "yaxis": "y"
        },
        {
         "alignmentgroup": "True",
         "hovertemplate": "c_w=%{y}<br>n=%{x}<extra></extra>",
         "legendgroup": "다시 봐도",
         "marker": {
          "color": "#FFA15A",
          "pattern": {
           "shape": ""
          }
         },
         "name": "다시 봐도",
         "offsetgroup": "다시 봐도",
         "orientation": "h",
         "showlegend": true,
         "textposition": "auto",
         "type": "bar",
         "x": [
          130
         ],
         "xaxis": "x",
         "y": [
          "다시 봐도"
         ],
         "yaxis": "y"
        },
        {
         "alignmentgroup": "True",
         "hovertemplate": "c_w=%{y}<br>n=%{x}<extra></extra>",
         "legendgroup": "마지막 장면",
         "marker": {
          "color": "#19d3f3",
          "pattern": {
           "shape": ""
          }
         },
         "name": "마지막 장면",
         "offsetgroup": "마지막 장면",
         "orientation": "h",
         "showlegend": true,
         "textposition": "auto",
         "type": "bar",
         "x": [
          111
         ],
         "xaxis": "x",
         "y": [
          "마지막 장면"
         ],
         "yaxis": "y"
        },
        {
         "alignmentgroup": "True",
         "hovertemplate": "c_w=%{y}<br>n=%{x}<extra></extra>",
         "legendgroup": "처음 부터",
         "marker": {
          "color": "#FF6692",
          "pattern": {
           "shape": ""
          }
         },
         "name": "처음 부터",
         "offsetgroup": "처음 부터",
         "orientation": "h",
         "showlegend": true,
         "textposition": "auto",
         "type": "bar",
         "x": [
          111
         ],
         "xaxis": "x",
         "y": [
          "처음 부터"
         ],
         "yaxis": "y"
        },
        {
         "alignmentgroup": "True",
         "hovertemplate": "c_w=%{y}<br>n=%{x}<extra></extra>",
         "legendgroup": "최고 드라마",
         "marker": {
          "color": "#B6E880",
          "pattern": {
           "shape": ""
          }
         },
         "name": "최고 드라마",
         "offsetgroup": "최고 드라마",
         "orientation": "h",
         "showlegend": true,
         "textposition": "auto",
         "type": "bar",
         "x": [
          106
         ],
         "xaxis": "x",
         "y": [
          "최고 드라마"
         ],
         "yaxis": "y"
        },
        {
         "alignmentgroup": "True",
         "hovertemplate": "c_w=%{y}<br>n=%{x}<extra></extra>",
         "legendgroup": "라고 생각",
         "marker": {
          "color": "#FF97FF",
          "pattern": {
           "shape": ""
          }
         },
         "name": "라고 생각",
         "offsetgroup": "라고 생각",
         "orientation": "h",
         "showlegend": true,
         "textposition": "auto",
         "type": "bar",
         "x": [
          102
         ],
         "xaxis": "x",
         "y": [
          "라고 생각"
         ],
         "yaxis": "y"
        },
        {
         "alignmentgroup": "True",
         "hovertemplate": "c_w=%{y}<br>n=%{x}<extra></extra>",
         "legendgroup": "인생 최고",
         "marker": {
          "color": "#FECB52",
          "pattern": {
           "shape": ""
          }
         },
         "name": "인생 최고",
         "offsetgroup": "인생 최고",
         "orientation": "h",
         "showlegend": true,
         "textposition": "auto",
         "type": "bar",
         "x": [
          102
         ],
         "xaxis": "x",
         "y": [
          "인생 최고"
         ],
         "yaxis": "y"
        },
        {
         "alignmentgroup": "True",
         "hovertemplate": "c_w=%{y}<br>n=%{x}<extra></extra>",
         "legendgroup": "부터 까지",
         "marker": {
          "color": "#636efa",
          "pattern": {
           "shape": ""
          }
         },
         "name": "부터 까지",
         "offsetgroup": "부터 까지",
         "orientation": "h",
         "showlegend": true,
         "textposition": "auto",
         "type": "bar",
         "x": [
          100
         ],
         "xaxis": "x",
         "y": [
          "부터 까지"
         ],
         "yaxis": "y"
        },
        {
         "alignmentgroup": "True",
         "hovertemplate": "c_w=%{y}<br>n=%{x}<extra></extra>",
         "legendgroup": "점도 아깝다",
         "marker": {
          "color": "#EF553B",
          "pattern": {
           "shape": ""
          }
         },
         "name": "점도 아깝다",
         "offsetgroup": "점도 아깝다",
         "orientation": "h",
         "showlegend": true,
         "textposition": "auto",
         "type": "bar",
         "x": [
          100
         ],
         "xaxis": "x",
         "y": [
          "점도 아깝다"
         ],
         "yaxis": "y"
        },
        {
         "alignmentgroup": "True",
         "hovertemplate": "c_w=%{y}<br>n=%{x}<extra></extra>",
         "legendgroup": "보지 마세요",
         "marker": {
          "color": "#00cc96",
          "pattern": {
           "shape": ""
          }
         },
         "name": "보지 마세요",
         "offsetgroup": "보지 마세요",
         "orientation": "h",
         "showlegend": true,
         "textposition": "auto",
         "type": "bar",
         "x": [
          97
         ],
         "xaxis": "x",
         "y": [
          "보지 마세요"
         ],
         "yaxis": "y"
        },
        {
         "alignmentgroup": "True",
         "hovertemplate": "c_w=%{y}<br>n=%{x}<extra></extra>",
         "legendgroup": "지금 봐도",
         "marker": {
          "color": "#ab63fa",
          "pattern": {
           "shape": ""
          }
         },
         "name": "지금 봐도",
         "offsetgroup": "지금 봐도",
         "orientation": "h",
         "showlegend": true,
         "textposition": "auto",
         "type": "bar",
         "x": [
          93
         ],
         "xaxis": "x",
         "y": [
          "지금 봐도"
         ],
         "yaxis": "y"
        },
        {
         "alignmentgroup": "True",
         "hovertemplate": "c_w=%{y}<br>n=%{x}<extra></extra>",
         "legendgroup": "시간 아깝다",
         "marker": {
          "color": "#FFA15A",
          "pattern": {
           "shape": ""
          }
         },
         "name": "시간 아깝다",
         "offsetgroup": "시간 아깝다",
         "orientation": "h",
         "showlegend": true,
         "textposition": "auto",
         "type": "bar",
         "x": [
          91
         ],
         "xaxis": "x",
         "y": [
          "시간 아깝다"
         ],
         "yaxis": "y"
        },
        {
         "alignmentgroup": "True",
         "hovertemplate": "c_w=%{y}<br>n=%{x}<extra></extra>",
         "legendgroup": "지금 까지",
         "marker": {
          "color": "#19d3f3",
          "pattern": {
           "shape": ""
          }
         },
         "name": "지금 까지",
         "offsetgroup": "지금 까지",
         "orientation": "h",
         "showlegend": true,
         "textposition": "auto",
         "type": "bar",
         "x": [
          86
         ],
         "xaxis": "x",
         "y": [
          "지금 까지"
         ],
         "yaxis": "y"
        },
        {
         "alignmentgroup": "True",
         "hovertemplate": "c_w=%{y}<br>n=%{x}<extra></extra>",
         "legendgroup": "재미 없다",
         "marker": {
          "color": "#FF6692",
          "pattern": {
           "shape": ""
          }
         },
         "name": "재미 없다",
         "offsetgroup": "재미 없다",
         "orientation": "h",
         "showlegend": true,
         "textposition": "auto",
         "type": "bar",
         "x": [
          85
         ],
         "xaxis": "x",
         "y": [
          "재미 없다"
         ],
         "yaxis": "y"
        },
        {
         "alignmentgroup": "True",
         "hovertemplate": "c_w=%{y}<br>n=%{x}<extra></extra>",
         "legendgroup": "시간 낭비",
         "marker": {
          "color": "#B6E880",
          "pattern": {
           "shape": ""
          }
         },
         "name": "시간 낭비",
         "offsetgroup": "시간 낭비",
         "orientation": "h",
         "showlegend": true,
         "textposition": "auto",
         "type": "bar",
         "x": [
          83
         ],
         "xaxis": "x",
         "y": [
          "시간 낭비"
         ],
         "yaxis": "y"
        },
        {
         "alignmentgroup": "True",
         "hovertemplate": "c_w=%{y}<br>n=%{x}<extra></extra>",
         "legendgroup": "다시 한번",
         "marker": {
          "color": "#FF97FF",
          "pattern": {
           "shape": ""
          }
         },
         "name": "다시 한번",
         "offsetgroup": "다시 한번",
         "orientation": "h",
         "showlegend": true,
         "textposition": "auto",
         "type": "bar",
         "x": [
          83
         ],
         "xaxis": "x",
         "y": [
          "다시 한번"
         ],
         "yaxis": "y"
        },
        {
         "alignmentgroup": "True",
         "hovertemplate": "c_w=%{y}<br>n=%{x}<extra></extra>",
         "legendgroup": "감동 이고",
         "marker": {
          "color": "#FECB52",
          "pattern": {
           "shape": ""
          }
         },
         "name": "감동 이고",
         "offsetgroup": "감동 이고",
         "orientation": "h",
         "showlegend": true,
         "textposition": "auto",
         "type": "bar",
         "x": [
          82
         ],
         "xaxis": "x",
         "y": [
          "감동 이고"
         ],
         "yaxis": "y"
        }
       ],
       "layout": {
        "barmode": "relative",
        "legend": {
         "title": {
          "text": "c_w"
         },
         "tracegroupgap": 0
        },
        "template": {
         "data": {
          "bar": [
           {
            "error_x": {
             "color": "#2a3f5f"
            },
            "error_y": {
             "color": "#2a3f5f"
            },
            "marker": {
             "line": {
              "color": "#E5ECF6",
              "width": 0.5
             },
             "pattern": {
              "fillmode": "overlay",
              "size": 10,
              "solidity": 0.2
             }
            },
            "type": "bar"
           }
          ],
          "barpolar": [
           {
            "marker": {
             "line": {
              "color": "#E5ECF6",
              "width": 0.5
             },
             "pattern": {
              "fillmode": "overlay",
              "size": 10,
              "solidity": 0.2
             }
            },
            "type": "barpolar"
           }
          ],
          "carpet": [
           {
            "aaxis": {
             "endlinecolor": "#2a3f5f",
             "gridcolor": "white",
             "linecolor": "white",
             "minorgridcolor": "white",
             "startlinecolor": "#2a3f5f"
            },
            "baxis": {
             "endlinecolor": "#2a3f5f",
             "gridcolor": "white",
             "linecolor": "white",
             "minorgridcolor": "white",
             "startlinecolor": "#2a3f5f"
            },
            "type": "carpet"
           }
          ],
          "choropleth": [
           {
            "colorbar": {
             "outlinewidth": 0,
             "ticks": ""
            },
            "type": "choropleth"
           }
          ],
          "contour": [
           {
            "colorbar": {
             "outlinewidth": 0,
             "ticks": ""
            },
            "colorscale": [
             [
              0,
              "#0d0887"
             ],
             [
              0.1111111111111111,
              "#46039f"
             ],
             [
              0.2222222222222222,
              "#7201a8"
             ],
             [
              0.3333333333333333,
              "#9c179e"
             ],
             [
              0.4444444444444444,
              "#bd3786"
             ],
             [
              0.5555555555555556,
              "#d8576b"
             ],
             [
              0.6666666666666666,
              "#ed7953"
             ],
             [
              0.7777777777777778,
              "#fb9f3a"
             ],
             [
              0.8888888888888888,
              "#fdca26"
             ],
             [
              1,
              "#f0f921"
             ]
            ],
            "type": "contour"
           }
          ],
          "contourcarpet": [
           {
            "colorbar": {
             "outlinewidth": 0,
             "ticks": ""
            },
            "type": "contourcarpet"
           }
          ],
          "heatmap": [
           {
            "colorbar": {
             "outlinewidth": 0,
             "ticks": ""
            },
            "colorscale": [
             [
              0,
              "#0d0887"
             ],
             [
              0.1111111111111111,
              "#46039f"
             ],
             [
              0.2222222222222222,
              "#7201a8"
             ],
             [
              0.3333333333333333,
              "#9c179e"
             ],
             [
              0.4444444444444444,
              "#bd3786"
             ],
             [
              0.5555555555555556,
              "#d8576b"
             ],
             [
              0.6666666666666666,
              "#ed7953"
             ],
             [
              0.7777777777777778,
              "#fb9f3a"
             ],
             [
              0.8888888888888888,
              "#fdca26"
             ],
             [
              1,
              "#f0f921"
             ]
            ],
            "type": "heatmap"
           }
          ],
          "heatmapgl": [
           {
            "colorbar": {
             "outlinewidth": 0,
             "ticks": ""
            },
            "colorscale": [
             [
              0,
              "#0d0887"
             ],
             [
              0.1111111111111111,
              "#46039f"
             ],
             [
              0.2222222222222222,
              "#7201a8"
             ],
             [
              0.3333333333333333,
              "#9c179e"
             ],
             [
              0.4444444444444444,
              "#bd3786"
             ],
             [
              0.5555555555555556,
              "#d8576b"
             ],
             [
              0.6666666666666666,
              "#ed7953"
             ],
             [
              0.7777777777777778,
              "#fb9f3a"
             ],
             [
              0.8888888888888888,
              "#fdca26"
             ],
             [
              1,
              "#f0f921"
             ]
            ],
            "type": "heatmapgl"
           }
          ],
          "histogram": [
           {
            "marker": {
             "pattern": {
              "fillmode": "overlay",
              "size": 10,
              "solidity": 0.2
             }
            },
            "type": "histogram"
           }
          ],
          "histogram2d": [
           {
            "colorbar": {
             "outlinewidth": 0,
             "ticks": ""
            },
            "colorscale": [
             [
              0,
              "#0d0887"
             ],
             [
              0.1111111111111111,
              "#46039f"
             ],
             [
              0.2222222222222222,
              "#7201a8"
             ],
             [
              0.3333333333333333,
              "#9c179e"
             ],
             [
              0.4444444444444444,
              "#bd3786"
             ],
             [
              0.5555555555555556,
              "#d8576b"
             ],
             [
              0.6666666666666666,
              "#ed7953"
             ],
             [
              0.7777777777777778,
              "#fb9f3a"
             ],
             [
              0.8888888888888888,
              "#fdca26"
             ],
             [
              1,
              "#f0f921"
             ]
            ],
            "type": "histogram2d"
           }
          ],
          "histogram2dcontour": [
           {
            "colorbar": {
             "outlinewidth": 0,
             "ticks": ""
            },
            "colorscale": [
             [
              0,
              "#0d0887"
             ],
             [
              0.1111111111111111,
              "#46039f"
             ],
             [
              0.2222222222222222,
              "#7201a8"
             ],
             [
              0.3333333333333333,
              "#9c179e"
             ],
             [
              0.4444444444444444,
              "#bd3786"
             ],
             [
              0.5555555555555556,
              "#d8576b"
             ],
             [
              0.6666666666666666,
              "#ed7953"
             ],
             [
              0.7777777777777778,
              "#fb9f3a"
             ],
             [
              0.8888888888888888,
              "#fdca26"
             ],
             [
              1,
              "#f0f921"
             ]
            ],
            "type": "histogram2dcontour"
           }
          ],
          "mesh3d": [
           {
            "colorbar": {
             "outlinewidth": 0,
             "ticks": ""
            },
            "type": "mesh3d"
           }
          ],
          "parcoords": [
           {
            "line": {
             "colorbar": {
              "outlinewidth": 0,
              "ticks": ""
             }
            },
            "type": "parcoords"
           }
          ],
          "pie": [
           {
            "automargin": true,
            "type": "pie"
           }
          ],
          "scatter": [
           {
            "fillpattern": {
             "fillmode": "overlay",
             "size": 10,
             "solidity": 0.2
            },
            "type": "scatter"
           }
          ],
          "scatter3d": [
           {
            "line": {
             "colorbar": {
              "outlinewidth": 0,
              "ticks": ""
             }
            },
            "marker": {
             "colorbar": {
              "outlinewidth": 0,
              "ticks": ""
             }
            },
            "type": "scatter3d"
           }
          ],
          "scattercarpet": [
           {
            "marker": {
             "colorbar": {
              "outlinewidth": 0,
              "ticks": ""
             }
            },
            "type": "scattercarpet"
           }
          ],
          "scattergeo": [
           {
            "marker": {
             "colorbar": {
              "outlinewidth": 0,
              "ticks": ""
             }
            },
            "type": "scattergeo"
           }
          ],
          "scattergl": [
           {
            "marker": {
             "colorbar": {
              "outlinewidth": 0,
              "ticks": ""
             }
            },
            "type": "scattergl"
           }
          ],
          "scattermapbox": [
           {
            "marker": {
             "colorbar": {
              "outlinewidth": 0,
              "ticks": ""
             }
            },
            "type": "scattermapbox"
           }
          ],
          "scatterpolar": [
           {
            "marker": {
             "colorbar": {
              "outlinewidth": 0,
              "ticks": ""
             }
            },
            "type": "scatterpolar"
           }
          ],
          "scatterpolargl": [
           {
            "marker": {
             "colorbar": {
              "outlinewidth": 0,
              "ticks": ""
             }
            },
            "type": "scatterpolargl"
           }
          ],
          "scatterternary": [
           {
            "marker": {
             "colorbar": {
              "outlinewidth": 0,
              "ticks": ""
             }
            },
            "type": "scatterternary"
           }
          ],
          "surface": [
           {
            "colorbar": {
             "outlinewidth": 0,
             "ticks": ""
            },
            "colorscale": [
             [
              0,
              "#0d0887"
             ],
             [
              0.1111111111111111,
              "#46039f"
             ],
             [
              0.2222222222222222,
              "#7201a8"
             ],
             [
              0.3333333333333333,
              "#9c179e"
             ],
             [
              0.4444444444444444,
              "#bd3786"
             ],
             [
              0.5555555555555556,
              "#d8576b"
             ],
             [
              0.6666666666666666,
              "#ed7953"
             ],
             [
              0.7777777777777778,
              "#fb9f3a"
             ],
             [
              0.8888888888888888,
              "#fdca26"
             ],
             [
              1,
              "#f0f921"
             ]
            ],
            "type": "surface"
           }
          ],
          "table": [
           {
            "cells": {
             "fill": {
              "color": "#EBF0F8"
             },
             "line": {
              "color": "white"
             }
            },
            "header": {
             "fill": {
              "color": "#C8D4E3"
             },
             "line": {
              "color": "white"
             }
            },
            "type": "table"
           }
          ]
         },
         "layout": {
          "annotationdefaults": {
           "arrowcolor": "#2a3f5f",
           "arrowhead": 0,
           "arrowwidth": 1
          },
          "autotypenumbers": "strict",
          "coloraxis": {
           "colorbar": {
            "outlinewidth": 0,
            "ticks": ""
           }
          },
          "colorscale": {
           "diverging": [
            [
             0,
             "#8e0152"
            ],
            [
             0.1,
             "#c51b7d"
            ],
            [
             0.2,
             "#de77ae"
            ],
            [
             0.3,
             "#f1b6da"
            ],
            [
             0.4,
             "#fde0ef"
            ],
            [
             0.5,
             "#f7f7f7"
            ],
            [
             0.6,
             "#e6f5d0"
            ],
            [
             0.7,
             "#b8e186"
            ],
            [
             0.8,
             "#7fbc41"
            ],
            [
             0.9,
             "#4d9221"
            ],
            [
             1,
             "#276419"
            ]
           ],
           "sequential": [
            [
             0,
             "#0d0887"
            ],
            [
             0.1111111111111111,
             "#46039f"
            ],
            [
             0.2222222222222222,
             "#7201a8"
            ],
            [
             0.3333333333333333,
             "#9c179e"
            ],
            [
             0.4444444444444444,
             "#bd3786"
            ],
            [
             0.5555555555555556,
             "#d8576b"
            ],
            [
             0.6666666666666666,
             "#ed7953"
            ],
            [
             0.7777777777777778,
             "#fb9f3a"
            ],
            [
             0.8888888888888888,
             "#fdca26"
            ],
            [
             1,
             "#f0f921"
            ]
           ],
           "sequentialminus": [
            [
             0,
             "#0d0887"
            ],
            [
             0.1111111111111111,
             "#46039f"
            ],
            [
             0.2222222222222222,
             "#7201a8"
            ],
            [
             0.3333333333333333,
             "#9c179e"
            ],
            [
             0.4444444444444444,
             "#bd3786"
            ],
            [
             0.5555555555555556,
             "#d8576b"
            ],
            [
             0.6666666666666666,
             "#ed7953"
            ],
            [
             0.7777777777777778,
             "#fb9f3a"
            ],
            [
             0.8888888888888888,
             "#fdca26"
            ],
            [
             1,
             "#f0f921"
            ]
           ]
          },
          "colorway": [
           "#636efa",
           "#EF553B",
           "#00cc96",
           "#ab63fa",
           "#FFA15A",
           "#19d3f3",
           "#FF6692",
           "#B6E880",
           "#FF97FF",
           "#FECB52"
          ],
          "font": {
           "color": "#2a3f5f"
          },
          "geo": {
           "bgcolor": "white",
           "lakecolor": "white",
           "landcolor": "#E5ECF6",
           "showlakes": true,
           "showland": true,
           "subunitcolor": "white"
          },
          "hoverlabel": {
           "align": "left"
          },
          "hovermode": "closest",
          "mapbox": {
           "style": "light"
          },
          "paper_bgcolor": "white",
          "plot_bgcolor": "#E5ECF6",
          "polar": {
           "angularaxis": {
            "gridcolor": "white",
            "linecolor": "white",
            "ticks": ""
           },
           "bgcolor": "#E5ECF6",
           "radialaxis": {
            "gridcolor": "white",
            "linecolor": "white",
            "ticks": ""
           }
          },
          "scene": {
           "xaxis": {
            "backgroundcolor": "#E5ECF6",
            "gridcolor": "white",
            "gridwidth": 2,
            "linecolor": "white",
            "showbackground": true,
            "ticks": "",
            "zerolinecolor": "white"
           },
           "yaxis": {
            "backgroundcolor": "#E5ECF6",
            "gridcolor": "white",
            "gridwidth": 2,
            "linecolor": "white",
            "showbackground": true,
            "ticks": "",
            "zerolinecolor": "white"
           },
           "zaxis": {
            "backgroundcolor": "#E5ECF6",
            "gridcolor": "white",
            "gridwidth": 2,
            "linecolor": "white",
            "showbackground": true,
            "ticks": "",
            "zerolinecolor": "white"
           }
          },
          "shapedefaults": {
           "line": {
            "color": "#2a3f5f"
           }
          },
          "ternary": {
           "aaxis": {
            "gridcolor": "white",
            "linecolor": "white",
            "ticks": ""
           },
           "baxis": {
            "gridcolor": "white",
            "linecolor": "white",
            "ticks": ""
           },
           "bgcolor": "#E5ECF6",
           "caxis": {
            "gridcolor": "white",
            "linecolor": "white",
            "ticks": ""
           }
          },
          "title": {
           "x": 0.05
          },
          "xaxis": {
           "automargin": true,
           "gridcolor": "white",
           "linecolor": "white",
           "ticks": "",
           "title": {
            "standoff": 15
           },
           "zerolinecolor": "white",
           "zerolinewidth": 2
          },
          "yaxis": {
           "automargin": true,
           "gridcolor": "white",
           "linecolor": "white",
           "ticks": "",
           "title": {
            "standoff": 15
           },
           "zerolinecolor": "white",
           "zerolinewidth": 2
          }
         }
        },
        "title": {
         "text": "c_w_n"
        },
        "xaxis": {
         "anchor": "y",
         "domain": [
          0,
          1
         ],
         "title": {
          "text": "n"
         }
        },
        "yaxis": {
         "anchor": "x",
         "categoryarray": [
          "감동 이고",
          "다시 한번",
          "시간 낭비",
          "재미 없다",
          "지금 까지",
          "시간 아깝다",
          "지금 봐도",
          "보지 마세요",
          "점도 아깝다",
          "부터 까지",
          "인생 최고",
          "라고 생각",
          "최고 드라마",
          "처음 부터",
          "마지막 장면",
          "다시 봐도",
          "생각 보다",
          "재미 없고",
          "보는 내내",
          "배우 연기"
         ],
         "categoryorder": "array",
         "domain": [
          0,
          1
         ],
         "title": {
          "text": "c_w"
         }
        }
       }
      },
      "text/html": [
       "<div>                            <div id=\"d7e9a361-5e21-4586-a645-fe9c2d3d4429\" class=\"plotly-graph-div\" style=\"height:525px; width:100%;\"></div>            <script type=\"text/javascript\">                require([\"plotly\"], function(Plotly) {                    window.PLOTLYENV=window.PLOTLYENV || {};                                    if (document.getElementById(\"d7e9a361-5e21-4586-a645-fe9c2d3d4429\")) {                    Plotly.newPlot(                        \"d7e9a361-5e21-4586-a645-fe9c2d3d4429\",                        [{\"alignmentgroup\":\"True\",\"hovertemplate\":\"c_w=%{y}<br>n=%{x}<extra></extra>\",\"legendgroup\":\"\\ubc30\\uc6b0 \\uc5f0\\uae30\",\"marker\":{\"color\":\"#636efa\",\"pattern\":{\"shape\":\"\"}},\"name\":\"\\ubc30\\uc6b0 \\uc5f0\\uae30\",\"offsetgroup\":\"\\ubc30\\uc6b0 \\uc5f0\\uae30\",\"orientation\":\"h\",\"showlegend\":true,\"textposition\":\"auto\",\"x\":[255],\"xaxis\":\"x\",\"y\":[\"\\ubc30\\uc6b0 \\uc5f0\\uae30\"],\"yaxis\":\"y\",\"type\":\"bar\"},{\"alignmentgroup\":\"True\",\"hovertemplate\":\"c_w=%{y}<br>n=%{x}<extra></extra>\",\"legendgroup\":\"\\ubcf4\\ub294 \\ub0b4\\ub0b4\",\"marker\":{\"color\":\"#EF553B\",\"pattern\":{\"shape\":\"\"}},\"name\":\"\\ubcf4\\ub294 \\ub0b4\\ub0b4\",\"offsetgroup\":\"\\ubcf4\\ub294 \\ub0b4\\ub0b4\",\"orientation\":\"h\",\"showlegend\":true,\"textposition\":\"auto\",\"x\":[198],\"xaxis\":\"x\",\"y\":[\"\\ubcf4\\ub294 \\ub0b4\\ub0b4\"],\"yaxis\":\"y\",\"type\":\"bar\"},{\"alignmentgroup\":\"True\",\"hovertemplate\":\"c_w=%{y}<br>n=%{x}<extra></extra>\",\"legendgroup\":\"\\uc7ac\\ubbf8 \\uc5c6\\uace0\",\"marker\":{\"color\":\"#00cc96\",\"pattern\":{\"shape\":\"\"}},\"name\":\"\\uc7ac\\ubbf8 \\uc5c6\\uace0\",\"offsetgroup\":\"\\uc7ac\\ubbf8 \\uc5c6\\uace0\",\"orientation\":\"h\",\"showlegend\":true,\"textposition\":\"auto\",\"x\":[141],\"xaxis\":\"x\",\"y\":[\"\\uc7ac\\ubbf8 \\uc5c6\\uace0\"],\"yaxis\":\"y\",\"type\":\"bar\"},{\"alignmentgroup\":\"True\",\"hovertemplate\":\"c_w=%{y}<br>n=%{x}<extra></extra>\",\"legendgroup\":\"\\uc0dd\\uac01 \\ubcf4\\ub2e4\",\"marker\":{\"color\":\"#ab63fa\",\"pattern\":{\"shape\":\"\"}},\"name\":\"\\uc0dd\\uac01 \\ubcf4\\ub2e4\",\"offsetgroup\":\"\\uc0dd\\uac01 \\ubcf4\\ub2e4\",\"orientation\":\"h\",\"showlegend\":true,\"textposition\":\"auto\",\"x\":[139],\"xaxis\":\"x\",\"y\":[\"\\uc0dd\\uac01 \\ubcf4\\ub2e4\"],\"yaxis\":\"y\",\"type\":\"bar\"},{\"alignmentgroup\":\"True\",\"hovertemplate\":\"c_w=%{y}<br>n=%{x}<extra></extra>\",\"legendgroup\":\"\\ub2e4\\uc2dc \\ubd10\\ub3c4\",\"marker\":{\"color\":\"#FFA15A\",\"pattern\":{\"shape\":\"\"}},\"name\":\"\\ub2e4\\uc2dc \\ubd10\\ub3c4\",\"offsetgroup\":\"\\ub2e4\\uc2dc \\ubd10\\ub3c4\",\"orientation\":\"h\",\"showlegend\":true,\"textposition\":\"auto\",\"x\":[130],\"xaxis\":\"x\",\"y\":[\"\\ub2e4\\uc2dc \\ubd10\\ub3c4\"],\"yaxis\":\"y\",\"type\":\"bar\"},{\"alignmentgroup\":\"True\",\"hovertemplate\":\"c_w=%{y}<br>n=%{x}<extra></extra>\",\"legendgroup\":\"\\ub9c8\\uc9c0\\ub9c9 \\uc7a5\\uba74\",\"marker\":{\"color\":\"#19d3f3\",\"pattern\":{\"shape\":\"\"}},\"name\":\"\\ub9c8\\uc9c0\\ub9c9 \\uc7a5\\uba74\",\"offsetgroup\":\"\\ub9c8\\uc9c0\\ub9c9 \\uc7a5\\uba74\",\"orientation\":\"h\",\"showlegend\":true,\"textposition\":\"auto\",\"x\":[111],\"xaxis\":\"x\",\"y\":[\"\\ub9c8\\uc9c0\\ub9c9 \\uc7a5\\uba74\"],\"yaxis\":\"y\",\"type\":\"bar\"},{\"alignmentgroup\":\"True\",\"hovertemplate\":\"c_w=%{y}<br>n=%{x}<extra></extra>\",\"legendgroup\":\"\\ucc98\\uc74c \\ubd80\\ud130\",\"marker\":{\"color\":\"#FF6692\",\"pattern\":{\"shape\":\"\"}},\"name\":\"\\ucc98\\uc74c \\ubd80\\ud130\",\"offsetgroup\":\"\\ucc98\\uc74c \\ubd80\\ud130\",\"orientation\":\"h\",\"showlegend\":true,\"textposition\":\"auto\",\"x\":[111],\"xaxis\":\"x\",\"y\":[\"\\ucc98\\uc74c \\ubd80\\ud130\"],\"yaxis\":\"y\",\"type\":\"bar\"},{\"alignmentgroup\":\"True\",\"hovertemplate\":\"c_w=%{y}<br>n=%{x}<extra></extra>\",\"legendgroup\":\"\\ucd5c\\uace0 \\ub4dc\\ub77c\\ub9c8\",\"marker\":{\"color\":\"#B6E880\",\"pattern\":{\"shape\":\"\"}},\"name\":\"\\ucd5c\\uace0 \\ub4dc\\ub77c\\ub9c8\",\"offsetgroup\":\"\\ucd5c\\uace0 \\ub4dc\\ub77c\\ub9c8\",\"orientation\":\"h\",\"showlegend\":true,\"textposition\":\"auto\",\"x\":[106],\"xaxis\":\"x\",\"y\":[\"\\ucd5c\\uace0 \\ub4dc\\ub77c\\ub9c8\"],\"yaxis\":\"y\",\"type\":\"bar\"},{\"alignmentgroup\":\"True\",\"hovertemplate\":\"c_w=%{y}<br>n=%{x}<extra></extra>\",\"legendgroup\":\"\\ub77c\\uace0 \\uc0dd\\uac01\",\"marker\":{\"color\":\"#FF97FF\",\"pattern\":{\"shape\":\"\"}},\"name\":\"\\ub77c\\uace0 \\uc0dd\\uac01\",\"offsetgroup\":\"\\ub77c\\uace0 \\uc0dd\\uac01\",\"orientation\":\"h\",\"showlegend\":true,\"textposition\":\"auto\",\"x\":[102],\"xaxis\":\"x\",\"y\":[\"\\ub77c\\uace0 \\uc0dd\\uac01\"],\"yaxis\":\"y\",\"type\":\"bar\"},{\"alignmentgroup\":\"True\",\"hovertemplate\":\"c_w=%{y}<br>n=%{x}<extra></extra>\",\"legendgroup\":\"\\uc778\\uc0dd \\ucd5c\\uace0\",\"marker\":{\"color\":\"#FECB52\",\"pattern\":{\"shape\":\"\"}},\"name\":\"\\uc778\\uc0dd \\ucd5c\\uace0\",\"offsetgroup\":\"\\uc778\\uc0dd \\ucd5c\\uace0\",\"orientation\":\"h\",\"showlegend\":true,\"textposition\":\"auto\",\"x\":[102],\"xaxis\":\"x\",\"y\":[\"\\uc778\\uc0dd \\ucd5c\\uace0\"],\"yaxis\":\"y\",\"type\":\"bar\"},{\"alignmentgroup\":\"True\",\"hovertemplate\":\"c_w=%{y}<br>n=%{x}<extra></extra>\",\"legendgroup\":\"\\ubd80\\ud130 \\uae4c\\uc9c0\",\"marker\":{\"color\":\"#636efa\",\"pattern\":{\"shape\":\"\"}},\"name\":\"\\ubd80\\ud130 \\uae4c\\uc9c0\",\"offsetgroup\":\"\\ubd80\\ud130 \\uae4c\\uc9c0\",\"orientation\":\"h\",\"showlegend\":true,\"textposition\":\"auto\",\"x\":[100],\"xaxis\":\"x\",\"y\":[\"\\ubd80\\ud130 \\uae4c\\uc9c0\"],\"yaxis\":\"y\",\"type\":\"bar\"},{\"alignmentgroup\":\"True\",\"hovertemplate\":\"c_w=%{y}<br>n=%{x}<extra></extra>\",\"legendgroup\":\"\\uc810\\ub3c4 \\uc544\\uae5d\\ub2e4\",\"marker\":{\"color\":\"#EF553B\",\"pattern\":{\"shape\":\"\"}},\"name\":\"\\uc810\\ub3c4 \\uc544\\uae5d\\ub2e4\",\"offsetgroup\":\"\\uc810\\ub3c4 \\uc544\\uae5d\\ub2e4\",\"orientation\":\"h\",\"showlegend\":true,\"textposition\":\"auto\",\"x\":[100],\"xaxis\":\"x\",\"y\":[\"\\uc810\\ub3c4 \\uc544\\uae5d\\ub2e4\"],\"yaxis\":\"y\",\"type\":\"bar\"},{\"alignmentgroup\":\"True\",\"hovertemplate\":\"c_w=%{y}<br>n=%{x}<extra></extra>\",\"legendgroup\":\"\\ubcf4\\uc9c0 \\ub9c8\\uc138\\uc694\",\"marker\":{\"color\":\"#00cc96\",\"pattern\":{\"shape\":\"\"}},\"name\":\"\\ubcf4\\uc9c0 \\ub9c8\\uc138\\uc694\",\"offsetgroup\":\"\\ubcf4\\uc9c0 \\ub9c8\\uc138\\uc694\",\"orientation\":\"h\",\"showlegend\":true,\"textposition\":\"auto\",\"x\":[97],\"xaxis\":\"x\",\"y\":[\"\\ubcf4\\uc9c0 \\ub9c8\\uc138\\uc694\"],\"yaxis\":\"y\",\"type\":\"bar\"},{\"alignmentgroup\":\"True\",\"hovertemplate\":\"c_w=%{y}<br>n=%{x}<extra></extra>\",\"legendgroup\":\"\\uc9c0\\uae08 \\ubd10\\ub3c4\",\"marker\":{\"color\":\"#ab63fa\",\"pattern\":{\"shape\":\"\"}},\"name\":\"\\uc9c0\\uae08 \\ubd10\\ub3c4\",\"offsetgroup\":\"\\uc9c0\\uae08 \\ubd10\\ub3c4\",\"orientation\":\"h\",\"showlegend\":true,\"textposition\":\"auto\",\"x\":[93],\"xaxis\":\"x\",\"y\":[\"\\uc9c0\\uae08 \\ubd10\\ub3c4\"],\"yaxis\":\"y\",\"type\":\"bar\"},{\"alignmentgroup\":\"True\",\"hovertemplate\":\"c_w=%{y}<br>n=%{x}<extra></extra>\",\"legendgroup\":\"\\uc2dc\\uac04 \\uc544\\uae5d\\ub2e4\",\"marker\":{\"color\":\"#FFA15A\",\"pattern\":{\"shape\":\"\"}},\"name\":\"\\uc2dc\\uac04 \\uc544\\uae5d\\ub2e4\",\"offsetgroup\":\"\\uc2dc\\uac04 \\uc544\\uae5d\\ub2e4\",\"orientation\":\"h\",\"showlegend\":true,\"textposition\":\"auto\",\"x\":[91],\"xaxis\":\"x\",\"y\":[\"\\uc2dc\\uac04 \\uc544\\uae5d\\ub2e4\"],\"yaxis\":\"y\",\"type\":\"bar\"},{\"alignmentgroup\":\"True\",\"hovertemplate\":\"c_w=%{y}<br>n=%{x}<extra></extra>\",\"legendgroup\":\"\\uc9c0\\uae08 \\uae4c\\uc9c0\",\"marker\":{\"color\":\"#19d3f3\",\"pattern\":{\"shape\":\"\"}},\"name\":\"\\uc9c0\\uae08 \\uae4c\\uc9c0\",\"offsetgroup\":\"\\uc9c0\\uae08 \\uae4c\\uc9c0\",\"orientation\":\"h\",\"showlegend\":true,\"textposition\":\"auto\",\"x\":[86],\"xaxis\":\"x\",\"y\":[\"\\uc9c0\\uae08 \\uae4c\\uc9c0\"],\"yaxis\":\"y\",\"type\":\"bar\"},{\"alignmentgroup\":\"True\",\"hovertemplate\":\"c_w=%{y}<br>n=%{x}<extra></extra>\",\"legendgroup\":\"\\uc7ac\\ubbf8 \\uc5c6\\ub2e4\",\"marker\":{\"color\":\"#FF6692\",\"pattern\":{\"shape\":\"\"}},\"name\":\"\\uc7ac\\ubbf8 \\uc5c6\\ub2e4\",\"offsetgroup\":\"\\uc7ac\\ubbf8 \\uc5c6\\ub2e4\",\"orientation\":\"h\",\"showlegend\":true,\"textposition\":\"auto\",\"x\":[85],\"xaxis\":\"x\",\"y\":[\"\\uc7ac\\ubbf8 \\uc5c6\\ub2e4\"],\"yaxis\":\"y\",\"type\":\"bar\"},{\"alignmentgroup\":\"True\",\"hovertemplate\":\"c_w=%{y}<br>n=%{x}<extra></extra>\",\"legendgroup\":\"\\uc2dc\\uac04 \\ub0ad\\ube44\",\"marker\":{\"color\":\"#B6E880\",\"pattern\":{\"shape\":\"\"}},\"name\":\"\\uc2dc\\uac04 \\ub0ad\\ube44\",\"offsetgroup\":\"\\uc2dc\\uac04 \\ub0ad\\ube44\",\"orientation\":\"h\",\"showlegend\":true,\"textposition\":\"auto\",\"x\":[83],\"xaxis\":\"x\",\"y\":[\"\\uc2dc\\uac04 \\ub0ad\\ube44\"],\"yaxis\":\"y\",\"type\":\"bar\"},{\"alignmentgroup\":\"True\",\"hovertemplate\":\"c_w=%{y}<br>n=%{x}<extra></extra>\",\"legendgroup\":\"\\ub2e4\\uc2dc \\ud55c\\ubc88\",\"marker\":{\"color\":\"#FF97FF\",\"pattern\":{\"shape\":\"\"}},\"name\":\"\\ub2e4\\uc2dc \\ud55c\\ubc88\",\"offsetgroup\":\"\\ub2e4\\uc2dc \\ud55c\\ubc88\",\"orientation\":\"h\",\"showlegend\":true,\"textposition\":\"auto\",\"x\":[83],\"xaxis\":\"x\",\"y\":[\"\\ub2e4\\uc2dc \\ud55c\\ubc88\"],\"yaxis\":\"y\",\"type\":\"bar\"},{\"alignmentgroup\":\"True\",\"hovertemplate\":\"c_w=%{y}<br>n=%{x}<extra></extra>\",\"legendgroup\":\"\\uac10\\ub3d9 \\uc774\\uace0\",\"marker\":{\"color\":\"#FECB52\",\"pattern\":{\"shape\":\"\"}},\"name\":\"\\uac10\\ub3d9 \\uc774\\uace0\",\"offsetgroup\":\"\\uac10\\ub3d9 \\uc774\\uace0\",\"orientation\":\"h\",\"showlegend\":true,\"textposition\":\"auto\",\"x\":[82],\"xaxis\":\"x\",\"y\":[\"\\uac10\\ub3d9 \\uc774\\uace0\"],\"yaxis\":\"y\",\"type\":\"bar\"}],                        {\"template\":{\"data\":{\"histogram2dcontour\":[{\"type\":\"histogram2dcontour\",\"colorbar\":{\"outlinewidth\":0,\"ticks\":\"\"},\"colorscale\":[[0.0,\"#0d0887\"],[0.1111111111111111,\"#46039f\"],[0.2222222222222222,\"#7201a8\"],[0.3333333333333333,\"#9c179e\"],[0.4444444444444444,\"#bd3786\"],[0.5555555555555556,\"#d8576b\"],[0.6666666666666666,\"#ed7953\"],[0.7777777777777778,\"#fb9f3a\"],[0.8888888888888888,\"#fdca26\"],[1.0,\"#f0f921\"]]}],\"choropleth\":[{\"type\":\"choropleth\",\"colorbar\":{\"outlinewidth\":0,\"ticks\":\"\"}}],\"histogram2d\":[{\"type\":\"histogram2d\",\"colorbar\":{\"outlinewidth\":0,\"ticks\":\"\"},\"colorscale\":[[0.0,\"#0d0887\"],[0.1111111111111111,\"#46039f\"],[0.2222222222222222,\"#7201a8\"],[0.3333333333333333,\"#9c179e\"],[0.4444444444444444,\"#bd3786\"],[0.5555555555555556,\"#d8576b\"],[0.6666666666666666,\"#ed7953\"],[0.7777777777777778,\"#fb9f3a\"],[0.8888888888888888,\"#fdca26\"],[1.0,\"#f0f921\"]]}],\"heatmap\":[{\"type\":\"heatmap\",\"colorbar\":{\"outlinewidth\":0,\"ticks\":\"\"},\"colorscale\":[[0.0,\"#0d0887\"],[0.1111111111111111,\"#46039f\"],[0.2222222222222222,\"#7201a8\"],[0.3333333333333333,\"#9c179e\"],[0.4444444444444444,\"#bd3786\"],[0.5555555555555556,\"#d8576b\"],[0.6666666666666666,\"#ed7953\"],[0.7777777777777778,\"#fb9f3a\"],[0.8888888888888888,\"#fdca26\"],[1.0,\"#f0f921\"]]}],\"heatmapgl\":[{\"type\":\"heatmapgl\",\"colorbar\":{\"outlinewidth\":0,\"ticks\":\"\"},\"colorscale\":[[0.0,\"#0d0887\"],[0.1111111111111111,\"#46039f\"],[0.2222222222222222,\"#7201a8\"],[0.3333333333333333,\"#9c179e\"],[0.4444444444444444,\"#bd3786\"],[0.5555555555555556,\"#d8576b\"],[0.6666666666666666,\"#ed7953\"],[0.7777777777777778,\"#fb9f3a\"],[0.8888888888888888,\"#fdca26\"],[1.0,\"#f0f921\"]]}],\"contourcarpet\":[{\"type\":\"contourcarpet\",\"colorbar\":{\"outlinewidth\":0,\"ticks\":\"\"}}],\"contour\":[{\"type\":\"contour\",\"colorbar\":{\"outlinewidth\":0,\"ticks\":\"\"},\"colorscale\":[[0.0,\"#0d0887\"],[0.1111111111111111,\"#46039f\"],[0.2222222222222222,\"#7201a8\"],[0.3333333333333333,\"#9c179e\"],[0.4444444444444444,\"#bd3786\"],[0.5555555555555556,\"#d8576b\"],[0.6666666666666666,\"#ed7953\"],[0.7777777777777778,\"#fb9f3a\"],[0.8888888888888888,\"#fdca26\"],[1.0,\"#f0f921\"]]}],\"surface\":[{\"type\":\"surface\",\"colorbar\":{\"outlinewidth\":0,\"ticks\":\"\"},\"colorscale\":[[0.0,\"#0d0887\"],[0.1111111111111111,\"#46039f\"],[0.2222222222222222,\"#7201a8\"],[0.3333333333333333,\"#9c179e\"],[0.4444444444444444,\"#bd3786\"],[0.5555555555555556,\"#d8576b\"],[0.6666666666666666,\"#ed7953\"],[0.7777777777777778,\"#fb9f3a\"],[0.8888888888888888,\"#fdca26\"],[1.0,\"#f0f921\"]]}],\"mesh3d\":[{\"type\":\"mesh3d\",\"colorbar\":{\"outlinewidth\":0,\"ticks\":\"\"}}],\"scatter\":[{\"fillpattern\":{\"fillmode\":\"overlay\",\"size\":10,\"solidity\":0.2},\"type\":\"scatter\"}],\"parcoords\":[{\"type\":\"parcoords\",\"line\":{\"colorbar\":{\"outlinewidth\":0,\"ticks\":\"\"}}}],\"scatterpolargl\":[{\"type\":\"scatterpolargl\",\"marker\":{\"colorbar\":{\"outlinewidth\":0,\"ticks\":\"\"}}}],\"bar\":[{\"error_x\":{\"color\":\"#2a3f5f\"},\"error_y\":{\"color\":\"#2a3f5f\"},\"marker\":{\"line\":{\"color\":\"#E5ECF6\",\"width\":0.5},\"pattern\":{\"fillmode\":\"overlay\",\"size\":10,\"solidity\":0.2}},\"type\":\"bar\"}],\"scattergeo\":[{\"type\":\"scattergeo\",\"marker\":{\"colorbar\":{\"outlinewidth\":0,\"ticks\":\"\"}}}],\"scatterpolar\":[{\"type\":\"scatterpolar\",\"marker\":{\"colorbar\":{\"outlinewidth\":0,\"ticks\":\"\"}}}],\"histogram\":[{\"marker\":{\"pattern\":{\"fillmode\":\"overlay\",\"size\":10,\"solidity\":0.2}},\"type\":\"histogram\"}],\"scattergl\":[{\"type\":\"scattergl\",\"marker\":{\"colorbar\":{\"outlinewidth\":0,\"ticks\":\"\"}}}],\"scatter3d\":[{\"type\":\"scatter3d\",\"line\":{\"colorbar\":{\"outlinewidth\":0,\"ticks\":\"\"}},\"marker\":{\"colorbar\":{\"outlinewidth\":0,\"ticks\":\"\"}}}],\"scattermapbox\":[{\"type\":\"scattermapbox\",\"marker\":{\"colorbar\":{\"outlinewidth\":0,\"ticks\":\"\"}}}],\"scatterternary\":[{\"type\":\"scatterternary\",\"marker\":{\"colorbar\":{\"outlinewidth\":0,\"ticks\":\"\"}}}],\"scattercarpet\":[{\"type\":\"scattercarpet\",\"marker\":{\"colorbar\":{\"outlinewidth\":0,\"ticks\":\"\"}}}],\"carpet\":[{\"aaxis\":{\"endlinecolor\":\"#2a3f5f\",\"gridcolor\":\"white\",\"linecolor\":\"white\",\"minorgridcolor\":\"white\",\"startlinecolor\":\"#2a3f5f\"},\"baxis\":{\"endlinecolor\":\"#2a3f5f\",\"gridcolor\":\"white\",\"linecolor\":\"white\",\"minorgridcolor\":\"white\",\"startlinecolor\":\"#2a3f5f\"},\"type\":\"carpet\"}],\"table\":[{\"cells\":{\"fill\":{\"color\":\"#EBF0F8\"},\"line\":{\"color\":\"white\"}},\"header\":{\"fill\":{\"color\":\"#C8D4E3\"},\"line\":{\"color\":\"white\"}},\"type\":\"table\"}],\"barpolar\":[{\"marker\":{\"line\":{\"color\":\"#E5ECF6\",\"width\":0.5},\"pattern\":{\"fillmode\":\"overlay\",\"size\":10,\"solidity\":0.2}},\"type\":\"barpolar\"}],\"pie\":[{\"automargin\":true,\"type\":\"pie\"}]},\"layout\":{\"autotypenumbers\":\"strict\",\"colorway\":[\"#636efa\",\"#EF553B\",\"#00cc96\",\"#ab63fa\",\"#FFA15A\",\"#19d3f3\",\"#FF6692\",\"#B6E880\",\"#FF97FF\",\"#FECB52\"],\"font\":{\"color\":\"#2a3f5f\"},\"hovermode\":\"closest\",\"hoverlabel\":{\"align\":\"left\"},\"paper_bgcolor\":\"white\",\"plot_bgcolor\":\"#E5ECF6\",\"polar\":{\"bgcolor\":\"#E5ECF6\",\"angularaxis\":{\"gridcolor\":\"white\",\"linecolor\":\"white\",\"ticks\":\"\"},\"radialaxis\":{\"gridcolor\":\"white\",\"linecolor\":\"white\",\"ticks\":\"\"}},\"ternary\":{\"bgcolor\":\"#E5ECF6\",\"aaxis\":{\"gridcolor\":\"white\",\"linecolor\":\"white\",\"ticks\":\"\"},\"baxis\":{\"gridcolor\":\"white\",\"linecolor\":\"white\",\"ticks\":\"\"},\"caxis\":{\"gridcolor\":\"white\",\"linecolor\":\"white\",\"ticks\":\"\"}},\"coloraxis\":{\"colorbar\":{\"outlinewidth\":0,\"ticks\":\"\"}},\"colorscale\":{\"sequential\":[[0.0,\"#0d0887\"],[0.1111111111111111,\"#46039f\"],[0.2222222222222222,\"#7201a8\"],[0.3333333333333333,\"#9c179e\"],[0.4444444444444444,\"#bd3786\"],[0.5555555555555556,\"#d8576b\"],[0.6666666666666666,\"#ed7953\"],[0.7777777777777778,\"#fb9f3a\"],[0.8888888888888888,\"#fdca26\"],[1.0,\"#f0f921\"]],\"sequentialminus\":[[0.0,\"#0d0887\"],[0.1111111111111111,\"#46039f\"],[0.2222222222222222,\"#7201a8\"],[0.3333333333333333,\"#9c179e\"],[0.4444444444444444,\"#bd3786\"],[0.5555555555555556,\"#d8576b\"],[0.6666666666666666,\"#ed7953\"],[0.7777777777777778,\"#fb9f3a\"],[0.8888888888888888,\"#fdca26\"],[1.0,\"#f0f921\"]],\"diverging\":[[0,\"#8e0152\"],[0.1,\"#c51b7d\"],[0.2,\"#de77ae\"],[0.3,\"#f1b6da\"],[0.4,\"#fde0ef\"],[0.5,\"#f7f7f7\"],[0.6,\"#e6f5d0\"],[0.7,\"#b8e186\"],[0.8,\"#7fbc41\"],[0.9,\"#4d9221\"],[1,\"#276419\"]]},\"xaxis\":{\"gridcolor\":\"white\",\"linecolor\":\"white\",\"ticks\":\"\",\"title\":{\"standoff\":15},\"zerolinecolor\":\"white\",\"automargin\":true,\"zerolinewidth\":2},\"yaxis\":{\"gridcolor\":\"white\",\"linecolor\":\"white\",\"ticks\":\"\",\"title\":{\"standoff\":15},\"zerolinecolor\":\"white\",\"automargin\":true,\"zerolinewidth\":2},\"scene\":{\"xaxis\":{\"backgroundcolor\":\"#E5ECF6\",\"gridcolor\":\"white\",\"linecolor\":\"white\",\"showbackground\":true,\"ticks\":\"\",\"zerolinecolor\":\"white\",\"gridwidth\":2},\"yaxis\":{\"backgroundcolor\":\"#E5ECF6\",\"gridcolor\":\"white\",\"linecolor\":\"white\",\"showbackground\":true,\"ticks\":\"\",\"zerolinecolor\":\"white\",\"gridwidth\":2},\"zaxis\":{\"backgroundcolor\":\"#E5ECF6\",\"gridcolor\":\"white\",\"linecolor\":\"white\",\"showbackground\":true,\"ticks\":\"\",\"zerolinecolor\":\"white\",\"gridwidth\":2}},\"shapedefaults\":{\"line\":{\"color\":\"#2a3f5f\"}},\"annotationdefaults\":{\"arrowcolor\":\"#2a3f5f\",\"arrowhead\":0,\"arrowwidth\":1},\"geo\":{\"bgcolor\":\"white\",\"landcolor\":\"#E5ECF6\",\"subunitcolor\":\"white\",\"showland\":true,\"showlakes\":true,\"lakecolor\":\"white\"},\"title\":{\"x\":0.05},\"mapbox\":{\"style\":\"light\"}}},\"xaxis\":{\"anchor\":\"y\",\"domain\":[0.0,1.0],\"title\":{\"text\":\"n\"}},\"yaxis\":{\"anchor\":\"x\",\"domain\":[0.0,1.0],\"title\":{\"text\":\"c_w\"},\"categoryorder\":\"array\",\"categoryarray\":[\"\\uac10\\ub3d9 \\uc774\\uace0\",\"\\ub2e4\\uc2dc \\ud55c\\ubc88\",\"\\uc2dc\\uac04 \\ub0ad\\ube44\",\"\\uc7ac\\ubbf8 \\uc5c6\\ub2e4\",\"\\uc9c0\\uae08 \\uae4c\\uc9c0\",\"\\uc2dc\\uac04 \\uc544\\uae5d\\ub2e4\",\"\\uc9c0\\uae08 \\ubd10\\ub3c4\",\"\\ubcf4\\uc9c0 \\ub9c8\\uc138\\uc694\",\"\\uc810\\ub3c4 \\uc544\\uae5d\\ub2e4\",\"\\ubd80\\ud130 \\uae4c\\uc9c0\",\"\\uc778\\uc0dd \\ucd5c\\uace0\",\"\\ub77c\\uace0 \\uc0dd\\uac01\",\"\\ucd5c\\uace0 \\ub4dc\\ub77c\\ub9c8\",\"\\ucc98\\uc74c \\ubd80\\ud130\",\"\\ub9c8\\uc9c0\\ub9c9 \\uc7a5\\uba74\",\"\\ub2e4\\uc2dc \\ubd10\\ub3c4\",\"\\uc0dd\\uac01 \\ubcf4\\ub2e4\",\"\\uc7ac\\ubbf8 \\uc5c6\\uace0\",\"\\ubcf4\\ub294 \\ub0b4\\ub0b4\",\"\\ubc30\\uc6b0 \\uc5f0\\uae30\"]},\"legend\":{\"title\":{\"text\":\"c_w\"},\"tracegroupgap\":0},\"title\":{\"text\":\"c_w_n\"},\"barmode\":\"relative\"},                        {\"responsive\": true}                    ).then(function(){\n",
       "                            \n",
       "var gd = document.getElementById('d7e9a361-5e21-4586-a645-fe9c2d3d4429');\n",
       "var x = new MutationObserver(function (mutations, observer) {{\n",
       "        var display = window.getComputedStyle(gd).display;\n",
       "        if (!display || display === 'none') {{\n",
       "            console.log([gd, 'removed!']);\n",
       "            Plotly.purge(gd);\n",
       "            observer.disconnect();\n",
       "        }}\n",
       "}});\n",
       "\n",
       "// Listen for the removal of the full notebook cells\n",
       "var notebookContainer = gd.closest('#notebook-container');\n",
       "if (notebookContainer) {{\n",
       "    x.observe(notebookContainer, {childList: true});\n",
       "}}\n",
       "\n",
       "// Listen for the clearing of the current output cell\n",
       "var outputEl = gd.closest('.output');\n",
       "if (outputEl) {{\n",
       "    x.observe(outputEl, {childList: true});\n",
       "}}\n",
       "\n",
       "                        })                };                });            </script>        </div>"
      ]
     },
     "metadata": {},
     "output_type": "display_data"
    }
   ],
   "source": [
    "ck2_data=dict(N_그램_표현(df_d.document,20,2))\n",
    "v_df1=pd.DataFrame(columns=['c_w','n'])\n",
    "v_df1['c_w']=list(ck2_data.keys())\n",
    "v_df1['n']=list(ck2_data.values())\n",
    "fig=px.bar(v_df1,x='n',y='c_w',orientation='h',title='c_w_n',color='c_w')#orientation:동작 형식\n",
    "fig.show()"
   ]
  },
  {
   "cell_type": "code",
   "execution_count": 53,
   "id": "19017d0a",
   "metadata": {},
   "outputs": [
    {
     "data": {
      "application/vnd.plotly.v1+json": {
       "config": {
        "plotlyServerURL": "https://plot.ly"
       },
       "data": [
        {
         "alignmentgroup": "True",
         "hovertemplate": "c_w=%{y}<br>n=%{x}<extra></extra>",
         "legendgroup": "처음 부터 까지",
         "marker": {
          "color": "#636efa",
          "pattern": {
           "shape": ""
          }
         },
         "name": "처음 부터 까지",
         "offsetgroup": "처음 부터 까지",
         "orientation": "h",
         "showlegend": true,
         "textposition": "auto",
         "type": "bar",
         "x": [
          77
         ],
         "xaxis": "x",
         "y": [
          "처음 부터 까지"
         ],
         "yaxis": "y"
        },
        {
         "alignmentgroup": "True",
         "hovertemplate": "c_w=%{y}<br>n=%{x}<extra></extra>",
         "legendgroup": "노잼 노잼 노잼",
         "marker": {
          "color": "#EF553B",
          "pattern": {
           "shape": ""
          }
         },
         "name": "노잼 노잼 노잼",
         "offsetgroup": "노잼 노잼 노잼",
         "orientation": "h",
         "showlegend": true,
         "textposition": "auto",
         "type": "bar",
         "x": [
          46
         ],
         "xaxis": "x",
         "y": [
          "노잼 노잼 노잼"
         ],
         "yaxis": "y"
        },
        {
         "alignmentgroup": "True",
         "hovertemplate": "c_w=%{y}<br>n=%{x}<extra></extra>",
         "legendgroup": "없고 감동 없고",
         "marker": {
          "color": "#00cc96",
          "pattern": {
           "shape": ""
          }
         },
         "name": "없고 감동 없고",
         "offsetgroup": "없고 감동 없고",
         "orientation": "h",
         "showlegend": true,
         "textposition": "auto",
         "type": "bar",
         "x": [
          34
         ],
         "xaxis": "x",
         "y": [
          "없고 감동 없고"
         ],
         "yaxis": "y"
        },
        {
         "alignmentgroup": "True",
         "hovertemplate": "c_w=%{y}<br>n=%{x}<extra></extra>",
         "legendgroup": "시간 가는줄 모르고",
         "marker": {
          "color": "#ab63fa",
          "pattern": {
           "shape": ""
          }
         },
         "name": "시간 가는줄 모르고",
         "offsetgroup": "시간 가는줄 모르고",
         "orientation": "h",
         "showlegend": true,
         "textposition": "auto",
         "type": "bar",
         "x": [
          33
         ],
         "xaxis": "x",
         "y": [
          "시간 가는줄 모르고"
         ],
         "yaxis": "y"
        },
        {
         "alignmentgroup": "True",
         "hovertemplate": "c_w=%{y}<br>n=%{x}<extra></extra>",
         "legendgroup": "아무 생각 없이",
         "marker": {
          "color": "#FFA15A",
          "pattern": {
           "shape": ""
          }
         },
         "name": "아무 생각 없이",
         "offsetgroup": "아무 생각 없이",
         "orientation": "h",
         "showlegend": true,
         "textposition": "auto",
         "type": "bar",
         "x": [
          33
         ],
         "xaxis": "x",
         "y": [
          "아무 생각 없이"
         ],
         "yaxis": "y"
        },
        {
         "alignmentgroup": "True",
         "hovertemplate": "c_w=%{y}<br>n=%{x}<extra></extra>",
         "legendgroup": "재미 없고 감동",
         "marker": {
          "color": "#19d3f3",
          "pattern": {
           "shape": ""
          }
         },
         "name": "재미 없고 감동",
         "offsetgroup": "재미 없고 감동",
         "orientation": "h",
         "showlegend": true,
         "textposition": "auto",
         "type": "bar",
         "x": [
          32
         ],
         "xaxis": "x",
         "y": [
          "재미 없고 감동"
         ],
         "yaxis": "y"
        },
        {
         "alignmentgroup": "True",
         "hovertemplate": "c_w=%{y}<br>n=%{x}<extra></extra>",
         "legendgroup": "다시 보고 싶은",
         "marker": {
          "color": "#FF6692",
          "pattern": {
           "shape": ""
          }
         },
         "name": "다시 보고 싶은",
         "offsetgroup": "다시 보고 싶은",
         "orientation": "h",
         "showlegend": true,
         "textposition": "auto",
         "type": "bar",
         "x": [
          25
         ],
         "xaxis": "x",
         "y": [
          "다시 보고 싶은"
         ],
         "yaxis": "y"
        },
        {
         "alignmentgroup": "True",
         "hovertemplate": "c_w=%{y}<br>n=%{x}<extra></extra>",
         "legendgroup": "무슨 내용 인지",
         "marker": {
          "color": "#B6E880",
          "pattern": {
           "shape": ""
          }
         },
         "name": "무슨 내용 인지",
         "offsetgroup": "무슨 내용 인지",
         "orientation": "h",
         "showlegend": true,
         "textposition": "auto",
         "type": "bar",
         "x": [
          25
         ],
         "xaxis": "x",
         "y": [
          "무슨 내용 인지"
         ],
         "yaxis": "y"
        },
        {
         "alignmentgroup": "True",
         "hovertemplate": "c_w=%{y}<br>n=%{x}<extra></extra>",
         "legendgroup": "없고 재미 없고",
         "marker": {
          "color": "#FF97FF",
          "pattern": {
           "shape": ""
          }
         },
         "name": "없고 재미 없고",
         "offsetgroup": "없고 재미 없고",
         "orientation": "h",
         "showlegend": true,
         "textposition": "auto",
         "type": "bar",
         "x": [
          23
         ],
         "xaxis": "x",
         "y": [
          "없고 재미 없고"
         ],
         "yaxis": "y"
        },
        {
         "alignmentgroup": "True",
         "hovertemplate": "c_w=%{y}<br>n=%{x}<extra></extra>",
         "legendgroup": "인생 최고 드라마",
         "marker": {
          "color": "#FECB52",
          "pattern": {
           "shape": ""
          }
         },
         "name": "인생 최고 드라마",
         "offsetgroup": "인생 최고 드라마",
         "orientation": "h",
         "showlegend": true,
         "textposition": "auto",
         "type": "bar",
         "x": [
          21
         ],
         "xaxis": "x",
         "y": [
          "인생 최고 드라마"
         ],
         "yaxis": "y"
        },
        {
         "alignmentgroup": "True",
         "hovertemplate": "c_w=%{y}<br>n=%{x}<extra></extra>",
         "legendgroup": "절대 보지 마세요",
         "marker": {
          "color": "#636efa",
          "pattern": {
           "shape": ""
          }
         },
         "name": "절대 보지 마세요",
         "offsetgroup": "절대 보지 마세요",
         "orientation": "h",
         "showlegend": true,
         "textposition": "auto",
         "type": "bar",
         "x": [
          21
         ],
         "xaxis": "x",
         "y": [
          "절대 보지 마세요"
         ],
         "yaxis": "y"
        },
        {
         "alignmentgroup": "True",
         "hovertemplate": "c_w=%{y}<br>n=%{x}<extra></extra>",
         "legendgroup": "다시 한번 생각",
         "marker": {
          "color": "#EF553B",
          "pattern": {
           "shape": ""
          }
         },
         "name": "다시 한번 생각",
         "offsetgroup": "다시 한번 생각",
         "orientation": "h",
         "showlegend": true,
         "textposition": "auto",
         "type": "bar",
         "x": [
          20
         ],
         "xaxis": "x",
         "y": [
          "다시 한번 생각"
         ],
         "yaxis": "y"
        },
        {
         "alignmentgroup": "True",
         "hovertemplate": "c_w=%{y}<br>n=%{x}<extra></extra>",
         "legendgroup": "최고 최고 최고",
         "marker": {
          "color": "#00cc96",
          "pattern": {
           "shape": ""
          }
         },
         "name": "최고 최고 최고",
         "offsetgroup": "최고 최고 최고",
         "orientation": "h",
         "showlegend": true,
         "textposition": "auto",
         "type": "bar",
         "x": [
          19
         ],
         "xaxis": "x",
         "y": [
          "최고 최고 최고"
         ],
         "yaxis": "y"
        },
        {
         "alignmentgroup": "True",
         "hovertemplate": "c_w=%{y}<br>n=%{x}<extra></extra>",
         "legendgroup": "개연 성도 없고",
         "marker": {
          "color": "#ab63fa",
          "pattern": {
           "shape": ""
          }
         },
         "name": "개연 성도 없고",
         "offsetgroup": "개연 성도 없고",
         "orientation": "h",
         "showlegend": true,
         "textposition": "auto",
         "type": "bar",
         "x": [
          19
         ],
         "xaxis": "x",
         "y": [
          "개연 성도 없고"
         ],
         "yaxis": "y"
        },
        {
         "alignmentgroup": "True",
         "hovertemplate": "c_w=%{y}<br>n=%{x}<extra></extra>",
         "legendgroup": "재미 더럽게 없다",
         "marker": {
          "color": "#FFA15A",
          "pattern": {
           "shape": ""
          }
         },
         "name": "재미 더럽게 없다",
         "offsetgroup": "재미 더럽게 없다",
         "orientation": "h",
         "showlegend": true,
         "textposition": "auto",
         "type": "bar",
         "x": [
          18
         ],
         "xaxis": "x",
         "y": [
          "재미 더럽게 없다"
         ],
         "yaxis": "y"
        },
        {
         "alignmentgroup": "True",
         "hovertemplate": "c_w=%{y}<br>n=%{x}<extra></extra>",
         "legendgroup": "대해 다시 생각",
         "marker": {
          "color": "#19d3f3",
          "pattern": {
           "shape": ""
          }
         },
         "name": "대해 다시 생각",
         "offsetgroup": "대해 다시 생각",
         "orientation": "h",
         "showlegend": true,
         "textposition": "auto",
         "type": "bar",
         "x": [
          16
         ],
         "xaxis": "x",
         "y": [
          "대해 다시 생각"
         ],
         "yaxis": "y"
        },
        {
         "alignmentgroup": "True",
         "hovertemplate": "c_w=%{y}<br>n=%{x}<extra></extra>",
         "legendgroup": "대사 하나 하나",
         "marker": {
          "color": "#FF6692",
          "pattern": {
           "shape": ""
          }
         },
         "name": "대사 하나 하나",
         "offsetgroup": "대사 하나 하나",
         "orientation": "h",
         "showlegend": true,
         "textposition": "auto",
         "type": "bar",
         "x": [
          16
         ],
         "xaxis": "x",
         "y": [
          "대사 하나 하나"
         ],
         "yaxis": "y"
        },
        {
         "alignmentgroup": "True",
         "hovertemplate": "c_w=%{y}<br>n=%{x}<extra></extra>",
         "legendgroup": "이런 쓰레기 같은",
         "marker": {
          "color": "#B6E880",
          "pattern": {
           "shape": ""
          }
         },
         "name": "이런 쓰레기 같은",
         "offsetgroup": "이런 쓰레기 같은",
         "orientation": "h",
         "showlegend": true,
         "textposition": "auto",
         "type": "bar",
         "x": [
          15
         ],
         "xaxis": "x",
         "y": [
          "이런 쓰레기 같은"
         ],
         "yaxis": "y"
        },
        {
         "alignmentgroup": "True",
         "hovertemplate": "c_w=%{y}<br>n=%{x}<extra></extra>",
         "legendgroup": "라고 생각 합니다",
         "marker": {
          "color": "#FF97FF",
          "pattern": {
           "shape": ""
          }
         },
         "name": "라고 생각 합니다",
         "offsetgroup": "라고 생각 합니다",
         "orientation": "h",
         "showlegend": true,
         "textposition": "auto",
         "type": "bar",
         "x": [
          15
         ],
         "xaxis": "x",
         "y": [
          "라고 생각 합니다"
         ],
         "yaxis": "y"
        },
        {
         "alignmentgroup": "True",
         "hovertemplate": "c_w=%{y}<br>n=%{x}<extra></extra>",
         "legendgroup": "생각 보다 평점",
         "marker": {
          "color": "#FECB52",
          "pattern": {
           "shape": ""
          }
         },
         "name": "생각 보다 평점",
         "offsetgroup": "생각 보다 평점",
         "orientation": "h",
         "showlegend": true,
         "textposition": "auto",
         "type": "bar",
         "x": [
          14
         ],
         "xaxis": "x",
         "y": [
          "생각 보다 평점"
         ],
         "yaxis": "y"
        }
       ],
       "layout": {
        "barmode": "relative",
        "legend": {
         "title": {
          "text": "c_w"
         },
         "tracegroupgap": 0
        },
        "template": {
         "data": {
          "bar": [
           {
            "error_x": {
             "color": "#2a3f5f"
            },
            "error_y": {
             "color": "#2a3f5f"
            },
            "marker": {
             "line": {
              "color": "#E5ECF6",
              "width": 0.5
             },
             "pattern": {
              "fillmode": "overlay",
              "size": 10,
              "solidity": 0.2
             }
            },
            "type": "bar"
           }
          ],
          "barpolar": [
           {
            "marker": {
             "line": {
              "color": "#E5ECF6",
              "width": 0.5
             },
             "pattern": {
              "fillmode": "overlay",
              "size": 10,
              "solidity": 0.2
             }
            },
            "type": "barpolar"
           }
          ],
          "carpet": [
           {
            "aaxis": {
             "endlinecolor": "#2a3f5f",
             "gridcolor": "white",
             "linecolor": "white",
             "minorgridcolor": "white",
             "startlinecolor": "#2a3f5f"
            },
            "baxis": {
             "endlinecolor": "#2a3f5f",
             "gridcolor": "white",
             "linecolor": "white",
             "minorgridcolor": "white",
             "startlinecolor": "#2a3f5f"
            },
            "type": "carpet"
           }
          ],
          "choropleth": [
           {
            "colorbar": {
             "outlinewidth": 0,
             "ticks": ""
            },
            "type": "choropleth"
           }
          ],
          "contour": [
           {
            "colorbar": {
             "outlinewidth": 0,
             "ticks": ""
            },
            "colorscale": [
             [
              0,
              "#0d0887"
             ],
             [
              0.1111111111111111,
              "#46039f"
             ],
             [
              0.2222222222222222,
              "#7201a8"
             ],
             [
              0.3333333333333333,
              "#9c179e"
             ],
             [
              0.4444444444444444,
              "#bd3786"
             ],
             [
              0.5555555555555556,
              "#d8576b"
             ],
             [
              0.6666666666666666,
              "#ed7953"
             ],
             [
              0.7777777777777778,
              "#fb9f3a"
             ],
             [
              0.8888888888888888,
              "#fdca26"
             ],
             [
              1,
              "#f0f921"
             ]
            ],
            "type": "contour"
           }
          ],
          "contourcarpet": [
           {
            "colorbar": {
             "outlinewidth": 0,
             "ticks": ""
            },
            "type": "contourcarpet"
           }
          ],
          "heatmap": [
           {
            "colorbar": {
             "outlinewidth": 0,
             "ticks": ""
            },
            "colorscale": [
             [
              0,
              "#0d0887"
             ],
             [
              0.1111111111111111,
              "#46039f"
             ],
             [
              0.2222222222222222,
              "#7201a8"
             ],
             [
              0.3333333333333333,
              "#9c179e"
             ],
             [
              0.4444444444444444,
              "#bd3786"
             ],
             [
              0.5555555555555556,
              "#d8576b"
             ],
             [
              0.6666666666666666,
              "#ed7953"
             ],
             [
              0.7777777777777778,
              "#fb9f3a"
             ],
             [
              0.8888888888888888,
              "#fdca26"
             ],
             [
              1,
              "#f0f921"
             ]
            ],
            "type": "heatmap"
           }
          ],
          "heatmapgl": [
           {
            "colorbar": {
             "outlinewidth": 0,
             "ticks": ""
            },
            "colorscale": [
             [
              0,
              "#0d0887"
             ],
             [
              0.1111111111111111,
              "#46039f"
             ],
             [
              0.2222222222222222,
              "#7201a8"
             ],
             [
              0.3333333333333333,
              "#9c179e"
             ],
             [
              0.4444444444444444,
              "#bd3786"
             ],
             [
              0.5555555555555556,
              "#d8576b"
             ],
             [
              0.6666666666666666,
              "#ed7953"
             ],
             [
              0.7777777777777778,
              "#fb9f3a"
             ],
             [
              0.8888888888888888,
              "#fdca26"
             ],
             [
              1,
              "#f0f921"
             ]
            ],
            "type": "heatmapgl"
           }
          ],
          "histogram": [
           {
            "marker": {
             "pattern": {
              "fillmode": "overlay",
              "size": 10,
              "solidity": 0.2
             }
            },
            "type": "histogram"
           }
          ],
          "histogram2d": [
           {
            "colorbar": {
             "outlinewidth": 0,
             "ticks": ""
            },
            "colorscale": [
             [
              0,
              "#0d0887"
             ],
             [
              0.1111111111111111,
              "#46039f"
             ],
             [
              0.2222222222222222,
              "#7201a8"
             ],
             [
              0.3333333333333333,
              "#9c179e"
             ],
             [
              0.4444444444444444,
              "#bd3786"
             ],
             [
              0.5555555555555556,
              "#d8576b"
             ],
             [
              0.6666666666666666,
              "#ed7953"
             ],
             [
              0.7777777777777778,
              "#fb9f3a"
             ],
             [
              0.8888888888888888,
              "#fdca26"
             ],
             [
              1,
              "#f0f921"
             ]
            ],
            "type": "histogram2d"
           }
          ],
          "histogram2dcontour": [
           {
            "colorbar": {
             "outlinewidth": 0,
             "ticks": ""
            },
            "colorscale": [
             [
              0,
              "#0d0887"
             ],
             [
              0.1111111111111111,
              "#46039f"
             ],
             [
              0.2222222222222222,
              "#7201a8"
             ],
             [
              0.3333333333333333,
              "#9c179e"
             ],
             [
              0.4444444444444444,
              "#bd3786"
             ],
             [
              0.5555555555555556,
              "#d8576b"
             ],
             [
              0.6666666666666666,
              "#ed7953"
             ],
             [
              0.7777777777777778,
              "#fb9f3a"
             ],
             [
              0.8888888888888888,
              "#fdca26"
             ],
             [
              1,
              "#f0f921"
             ]
            ],
            "type": "histogram2dcontour"
           }
          ],
          "mesh3d": [
           {
            "colorbar": {
             "outlinewidth": 0,
             "ticks": ""
            },
            "type": "mesh3d"
           }
          ],
          "parcoords": [
           {
            "line": {
             "colorbar": {
              "outlinewidth": 0,
              "ticks": ""
             }
            },
            "type": "parcoords"
           }
          ],
          "pie": [
           {
            "automargin": true,
            "type": "pie"
           }
          ],
          "scatter": [
           {
            "fillpattern": {
             "fillmode": "overlay",
             "size": 10,
             "solidity": 0.2
            },
            "type": "scatter"
           }
          ],
          "scatter3d": [
           {
            "line": {
             "colorbar": {
              "outlinewidth": 0,
              "ticks": ""
             }
            },
            "marker": {
             "colorbar": {
              "outlinewidth": 0,
              "ticks": ""
             }
            },
            "type": "scatter3d"
           }
          ],
          "scattercarpet": [
           {
            "marker": {
             "colorbar": {
              "outlinewidth": 0,
              "ticks": ""
             }
            },
            "type": "scattercarpet"
           }
          ],
          "scattergeo": [
           {
            "marker": {
             "colorbar": {
              "outlinewidth": 0,
              "ticks": ""
             }
            },
            "type": "scattergeo"
           }
          ],
          "scattergl": [
           {
            "marker": {
             "colorbar": {
              "outlinewidth": 0,
              "ticks": ""
             }
            },
            "type": "scattergl"
           }
          ],
          "scattermapbox": [
           {
            "marker": {
             "colorbar": {
              "outlinewidth": 0,
              "ticks": ""
             }
            },
            "type": "scattermapbox"
           }
          ],
          "scatterpolar": [
           {
            "marker": {
             "colorbar": {
              "outlinewidth": 0,
              "ticks": ""
             }
            },
            "type": "scatterpolar"
           }
          ],
          "scatterpolargl": [
           {
            "marker": {
             "colorbar": {
              "outlinewidth": 0,
              "ticks": ""
             }
            },
            "type": "scatterpolargl"
           }
          ],
          "scatterternary": [
           {
            "marker": {
             "colorbar": {
              "outlinewidth": 0,
              "ticks": ""
             }
            },
            "type": "scatterternary"
           }
          ],
          "surface": [
           {
            "colorbar": {
             "outlinewidth": 0,
             "ticks": ""
            },
            "colorscale": [
             [
              0,
              "#0d0887"
             ],
             [
              0.1111111111111111,
              "#46039f"
             ],
             [
              0.2222222222222222,
              "#7201a8"
             ],
             [
              0.3333333333333333,
              "#9c179e"
             ],
             [
              0.4444444444444444,
              "#bd3786"
             ],
             [
              0.5555555555555556,
              "#d8576b"
             ],
             [
              0.6666666666666666,
              "#ed7953"
             ],
             [
              0.7777777777777778,
              "#fb9f3a"
             ],
             [
              0.8888888888888888,
              "#fdca26"
             ],
             [
              1,
              "#f0f921"
             ]
            ],
            "type": "surface"
           }
          ],
          "table": [
           {
            "cells": {
             "fill": {
              "color": "#EBF0F8"
             },
             "line": {
              "color": "white"
             }
            },
            "header": {
             "fill": {
              "color": "#C8D4E3"
             },
             "line": {
              "color": "white"
             }
            },
            "type": "table"
           }
          ]
         },
         "layout": {
          "annotationdefaults": {
           "arrowcolor": "#2a3f5f",
           "arrowhead": 0,
           "arrowwidth": 1
          },
          "autotypenumbers": "strict",
          "coloraxis": {
           "colorbar": {
            "outlinewidth": 0,
            "ticks": ""
           }
          },
          "colorscale": {
           "diverging": [
            [
             0,
             "#8e0152"
            ],
            [
             0.1,
             "#c51b7d"
            ],
            [
             0.2,
             "#de77ae"
            ],
            [
             0.3,
             "#f1b6da"
            ],
            [
             0.4,
             "#fde0ef"
            ],
            [
             0.5,
             "#f7f7f7"
            ],
            [
             0.6,
             "#e6f5d0"
            ],
            [
             0.7,
             "#b8e186"
            ],
            [
             0.8,
             "#7fbc41"
            ],
            [
             0.9,
             "#4d9221"
            ],
            [
             1,
             "#276419"
            ]
           ],
           "sequential": [
            [
             0,
             "#0d0887"
            ],
            [
             0.1111111111111111,
             "#46039f"
            ],
            [
             0.2222222222222222,
             "#7201a8"
            ],
            [
             0.3333333333333333,
             "#9c179e"
            ],
            [
             0.4444444444444444,
             "#bd3786"
            ],
            [
             0.5555555555555556,
             "#d8576b"
            ],
            [
             0.6666666666666666,
             "#ed7953"
            ],
            [
             0.7777777777777778,
             "#fb9f3a"
            ],
            [
             0.8888888888888888,
             "#fdca26"
            ],
            [
             1,
             "#f0f921"
            ]
           ],
           "sequentialminus": [
            [
             0,
             "#0d0887"
            ],
            [
             0.1111111111111111,
             "#46039f"
            ],
            [
             0.2222222222222222,
             "#7201a8"
            ],
            [
             0.3333333333333333,
             "#9c179e"
            ],
            [
             0.4444444444444444,
             "#bd3786"
            ],
            [
             0.5555555555555556,
             "#d8576b"
            ],
            [
             0.6666666666666666,
             "#ed7953"
            ],
            [
             0.7777777777777778,
             "#fb9f3a"
            ],
            [
             0.8888888888888888,
             "#fdca26"
            ],
            [
             1,
             "#f0f921"
            ]
           ]
          },
          "colorway": [
           "#636efa",
           "#EF553B",
           "#00cc96",
           "#ab63fa",
           "#FFA15A",
           "#19d3f3",
           "#FF6692",
           "#B6E880",
           "#FF97FF",
           "#FECB52"
          ],
          "font": {
           "color": "#2a3f5f"
          },
          "geo": {
           "bgcolor": "white",
           "lakecolor": "white",
           "landcolor": "#E5ECF6",
           "showlakes": true,
           "showland": true,
           "subunitcolor": "white"
          },
          "hoverlabel": {
           "align": "left"
          },
          "hovermode": "closest",
          "mapbox": {
           "style": "light"
          },
          "paper_bgcolor": "white",
          "plot_bgcolor": "#E5ECF6",
          "polar": {
           "angularaxis": {
            "gridcolor": "white",
            "linecolor": "white",
            "ticks": ""
           },
           "bgcolor": "#E5ECF6",
           "radialaxis": {
            "gridcolor": "white",
            "linecolor": "white",
            "ticks": ""
           }
          },
          "scene": {
           "xaxis": {
            "backgroundcolor": "#E5ECF6",
            "gridcolor": "white",
            "gridwidth": 2,
            "linecolor": "white",
            "showbackground": true,
            "ticks": "",
            "zerolinecolor": "white"
           },
           "yaxis": {
            "backgroundcolor": "#E5ECF6",
            "gridcolor": "white",
            "gridwidth": 2,
            "linecolor": "white",
            "showbackground": true,
            "ticks": "",
            "zerolinecolor": "white"
           },
           "zaxis": {
            "backgroundcolor": "#E5ECF6",
            "gridcolor": "white",
            "gridwidth": 2,
            "linecolor": "white",
            "showbackground": true,
            "ticks": "",
            "zerolinecolor": "white"
           }
          },
          "shapedefaults": {
           "line": {
            "color": "#2a3f5f"
           }
          },
          "ternary": {
           "aaxis": {
            "gridcolor": "white",
            "linecolor": "white",
            "ticks": ""
           },
           "baxis": {
            "gridcolor": "white",
            "linecolor": "white",
            "ticks": ""
           },
           "bgcolor": "#E5ECF6",
           "caxis": {
            "gridcolor": "white",
            "linecolor": "white",
            "ticks": ""
           }
          },
          "title": {
           "x": 0.05
          },
          "xaxis": {
           "automargin": true,
           "gridcolor": "white",
           "linecolor": "white",
           "ticks": "",
           "title": {
            "standoff": 15
           },
           "zerolinecolor": "white",
           "zerolinewidth": 2
          },
          "yaxis": {
           "automargin": true,
           "gridcolor": "white",
           "linecolor": "white",
           "ticks": "",
           "title": {
            "standoff": 15
           },
           "zerolinecolor": "white",
           "zerolinewidth": 2
          }
         }
        },
        "title": {
         "text": "c_w_n"
        },
        "xaxis": {
         "anchor": "y",
         "domain": [
          0,
          1
         ],
         "title": {
          "text": "n"
         }
        },
        "yaxis": {
         "anchor": "x",
         "categoryarray": [
          "생각 보다 평점",
          "라고 생각 합니다",
          "이런 쓰레기 같은",
          "대사 하나 하나",
          "대해 다시 생각",
          "재미 더럽게 없다",
          "개연 성도 없고",
          "최고 최고 최고",
          "다시 한번 생각",
          "절대 보지 마세요",
          "인생 최고 드라마",
          "없고 재미 없고",
          "무슨 내용 인지",
          "다시 보고 싶은",
          "재미 없고 감동",
          "아무 생각 없이",
          "시간 가는줄 모르고",
          "없고 감동 없고",
          "노잼 노잼 노잼",
          "처음 부터 까지"
         ],
         "categoryorder": "array",
         "domain": [
          0,
          1
         ],
         "title": {
          "text": "c_w"
         }
        }
       }
      },
      "text/html": [
       "<div>                            <div id=\"84b5cc79-c511-4bea-8591-613431b82548\" class=\"plotly-graph-div\" style=\"height:525px; width:100%;\"></div>            <script type=\"text/javascript\">                require([\"plotly\"], function(Plotly) {                    window.PLOTLYENV=window.PLOTLYENV || {};                                    if (document.getElementById(\"84b5cc79-c511-4bea-8591-613431b82548\")) {                    Plotly.newPlot(                        \"84b5cc79-c511-4bea-8591-613431b82548\",                        [{\"alignmentgroup\":\"True\",\"hovertemplate\":\"c_w=%{y}<br>n=%{x}<extra></extra>\",\"legendgroup\":\"\\ucc98\\uc74c \\ubd80\\ud130 \\uae4c\\uc9c0\",\"marker\":{\"color\":\"#636efa\",\"pattern\":{\"shape\":\"\"}},\"name\":\"\\ucc98\\uc74c \\ubd80\\ud130 \\uae4c\\uc9c0\",\"offsetgroup\":\"\\ucc98\\uc74c \\ubd80\\ud130 \\uae4c\\uc9c0\",\"orientation\":\"h\",\"showlegend\":true,\"textposition\":\"auto\",\"x\":[77],\"xaxis\":\"x\",\"y\":[\"\\ucc98\\uc74c \\ubd80\\ud130 \\uae4c\\uc9c0\"],\"yaxis\":\"y\",\"type\":\"bar\"},{\"alignmentgroup\":\"True\",\"hovertemplate\":\"c_w=%{y}<br>n=%{x}<extra></extra>\",\"legendgroup\":\"\\ub178\\uc7bc \\ub178\\uc7bc \\ub178\\uc7bc\",\"marker\":{\"color\":\"#EF553B\",\"pattern\":{\"shape\":\"\"}},\"name\":\"\\ub178\\uc7bc \\ub178\\uc7bc \\ub178\\uc7bc\",\"offsetgroup\":\"\\ub178\\uc7bc \\ub178\\uc7bc \\ub178\\uc7bc\",\"orientation\":\"h\",\"showlegend\":true,\"textposition\":\"auto\",\"x\":[46],\"xaxis\":\"x\",\"y\":[\"\\ub178\\uc7bc \\ub178\\uc7bc \\ub178\\uc7bc\"],\"yaxis\":\"y\",\"type\":\"bar\"},{\"alignmentgroup\":\"True\",\"hovertemplate\":\"c_w=%{y}<br>n=%{x}<extra></extra>\",\"legendgroup\":\"\\uc5c6\\uace0 \\uac10\\ub3d9 \\uc5c6\\uace0\",\"marker\":{\"color\":\"#00cc96\",\"pattern\":{\"shape\":\"\"}},\"name\":\"\\uc5c6\\uace0 \\uac10\\ub3d9 \\uc5c6\\uace0\",\"offsetgroup\":\"\\uc5c6\\uace0 \\uac10\\ub3d9 \\uc5c6\\uace0\",\"orientation\":\"h\",\"showlegend\":true,\"textposition\":\"auto\",\"x\":[34],\"xaxis\":\"x\",\"y\":[\"\\uc5c6\\uace0 \\uac10\\ub3d9 \\uc5c6\\uace0\"],\"yaxis\":\"y\",\"type\":\"bar\"},{\"alignmentgroup\":\"True\",\"hovertemplate\":\"c_w=%{y}<br>n=%{x}<extra></extra>\",\"legendgroup\":\"\\uc2dc\\uac04 \\uac00\\ub294\\uc904 \\ubaa8\\ub974\\uace0\",\"marker\":{\"color\":\"#ab63fa\",\"pattern\":{\"shape\":\"\"}},\"name\":\"\\uc2dc\\uac04 \\uac00\\ub294\\uc904 \\ubaa8\\ub974\\uace0\",\"offsetgroup\":\"\\uc2dc\\uac04 \\uac00\\ub294\\uc904 \\ubaa8\\ub974\\uace0\",\"orientation\":\"h\",\"showlegend\":true,\"textposition\":\"auto\",\"x\":[33],\"xaxis\":\"x\",\"y\":[\"\\uc2dc\\uac04 \\uac00\\ub294\\uc904 \\ubaa8\\ub974\\uace0\"],\"yaxis\":\"y\",\"type\":\"bar\"},{\"alignmentgroup\":\"True\",\"hovertemplate\":\"c_w=%{y}<br>n=%{x}<extra></extra>\",\"legendgroup\":\"\\uc544\\ubb34 \\uc0dd\\uac01 \\uc5c6\\uc774\",\"marker\":{\"color\":\"#FFA15A\",\"pattern\":{\"shape\":\"\"}},\"name\":\"\\uc544\\ubb34 \\uc0dd\\uac01 \\uc5c6\\uc774\",\"offsetgroup\":\"\\uc544\\ubb34 \\uc0dd\\uac01 \\uc5c6\\uc774\",\"orientation\":\"h\",\"showlegend\":true,\"textposition\":\"auto\",\"x\":[33],\"xaxis\":\"x\",\"y\":[\"\\uc544\\ubb34 \\uc0dd\\uac01 \\uc5c6\\uc774\"],\"yaxis\":\"y\",\"type\":\"bar\"},{\"alignmentgroup\":\"True\",\"hovertemplate\":\"c_w=%{y}<br>n=%{x}<extra></extra>\",\"legendgroup\":\"\\uc7ac\\ubbf8 \\uc5c6\\uace0 \\uac10\\ub3d9\",\"marker\":{\"color\":\"#19d3f3\",\"pattern\":{\"shape\":\"\"}},\"name\":\"\\uc7ac\\ubbf8 \\uc5c6\\uace0 \\uac10\\ub3d9\",\"offsetgroup\":\"\\uc7ac\\ubbf8 \\uc5c6\\uace0 \\uac10\\ub3d9\",\"orientation\":\"h\",\"showlegend\":true,\"textposition\":\"auto\",\"x\":[32],\"xaxis\":\"x\",\"y\":[\"\\uc7ac\\ubbf8 \\uc5c6\\uace0 \\uac10\\ub3d9\"],\"yaxis\":\"y\",\"type\":\"bar\"},{\"alignmentgroup\":\"True\",\"hovertemplate\":\"c_w=%{y}<br>n=%{x}<extra></extra>\",\"legendgroup\":\"\\ub2e4\\uc2dc \\ubcf4\\uace0 \\uc2f6\\uc740\",\"marker\":{\"color\":\"#FF6692\",\"pattern\":{\"shape\":\"\"}},\"name\":\"\\ub2e4\\uc2dc \\ubcf4\\uace0 \\uc2f6\\uc740\",\"offsetgroup\":\"\\ub2e4\\uc2dc \\ubcf4\\uace0 \\uc2f6\\uc740\",\"orientation\":\"h\",\"showlegend\":true,\"textposition\":\"auto\",\"x\":[25],\"xaxis\":\"x\",\"y\":[\"\\ub2e4\\uc2dc \\ubcf4\\uace0 \\uc2f6\\uc740\"],\"yaxis\":\"y\",\"type\":\"bar\"},{\"alignmentgroup\":\"True\",\"hovertemplate\":\"c_w=%{y}<br>n=%{x}<extra></extra>\",\"legendgroup\":\"\\ubb34\\uc2a8 \\ub0b4\\uc6a9 \\uc778\\uc9c0\",\"marker\":{\"color\":\"#B6E880\",\"pattern\":{\"shape\":\"\"}},\"name\":\"\\ubb34\\uc2a8 \\ub0b4\\uc6a9 \\uc778\\uc9c0\",\"offsetgroup\":\"\\ubb34\\uc2a8 \\ub0b4\\uc6a9 \\uc778\\uc9c0\",\"orientation\":\"h\",\"showlegend\":true,\"textposition\":\"auto\",\"x\":[25],\"xaxis\":\"x\",\"y\":[\"\\ubb34\\uc2a8 \\ub0b4\\uc6a9 \\uc778\\uc9c0\"],\"yaxis\":\"y\",\"type\":\"bar\"},{\"alignmentgroup\":\"True\",\"hovertemplate\":\"c_w=%{y}<br>n=%{x}<extra></extra>\",\"legendgroup\":\"\\uc5c6\\uace0 \\uc7ac\\ubbf8 \\uc5c6\\uace0\",\"marker\":{\"color\":\"#FF97FF\",\"pattern\":{\"shape\":\"\"}},\"name\":\"\\uc5c6\\uace0 \\uc7ac\\ubbf8 \\uc5c6\\uace0\",\"offsetgroup\":\"\\uc5c6\\uace0 \\uc7ac\\ubbf8 \\uc5c6\\uace0\",\"orientation\":\"h\",\"showlegend\":true,\"textposition\":\"auto\",\"x\":[23],\"xaxis\":\"x\",\"y\":[\"\\uc5c6\\uace0 \\uc7ac\\ubbf8 \\uc5c6\\uace0\"],\"yaxis\":\"y\",\"type\":\"bar\"},{\"alignmentgroup\":\"True\",\"hovertemplate\":\"c_w=%{y}<br>n=%{x}<extra></extra>\",\"legendgroup\":\"\\uc778\\uc0dd \\ucd5c\\uace0 \\ub4dc\\ub77c\\ub9c8\",\"marker\":{\"color\":\"#FECB52\",\"pattern\":{\"shape\":\"\"}},\"name\":\"\\uc778\\uc0dd \\ucd5c\\uace0 \\ub4dc\\ub77c\\ub9c8\",\"offsetgroup\":\"\\uc778\\uc0dd \\ucd5c\\uace0 \\ub4dc\\ub77c\\ub9c8\",\"orientation\":\"h\",\"showlegend\":true,\"textposition\":\"auto\",\"x\":[21],\"xaxis\":\"x\",\"y\":[\"\\uc778\\uc0dd \\ucd5c\\uace0 \\ub4dc\\ub77c\\ub9c8\"],\"yaxis\":\"y\",\"type\":\"bar\"},{\"alignmentgroup\":\"True\",\"hovertemplate\":\"c_w=%{y}<br>n=%{x}<extra></extra>\",\"legendgroup\":\"\\uc808\\ub300 \\ubcf4\\uc9c0 \\ub9c8\\uc138\\uc694\",\"marker\":{\"color\":\"#636efa\",\"pattern\":{\"shape\":\"\"}},\"name\":\"\\uc808\\ub300 \\ubcf4\\uc9c0 \\ub9c8\\uc138\\uc694\",\"offsetgroup\":\"\\uc808\\ub300 \\ubcf4\\uc9c0 \\ub9c8\\uc138\\uc694\",\"orientation\":\"h\",\"showlegend\":true,\"textposition\":\"auto\",\"x\":[21],\"xaxis\":\"x\",\"y\":[\"\\uc808\\ub300 \\ubcf4\\uc9c0 \\ub9c8\\uc138\\uc694\"],\"yaxis\":\"y\",\"type\":\"bar\"},{\"alignmentgroup\":\"True\",\"hovertemplate\":\"c_w=%{y}<br>n=%{x}<extra></extra>\",\"legendgroup\":\"\\ub2e4\\uc2dc \\ud55c\\ubc88 \\uc0dd\\uac01\",\"marker\":{\"color\":\"#EF553B\",\"pattern\":{\"shape\":\"\"}},\"name\":\"\\ub2e4\\uc2dc \\ud55c\\ubc88 \\uc0dd\\uac01\",\"offsetgroup\":\"\\ub2e4\\uc2dc \\ud55c\\ubc88 \\uc0dd\\uac01\",\"orientation\":\"h\",\"showlegend\":true,\"textposition\":\"auto\",\"x\":[20],\"xaxis\":\"x\",\"y\":[\"\\ub2e4\\uc2dc \\ud55c\\ubc88 \\uc0dd\\uac01\"],\"yaxis\":\"y\",\"type\":\"bar\"},{\"alignmentgroup\":\"True\",\"hovertemplate\":\"c_w=%{y}<br>n=%{x}<extra></extra>\",\"legendgroup\":\"\\ucd5c\\uace0 \\ucd5c\\uace0 \\ucd5c\\uace0\",\"marker\":{\"color\":\"#00cc96\",\"pattern\":{\"shape\":\"\"}},\"name\":\"\\ucd5c\\uace0 \\ucd5c\\uace0 \\ucd5c\\uace0\",\"offsetgroup\":\"\\ucd5c\\uace0 \\ucd5c\\uace0 \\ucd5c\\uace0\",\"orientation\":\"h\",\"showlegend\":true,\"textposition\":\"auto\",\"x\":[19],\"xaxis\":\"x\",\"y\":[\"\\ucd5c\\uace0 \\ucd5c\\uace0 \\ucd5c\\uace0\"],\"yaxis\":\"y\",\"type\":\"bar\"},{\"alignmentgroup\":\"True\",\"hovertemplate\":\"c_w=%{y}<br>n=%{x}<extra></extra>\",\"legendgroup\":\"\\uac1c\\uc5f0 \\uc131\\ub3c4 \\uc5c6\\uace0\",\"marker\":{\"color\":\"#ab63fa\",\"pattern\":{\"shape\":\"\"}},\"name\":\"\\uac1c\\uc5f0 \\uc131\\ub3c4 \\uc5c6\\uace0\",\"offsetgroup\":\"\\uac1c\\uc5f0 \\uc131\\ub3c4 \\uc5c6\\uace0\",\"orientation\":\"h\",\"showlegend\":true,\"textposition\":\"auto\",\"x\":[19],\"xaxis\":\"x\",\"y\":[\"\\uac1c\\uc5f0 \\uc131\\ub3c4 \\uc5c6\\uace0\"],\"yaxis\":\"y\",\"type\":\"bar\"},{\"alignmentgroup\":\"True\",\"hovertemplate\":\"c_w=%{y}<br>n=%{x}<extra></extra>\",\"legendgroup\":\"\\uc7ac\\ubbf8 \\ub354\\ub7fd\\uac8c \\uc5c6\\ub2e4\",\"marker\":{\"color\":\"#FFA15A\",\"pattern\":{\"shape\":\"\"}},\"name\":\"\\uc7ac\\ubbf8 \\ub354\\ub7fd\\uac8c \\uc5c6\\ub2e4\",\"offsetgroup\":\"\\uc7ac\\ubbf8 \\ub354\\ub7fd\\uac8c \\uc5c6\\ub2e4\",\"orientation\":\"h\",\"showlegend\":true,\"textposition\":\"auto\",\"x\":[18],\"xaxis\":\"x\",\"y\":[\"\\uc7ac\\ubbf8 \\ub354\\ub7fd\\uac8c \\uc5c6\\ub2e4\"],\"yaxis\":\"y\",\"type\":\"bar\"},{\"alignmentgroup\":\"True\",\"hovertemplate\":\"c_w=%{y}<br>n=%{x}<extra></extra>\",\"legendgroup\":\"\\ub300\\ud574 \\ub2e4\\uc2dc \\uc0dd\\uac01\",\"marker\":{\"color\":\"#19d3f3\",\"pattern\":{\"shape\":\"\"}},\"name\":\"\\ub300\\ud574 \\ub2e4\\uc2dc \\uc0dd\\uac01\",\"offsetgroup\":\"\\ub300\\ud574 \\ub2e4\\uc2dc \\uc0dd\\uac01\",\"orientation\":\"h\",\"showlegend\":true,\"textposition\":\"auto\",\"x\":[16],\"xaxis\":\"x\",\"y\":[\"\\ub300\\ud574 \\ub2e4\\uc2dc \\uc0dd\\uac01\"],\"yaxis\":\"y\",\"type\":\"bar\"},{\"alignmentgroup\":\"True\",\"hovertemplate\":\"c_w=%{y}<br>n=%{x}<extra></extra>\",\"legendgroup\":\"\\ub300\\uc0ac \\ud558\\ub098 \\ud558\\ub098\",\"marker\":{\"color\":\"#FF6692\",\"pattern\":{\"shape\":\"\"}},\"name\":\"\\ub300\\uc0ac \\ud558\\ub098 \\ud558\\ub098\",\"offsetgroup\":\"\\ub300\\uc0ac \\ud558\\ub098 \\ud558\\ub098\",\"orientation\":\"h\",\"showlegend\":true,\"textposition\":\"auto\",\"x\":[16],\"xaxis\":\"x\",\"y\":[\"\\ub300\\uc0ac \\ud558\\ub098 \\ud558\\ub098\"],\"yaxis\":\"y\",\"type\":\"bar\"},{\"alignmentgroup\":\"True\",\"hovertemplate\":\"c_w=%{y}<br>n=%{x}<extra></extra>\",\"legendgroup\":\"\\uc774\\ub7f0 \\uc4f0\\ub808\\uae30 \\uac19\\uc740\",\"marker\":{\"color\":\"#B6E880\",\"pattern\":{\"shape\":\"\"}},\"name\":\"\\uc774\\ub7f0 \\uc4f0\\ub808\\uae30 \\uac19\\uc740\",\"offsetgroup\":\"\\uc774\\ub7f0 \\uc4f0\\ub808\\uae30 \\uac19\\uc740\",\"orientation\":\"h\",\"showlegend\":true,\"textposition\":\"auto\",\"x\":[15],\"xaxis\":\"x\",\"y\":[\"\\uc774\\ub7f0 \\uc4f0\\ub808\\uae30 \\uac19\\uc740\"],\"yaxis\":\"y\",\"type\":\"bar\"},{\"alignmentgroup\":\"True\",\"hovertemplate\":\"c_w=%{y}<br>n=%{x}<extra></extra>\",\"legendgroup\":\"\\ub77c\\uace0 \\uc0dd\\uac01 \\ud569\\ub2c8\\ub2e4\",\"marker\":{\"color\":\"#FF97FF\",\"pattern\":{\"shape\":\"\"}},\"name\":\"\\ub77c\\uace0 \\uc0dd\\uac01 \\ud569\\ub2c8\\ub2e4\",\"offsetgroup\":\"\\ub77c\\uace0 \\uc0dd\\uac01 \\ud569\\ub2c8\\ub2e4\",\"orientation\":\"h\",\"showlegend\":true,\"textposition\":\"auto\",\"x\":[15],\"xaxis\":\"x\",\"y\":[\"\\ub77c\\uace0 \\uc0dd\\uac01 \\ud569\\ub2c8\\ub2e4\"],\"yaxis\":\"y\",\"type\":\"bar\"},{\"alignmentgroup\":\"True\",\"hovertemplate\":\"c_w=%{y}<br>n=%{x}<extra></extra>\",\"legendgroup\":\"\\uc0dd\\uac01 \\ubcf4\\ub2e4 \\ud3c9\\uc810\",\"marker\":{\"color\":\"#FECB52\",\"pattern\":{\"shape\":\"\"}},\"name\":\"\\uc0dd\\uac01 \\ubcf4\\ub2e4 \\ud3c9\\uc810\",\"offsetgroup\":\"\\uc0dd\\uac01 \\ubcf4\\ub2e4 \\ud3c9\\uc810\",\"orientation\":\"h\",\"showlegend\":true,\"textposition\":\"auto\",\"x\":[14],\"xaxis\":\"x\",\"y\":[\"\\uc0dd\\uac01 \\ubcf4\\ub2e4 \\ud3c9\\uc810\"],\"yaxis\":\"y\",\"type\":\"bar\"}],                        {\"template\":{\"data\":{\"histogram2dcontour\":[{\"type\":\"histogram2dcontour\",\"colorbar\":{\"outlinewidth\":0,\"ticks\":\"\"},\"colorscale\":[[0.0,\"#0d0887\"],[0.1111111111111111,\"#46039f\"],[0.2222222222222222,\"#7201a8\"],[0.3333333333333333,\"#9c179e\"],[0.4444444444444444,\"#bd3786\"],[0.5555555555555556,\"#d8576b\"],[0.6666666666666666,\"#ed7953\"],[0.7777777777777778,\"#fb9f3a\"],[0.8888888888888888,\"#fdca26\"],[1.0,\"#f0f921\"]]}],\"choropleth\":[{\"type\":\"choropleth\",\"colorbar\":{\"outlinewidth\":0,\"ticks\":\"\"}}],\"histogram2d\":[{\"type\":\"histogram2d\",\"colorbar\":{\"outlinewidth\":0,\"ticks\":\"\"},\"colorscale\":[[0.0,\"#0d0887\"],[0.1111111111111111,\"#46039f\"],[0.2222222222222222,\"#7201a8\"],[0.3333333333333333,\"#9c179e\"],[0.4444444444444444,\"#bd3786\"],[0.5555555555555556,\"#d8576b\"],[0.6666666666666666,\"#ed7953\"],[0.7777777777777778,\"#fb9f3a\"],[0.8888888888888888,\"#fdca26\"],[1.0,\"#f0f921\"]]}],\"heatmap\":[{\"type\":\"heatmap\",\"colorbar\":{\"outlinewidth\":0,\"ticks\":\"\"},\"colorscale\":[[0.0,\"#0d0887\"],[0.1111111111111111,\"#46039f\"],[0.2222222222222222,\"#7201a8\"],[0.3333333333333333,\"#9c179e\"],[0.4444444444444444,\"#bd3786\"],[0.5555555555555556,\"#d8576b\"],[0.6666666666666666,\"#ed7953\"],[0.7777777777777778,\"#fb9f3a\"],[0.8888888888888888,\"#fdca26\"],[1.0,\"#f0f921\"]]}],\"heatmapgl\":[{\"type\":\"heatmapgl\",\"colorbar\":{\"outlinewidth\":0,\"ticks\":\"\"},\"colorscale\":[[0.0,\"#0d0887\"],[0.1111111111111111,\"#46039f\"],[0.2222222222222222,\"#7201a8\"],[0.3333333333333333,\"#9c179e\"],[0.4444444444444444,\"#bd3786\"],[0.5555555555555556,\"#d8576b\"],[0.6666666666666666,\"#ed7953\"],[0.7777777777777778,\"#fb9f3a\"],[0.8888888888888888,\"#fdca26\"],[1.0,\"#f0f921\"]]}],\"contourcarpet\":[{\"type\":\"contourcarpet\",\"colorbar\":{\"outlinewidth\":0,\"ticks\":\"\"}}],\"contour\":[{\"type\":\"contour\",\"colorbar\":{\"outlinewidth\":0,\"ticks\":\"\"},\"colorscale\":[[0.0,\"#0d0887\"],[0.1111111111111111,\"#46039f\"],[0.2222222222222222,\"#7201a8\"],[0.3333333333333333,\"#9c179e\"],[0.4444444444444444,\"#bd3786\"],[0.5555555555555556,\"#d8576b\"],[0.6666666666666666,\"#ed7953\"],[0.7777777777777778,\"#fb9f3a\"],[0.8888888888888888,\"#fdca26\"],[1.0,\"#f0f921\"]]}],\"surface\":[{\"type\":\"surface\",\"colorbar\":{\"outlinewidth\":0,\"ticks\":\"\"},\"colorscale\":[[0.0,\"#0d0887\"],[0.1111111111111111,\"#46039f\"],[0.2222222222222222,\"#7201a8\"],[0.3333333333333333,\"#9c179e\"],[0.4444444444444444,\"#bd3786\"],[0.5555555555555556,\"#d8576b\"],[0.6666666666666666,\"#ed7953\"],[0.7777777777777778,\"#fb9f3a\"],[0.8888888888888888,\"#fdca26\"],[1.0,\"#f0f921\"]]}],\"mesh3d\":[{\"type\":\"mesh3d\",\"colorbar\":{\"outlinewidth\":0,\"ticks\":\"\"}}],\"scatter\":[{\"fillpattern\":{\"fillmode\":\"overlay\",\"size\":10,\"solidity\":0.2},\"type\":\"scatter\"}],\"parcoords\":[{\"type\":\"parcoords\",\"line\":{\"colorbar\":{\"outlinewidth\":0,\"ticks\":\"\"}}}],\"scatterpolargl\":[{\"type\":\"scatterpolargl\",\"marker\":{\"colorbar\":{\"outlinewidth\":0,\"ticks\":\"\"}}}],\"bar\":[{\"error_x\":{\"color\":\"#2a3f5f\"},\"error_y\":{\"color\":\"#2a3f5f\"},\"marker\":{\"line\":{\"color\":\"#E5ECF6\",\"width\":0.5},\"pattern\":{\"fillmode\":\"overlay\",\"size\":10,\"solidity\":0.2}},\"type\":\"bar\"}],\"scattergeo\":[{\"type\":\"scattergeo\",\"marker\":{\"colorbar\":{\"outlinewidth\":0,\"ticks\":\"\"}}}],\"scatterpolar\":[{\"type\":\"scatterpolar\",\"marker\":{\"colorbar\":{\"outlinewidth\":0,\"ticks\":\"\"}}}],\"histogram\":[{\"marker\":{\"pattern\":{\"fillmode\":\"overlay\",\"size\":10,\"solidity\":0.2}},\"type\":\"histogram\"}],\"scattergl\":[{\"type\":\"scattergl\",\"marker\":{\"colorbar\":{\"outlinewidth\":0,\"ticks\":\"\"}}}],\"scatter3d\":[{\"type\":\"scatter3d\",\"line\":{\"colorbar\":{\"outlinewidth\":0,\"ticks\":\"\"}},\"marker\":{\"colorbar\":{\"outlinewidth\":0,\"ticks\":\"\"}}}],\"scattermapbox\":[{\"type\":\"scattermapbox\",\"marker\":{\"colorbar\":{\"outlinewidth\":0,\"ticks\":\"\"}}}],\"scatterternary\":[{\"type\":\"scatterternary\",\"marker\":{\"colorbar\":{\"outlinewidth\":0,\"ticks\":\"\"}}}],\"scattercarpet\":[{\"type\":\"scattercarpet\",\"marker\":{\"colorbar\":{\"outlinewidth\":0,\"ticks\":\"\"}}}],\"carpet\":[{\"aaxis\":{\"endlinecolor\":\"#2a3f5f\",\"gridcolor\":\"white\",\"linecolor\":\"white\",\"minorgridcolor\":\"white\",\"startlinecolor\":\"#2a3f5f\"},\"baxis\":{\"endlinecolor\":\"#2a3f5f\",\"gridcolor\":\"white\",\"linecolor\":\"white\",\"minorgridcolor\":\"white\",\"startlinecolor\":\"#2a3f5f\"},\"type\":\"carpet\"}],\"table\":[{\"cells\":{\"fill\":{\"color\":\"#EBF0F8\"},\"line\":{\"color\":\"white\"}},\"header\":{\"fill\":{\"color\":\"#C8D4E3\"},\"line\":{\"color\":\"white\"}},\"type\":\"table\"}],\"barpolar\":[{\"marker\":{\"line\":{\"color\":\"#E5ECF6\",\"width\":0.5},\"pattern\":{\"fillmode\":\"overlay\",\"size\":10,\"solidity\":0.2}},\"type\":\"barpolar\"}],\"pie\":[{\"automargin\":true,\"type\":\"pie\"}]},\"layout\":{\"autotypenumbers\":\"strict\",\"colorway\":[\"#636efa\",\"#EF553B\",\"#00cc96\",\"#ab63fa\",\"#FFA15A\",\"#19d3f3\",\"#FF6692\",\"#B6E880\",\"#FF97FF\",\"#FECB52\"],\"font\":{\"color\":\"#2a3f5f\"},\"hovermode\":\"closest\",\"hoverlabel\":{\"align\":\"left\"},\"paper_bgcolor\":\"white\",\"plot_bgcolor\":\"#E5ECF6\",\"polar\":{\"bgcolor\":\"#E5ECF6\",\"angularaxis\":{\"gridcolor\":\"white\",\"linecolor\":\"white\",\"ticks\":\"\"},\"radialaxis\":{\"gridcolor\":\"white\",\"linecolor\":\"white\",\"ticks\":\"\"}},\"ternary\":{\"bgcolor\":\"#E5ECF6\",\"aaxis\":{\"gridcolor\":\"white\",\"linecolor\":\"white\",\"ticks\":\"\"},\"baxis\":{\"gridcolor\":\"white\",\"linecolor\":\"white\",\"ticks\":\"\"},\"caxis\":{\"gridcolor\":\"white\",\"linecolor\":\"white\",\"ticks\":\"\"}},\"coloraxis\":{\"colorbar\":{\"outlinewidth\":0,\"ticks\":\"\"}},\"colorscale\":{\"sequential\":[[0.0,\"#0d0887\"],[0.1111111111111111,\"#46039f\"],[0.2222222222222222,\"#7201a8\"],[0.3333333333333333,\"#9c179e\"],[0.4444444444444444,\"#bd3786\"],[0.5555555555555556,\"#d8576b\"],[0.6666666666666666,\"#ed7953\"],[0.7777777777777778,\"#fb9f3a\"],[0.8888888888888888,\"#fdca26\"],[1.0,\"#f0f921\"]],\"sequentialminus\":[[0.0,\"#0d0887\"],[0.1111111111111111,\"#46039f\"],[0.2222222222222222,\"#7201a8\"],[0.3333333333333333,\"#9c179e\"],[0.4444444444444444,\"#bd3786\"],[0.5555555555555556,\"#d8576b\"],[0.6666666666666666,\"#ed7953\"],[0.7777777777777778,\"#fb9f3a\"],[0.8888888888888888,\"#fdca26\"],[1.0,\"#f0f921\"]],\"diverging\":[[0,\"#8e0152\"],[0.1,\"#c51b7d\"],[0.2,\"#de77ae\"],[0.3,\"#f1b6da\"],[0.4,\"#fde0ef\"],[0.5,\"#f7f7f7\"],[0.6,\"#e6f5d0\"],[0.7,\"#b8e186\"],[0.8,\"#7fbc41\"],[0.9,\"#4d9221\"],[1,\"#276419\"]]},\"xaxis\":{\"gridcolor\":\"white\",\"linecolor\":\"white\",\"ticks\":\"\",\"title\":{\"standoff\":15},\"zerolinecolor\":\"white\",\"automargin\":true,\"zerolinewidth\":2},\"yaxis\":{\"gridcolor\":\"white\",\"linecolor\":\"white\",\"ticks\":\"\",\"title\":{\"standoff\":15},\"zerolinecolor\":\"white\",\"automargin\":true,\"zerolinewidth\":2},\"scene\":{\"xaxis\":{\"backgroundcolor\":\"#E5ECF6\",\"gridcolor\":\"white\",\"linecolor\":\"white\",\"showbackground\":true,\"ticks\":\"\",\"zerolinecolor\":\"white\",\"gridwidth\":2},\"yaxis\":{\"backgroundcolor\":\"#E5ECF6\",\"gridcolor\":\"white\",\"linecolor\":\"white\",\"showbackground\":true,\"ticks\":\"\",\"zerolinecolor\":\"white\",\"gridwidth\":2},\"zaxis\":{\"backgroundcolor\":\"#E5ECF6\",\"gridcolor\":\"white\",\"linecolor\":\"white\",\"showbackground\":true,\"ticks\":\"\",\"zerolinecolor\":\"white\",\"gridwidth\":2}},\"shapedefaults\":{\"line\":{\"color\":\"#2a3f5f\"}},\"annotationdefaults\":{\"arrowcolor\":\"#2a3f5f\",\"arrowhead\":0,\"arrowwidth\":1},\"geo\":{\"bgcolor\":\"white\",\"landcolor\":\"#E5ECF6\",\"subunitcolor\":\"white\",\"showland\":true,\"showlakes\":true,\"lakecolor\":\"white\"},\"title\":{\"x\":0.05},\"mapbox\":{\"style\":\"light\"}}},\"xaxis\":{\"anchor\":\"y\",\"domain\":[0.0,1.0],\"title\":{\"text\":\"n\"}},\"yaxis\":{\"anchor\":\"x\",\"domain\":[0.0,1.0],\"title\":{\"text\":\"c_w\"},\"categoryorder\":\"array\",\"categoryarray\":[\"\\uc0dd\\uac01 \\ubcf4\\ub2e4 \\ud3c9\\uc810\",\"\\ub77c\\uace0 \\uc0dd\\uac01 \\ud569\\ub2c8\\ub2e4\",\"\\uc774\\ub7f0 \\uc4f0\\ub808\\uae30 \\uac19\\uc740\",\"\\ub300\\uc0ac \\ud558\\ub098 \\ud558\\ub098\",\"\\ub300\\ud574 \\ub2e4\\uc2dc \\uc0dd\\uac01\",\"\\uc7ac\\ubbf8 \\ub354\\ub7fd\\uac8c \\uc5c6\\ub2e4\",\"\\uac1c\\uc5f0 \\uc131\\ub3c4 \\uc5c6\\uace0\",\"\\ucd5c\\uace0 \\ucd5c\\uace0 \\ucd5c\\uace0\",\"\\ub2e4\\uc2dc \\ud55c\\ubc88 \\uc0dd\\uac01\",\"\\uc808\\ub300 \\ubcf4\\uc9c0 \\ub9c8\\uc138\\uc694\",\"\\uc778\\uc0dd \\ucd5c\\uace0 \\ub4dc\\ub77c\\ub9c8\",\"\\uc5c6\\uace0 \\uc7ac\\ubbf8 \\uc5c6\\uace0\",\"\\ubb34\\uc2a8 \\ub0b4\\uc6a9 \\uc778\\uc9c0\",\"\\ub2e4\\uc2dc \\ubcf4\\uace0 \\uc2f6\\uc740\",\"\\uc7ac\\ubbf8 \\uc5c6\\uace0 \\uac10\\ub3d9\",\"\\uc544\\ubb34 \\uc0dd\\uac01 \\uc5c6\\uc774\",\"\\uc2dc\\uac04 \\uac00\\ub294\\uc904 \\ubaa8\\ub974\\uace0\",\"\\uc5c6\\uace0 \\uac10\\ub3d9 \\uc5c6\\uace0\",\"\\ub178\\uc7bc \\ub178\\uc7bc \\ub178\\uc7bc\",\"\\ucc98\\uc74c \\ubd80\\ud130 \\uae4c\\uc9c0\"]},\"legend\":{\"title\":{\"text\":\"c_w\"},\"tracegroupgap\":0},\"title\":{\"text\":\"c_w_n\"},\"barmode\":\"relative\"},                        {\"responsive\": true}                    ).then(function(){\n",
       "                            \n",
       "var gd = document.getElementById('84b5cc79-c511-4bea-8591-613431b82548');\n",
       "var x = new MutationObserver(function (mutations, observer) {{\n",
       "        var display = window.getComputedStyle(gd).display;\n",
       "        if (!display || display === 'none') {{\n",
       "            console.log([gd, 'removed!']);\n",
       "            Plotly.purge(gd);\n",
       "            observer.disconnect();\n",
       "        }}\n",
       "}});\n",
       "\n",
       "// Listen for the removal of the full notebook cells\n",
       "var notebookContainer = gd.closest('#notebook-container');\n",
       "if (notebookContainer) {{\n",
       "    x.observe(notebookContainer, {childList: true});\n",
       "}}\n",
       "\n",
       "// Listen for the clearing of the current output cell\n",
       "var outputEl = gd.closest('.output');\n",
       "if (outputEl) {{\n",
       "    x.observe(outputEl, {childList: true});\n",
       "}}\n",
       "\n",
       "                        })                };                });            </script>        </div>"
      ]
     },
     "metadata": {},
     "output_type": "display_data"
    }
   ],
   "source": [
    "ck2_data=dict(N_그램_표현(df_d.document,20,3))\n",
    "v_df1=pd.DataFrame(columns=['c_w','n'])\n",
    "v_df1['c_w']=list(ck2_data.keys())\n",
    "v_df1['n']=list(ck2_data.values())\n",
    "fig=px.bar(v_df1,x='n',y='c_w',orientation='h',title='c_w_n',color='c_w')#orientation:동작 형식\n",
    "fig.show()"
   ]
  },
  {
   "cell_type": "code",
   "execution_count": 54,
   "id": "d8b4ab1b",
   "metadata": {},
   "outputs": [],
   "source": [
    "t_l_0_s=df_d[df_d.label==0]['document']\n",
    "t_l_1_s=df_d[df_d.label==1]['document']"
   ]
  },
  {
   "cell_type": "code",
   "execution_count": 55,
   "id": "313b91e4",
   "metadata": {},
   "outputs": [
    {
     "data": {
      "application/vnd.plotly.v1+json": {
       "config": {
        "plotlyServerURL": "https://plot.ly"
       },
       "data": [
        {
         "alignmentgroup": "True",
         "hovertemplate": "c_w=%{y}<br>n=%{x}<extra></extra>",
         "legendgroup": "진짜",
         "marker": {
          "color": "#636efa",
          "pattern": {
           "shape": ""
          }
         },
         "name": "진짜",
         "offsetgroup": "진짜",
         "orientation": "h",
         "showlegend": true,
         "textposition": "auto",
         "type": "bar",
         "x": [
          1478
         ],
         "xaxis": "x",
         "y": [
          "진짜"
         ],
         "yaxis": "y"
        },
        {
         "alignmentgroup": "True",
         "hovertemplate": "c_w=%{y}<br>n=%{x}<extra></extra>",
         "legendgroup": "평점",
         "marker": {
          "color": "#EF553B",
          "pattern": {
           "shape": ""
          }
         },
         "name": "평점",
         "offsetgroup": "평점",
         "orientation": "h",
         "showlegend": true,
         "textposition": "auto",
         "type": "bar",
         "x": [
          1284
         ],
         "xaxis": "x",
         "y": [
          "평점"
         ],
         "yaxis": "y"
        },
        {
         "alignmentgroup": "True",
         "hovertemplate": "c_w=%{y}<br>n=%{x}<extra></extra>",
         "legendgroup": "스토리",
         "marker": {
          "color": "#00cc96",
          "pattern": {
           "shape": ""
          }
         },
         "name": "스토리",
         "offsetgroup": "스토리",
         "orientation": "h",
         "showlegend": true,
         "textposition": "auto",
         "type": "bar",
         "x": [
          1063
         ],
         "xaxis": "x",
         "y": [
          "스토리"
         ],
         "yaxis": "y"
        },
        {
         "alignmentgroup": "True",
         "hovertemplate": "c_w=%{y}<br>n=%{x}<extra></extra>",
         "legendgroup": "이런",
         "marker": {
          "color": "#ab63fa",
          "pattern": {
           "shape": ""
          }
         },
         "name": "이런",
         "offsetgroup": "이런",
         "orientation": "h",
         "showlegend": true,
         "textposition": "auto",
         "type": "bar",
         "x": [
          1028
         ],
         "xaxis": "x",
         "y": [
          "이런"
         ],
         "yaxis": "y"
        },
        {
         "alignmentgroup": "True",
         "hovertemplate": "c_w=%{y}<br>n=%{x}<extra></extra>",
         "legendgroup": "쓰레기",
         "marker": {
          "color": "#FFA15A",
          "pattern": {
           "shape": ""
          }
         },
         "name": "쓰레기",
         "offsetgroup": "쓰레기",
         "orientation": "h",
         "showlegend": true,
         "textposition": "auto",
         "type": "bar",
         "x": [
          1014
         ],
         "xaxis": "x",
         "y": [
          "쓰레기"
         ],
         "yaxis": "y"
        },
        {
         "alignmentgroup": "True",
         "hovertemplate": "c_w=%{y}<br>n=%{x}<extra></extra>",
         "legendgroup": "그냥",
         "marker": {
          "color": "#19d3f3",
          "pattern": {
           "shape": ""
          }
         },
         "name": "그냥",
         "offsetgroup": "그냥",
         "orientation": "h",
         "showlegend": true,
         "textposition": "auto",
         "type": "bar",
         "x": [
          980
         ],
         "xaxis": "x",
         "y": [
          "그냥"
         ],
         "yaxis": "y"
        },
        {
         "alignmentgroup": "True",
         "hovertemplate": "c_w=%{y}<br>n=%{x}<extra></extra>",
         "legendgroup": "감독",
         "marker": {
          "color": "#FF6692",
          "pattern": {
           "shape": ""
          }
         },
         "name": "감독",
         "offsetgroup": "감독",
         "orientation": "h",
         "showlegend": true,
         "textposition": "auto",
         "type": "bar",
         "x": [
          939
         ],
         "xaxis": "x",
         "y": [
          "감독"
         ],
         "yaxis": "y"
        },
        {
         "alignmentgroup": "True",
         "hovertemplate": "c_w=%{y}<br>n=%{x}<extra></extra>",
         "legendgroup": "시간",
         "marker": {
          "color": "#B6E880",
          "pattern": {
           "shape": ""
          }
         },
         "name": "시간",
         "offsetgroup": "시간",
         "orientation": "h",
         "showlegend": true,
         "textposition": "auto",
         "type": "bar",
         "x": [
          934
         ],
         "xaxis": "x",
         "y": [
          "시간"
         ],
         "yaxis": "y"
        },
        {
         "alignmentgroup": "True",
         "hovertemplate": "c_w=%{y}<br>n=%{x}<extra></extra>",
         "legendgroup": "연기",
         "marker": {
          "color": "#FF97FF",
          "pattern": {
           "shape": ""
          }
         },
         "name": "연기",
         "offsetgroup": "연기",
         "orientation": "h",
         "showlegend": true,
         "textposition": "auto",
         "type": "bar",
         "x": [
          924
         ],
         "xaxis": "x",
         "y": [
          "연기"
         ],
         "yaxis": "y"
        },
        {
         "alignmentgroup": "True",
         "hovertemplate": "c_w=%{y}<br>n=%{x}<extra></extra>",
         "legendgroup": "내용",
         "marker": {
          "color": "#FECB52",
          "pattern": {
           "shape": ""
          }
         },
         "name": "내용",
         "offsetgroup": "내용",
         "orientation": "h",
         "showlegend": true,
         "textposition": "auto",
         "type": "bar",
         "x": [
          908
         ],
         "xaxis": "x",
         "y": [
          "내용"
         ],
         "yaxis": "y"
        },
        {
         "alignmentgroup": "True",
         "hovertemplate": "c_w=%{y}<br>n=%{x}<extra></extra>",
         "legendgroup": "사람",
         "marker": {
          "color": "#636efa",
          "pattern": {
           "shape": ""
          }
         },
         "name": "사람",
         "offsetgroup": "사람",
         "orientation": "h",
         "showlegend": true,
         "textposition": "auto",
         "type": "bar",
         "x": [
          854
         ],
         "xaxis": "x",
         "y": [
          "사람"
         ],
         "yaxis": "y"
        },
        {
         "alignmentgroup": "True",
         "hovertemplate": "c_w=%{y}<br>n=%{x}<extra></extra>",
         "legendgroup": "없는",
         "marker": {
          "color": "#EF553B",
          "pattern": {
           "shape": ""
          }
         },
         "name": "없는",
         "offsetgroup": "없는",
         "orientation": "h",
         "showlegend": true,
         "textposition": "auto",
         "type": "bar",
         "x": [
          813
         ],
         "xaxis": "x",
         "y": [
          "없는"
         ],
         "yaxis": "y"
        },
        {
         "alignmentgroup": "True",
         "hovertemplate": "c_w=%{y}<br>n=%{x}<extra></extra>",
         "legendgroup": "재미",
         "marker": {
          "color": "#00cc96",
          "pattern": {
           "shape": ""
          }
         },
         "name": "재미",
         "offsetgroup": "재미",
         "orientation": "h",
         "showlegend": true,
         "textposition": "auto",
         "type": "bar",
         "x": [
          808
         ],
         "xaxis": "x",
         "y": [
          "재미"
         ],
         "yaxis": "y"
        },
        {
         "alignmentgroup": "True",
         "hovertemplate": "c_w=%{y}<br>n=%{x}<extra></extra>",
         "legendgroup": "최악",
         "marker": {
          "color": "#ab63fa",
          "pattern": {
           "shape": ""
          }
         },
         "name": "최악",
         "offsetgroup": "최악",
         "orientation": "h",
         "showlegend": true,
         "textposition": "auto",
         "type": "bar",
         "x": [
          750
         ],
         "xaxis": "x",
         "y": [
          "최악"
         ],
         "yaxis": "y"
        },
        {
         "alignmentgroup": "True",
         "hovertemplate": "c_w=%{y}<br>n=%{x}<extra></extra>",
         "legendgroup": "까지",
         "marker": {
          "color": "#FFA15A",
          "pattern": {
           "shape": ""
          }
         },
         "name": "까지",
         "offsetgroup": "까지",
         "orientation": "h",
         "showlegend": true,
         "textposition": "auto",
         "type": "bar",
         "x": [
          721
         ],
         "xaxis": "x",
         "y": [
          "까지"
         ],
         "yaxis": "y"
        },
        {
         "alignmentgroup": "True",
         "hovertemplate": "c_w=%{y}<br>n=%{x}<extra></extra>",
         "legendgroup": "배우",
         "marker": {
          "color": "#19d3f3",
          "pattern": {
           "shape": ""
          }
         },
         "name": "배우",
         "offsetgroup": "배우",
         "orientation": "h",
         "showlegend": true,
         "textposition": "auto",
         "type": "bar",
         "x": [
          720
         ],
         "xaxis": "x",
         "y": [
          "배우"
         ],
         "yaxis": "y"
        },
        {
         "alignmentgroup": "True",
         "hovertemplate": "c_w=%{y}<br>n=%{x}<extra></extra>",
         "legendgroup": "이건",
         "marker": {
          "color": "#FF6692",
          "pattern": {
           "shape": ""
          }
         },
         "name": "이건",
         "offsetgroup": "이건",
         "orientation": "h",
         "showlegend": true,
         "textposition": "auto",
         "type": "bar",
         "x": [
          703
         ],
         "xaxis": "x",
         "y": [
          "이건"
         ],
         "yaxis": "y"
        },
        {
         "alignmentgroup": "True",
         "hovertemplate": "c_w=%{y}<br>n=%{x}<extra></extra>",
         "legendgroup": "없다",
         "marker": {
          "color": "#B6E880",
          "pattern": {
           "shape": ""
          }
         },
         "name": "없다",
         "offsetgroup": "없다",
         "orientation": "h",
         "showlegend": true,
         "textposition": "auto",
         "type": "bar",
         "x": [
          703
         ],
         "xaxis": "x",
         "y": [
          "없다"
         ],
         "yaxis": "y"
        },
        {
         "alignmentgroup": "True",
         "hovertemplate": "c_w=%{y}<br>n=%{x}<extra></extra>",
         "legendgroup": "보다",
         "marker": {
          "color": "#FF97FF",
          "pattern": {
           "shape": ""
          }
         },
         "name": "보다",
         "offsetgroup": "보다",
         "orientation": "h",
         "showlegend": true,
         "textposition": "auto",
         "type": "bar",
         "x": [
          681
         ],
         "xaxis": "x",
         "y": [
          "보다"
         ],
         "yaxis": "y"
        },
        {
         "alignmentgroup": "True",
         "hovertemplate": "c_w=%{y}<br>n=%{x}<extra></extra>",
         "legendgroup": "생각",
         "marker": {
          "color": "#FECB52",
          "pattern": {
           "shape": ""
          }
         },
         "name": "생각",
         "offsetgroup": "생각",
         "orientation": "h",
         "showlegend": true,
         "textposition": "auto",
         "type": "bar",
         "x": [
          665
         ],
         "xaxis": "x",
         "y": [
          "생각"
         ],
         "yaxis": "y"
        }
       ],
       "layout": {
        "barmode": "relative",
        "legend": {
         "title": {
          "text": "c_w"
         },
         "tracegroupgap": 0
        },
        "template": {
         "data": {
          "bar": [
           {
            "error_x": {
             "color": "#2a3f5f"
            },
            "error_y": {
             "color": "#2a3f5f"
            },
            "marker": {
             "line": {
              "color": "#E5ECF6",
              "width": 0.5
             },
             "pattern": {
              "fillmode": "overlay",
              "size": 10,
              "solidity": 0.2
             }
            },
            "type": "bar"
           }
          ],
          "barpolar": [
           {
            "marker": {
             "line": {
              "color": "#E5ECF6",
              "width": 0.5
             },
             "pattern": {
              "fillmode": "overlay",
              "size": 10,
              "solidity": 0.2
             }
            },
            "type": "barpolar"
           }
          ],
          "carpet": [
           {
            "aaxis": {
             "endlinecolor": "#2a3f5f",
             "gridcolor": "white",
             "linecolor": "white",
             "minorgridcolor": "white",
             "startlinecolor": "#2a3f5f"
            },
            "baxis": {
             "endlinecolor": "#2a3f5f",
             "gridcolor": "white",
             "linecolor": "white",
             "minorgridcolor": "white",
             "startlinecolor": "#2a3f5f"
            },
            "type": "carpet"
           }
          ],
          "choropleth": [
           {
            "colorbar": {
             "outlinewidth": 0,
             "ticks": ""
            },
            "type": "choropleth"
           }
          ],
          "contour": [
           {
            "colorbar": {
             "outlinewidth": 0,
             "ticks": ""
            },
            "colorscale": [
             [
              0,
              "#0d0887"
             ],
             [
              0.1111111111111111,
              "#46039f"
             ],
             [
              0.2222222222222222,
              "#7201a8"
             ],
             [
              0.3333333333333333,
              "#9c179e"
             ],
             [
              0.4444444444444444,
              "#bd3786"
             ],
             [
              0.5555555555555556,
              "#d8576b"
             ],
             [
              0.6666666666666666,
              "#ed7953"
             ],
             [
              0.7777777777777778,
              "#fb9f3a"
             ],
             [
              0.8888888888888888,
              "#fdca26"
             ],
             [
              1,
              "#f0f921"
             ]
            ],
            "type": "contour"
           }
          ],
          "contourcarpet": [
           {
            "colorbar": {
             "outlinewidth": 0,
             "ticks": ""
            },
            "type": "contourcarpet"
           }
          ],
          "heatmap": [
           {
            "colorbar": {
             "outlinewidth": 0,
             "ticks": ""
            },
            "colorscale": [
             [
              0,
              "#0d0887"
             ],
             [
              0.1111111111111111,
              "#46039f"
             ],
             [
              0.2222222222222222,
              "#7201a8"
             ],
             [
              0.3333333333333333,
              "#9c179e"
             ],
             [
              0.4444444444444444,
              "#bd3786"
             ],
             [
              0.5555555555555556,
              "#d8576b"
             ],
             [
              0.6666666666666666,
              "#ed7953"
             ],
             [
              0.7777777777777778,
              "#fb9f3a"
             ],
             [
              0.8888888888888888,
              "#fdca26"
             ],
             [
              1,
              "#f0f921"
             ]
            ],
            "type": "heatmap"
           }
          ],
          "heatmapgl": [
           {
            "colorbar": {
             "outlinewidth": 0,
             "ticks": ""
            },
            "colorscale": [
             [
              0,
              "#0d0887"
             ],
             [
              0.1111111111111111,
              "#46039f"
             ],
             [
              0.2222222222222222,
              "#7201a8"
             ],
             [
              0.3333333333333333,
              "#9c179e"
             ],
             [
              0.4444444444444444,
              "#bd3786"
             ],
             [
              0.5555555555555556,
              "#d8576b"
             ],
             [
              0.6666666666666666,
              "#ed7953"
             ],
             [
              0.7777777777777778,
              "#fb9f3a"
             ],
             [
              0.8888888888888888,
              "#fdca26"
             ],
             [
              1,
              "#f0f921"
             ]
            ],
            "type": "heatmapgl"
           }
          ],
          "histogram": [
           {
            "marker": {
             "pattern": {
              "fillmode": "overlay",
              "size": 10,
              "solidity": 0.2
             }
            },
            "type": "histogram"
           }
          ],
          "histogram2d": [
           {
            "colorbar": {
             "outlinewidth": 0,
             "ticks": ""
            },
            "colorscale": [
             [
              0,
              "#0d0887"
             ],
             [
              0.1111111111111111,
              "#46039f"
             ],
             [
              0.2222222222222222,
              "#7201a8"
             ],
             [
              0.3333333333333333,
              "#9c179e"
             ],
             [
              0.4444444444444444,
              "#bd3786"
             ],
             [
              0.5555555555555556,
              "#d8576b"
             ],
             [
              0.6666666666666666,
              "#ed7953"
             ],
             [
              0.7777777777777778,
              "#fb9f3a"
             ],
             [
              0.8888888888888888,
              "#fdca26"
             ],
             [
              1,
              "#f0f921"
             ]
            ],
            "type": "histogram2d"
           }
          ],
          "histogram2dcontour": [
           {
            "colorbar": {
             "outlinewidth": 0,
             "ticks": ""
            },
            "colorscale": [
             [
              0,
              "#0d0887"
             ],
             [
              0.1111111111111111,
              "#46039f"
             ],
             [
              0.2222222222222222,
              "#7201a8"
             ],
             [
              0.3333333333333333,
              "#9c179e"
             ],
             [
              0.4444444444444444,
              "#bd3786"
             ],
             [
              0.5555555555555556,
              "#d8576b"
             ],
             [
              0.6666666666666666,
              "#ed7953"
             ],
             [
              0.7777777777777778,
              "#fb9f3a"
             ],
             [
              0.8888888888888888,
              "#fdca26"
             ],
             [
              1,
              "#f0f921"
             ]
            ],
            "type": "histogram2dcontour"
           }
          ],
          "mesh3d": [
           {
            "colorbar": {
             "outlinewidth": 0,
             "ticks": ""
            },
            "type": "mesh3d"
           }
          ],
          "parcoords": [
           {
            "line": {
             "colorbar": {
              "outlinewidth": 0,
              "ticks": ""
             }
            },
            "type": "parcoords"
           }
          ],
          "pie": [
           {
            "automargin": true,
            "type": "pie"
           }
          ],
          "scatter": [
           {
            "fillpattern": {
             "fillmode": "overlay",
             "size": 10,
             "solidity": 0.2
            },
            "type": "scatter"
           }
          ],
          "scatter3d": [
           {
            "line": {
             "colorbar": {
              "outlinewidth": 0,
              "ticks": ""
             }
            },
            "marker": {
             "colorbar": {
              "outlinewidth": 0,
              "ticks": ""
             }
            },
            "type": "scatter3d"
           }
          ],
          "scattercarpet": [
           {
            "marker": {
             "colorbar": {
              "outlinewidth": 0,
              "ticks": ""
             }
            },
            "type": "scattercarpet"
           }
          ],
          "scattergeo": [
           {
            "marker": {
             "colorbar": {
              "outlinewidth": 0,
              "ticks": ""
             }
            },
            "type": "scattergeo"
           }
          ],
          "scattergl": [
           {
            "marker": {
             "colorbar": {
              "outlinewidth": 0,
              "ticks": ""
             }
            },
            "type": "scattergl"
           }
          ],
          "scattermapbox": [
           {
            "marker": {
             "colorbar": {
              "outlinewidth": 0,
              "ticks": ""
             }
            },
            "type": "scattermapbox"
           }
          ],
          "scatterpolar": [
           {
            "marker": {
             "colorbar": {
              "outlinewidth": 0,
              "ticks": ""
             }
            },
            "type": "scatterpolar"
           }
          ],
          "scatterpolargl": [
           {
            "marker": {
             "colorbar": {
              "outlinewidth": 0,
              "ticks": ""
             }
            },
            "type": "scatterpolargl"
           }
          ],
          "scatterternary": [
           {
            "marker": {
             "colorbar": {
              "outlinewidth": 0,
              "ticks": ""
             }
            },
            "type": "scatterternary"
           }
          ],
          "surface": [
           {
            "colorbar": {
             "outlinewidth": 0,
             "ticks": ""
            },
            "colorscale": [
             [
              0,
              "#0d0887"
             ],
             [
              0.1111111111111111,
              "#46039f"
             ],
             [
              0.2222222222222222,
              "#7201a8"
             ],
             [
              0.3333333333333333,
              "#9c179e"
             ],
             [
              0.4444444444444444,
              "#bd3786"
             ],
             [
              0.5555555555555556,
              "#d8576b"
             ],
             [
              0.6666666666666666,
              "#ed7953"
             ],
             [
              0.7777777777777778,
              "#fb9f3a"
             ],
             [
              0.8888888888888888,
              "#fdca26"
             ],
             [
              1,
              "#f0f921"
             ]
            ],
            "type": "surface"
           }
          ],
          "table": [
           {
            "cells": {
             "fill": {
              "color": "#EBF0F8"
             },
             "line": {
              "color": "white"
             }
            },
            "header": {
             "fill": {
              "color": "#C8D4E3"
             },
             "line": {
              "color": "white"
             }
            },
            "type": "table"
           }
          ]
         },
         "layout": {
          "annotationdefaults": {
           "arrowcolor": "#2a3f5f",
           "arrowhead": 0,
           "arrowwidth": 1
          },
          "autotypenumbers": "strict",
          "coloraxis": {
           "colorbar": {
            "outlinewidth": 0,
            "ticks": ""
           }
          },
          "colorscale": {
           "diverging": [
            [
             0,
             "#8e0152"
            ],
            [
             0.1,
             "#c51b7d"
            ],
            [
             0.2,
             "#de77ae"
            ],
            [
             0.3,
             "#f1b6da"
            ],
            [
             0.4,
             "#fde0ef"
            ],
            [
             0.5,
             "#f7f7f7"
            ],
            [
             0.6,
             "#e6f5d0"
            ],
            [
             0.7,
             "#b8e186"
            ],
            [
             0.8,
             "#7fbc41"
            ],
            [
             0.9,
             "#4d9221"
            ],
            [
             1,
             "#276419"
            ]
           ],
           "sequential": [
            [
             0,
             "#0d0887"
            ],
            [
             0.1111111111111111,
             "#46039f"
            ],
            [
             0.2222222222222222,
             "#7201a8"
            ],
            [
             0.3333333333333333,
             "#9c179e"
            ],
            [
             0.4444444444444444,
             "#bd3786"
            ],
            [
             0.5555555555555556,
             "#d8576b"
            ],
            [
             0.6666666666666666,
             "#ed7953"
            ],
            [
             0.7777777777777778,
             "#fb9f3a"
            ],
            [
             0.8888888888888888,
             "#fdca26"
            ],
            [
             1,
             "#f0f921"
            ]
           ],
           "sequentialminus": [
            [
             0,
             "#0d0887"
            ],
            [
             0.1111111111111111,
             "#46039f"
            ],
            [
             0.2222222222222222,
             "#7201a8"
            ],
            [
             0.3333333333333333,
             "#9c179e"
            ],
            [
             0.4444444444444444,
             "#bd3786"
            ],
            [
             0.5555555555555556,
             "#d8576b"
            ],
            [
             0.6666666666666666,
             "#ed7953"
            ],
            [
             0.7777777777777778,
             "#fb9f3a"
            ],
            [
             0.8888888888888888,
             "#fdca26"
            ],
            [
             1,
             "#f0f921"
            ]
           ]
          },
          "colorway": [
           "#636efa",
           "#EF553B",
           "#00cc96",
           "#ab63fa",
           "#FFA15A",
           "#19d3f3",
           "#FF6692",
           "#B6E880",
           "#FF97FF",
           "#FECB52"
          ],
          "font": {
           "color": "#2a3f5f"
          },
          "geo": {
           "bgcolor": "white",
           "lakecolor": "white",
           "landcolor": "#E5ECF6",
           "showlakes": true,
           "showland": true,
           "subunitcolor": "white"
          },
          "hoverlabel": {
           "align": "left"
          },
          "hovermode": "closest",
          "mapbox": {
           "style": "light"
          },
          "paper_bgcolor": "white",
          "plot_bgcolor": "#E5ECF6",
          "polar": {
           "angularaxis": {
            "gridcolor": "white",
            "linecolor": "white",
            "ticks": ""
           },
           "bgcolor": "#E5ECF6",
           "radialaxis": {
            "gridcolor": "white",
            "linecolor": "white",
            "ticks": ""
           }
          },
          "scene": {
           "xaxis": {
            "backgroundcolor": "#E5ECF6",
            "gridcolor": "white",
            "gridwidth": 2,
            "linecolor": "white",
            "showbackground": true,
            "ticks": "",
            "zerolinecolor": "white"
           },
           "yaxis": {
            "backgroundcolor": "#E5ECF6",
            "gridcolor": "white",
            "gridwidth": 2,
            "linecolor": "white",
            "showbackground": true,
            "ticks": "",
            "zerolinecolor": "white"
           },
           "zaxis": {
            "backgroundcolor": "#E5ECF6",
            "gridcolor": "white",
            "gridwidth": 2,
            "linecolor": "white",
            "showbackground": true,
            "ticks": "",
            "zerolinecolor": "white"
           }
          },
          "shapedefaults": {
           "line": {
            "color": "#2a3f5f"
           }
          },
          "ternary": {
           "aaxis": {
            "gridcolor": "white",
            "linecolor": "white",
            "ticks": ""
           },
           "baxis": {
            "gridcolor": "white",
            "linecolor": "white",
            "ticks": ""
           },
           "bgcolor": "#E5ECF6",
           "caxis": {
            "gridcolor": "white",
            "linecolor": "white",
            "ticks": ""
           }
          },
          "title": {
           "x": 0.05
          },
          "xaxis": {
           "automargin": true,
           "gridcolor": "white",
           "linecolor": "white",
           "ticks": "",
           "title": {
            "standoff": 15
           },
           "zerolinecolor": "white",
           "zerolinewidth": 2
          },
          "yaxis": {
           "automargin": true,
           "gridcolor": "white",
           "linecolor": "white",
           "ticks": "",
           "title": {
            "standoff": 15
           },
           "zerolinecolor": "white",
           "zerolinewidth": 2
          }
         }
        },
        "title": {
         "text": "t_0_c_g"
        },
        "xaxis": {
         "anchor": "y",
         "domain": [
          0,
          1
         ],
         "title": {
          "text": "n"
         }
        },
        "yaxis": {
         "anchor": "x",
         "categoryarray": [
          "생각",
          "보다",
          "없다",
          "이건",
          "배우",
          "까지",
          "최악",
          "재미",
          "없는",
          "사람",
          "내용",
          "연기",
          "시간",
          "감독",
          "그냥",
          "쓰레기",
          "이런",
          "스토리",
          "평점",
          "진짜"
         ],
         "categoryorder": "array",
         "domain": [
          0,
          1
         ],
         "title": {
          "text": "c_w"
         }
        }
       }
      },
      "text/html": [
       "<div>                            <div id=\"ad15fb48-d967-4139-9d44-21508d84880d\" class=\"plotly-graph-div\" style=\"height:525px; width:100%;\"></div>            <script type=\"text/javascript\">                require([\"plotly\"], function(Plotly) {                    window.PLOTLYENV=window.PLOTLYENV || {};                                    if (document.getElementById(\"ad15fb48-d967-4139-9d44-21508d84880d\")) {                    Plotly.newPlot(                        \"ad15fb48-d967-4139-9d44-21508d84880d\",                        [{\"alignmentgroup\":\"True\",\"hovertemplate\":\"c_w=%{y}<br>n=%{x}<extra></extra>\",\"legendgroup\":\"\\uc9c4\\uc9dc\",\"marker\":{\"color\":\"#636efa\",\"pattern\":{\"shape\":\"\"}},\"name\":\"\\uc9c4\\uc9dc\",\"offsetgroup\":\"\\uc9c4\\uc9dc\",\"orientation\":\"h\",\"showlegend\":true,\"textposition\":\"auto\",\"x\":[1478],\"xaxis\":\"x\",\"y\":[\"\\uc9c4\\uc9dc\"],\"yaxis\":\"y\",\"type\":\"bar\"},{\"alignmentgroup\":\"True\",\"hovertemplate\":\"c_w=%{y}<br>n=%{x}<extra></extra>\",\"legendgroup\":\"\\ud3c9\\uc810\",\"marker\":{\"color\":\"#EF553B\",\"pattern\":{\"shape\":\"\"}},\"name\":\"\\ud3c9\\uc810\",\"offsetgroup\":\"\\ud3c9\\uc810\",\"orientation\":\"h\",\"showlegend\":true,\"textposition\":\"auto\",\"x\":[1284],\"xaxis\":\"x\",\"y\":[\"\\ud3c9\\uc810\"],\"yaxis\":\"y\",\"type\":\"bar\"},{\"alignmentgroup\":\"True\",\"hovertemplate\":\"c_w=%{y}<br>n=%{x}<extra></extra>\",\"legendgroup\":\"\\uc2a4\\ud1a0\\ub9ac\",\"marker\":{\"color\":\"#00cc96\",\"pattern\":{\"shape\":\"\"}},\"name\":\"\\uc2a4\\ud1a0\\ub9ac\",\"offsetgroup\":\"\\uc2a4\\ud1a0\\ub9ac\",\"orientation\":\"h\",\"showlegend\":true,\"textposition\":\"auto\",\"x\":[1063],\"xaxis\":\"x\",\"y\":[\"\\uc2a4\\ud1a0\\ub9ac\"],\"yaxis\":\"y\",\"type\":\"bar\"},{\"alignmentgroup\":\"True\",\"hovertemplate\":\"c_w=%{y}<br>n=%{x}<extra></extra>\",\"legendgroup\":\"\\uc774\\ub7f0\",\"marker\":{\"color\":\"#ab63fa\",\"pattern\":{\"shape\":\"\"}},\"name\":\"\\uc774\\ub7f0\",\"offsetgroup\":\"\\uc774\\ub7f0\",\"orientation\":\"h\",\"showlegend\":true,\"textposition\":\"auto\",\"x\":[1028],\"xaxis\":\"x\",\"y\":[\"\\uc774\\ub7f0\"],\"yaxis\":\"y\",\"type\":\"bar\"},{\"alignmentgroup\":\"True\",\"hovertemplate\":\"c_w=%{y}<br>n=%{x}<extra></extra>\",\"legendgroup\":\"\\uc4f0\\ub808\\uae30\",\"marker\":{\"color\":\"#FFA15A\",\"pattern\":{\"shape\":\"\"}},\"name\":\"\\uc4f0\\ub808\\uae30\",\"offsetgroup\":\"\\uc4f0\\ub808\\uae30\",\"orientation\":\"h\",\"showlegend\":true,\"textposition\":\"auto\",\"x\":[1014],\"xaxis\":\"x\",\"y\":[\"\\uc4f0\\ub808\\uae30\"],\"yaxis\":\"y\",\"type\":\"bar\"},{\"alignmentgroup\":\"True\",\"hovertemplate\":\"c_w=%{y}<br>n=%{x}<extra></extra>\",\"legendgroup\":\"\\uadf8\\ub0e5\",\"marker\":{\"color\":\"#19d3f3\",\"pattern\":{\"shape\":\"\"}},\"name\":\"\\uadf8\\ub0e5\",\"offsetgroup\":\"\\uadf8\\ub0e5\",\"orientation\":\"h\",\"showlegend\":true,\"textposition\":\"auto\",\"x\":[980],\"xaxis\":\"x\",\"y\":[\"\\uadf8\\ub0e5\"],\"yaxis\":\"y\",\"type\":\"bar\"},{\"alignmentgroup\":\"True\",\"hovertemplate\":\"c_w=%{y}<br>n=%{x}<extra></extra>\",\"legendgroup\":\"\\uac10\\ub3c5\",\"marker\":{\"color\":\"#FF6692\",\"pattern\":{\"shape\":\"\"}},\"name\":\"\\uac10\\ub3c5\",\"offsetgroup\":\"\\uac10\\ub3c5\",\"orientation\":\"h\",\"showlegend\":true,\"textposition\":\"auto\",\"x\":[939],\"xaxis\":\"x\",\"y\":[\"\\uac10\\ub3c5\"],\"yaxis\":\"y\",\"type\":\"bar\"},{\"alignmentgroup\":\"True\",\"hovertemplate\":\"c_w=%{y}<br>n=%{x}<extra></extra>\",\"legendgroup\":\"\\uc2dc\\uac04\",\"marker\":{\"color\":\"#B6E880\",\"pattern\":{\"shape\":\"\"}},\"name\":\"\\uc2dc\\uac04\",\"offsetgroup\":\"\\uc2dc\\uac04\",\"orientation\":\"h\",\"showlegend\":true,\"textposition\":\"auto\",\"x\":[934],\"xaxis\":\"x\",\"y\":[\"\\uc2dc\\uac04\"],\"yaxis\":\"y\",\"type\":\"bar\"},{\"alignmentgroup\":\"True\",\"hovertemplate\":\"c_w=%{y}<br>n=%{x}<extra></extra>\",\"legendgroup\":\"\\uc5f0\\uae30\",\"marker\":{\"color\":\"#FF97FF\",\"pattern\":{\"shape\":\"\"}},\"name\":\"\\uc5f0\\uae30\",\"offsetgroup\":\"\\uc5f0\\uae30\",\"orientation\":\"h\",\"showlegend\":true,\"textposition\":\"auto\",\"x\":[924],\"xaxis\":\"x\",\"y\":[\"\\uc5f0\\uae30\"],\"yaxis\":\"y\",\"type\":\"bar\"},{\"alignmentgroup\":\"True\",\"hovertemplate\":\"c_w=%{y}<br>n=%{x}<extra></extra>\",\"legendgroup\":\"\\ub0b4\\uc6a9\",\"marker\":{\"color\":\"#FECB52\",\"pattern\":{\"shape\":\"\"}},\"name\":\"\\ub0b4\\uc6a9\",\"offsetgroup\":\"\\ub0b4\\uc6a9\",\"orientation\":\"h\",\"showlegend\":true,\"textposition\":\"auto\",\"x\":[908],\"xaxis\":\"x\",\"y\":[\"\\ub0b4\\uc6a9\"],\"yaxis\":\"y\",\"type\":\"bar\"},{\"alignmentgroup\":\"True\",\"hovertemplate\":\"c_w=%{y}<br>n=%{x}<extra></extra>\",\"legendgroup\":\"\\uc0ac\\ub78c\",\"marker\":{\"color\":\"#636efa\",\"pattern\":{\"shape\":\"\"}},\"name\":\"\\uc0ac\\ub78c\",\"offsetgroup\":\"\\uc0ac\\ub78c\",\"orientation\":\"h\",\"showlegend\":true,\"textposition\":\"auto\",\"x\":[854],\"xaxis\":\"x\",\"y\":[\"\\uc0ac\\ub78c\"],\"yaxis\":\"y\",\"type\":\"bar\"},{\"alignmentgroup\":\"True\",\"hovertemplate\":\"c_w=%{y}<br>n=%{x}<extra></extra>\",\"legendgroup\":\"\\uc5c6\\ub294\",\"marker\":{\"color\":\"#EF553B\",\"pattern\":{\"shape\":\"\"}},\"name\":\"\\uc5c6\\ub294\",\"offsetgroup\":\"\\uc5c6\\ub294\",\"orientation\":\"h\",\"showlegend\":true,\"textposition\":\"auto\",\"x\":[813],\"xaxis\":\"x\",\"y\":[\"\\uc5c6\\ub294\"],\"yaxis\":\"y\",\"type\":\"bar\"},{\"alignmentgroup\":\"True\",\"hovertemplate\":\"c_w=%{y}<br>n=%{x}<extra></extra>\",\"legendgroup\":\"\\uc7ac\\ubbf8\",\"marker\":{\"color\":\"#00cc96\",\"pattern\":{\"shape\":\"\"}},\"name\":\"\\uc7ac\\ubbf8\",\"offsetgroup\":\"\\uc7ac\\ubbf8\",\"orientation\":\"h\",\"showlegend\":true,\"textposition\":\"auto\",\"x\":[808],\"xaxis\":\"x\",\"y\":[\"\\uc7ac\\ubbf8\"],\"yaxis\":\"y\",\"type\":\"bar\"},{\"alignmentgroup\":\"True\",\"hovertemplate\":\"c_w=%{y}<br>n=%{x}<extra></extra>\",\"legendgroup\":\"\\ucd5c\\uc545\",\"marker\":{\"color\":\"#ab63fa\",\"pattern\":{\"shape\":\"\"}},\"name\":\"\\ucd5c\\uc545\",\"offsetgroup\":\"\\ucd5c\\uc545\",\"orientation\":\"h\",\"showlegend\":true,\"textposition\":\"auto\",\"x\":[750],\"xaxis\":\"x\",\"y\":[\"\\ucd5c\\uc545\"],\"yaxis\":\"y\",\"type\":\"bar\"},{\"alignmentgroup\":\"True\",\"hovertemplate\":\"c_w=%{y}<br>n=%{x}<extra></extra>\",\"legendgroup\":\"\\uae4c\\uc9c0\",\"marker\":{\"color\":\"#FFA15A\",\"pattern\":{\"shape\":\"\"}},\"name\":\"\\uae4c\\uc9c0\",\"offsetgroup\":\"\\uae4c\\uc9c0\",\"orientation\":\"h\",\"showlegend\":true,\"textposition\":\"auto\",\"x\":[721],\"xaxis\":\"x\",\"y\":[\"\\uae4c\\uc9c0\"],\"yaxis\":\"y\",\"type\":\"bar\"},{\"alignmentgroup\":\"True\",\"hovertemplate\":\"c_w=%{y}<br>n=%{x}<extra></extra>\",\"legendgroup\":\"\\ubc30\\uc6b0\",\"marker\":{\"color\":\"#19d3f3\",\"pattern\":{\"shape\":\"\"}},\"name\":\"\\ubc30\\uc6b0\",\"offsetgroup\":\"\\ubc30\\uc6b0\",\"orientation\":\"h\",\"showlegend\":true,\"textposition\":\"auto\",\"x\":[720],\"xaxis\":\"x\",\"y\":[\"\\ubc30\\uc6b0\"],\"yaxis\":\"y\",\"type\":\"bar\"},{\"alignmentgroup\":\"True\",\"hovertemplate\":\"c_w=%{y}<br>n=%{x}<extra></extra>\",\"legendgroup\":\"\\uc774\\uac74\",\"marker\":{\"color\":\"#FF6692\",\"pattern\":{\"shape\":\"\"}},\"name\":\"\\uc774\\uac74\",\"offsetgroup\":\"\\uc774\\uac74\",\"orientation\":\"h\",\"showlegend\":true,\"textposition\":\"auto\",\"x\":[703],\"xaxis\":\"x\",\"y\":[\"\\uc774\\uac74\"],\"yaxis\":\"y\",\"type\":\"bar\"},{\"alignmentgroup\":\"True\",\"hovertemplate\":\"c_w=%{y}<br>n=%{x}<extra></extra>\",\"legendgroup\":\"\\uc5c6\\ub2e4\",\"marker\":{\"color\":\"#B6E880\",\"pattern\":{\"shape\":\"\"}},\"name\":\"\\uc5c6\\ub2e4\",\"offsetgroup\":\"\\uc5c6\\ub2e4\",\"orientation\":\"h\",\"showlegend\":true,\"textposition\":\"auto\",\"x\":[703],\"xaxis\":\"x\",\"y\":[\"\\uc5c6\\ub2e4\"],\"yaxis\":\"y\",\"type\":\"bar\"},{\"alignmentgroup\":\"True\",\"hovertemplate\":\"c_w=%{y}<br>n=%{x}<extra></extra>\",\"legendgroup\":\"\\ubcf4\\ub2e4\",\"marker\":{\"color\":\"#FF97FF\",\"pattern\":{\"shape\":\"\"}},\"name\":\"\\ubcf4\\ub2e4\",\"offsetgroup\":\"\\ubcf4\\ub2e4\",\"orientation\":\"h\",\"showlegend\":true,\"textposition\":\"auto\",\"x\":[681],\"xaxis\":\"x\",\"y\":[\"\\ubcf4\\ub2e4\"],\"yaxis\":\"y\",\"type\":\"bar\"},{\"alignmentgroup\":\"True\",\"hovertemplate\":\"c_w=%{y}<br>n=%{x}<extra></extra>\",\"legendgroup\":\"\\uc0dd\\uac01\",\"marker\":{\"color\":\"#FECB52\",\"pattern\":{\"shape\":\"\"}},\"name\":\"\\uc0dd\\uac01\",\"offsetgroup\":\"\\uc0dd\\uac01\",\"orientation\":\"h\",\"showlegend\":true,\"textposition\":\"auto\",\"x\":[665],\"xaxis\":\"x\",\"y\":[\"\\uc0dd\\uac01\"],\"yaxis\":\"y\",\"type\":\"bar\"}],                        {\"template\":{\"data\":{\"histogram2dcontour\":[{\"type\":\"histogram2dcontour\",\"colorbar\":{\"outlinewidth\":0,\"ticks\":\"\"},\"colorscale\":[[0.0,\"#0d0887\"],[0.1111111111111111,\"#46039f\"],[0.2222222222222222,\"#7201a8\"],[0.3333333333333333,\"#9c179e\"],[0.4444444444444444,\"#bd3786\"],[0.5555555555555556,\"#d8576b\"],[0.6666666666666666,\"#ed7953\"],[0.7777777777777778,\"#fb9f3a\"],[0.8888888888888888,\"#fdca26\"],[1.0,\"#f0f921\"]]}],\"choropleth\":[{\"type\":\"choropleth\",\"colorbar\":{\"outlinewidth\":0,\"ticks\":\"\"}}],\"histogram2d\":[{\"type\":\"histogram2d\",\"colorbar\":{\"outlinewidth\":0,\"ticks\":\"\"},\"colorscale\":[[0.0,\"#0d0887\"],[0.1111111111111111,\"#46039f\"],[0.2222222222222222,\"#7201a8\"],[0.3333333333333333,\"#9c179e\"],[0.4444444444444444,\"#bd3786\"],[0.5555555555555556,\"#d8576b\"],[0.6666666666666666,\"#ed7953\"],[0.7777777777777778,\"#fb9f3a\"],[0.8888888888888888,\"#fdca26\"],[1.0,\"#f0f921\"]]}],\"heatmap\":[{\"type\":\"heatmap\",\"colorbar\":{\"outlinewidth\":0,\"ticks\":\"\"},\"colorscale\":[[0.0,\"#0d0887\"],[0.1111111111111111,\"#46039f\"],[0.2222222222222222,\"#7201a8\"],[0.3333333333333333,\"#9c179e\"],[0.4444444444444444,\"#bd3786\"],[0.5555555555555556,\"#d8576b\"],[0.6666666666666666,\"#ed7953\"],[0.7777777777777778,\"#fb9f3a\"],[0.8888888888888888,\"#fdca26\"],[1.0,\"#f0f921\"]]}],\"heatmapgl\":[{\"type\":\"heatmapgl\",\"colorbar\":{\"outlinewidth\":0,\"ticks\":\"\"},\"colorscale\":[[0.0,\"#0d0887\"],[0.1111111111111111,\"#46039f\"],[0.2222222222222222,\"#7201a8\"],[0.3333333333333333,\"#9c179e\"],[0.4444444444444444,\"#bd3786\"],[0.5555555555555556,\"#d8576b\"],[0.6666666666666666,\"#ed7953\"],[0.7777777777777778,\"#fb9f3a\"],[0.8888888888888888,\"#fdca26\"],[1.0,\"#f0f921\"]]}],\"contourcarpet\":[{\"type\":\"contourcarpet\",\"colorbar\":{\"outlinewidth\":0,\"ticks\":\"\"}}],\"contour\":[{\"type\":\"contour\",\"colorbar\":{\"outlinewidth\":0,\"ticks\":\"\"},\"colorscale\":[[0.0,\"#0d0887\"],[0.1111111111111111,\"#46039f\"],[0.2222222222222222,\"#7201a8\"],[0.3333333333333333,\"#9c179e\"],[0.4444444444444444,\"#bd3786\"],[0.5555555555555556,\"#d8576b\"],[0.6666666666666666,\"#ed7953\"],[0.7777777777777778,\"#fb9f3a\"],[0.8888888888888888,\"#fdca26\"],[1.0,\"#f0f921\"]]}],\"surface\":[{\"type\":\"surface\",\"colorbar\":{\"outlinewidth\":0,\"ticks\":\"\"},\"colorscale\":[[0.0,\"#0d0887\"],[0.1111111111111111,\"#46039f\"],[0.2222222222222222,\"#7201a8\"],[0.3333333333333333,\"#9c179e\"],[0.4444444444444444,\"#bd3786\"],[0.5555555555555556,\"#d8576b\"],[0.6666666666666666,\"#ed7953\"],[0.7777777777777778,\"#fb9f3a\"],[0.8888888888888888,\"#fdca26\"],[1.0,\"#f0f921\"]]}],\"mesh3d\":[{\"type\":\"mesh3d\",\"colorbar\":{\"outlinewidth\":0,\"ticks\":\"\"}}],\"scatter\":[{\"fillpattern\":{\"fillmode\":\"overlay\",\"size\":10,\"solidity\":0.2},\"type\":\"scatter\"}],\"parcoords\":[{\"type\":\"parcoords\",\"line\":{\"colorbar\":{\"outlinewidth\":0,\"ticks\":\"\"}}}],\"scatterpolargl\":[{\"type\":\"scatterpolargl\",\"marker\":{\"colorbar\":{\"outlinewidth\":0,\"ticks\":\"\"}}}],\"bar\":[{\"error_x\":{\"color\":\"#2a3f5f\"},\"error_y\":{\"color\":\"#2a3f5f\"},\"marker\":{\"line\":{\"color\":\"#E5ECF6\",\"width\":0.5},\"pattern\":{\"fillmode\":\"overlay\",\"size\":10,\"solidity\":0.2}},\"type\":\"bar\"}],\"scattergeo\":[{\"type\":\"scattergeo\",\"marker\":{\"colorbar\":{\"outlinewidth\":0,\"ticks\":\"\"}}}],\"scatterpolar\":[{\"type\":\"scatterpolar\",\"marker\":{\"colorbar\":{\"outlinewidth\":0,\"ticks\":\"\"}}}],\"histogram\":[{\"marker\":{\"pattern\":{\"fillmode\":\"overlay\",\"size\":10,\"solidity\":0.2}},\"type\":\"histogram\"}],\"scattergl\":[{\"type\":\"scattergl\",\"marker\":{\"colorbar\":{\"outlinewidth\":0,\"ticks\":\"\"}}}],\"scatter3d\":[{\"type\":\"scatter3d\",\"line\":{\"colorbar\":{\"outlinewidth\":0,\"ticks\":\"\"}},\"marker\":{\"colorbar\":{\"outlinewidth\":0,\"ticks\":\"\"}}}],\"scattermapbox\":[{\"type\":\"scattermapbox\",\"marker\":{\"colorbar\":{\"outlinewidth\":0,\"ticks\":\"\"}}}],\"scatterternary\":[{\"type\":\"scatterternary\",\"marker\":{\"colorbar\":{\"outlinewidth\":0,\"ticks\":\"\"}}}],\"scattercarpet\":[{\"type\":\"scattercarpet\",\"marker\":{\"colorbar\":{\"outlinewidth\":0,\"ticks\":\"\"}}}],\"carpet\":[{\"aaxis\":{\"endlinecolor\":\"#2a3f5f\",\"gridcolor\":\"white\",\"linecolor\":\"white\",\"minorgridcolor\":\"white\",\"startlinecolor\":\"#2a3f5f\"},\"baxis\":{\"endlinecolor\":\"#2a3f5f\",\"gridcolor\":\"white\",\"linecolor\":\"white\",\"minorgridcolor\":\"white\",\"startlinecolor\":\"#2a3f5f\"},\"type\":\"carpet\"}],\"table\":[{\"cells\":{\"fill\":{\"color\":\"#EBF0F8\"},\"line\":{\"color\":\"white\"}},\"header\":{\"fill\":{\"color\":\"#C8D4E3\"},\"line\":{\"color\":\"white\"}},\"type\":\"table\"}],\"barpolar\":[{\"marker\":{\"line\":{\"color\":\"#E5ECF6\",\"width\":0.5},\"pattern\":{\"fillmode\":\"overlay\",\"size\":10,\"solidity\":0.2}},\"type\":\"barpolar\"}],\"pie\":[{\"automargin\":true,\"type\":\"pie\"}]},\"layout\":{\"autotypenumbers\":\"strict\",\"colorway\":[\"#636efa\",\"#EF553B\",\"#00cc96\",\"#ab63fa\",\"#FFA15A\",\"#19d3f3\",\"#FF6692\",\"#B6E880\",\"#FF97FF\",\"#FECB52\"],\"font\":{\"color\":\"#2a3f5f\"},\"hovermode\":\"closest\",\"hoverlabel\":{\"align\":\"left\"},\"paper_bgcolor\":\"white\",\"plot_bgcolor\":\"#E5ECF6\",\"polar\":{\"bgcolor\":\"#E5ECF6\",\"angularaxis\":{\"gridcolor\":\"white\",\"linecolor\":\"white\",\"ticks\":\"\"},\"radialaxis\":{\"gridcolor\":\"white\",\"linecolor\":\"white\",\"ticks\":\"\"}},\"ternary\":{\"bgcolor\":\"#E5ECF6\",\"aaxis\":{\"gridcolor\":\"white\",\"linecolor\":\"white\",\"ticks\":\"\"},\"baxis\":{\"gridcolor\":\"white\",\"linecolor\":\"white\",\"ticks\":\"\"},\"caxis\":{\"gridcolor\":\"white\",\"linecolor\":\"white\",\"ticks\":\"\"}},\"coloraxis\":{\"colorbar\":{\"outlinewidth\":0,\"ticks\":\"\"}},\"colorscale\":{\"sequential\":[[0.0,\"#0d0887\"],[0.1111111111111111,\"#46039f\"],[0.2222222222222222,\"#7201a8\"],[0.3333333333333333,\"#9c179e\"],[0.4444444444444444,\"#bd3786\"],[0.5555555555555556,\"#d8576b\"],[0.6666666666666666,\"#ed7953\"],[0.7777777777777778,\"#fb9f3a\"],[0.8888888888888888,\"#fdca26\"],[1.0,\"#f0f921\"]],\"sequentialminus\":[[0.0,\"#0d0887\"],[0.1111111111111111,\"#46039f\"],[0.2222222222222222,\"#7201a8\"],[0.3333333333333333,\"#9c179e\"],[0.4444444444444444,\"#bd3786\"],[0.5555555555555556,\"#d8576b\"],[0.6666666666666666,\"#ed7953\"],[0.7777777777777778,\"#fb9f3a\"],[0.8888888888888888,\"#fdca26\"],[1.0,\"#f0f921\"]],\"diverging\":[[0,\"#8e0152\"],[0.1,\"#c51b7d\"],[0.2,\"#de77ae\"],[0.3,\"#f1b6da\"],[0.4,\"#fde0ef\"],[0.5,\"#f7f7f7\"],[0.6,\"#e6f5d0\"],[0.7,\"#b8e186\"],[0.8,\"#7fbc41\"],[0.9,\"#4d9221\"],[1,\"#276419\"]]},\"xaxis\":{\"gridcolor\":\"white\",\"linecolor\":\"white\",\"ticks\":\"\",\"title\":{\"standoff\":15},\"zerolinecolor\":\"white\",\"automargin\":true,\"zerolinewidth\":2},\"yaxis\":{\"gridcolor\":\"white\",\"linecolor\":\"white\",\"ticks\":\"\",\"title\":{\"standoff\":15},\"zerolinecolor\":\"white\",\"automargin\":true,\"zerolinewidth\":2},\"scene\":{\"xaxis\":{\"backgroundcolor\":\"#E5ECF6\",\"gridcolor\":\"white\",\"linecolor\":\"white\",\"showbackground\":true,\"ticks\":\"\",\"zerolinecolor\":\"white\",\"gridwidth\":2},\"yaxis\":{\"backgroundcolor\":\"#E5ECF6\",\"gridcolor\":\"white\",\"linecolor\":\"white\",\"showbackground\":true,\"ticks\":\"\",\"zerolinecolor\":\"white\",\"gridwidth\":2},\"zaxis\":{\"backgroundcolor\":\"#E5ECF6\",\"gridcolor\":\"white\",\"linecolor\":\"white\",\"showbackground\":true,\"ticks\":\"\",\"zerolinecolor\":\"white\",\"gridwidth\":2}},\"shapedefaults\":{\"line\":{\"color\":\"#2a3f5f\"}},\"annotationdefaults\":{\"arrowcolor\":\"#2a3f5f\",\"arrowhead\":0,\"arrowwidth\":1},\"geo\":{\"bgcolor\":\"white\",\"landcolor\":\"#E5ECF6\",\"subunitcolor\":\"white\",\"showland\":true,\"showlakes\":true,\"lakecolor\":\"white\"},\"title\":{\"x\":0.05},\"mapbox\":{\"style\":\"light\"}}},\"xaxis\":{\"anchor\":\"y\",\"domain\":[0.0,1.0],\"title\":{\"text\":\"n\"}},\"yaxis\":{\"anchor\":\"x\",\"domain\":[0.0,1.0],\"title\":{\"text\":\"c_w\"},\"categoryorder\":\"array\",\"categoryarray\":[\"\\uc0dd\\uac01\",\"\\ubcf4\\ub2e4\",\"\\uc5c6\\ub2e4\",\"\\uc774\\uac74\",\"\\ubc30\\uc6b0\",\"\\uae4c\\uc9c0\",\"\\ucd5c\\uc545\",\"\\uc7ac\\ubbf8\",\"\\uc5c6\\ub294\",\"\\uc0ac\\ub78c\",\"\\ub0b4\\uc6a9\",\"\\uc5f0\\uae30\",\"\\uc2dc\\uac04\",\"\\uac10\\ub3c5\",\"\\uadf8\\ub0e5\",\"\\uc4f0\\ub808\\uae30\",\"\\uc774\\ub7f0\",\"\\uc2a4\\ud1a0\\ub9ac\",\"\\ud3c9\\uc810\",\"\\uc9c4\\uc9dc\"]},\"legend\":{\"title\":{\"text\":\"c_w\"},\"tracegroupgap\":0},\"title\":{\"text\":\"t_0_c_g\"},\"barmode\":\"relative\"},                        {\"responsive\": true}                    ).then(function(){\n",
       "                            \n",
       "var gd = document.getElementById('ad15fb48-d967-4139-9d44-21508d84880d');\n",
       "var x = new MutationObserver(function (mutations, observer) {{\n",
       "        var display = window.getComputedStyle(gd).display;\n",
       "        if (!display || display === 'none') {{\n",
       "            console.log([gd, 'removed!']);\n",
       "            Plotly.purge(gd);\n",
       "            observer.disconnect();\n",
       "        }}\n",
       "}});\n",
       "\n",
       "// Listen for the removal of the full notebook cells\n",
       "var notebookContainer = gd.closest('#notebook-container');\n",
       "if (notebookContainer) {{\n",
       "    x.observe(notebookContainer, {childList: true});\n",
       "}}\n",
       "\n",
       "// Listen for the clearing of the current output cell\n",
       "var outputEl = gd.closest('.output');\n",
       "if (outputEl) {{\n",
       "    x.observe(outputEl, {childList: true});\n",
       "}}\n",
       "\n",
       "                        })                };                });            </script>        </div>"
      ]
     },
     "metadata": {},
     "output_type": "display_data"
    }
   ],
   "source": [
    "t_l_0_data=dict(N_그램_표현(t_l_0_s,20,1))\n",
    "v_df2=pd.DataFrame(columns=['c_w','n'])\n",
    "v_df2['c_w']=list(t_l_0_data.keys())\n",
    "v_df2['n']=list(t_l_0_data.values())\n",
    "fig=px.bar(v_df2,x='n',y='c_w',orientation='h',title='t_0_c_g',color='c_w')#orientation:동작 형식\n",
    "fig.show()"
   ]
  },
  {
   "cell_type": "code",
   "execution_count": 56,
   "id": "eef9b7d5",
   "metadata": {},
   "outputs": [
    {
     "data": {
      "application/vnd.plotly.v1+json": {
       "config": {
        "plotlyServerURL": "https://plot.ly"
       },
       "data": [
        {
         "alignmentgroup": "True",
         "hovertemplate": "c_w=%{y}<br>n=%{x}<extra></extra>",
         "legendgroup": "재미 없고",
         "marker": {
          "color": "#636efa",
          "pattern": {
           "shape": ""
          }
         },
         "name": "재미 없고",
         "offsetgroup": "재미 없고",
         "orientation": "h",
         "showlegend": true,
         "textposition": "auto",
         "type": "bar",
         "x": [
          139
         ],
         "xaxis": "x",
         "y": [
          "재미 없고"
         ],
         "yaxis": "y"
        },
        {
         "alignmentgroup": "True",
         "hovertemplate": "c_w=%{y}<br>n=%{x}<extra></extra>",
         "legendgroup": "점도 아깝다",
         "marker": {
          "color": "#EF553B",
          "pattern": {
           "shape": ""
          }
         },
         "name": "점도 아깝다",
         "offsetgroup": "점도 아깝다",
         "orientation": "h",
         "showlegend": true,
         "textposition": "auto",
         "type": "bar",
         "x": [
          98
         ],
         "xaxis": "x",
         "y": [
          "점도 아깝다"
         ],
         "yaxis": "y"
        },
        {
         "alignmentgroup": "True",
         "hovertemplate": "c_w=%{y}<br>n=%{x}<extra></extra>",
         "legendgroup": "보는 내내",
         "marker": {
          "color": "#00cc96",
          "pattern": {
           "shape": ""
          }
         },
         "name": "보는 내내",
         "offsetgroup": "보는 내내",
         "orientation": "h",
         "showlegend": true,
         "textposition": "auto",
         "type": "bar",
         "x": [
          96
         ],
         "xaxis": "x",
         "y": [
          "보는 내내"
         ],
         "yaxis": "y"
        },
        {
         "alignmentgroup": "True",
         "hovertemplate": "c_w=%{y}<br>n=%{x}<extra></extra>",
         "legendgroup": "보지 마세요",
         "marker": {
          "color": "#ab63fa",
          "pattern": {
           "shape": ""
          }
         },
         "name": "보지 마세요",
         "offsetgroup": "보지 마세요",
         "orientation": "h",
         "showlegend": true,
         "textposition": "auto",
         "type": "bar",
         "x": [
          93
         ],
         "xaxis": "x",
         "y": [
          "보지 마세요"
         ],
         "yaxis": "y"
        },
        {
         "alignmentgroup": "True",
         "hovertemplate": "c_w=%{y}<br>n=%{x}<extra></extra>",
         "legendgroup": "시간 아깝다",
         "marker": {
          "color": "#FFA15A",
          "pattern": {
           "shape": ""
          }
         },
         "name": "시간 아깝다",
         "offsetgroup": "시간 아깝다",
         "orientation": "h",
         "showlegend": true,
         "textposition": "auto",
         "type": "bar",
         "x": [
          90
         ],
         "xaxis": "x",
         "y": [
          "시간 아깝다"
         ],
         "yaxis": "y"
        },
        {
         "alignmentgroup": "True",
         "hovertemplate": "c_w=%{y}<br>n=%{x}<extra></extra>",
         "legendgroup": "배우 연기",
         "marker": {
          "color": "#19d3f3",
          "pattern": {
           "shape": ""
          }
         },
         "name": "배우 연기",
         "offsetgroup": "배우 연기",
         "orientation": "h",
         "showlegend": true,
         "textposition": "auto",
         "type": "bar",
         "x": [
          85
         ],
         "xaxis": "x",
         "y": [
          "배우 연기"
         ],
         "yaxis": "y"
        },
        {
         "alignmentgroup": "True",
         "hovertemplate": "c_w=%{y}<br>n=%{x}<extra></extra>",
         "legendgroup": "시간 낭비",
         "marker": {
          "color": "#FF6692",
          "pattern": {
           "shape": ""
          }
         },
         "name": "시간 낭비",
         "offsetgroup": "시간 낭비",
         "orientation": "h",
         "showlegend": true,
         "textposition": "auto",
         "type": "bar",
         "x": [
          83
         ],
         "xaxis": "x",
         "y": [
          "시간 낭비"
         ],
         "yaxis": "y"
        },
        {
         "alignmentgroup": "True",
         "hovertemplate": "c_w=%{y}<br>n=%{x}<extra></extra>",
         "legendgroup": "재미 없다",
         "marker": {
          "color": "#B6E880",
          "pattern": {
           "shape": ""
          }
         },
         "name": "재미 없다",
         "offsetgroup": "재미 없다",
         "orientation": "h",
         "showlegend": true,
         "textposition": "auto",
         "type": "bar",
         "x": [
          83
         ],
         "xaxis": "x",
         "y": [
          "재미 없다"
         ],
         "yaxis": "y"
        },
        {
         "alignmentgroup": "True",
         "hovertemplate": "c_w=%{y}<br>n=%{x}<extra></extra>",
         "legendgroup": "이런 쓰레기",
         "marker": {
          "color": "#FF97FF",
          "pattern": {
           "shape": ""
          }
         },
         "name": "이런 쓰레기",
         "offsetgroup": "이런 쓰레기",
         "orientation": "h",
         "showlegend": true,
         "textposition": "auto",
         "type": "bar",
         "x": [
          64
         ],
         "xaxis": "x",
         "y": [
          "이런 쓰레기"
         ],
         "yaxis": "y"
        },
        {
         "alignmentgroup": "True",
         "hovertemplate": "c_w=%{y}<br>n=%{x}<extra></extra>",
         "legendgroup": "감동 없고",
         "marker": {
          "color": "#FECB52",
          "pattern": {
           "shape": ""
          }
         },
         "name": "감동 없고",
         "offsetgroup": "감동 없고",
         "orientation": "h",
         "showlegend": true,
         "textposition": "auto",
         "type": "bar",
         "x": [
          64
         ],
         "xaxis": "x",
         "y": [
          "감동 없고"
         ],
         "yaxis": "y"
        },
        {
         "alignmentgroup": "True",
         "hovertemplate": "c_w=%{y}<br>n=%{x}<extra></extra>",
         "legendgroup": "쓰레기 같은",
         "marker": {
          "color": "#636efa",
          "pattern": {
           "shape": ""
          }
         },
         "name": "쓰레기 같은",
         "offsetgroup": "쓰레기 같은",
         "orientation": "h",
         "showlegend": true,
         "textposition": "auto",
         "type": "bar",
         "x": [
          63
         ],
         "xaxis": "x",
         "y": [
          "쓰레기 같은"
         ],
         "yaxis": "y"
        },
        {
         "alignmentgroup": "True",
         "hovertemplate": "c_w=%{y}<br>n=%{x}<extra></extra>",
         "legendgroup": "노잼 노잼",
         "marker": {
          "color": "#EF553B",
          "pattern": {
           "shape": ""
          }
         },
         "name": "노잼 노잼",
         "offsetgroup": "노잼 노잼",
         "orientation": "h",
         "showlegend": true,
         "textposition": "auto",
         "type": "bar",
         "x": [
          57
         ],
         "xaxis": "x",
         "y": [
          "노잼 노잼"
         ],
         "yaxis": "y"
        },
        {
         "alignmentgroup": "True",
         "hovertemplate": "c_w=%{y}<br>n=%{x}<extra></extra>",
         "legendgroup": "처음 부터",
         "marker": {
          "color": "#00cc96",
          "pattern": {
           "shape": ""
          }
         },
         "name": "처음 부터",
         "offsetgroup": "처음 부터",
         "orientation": "h",
         "showlegend": true,
         "textposition": "auto",
         "type": "bar",
         "x": [
          51
         ],
         "xaxis": "x",
         "y": [
          "처음 부터"
         ],
         "yaxis": "y"
        },
        {
         "alignmentgroup": "True",
         "hovertemplate": "c_w=%{y}<br>n=%{x}<extra></extra>",
         "legendgroup": "부터 까지",
         "marker": {
          "color": "#ab63fa",
          "pattern": {
           "shape": ""
          }
         },
         "name": "부터 까지",
         "offsetgroup": "부터 까지",
         "orientation": "h",
         "showlegend": true,
         "textposition": "auto",
         "type": "bar",
         "x": [
          50
         ],
         "xaxis": "x",
         "y": [
          "부터 까지"
         ],
         "yaxis": "y"
        },
        {
         "alignmentgroup": "True",
         "hovertemplate": "c_w=%{y}<br>n=%{x}<extra></extra>",
         "legendgroup": "뻔한 스토리",
         "marker": {
          "color": "#FFA15A",
          "pattern": {
           "shape": ""
          }
         },
         "name": "뻔한 스토리",
         "offsetgroup": "뻔한 스토리",
         "orientation": "h",
         "showlegend": true,
         "textposition": "auto",
         "type": "bar",
         "x": [
          50
         ],
         "xaxis": "x",
         "y": [
          "뻔한 스토리"
         ],
         "yaxis": "y"
        },
        {
         "alignmentgroup": "True",
         "hovertemplate": "c_w=%{y}<br>n=%{x}<extra></extra>",
         "legendgroup": "스토리 전개",
         "marker": {
          "color": "#19d3f3",
          "pattern": {
           "shape": ""
          }
         },
         "name": "스토리 전개",
         "offsetgroup": "스토리 전개",
         "orientation": "h",
         "showlegend": true,
         "textposition": "auto",
         "type": "bar",
         "x": [
          50
         ],
         "xaxis": "x",
         "y": [
          "스토리 전개"
         ],
         "yaxis": "y"
        },
        {
         "alignmentgroup": "True",
         "hovertemplate": "c_w=%{y}<br>n=%{x}<extra></extra>",
         "legendgroup": "내용 인지",
         "marker": {
          "color": "#FF6692",
          "pattern": {
           "shape": ""
          }
         },
         "name": "내용 인지",
         "offsetgroup": "내용 인지",
         "orientation": "h",
         "showlegend": true,
         "textposition": "auto",
         "type": "bar",
         "x": [
          49
         ],
         "xaxis": "x",
         "y": [
          "내용 인지"
         ],
         "yaxis": "y"
        },
        {
         "alignmentgroup": "True",
         "hovertemplate": "c_w=%{y}<br>n=%{x}<extra></extra>",
         "legendgroup": "생각 보다",
         "marker": {
          "color": "#B6E880",
          "pattern": {
           "shape": ""
          }
         },
         "name": "생각 보다",
         "offsetgroup": "생각 보다",
         "orientation": "h",
         "showlegend": true,
         "textposition": "auto",
         "type": "bar",
         "x": [
          44
         ],
         "xaxis": "x",
         "y": [
          "생각 보다"
         ],
         "yaxis": "y"
        },
        {
         "alignmentgroup": "True",
         "hovertemplate": "c_w=%{y}<br>n=%{x}<extra></extra>",
         "legendgroup": "평점 보고",
         "marker": {
          "color": "#FF97FF",
          "pattern": {
           "shape": ""
          }
         },
         "name": "평점 보고",
         "offsetgroup": "평점 보고",
         "orientation": "h",
         "showlegend": true,
         "textposition": "auto",
         "type": "bar",
         "x": [
          44
         ],
         "xaxis": "x",
         "y": [
          "평점 보고"
         ],
         "yaxis": "y"
        },
        {
         "alignmentgroup": "True",
         "hovertemplate": "c_w=%{y}<br>n=%{x}<extra></extra>",
         "legendgroup": "인생 최악",
         "marker": {
          "color": "#FECB52",
          "pattern": {
           "shape": ""
          }
         },
         "name": "인생 최악",
         "offsetgroup": "인생 최악",
         "orientation": "h",
         "showlegend": true,
         "textposition": "auto",
         "type": "bar",
         "x": [
          44
         ],
         "xaxis": "x",
         "y": [
          "인생 최악"
         ],
         "yaxis": "y"
        }
       ],
       "layout": {
        "barmode": "relative",
        "legend": {
         "title": {
          "text": "c_w"
         },
         "tracegroupgap": 0
        },
        "template": {
         "data": {
          "bar": [
           {
            "error_x": {
             "color": "#2a3f5f"
            },
            "error_y": {
             "color": "#2a3f5f"
            },
            "marker": {
             "line": {
              "color": "#E5ECF6",
              "width": 0.5
             },
             "pattern": {
              "fillmode": "overlay",
              "size": 10,
              "solidity": 0.2
             }
            },
            "type": "bar"
           }
          ],
          "barpolar": [
           {
            "marker": {
             "line": {
              "color": "#E5ECF6",
              "width": 0.5
             },
             "pattern": {
              "fillmode": "overlay",
              "size": 10,
              "solidity": 0.2
             }
            },
            "type": "barpolar"
           }
          ],
          "carpet": [
           {
            "aaxis": {
             "endlinecolor": "#2a3f5f",
             "gridcolor": "white",
             "linecolor": "white",
             "minorgridcolor": "white",
             "startlinecolor": "#2a3f5f"
            },
            "baxis": {
             "endlinecolor": "#2a3f5f",
             "gridcolor": "white",
             "linecolor": "white",
             "minorgridcolor": "white",
             "startlinecolor": "#2a3f5f"
            },
            "type": "carpet"
           }
          ],
          "choropleth": [
           {
            "colorbar": {
             "outlinewidth": 0,
             "ticks": ""
            },
            "type": "choropleth"
           }
          ],
          "contour": [
           {
            "colorbar": {
             "outlinewidth": 0,
             "ticks": ""
            },
            "colorscale": [
             [
              0,
              "#0d0887"
             ],
             [
              0.1111111111111111,
              "#46039f"
             ],
             [
              0.2222222222222222,
              "#7201a8"
             ],
             [
              0.3333333333333333,
              "#9c179e"
             ],
             [
              0.4444444444444444,
              "#bd3786"
             ],
             [
              0.5555555555555556,
              "#d8576b"
             ],
             [
              0.6666666666666666,
              "#ed7953"
             ],
             [
              0.7777777777777778,
              "#fb9f3a"
             ],
             [
              0.8888888888888888,
              "#fdca26"
             ],
             [
              1,
              "#f0f921"
             ]
            ],
            "type": "contour"
           }
          ],
          "contourcarpet": [
           {
            "colorbar": {
             "outlinewidth": 0,
             "ticks": ""
            },
            "type": "contourcarpet"
           }
          ],
          "heatmap": [
           {
            "colorbar": {
             "outlinewidth": 0,
             "ticks": ""
            },
            "colorscale": [
             [
              0,
              "#0d0887"
             ],
             [
              0.1111111111111111,
              "#46039f"
             ],
             [
              0.2222222222222222,
              "#7201a8"
             ],
             [
              0.3333333333333333,
              "#9c179e"
             ],
             [
              0.4444444444444444,
              "#bd3786"
             ],
             [
              0.5555555555555556,
              "#d8576b"
             ],
             [
              0.6666666666666666,
              "#ed7953"
             ],
             [
              0.7777777777777778,
              "#fb9f3a"
             ],
             [
              0.8888888888888888,
              "#fdca26"
             ],
             [
              1,
              "#f0f921"
             ]
            ],
            "type": "heatmap"
           }
          ],
          "heatmapgl": [
           {
            "colorbar": {
             "outlinewidth": 0,
             "ticks": ""
            },
            "colorscale": [
             [
              0,
              "#0d0887"
             ],
             [
              0.1111111111111111,
              "#46039f"
             ],
             [
              0.2222222222222222,
              "#7201a8"
             ],
             [
              0.3333333333333333,
              "#9c179e"
             ],
             [
              0.4444444444444444,
              "#bd3786"
             ],
             [
              0.5555555555555556,
              "#d8576b"
             ],
             [
              0.6666666666666666,
              "#ed7953"
             ],
             [
              0.7777777777777778,
              "#fb9f3a"
             ],
             [
              0.8888888888888888,
              "#fdca26"
             ],
             [
              1,
              "#f0f921"
             ]
            ],
            "type": "heatmapgl"
           }
          ],
          "histogram": [
           {
            "marker": {
             "pattern": {
              "fillmode": "overlay",
              "size": 10,
              "solidity": 0.2
             }
            },
            "type": "histogram"
           }
          ],
          "histogram2d": [
           {
            "colorbar": {
             "outlinewidth": 0,
             "ticks": ""
            },
            "colorscale": [
             [
              0,
              "#0d0887"
             ],
             [
              0.1111111111111111,
              "#46039f"
             ],
             [
              0.2222222222222222,
              "#7201a8"
             ],
             [
              0.3333333333333333,
              "#9c179e"
             ],
             [
              0.4444444444444444,
              "#bd3786"
             ],
             [
              0.5555555555555556,
              "#d8576b"
             ],
             [
              0.6666666666666666,
              "#ed7953"
             ],
             [
              0.7777777777777778,
              "#fb9f3a"
             ],
             [
              0.8888888888888888,
              "#fdca26"
             ],
             [
              1,
              "#f0f921"
             ]
            ],
            "type": "histogram2d"
           }
          ],
          "histogram2dcontour": [
           {
            "colorbar": {
             "outlinewidth": 0,
             "ticks": ""
            },
            "colorscale": [
             [
              0,
              "#0d0887"
             ],
             [
              0.1111111111111111,
              "#46039f"
             ],
             [
              0.2222222222222222,
              "#7201a8"
             ],
             [
              0.3333333333333333,
              "#9c179e"
             ],
             [
              0.4444444444444444,
              "#bd3786"
             ],
             [
              0.5555555555555556,
              "#d8576b"
             ],
             [
              0.6666666666666666,
              "#ed7953"
             ],
             [
              0.7777777777777778,
              "#fb9f3a"
             ],
             [
              0.8888888888888888,
              "#fdca26"
             ],
             [
              1,
              "#f0f921"
             ]
            ],
            "type": "histogram2dcontour"
           }
          ],
          "mesh3d": [
           {
            "colorbar": {
             "outlinewidth": 0,
             "ticks": ""
            },
            "type": "mesh3d"
           }
          ],
          "parcoords": [
           {
            "line": {
             "colorbar": {
              "outlinewidth": 0,
              "ticks": ""
             }
            },
            "type": "parcoords"
           }
          ],
          "pie": [
           {
            "automargin": true,
            "type": "pie"
           }
          ],
          "scatter": [
           {
            "fillpattern": {
             "fillmode": "overlay",
             "size": 10,
             "solidity": 0.2
            },
            "type": "scatter"
           }
          ],
          "scatter3d": [
           {
            "line": {
             "colorbar": {
              "outlinewidth": 0,
              "ticks": ""
             }
            },
            "marker": {
             "colorbar": {
              "outlinewidth": 0,
              "ticks": ""
             }
            },
            "type": "scatter3d"
           }
          ],
          "scattercarpet": [
           {
            "marker": {
             "colorbar": {
              "outlinewidth": 0,
              "ticks": ""
             }
            },
            "type": "scattercarpet"
           }
          ],
          "scattergeo": [
           {
            "marker": {
             "colorbar": {
              "outlinewidth": 0,
              "ticks": ""
             }
            },
            "type": "scattergeo"
           }
          ],
          "scattergl": [
           {
            "marker": {
             "colorbar": {
              "outlinewidth": 0,
              "ticks": ""
             }
            },
            "type": "scattergl"
           }
          ],
          "scattermapbox": [
           {
            "marker": {
             "colorbar": {
              "outlinewidth": 0,
              "ticks": ""
             }
            },
            "type": "scattermapbox"
           }
          ],
          "scatterpolar": [
           {
            "marker": {
             "colorbar": {
              "outlinewidth": 0,
              "ticks": ""
             }
            },
            "type": "scatterpolar"
           }
          ],
          "scatterpolargl": [
           {
            "marker": {
             "colorbar": {
              "outlinewidth": 0,
              "ticks": ""
             }
            },
            "type": "scatterpolargl"
           }
          ],
          "scatterternary": [
           {
            "marker": {
             "colorbar": {
              "outlinewidth": 0,
              "ticks": ""
             }
            },
            "type": "scatterternary"
           }
          ],
          "surface": [
           {
            "colorbar": {
             "outlinewidth": 0,
             "ticks": ""
            },
            "colorscale": [
             [
              0,
              "#0d0887"
             ],
             [
              0.1111111111111111,
              "#46039f"
             ],
             [
              0.2222222222222222,
              "#7201a8"
             ],
             [
              0.3333333333333333,
              "#9c179e"
             ],
             [
              0.4444444444444444,
              "#bd3786"
             ],
             [
              0.5555555555555556,
              "#d8576b"
             ],
             [
              0.6666666666666666,
              "#ed7953"
             ],
             [
              0.7777777777777778,
              "#fb9f3a"
             ],
             [
              0.8888888888888888,
              "#fdca26"
             ],
             [
              1,
              "#f0f921"
             ]
            ],
            "type": "surface"
           }
          ],
          "table": [
           {
            "cells": {
             "fill": {
              "color": "#EBF0F8"
             },
             "line": {
              "color": "white"
             }
            },
            "header": {
             "fill": {
              "color": "#C8D4E3"
             },
             "line": {
              "color": "white"
             }
            },
            "type": "table"
           }
          ]
         },
         "layout": {
          "annotationdefaults": {
           "arrowcolor": "#2a3f5f",
           "arrowhead": 0,
           "arrowwidth": 1
          },
          "autotypenumbers": "strict",
          "coloraxis": {
           "colorbar": {
            "outlinewidth": 0,
            "ticks": ""
           }
          },
          "colorscale": {
           "diverging": [
            [
             0,
             "#8e0152"
            ],
            [
             0.1,
             "#c51b7d"
            ],
            [
             0.2,
             "#de77ae"
            ],
            [
             0.3,
             "#f1b6da"
            ],
            [
             0.4,
             "#fde0ef"
            ],
            [
             0.5,
             "#f7f7f7"
            ],
            [
             0.6,
             "#e6f5d0"
            ],
            [
             0.7,
             "#b8e186"
            ],
            [
             0.8,
             "#7fbc41"
            ],
            [
             0.9,
             "#4d9221"
            ],
            [
             1,
             "#276419"
            ]
           ],
           "sequential": [
            [
             0,
             "#0d0887"
            ],
            [
             0.1111111111111111,
             "#46039f"
            ],
            [
             0.2222222222222222,
             "#7201a8"
            ],
            [
             0.3333333333333333,
             "#9c179e"
            ],
            [
             0.4444444444444444,
             "#bd3786"
            ],
            [
             0.5555555555555556,
             "#d8576b"
            ],
            [
             0.6666666666666666,
             "#ed7953"
            ],
            [
             0.7777777777777778,
             "#fb9f3a"
            ],
            [
             0.8888888888888888,
             "#fdca26"
            ],
            [
             1,
             "#f0f921"
            ]
           ],
           "sequentialminus": [
            [
             0,
             "#0d0887"
            ],
            [
             0.1111111111111111,
             "#46039f"
            ],
            [
             0.2222222222222222,
             "#7201a8"
            ],
            [
             0.3333333333333333,
             "#9c179e"
            ],
            [
             0.4444444444444444,
             "#bd3786"
            ],
            [
             0.5555555555555556,
             "#d8576b"
            ],
            [
             0.6666666666666666,
             "#ed7953"
            ],
            [
             0.7777777777777778,
             "#fb9f3a"
            ],
            [
             0.8888888888888888,
             "#fdca26"
            ],
            [
             1,
             "#f0f921"
            ]
           ]
          },
          "colorway": [
           "#636efa",
           "#EF553B",
           "#00cc96",
           "#ab63fa",
           "#FFA15A",
           "#19d3f3",
           "#FF6692",
           "#B6E880",
           "#FF97FF",
           "#FECB52"
          ],
          "font": {
           "color": "#2a3f5f"
          },
          "geo": {
           "bgcolor": "white",
           "lakecolor": "white",
           "landcolor": "#E5ECF6",
           "showlakes": true,
           "showland": true,
           "subunitcolor": "white"
          },
          "hoverlabel": {
           "align": "left"
          },
          "hovermode": "closest",
          "mapbox": {
           "style": "light"
          },
          "paper_bgcolor": "white",
          "plot_bgcolor": "#E5ECF6",
          "polar": {
           "angularaxis": {
            "gridcolor": "white",
            "linecolor": "white",
            "ticks": ""
           },
           "bgcolor": "#E5ECF6",
           "radialaxis": {
            "gridcolor": "white",
            "linecolor": "white",
            "ticks": ""
           }
          },
          "scene": {
           "xaxis": {
            "backgroundcolor": "#E5ECF6",
            "gridcolor": "white",
            "gridwidth": 2,
            "linecolor": "white",
            "showbackground": true,
            "ticks": "",
            "zerolinecolor": "white"
           },
           "yaxis": {
            "backgroundcolor": "#E5ECF6",
            "gridcolor": "white",
            "gridwidth": 2,
            "linecolor": "white",
            "showbackground": true,
            "ticks": "",
            "zerolinecolor": "white"
           },
           "zaxis": {
            "backgroundcolor": "#E5ECF6",
            "gridcolor": "white",
            "gridwidth": 2,
            "linecolor": "white",
            "showbackground": true,
            "ticks": "",
            "zerolinecolor": "white"
           }
          },
          "shapedefaults": {
           "line": {
            "color": "#2a3f5f"
           }
          },
          "ternary": {
           "aaxis": {
            "gridcolor": "white",
            "linecolor": "white",
            "ticks": ""
           },
           "baxis": {
            "gridcolor": "white",
            "linecolor": "white",
            "ticks": ""
           },
           "bgcolor": "#E5ECF6",
           "caxis": {
            "gridcolor": "white",
            "linecolor": "white",
            "ticks": ""
           }
          },
          "title": {
           "x": 0.05
          },
          "xaxis": {
           "automargin": true,
           "gridcolor": "white",
           "linecolor": "white",
           "ticks": "",
           "title": {
            "standoff": 15
           },
           "zerolinecolor": "white",
           "zerolinewidth": 2
          },
          "yaxis": {
           "automargin": true,
           "gridcolor": "white",
           "linecolor": "white",
           "ticks": "",
           "title": {
            "standoff": 15
           },
           "zerolinecolor": "white",
           "zerolinewidth": 2
          }
         }
        },
        "title": {
         "text": "t_0_c_g"
        },
        "xaxis": {
         "anchor": "y",
         "domain": [
          0,
          1
         ],
         "title": {
          "text": "n"
         }
        },
        "yaxis": {
         "anchor": "x",
         "categoryarray": [
          "인생 최악",
          "평점 보고",
          "생각 보다",
          "내용 인지",
          "스토리 전개",
          "뻔한 스토리",
          "부터 까지",
          "처음 부터",
          "노잼 노잼",
          "쓰레기 같은",
          "감동 없고",
          "이런 쓰레기",
          "재미 없다",
          "시간 낭비",
          "배우 연기",
          "시간 아깝다",
          "보지 마세요",
          "보는 내내",
          "점도 아깝다",
          "재미 없고"
         ],
         "categoryorder": "array",
         "domain": [
          0,
          1
         ],
         "title": {
          "text": "c_w"
         }
        }
       }
      },
      "text/html": [
       "<div>                            <div id=\"1c72a7aa-3e11-4e9a-8e39-f72758ef0575\" class=\"plotly-graph-div\" style=\"height:525px; width:100%;\"></div>            <script type=\"text/javascript\">                require([\"plotly\"], function(Plotly) {                    window.PLOTLYENV=window.PLOTLYENV || {};                                    if (document.getElementById(\"1c72a7aa-3e11-4e9a-8e39-f72758ef0575\")) {                    Plotly.newPlot(                        \"1c72a7aa-3e11-4e9a-8e39-f72758ef0575\",                        [{\"alignmentgroup\":\"True\",\"hovertemplate\":\"c_w=%{y}<br>n=%{x}<extra></extra>\",\"legendgroup\":\"\\uc7ac\\ubbf8 \\uc5c6\\uace0\",\"marker\":{\"color\":\"#636efa\",\"pattern\":{\"shape\":\"\"}},\"name\":\"\\uc7ac\\ubbf8 \\uc5c6\\uace0\",\"offsetgroup\":\"\\uc7ac\\ubbf8 \\uc5c6\\uace0\",\"orientation\":\"h\",\"showlegend\":true,\"textposition\":\"auto\",\"x\":[139],\"xaxis\":\"x\",\"y\":[\"\\uc7ac\\ubbf8 \\uc5c6\\uace0\"],\"yaxis\":\"y\",\"type\":\"bar\"},{\"alignmentgroup\":\"True\",\"hovertemplate\":\"c_w=%{y}<br>n=%{x}<extra></extra>\",\"legendgroup\":\"\\uc810\\ub3c4 \\uc544\\uae5d\\ub2e4\",\"marker\":{\"color\":\"#EF553B\",\"pattern\":{\"shape\":\"\"}},\"name\":\"\\uc810\\ub3c4 \\uc544\\uae5d\\ub2e4\",\"offsetgroup\":\"\\uc810\\ub3c4 \\uc544\\uae5d\\ub2e4\",\"orientation\":\"h\",\"showlegend\":true,\"textposition\":\"auto\",\"x\":[98],\"xaxis\":\"x\",\"y\":[\"\\uc810\\ub3c4 \\uc544\\uae5d\\ub2e4\"],\"yaxis\":\"y\",\"type\":\"bar\"},{\"alignmentgroup\":\"True\",\"hovertemplate\":\"c_w=%{y}<br>n=%{x}<extra></extra>\",\"legendgroup\":\"\\ubcf4\\ub294 \\ub0b4\\ub0b4\",\"marker\":{\"color\":\"#00cc96\",\"pattern\":{\"shape\":\"\"}},\"name\":\"\\ubcf4\\ub294 \\ub0b4\\ub0b4\",\"offsetgroup\":\"\\ubcf4\\ub294 \\ub0b4\\ub0b4\",\"orientation\":\"h\",\"showlegend\":true,\"textposition\":\"auto\",\"x\":[96],\"xaxis\":\"x\",\"y\":[\"\\ubcf4\\ub294 \\ub0b4\\ub0b4\"],\"yaxis\":\"y\",\"type\":\"bar\"},{\"alignmentgroup\":\"True\",\"hovertemplate\":\"c_w=%{y}<br>n=%{x}<extra></extra>\",\"legendgroup\":\"\\ubcf4\\uc9c0 \\ub9c8\\uc138\\uc694\",\"marker\":{\"color\":\"#ab63fa\",\"pattern\":{\"shape\":\"\"}},\"name\":\"\\ubcf4\\uc9c0 \\ub9c8\\uc138\\uc694\",\"offsetgroup\":\"\\ubcf4\\uc9c0 \\ub9c8\\uc138\\uc694\",\"orientation\":\"h\",\"showlegend\":true,\"textposition\":\"auto\",\"x\":[93],\"xaxis\":\"x\",\"y\":[\"\\ubcf4\\uc9c0 \\ub9c8\\uc138\\uc694\"],\"yaxis\":\"y\",\"type\":\"bar\"},{\"alignmentgroup\":\"True\",\"hovertemplate\":\"c_w=%{y}<br>n=%{x}<extra></extra>\",\"legendgroup\":\"\\uc2dc\\uac04 \\uc544\\uae5d\\ub2e4\",\"marker\":{\"color\":\"#FFA15A\",\"pattern\":{\"shape\":\"\"}},\"name\":\"\\uc2dc\\uac04 \\uc544\\uae5d\\ub2e4\",\"offsetgroup\":\"\\uc2dc\\uac04 \\uc544\\uae5d\\ub2e4\",\"orientation\":\"h\",\"showlegend\":true,\"textposition\":\"auto\",\"x\":[90],\"xaxis\":\"x\",\"y\":[\"\\uc2dc\\uac04 \\uc544\\uae5d\\ub2e4\"],\"yaxis\":\"y\",\"type\":\"bar\"},{\"alignmentgroup\":\"True\",\"hovertemplate\":\"c_w=%{y}<br>n=%{x}<extra></extra>\",\"legendgroup\":\"\\ubc30\\uc6b0 \\uc5f0\\uae30\",\"marker\":{\"color\":\"#19d3f3\",\"pattern\":{\"shape\":\"\"}},\"name\":\"\\ubc30\\uc6b0 \\uc5f0\\uae30\",\"offsetgroup\":\"\\ubc30\\uc6b0 \\uc5f0\\uae30\",\"orientation\":\"h\",\"showlegend\":true,\"textposition\":\"auto\",\"x\":[85],\"xaxis\":\"x\",\"y\":[\"\\ubc30\\uc6b0 \\uc5f0\\uae30\"],\"yaxis\":\"y\",\"type\":\"bar\"},{\"alignmentgroup\":\"True\",\"hovertemplate\":\"c_w=%{y}<br>n=%{x}<extra></extra>\",\"legendgroup\":\"\\uc2dc\\uac04 \\ub0ad\\ube44\",\"marker\":{\"color\":\"#FF6692\",\"pattern\":{\"shape\":\"\"}},\"name\":\"\\uc2dc\\uac04 \\ub0ad\\ube44\",\"offsetgroup\":\"\\uc2dc\\uac04 \\ub0ad\\ube44\",\"orientation\":\"h\",\"showlegend\":true,\"textposition\":\"auto\",\"x\":[83],\"xaxis\":\"x\",\"y\":[\"\\uc2dc\\uac04 \\ub0ad\\ube44\"],\"yaxis\":\"y\",\"type\":\"bar\"},{\"alignmentgroup\":\"True\",\"hovertemplate\":\"c_w=%{y}<br>n=%{x}<extra></extra>\",\"legendgroup\":\"\\uc7ac\\ubbf8 \\uc5c6\\ub2e4\",\"marker\":{\"color\":\"#B6E880\",\"pattern\":{\"shape\":\"\"}},\"name\":\"\\uc7ac\\ubbf8 \\uc5c6\\ub2e4\",\"offsetgroup\":\"\\uc7ac\\ubbf8 \\uc5c6\\ub2e4\",\"orientation\":\"h\",\"showlegend\":true,\"textposition\":\"auto\",\"x\":[83],\"xaxis\":\"x\",\"y\":[\"\\uc7ac\\ubbf8 \\uc5c6\\ub2e4\"],\"yaxis\":\"y\",\"type\":\"bar\"},{\"alignmentgroup\":\"True\",\"hovertemplate\":\"c_w=%{y}<br>n=%{x}<extra></extra>\",\"legendgroup\":\"\\uc774\\ub7f0 \\uc4f0\\ub808\\uae30\",\"marker\":{\"color\":\"#FF97FF\",\"pattern\":{\"shape\":\"\"}},\"name\":\"\\uc774\\ub7f0 \\uc4f0\\ub808\\uae30\",\"offsetgroup\":\"\\uc774\\ub7f0 \\uc4f0\\ub808\\uae30\",\"orientation\":\"h\",\"showlegend\":true,\"textposition\":\"auto\",\"x\":[64],\"xaxis\":\"x\",\"y\":[\"\\uc774\\ub7f0 \\uc4f0\\ub808\\uae30\"],\"yaxis\":\"y\",\"type\":\"bar\"},{\"alignmentgroup\":\"True\",\"hovertemplate\":\"c_w=%{y}<br>n=%{x}<extra></extra>\",\"legendgroup\":\"\\uac10\\ub3d9 \\uc5c6\\uace0\",\"marker\":{\"color\":\"#FECB52\",\"pattern\":{\"shape\":\"\"}},\"name\":\"\\uac10\\ub3d9 \\uc5c6\\uace0\",\"offsetgroup\":\"\\uac10\\ub3d9 \\uc5c6\\uace0\",\"orientation\":\"h\",\"showlegend\":true,\"textposition\":\"auto\",\"x\":[64],\"xaxis\":\"x\",\"y\":[\"\\uac10\\ub3d9 \\uc5c6\\uace0\"],\"yaxis\":\"y\",\"type\":\"bar\"},{\"alignmentgroup\":\"True\",\"hovertemplate\":\"c_w=%{y}<br>n=%{x}<extra></extra>\",\"legendgroup\":\"\\uc4f0\\ub808\\uae30 \\uac19\\uc740\",\"marker\":{\"color\":\"#636efa\",\"pattern\":{\"shape\":\"\"}},\"name\":\"\\uc4f0\\ub808\\uae30 \\uac19\\uc740\",\"offsetgroup\":\"\\uc4f0\\ub808\\uae30 \\uac19\\uc740\",\"orientation\":\"h\",\"showlegend\":true,\"textposition\":\"auto\",\"x\":[63],\"xaxis\":\"x\",\"y\":[\"\\uc4f0\\ub808\\uae30 \\uac19\\uc740\"],\"yaxis\":\"y\",\"type\":\"bar\"},{\"alignmentgroup\":\"True\",\"hovertemplate\":\"c_w=%{y}<br>n=%{x}<extra></extra>\",\"legendgroup\":\"\\ub178\\uc7bc \\ub178\\uc7bc\",\"marker\":{\"color\":\"#EF553B\",\"pattern\":{\"shape\":\"\"}},\"name\":\"\\ub178\\uc7bc \\ub178\\uc7bc\",\"offsetgroup\":\"\\ub178\\uc7bc \\ub178\\uc7bc\",\"orientation\":\"h\",\"showlegend\":true,\"textposition\":\"auto\",\"x\":[57],\"xaxis\":\"x\",\"y\":[\"\\ub178\\uc7bc \\ub178\\uc7bc\"],\"yaxis\":\"y\",\"type\":\"bar\"},{\"alignmentgroup\":\"True\",\"hovertemplate\":\"c_w=%{y}<br>n=%{x}<extra></extra>\",\"legendgroup\":\"\\ucc98\\uc74c \\ubd80\\ud130\",\"marker\":{\"color\":\"#00cc96\",\"pattern\":{\"shape\":\"\"}},\"name\":\"\\ucc98\\uc74c \\ubd80\\ud130\",\"offsetgroup\":\"\\ucc98\\uc74c \\ubd80\\ud130\",\"orientation\":\"h\",\"showlegend\":true,\"textposition\":\"auto\",\"x\":[51],\"xaxis\":\"x\",\"y\":[\"\\ucc98\\uc74c \\ubd80\\ud130\"],\"yaxis\":\"y\",\"type\":\"bar\"},{\"alignmentgroup\":\"True\",\"hovertemplate\":\"c_w=%{y}<br>n=%{x}<extra></extra>\",\"legendgroup\":\"\\ubd80\\ud130 \\uae4c\\uc9c0\",\"marker\":{\"color\":\"#ab63fa\",\"pattern\":{\"shape\":\"\"}},\"name\":\"\\ubd80\\ud130 \\uae4c\\uc9c0\",\"offsetgroup\":\"\\ubd80\\ud130 \\uae4c\\uc9c0\",\"orientation\":\"h\",\"showlegend\":true,\"textposition\":\"auto\",\"x\":[50],\"xaxis\":\"x\",\"y\":[\"\\ubd80\\ud130 \\uae4c\\uc9c0\"],\"yaxis\":\"y\",\"type\":\"bar\"},{\"alignmentgroup\":\"True\",\"hovertemplate\":\"c_w=%{y}<br>n=%{x}<extra></extra>\",\"legendgroup\":\"\\ubed4\\ud55c \\uc2a4\\ud1a0\\ub9ac\",\"marker\":{\"color\":\"#FFA15A\",\"pattern\":{\"shape\":\"\"}},\"name\":\"\\ubed4\\ud55c \\uc2a4\\ud1a0\\ub9ac\",\"offsetgroup\":\"\\ubed4\\ud55c \\uc2a4\\ud1a0\\ub9ac\",\"orientation\":\"h\",\"showlegend\":true,\"textposition\":\"auto\",\"x\":[50],\"xaxis\":\"x\",\"y\":[\"\\ubed4\\ud55c \\uc2a4\\ud1a0\\ub9ac\"],\"yaxis\":\"y\",\"type\":\"bar\"},{\"alignmentgroup\":\"True\",\"hovertemplate\":\"c_w=%{y}<br>n=%{x}<extra></extra>\",\"legendgroup\":\"\\uc2a4\\ud1a0\\ub9ac \\uc804\\uac1c\",\"marker\":{\"color\":\"#19d3f3\",\"pattern\":{\"shape\":\"\"}},\"name\":\"\\uc2a4\\ud1a0\\ub9ac \\uc804\\uac1c\",\"offsetgroup\":\"\\uc2a4\\ud1a0\\ub9ac \\uc804\\uac1c\",\"orientation\":\"h\",\"showlegend\":true,\"textposition\":\"auto\",\"x\":[50],\"xaxis\":\"x\",\"y\":[\"\\uc2a4\\ud1a0\\ub9ac \\uc804\\uac1c\"],\"yaxis\":\"y\",\"type\":\"bar\"},{\"alignmentgroup\":\"True\",\"hovertemplate\":\"c_w=%{y}<br>n=%{x}<extra></extra>\",\"legendgroup\":\"\\ub0b4\\uc6a9 \\uc778\\uc9c0\",\"marker\":{\"color\":\"#FF6692\",\"pattern\":{\"shape\":\"\"}},\"name\":\"\\ub0b4\\uc6a9 \\uc778\\uc9c0\",\"offsetgroup\":\"\\ub0b4\\uc6a9 \\uc778\\uc9c0\",\"orientation\":\"h\",\"showlegend\":true,\"textposition\":\"auto\",\"x\":[49],\"xaxis\":\"x\",\"y\":[\"\\ub0b4\\uc6a9 \\uc778\\uc9c0\"],\"yaxis\":\"y\",\"type\":\"bar\"},{\"alignmentgroup\":\"True\",\"hovertemplate\":\"c_w=%{y}<br>n=%{x}<extra></extra>\",\"legendgroup\":\"\\uc0dd\\uac01 \\ubcf4\\ub2e4\",\"marker\":{\"color\":\"#B6E880\",\"pattern\":{\"shape\":\"\"}},\"name\":\"\\uc0dd\\uac01 \\ubcf4\\ub2e4\",\"offsetgroup\":\"\\uc0dd\\uac01 \\ubcf4\\ub2e4\",\"orientation\":\"h\",\"showlegend\":true,\"textposition\":\"auto\",\"x\":[44],\"xaxis\":\"x\",\"y\":[\"\\uc0dd\\uac01 \\ubcf4\\ub2e4\"],\"yaxis\":\"y\",\"type\":\"bar\"},{\"alignmentgroup\":\"True\",\"hovertemplate\":\"c_w=%{y}<br>n=%{x}<extra></extra>\",\"legendgroup\":\"\\ud3c9\\uc810 \\ubcf4\\uace0\",\"marker\":{\"color\":\"#FF97FF\",\"pattern\":{\"shape\":\"\"}},\"name\":\"\\ud3c9\\uc810 \\ubcf4\\uace0\",\"offsetgroup\":\"\\ud3c9\\uc810 \\ubcf4\\uace0\",\"orientation\":\"h\",\"showlegend\":true,\"textposition\":\"auto\",\"x\":[44],\"xaxis\":\"x\",\"y\":[\"\\ud3c9\\uc810 \\ubcf4\\uace0\"],\"yaxis\":\"y\",\"type\":\"bar\"},{\"alignmentgroup\":\"True\",\"hovertemplate\":\"c_w=%{y}<br>n=%{x}<extra></extra>\",\"legendgroup\":\"\\uc778\\uc0dd \\ucd5c\\uc545\",\"marker\":{\"color\":\"#FECB52\",\"pattern\":{\"shape\":\"\"}},\"name\":\"\\uc778\\uc0dd \\ucd5c\\uc545\",\"offsetgroup\":\"\\uc778\\uc0dd \\ucd5c\\uc545\",\"orientation\":\"h\",\"showlegend\":true,\"textposition\":\"auto\",\"x\":[44],\"xaxis\":\"x\",\"y\":[\"\\uc778\\uc0dd \\ucd5c\\uc545\"],\"yaxis\":\"y\",\"type\":\"bar\"}],                        {\"template\":{\"data\":{\"histogram2dcontour\":[{\"type\":\"histogram2dcontour\",\"colorbar\":{\"outlinewidth\":0,\"ticks\":\"\"},\"colorscale\":[[0.0,\"#0d0887\"],[0.1111111111111111,\"#46039f\"],[0.2222222222222222,\"#7201a8\"],[0.3333333333333333,\"#9c179e\"],[0.4444444444444444,\"#bd3786\"],[0.5555555555555556,\"#d8576b\"],[0.6666666666666666,\"#ed7953\"],[0.7777777777777778,\"#fb9f3a\"],[0.8888888888888888,\"#fdca26\"],[1.0,\"#f0f921\"]]}],\"choropleth\":[{\"type\":\"choropleth\",\"colorbar\":{\"outlinewidth\":0,\"ticks\":\"\"}}],\"histogram2d\":[{\"type\":\"histogram2d\",\"colorbar\":{\"outlinewidth\":0,\"ticks\":\"\"},\"colorscale\":[[0.0,\"#0d0887\"],[0.1111111111111111,\"#46039f\"],[0.2222222222222222,\"#7201a8\"],[0.3333333333333333,\"#9c179e\"],[0.4444444444444444,\"#bd3786\"],[0.5555555555555556,\"#d8576b\"],[0.6666666666666666,\"#ed7953\"],[0.7777777777777778,\"#fb9f3a\"],[0.8888888888888888,\"#fdca26\"],[1.0,\"#f0f921\"]]}],\"heatmap\":[{\"type\":\"heatmap\",\"colorbar\":{\"outlinewidth\":0,\"ticks\":\"\"},\"colorscale\":[[0.0,\"#0d0887\"],[0.1111111111111111,\"#46039f\"],[0.2222222222222222,\"#7201a8\"],[0.3333333333333333,\"#9c179e\"],[0.4444444444444444,\"#bd3786\"],[0.5555555555555556,\"#d8576b\"],[0.6666666666666666,\"#ed7953\"],[0.7777777777777778,\"#fb9f3a\"],[0.8888888888888888,\"#fdca26\"],[1.0,\"#f0f921\"]]}],\"heatmapgl\":[{\"type\":\"heatmapgl\",\"colorbar\":{\"outlinewidth\":0,\"ticks\":\"\"},\"colorscale\":[[0.0,\"#0d0887\"],[0.1111111111111111,\"#46039f\"],[0.2222222222222222,\"#7201a8\"],[0.3333333333333333,\"#9c179e\"],[0.4444444444444444,\"#bd3786\"],[0.5555555555555556,\"#d8576b\"],[0.6666666666666666,\"#ed7953\"],[0.7777777777777778,\"#fb9f3a\"],[0.8888888888888888,\"#fdca26\"],[1.0,\"#f0f921\"]]}],\"contourcarpet\":[{\"type\":\"contourcarpet\",\"colorbar\":{\"outlinewidth\":0,\"ticks\":\"\"}}],\"contour\":[{\"type\":\"contour\",\"colorbar\":{\"outlinewidth\":0,\"ticks\":\"\"},\"colorscale\":[[0.0,\"#0d0887\"],[0.1111111111111111,\"#46039f\"],[0.2222222222222222,\"#7201a8\"],[0.3333333333333333,\"#9c179e\"],[0.4444444444444444,\"#bd3786\"],[0.5555555555555556,\"#d8576b\"],[0.6666666666666666,\"#ed7953\"],[0.7777777777777778,\"#fb9f3a\"],[0.8888888888888888,\"#fdca26\"],[1.0,\"#f0f921\"]]}],\"surface\":[{\"type\":\"surface\",\"colorbar\":{\"outlinewidth\":0,\"ticks\":\"\"},\"colorscale\":[[0.0,\"#0d0887\"],[0.1111111111111111,\"#46039f\"],[0.2222222222222222,\"#7201a8\"],[0.3333333333333333,\"#9c179e\"],[0.4444444444444444,\"#bd3786\"],[0.5555555555555556,\"#d8576b\"],[0.6666666666666666,\"#ed7953\"],[0.7777777777777778,\"#fb9f3a\"],[0.8888888888888888,\"#fdca26\"],[1.0,\"#f0f921\"]]}],\"mesh3d\":[{\"type\":\"mesh3d\",\"colorbar\":{\"outlinewidth\":0,\"ticks\":\"\"}}],\"scatter\":[{\"fillpattern\":{\"fillmode\":\"overlay\",\"size\":10,\"solidity\":0.2},\"type\":\"scatter\"}],\"parcoords\":[{\"type\":\"parcoords\",\"line\":{\"colorbar\":{\"outlinewidth\":0,\"ticks\":\"\"}}}],\"scatterpolargl\":[{\"type\":\"scatterpolargl\",\"marker\":{\"colorbar\":{\"outlinewidth\":0,\"ticks\":\"\"}}}],\"bar\":[{\"error_x\":{\"color\":\"#2a3f5f\"},\"error_y\":{\"color\":\"#2a3f5f\"},\"marker\":{\"line\":{\"color\":\"#E5ECF6\",\"width\":0.5},\"pattern\":{\"fillmode\":\"overlay\",\"size\":10,\"solidity\":0.2}},\"type\":\"bar\"}],\"scattergeo\":[{\"type\":\"scattergeo\",\"marker\":{\"colorbar\":{\"outlinewidth\":0,\"ticks\":\"\"}}}],\"scatterpolar\":[{\"type\":\"scatterpolar\",\"marker\":{\"colorbar\":{\"outlinewidth\":0,\"ticks\":\"\"}}}],\"histogram\":[{\"marker\":{\"pattern\":{\"fillmode\":\"overlay\",\"size\":10,\"solidity\":0.2}},\"type\":\"histogram\"}],\"scattergl\":[{\"type\":\"scattergl\",\"marker\":{\"colorbar\":{\"outlinewidth\":0,\"ticks\":\"\"}}}],\"scatter3d\":[{\"type\":\"scatter3d\",\"line\":{\"colorbar\":{\"outlinewidth\":0,\"ticks\":\"\"}},\"marker\":{\"colorbar\":{\"outlinewidth\":0,\"ticks\":\"\"}}}],\"scattermapbox\":[{\"type\":\"scattermapbox\",\"marker\":{\"colorbar\":{\"outlinewidth\":0,\"ticks\":\"\"}}}],\"scatterternary\":[{\"type\":\"scatterternary\",\"marker\":{\"colorbar\":{\"outlinewidth\":0,\"ticks\":\"\"}}}],\"scattercarpet\":[{\"type\":\"scattercarpet\",\"marker\":{\"colorbar\":{\"outlinewidth\":0,\"ticks\":\"\"}}}],\"carpet\":[{\"aaxis\":{\"endlinecolor\":\"#2a3f5f\",\"gridcolor\":\"white\",\"linecolor\":\"white\",\"minorgridcolor\":\"white\",\"startlinecolor\":\"#2a3f5f\"},\"baxis\":{\"endlinecolor\":\"#2a3f5f\",\"gridcolor\":\"white\",\"linecolor\":\"white\",\"minorgridcolor\":\"white\",\"startlinecolor\":\"#2a3f5f\"},\"type\":\"carpet\"}],\"table\":[{\"cells\":{\"fill\":{\"color\":\"#EBF0F8\"},\"line\":{\"color\":\"white\"}},\"header\":{\"fill\":{\"color\":\"#C8D4E3\"},\"line\":{\"color\":\"white\"}},\"type\":\"table\"}],\"barpolar\":[{\"marker\":{\"line\":{\"color\":\"#E5ECF6\",\"width\":0.5},\"pattern\":{\"fillmode\":\"overlay\",\"size\":10,\"solidity\":0.2}},\"type\":\"barpolar\"}],\"pie\":[{\"automargin\":true,\"type\":\"pie\"}]},\"layout\":{\"autotypenumbers\":\"strict\",\"colorway\":[\"#636efa\",\"#EF553B\",\"#00cc96\",\"#ab63fa\",\"#FFA15A\",\"#19d3f3\",\"#FF6692\",\"#B6E880\",\"#FF97FF\",\"#FECB52\"],\"font\":{\"color\":\"#2a3f5f\"},\"hovermode\":\"closest\",\"hoverlabel\":{\"align\":\"left\"},\"paper_bgcolor\":\"white\",\"plot_bgcolor\":\"#E5ECF6\",\"polar\":{\"bgcolor\":\"#E5ECF6\",\"angularaxis\":{\"gridcolor\":\"white\",\"linecolor\":\"white\",\"ticks\":\"\"},\"radialaxis\":{\"gridcolor\":\"white\",\"linecolor\":\"white\",\"ticks\":\"\"}},\"ternary\":{\"bgcolor\":\"#E5ECF6\",\"aaxis\":{\"gridcolor\":\"white\",\"linecolor\":\"white\",\"ticks\":\"\"},\"baxis\":{\"gridcolor\":\"white\",\"linecolor\":\"white\",\"ticks\":\"\"},\"caxis\":{\"gridcolor\":\"white\",\"linecolor\":\"white\",\"ticks\":\"\"}},\"coloraxis\":{\"colorbar\":{\"outlinewidth\":0,\"ticks\":\"\"}},\"colorscale\":{\"sequential\":[[0.0,\"#0d0887\"],[0.1111111111111111,\"#46039f\"],[0.2222222222222222,\"#7201a8\"],[0.3333333333333333,\"#9c179e\"],[0.4444444444444444,\"#bd3786\"],[0.5555555555555556,\"#d8576b\"],[0.6666666666666666,\"#ed7953\"],[0.7777777777777778,\"#fb9f3a\"],[0.8888888888888888,\"#fdca26\"],[1.0,\"#f0f921\"]],\"sequentialminus\":[[0.0,\"#0d0887\"],[0.1111111111111111,\"#46039f\"],[0.2222222222222222,\"#7201a8\"],[0.3333333333333333,\"#9c179e\"],[0.4444444444444444,\"#bd3786\"],[0.5555555555555556,\"#d8576b\"],[0.6666666666666666,\"#ed7953\"],[0.7777777777777778,\"#fb9f3a\"],[0.8888888888888888,\"#fdca26\"],[1.0,\"#f0f921\"]],\"diverging\":[[0,\"#8e0152\"],[0.1,\"#c51b7d\"],[0.2,\"#de77ae\"],[0.3,\"#f1b6da\"],[0.4,\"#fde0ef\"],[0.5,\"#f7f7f7\"],[0.6,\"#e6f5d0\"],[0.7,\"#b8e186\"],[0.8,\"#7fbc41\"],[0.9,\"#4d9221\"],[1,\"#276419\"]]},\"xaxis\":{\"gridcolor\":\"white\",\"linecolor\":\"white\",\"ticks\":\"\",\"title\":{\"standoff\":15},\"zerolinecolor\":\"white\",\"automargin\":true,\"zerolinewidth\":2},\"yaxis\":{\"gridcolor\":\"white\",\"linecolor\":\"white\",\"ticks\":\"\",\"title\":{\"standoff\":15},\"zerolinecolor\":\"white\",\"automargin\":true,\"zerolinewidth\":2},\"scene\":{\"xaxis\":{\"backgroundcolor\":\"#E5ECF6\",\"gridcolor\":\"white\",\"linecolor\":\"white\",\"showbackground\":true,\"ticks\":\"\",\"zerolinecolor\":\"white\",\"gridwidth\":2},\"yaxis\":{\"backgroundcolor\":\"#E5ECF6\",\"gridcolor\":\"white\",\"linecolor\":\"white\",\"showbackground\":true,\"ticks\":\"\",\"zerolinecolor\":\"white\",\"gridwidth\":2},\"zaxis\":{\"backgroundcolor\":\"#E5ECF6\",\"gridcolor\":\"white\",\"linecolor\":\"white\",\"showbackground\":true,\"ticks\":\"\",\"zerolinecolor\":\"white\",\"gridwidth\":2}},\"shapedefaults\":{\"line\":{\"color\":\"#2a3f5f\"}},\"annotationdefaults\":{\"arrowcolor\":\"#2a3f5f\",\"arrowhead\":0,\"arrowwidth\":1},\"geo\":{\"bgcolor\":\"white\",\"landcolor\":\"#E5ECF6\",\"subunitcolor\":\"white\",\"showland\":true,\"showlakes\":true,\"lakecolor\":\"white\"},\"title\":{\"x\":0.05},\"mapbox\":{\"style\":\"light\"}}},\"xaxis\":{\"anchor\":\"y\",\"domain\":[0.0,1.0],\"title\":{\"text\":\"n\"}},\"yaxis\":{\"anchor\":\"x\",\"domain\":[0.0,1.0],\"title\":{\"text\":\"c_w\"},\"categoryorder\":\"array\",\"categoryarray\":[\"\\uc778\\uc0dd \\ucd5c\\uc545\",\"\\ud3c9\\uc810 \\ubcf4\\uace0\",\"\\uc0dd\\uac01 \\ubcf4\\ub2e4\",\"\\ub0b4\\uc6a9 \\uc778\\uc9c0\",\"\\uc2a4\\ud1a0\\ub9ac \\uc804\\uac1c\",\"\\ubed4\\ud55c \\uc2a4\\ud1a0\\ub9ac\",\"\\ubd80\\ud130 \\uae4c\\uc9c0\",\"\\ucc98\\uc74c \\ubd80\\ud130\",\"\\ub178\\uc7bc \\ub178\\uc7bc\",\"\\uc4f0\\ub808\\uae30 \\uac19\\uc740\",\"\\uac10\\ub3d9 \\uc5c6\\uace0\",\"\\uc774\\ub7f0 \\uc4f0\\ub808\\uae30\",\"\\uc7ac\\ubbf8 \\uc5c6\\ub2e4\",\"\\uc2dc\\uac04 \\ub0ad\\ube44\",\"\\ubc30\\uc6b0 \\uc5f0\\uae30\",\"\\uc2dc\\uac04 \\uc544\\uae5d\\ub2e4\",\"\\ubcf4\\uc9c0 \\ub9c8\\uc138\\uc694\",\"\\ubcf4\\ub294 \\ub0b4\\ub0b4\",\"\\uc810\\ub3c4 \\uc544\\uae5d\\ub2e4\",\"\\uc7ac\\ubbf8 \\uc5c6\\uace0\"]},\"legend\":{\"title\":{\"text\":\"c_w\"},\"tracegroupgap\":0},\"title\":{\"text\":\"t_0_c_g\"},\"barmode\":\"relative\"},                        {\"responsive\": true}                    ).then(function(){\n",
       "                            \n",
       "var gd = document.getElementById('1c72a7aa-3e11-4e9a-8e39-f72758ef0575');\n",
       "var x = new MutationObserver(function (mutations, observer) {{\n",
       "        var display = window.getComputedStyle(gd).display;\n",
       "        if (!display || display === 'none') {{\n",
       "            console.log([gd, 'removed!']);\n",
       "            Plotly.purge(gd);\n",
       "            observer.disconnect();\n",
       "        }}\n",
       "}});\n",
       "\n",
       "// Listen for the removal of the full notebook cells\n",
       "var notebookContainer = gd.closest('#notebook-container');\n",
       "if (notebookContainer) {{\n",
       "    x.observe(notebookContainer, {childList: true});\n",
       "}}\n",
       "\n",
       "// Listen for the clearing of the current output cell\n",
       "var outputEl = gd.closest('.output');\n",
       "if (outputEl) {{\n",
       "    x.observe(outputEl, {childList: true});\n",
       "}}\n",
       "\n",
       "                        })                };                });            </script>        </div>"
      ]
     },
     "metadata": {},
     "output_type": "display_data"
    }
   ],
   "source": [
    "t_l_0_data=dict(N_그램_표현(t_l_0_s,20,2))\n",
    "v_df2=pd.DataFrame(columns=['c_w','n'])\n",
    "v_df2['c_w']=list(t_l_0_data.keys())\n",
    "v_df2['n']=list(t_l_0_data.values())\n",
    "fig=px.bar(v_df2,x='n',y='c_w',orientation='h',title='t_0_c_g',color='c_w')#orientation:동작 형식\n",
    "fig.show()"
   ]
  },
  {
   "cell_type": "code",
   "execution_count": 57,
   "id": "8faf2de4",
   "metadata": {},
   "outputs": [
    {
     "data": {
      "application/vnd.plotly.v1+json": {
       "config": {
        "plotlyServerURL": "https://plot.ly"
       },
       "data": [
        {
         "alignmentgroup": "True",
         "hovertemplate": "c_w=%{y}<br>n=%{x}<extra></extra>",
         "legendgroup": "노잼 노잼 노잼",
         "marker": {
          "color": "#636efa",
          "pattern": {
           "shape": ""
          }
         },
         "name": "노잼 노잼 노잼",
         "offsetgroup": "노잼 노잼 노잼",
         "orientation": "h",
         "showlegend": true,
         "textposition": "auto",
         "type": "bar",
         "x": [
          46
         ],
         "xaxis": "x",
         "y": [
          "노잼 노잼 노잼"
         ],
         "yaxis": "y"
        },
        {
         "alignmentgroup": "True",
         "hovertemplate": "c_w=%{y}<br>n=%{x}<extra></extra>",
         "legendgroup": "처음 부터 까지",
         "marker": {
          "color": "#EF553B",
          "pattern": {
           "shape": ""
          }
         },
         "name": "처음 부터 까지",
         "offsetgroup": "처음 부터 까지",
         "orientation": "h",
         "showlegend": true,
         "textposition": "auto",
         "type": "bar",
         "x": [
          37
         ],
         "xaxis": "x",
         "y": [
          "처음 부터 까지"
         ],
         "yaxis": "y"
        },
        {
         "alignmentgroup": "True",
         "hovertemplate": "c_w=%{y}<br>n=%{x}<extra></extra>",
         "legendgroup": "없고 감동 없고",
         "marker": {
          "color": "#00cc96",
          "pattern": {
           "shape": ""
          }
         },
         "name": "없고 감동 없고",
         "offsetgroup": "없고 감동 없고",
         "orientation": "h",
         "showlegend": true,
         "textposition": "auto",
         "type": "bar",
         "x": [
          34
         ],
         "xaxis": "x",
         "y": [
          "없고 감동 없고"
         ],
         "yaxis": "y"
        },
        {
         "alignmentgroup": "True",
         "hovertemplate": "c_w=%{y}<br>n=%{x}<extra></extra>",
         "legendgroup": "재미 없고 감동",
         "marker": {
          "color": "#ab63fa",
          "pattern": {
           "shape": ""
          }
         },
         "name": "재미 없고 감동",
         "offsetgroup": "재미 없고 감동",
         "orientation": "h",
         "showlegend": true,
         "textposition": "auto",
         "type": "bar",
         "x": [
          32
         ],
         "xaxis": "x",
         "y": [
          "재미 없고 감동"
         ],
         "yaxis": "y"
        },
        {
         "alignmentgroup": "True",
         "hovertemplate": "c_w=%{y}<br>n=%{x}<extra></extra>",
         "legendgroup": "없고 재미 없고",
         "marker": {
          "color": "#FFA15A",
          "pattern": {
           "shape": ""
          }
         },
         "name": "없고 재미 없고",
         "offsetgroup": "없고 재미 없고",
         "orientation": "h",
         "showlegend": true,
         "textposition": "auto",
         "type": "bar",
         "x": [
          23
         ],
         "xaxis": "x",
         "y": [
          "없고 재미 없고"
         ],
         "yaxis": "y"
        },
        {
         "alignmentgroup": "True",
         "hovertemplate": "c_w=%{y}<br>n=%{x}<extra></extra>",
         "legendgroup": "무슨 내용 인지",
         "marker": {
          "color": "#19d3f3",
          "pattern": {
           "shape": ""
          }
         },
         "name": "무슨 내용 인지",
         "offsetgroup": "무슨 내용 인지",
         "orientation": "h",
         "showlegend": true,
         "textposition": "auto",
         "type": "bar",
         "x": [
          21
         ],
         "xaxis": "x",
         "y": [
          "무슨 내용 인지"
         ],
         "yaxis": "y"
        },
        {
         "alignmentgroup": "True",
         "hovertemplate": "c_w=%{y}<br>n=%{x}<extra></extra>",
         "legendgroup": "절대 보지 마세요",
         "marker": {
          "color": "#FF6692",
          "pattern": {
           "shape": ""
          }
         },
         "name": "절대 보지 마세요",
         "offsetgroup": "절대 보지 마세요",
         "orientation": "h",
         "showlegend": true,
         "textposition": "auto",
         "type": "bar",
         "x": [
          20
         ],
         "xaxis": "x",
         "y": [
          "절대 보지 마세요"
         ],
         "yaxis": "y"
        },
        {
         "alignmentgroup": "True",
         "hovertemplate": "c_w=%{y}<br>n=%{x}<extra></extra>",
         "legendgroup": "개연 성도 없고",
         "marker": {
          "color": "#B6E880",
          "pattern": {
           "shape": ""
          }
         },
         "name": "개연 성도 없고",
         "offsetgroup": "개연 성도 없고",
         "orientation": "h",
         "showlegend": true,
         "textposition": "auto",
         "type": "bar",
         "x": [
          19
         ],
         "xaxis": "x",
         "y": [
          "개연 성도 없고"
         ],
         "yaxis": "y"
        },
        {
         "alignmentgroup": "True",
         "hovertemplate": "c_w=%{y}<br>n=%{x}<extra></extra>",
         "legendgroup": "재미 더럽게 없다",
         "marker": {
          "color": "#FF97FF",
          "pattern": {
           "shape": ""
          }
         },
         "name": "재미 더럽게 없다",
         "offsetgroup": "재미 더럽게 없다",
         "orientation": "h",
         "showlegend": true,
         "textposition": "auto",
         "type": "bar",
         "x": [
          18
         ],
         "xaxis": "x",
         "y": [
          "재미 더럽게 없다"
         ],
         "yaxis": "y"
        },
        {
         "alignmentgroup": "True",
         "hovertemplate": "c_w=%{y}<br>n=%{x}<extra></extra>",
         "legendgroup": "이런 쓰레기 같은",
         "marker": {
          "color": "#FECB52",
          "pattern": {
           "shape": ""
          }
         },
         "name": "이런 쓰레기 같은",
         "offsetgroup": "이런 쓰레기 같은",
         "orientation": "h",
         "showlegend": true,
         "textposition": "auto",
         "type": "bar",
         "x": [
          15
         ],
         "xaxis": "x",
         "y": [
          "이런 쓰레기 같은"
         ],
         "yaxis": "y"
        },
        {
         "alignmentgroup": "True",
         "hovertemplate": "c_w=%{y}<br>n=%{x}<extra></extra>",
         "legendgroup": "아무 생각 없이",
         "marker": {
          "color": "#636efa",
          "pattern": {
           "shape": ""
          }
         },
         "name": "아무 생각 없이",
         "offsetgroup": "아무 생각 없이",
         "orientation": "h",
         "showlegend": true,
         "textposition": "auto",
         "type": "bar",
         "x": [
          13
         ],
         "xaxis": "x",
         "y": [
          "아무 생각 없이"
         ],
         "yaxis": "y"
        },
        {
         "alignmentgroup": "True",
         "hovertemplate": "c_w=%{y}<br>n=%{x}<extra></extra>",
         "legendgroup": "살다 살다 이런",
         "marker": {
          "color": "#EF553B",
          "pattern": {
           "shape": ""
          }
         },
         "name": "살다 살다 이런",
         "offsetgroup": "살다 살다 이런",
         "orientation": "h",
         "showlegend": true,
         "textposition": "auto",
         "type": "bar",
         "x": [
          12
         ],
         "xaxis": "x",
         "y": [
          "살다 살다 이런"
         ],
         "yaxis": "y"
        },
        {
         "alignmentgroup": "True",
         "hovertemplate": "c_w=%{y}<br>n=%{x}<extra></extra>",
         "legendgroup": "감동 없고 재미",
         "marker": {
          "color": "#00cc96",
          "pattern": {
           "shape": ""
          }
         },
         "name": "감동 없고 재미",
         "offsetgroup": "감동 없고 재미",
         "orientation": "h",
         "showlegend": true,
         "textposition": "auto",
         "type": "bar",
         "x": [
          12
         ],
         "xaxis": "x",
         "y": [
          "감동 없고 재미"
         ],
         "yaxis": "y"
        },
        {
         "alignmentgroup": "True",
         "hovertemplate": "c_w=%{y}<br>n=%{x}<extra></extra>",
         "legendgroup": "유루유리 하지 마루",
         "marker": {
          "color": "#ab63fa",
          "pattern": {
           "shape": ""
          }
         },
         "name": "유루유리 하지 마루",
         "offsetgroup": "유루유리 하지 마루",
         "orientation": "h",
         "showlegend": true,
         "textposition": "auto",
         "type": "bar",
         "x": [
          12
         ],
         "xaxis": "x",
         "y": [
          "유루유리 하지 마루"
         ],
         "yaxis": "y"
        },
        {
         "alignmentgroup": "True",
         "hovertemplate": "c_w=%{y}<br>n=%{x}<extra></extra>",
         "legendgroup": "하지 마루 유루유리",
         "marker": {
          "color": "#FFA15A",
          "pattern": {
           "shape": ""
          }
         },
         "name": "하지 마루 유루유리",
         "offsetgroup": "하지 마루 유루유리",
         "orientation": "h",
         "showlegend": true,
         "textposition": "auto",
         "type": "bar",
         "x": [
          11
         ],
         "xaxis": "x",
         "y": [
          "하지 마루 유루유리"
         ],
         "yaxis": "y"
        },
        {
         "alignmentgroup": "True",
         "hovertemplate": "c_w=%{y}<br>n=%{x}<extra></extra>",
         "legendgroup": "마루 유루유리 하지",
         "marker": {
          "color": "#19d3f3",
          "pattern": {
           "shape": ""
          }
         },
         "name": "마루 유루유리 하지",
         "offsetgroup": "마루 유루유리 하지",
         "orientation": "h",
         "showlegend": true,
         "textposition": "auto",
         "type": "bar",
         "x": [
          11
         ],
         "xaxis": "x",
         "y": [
          "마루 유루유리 하지"
         ],
         "yaxis": "y"
        },
        {
         "alignmentgroup": "True",
         "hovertemplate": "c_w=%{y}<br>n=%{x}<extra></extra>",
         "legendgroup": "성우 밥그릇 책임져라",
         "marker": {
          "color": "#FF6692",
          "pattern": {
           "shape": ""
          }
         },
         "name": "성우 밥그릇 책임져라",
         "offsetgroup": "성우 밥그릇 책임져라",
         "orientation": "h",
         "showlegend": true,
         "textposition": "auto",
         "type": "bar",
         "x": [
          10
         ],
         "xaxis": "x",
         "y": [
          "성우 밥그릇 책임져라"
         ],
         "yaxis": "y"
        },
        {
         "alignmentgroup": "True",
         "hovertemplate": "c_w=%{y}<br>n=%{x}<extra></extra>",
         "legendgroup": "밥그릇 책임져라 성우",
         "marker": {
          "color": "#B6E880",
          "pattern": {
           "shape": ""
          }
         },
         "name": "밥그릇 책임져라 성우",
         "offsetgroup": "밥그릇 책임져라 성우",
         "orientation": "h",
         "showlegend": true,
         "textposition": "auto",
         "type": "bar",
         "x": [
          10
         ],
         "xaxis": "x",
         "y": [
          "밥그릇 책임져라 성우"
         ],
         "yaxis": "y"
        },
        {
         "alignmentgroup": "True",
         "hovertemplate": "c_w=%{y}<br>n=%{x}<extra></extra>",
         "legendgroup": "책임져라 성우 밥그릇",
         "marker": {
          "color": "#FF97FF",
          "pattern": {
           "shape": ""
          }
         },
         "name": "책임져라 성우 밥그릇",
         "offsetgroup": "책임져라 성우 밥그릇",
         "orientation": "h",
         "showlegend": true,
         "textposition": "auto",
         "type": "bar",
         "x": [
          10
         ],
         "xaxis": "x",
         "y": [
          "책임져라 성우 밥그릇"
         ],
         "yaxis": "y"
        },
        {
         "alignmentgroup": "True",
         "hovertemplate": "c_w=%{y}<br>n=%{x}<extra></extra>",
         "legendgroup": "도대체 무슨 내용",
         "marker": {
          "color": "#FECB52",
          "pattern": {
           "shape": ""
          }
         },
         "name": "도대체 무슨 내용",
         "offsetgroup": "도대체 무슨 내용",
         "orientation": "h",
         "showlegend": true,
         "textposition": "auto",
         "type": "bar",
         "x": [
          9
         ],
         "xaxis": "x",
         "y": [
          "도대체 무슨 내용"
         ],
         "yaxis": "y"
        }
       ],
       "layout": {
        "barmode": "relative",
        "legend": {
         "title": {
          "text": "c_w"
         },
         "tracegroupgap": 0
        },
        "template": {
         "data": {
          "bar": [
           {
            "error_x": {
             "color": "#2a3f5f"
            },
            "error_y": {
             "color": "#2a3f5f"
            },
            "marker": {
             "line": {
              "color": "#E5ECF6",
              "width": 0.5
             },
             "pattern": {
              "fillmode": "overlay",
              "size": 10,
              "solidity": 0.2
             }
            },
            "type": "bar"
           }
          ],
          "barpolar": [
           {
            "marker": {
             "line": {
              "color": "#E5ECF6",
              "width": 0.5
             },
             "pattern": {
              "fillmode": "overlay",
              "size": 10,
              "solidity": 0.2
             }
            },
            "type": "barpolar"
           }
          ],
          "carpet": [
           {
            "aaxis": {
             "endlinecolor": "#2a3f5f",
             "gridcolor": "white",
             "linecolor": "white",
             "minorgridcolor": "white",
             "startlinecolor": "#2a3f5f"
            },
            "baxis": {
             "endlinecolor": "#2a3f5f",
             "gridcolor": "white",
             "linecolor": "white",
             "minorgridcolor": "white",
             "startlinecolor": "#2a3f5f"
            },
            "type": "carpet"
           }
          ],
          "choropleth": [
           {
            "colorbar": {
             "outlinewidth": 0,
             "ticks": ""
            },
            "type": "choropleth"
           }
          ],
          "contour": [
           {
            "colorbar": {
             "outlinewidth": 0,
             "ticks": ""
            },
            "colorscale": [
             [
              0,
              "#0d0887"
             ],
             [
              0.1111111111111111,
              "#46039f"
             ],
             [
              0.2222222222222222,
              "#7201a8"
             ],
             [
              0.3333333333333333,
              "#9c179e"
             ],
             [
              0.4444444444444444,
              "#bd3786"
             ],
             [
              0.5555555555555556,
              "#d8576b"
             ],
             [
              0.6666666666666666,
              "#ed7953"
             ],
             [
              0.7777777777777778,
              "#fb9f3a"
             ],
             [
              0.8888888888888888,
              "#fdca26"
             ],
             [
              1,
              "#f0f921"
             ]
            ],
            "type": "contour"
           }
          ],
          "contourcarpet": [
           {
            "colorbar": {
             "outlinewidth": 0,
             "ticks": ""
            },
            "type": "contourcarpet"
           }
          ],
          "heatmap": [
           {
            "colorbar": {
             "outlinewidth": 0,
             "ticks": ""
            },
            "colorscale": [
             [
              0,
              "#0d0887"
             ],
             [
              0.1111111111111111,
              "#46039f"
             ],
             [
              0.2222222222222222,
              "#7201a8"
             ],
             [
              0.3333333333333333,
              "#9c179e"
             ],
             [
              0.4444444444444444,
              "#bd3786"
             ],
             [
              0.5555555555555556,
              "#d8576b"
             ],
             [
              0.6666666666666666,
              "#ed7953"
             ],
             [
              0.7777777777777778,
              "#fb9f3a"
             ],
             [
              0.8888888888888888,
              "#fdca26"
             ],
             [
              1,
              "#f0f921"
             ]
            ],
            "type": "heatmap"
           }
          ],
          "heatmapgl": [
           {
            "colorbar": {
             "outlinewidth": 0,
             "ticks": ""
            },
            "colorscale": [
             [
              0,
              "#0d0887"
             ],
             [
              0.1111111111111111,
              "#46039f"
             ],
             [
              0.2222222222222222,
              "#7201a8"
             ],
             [
              0.3333333333333333,
              "#9c179e"
             ],
             [
              0.4444444444444444,
              "#bd3786"
             ],
             [
              0.5555555555555556,
              "#d8576b"
             ],
             [
              0.6666666666666666,
              "#ed7953"
             ],
             [
              0.7777777777777778,
              "#fb9f3a"
             ],
             [
              0.8888888888888888,
              "#fdca26"
             ],
             [
              1,
              "#f0f921"
             ]
            ],
            "type": "heatmapgl"
           }
          ],
          "histogram": [
           {
            "marker": {
             "pattern": {
              "fillmode": "overlay",
              "size": 10,
              "solidity": 0.2
             }
            },
            "type": "histogram"
           }
          ],
          "histogram2d": [
           {
            "colorbar": {
             "outlinewidth": 0,
             "ticks": ""
            },
            "colorscale": [
             [
              0,
              "#0d0887"
             ],
             [
              0.1111111111111111,
              "#46039f"
             ],
             [
              0.2222222222222222,
              "#7201a8"
             ],
             [
              0.3333333333333333,
              "#9c179e"
             ],
             [
              0.4444444444444444,
              "#bd3786"
             ],
             [
              0.5555555555555556,
              "#d8576b"
             ],
             [
              0.6666666666666666,
              "#ed7953"
             ],
             [
              0.7777777777777778,
              "#fb9f3a"
             ],
             [
              0.8888888888888888,
              "#fdca26"
             ],
             [
              1,
              "#f0f921"
             ]
            ],
            "type": "histogram2d"
           }
          ],
          "histogram2dcontour": [
           {
            "colorbar": {
             "outlinewidth": 0,
             "ticks": ""
            },
            "colorscale": [
             [
              0,
              "#0d0887"
             ],
             [
              0.1111111111111111,
              "#46039f"
             ],
             [
              0.2222222222222222,
              "#7201a8"
             ],
             [
              0.3333333333333333,
              "#9c179e"
             ],
             [
              0.4444444444444444,
              "#bd3786"
             ],
             [
              0.5555555555555556,
              "#d8576b"
             ],
             [
              0.6666666666666666,
              "#ed7953"
             ],
             [
              0.7777777777777778,
              "#fb9f3a"
             ],
             [
              0.8888888888888888,
              "#fdca26"
             ],
             [
              1,
              "#f0f921"
             ]
            ],
            "type": "histogram2dcontour"
           }
          ],
          "mesh3d": [
           {
            "colorbar": {
             "outlinewidth": 0,
             "ticks": ""
            },
            "type": "mesh3d"
           }
          ],
          "parcoords": [
           {
            "line": {
             "colorbar": {
              "outlinewidth": 0,
              "ticks": ""
             }
            },
            "type": "parcoords"
           }
          ],
          "pie": [
           {
            "automargin": true,
            "type": "pie"
           }
          ],
          "scatter": [
           {
            "fillpattern": {
             "fillmode": "overlay",
             "size": 10,
             "solidity": 0.2
            },
            "type": "scatter"
           }
          ],
          "scatter3d": [
           {
            "line": {
             "colorbar": {
              "outlinewidth": 0,
              "ticks": ""
             }
            },
            "marker": {
             "colorbar": {
              "outlinewidth": 0,
              "ticks": ""
             }
            },
            "type": "scatter3d"
           }
          ],
          "scattercarpet": [
           {
            "marker": {
             "colorbar": {
              "outlinewidth": 0,
              "ticks": ""
             }
            },
            "type": "scattercarpet"
           }
          ],
          "scattergeo": [
           {
            "marker": {
             "colorbar": {
              "outlinewidth": 0,
              "ticks": ""
             }
            },
            "type": "scattergeo"
           }
          ],
          "scattergl": [
           {
            "marker": {
             "colorbar": {
              "outlinewidth": 0,
              "ticks": ""
             }
            },
            "type": "scattergl"
           }
          ],
          "scattermapbox": [
           {
            "marker": {
             "colorbar": {
              "outlinewidth": 0,
              "ticks": ""
             }
            },
            "type": "scattermapbox"
           }
          ],
          "scatterpolar": [
           {
            "marker": {
             "colorbar": {
              "outlinewidth": 0,
              "ticks": ""
             }
            },
            "type": "scatterpolar"
           }
          ],
          "scatterpolargl": [
           {
            "marker": {
             "colorbar": {
              "outlinewidth": 0,
              "ticks": ""
             }
            },
            "type": "scatterpolargl"
           }
          ],
          "scatterternary": [
           {
            "marker": {
             "colorbar": {
              "outlinewidth": 0,
              "ticks": ""
             }
            },
            "type": "scatterternary"
           }
          ],
          "surface": [
           {
            "colorbar": {
             "outlinewidth": 0,
             "ticks": ""
            },
            "colorscale": [
             [
              0,
              "#0d0887"
             ],
             [
              0.1111111111111111,
              "#46039f"
             ],
             [
              0.2222222222222222,
              "#7201a8"
             ],
             [
              0.3333333333333333,
              "#9c179e"
             ],
             [
              0.4444444444444444,
              "#bd3786"
             ],
             [
              0.5555555555555556,
              "#d8576b"
             ],
             [
              0.6666666666666666,
              "#ed7953"
             ],
             [
              0.7777777777777778,
              "#fb9f3a"
             ],
             [
              0.8888888888888888,
              "#fdca26"
             ],
             [
              1,
              "#f0f921"
             ]
            ],
            "type": "surface"
           }
          ],
          "table": [
           {
            "cells": {
             "fill": {
              "color": "#EBF0F8"
             },
             "line": {
              "color": "white"
             }
            },
            "header": {
             "fill": {
              "color": "#C8D4E3"
             },
             "line": {
              "color": "white"
             }
            },
            "type": "table"
           }
          ]
         },
         "layout": {
          "annotationdefaults": {
           "arrowcolor": "#2a3f5f",
           "arrowhead": 0,
           "arrowwidth": 1
          },
          "autotypenumbers": "strict",
          "coloraxis": {
           "colorbar": {
            "outlinewidth": 0,
            "ticks": ""
           }
          },
          "colorscale": {
           "diverging": [
            [
             0,
             "#8e0152"
            ],
            [
             0.1,
             "#c51b7d"
            ],
            [
             0.2,
             "#de77ae"
            ],
            [
             0.3,
             "#f1b6da"
            ],
            [
             0.4,
             "#fde0ef"
            ],
            [
             0.5,
             "#f7f7f7"
            ],
            [
             0.6,
             "#e6f5d0"
            ],
            [
             0.7,
             "#b8e186"
            ],
            [
             0.8,
             "#7fbc41"
            ],
            [
             0.9,
             "#4d9221"
            ],
            [
             1,
             "#276419"
            ]
           ],
           "sequential": [
            [
             0,
             "#0d0887"
            ],
            [
             0.1111111111111111,
             "#46039f"
            ],
            [
             0.2222222222222222,
             "#7201a8"
            ],
            [
             0.3333333333333333,
             "#9c179e"
            ],
            [
             0.4444444444444444,
             "#bd3786"
            ],
            [
             0.5555555555555556,
             "#d8576b"
            ],
            [
             0.6666666666666666,
             "#ed7953"
            ],
            [
             0.7777777777777778,
             "#fb9f3a"
            ],
            [
             0.8888888888888888,
             "#fdca26"
            ],
            [
             1,
             "#f0f921"
            ]
           ],
           "sequentialminus": [
            [
             0,
             "#0d0887"
            ],
            [
             0.1111111111111111,
             "#46039f"
            ],
            [
             0.2222222222222222,
             "#7201a8"
            ],
            [
             0.3333333333333333,
             "#9c179e"
            ],
            [
             0.4444444444444444,
             "#bd3786"
            ],
            [
             0.5555555555555556,
             "#d8576b"
            ],
            [
             0.6666666666666666,
             "#ed7953"
            ],
            [
             0.7777777777777778,
             "#fb9f3a"
            ],
            [
             0.8888888888888888,
             "#fdca26"
            ],
            [
             1,
             "#f0f921"
            ]
           ]
          },
          "colorway": [
           "#636efa",
           "#EF553B",
           "#00cc96",
           "#ab63fa",
           "#FFA15A",
           "#19d3f3",
           "#FF6692",
           "#B6E880",
           "#FF97FF",
           "#FECB52"
          ],
          "font": {
           "color": "#2a3f5f"
          },
          "geo": {
           "bgcolor": "white",
           "lakecolor": "white",
           "landcolor": "#E5ECF6",
           "showlakes": true,
           "showland": true,
           "subunitcolor": "white"
          },
          "hoverlabel": {
           "align": "left"
          },
          "hovermode": "closest",
          "mapbox": {
           "style": "light"
          },
          "paper_bgcolor": "white",
          "plot_bgcolor": "#E5ECF6",
          "polar": {
           "angularaxis": {
            "gridcolor": "white",
            "linecolor": "white",
            "ticks": ""
           },
           "bgcolor": "#E5ECF6",
           "radialaxis": {
            "gridcolor": "white",
            "linecolor": "white",
            "ticks": ""
           }
          },
          "scene": {
           "xaxis": {
            "backgroundcolor": "#E5ECF6",
            "gridcolor": "white",
            "gridwidth": 2,
            "linecolor": "white",
            "showbackground": true,
            "ticks": "",
            "zerolinecolor": "white"
           },
           "yaxis": {
            "backgroundcolor": "#E5ECF6",
            "gridcolor": "white",
            "gridwidth": 2,
            "linecolor": "white",
            "showbackground": true,
            "ticks": "",
            "zerolinecolor": "white"
           },
           "zaxis": {
            "backgroundcolor": "#E5ECF6",
            "gridcolor": "white",
            "gridwidth": 2,
            "linecolor": "white",
            "showbackground": true,
            "ticks": "",
            "zerolinecolor": "white"
           }
          },
          "shapedefaults": {
           "line": {
            "color": "#2a3f5f"
           }
          },
          "ternary": {
           "aaxis": {
            "gridcolor": "white",
            "linecolor": "white",
            "ticks": ""
           },
           "baxis": {
            "gridcolor": "white",
            "linecolor": "white",
            "ticks": ""
           },
           "bgcolor": "#E5ECF6",
           "caxis": {
            "gridcolor": "white",
            "linecolor": "white",
            "ticks": ""
           }
          },
          "title": {
           "x": 0.05
          },
          "xaxis": {
           "automargin": true,
           "gridcolor": "white",
           "linecolor": "white",
           "ticks": "",
           "title": {
            "standoff": 15
           },
           "zerolinecolor": "white",
           "zerolinewidth": 2
          },
          "yaxis": {
           "automargin": true,
           "gridcolor": "white",
           "linecolor": "white",
           "ticks": "",
           "title": {
            "standoff": 15
           },
           "zerolinecolor": "white",
           "zerolinewidth": 2
          }
         }
        },
        "title": {
         "text": "t_0_c_g"
        },
        "xaxis": {
         "anchor": "y",
         "domain": [
          0,
          1
         ],
         "title": {
          "text": "n"
         }
        },
        "yaxis": {
         "anchor": "x",
         "categoryarray": [
          "도대체 무슨 내용",
          "책임져라 성우 밥그릇",
          "밥그릇 책임져라 성우",
          "성우 밥그릇 책임져라",
          "마루 유루유리 하지",
          "하지 마루 유루유리",
          "유루유리 하지 마루",
          "감동 없고 재미",
          "살다 살다 이런",
          "아무 생각 없이",
          "이런 쓰레기 같은",
          "재미 더럽게 없다",
          "개연 성도 없고",
          "절대 보지 마세요",
          "무슨 내용 인지",
          "없고 재미 없고",
          "재미 없고 감동",
          "없고 감동 없고",
          "처음 부터 까지",
          "노잼 노잼 노잼"
         ],
         "categoryorder": "array",
         "domain": [
          0,
          1
         ],
         "title": {
          "text": "c_w"
         }
        }
       }
      },
      "text/html": [
       "<div>                            <div id=\"feffa70f-0ec9-4048-a276-906becfcec80\" class=\"plotly-graph-div\" style=\"height:525px; width:100%;\"></div>            <script type=\"text/javascript\">                require([\"plotly\"], function(Plotly) {                    window.PLOTLYENV=window.PLOTLYENV || {};                                    if (document.getElementById(\"feffa70f-0ec9-4048-a276-906becfcec80\")) {                    Plotly.newPlot(                        \"feffa70f-0ec9-4048-a276-906becfcec80\",                        [{\"alignmentgroup\":\"True\",\"hovertemplate\":\"c_w=%{y}<br>n=%{x}<extra></extra>\",\"legendgroup\":\"\\ub178\\uc7bc \\ub178\\uc7bc \\ub178\\uc7bc\",\"marker\":{\"color\":\"#636efa\",\"pattern\":{\"shape\":\"\"}},\"name\":\"\\ub178\\uc7bc \\ub178\\uc7bc \\ub178\\uc7bc\",\"offsetgroup\":\"\\ub178\\uc7bc \\ub178\\uc7bc \\ub178\\uc7bc\",\"orientation\":\"h\",\"showlegend\":true,\"textposition\":\"auto\",\"x\":[46],\"xaxis\":\"x\",\"y\":[\"\\ub178\\uc7bc \\ub178\\uc7bc \\ub178\\uc7bc\"],\"yaxis\":\"y\",\"type\":\"bar\"},{\"alignmentgroup\":\"True\",\"hovertemplate\":\"c_w=%{y}<br>n=%{x}<extra></extra>\",\"legendgroup\":\"\\ucc98\\uc74c \\ubd80\\ud130 \\uae4c\\uc9c0\",\"marker\":{\"color\":\"#EF553B\",\"pattern\":{\"shape\":\"\"}},\"name\":\"\\ucc98\\uc74c \\ubd80\\ud130 \\uae4c\\uc9c0\",\"offsetgroup\":\"\\ucc98\\uc74c \\ubd80\\ud130 \\uae4c\\uc9c0\",\"orientation\":\"h\",\"showlegend\":true,\"textposition\":\"auto\",\"x\":[37],\"xaxis\":\"x\",\"y\":[\"\\ucc98\\uc74c \\ubd80\\ud130 \\uae4c\\uc9c0\"],\"yaxis\":\"y\",\"type\":\"bar\"},{\"alignmentgroup\":\"True\",\"hovertemplate\":\"c_w=%{y}<br>n=%{x}<extra></extra>\",\"legendgroup\":\"\\uc5c6\\uace0 \\uac10\\ub3d9 \\uc5c6\\uace0\",\"marker\":{\"color\":\"#00cc96\",\"pattern\":{\"shape\":\"\"}},\"name\":\"\\uc5c6\\uace0 \\uac10\\ub3d9 \\uc5c6\\uace0\",\"offsetgroup\":\"\\uc5c6\\uace0 \\uac10\\ub3d9 \\uc5c6\\uace0\",\"orientation\":\"h\",\"showlegend\":true,\"textposition\":\"auto\",\"x\":[34],\"xaxis\":\"x\",\"y\":[\"\\uc5c6\\uace0 \\uac10\\ub3d9 \\uc5c6\\uace0\"],\"yaxis\":\"y\",\"type\":\"bar\"},{\"alignmentgroup\":\"True\",\"hovertemplate\":\"c_w=%{y}<br>n=%{x}<extra></extra>\",\"legendgroup\":\"\\uc7ac\\ubbf8 \\uc5c6\\uace0 \\uac10\\ub3d9\",\"marker\":{\"color\":\"#ab63fa\",\"pattern\":{\"shape\":\"\"}},\"name\":\"\\uc7ac\\ubbf8 \\uc5c6\\uace0 \\uac10\\ub3d9\",\"offsetgroup\":\"\\uc7ac\\ubbf8 \\uc5c6\\uace0 \\uac10\\ub3d9\",\"orientation\":\"h\",\"showlegend\":true,\"textposition\":\"auto\",\"x\":[32],\"xaxis\":\"x\",\"y\":[\"\\uc7ac\\ubbf8 \\uc5c6\\uace0 \\uac10\\ub3d9\"],\"yaxis\":\"y\",\"type\":\"bar\"},{\"alignmentgroup\":\"True\",\"hovertemplate\":\"c_w=%{y}<br>n=%{x}<extra></extra>\",\"legendgroup\":\"\\uc5c6\\uace0 \\uc7ac\\ubbf8 \\uc5c6\\uace0\",\"marker\":{\"color\":\"#FFA15A\",\"pattern\":{\"shape\":\"\"}},\"name\":\"\\uc5c6\\uace0 \\uc7ac\\ubbf8 \\uc5c6\\uace0\",\"offsetgroup\":\"\\uc5c6\\uace0 \\uc7ac\\ubbf8 \\uc5c6\\uace0\",\"orientation\":\"h\",\"showlegend\":true,\"textposition\":\"auto\",\"x\":[23],\"xaxis\":\"x\",\"y\":[\"\\uc5c6\\uace0 \\uc7ac\\ubbf8 \\uc5c6\\uace0\"],\"yaxis\":\"y\",\"type\":\"bar\"},{\"alignmentgroup\":\"True\",\"hovertemplate\":\"c_w=%{y}<br>n=%{x}<extra></extra>\",\"legendgroup\":\"\\ubb34\\uc2a8 \\ub0b4\\uc6a9 \\uc778\\uc9c0\",\"marker\":{\"color\":\"#19d3f3\",\"pattern\":{\"shape\":\"\"}},\"name\":\"\\ubb34\\uc2a8 \\ub0b4\\uc6a9 \\uc778\\uc9c0\",\"offsetgroup\":\"\\ubb34\\uc2a8 \\ub0b4\\uc6a9 \\uc778\\uc9c0\",\"orientation\":\"h\",\"showlegend\":true,\"textposition\":\"auto\",\"x\":[21],\"xaxis\":\"x\",\"y\":[\"\\ubb34\\uc2a8 \\ub0b4\\uc6a9 \\uc778\\uc9c0\"],\"yaxis\":\"y\",\"type\":\"bar\"},{\"alignmentgroup\":\"True\",\"hovertemplate\":\"c_w=%{y}<br>n=%{x}<extra></extra>\",\"legendgroup\":\"\\uc808\\ub300 \\ubcf4\\uc9c0 \\ub9c8\\uc138\\uc694\",\"marker\":{\"color\":\"#FF6692\",\"pattern\":{\"shape\":\"\"}},\"name\":\"\\uc808\\ub300 \\ubcf4\\uc9c0 \\ub9c8\\uc138\\uc694\",\"offsetgroup\":\"\\uc808\\ub300 \\ubcf4\\uc9c0 \\ub9c8\\uc138\\uc694\",\"orientation\":\"h\",\"showlegend\":true,\"textposition\":\"auto\",\"x\":[20],\"xaxis\":\"x\",\"y\":[\"\\uc808\\ub300 \\ubcf4\\uc9c0 \\ub9c8\\uc138\\uc694\"],\"yaxis\":\"y\",\"type\":\"bar\"},{\"alignmentgroup\":\"True\",\"hovertemplate\":\"c_w=%{y}<br>n=%{x}<extra></extra>\",\"legendgroup\":\"\\uac1c\\uc5f0 \\uc131\\ub3c4 \\uc5c6\\uace0\",\"marker\":{\"color\":\"#B6E880\",\"pattern\":{\"shape\":\"\"}},\"name\":\"\\uac1c\\uc5f0 \\uc131\\ub3c4 \\uc5c6\\uace0\",\"offsetgroup\":\"\\uac1c\\uc5f0 \\uc131\\ub3c4 \\uc5c6\\uace0\",\"orientation\":\"h\",\"showlegend\":true,\"textposition\":\"auto\",\"x\":[19],\"xaxis\":\"x\",\"y\":[\"\\uac1c\\uc5f0 \\uc131\\ub3c4 \\uc5c6\\uace0\"],\"yaxis\":\"y\",\"type\":\"bar\"},{\"alignmentgroup\":\"True\",\"hovertemplate\":\"c_w=%{y}<br>n=%{x}<extra></extra>\",\"legendgroup\":\"\\uc7ac\\ubbf8 \\ub354\\ub7fd\\uac8c \\uc5c6\\ub2e4\",\"marker\":{\"color\":\"#FF97FF\",\"pattern\":{\"shape\":\"\"}},\"name\":\"\\uc7ac\\ubbf8 \\ub354\\ub7fd\\uac8c \\uc5c6\\ub2e4\",\"offsetgroup\":\"\\uc7ac\\ubbf8 \\ub354\\ub7fd\\uac8c \\uc5c6\\ub2e4\",\"orientation\":\"h\",\"showlegend\":true,\"textposition\":\"auto\",\"x\":[18],\"xaxis\":\"x\",\"y\":[\"\\uc7ac\\ubbf8 \\ub354\\ub7fd\\uac8c \\uc5c6\\ub2e4\"],\"yaxis\":\"y\",\"type\":\"bar\"},{\"alignmentgroup\":\"True\",\"hovertemplate\":\"c_w=%{y}<br>n=%{x}<extra></extra>\",\"legendgroup\":\"\\uc774\\ub7f0 \\uc4f0\\ub808\\uae30 \\uac19\\uc740\",\"marker\":{\"color\":\"#FECB52\",\"pattern\":{\"shape\":\"\"}},\"name\":\"\\uc774\\ub7f0 \\uc4f0\\ub808\\uae30 \\uac19\\uc740\",\"offsetgroup\":\"\\uc774\\ub7f0 \\uc4f0\\ub808\\uae30 \\uac19\\uc740\",\"orientation\":\"h\",\"showlegend\":true,\"textposition\":\"auto\",\"x\":[15],\"xaxis\":\"x\",\"y\":[\"\\uc774\\ub7f0 \\uc4f0\\ub808\\uae30 \\uac19\\uc740\"],\"yaxis\":\"y\",\"type\":\"bar\"},{\"alignmentgroup\":\"True\",\"hovertemplate\":\"c_w=%{y}<br>n=%{x}<extra></extra>\",\"legendgroup\":\"\\uc544\\ubb34 \\uc0dd\\uac01 \\uc5c6\\uc774\",\"marker\":{\"color\":\"#636efa\",\"pattern\":{\"shape\":\"\"}},\"name\":\"\\uc544\\ubb34 \\uc0dd\\uac01 \\uc5c6\\uc774\",\"offsetgroup\":\"\\uc544\\ubb34 \\uc0dd\\uac01 \\uc5c6\\uc774\",\"orientation\":\"h\",\"showlegend\":true,\"textposition\":\"auto\",\"x\":[13],\"xaxis\":\"x\",\"y\":[\"\\uc544\\ubb34 \\uc0dd\\uac01 \\uc5c6\\uc774\"],\"yaxis\":\"y\",\"type\":\"bar\"},{\"alignmentgroup\":\"True\",\"hovertemplate\":\"c_w=%{y}<br>n=%{x}<extra></extra>\",\"legendgroup\":\"\\uc0b4\\ub2e4 \\uc0b4\\ub2e4 \\uc774\\ub7f0\",\"marker\":{\"color\":\"#EF553B\",\"pattern\":{\"shape\":\"\"}},\"name\":\"\\uc0b4\\ub2e4 \\uc0b4\\ub2e4 \\uc774\\ub7f0\",\"offsetgroup\":\"\\uc0b4\\ub2e4 \\uc0b4\\ub2e4 \\uc774\\ub7f0\",\"orientation\":\"h\",\"showlegend\":true,\"textposition\":\"auto\",\"x\":[12],\"xaxis\":\"x\",\"y\":[\"\\uc0b4\\ub2e4 \\uc0b4\\ub2e4 \\uc774\\ub7f0\"],\"yaxis\":\"y\",\"type\":\"bar\"},{\"alignmentgroup\":\"True\",\"hovertemplate\":\"c_w=%{y}<br>n=%{x}<extra></extra>\",\"legendgroup\":\"\\uac10\\ub3d9 \\uc5c6\\uace0 \\uc7ac\\ubbf8\",\"marker\":{\"color\":\"#00cc96\",\"pattern\":{\"shape\":\"\"}},\"name\":\"\\uac10\\ub3d9 \\uc5c6\\uace0 \\uc7ac\\ubbf8\",\"offsetgroup\":\"\\uac10\\ub3d9 \\uc5c6\\uace0 \\uc7ac\\ubbf8\",\"orientation\":\"h\",\"showlegend\":true,\"textposition\":\"auto\",\"x\":[12],\"xaxis\":\"x\",\"y\":[\"\\uac10\\ub3d9 \\uc5c6\\uace0 \\uc7ac\\ubbf8\"],\"yaxis\":\"y\",\"type\":\"bar\"},{\"alignmentgroup\":\"True\",\"hovertemplate\":\"c_w=%{y}<br>n=%{x}<extra></extra>\",\"legendgroup\":\"\\uc720\\ub8e8\\uc720\\ub9ac \\ud558\\uc9c0 \\ub9c8\\ub8e8\",\"marker\":{\"color\":\"#ab63fa\",\"pattern\":{\"shape\":\"\"}},\"name\":\"\\uc720\\ub8e8\\uc720\\ub9ac \\ud558\\uc9c0 \\ub9c8\\ub8e8\",\"offsetgroup\":\"\\uc720\\ub8e8\\uc720\\ub9ac \\ud558\\uc9c0 \\ub9c8\\ub8e8\",\"orientation\":\"h\",\"showlegend\":true,\"textposition\":\"auto\",\"x\":[12],\"xaxis\":\"x\",\"y\":[\"\\uc720\\ub8e8\\uc720\\ub9ac \\ud558\\uc9c0 \\ub9c8\\ub8e8\"],\"yaxis\":\"y\",\"type\":\"bar\"},{\"alignmentgroup\":\"True\",\"hovertemplate\":\"c_w=%{y}<br>n=%{x}<extra></extra>\",\"legendgroup\":\"\\ud558\\uc9c0 \\ub9c8\\ub8e8 \\uc720\\ub8e8\\uc720\\ub9ac\",\"marker\":{\"color\":\"#FFA15A\",\"pattern\":{\"shape\":\"\"}},\"name\":\"\\ud558\\uc9c0 \\ub9c8\\ub8e8 \\uc720\\ub8e8\\uc720\\ub9ac\",\"offsetgroup\":\"\\ud558\\uc9c0 \\ub9c8\\ub8e8 \\uc720\\ub8e8\\uc720\\ub9ac\",\"orientation\":\"h\",\"showlegend\":true,\"textposition\":\"auto\",\"x\":[11],\"xaxis\":\"x\",\"y\":[\"\\ud558\\uc9c0 \\ub9c8\\ub8e8 \\uc720\\ub8e8\\uc720\\ub9ac\"],\"yaxis\":\"y\",\"type\":\"bar\"},{\"alignmentgroup\":\"True\",\"hovertemplate\":\"c_w=%{y}<br>n=%{x}<extra></extra>\",\"legendgroup\":\"\\ub9c8\\ub8e8 \\uc720\\ub8e8\\uc720\\ub9ac \\ud558\\uc9c0\",\"marker\":{\"color\":\"#19d3f3\",\"pattern\":{\"shape\":\"\"}},\"name\":\"\\ub9c8\\ub8e8 \\uc720\\ub8e8\\uc720\\ub9ac \\ud558\\uc9c0\",\"offsetgroup\":\"\\ub9c8\\ub8e8 \\uc720\\ub8e8\\uc720\\ub9ac \\ud558\\uc9c0\",\"orientation\":\"h\",\"showlegend\":true,\"textposition\":\"auto\",\"x\":[11],\"xaxis\":\"x\",\"y\":[\"\\ub9c8\\ub8e8 \\uc720\\ub8e8\\uc720\\ub9ac \\ud558\\uc9c0\"],\"yaxis\":\"y\",\"type\":\"bar\"},{\"alignmentgroup\":\"True\",\"hovertemplate\":\"c_w=%{y}<br>n=%{x}<extra></extra>\",\"legendgroup\":\"\\uc131\\uc6b0 \\ubc25\\uadf8\\ub987 \\ucc45\\uc784\\uc838\\ub77c\",\"marker\":{\"color\":\"#FF6692\",\"pattern\":{\"shape\":\"\"}},\"name\":\"\\uc131\\uc6b0 \\ubc25\\uadf8\\ub987 \\ucc45\\uc784\\uc838\\ub77c\",\"offsetgroup\":\"\\uc131\\uc6b0 \\ubc25\\uadf8\\ub987 \\ucc45\\uc784\\uc838\\ub77c\",\"orientation\":\"h\",\"showlegend\":true,\"textposition\":\"auto\",\"x\":[10],\"xaxis\":\"x\",\"y\":[\"\\uc131\\uc6b0 \\ubc25\\uadf8\\ub987 \\ucc45\\uc784\\uc838\\ub77c\"],\"yaxis\":\"y\",\"type\":\"bar\"},{\"alignmentgroup\":\"True\",\"hovertemplate\":\"c_w=%{y}<br>n=%{x}<extra></extra>\",\"legendgroup\":\"\\ubc25\\uadf8\\ub987 \\ucc45\\uc784\\uc838\\ub77c \\uc131\\uc6b0\",\"marker\":{\"color\":\"#B6E880\",\"pattern\":{\"shape\":\"\"}},\"name\":\"\\ubc25\\uadf8\\ub987 \\ucc45\\uc784\\uc838\\ub77c \\uc131\\uc6b0\",\"offsetgroup\":\"\\ubc25\\uadf8\\ub987 \\ucc45\\uc784\\uc838\\ub77c \\uc131\\uc6b0\",\"orientation\":\"h\",\"showlegend\":true,\"textposition\":\"auto\",\"x\":[10],\"xaxis\":\"x\",\"y\":[\"\\ubc25\\uadf8\\ub987 \\ucc45\\uc784\\uc838\\ub77c \\uc131\\uc6b0\"],\"yaxis\":\"y\",\"type\":\"bar\"},{\"alignmentgroup\":\"True\",\"hovertemplate\":\"c_w=%{y}<br>n=%{x}<extra></extra>\",\"legendgroup\":\"\\ucc45\\uc784\\uc838\\ub77c \\uc131\\uc6b0 \\ubc25\\uadf8\\ub987\",\"marker\":{\"color\":\"#FF97FF\",\"pattern\":{\"shape\":\"\"}},\"name\":\"\\ucc45\\uc784\\uc838\\ub77c \\uc131\\uc6b0 \\ubc25\\uadf8\\ub987\",\"offsetgroup\":\"\\ucc45\\uc784\\uc838\\ub77c \\uc131\\uc6b0 \\ubc25\\uadf8\\ub987\",\"orientation\":\"h\",\"showlegend\":true,\"textposition\":\"auto\",\"x\":[10],\"xaxis\":\"x\",\"y\":[\"\\ucc45\\uc784\\uc838\\ub77c \\uc131\\uc6b0 \\ubc25\\uadf8\\ub987\"],\"yaxis\":\"y\",\"type\":\"bar\"},{\"alignmentgroup\":\"True\",\"hovertemplate\":\"c_w=%{y}<br>n=%{x}<extra></extra>\",\"legendgroup\":\"\\ub3c4\\ub300\\uccb4 \\ubb34\\uc2a8 \\ub0b4\\uc6a9\",\"marker\":{\"color\":\"#FECB52\",\"pattern\":{\"shape\":\"\"}},\"name\":\"\\ub3c4\\ub300\\uccb4 \\ubb34\\uc2a8 \\ub0b4\\uc6a9\",\"offsetgroup\":\"\\ub3c4\\ub300\\uccb4 \\ubb34\\uc2a8 \\ub0b4\\uc6a9\",\"orientation\":\"h\",\"showlegend\":true,\"textposition\":\"auto\",\"x\":[9],\"xaxis\":\"x\",\"y\":[\"\\ub3c4\\ub300\\uccb4 \\ubb34\\uc2a8 \\ub0b4\\uc6a9\"],\"yaxis\":\"y\",\"type\":\"bar\"}],                        {\"template\":{\"data\":{\"histogram2dcontour\":[{\"type\":\"histogram2dcontour\",\"colorbar\":{\"outlinewidth\":0,\"ticks\":\"\"},\"colorscale\":[[0.0,\"#0d0887\"],[0.1111111111111111,\"#46039f\"],[0.2222222222222222,\"#7201a8\"],[0.3333333333333333,\"#9c179e\"],[0.4444444444444444,\"#bd3786\"],[0.5555555555555556,\"#d8576b\"],[0.6666666666666666,\"#ed7953\"],[0.7777777777777778,\"#fb9f3a\"],[0.8888888888888888,\"#fdca26\"],[1.0,\"#f0f921\"]]}],\"choropleth\":[{\"type\":\"choropleth\",\"colorbar\":{\"outlinewidth\":0,\"ticks\":\"\"}}],\"histogram2d\":[{\"type\":\"histogram2d\",\"colorbar\":{\"outlinewidth\":0,\"ticks\":\"\"},\"colorscale\":[[0.0,\"#0d0887\"],[0.1111111111111111,\"#46039f\"],[0.2222222222222222,\"#7201a8\"],[0.3333333333333333,\"#9c179e\"],[0.4444444444444444,\"#bd3786\"],[0.5555555555555556,\"#d8576b\"],[0.6666666666666666,\"#ed7953\"],[0.7777777777777778,\"#fb9f3a\"],[0.8888888888888888,\"#fdca26\"],[1.0,\"#f0f921\"]]}],\"heatmap\":[{\"type\":\"heatmap\",\"colorbar\":{\"outlinewidth\":0,\"ticks\":\"\"},\"colorscale\":[[0.0,\"#0d0887\"],[0.1111111111111111,\"#46039f\"],[0.2222222222222222,\"#7201a8\"],[0.3333333333333333,\"#9c179e\"],[0.4444444444444444,\"#bd3786\"],[0.5555555555555556,\"#d8576b\"],[0.6666666666666666,\"#ed7953\"],[0.7777777777777778,\"#fb9f3a\"],[0.8888888888888888,\"#fdca26\"],[1.0,\"#f0f921\"]]}],\"heatmapgl\":[{\"type\":\"heatmapgl\",\"colorbar\":{\"outlinewidth\":0,\"ticks\":\"\"},\"colorscale\":[[0.0,\"#0d0887\"],[0.1111111111111111,\"#46039f\"],[0.2222222222222222,\"#7201a8\"],[0.3333333333333333,\"#9c179e\"],[0.4444444444444444,\"#bd3786\"],[0.5555555555555556,\"#d8576b\"],[0.6666666666666666,\"#ed7953\"],[0.7777777777777778,\"#fb9f3a\"],[0.8888888888888888,\"#fdca26\"],[1.0,\"#f0f921\"]]}],\"contourcarpet\":[{\"type\":\"contourcarpet\",\"colorbar\":{\"outlinewidth\":0,\"ticks\":\"\"}}],\"contour\":[{\"type\":\"contour\",\"colorbar\":{\"outlinewidth\":0,\"ticks\":\"\"},\"colorscale\":[[0.0,\"#0d0887\"],[0.1111111111111111,\"#46039f\"],[0.2222222222222222,\"#7201a8\"],[0.3333333333333333,\"#9c179e\"],[0.4444444444444444,\"#bd3786\"],[0.5555555555555556,\"#d8576b\"],[0.6666666666666666,\"#ed7953\"],[0.7777777777777778,\"#fb9f3a\"],[0.8888888888888888,\"#fdca26\"],[1.0,\"#f0f921\"]]}],\"surface\":[{\"type\":\"surface\",\"colorbar\":{\"outlinewidth\":0,\"ticks\":\"\"},\"colorscale\":[[0.0,\"#0d0887\"],[0.1111111111111111,\"#46039f\"],[0.2222222222222222,\"#7201a8\"],[0.3333333333333333,\"#9c179e\"],[0.4444444444444444,\"#bd3786\"],[0.5555555555555556,\"#d8576b\"],[0.6666666666666666,\"#ed7953\"],[0.7777777777777778,\"#fb9f3a\"],[0.8888888888888888,\"#fdca26\"],[1.0,\"#f0f921\"]]}],\"mesh3d\":[{\"type\":\"mesh3d\",\"colorbar\":{\"outlinewidth\":0,\"ticks\":\"\"}}],\"scatter\":[{\"fillpattern\":{\"fillmode\":\"overlay\",\"size\":10,\"solidity\":0.2},\"type\":\"scatter\"}],\"parcoords\":[{\"type\":\"parcoords\",\"line\":{\"colorbar\":{\"outlinewidth\":0,\"ticks\":\"\"}}}],\"scatterpolargl\":[{\"type\":\"scatterpolargl\",\"marker\":{\"colorbar\":{\"outlinewidth\":0,\"ticks\":\"\"}}}],\"bar\":[{\"error_x\":{\"color\":\"#2a3f5f\"},\"error_y\":{\"color\":\"#2a3f5f\"},\"marker\":{\"line\":{\"color\":\"#E5ECF6\",\"width\":0.5},\"pattern\":{\"fillmode\":\"overlay\",\"size\":10,\"solidity\":0.2}},\"type\":\"bar\"}],\"scattergeo\":[{\"type\":\"scattergeo\",\"marker\":{\"colorbar\":{\"outlinewidth\":0,\"ticks\":\"\"}}}],\"scatterpolar\":[{\"type\":\"scatterpolar\",\"marker\":{\"colorbar\":{\"outlinewidth\":0,\"ticks\":\"\"}}}],\"histogram\":[{\"marker\":{\"pattern\":{\"fillmode\":\"overlay\",\"size\":10,\"solidity\":0.2}},\"type\":\"histogram\"}],\"scattergl\":[{\"type\":\"scattergl\",\"marker\":{\"colorbar\":{\"outlinewidth\":0,\"ticks\":\"\"}}}],\"scatter3d\":[{\"type\":\"scatter3d\",\"line\":{\"colorbar\":{\"outlinewidth\":0,\"ticks\":\"\"}},\"marker\":{\"colorbar\":{\"outlinewidth\":0,\"ticks\":\"\"}}}],\"scattermapbox\":[{\"type\":\"scattermapbox\",\"marker\":{\"colorbar\":{\"outlinewidth\":0,\"ticks\":\"\"}}}],\"scatterternary\":[{\"type\":\"scatterternary\",\"marker\":{\"colorbar\":{\"outlinewidth\":0,\"ticks\":\"\"}}}],\"scattercarpet\":[{\"type\":\"scattercarpet\",\"marker\":{\"colorbar\":{\"outlinewidth\":0,\"ticks\":\"\"}}}],\"carpet\":[{\"aaxis\":{\"endlinecolor\":\"#2a3f5f\",\"gridcolor\":\"white\",\"linecolor\":\"white\",\"minorgridcolor\":\"white\",\"startlinecolor\":\"#2a3f5f\"},\"baxis\":{\"endlinecolor\":\"#2a3f5f\",\"gridcolor\":\"white\",\"linecolor\":\"white\",\"minorgridcolor\":\"white\",\"startlinecolor\":\"#2a3f5f\"},\"type\":\"carpet\"}],\"table\":[{\"cells\":{\"fill\":{\"color\":\"#EBF0F8\"},\"line\":{\"color\":\"white\"}},\"header\":{\"fill\":{\"color\":\"#C8D4E3\"},\"line\":{\"color\":\"white\"}},\"type\":\"table\"}],\"barpolar\":[{\"marker\":{\"line\":{\"color\":\"#E5ECF6\",\"width\":0.5},\"pattern\":{\"fillmode\":\"overlay\",\"size\":10,\"solidity\":0.2}},\"type\":\"barpolar\"}],\"pie\":[{\"automargin\":true,\"type\":\"pie\"}]},\"layout\":{\"autotypenumbers\":\"strict\",\"colorway\":[\"#636efa\",\"#EF553B\",\"#00cc96\",\"#ab63fa\",\"#FFA15A\",\"#19d3f3\",\"#FF6692\",\"#B6E880\",\"#FF97FF\",\"#FECB52\"],\"font\":{\"color\":\"#2a3f5f\"},\"hovermode\":\"closest\",\"hoverlabel\":{\"align\":\"left\"},\"paper_bgcolor\":\"white\",\"plot_bgcolor\":\"#E5ECF6\",\"polar\":{\"bgcolor\":\"#E5ECF6\",\"angularaxis\":{\"gridcolor\":\"white\",\"linecolor\":\"white\",\"ticks\":\"\"},\"radialaxis\":{\"gridcolor\":\"white\",\"linecolor\":\"white\",\"ticks\":\"\"}},\"ternary\":{\"bgcolor\":\"#E5ECF6\",\"aaxis\":{\"gridcolor\":\"white\",\"linecolor\":\"white\",\"ticks\":\"\"},\"baxis\":{\"gridcolor\":\"white\",\"linecolor\":\"white\",\"ticks\":\"\"},\"caxis\":{\"gridcolor\":\"white\",\"linecolor\":\"white\",\"ticks\":\"\"}},\"coloraxis\":{\"colorbar\":{\"outlinewidth\":0,\"ticks\":\"\"}},\"colorscale\":{\"sequential\":[[0.0,\"#0d0887\"],[0.1111111111111111,\"#46039f\"],[0.2222222222222222,\"#7201a8\"],[0.3333333333333333,\"#9c179e\"],[0.4444444444444444,\"#bd3786\"],[0.5555555555555556,\"#d8576b\"],[0.6666666666666666,\"#ed7953\"],[0.7777777777777778,\"#fb9f3a\"],[0.8888888888888888,\"#fdca26\"],[1.0,\"#f0f921\"]],\"sequentialminus\":[[0.0,\"#0d0887\"],[0.1111111111111111,\"#46039f\"],[0.2222222222222222,\"#7201a8\"],[0.3333333333333333,\"#9c179e\"],[0.4444444444444444,\"#bd3786\"],[0.5555555555555556,\"#d8576b\"],[0.6666666666666666,\"#ed7953\"],[0.7777777777777778,\"#fb9f3a\"],[0.8888888888888888,\"#fdca26\"],[1.0,\"#f0f921\"]],\"diverging\":[[0,\"#8e0152\"],[0.1,\"#c51b7d\"],[0.2,\"#de77ae\"],[0.3,\"#f1b6da\"],[0.4,\"#fde0ef\"],[0.5,\"#f7f7f7\"],[0.6,\"#e6f5d0\"],[0.7,\"#b8e186\"],[0.8,\"#7fbc41\"],[0.9,\"#4d9221\"],[1,\"#276419\"]]},\"xaxis\":{\"gridcolor\":\"white\",\"linecolor\":\"white\",\"ticks\":\"\",\"title\":{\"standoff\":15},\"zerolinecolor\":\"white\",\"automargin\":true,\"zerolinewidth\":2},\"yaxis\":{\"gridcolor\":\"white\",\"linecolor\":\"white\",\"ticks\":\"\",\"title\":{\"standoff\":15},\"zerolinecolor\":\"white\",\"automargin\":true,\"zerolinewidth\":2},\"scene\":{\"xaxis\":{\"backgroundcolor\":\"#E5ECF6\",\"gridcolor\":\"white\",\"linecolor\":\"white\",\"showbackground\":true,\"ticks\":\"\",\"zerolinecolor\":\"white\",\"gridwidth\":2},\"yaxis\":{\"backgroundcolor\":\"#E5ECF6\",\"gridcolor\":\"white\",\"linecolor\":\"white\",\"showbackground\":true,\"ticks\":\"\",\"zerolinecolor\":\"white\",\"gridwidth\":2},\"zaxis\":{\"backgroundcolor\":\"#E5ECF6\",\"gridcolor\":\"white\",\"linecolor\":\"white\",\"showbackground\":true,\"ticks\":\"\",\"zerolinecolor\":\"white\",\"gridwidth\":2}},\"shapedefaults\":{\"line\":{\"color\":\"#2a3f5f\"}},\"annotationdefaults\":{\"arrowcolor\":\"#2a3f5f\",\"arrowhead\":0,\"arrowwidth\":1},\"geo\":{\"bgcolor\":\"white\",\"landcolor\":\"#E5ECF6\",\"subunitcolor\":\"white\",\"showland\":true,\"showlakes\":true,\"lakecolor\":\"white\"},\"title\":{\"x\":0.05},\"mapbox\":{\"style\":\"light\"}}},\"xaxis\":{\"anchor\":\"y\",\"domain\":[0.0,1.0],\"title\":{\"text\":\"n\"}},\"yaxis\":{\"anchor\":\"x\",\"domain\":[0.0,1.0],\"title\":{\"text\":\"c_w\"},\"categoryorder\":\"array\",\"categoryarray\":[\"\\ub3c4\\ub300\\uccb4 \\ubb34\\uc2a8 \\ub0b4\\uc6a9\",\"\\ucc45\\uc784\\uc838\\ub77c \\uc131\\uc6b0 \\ubc25\\uadf8\\ub987\",\"\\ubc25\\uadf8\\ub987 \\ucc45\\uc784\\uc838\\ub77c \\uc131\\uc6b0\",\"\\uc131\\uc6b0 \\ubc25\\uadf8\\ub987 \\ucc45\\uc784\\uc838\\ub77c\",\"\\ub9c8\\ub8e8 \\uc720\\ub8e8\\uc720\\ub9ac \\ud558\\uc9c0\",\"\\ud558\\uc9c0 \\ub9c8\\ub8e8 \\uc720\\ub8e8\\uc720\\ub9ac\",\"\\uc720\\ub8e8\\uc720\\ub9ac \\ud558\\uc9c0 \\ub9c8\\ub8e8\",\"\\uac10\\ub3d9 \\uc5c6\\uace0 \\uc7ac\\ubbf8\",\"\\uc0b4\\ub2e4 \\uc0b4\\ub2e4 \\uc774\\ub7f0\",\"\\uc544\\ubb34 \\uc0dd\\uac01 \\uc5c6\\uc774\",\"\\uc774\\ub7f0 \\uc4f0\\ub808\\uae30 \\uac19\\uc740\",\"\\uc7ac\\ubbf8 \\ub354\\ub7fd\\uac8c \\uc5c6\\ub2e4\",\"\\uac1c\\uc5f0 \\uc131\\ub3c4 \\uc5c6\\uace0\",\"\\uc808\\ub300 \\ubcf4\\uc9c0 \\ub9c8\\uc138\\uc694\",\"\\ubb34\\uc2a8 \\ub0b4\\uc6a9 \\uc778\\uc9c0\",\"\\uc5c6\\uace0 \\uc7ac\\ubbf8 \\uc5c6\\uace0\",\"\\uc7ac\\ubbf8 \\uc5c6\\uace0 \\uac10\\ub3d9\",\"\\uc5c6\\uace0 \\uac10\\ub3d9 \\uc5c6\\uace0\",\"\\ucc98\\uc74c \\ubd80\\ud130 \\uae4c\\uc9c0\",\"\\ub178\\uc7bc \\ub178\\uc7bc \\ub178\\uc7bc\"]},\"legend\":{\"title\":{\"text\":\"c_w\"},\"tracegroupgap\":0},\"title\":{\"text\":\"t_0_c_g\"},\"barmode\":\"relative\"},                        {\"responsive\": true}                    ).then(function(){\n",
       "                            \n",
       "var gd = document.getElementById('feffa70f-0ec9-4048-a276-906becfcec80');\n",
       "var x = new MutationObserver(function (mutations, observer) {{\n",
       "        var display = window.getComputedStyle(gd).display;\n",
       "        if (!display || display === 'none') {{\n",
       "            console.log([gd, 'removed!']);\n",
       "            Plotly.purge(gd);\n",
       "            observer.disconnect();\n",
       "        }}\n",
       "}});\n",
       "\n",
       "// Listen for the removal of the full notebook cells\n",
       "var notebookContainer = gd.closest('#notebook-container');\n",
       "if (notebookContainer) {{\n",
       "    x.observe(notebookContainer, {childList: true});\n",
       "}}\n",
       "\n",
       "// Listen for the clearing of the current output cell\n",
       "var outputEl = gd.closest('.output');\n",
       "if (outputEl) {{\n",
       "    x.observe(outputEl, {childList: true});\n",
       "}}\n",
       "\n",
       "                        })                };                });            </script>        </div>"
      ]
     },
     "metadata": {},
     "output_type": "display_data"
    }
   ],
   "source": [
    "t_l_0_data=dict(N_그램_표현(t_l_0_s,20,3))\n",
    "v_df2=pd.DataFrame(columns=['c_w','n'])\n",
    "v_df2['c_w']=list(t_l_0_data.keys())\n",
    "v_df2['n']=list(t_l_0_data.values())\n",
    "fig=px.bar(v_df2,x='n',y='c_w',orientation='h',title='t_0_c_g',color='c_w')#orientation:동작 형식\n",
    "fig.show()"
   ]
  },
  {
   "cell_type": "code",
   "execution_count": 58,
   "id": "cf6bfaab",
   "metadata": {},
   "outputs": [
    {
     "data": {
      "application/vnd.plotly.v1+json": {
       "config": {
        "plotlyServerURL": "https://plot.ly"
       },
       "data": [
        {
         "alignmentgroup": "True",
         "hovertemplate": "c_w=%{y}<br>n=%{x}<extra></extra>",
         "legendgroup": "최고",
         "marker": {
          "color": "#636efa",
          "pattern": {
           "shape": ""
          }
         },
         "name": "최고",
         "offsetgroup": "최고",
         "orientation": "h",
         "showlegend": true,
         "textposition": "auto",
         "type": "bar",
         "x": [
          1814
         ],
         "xaxis": "x",
         "y": [
          "최고"
         ],
         "yaxis": "y"
        },
        {
         "alignmentgroup": "True",
         "hovertemplate": "c_w=%{y}<br>n=%{x}<extra></extra>",
         "legendgroup": "진짜",
         "marker": {
          "color": "#EF553B",
          "pattern": {
           "shape": ""
          }
         },
         "name": "진짜",
         "offsetgroup": "진짜",
         "orientation": "h",
         "showlegend": true,
         "textposition": "auto",
         "type": "bar",
         "x": [
          1449
         ],
         "xaxis": "x",
         "y": [
          "진짜"
         ],
         "yaxis": "y"
        },
        {
         "alignmentgroup": "True",
         "hovertemplate": "c_w=%{y}<br>n=%{x}<extra></extra>",
         "legendgroup": "감동",
         "marker": {
          "color": "#00cc96",
          "pattern": {
           "shape": ""
          }
         },
         "name": "감동",
         "offsetgroup": "감동",
         "orientation": "h",
         "showlegend": true,
         "textposition": "auto",
         "type": "bar",
         "x": [
          1292
         ],
         "xaxis": "x",
         "y": [
          "감동"
         ],
         "yaxis": "y"
        },
        {
         "alignmentgroup": "True",
         "hovertemplate": "c_w=%{y}<br>n=%{x}<extra></extra>",
         "legendgroup": "연기",
         "marker": {
          "color": "#ab63fa",
          "pattern": {
           "shape": ""
          }
         },
         "name": "연기",
         "offsetgroup": "연기",
         "orientation": "h",
         "showlegend": true,
         "textposition": "auto",
         "type": "bar",
         "x": [
          1237
         ],
         "xaxis": "x",
         "y": [
          "연기"
         ],
         "yaxis": "y"
        },
        {
         "alignmentgroup": "True",
         "hovertemplate": "c_w=%{y}<br>n=%{x}<extra></extra>",
         "legendgroup": "생각",
         "marker": {
          "color": "#FFA15A",
          "pattern": {
           "shape": ""
          }
         },
         "name": "생각",
         "offsetgroup": "생각",
         "orientation": "h",
         "showlegend": true,
         "textposition": "auto",
         "type": "bar",
         "x": [
          1159
         ],
         "xaxis": "x",
         "y": [
          "생각"
         ],
         "yaxis": "y"
        },
        {
         "alignmentgroup": "True",
         "hovertemplate": "c_w=%{y}<br>n=%{x}<extra></extra>",
         "legendgroup": "드라마",
         "marker": {
          "color": "#19d3f3",
          "pattern": {
           "shape": ""
          }
         },
         "name": "드라마",
         "offsetgroup": "드라마",
         "orientation": "h",
         "showlegend": true,
         "textposition": "auto",
         "type": "bar",
         "x": [
          1006
         ],
         "xaxis": "x",
         "y": [
          "드라마"
         ],
         "yaxis": "y"
        },
        {
         "alignmentgroup": "True",
         "hovertemplate": "c_w=%{y}<br>n=%{x}<extra></extra>",
         "legendgroup": "평점",
         "marker": {
          "color": "#FF6692",
          "pattern": {
           "shape": ""
          }
         },
         "name": "평점",
         "offsetgroup": "평점",
         "orientation": "h",
         "showlegend": true,
         "textposition": "auto",
         "type": "bar",
         "x": [
          926
         ],
         "xaxis": "x",
         "y": [
          "평점"
         ],
         "yaxis": "y"
        },
        {
         "alignmentgroup": "True",
         "hovertemplate": "c_w=%{y}<br>n=%{x}<extra></extra>",
         "legendgroup": "보고",
         "marker": {
          "color": "#B6E880",
          "pattern": {
           "shape": ""
          }
         },
         "name": "보고",
         "offsetgroup": "보고",
         "orientation": "h",
         "showlegend": true,
         "textposition": "auto",
         "type": "bar",
         "x": [
          921
         ],
         "xaxis": "x",
         "y": [
          "보고"
         ],
         "yaxis": "y"
        },
        {
         "alignmentgroup": "True",
         "hovertemplate": "c_w=%{y}<br>n=%{x}<extra></extra>",
         "legendgroup": "사랑",
         "marker": {
          "color": "#FF97FF",
          "pattern": {
           "shape": ""
          }
         },
         "name": "사랑",
         "offsetgroup": "사랑",
         "orientation": "h",
         "showlegend": true,
         "textposition": "auto",
         "type": "bar",
         "x": [
          837
         ],
         "xaxis": "x",
         "y": [
          "사랑"
         ],
         "yaxis": "y"
        },
        {
         "alignmentgroup": "True",
         "hovertemplate": "c_w=%{y}<br>n=%{x}<extra></extra>",
         "legendgroup": "다시",
         "marker": {
          "color": "#FECB52",
          "pattern": {
           "shape": ""
          }
         },
         "name": "다시",
         "offsetgroup": "다시",
         "orientation": "h",
         "showlegend": true,
         "textposition": "auto",
         "type": "bar",
         "x": [
          822
         ],
         "xaxis": "x",
         "y": [
          "다시"
         ],
         "yaxis": "y"
        },
        {
         "alignmentgroup": "True",
         "hovertemplate": "c_w=%{y}<br>n=%{x}<extra></extra>",
         "legendgroup": "ㅋㅋ",
         "marker": {
          "color": "#636efa",
          "pattern": {
           "shape": ""
          }
         },
         "name": "ㅋㅋ",
         "offsetgroup": "ㅋㅋ",
         "orientation": "h",
         "showlegend": true,
         "textposition": "auto",
         "type": "bar",
         "x": [
          802
         ],
         "xaxis": "x",
         "y": [
          "ㅋㅋ"
         ],
         "yaxis": "y"
        },
        {
         "alignmentgroup": "True",
         "hovertemplate": "c_w=%{y}<br>n=%{x}<extra></extra>",
         "legendgroup": "사람",
         "marker": {
          "color": "#EF553B",
          "pattern": {
           "shape": ""
          }
         },
         "name": "사람",
         "offsetgroup": "사람",
         "orientation": "h",
         "showlegend": true,
         "textposition": "auto",
         "type": "bar",
         "x": [
          787
         ],
         "xaxis": "x",
         "y": [
          "사람"
         ],
         "yaxis": "y"
        },
        {
         "alignmentgroup": "True",
         "hovertemplate": "c_w=%{y}<br>n=%{x}<extra></extra>",
         "legendgroup": "이런",
         "marker": {
          "color": "#00cc96",
          "pattern": {
           "shape": ""
          }
         },
         "name": "이런",
         "offsetgroup": "이런",
         "orientation": "h",
         "showlegend": true,
         "textposition": "auto",
         "type": "bar",
         "x": [
          721
         ],
         "xaxis": "x",
         "y": [
          "이런"
         ],
         "yaxis": "y"
        },
        {
         "alignmentgroup": "True",
         "hovertemplate": "c_w=%{y}<br>n=%{x}<extra></extra>",
         "legendgroup": "배우",
         "marker": {
          "color": "#ab63fa",
          "pattern": {
           "shape": ""
          }
         },
         "name": "배우",
         "offsetgroup": "배우",
         "orientation": "h",
         "showlegend": true,
         "textposition": "auto",
         "type": "bar",
         "x": [
          681
         ],
         "xaxis": "x",
         "y": [
          "배우"
         ],
         "yaxis": "y"
        },
        {
         "alignmentgroup": "True",
         "hovertemplate": "c_w=%{y}<br>n=%{x}<extra></extra>",
         "legendgroup": "봤는데",
         "marker": {
          "color": "#FFA15A",
          "pattern": {
           "shape": ""
          }
         },
         "name": "봤는데",
         "offsetgroup": "봤는데",
         "orientation": "h",
         "showlegend": true,
         "textposition": "auto",
         "type": "bar",
         "x": [
          641
         ],
         "xaxis": "x",
         "y": [
          "봤는데"
         ],
         "yaxis": "y"
        },
        {
         "alignmentgroup": "True",
         "hovertemplate": "c_w=%{y}<br>n=%{x}<extra></extra>",
         "legendgroup": "스토리",
         "marker": {
          "color": "#19d3f3",
          "pattern": {
           "shape": ""
          }
         },
         "name": "스토리",
         "offsetgroup": "스토리",
         "orientation": "h",
         "showlegend": true,
         "textposition": "auto",
         "type": "bar",
         "x": [
          633
         ],
         "xaxis": "x",
         "y": [
          "스토리"
         ],
         "yaxis": "y"
        },
        {
         "alignmentgroup": "True",
         "hovertemplate": "c_w=%{y}<br>n=%{x}<extra></extra>",
         "legendgroup": "작품",
         "marker": {
          "color": "#FF6692",
          "pattern": {
           "shape": ""
          }
         },
         "name": "작품",
         "offsetgroup": "작품",
         "orientation": "h",
         "showlegend": true,
         "textposition": "auto",
         "type": "bar",
         "x": [
          626
         ],
         "xaxis": "x",
         "y": [
          "작품"
         ],
         "yaxis": "y"
        },
        {
         "alignmentgroup": "True",
         "hovertemplate": "c_w=%{y}<br>n=%{x}<extra></extra>",
         "legendgroup": "ㅠㅠ",
         "marker": {
          "color": "#B6E880",
          "pattern": {
           "shape": ""
          }
         },
         "name": "ㅠㅠ",
         "offsetgroup": "ㅠㅠ",
         "orientation": "h",
         "showlegend": true,
         "textposition": "auto",
         "type": "bar",
         "x": [
          622
         ],
         "xaxis": "x",
         "y": [
          "ㅠㅠ"
         ],
         "yaxis": "y"
        },
        {
         "alignmentgroup": "True",
         "hovertemplate": "c_w=%{y}<br>n=%{x}<extra></extra>",
         "legendgroup": "보다",
         "marker": {
          "color": "#FF97FF",
          "pattern": {
           "shape": ""
          }
         },
         "name": "보다",
         "offsetgroup": "보다",
         "orientation": "h",
         "showlegend": true,
         "textposition": "auto",
         "type": "bar",
         "x": [
          622
         ],
         "xaxis": "x",
         "y": [
          "보다"
         ],
         "yaxis": "y"
        },
        {
         "alignmentgroup": "True",
         "hovertemplate": "c_w=%{y}<br>n=%{x}<extra></extra>",
         "legendgroup": "까지",
         "marker": {
          "color": "#FECB52",
          "pattern": {
           "shape": ""
          }
         },
         "name": "까지",
         "offsetgroup": "까지",
         "orientation": "h",
         "showlegend": true,
         "textposition": "auto",
         "type": "bar",
         "x": [
          615
         ],
         "xaxis": "x",
         "y": [
          "까지"
         ],
         "yaxis": "y"
        }
       ],
       "layout": {
        "barmode": "relative",
        "legend": {
         "title": {
          "text": "c_w"
         },
         "tracegroupgap": 0
        },
        "template": {
         "data": {
          "bar": [
           {
            "error_x": {
             "color": "#2a3f5f"
            },
            "error_y": {
             "color": "#2a3f5f"
            },
            "marker": {
             "line": {
              "color": "#E5ECF6",
              "width": 0.5
             },
             "pattern": {
              "fillmode": "overlay",
              "size": 10,
              "solidity": 0.2
             }
            },
            "type": "bar"
           }
          ],
          "barpolar": [
           {
            "marker": {
             "line": {
              "color": "#E5ECF6",
              "width": 0.5
             },
             "pattern": {
              "fillmode": "overlay",
              "size": 10,
              "solidity": 0.2
             }
            },
            "type": "barpolar"
           }
          ],
          "carpet": [
           {
            "aaxis": {
             "endlinecolor": "#2a3f5f",
             "gridcolor": "white",
             "linecolor": "white",
             "minorgridcolor": "white",
             "startlinecolor": "#2a3f5f"
            },
            "baxis": {
             "endlinecolor": "#2a3f5f",
             "gridcolor": "white",
             "linecolor": "white",
             "minorgridcolor": "white",
             "startlinecolor": "#2a3f5f"
            },
            "type": "carpet"
           }
          ],
          "choropleth": [
           {
            "colorbar": {
             "outlinewidth": 0,
             "ticks": ""
            },
            "type": "choropleth"
           }
          ],
          "contour": [
           {
            "colorbar": {
             "outlinewidth": 0,
             "ticks": ""
            },
            "colorscale": [
             [
              0,
              "#0d0887"
             ],
             [
              0.1111111111111111,
              "#46039f"
             ],
             [
              0.2222222222222222,
              "#7201a8"
             ],
             [
              0.3333333333333333,
              "#9c179e"
             ],
             [
              0.4444444444444444,
              "#bd3786"
             ],
             [
              0.5555555555555556,
              "#d8576b"
             ],
             [
              0.6666666666666666,
              "#ed7953"
             ],
             [
              0.7777777777777778,
              "#fb9f3a"
             ],
             [
              0.8888888888888888,
              "#fdca26"
             ],
             [
              1,
              "#f0f921"
             ]
            ],
            "type": "contour"
           }
          ],
          "contourcarpet": [
           {
            "colorbar": {
             "outlinewidth": 0,
             "ticks": ""
            },
            "type": "contourcarpet"
           }
          ],
          "heatmap": [
           {
            "colorbar": {
             "outlinewidth": 0,
             "ticks": ""
            },
            "colorscale": [
             [
              0,
              "#0d0887"
             ],
             [
              0.1111111111111111,
              "#46039f"
             ],
             [
              0.2222222222222222,
              "#7201a8"
             ],
             [
              0.3333333333333333,
              "#9c179e"
             ],
             [
              0.4444444444444444,
              "#bd3786"
             ],
             [
              0.5555555555555556,
              "#d8576b"
             ],
             [
              0.6666666666666666,
              "#ed7953"
             ],
             [
              0.7777777777777778,
              "#fb9f3a"
             ],
             [
              0.8888888888888888,
              "#fdca26"
             ],
             [
              1,
              "#f0f921"
             ]
            ],
            "type": "heatmap"
           }
          ],
          "heatmapgl": [
           {
            "colorbar": {
             "outlinewidth": 0,
             "ticks": ""
            },
            "colorscale": [
             [
              0,
              "#0d0887"
             ],
             [
              0.1111111111111111,
              "#46039f"
             ],
             [
              0.2222222222222222,
              "#7201a8"
             ],
             [
              0.3333333333333333,
              "#9c179e"
             ],
             [
              0.4444444444444444,
              "#bd3786"
             ],
             [
              0.5555555555555556,
              "#d8576b"
             ],
             [
              0.6666666666666666,
              "#ed7953"
             ],
             [
              0.7777777777777778,
              "#fb9f3a"
             ],
             [
              0.8888888888888888,
              "#fdca26"
             ],
             [
              1,
              "#f0f921"
             ]
            ],
            "type": "heatmapgl"
           }
          ],
          "histogram": [
           {
            "marker": {
             "pattern": {
              "fillmode": "overlay",
              "size": 10,
              "solidity": 0.2
             }
            },
            "type": "histogram"
           }
          ],
          "histogram2d": [
           {
            "colorbar": {
             "outlinewidth": 0,
             "ticks": ""
            },
            "colorscale": [
             [
              0,
              "#0d0887"
             ],
             [
              0.1111111111111111,
              "#46039f"
             ],
             [
              0.2222222222222222,
              "#7201a8"
             ],
             [
              0.3333333333333333,
              "#9c179e"
             ],
             [
              0.4444444444444444,
              "#bd3786"
             ],
             [
              0.5555555555555556,
              "#d8576b"
             ],
             [
              0.6666666666666666,
              "#ed7953"
             ],
             [
              0.7777777777777778,
              "#fb9f3a"
             ],
             [
              0.8888888888888888,
              "#fdca26"
             ],
             [
              1,
              "#f0f921"
             ]
            ],
            "type": "histogram2d"
           }
          ],
          "histogram2dcontour": [
           {
            "colorbar": {
             "outlinewidth": 0,
             "ticks": ""
            },
            "colorscale": [
             [
              0,
              "#0d0887"
             ],
             [
              0.1111111111111111,
              "#46039f"
             ],
             [
              0.2222222222222222,
              "#7201a8"
             ],
             [
              0.3333333333333333,
              "#9c179e"
             ],
             [
              0.4444444444444444,
              "#bd3786"
             ],
             [
              0.5555555555555556,
              "#d8576b"
             ],
             [
              0.6666666666666666,
              "#ed7953"
             ],
             [
              0.7777777777777778,
              "#fb9f3a"
             ],
             [
              0.8888888888888888,
              "#fdca26"
             ],
             [
              1,
              "#f0f921"
             ]
            ],
            "type": "histogram2dcontour"
           }
          ],
          "mesh3d": [
           {
            "colorbar": {
             "outlinewidth": 0,
             "ticks": ""
            },
            "type": "mesh3d"
           }
          ],
          "parcoords": [
           {
            "line": {
             "colorbar": {
              "outlinewidth": 0,
              "ticks": ""
             }
            },
            "type": "parcoords"
           }
          ],
          "pie": [
           {
            "automargin": true,
            "type": "pie"
           }
          ],
          "scatter": [
           {
            "fillpattern": {
             "fillmode": "overlay",
             "size": 10,
             "solidity": 0.2
            },
            "type": "scatter"
           }
          ],
          "scatter3d": [
           {
            "line": {
             "colorbar": {
              "outlinewidth": 0,
              "ticks": ""
             }
            },
            "marker": {
             "colorbar": {
              "outlinewidth": 0,
              "ticks": ""
             }
            },
            "type": "scatter3d"
           }
          ],
          "scattercarpet": [
           {
            "marker": {
             "colorbar": {
              "outlinewidth": 0,
              "ticks": ""
             }
            },
            "type": "scattercarpet"
           }
          ],
          "scattergeo": [
           {
            "marker": {
             "colorbar": {
              "outlinewidth": 0,
              "ticks": ""
             }
            },
            "type": "scattergeo"
           }
          ],
          "scattergl": [
           {
            "marker": {
             "colorbar": {
              "outlinewidth": 0,
              "ticks": ""
             }
            },
            "type": "scattergl"
           }
          ],
          "scattermapbox": [
           {
            "marker": {
             "colorbar": {
              "outlinewidth": 0,
              "ticks": ""
             }
            },
            "type": "scattermapbox"
           }
          ],
          "scatterpolar": [
           {
            "marker": {
             "colorbar": {
              "outlinewidth": 0,
              "ticks": ""
             }
            },
            "type": "scatterpolar"
           }
          ],
          "scatterpolargl": [
           {
            "marker": {
             "colorbar": {
              "outlinewidth": 0,
              "ticks": ""
             }
            },
            "type": "scatterpolargl"
           }
          ],
          "scatterternary": [
           {
            "marker": {
             "colorbar": {
              "outlinewidth": 0,
              "ticks": ""
             }
            },
            "type": "scatterternary"
           }
          ],
          "surface": [
           {
            "colorbar": {
             "outlinewidth": 0,
             "ticks": ""
            },
            "colorscale": [
             [
              0,
              "#0d0887"
             ],
             [
              0.1111111111111111,
              "#46039f"
             ],
             [
              0.2222222222222222,
              "#7201a8"
             ],
             [
              0.3333333333333333,
              "#9c179e"
             ],
             [
              0.4444444444444444,
              "#bd3786"
             ],
             [
              0.5555555555555556,
              "#d8576b"
             ],
             [
              0.6666666666666666,
              "#ed7953"
             ],
             [
              0.7777777777777778,
              "#fb9f3a"
             ],
             [
              0.8888888888888888,
              "#fdca26"
             ],
             [
              1,
              "#f0f921"
             ]
            ],
            "type": "surface"
           }
          ],
          "table": [
           {
            "cells": {
             "fill": {
              "color": "#EBF0F8"
             },
             "line": {
              "color": "white"
             }
            },
            "header": {
             "fill": {
              "color": "#C8D4E3"
             },
             "line": {
              "color": "white"
             }
            },
            "type": "table"
           }
          ]
         },
         "layout": {
          "annotationdefaults": {
           "arrowcolor": "#2a3f5f",
           "arrowhead": 0,
           "arrowwidth": 1
          },
          "autotypenumbers": "strict",
          "coloraxis": {
           "colorbar": {
            "outlinewidth": 0,
            "ticks": ""
           }
          },
          "colorscale": {
           "diverging": [
            [
             0,
             "#8e0152"
            ],
            [
             0.1,
             "#c51b7d"
            ],
            [
             0.2,
             "#de77ae"
            ],
            [
             0.3,
             "#f1b6da"
            ],
            [
             0.4,
             "#fde0ef"
            ],
            [
             0.5,
             "#f7f7f7"
            ],
            [
             0.6,
             "#e6f5d0"
            ],
            [
             0.7,
             "#b8e186"
            ],
            [
             0.8,
             "#7fbc41"
            ],
            [
             0.9,
             "#4d9221"
            ],
            [
             1,
             "#276419"
            ]
           ],
           "sequential": [
            [
             0,
             "#0d0887"
            ],
            [
             0.1111111111111111,
             "#46039f"
            ],
            [
             0.2222222222222222,
             "#7201a8"
            ],
            [
             0.3333333333333333,
             "#9c179e"
            ],
            [
             0.4444444444444444,
             "#bd3786"
            ],
            [
             0.5555555555555556,
             "#d8576b"
            ],
            [
             0.6666666666666666,
             "#ed7953"
            ],
            [
             0.7777777777777778,
             "#fb9f3a"
            ],
            [
             0.8888888888888888,
             "#fdca26"
            ],
            [
             1,
             "#f0f921"
            ]
           ],
           "sequentialminus": [
            [
             0,
             "#0d0887"
            ],
            [
             0.1111111111111111,
             "#46039f"
            ],
            [
             0.2222222222222222,
             "#7201a8"
            ],
            [
             0.3333333333333333,
             "#9c179e"
            ],
            [
             0.4444444444444444,
             "#bd3786"
            ],
            [
             0.5555555555555556,
             "#d8576b"
            ],
            [
             0.6666666666666666,
             "#ed7953"
            ],
            [
             0.7777777777777778,
             "#fb9f3a"
            ],
            [
             0.8888888888888888,
             "#fdca26"
            ],
            [
             1,
             "#f0f921"
            ]
           ]
          },
          "colorway": [
           "#636efa",
           "#EF553B",
           "#00cc96",
           "#ab63fa",
           "#FFA15A",
           "#19d3f3",
           "#FF6692",
           "#B6E880",
           "#FF97FF",
           "#FECB52"
          ],
          "font": {
           "color": "#2a3f5f"
          },
          "geo": {
           "bgcolor": "white",
           "lakecolor": "white",
           "landcolor": "#E5ECF6",
           "showlakes": true,
           "showland": true,
           "subunitcolor": "white"
          },
          "hoverlabel": {
           "align": "left"
          },
          "hovermode": "closest",
          "mapbox": {
           "style": "light"
          },
          "paper_bgcolor": "white",
          "plot_bgcolor": "#E5ECF6",
          "polar": {
           "angularaxis": {
            "gridcolor": "white",
            "linecolor": "white",
            "ticks": ""
           },
           "bgcolor": "#E5ECF6",
           "radialaxis": {
            "gridcolor": "white",
            "linecolor": "white",
            "ticks": ""
           }
          },
          "scene": {
           "xaxis": {
            "backgroundcolor": "#E5ECF6",
            "gridcolor": "white",
            "gridwidth": 2,
            "linecolor": "white",
            "showbackground": true,
            "ticks": "",
            "zerolinecolor": "white"
           },
           "yaxis": {
            "backgroundcolor": "#E5ECF6",
            "gridcolor": "white",
            "gridwidth": 2,
            "linecolor": "white",
            "showbackground": true,
            "ticks": "",
            "zerolinecolor": "white"
           },
           "zaxis": {
            "backgroundcolor": "#E5ECF6",
            "gridcolor": "white",
            "gridwidth": 2,
            "linecolor": "white",
            "showbackground": true,
            "ticks": "",
            "zerolinecolor": "white"
           }
          },
          "shapedefaults": {
           "line": {
            "color": "#2a3f5f"
           }
          },
          "ternary": {
           "aaxis": {
            "gridcolor": "white",
            "linecolor": "white",
            "ticks": ""
           },
           "baxis": {
            "gridcolor": "white",
            "linecolor": "white",
            "ticks": ""
           },
           "bgcolor": "#E5ECF6",
           "caxis": {
            "gridcolor": "white",
            "linecolor": "white",
            "ticks": ""
           }
          },
          "title": {
           "x": 0.05
          },
          "xaxis": {
           "automargin": true,
           "gridcolor": "white",
           "linecolor": "white",
           "ticks": "",
           "title": {
            "standoff": 15
           },
           "zerolinecolor": "white",
           "zerolinewidth": 2
          },
          "yaxis": {
           "automargin": true,
           "gridcolor": "white",
           "linecolor": "white",
           "ticks": "",
           "title": {
            "standoff": 15
           },
           "zerolinecolor": "white",
           "zerolinewidth": 2
          }
         }
        },
        "title": {
         "text": "t_1_c_g"
        },
        "xaxis": {
         "anchor": "y",
         "domain": [
          0,
          1
         ],
         "title": {
          "text": "n"
         }
        },
        "yaxis": {
         "anchor": "x",
         "categoryarray": [
          "까지",
          "보다",
          "ㅠㅠ",
          "작품",
          "스토리",
          "봤는데",
          "배우",
          "이런",
          "사람",
          "ㅋㅋ",
          "다시",
          "사랑",
          "보고",
          "평점",
          "드라마",
          "생각",
          "연기",
          "감동",
          "진짜",
          "최고"
         ],
         "categoryorder": "array",
         "domain": [
          0,
          1
         ],
         "title": {
          "text": "c_w"
         }
        }
       }
      },
      "text/html": [
       "<div>                            <div id=\"7610296d-54e0-455c-96df-7db8195ff0ee\" class=\"plotly-graph-div\" style=\"height:525px; width:100%;\"></div>            <script type=\"text/javascript\">                require([\"plotly\"], function(Plotly) {                    window.PLOTLYENV=window.PLOTLYENV || {};                                    if (document.getElementById(\"7610296d-54e0-455c-96df-7db8195ff0ee\")) {                    Plotly.newPlot(                        \"7610296d-54e0-455c-96df-7db8195ff0ee\",                        [{\"alignmentgroup\":\"True\",\"hovertemplate\":\"c_w=%{y}<br>n=%{x}<extra></extra>\",\"legendgroup\":\"\\ucd5c\\uace0\",\"marker\":{\"color\":\"#636efa\",\"pattern\":{\"shape\":\"\"}},\"name\":\"\\ucd5c\\uace0\",\"offsetgroup\":\"\\ucd5c\\uace0\",\"orientation\":\"h\",\"showlegend\":true,\"textposition\":\"auto\",\"x\":[1814],\"xaxis\":\"x\",\"y\":[\"\\ucd5c\\uace0\"],\"yaxis\":\"y\",\"type\":\"bar\"},{\"alignmentgroup\":\"True\",\"hovertemplate\":\"c_w=%{y}<br>n=%{x}<extra></extra>\",\"legendgroup\":\"\\uc9c4\\uc9dc\",\"marker\":{\"color\":\"#EF553B\",\"pattern\":{\"shape\":\"\"}},\"name\":\"\\uc9c4\\uc9dc\",\"offsetgroup\":\"\\uc9c4\\uc9dc\",\"orientation\":\"h\",\"showlegend\":true,\"textposition\":\"auto\",\"x\":[1449],\"xaxis\":\"x\",\"y\":[\"\\uc9c4\\uc9dc\"],\"yaxis\":\"y\",\"type\":\"bar\"},{\"alignmentgroup\":\"True\",\"hovertemplate\":\"c_w=%{y}<br>n=%{x}<extra></extra>\",\"legendgroup\":\"\\uac10\\ub3d9\",\"marker\":{\"color\":\"#00cc96\",\"pattern\":{\"shape\":\"\"}},\"name\":\"\\uac10\\ub3d9\",\"offsetgroup\":\"\\uac10\\ub3d9\",\"orientation\":\"h\",\"showlegend\":true,\"textposition\":\"auto\",\"x\":[1292],\"xaxis\":\"x\",\"y\":[\"\\uac10\\ub3d9\"],\"yaxis\":\"y\",\"type\":\"bar\"},{\"alignmentgroup\":\"True\",\"hovertemplate\":\"c_w=%{y}<br>n=%{x}<extra></extra>\",\"legendgroup\":\"\\uc5f0\\uae30\",\"marker\":{\"color\":\"#ab63fa\",\"pattern\":{\"shape\":\"\"}},\"name\":\"\\uc5f0\\uae30\",\"offsetgroup\":\"\\uc5f0\\uae30\",\"orientation\":\"h\",\"showlegend\":true,\"textposition\":\"auto\",\"x\":[1237],\"xaxis\":\"x\",\"y\":[\"\\uc5f0\\uae30\"],\"yaxis\":\"y\",\"type\":\"bar\"},{\"alignmentgroup\":\"True\",\"hovertemplate\":\"c_w=%{y}<br>n=%{x}<extra></extra>\",\"legendgroup\":\"\\uc0dd\\uac01\",\"marker\":{\"color\":\"#FFA15A\",\"pattern\":{\"shape\":\"\"}},\"name\":\"\\uc0dd\\uac01\",\"offsetgroup\":\"\\uc0dd\\uac01\",\"orientation\":\"h\",\"showlegend\":true,\"textposition\":\"auto\",\"x\":[1159],\"xaxis\":\"x\",\"y\":[\"\\uc0dd\\uac01\"],\"yaxis\":\"y\",\"type\":\"bar\"},{\"alignmentgroup\":\"True\",\"hovertemplate\":\"c_w=%{y}<br>n=%{x}<extra></extra>\",\"legendgroup\":\"\\ub4dc\\ub77c\\ub9c8\",\"marker\":{\"color\":\"#19d3f3\",\"pattern\":{\"shape\":\"\"}},\"name\":\"\\ub4dc\\ub77c\\ub9c8\",\"offsetgroup\":\"\\ub4dc\\ub77c\\ub9c8\",\"orientation\":\"h\",\"showlegend\":true,\"textposition\":\"auto\",\"x\":[1006],\"xaxis\":\"x\",\"y\":[\"\\ub4dc\\ub77c\\ub9c8\"],\"yaxis\":\"y\",\"type\":\"bar\"},{\"alignmentgroup\":\"True\",\"hovertemplate\":\"c_w=%{y}<br>n=%{x}<extra></extra>\",\"legendgroup\":\"\\ud3c9\\uc810\",\"marker\":{\"color\":\"#FF6692\",\"pattern\":{\"shape\":\"\"}},\"name\":\"\\ud3c9\\uc810\",\"offsetgroup\":\"\\ud3c9\\uc810\",\"orientation\":\"h\",\"showlegend\":true,\"textposition\":\"auto\",\"x\":[926],\"xaxis\":\"x\",\"y\":[\"\\ud3c9\\uc810\"],\"yaxis\":\"y\",\"type\":\"bar\"},{\"alignmentgroup\":\"True\",\"hovertemplate\":\"c_w=%{y}<br>n=%{x}<extra></extra>\",\"legendgroup\":\"\\ubcf4\\uace0\",\"marker\":{\"color\":\"#B6E880\",\"pattern\":{\"shape\":\"\"}},\"name\":\"\\ubcf4\\uace0\",\"offsetgroup\":\"\\ubcf4\\uace0\",\"orientation\":\"h\",\"showlegend\":true,\"textposition\":\"auto\",\"x\":[921],\"xaxis\":\"x\",\"y\":[\"\\ubcf4\\uace0\"],\"yaxis\":\"y\",\"type\":\"bar\"},{\"alignmentgroup\":\"True\",\"hovertemplate\":\"c_w=%{y}<br>n=%{x}<extra></extra>\",\"legendgroup\":\"\\uc0ac\\ub791\",\"marker\":{\"color\":\"#FF97FF\",\"pattern\":{\"shape\":\"\"}},\"name\":\"\\uc0ac\\ub791\",\"offsetgroup\":\"\\uc0ac\\ub791\",\"orientation\":\"h\",\"showlegend\":true,\"textposition\":\"auto\",\"x\":[837],\"xaxis\":\"x\",\"y\":[\"\\uc0ac\\ub791\"],\"yaxis\":\"y\",\"type\":\"bar\"},{\"alignmentgroup\":\"True\",\"hovertemplate\":\"c_w=%{y}<br>n=%{x}<extra></extra>\",\"legendgroup\":\"\\ub2e4\\uc2dc\",\"marker\":{\"color\":\"#FECB52\",\"pattern\":{\"shape\":\"\"}},\"name\":\"\\ub2e4\\uc2dc\",\"offsetgroup\":\"\\ub2e4\\uc2dc\",\"orientation\":\"h\",\"showlegend\":true,\"textposition\":\"auto\",\"x\":[822],\"xaxis\":\"x\",\"y\":[\"\\ub2e4\\uc2dc\"],\"yaxis\":\"y\",\"type\":\"bar\"},{\"alignmentgroup\":\"True\",\"hovertemplate\":\"c_w=%{y}<br>n=%{x}<extra></extra>\",\"legendgroup\":\"\\u314b\\u314b\",\"marker\":{\"color\":\"#636efa\",\"pattern\":{\"shape\":\"\"}},\"name\":\"\\u314b\\u314b\",\"offsetgroup\":\"\\u314b\\u314b\",\"orientation\":\"h\",\"showlegend\":true,\"textposition\":\"auto\",\"x\":[802],\"xaxis\":\"x\",\"y\":[\"\\u314b\\u314b\"],\"yaxis\":\"y\",\"type\":\"bar\"},{\"alignmentgroup\":\"True\",\"hovertemplate\":\"c_w=%{y}<br>n=%{x}<extra></extra>\",\"legendgroup\":\"\\uc0ac\\ub78c\",\"marker\":{\"color\":\"#EF553B\",\"pattern\":{\"shape\":\"\"}},\"name\":\"\\uc0ac\\ub78c\",\"offsetgroup\":\"\\uc0ac\\ub78c\",\"orientation\":\"h\",\"showlegend\":true,\"textposition\":\"auto\",\"x\":[787],\"xaxis\":\"x\",\"y\":[\"\\uc0ac\\ub78c\"],\"yaxis\":\"y\",\"type\":\"bar\"},{\"alignmentgroup\":\"True\",\"hovertemplate\":\"c_w=%{y}<br>n=%{x}<extra></extra>\",\"legendgroup\":\"\\uc774\\ub7f0\",\"marker\":{\"color\":\"#00cc96\",\"pattern\":{\"shape\":\"\"}},\"name\":\"\\uc774\\ub7f0\",\"offsetgroup\":\"\\uc774\\ub7f0\",\"orientation\":\"h\",\"showlegend\":true,\"textposition\":\"auto\",\"x\":[721],\"xaxis\":\"x\",\"y\":[\"\\uc774\\ub7f0\"],\"yaxis\":\"y\",\"type\":\"bar\"},{\"alignmentgroup\":\"True\",\"hovertemplate\":\"c_w=%{y}<br>n=%{x}<extra></extra>\",\"legendgroup\":\"\\ubc30\\uc6b0\",\"marker\":{\"color\":\"#ab63fa\",\"pattern\":{\"shape\":\"\"}},\"name\":\"\\ubc30\\uc6b0\",\"offsetgroup\":\"\\ubc30\\uc6b0\",\"orientation\":\"h\",\"showlegend\":true,\"textposition\":\"auto\",\"x\":[681],\"xaxis\":\"x\",\"y\":[\"\\ubc30\\uc6b0\"],\"yaxis\":\"y\",\"type\":\"bar\"},{\"alignmentgroup\":\"True\",\"hovertemplate\":\"c_w=%{y}<br>n=%{x}<extra></extra>\",\"legendgroup\":\"\\ubd24\\ub294\\ub370\",\"marker\":{\"color\":\"#FFA15A\",\"pattern\":{\"shape\":\"\"}},\"name\":\"\\ubd24\\ub294\\ub370\",\"offsetgroup\":\"\\ubd24\\ub294\\ub370\",\"orientation\":\"h\",\"showlegend\":true,\"textposition\":\"auto\",\"x\":[641],\"xaxis\":\"x\",\"y\":[\"\\ubd24\\ub294\\ub370\"],\"yaxis\":\"y\",\"type\":\"bar\"},{\"alignmentgroup\":\"True\",\"hovertemplate\":\"c_w=%{y}<br>n=%{x}<extra></extra>\",\"legendgroup\":\"\\uc2a4\\ud1a0\\ub9ac\",\"marker\":{\"color\":\"#19d3f3\",\"pattern\":{\"shape\":\"\"}},\"name\":\"\\uc2a4\\ud1a0\\ub9ac\",\"offsetgroup\":\"\\uc2a4\\ud1a0\\ub9ac\",\"orientation\":\"h\",\"showlegend\":true,\"textposition\":\"auto\",\"x\":[633],\"xaxis\":\"x\",\"y\":[\"\\uc2a4\\ud1a0\\ub9ac\"],\"yaxis\":\"y\",\"type\":\"bar\"},{\"alignmentgroup\":\"True\",\"hovertemplate\":\"c_w=%{y}<br>n=%{x}<extra></extra>\",\"legendgroup\":\"\\uc791\\ud488\",\"marker\":{\"color\":\"#FF6692\",\"pattern\":{\"shape\":\"\"}},\"name\":\"\\uc791\\ud488\",\"offsetgroup\":\"\\uc791\\ud488\",\"orientation\":\"h\",\"showlegend\":true,\"textposition\":\"auto\",\"x\":[626],\"xaxis\":\"x\",\"y\":[\"\\uc791\\ud488\"],\"yaxis\":\"y\",\"type\":\"bar\"},{\"alignmentgroup\":\"True\",\"hovertemplate\":\"c_w=%{y}<br>n=%{x}<extra></extra>\",\"legendgroup\":\"\\u3160\\u3160\",\"marker\":{\"color\":\"#B6E880\",\"pattern\":{\"shape\":\"\"}},\"name\":\"\\u3160\\u3160\",\"offsetgroup\":\"\\u3160\\u3160\",\"orientation\":\"h\",\"showlegend\":true,\"textposition\":\"auto\",\"x\":[622],\"xaxis\":\"x\",\"y\":[\"\\u3160\\u3160\"],\"yaxis\":\"y\",\"type\":\"bar\"},{\"alignmentgroup\":\"True\",\"hovertemplate\":\"c_w=%{y}<br>n=%{x}<extra></extra>\",\"legendgroup\":\"\\ubcf4\\ub2e4\",\"marker\":{\"color\":\"#FF97FF\",\"pattern\":{\"shape\":\"\"}},\"name\":\"\\ubcf4\\ub2e4\",\"offsetgroup\":\"\\ubcf4\\ub2e4\",\"orientation\":\"h\",\"showlegend\":true,\"textposition\":\"auto\",\"x\":[622],\"xaxis\":\"x\",\"y\":[\"\\ubcf4\\ub2e4\"],\"yaxis\":\"y\",\"type\":\"bar\"},{\"alignmentgroup\":\"True\",\"hovertemplate\":\"c_w=%{y}<br>n=%{x}<extra></extra>\",\"legendgroup\":\"\\uae4c\\uc9c0\",\"marker\":{\"color\":\"#FECB52\",\"pattern\":{\"shape\":\"\"}},\"name\":\"\\uae4c\\uc9c0\",\"offsetgroup\":\"\\uae4c\\uc9c0\",\"orientation\":\"h\",\"showlegend\":true,\"textposition\":\"auto\",\"x\":[615],\"xaxis\":\"x\",\"y\":[\"\\uae4c\\uc9c0\"],\"yaxis\":\"y\",\"type\":\"bar\"}],                        {\"template\":{\"data\":{\"histogram2dcontour\":[{\"type\":\"histogram2dcontour\",\"colorbar\":{\"outlinewidth\":0,\"ticks\":\"\"},\"colorscale\":[[0.0,\"#0d0887\"],[0.1111111111111111,\"#46039f\"],[0.2222222222222222,\"#7201a8\"],[0.3333333333333333,\"#9c179e\"],[0.4444444444444444,\"#bd3786\"],[0.5555555555555556,\"#d8576b\"],[0.6666666666666666,\"#ed7953\"],[0.7777777777777778,\"#fb9f3a\"],[0.8888888888888888,\"#fdca26\"],[1.0,\"#f0f921\"]]}],\"choropleth\":[{\"type\":\"choropleth\",\"colorbar\":{\"outlinewidth\":0,\"ticks\":\"\"}}],\"histogram2d\":[{\"type\":\"histogram2d\",\"colorbar\":{\"outlinewidth\":0,\"ticks\":\"\"},\"colorscale\":[[0.0,\"#0d0887\"],[0.1111111111111111,\"#46039f\"],[0.2222222222222222,\"#7201a8\"],[0.3333333333333333,\"#9c179e\"],[0.4444444444444444,\"#bd3786\"],[0.5555555555555556,\"#d8576b\"],[0.6666666666666666,\"#ed7953\"],[0.7777777777777778,\"#fb9f3a\"],[0.8888888888888888,\"#fdca26\"],[1.0,\"#f0f921\"]]}],\"heatmap\":[{\"type\":\"heatmap\",\"colorbar\":{\"outlinewidth\":0,\"ticks\":\"\"},\"colorscale\":[[0.0,\"#0d0887\"],[0.1111111111111111,\"#46039f\"],[0.2222222222222222,\"#7201a8\"],[0.3333333333333333,\"#9c179e\"],[0.4444444444444444,\"#bd3786\"],[0.5555555555555556,\"#d8576b\"],[0.6666666666666666,\"#ed7953\"],[0.7777777777777778,\"#fb9f3a\"],[0.8888888888888888,\"#fdca26\"],[1.0,\"#f0f921\"]]}],\"heatmapgl\":[{\"type\":\"heatmapgl\",\"colorbar\":{\"outlinewidth\":0,\"ticks\":\"\"},\"colorscale\":[[0.0,\"#0d0887\"],[0.1111111111111111,\"#46039f\"],[0.2222222222222222,\"#7201a8\"],[0.3333333333333333,\"#9c179e\"],[0.4444444444444444,\"#bd3786\"],[0.5555555555555556,\"#d8576b\"],[0.6666666666666666,\"#ed7953\"],[0.7777777777777778,\"#fb9f3a\"],[0.8888888888888888,\"#fdca26\"],[1.0,\"#f0f921\"]]}],\"contourcarpet\":[{\"type\":\"contourcarpet\",\"colorbar\":{\"outlinewidth\":0,\"ticks\":\"\"}}],\"contour\":[{\"type\":\"contour\",\"colorbar\":{\"outlinewidth\":0,\"ticks\":\"\"},\"colorscale\":[[0.0,\"#0d0887\"],[0.1111111111111111,\"#46039f\"],[0.2222222222222222,\"#7201a8\"],[0.3333333333333333,\"#9c179e\"],[0.4444444444444444,\"#bd3786\"],[0.5555555555555556,\"#d8576b\"],[0.6666666666666666,\"#ed7953\"],[0.7777777777777778,\"#fb9f3a\"],[0.8888888888888888,\"#fdca26\"],[1.0,\"#f0f921\"]]}],\"surface\":[{\"type\":\"surface\",\"colorbar\":{\"outlinewidth\":0,\"ticks\":\"\"},\"colorscale\":[[0.0,\"#0d0887\"],[0.1111111111111111,\"#46039f\"],[0.2222222222222222,\"#7201a8\"],[0.3333333333333333,\"#9c179e\"],[0.4444444444444444,\"#bd3786\"],[0.5555555555555556,\"#d8576b\"],[0.6666666666666666,\"#ed7953\"],[0.7777777777777778,\"#fb9f3a\"],[0.8888888888888888,\"#fdca26\"],[1.0,\"#f0f921\"]]}],\"mesh3d\":[{\"type\":\"mesh3d\",\"colorbar\":{\"outlinewidth\":0,\"ticks\":\"\"}}],\"scatter\":[{\"fillpattern\":{\"fillmode\":\"overlay\",\"size\":10,\"solidity\":0.2},\"type\":\"scatter\"}],\"parcoords\":[{\"type\":\"parcoords\",\"line\":{\"colorbar\":{\"outlinewidth\":0,\"ticks\":\"\"}}}],\"scatterpolargl\":[{\"type\":\"scatterpolargl\",\"marker\":{\"colorbar\":{\"outlinewidth\":0,\"ticks\":\"\"}}}],\"bar\":[{\"error_x\":{\"color\":\"#2a3f5f\"},\"error_y\":{\"color\":\"#2a3f5f\"},\"marker\":{\"line\":{\"color\":\"#E5ECF6\",\"width\":0.5},\"pattern\":{\"fillmode\":\"overlay\",\"size\":10,\"solidity\":0.2}},\"type\":\"bar\"}],\"scattergeo\":[{\"type\":\"scattergeo\",\"marker\":{\"colorbar\":{\"outlinewidth\":0,\"ticks\":\"\"}}}],\"scatterpolar\":[{\"type\":\"scatterpolar\",\"marker\":{\"colorbar\":{\"outlinewidth\":0,\"ticks\":\"\"}}}],\"histogram\":[{\"marker\":{\"pattern\":{\"fillmode\":\"overlay\",\"size\":10,\"solidity\":0.2}},\"type\":\"histogram\"}],\"scattergl\":[{\"type\":\"scattergl\",\"marker\":{\"colorbar\":{\"outlinewidth\":0,\"ticks\":\"\"}}}],\"scatter3d\":[{\"type\":\"scatter3d\",\"line\":{\"colorbar\":{\"outlinewidth\":0,\"ticks\":\"\"}},\"marker\":{\"colorbar\":{\"outlinewidth\":0,\"ticks\":\"\"}}}],\"scattermapbox\":[{\"type\":\"scattermapbox\",\"marker\":{\"colorbar\":{\"outlinewidth\":0,\"ticks\":\"\"}}}],\"scatterternary\":[{\"type\":\"scatterternary\",\"marker\":{\"colorbar\":{\"outlinewidth\":0,\"ticks\":\"\"}}}],\"scattercarpet\":[{\"type\":\"scattercarpet\",\"marker\":{\"colorbar\":{\"outlinewidth\":0,\"ticks\":\"\"}}}],\"carpet\":[{\"aaxis\":{\"endlinecolor\":\"#2a3f5f\",\"gridcolor\":\"white\",\"linecolor\":\"white\",\"minorgridcolor\":\"white\",\"startlinecolor\":\"#2a3f5f\"},\"baxis\":{\"endlinecolor\":\"#2a3f5f\",\"gridcolor\":\"white\",\"linecolor\":\"white\",\"minorgridcolor\":\"white\",\"startlinecolor\":\"#2a3f5f\"},\"type\":\"carpet\"}],\"table\":[{\"cells\":{\"fill\":{\"color\":\"#EBF0F8\"},\"line\":{\"color\":\"white\"}},\"header\":{\"fill\":{\"color\":\"#C8D4E3\"},\"line\":{\"color\":\"white\"}},\"type\":\"table\"}],\"barpolar\":[{\"marker\":{\"line\":{\"color\":\"#E5ECF6\",\"width\":0.5},\"pattern\":{\"fillmode\":\"overlay\",\"size\":10,\"solidity\":0.2}},\"type\":\"barpolar\"}],\"pie\":[{\"automargin\":true,\"type\":\"pie\"}]},\"layout\":{\"autotypenumbers\":\"strict\",\"colorway\":[\"#636efa\",\"#EF553B\",\"#00cc96\",\"#ab63fa\",\"#FFA15A\",\"#19d3f3\",\"#FF6692\",\"#B6E880\",\"#FF97FF\",\"#FECB52\"],\"font\":{\"color\":\"#2a3f5f\"},\"hovermode\":\"closest\",\"hoverlabel\":{\"align\":\"left\"},\"paper_bgcolor\":\"white\",\"plot_bgcolor\":\"#E5ECF6\",\"polar\":{\"bgcolor\":\"#E5ECF6\",\"angularaxis\":{\"gridcolor\":\"white\",\"linecolor\":\"white\",\"ticks\":\"\"},\"radialaxis\":{\"gridcolor\":\"white\",\"linecolor\":\"white\",\"ticks\":\"\"}},\"ternary\":{\"bgcolor\":\"#E5ECF6\",\"aaxis\":{\"gridcolor\":\"white\",\"linecolor\":\"white\",\"ticks\":\"\"},\"baxis\":{\"gridcolor\":\"white\",\"linecolor\":\"white\",\"ticks\":\"\"},\"caxis\":{\"gridcolor\":\"white\",\"linecolor\":\"white\",\"ticks\":\"\"}},\"coloraxis\":{\"colorbar\":{\"outlinewidth\":0,\"ticks\":\"\"}},\"colorscale\":{\"sequential\":[[0.0,\"#0d0887\"],[0.1111111111111111,\"#46039f\"],[0.2222222222222222,\"#7201a8\"],[0.3333333333333333,\"#9c179e\"],[0.4444444444444444,\"#bd3786\"],[0.5555555555555556,\"#d8576b\"],[0.6666666666666666,\"#ed7953\"],[0.7777777777777778,\"#fb9f3a\"],[0.8888888888888888,\"#fdca26\"],[1.0,\"#f0f921\"]],\"sequentialminus\":[[0.0,\"#0d0887\"],[0.1111111111111111,\"#46039f\"],[0.2222222222222222,\"#7201a8\"],[0.3333333333333333,\"#9c179e\"],[0.4444444444444444,\"#bd3786\"],[0.5555555555555556,\"#d8576b\"],[0.6666666666666666,\"#ed7953\"],[0.7777777777777778,\"#fb9f3a\"],[0.8888888888888888,\"#fdca26\"],[1.0,\"#f0f921\"]],\"diverging\":[[0,\"#8e0152\"],[0.1,\"#c51b7d\"],[0.2,\"#de77ae\"],[0.3,\"#f1b6da\"],[0.4,\"#fde0ef\"],[0.5,\"#f7f7f7\"],[0.6,\"#e6f5d0\"],[0.7,\"#b8e186\"],[0.8,\"#7fbc41\"],[0.9,\"#4d9221\"],[1,\"#276419\"]]},\"xaxis\":{\"gridcolor\":\"white\",\"linecolor\":\"white\",\"ticks\":\"\",\"title\":{\"standoff\":15},\"zerolinecolor\":\"white\",\"automargin\":true,\"zerolinewidth\":2},\"yaxis\":{\"gridcolor\":\"white\",\"linecolor\":\"white\",\"ticks\":\"\",\"title\":{\"standoff\":15},\"zerolinecolor\":\"white\",\"automargin\":true,\"zerolinewidth\":2},\"scene\":{\"xaxis\":{\"backgroundcolor\":\"#E5ECF6\",\"gridcolor\":\"white\",\"linecolor\":\"white\",\"showbackground\":true,\"ticks\":\"\",\"zerolinecolor\":\"white\",\"gridwidth\":2},\"yaxis\":{\"backgroundcolor\":\"#E5ECF6\",\"gridcolor\":\"white\",\"linecolor\":\"white\",\"showbackground\":true,\"ticks\":\"\",\"zerolinecolor\":\"white\",\"gridwidth\":2},\"zaxis\":{\"backgroundcolor\":\"#E5ECF6\",\"gridcolor\":\"white\",\"linecolor\":\"white\",\"showbackground\":true,\"ticks\":\"\",\"zerolinecolor\":\"white\",\"gridwidth\":2}},\"shapedefaults\":{\"line\":{\"color\":\"#2a3f5f\"}},\"annotationdefaults\":{\"arrowcolor\":\"#2a3f5f\",\"arrowhead\":0,\"arrowwidth\":1},\"geo\":{\"bgcolor\":\"white\",\"landcolor\":\"#E5ECF6\",\"subunitcolor\":\"white\",\"showland\":true,\"showlakes\":true,\"lakecolor\":\"white\"},\"title\":{\"x\":0.05},\"mapbox\":{\"style\":\"light\"}}},\"xaxis\":{\"anchor\":\"y\",\"domain\":[0.0,1.0],\"title\":{\"text\":\"n\"}},\"yaxis\":{\"anchor\":\"x\",\"domain\":[0.0,1.0],\"title\":{\"text\":\"c_w\"},\"categoryorder\":\"array\",\"categoryarray\":[\"\\uae4c\\uc9c0\",\"\\ubcf4\\ub2e4\",\"\\u3160\\u3160\",\"\\uc791\\ud488\",\"\\uc2a4\\ud1a0\\ub9ac\",\"\\ubd24\\ub294\\ub370\",\"\\ubc30\\uc6b0\",\"\\uc774\\ub7f0\",\"\\uc0ac\\ub78c\",\"\\u314b\\u314b\",\"\\ub2e4\\uc2dc\",\"\\uc0ac\\ub791\",\"\\ubcf4\\uace0\",\"\\ud3c9\\uc810\",\"\\ub4dc\\ub77c\\ub9c8\",\"\\uc0dd\\uac01\",\"\\uc5f0\\uae30\",\"\\uac10\\ub3d9\",\"\\uc9c4\\uc9dc\",\"\\ucd5c\\uace0\"]},\"legend\":{\"title\":{\"text\":\"c_w\"},\"tracegroupgap\":0},\"title\":{\"text\":\"t_1_c_g\"},\"barmode\":\"relative\"},                        {\"responsive\": true}                    ).then(function(){\n",
       "                            \n",
       "var gd = document.getElementById('7610296d-54e0-455c-96df-7db8195ff0ee');\n",
       "var x = new MutationObserver(function (mutations, observer) {{\n",
       "        var display = window.getComputedStyle(gd).display;\n",
       "        if (!display || display === 'none') {{\n",
       "            console.log([gd, 'removed!']);\n",
       "            Plotly.purge(gd);\n",
       "            observer.disconnect();\n",
       "        }}\n",
       "}});\n",
       "\n",
       "// Listen for the removal of the full notebook cells\n",
       "var notebookContainer = gd.closest('#notebook-container');\n",
       "if (notebookContainer) {{\n",
       "    x.observe(notebookContainer, {childList: true});\n",
       "}}\n",
       "\n",
       "// Listen for the clearing of the current output cell\n",
       "var outputEl = gd.closest('.output');\n",
       "if (outputEl) {{\n",
       "    x.observe(outputEl, {childList: true});\n",
       "}}\n",
       "\n",
       "                        })                };                });            </script>        </div>"
      ]
     },
     "metadata": {},
     "output_type": "display_data"
    }
   ],
   "source": [
    "t_l_0_data=dict(N_그램_표현(t_l_1_s,20,1))\n",
    "v_df2=pd.DataFrame(columns=['c_w','n'])\n",
    "v_df2['c_w']=list(t_l_0_data.keys())\n",
    "v_df2['n']=list(t_l_0_data.values())\n",
    "fig=px.bar(v_df2,x='n',y='c_w',orientation='h',title='t_1_c_g',color='c_w')#orientation:동작 형식\n",
    "fig.show()"
   ]
  },
  {
   "cell_type": "code",
   "execution_count": 59,
   "id": "a11fe53c",
   "metadata": {},
   "outputs": [
    {
     "data": {
      "application/vnd.plotly.v1+json": {
       "config": {
        "plotlyServerURL": "https://plot.ly"
       },
       "data": [
        {
         "alignmentgroup": "True",
         "hovertemplate": "c_w=%{y}<br>n=%{x}<extra></extra>",
         "legendgroup": "배우 연기",
         "marker": {
          "color": "#636efa",
          "pattern": {
           "shape": ""
          }
         },
         "name": "배우 연기",
         "offsetgroup": "배우 연기",
         "orientation": "h",
         "showlegend": true,
         "textposition": "auto",
         "type": "bar",
         "x": [
          170
         ],
         "xaxis": "x",
         "y": [
          "배우 연기"
         ],
         "yaxis": "y"
        },
        {
         "alignmentgroup": "True",
         "hovertemplate": "c_w=%{y}<br>n=%{x}<extra></extra>",
         "legendgroup": "다시 봐도",
         "marker": {
          "color": "#EF553B",
          "pattern": {
           "shape": ""
          }
         },
         "name": "다시 봐도",
         "offsetgroup": "다시 봐도",
         "orientation": "h",
         "showlegend": true,
         "textposition": "auto",
         "type": "bar",
         "x": [
          123
         ],
         "xaxis": "x",
         "y": [
          "다시 봐도"
         ],
         "yaxis": "y"
        },
        {
         "alignmentgroup": "True",
         "hovertemplate": "c_w=%{y}<br>n=%{x}<extra></extra>",
         "legendgroup": "최고 드라마",
         "marker": {
          "color": "#00cc96",
          "pattern": {
           "shape": ""
          }
         },
         "name": "최고 드라마",
         "offsetgroup": "최고 드라마",
         "orientation": "h",
         "showlegend": true,
         "textposition": "auto",
         "type": "bar",
         "x": [
          106
         ],
         "xaxis": "x",
         "y": [
          "최고 드라마"
         ],
         "yaxis": "y"
        },
        {
         "alignmentgroup": "True",
         "hovertemplate": "c_w=%{y}<br>n=%{x}<extra></extra>",
         "legendgroup": "보는 내내",
         "marker": {
          "color": "#ab63fa",
          "pattern": {
           "shape": ""
          }
         },
         "name": "보는 내내",
         "offsetgroup": "보는 내내",
         "orientation": "h",
         "showlegend": true,
         "textposition": "auto",
         "type": "bar",
         "x": [
          102
         ],
         "xaxis": "x",
         "y": [
          "보는 내내"
         ],
         "yaxis": "y"
        },
        {
         "alignmentgroup": "True",
         "hovertemplate": "c_w=%{y}<br>n=%{x}<extra></extra>",
         "legendgroup": "생각 보다",
         "marker": {
          "color": "#FFA15A",
          "pattern": {
           "shape": ""
          }
         },
         "name": "생각 보다",
         "offsetgroup": "생각 보다",
         "orientation": "h",
         "showlegend": true,
         "textposition": "auto",
         "type": "bar",
         "x": [
          95
         ],
         "xaxis": "x",
         "y": [
          "생각 보다"
         ],
         "yaxis": "y"
        },
        {
         "alignmentgroup": "True",
         "hovertemplate": "c_w=%{y}<br>n=%{x}<extra></extra>",
         "legendgroup": "인생 최고",
         "marker": {
          "color": "#19d3f3",
          "pattern": {
           "shape": ""
          }
         },
         "name": "인생 최고",
         "offsetgroup": "인생 최고",
         "orientation": "h",
         "showlegend": true,
         "textposition": "auto",
         "type": "bar",
         "x": [
          93
         ],
         "xaxis": "x",
         "y": [
          "인생 최고"
         ],
         "yaxis": "y"
        },
        {
         "alignmentgroup": "True",
         "hovertemplate": "c_w=%{y}<br>n=%{x}<extra></extra>",
         "legendgroup": "지금 봐도",
         "marker": {
          "color": "#FF6692",
          "pattern": {
           "shape": ""
          }
         },
         "name": "지금 봐도",
         "offsetgroup": "지금 봐도",
         "orientation": "h",
         "showlegend": true,
         "textposition": "auto",
         "type": "bar",
         "x": [
          90
         ],
         "xaxis": "x",
         "y": [
          "지금 봐도"
         ],
         "yaxis": "y"
        },
        {
         "alignmentgroup": "True",
         "hovertemplate": "c_w=%{y}<br>n=%{x}<extra></extra>",
         "legendgroup": "마지막 장면",
         "marker": {
          "color": "#B6E880",
          "pattern": {
           "shape": ""
          }
         },
         "name": "마지막 장면",
         "offsetgroup": "마지막 장면",
         "orientation": "h",
         "showlegend": true,
         "textposition": "auto",
         "type": "bar",
         "x": [
          89
         ],
         "xaxis": "x",
         "y": [
          "마지막 장면"
         ],
         "yaxis": "y"
        },
        {
         "alignmentgroup": "True",
         "hovertemplate": "c_w=%{y}<br>n=%{x}<extra></extra>",
         "legendgroup": "감동 이고",
         "marker": {
          "color": "#FF97FF",
          "pattern": {
           "shape": ""
          }
         },
         "name": "감동 이고",
         "offsetgroup": "감동 이고",
         "orientation": "h",
         "showlegend": true,
         "textposition": "auto",
         "type": "bar",
         "x": [
          79
         ],
         "xaxis": "x",
         "y": [
          "감동 이고"
         ],
         "yaxis": "y"
        },
        {
         "alignmentgroup": "True",
         "hovertemplate": "c_w=%{y}<br>n=%{x}<extra></extra>",
         "legendgroup": "라고 생각",
         "marker": {
          "color": "#FECB52",
          "pattern": {
           "shape": ""
          }
         },
         "name": "라고 생각",
         "offsetgroup": "라고 생각",
         "orientation": "h",
         "showlegend": true,
         "textposition": "auto",
         "type": "bar",
         "x": [
          78
         ],
         "xaxis": "x",
         "y": [
          "라고 생각"
         ],
         "yaxis": "y"
        },
        {
         "alignmentgroup": "True",
         "hovertemplate": "c_w=%{y}<br>n=%{x}<extra></extra>",
         "legendgroup": "다시 한번",
         "marker": {
          "color": "#636efa",
          "pattern": {
           "shape": ""
          }
         },
         "name": "다시 한번",
         "offsetgroup": "다시 한번",
         "orientation": "h",
         "showlegend": true,
         "textposition": "auto",
         "type": "bar",
         "x": [
          77
         ],
         "xaxis": "x",
         "y": [
          "다시 한번"
         ],
         "yaxis": "y"
        },
        {
         "alignmentgroup": "True",
         "hovertemplate": "c_w=%{y}<br>n=%{x}<extra></extra>",
         "legendgroup": "재밌게 봤어요",
         "marker": {
          "color": "#EF553B",
          "pattern": {
           "shape": ""
          }
         },
         "name": "재밌게 봤어요",
         "offsetgroup": "재밌게 봤어요",
         "orientation": "h",
         "showlegend": true,
         "textposition": "auto",
         "type": "bar",
         "x": [
          75
         ],
         "xaxis": "x",
         "y": [
          "재밌게 봤어요"
         ],
         "yaxis": "y"
        },
        {
         "alignmentgroup": "True",
         "hovertemplate": "c_w=%{y}<br>n=%{x}<extra></extra>",
         "legendgroup": "다시 보고",
         "marker": {
          "color": "#00cc96",
          "pattern": {
           "shape": ""
          }
         },
         "name": "다시 보고",
         "offsetgroup": "다시 보고",
         "orientation": "h",
         "showlegend": true,
         "textposition": "auto",
         "type": "bar",
         "x": [
          73
         ],
         "xaxis": "x",
         "y": [
          "다시 보고"
         ],
         "yaxis": "y"
        },
        {
         "alignmentgroup": "True",
         "hovertemplate": "c_w=%{y}<br>n=%{x}<extra></extra>",
         "legendgroup": "재밌게 봤습니다",
         "marker": {
          "color": "#ab63fa",
          "pattern": {
           "shape": ""
          }
         },
         "name": "재밌게 봤습니다",
         "offsetgroup": "재밌게 봤습니다",
         "orientation": "h",
         "showlegend": true,
         "textposition": "auto",
         "type": "bar",
         "x": [
          62
         ],
         "xaxis": "x",
         "y": [
          "재밌게 봤습니다"
         ],
         "yaxis": "y"
        },
        {
         "alignmentgroup": "True",
         "hovertemplate": "c_w=%{y}<br>n=%{x}<extra></extra>",
         "legendgroup": "최고 입니다",
         "marker": {
          "color": "#FFA15A",
          "pattern": {
           "shape": ""
          }
         },
         "name": "최고 입니다",
         "offsetgroup": "최고 입니다",
         "orientation": "h",
         "showlegend": true,
         "textposition": "auto",
         "type": "bar",
         "x": [
          62
         ],
         "xaxis": "x",
         "y": [
          "최고 입니다"
         ],
         "yaxis": "y"
        },
        {
         "alignmentgroup": "True",
         "hovertemplate": "c_w=%{y}<br>n=%{x}<extra></extra>",
         "legendgroup": "처음 부터",
         "marker": {
          "color": "#19d3f3",
          "pattern": {
           "shape": ""
          }
         },
         "name": "처음 부터",
         "offsetgroup": "처음 부터",
         "orientation": "h",
         "showlegend": true,
         "textposition": "auto",
         "type": "bar",
         "x": [
          60
         ],
         "xaxis": "x",
         "y": [
          "처음 부터"
         ],
         "yaxis": "y"
        },
        {
         "alignmentgroup": "True",
         "hovertemplate": "c_w=%{y}<br>n=%{x}<extra></extra>",
         "legendgroup": "최고 최고",
         "marker": {
          "color": "#FF6692",
          "pattern": {
           "shape": ""
          }
         },
         "name": "최고 최고",
         "offsetgroup": "최고 최고",
         "orientation": "h",
         "showlegend": true,
         "textposition": "auto",
         "type": "bar",
         "x": [
          59
         ],
         "xaxis": "x",
         "y": [
          "최고 최고"
         ],
         "yaxis": "y"
        },
        {
         "alignmentgroup": "True",
         "hovertemplate": "c_w=%{y}<br>n=%{x}<extra></extra>",
         "legendgroup": "여운 남는",
         "marker": {
          "color": "#B6E880",
          "pattern": {
           "shape": ""
          }
         },
         "name": "여운 남는",
         "offsetgroup": "여운 남는",
         "orientation": "h",
         "showlegend": true,
         "textposition": "auto",
         "type": "bar",
         "x": [
          59
         ],
         "xaxis": "x",
         "y": [
          "여운 남는"
         ],
         "yaxis": "y"
        },
        {
         "alignmentgroup": "True",
         "hovertemplate": "c_w=%{y}<br>n=%{x}<extra></extra>",
         "legendgroup": "많은 생각",
         "marker": {
          "color": "#FF97FF",
          "pattern": {
           "shape": ""
          }
         },
         "name": "많은 생각",
         "offsetgroup": "많은 생각",
         "orientation": "h",
         "showlegend": true,
         "textposition": "auto",
         "type": "bar",
         "x": [
          58
         ],
         "xaxis": "x",
         "y": [
          "많은 생각"
         ],
         "yaxis": "y"
        },
        {
         "alignmentgroup": "True",
         "hovertemplate": "c_w=%{y}<br>n=%{x}<extra></extra>",
         "legendgroup": "하나 하나",
         "marker": {
          "color": "#FECB52",
          "pattern": {
           "shape": ""
          }
         },
         "name": "하나 하나",
         "offsetgroup": "하나 하나",
         "orientation": "h",
         "showlegend": true,
         "textposition": "auto",
         "type": "bar",
         "x": [
          56
         ],
         "xaxis": "x",
         "y": [
          "하나 하나"
         ],
         "yaxis": "y"
        }
       ],
       "layout": {
        "barmode": "relative",
        "legend": {
         "title": {
          "text": "c_w"
         },
         "tracegroupgap": 0
        },
        "template": {
         "data": {
          "bar": [
           {
            "error_x": {
             "color": "#2a3f5f"
            },
            "error_y": {
             "color": "#2a3f5f"
            },
            "marker": {
             "line": {
              "color": "#E5ECF6",
              "width": 0.5
             },
             "pattern": {
              "fillmode": "overlay",
              "size": 10,
              "solidity": 0.2
             }
            },
            "type": "bar"
           }
          ],
          "barpolar": [
           {
            "marker": {
             "line": {
              "color": "#E5ECF6",
              "width": 0.5
             },
             "pattern": {
              "fillmode": "overlay",
              "size": 10,
              "solidity": 0.2
             }
            },
            "type": "barpolar"
           }
          ],
          "carpet": [
           {
            "aaxis": {
             "endlinecolor": "#2a3f5f",
             "gridcolor": "white",
             "linecolor": "white",
             "minorgridcolor": "white",
             "startlinecolor": "#2a3f5f"
            },
            "baxis": {
             "endlinecolor": "#2a3f5f",
             "gridcolor": "white",
             "linecolor": "white",
             "minorgridcolor": "white",
             "startlinecolor": "#2a3f5f"
            },
            "type": "carpet"
           }
          ],
          "choropleth": [
           {
            "colorbar": {
             "outlinewidth": 0,
             "ticks": ""
            },
            "type": "choropleth"
           }
          ],
          "contour": [
           {
            "colorbar": {
             "outlinewidth": 0,
             "ticks": ""
            },
            "colorscale": [
             [
              0,
              "#0d0887"
             ],
             [
              0.1111111111111111,
              "#46039f"
             ],
             [
              0.2222222222222222,
              "#7201a8"
             ],
             [
              0.3333333333333333,
              "#9c179e"
             ],
             [
              0.4444444444444444,
              "#bd3786"
             ],
             [
              0.5555555555555556,
              "#d8576b"
             ],
             [
              0.6666666666666666,
              "#ed7953"
             ],
             [
              0.7777777777777778,
              "#fb9f3a"
             ],
             [
              0.8888888888888888,
              "#fdca26"
             ],
             [
              1,
              "#f0f921"
             ]
            ],
            "type": "contour"
           }
          ],
          "contourcarpet": [
           {
            "colorbar": {
             "outlinewidth": 0,
             "ticks": ""
            },
            "type": "contourcarpet"
           }
          ],
          "heatmap": [
           {
            "colorbar": {
             "outlinewidth": 0,
             "ticks": ""
            },
            "colorscale": [
             [
              0,
              "#0d0887"
             ],
             [
              0.1111111111111111,
              "#46039f"
             ],
             [
              0.2222222222222222,
              "#7201a8"
             ],
             [
              0.3333333333333333,
              "#9c179e"
             ],
             [
              0.4444444444444444,
              "#bd3786"
             ],
             [
              0.5555555555555556,
              "#d8576b"
             ],
             [
              0.6666666666666666,
              "#ed7953"
             ],
             [
              0.7777777777777778,
              "#fb9f3a"
             ],
             [
              0.8888888888888888,
              "#fdca26"
             ],
             [
              1,
              "#f0f921"
             ]
            ],
            "type": "heatmap"
           }
          ],
          "heatmapgl": [
           {
            "colorbar": {
             "outlinewidth": 0,
             "ticks": ""
            },
            "colorscale": [
             [
              0,
              "#0d0887"
             ],
             [
              0.1111111111111111,
              "#46039f"
             ],
             [
              0.2222222222222222,
              "#7201a8"
             ],
             [
              0.3333333333333333,
              "#9c179e"
             ],
             [
              0.4444444444444444,
              "#bd3786"
             ],
             [
              0.5555555555555556,
              "#d8576b"
             ],
             [
              0.6666666666666666,
              "#ed7953"
             ],
             [
              0.7777777777777778,
              "#fb9f3a"
             ],
             [
              0.8888888888888888,
              "#fdca26"
             ],
             [
              1,
              "#f0f921"
             ]
            ],
            "type": "heatmapgl"
           }
          ],
          "histogram": [
           {
            "marker": {
             "pattern": {
              "fillmode": "overlay",
              "size": 10,
              "solidity": 0.2
             }
            },
            "type": "histogram"
           }
          ],
          "histogram2d": [
           {
            "colorbar": {
             "outlinewidth": 0,
             "ticks": ""
            },
            "colorscale": [
             [
              0,
              "#0d0887"
             ],
             [
              0.1111111111111111,
              "#46039f"
             ],
             [
              0.2222222222222222,
              "#7201a8"
             ],
             [
              0.3333333333333333,
              "#9c179e"
             ],
             [
              0.4444444444444444,
              "#bd3786"
             ],
             [
              0.5555555555555556,
              "#d8576b"
             ],
             [
              0.6666666666666666,
              "#ed7953"
             ],
             [
              0.7777777777777778,
              "#fb9f3a"
             ],
             [
              0.8888888888888888,
              "#fdca26"
             ],
             [
              1,
              "#f0f921"
             ]
            ],
            "type": "histogram2d"
           }
          ],
          "histogram2dcontour": [
           {
            "colorbar": {
             "outlinewidth": 0,
             "ticks": ""
            },
            "colorscale": [
             [
              0,
              "#0d0887"
             ],
             [
              0.1111111111111111,
              "#46039f"
             ],
             [
              0.2222222222222222,
              "#7201a8"
             ],
             [
              0.3333333333333333,
              "#9c179e"
             ],
             [
              0.4444444444444444,
              "#bd3786"
             ],
             [
              0.5555555555555556,
              "#d8576b"
             ],
             [
              0.6666666666666666,
              "#ed7953"
             ],
             [
              0.7777777777777778,
              "#fb9f3a"
             ],
             [
              0.8888888888888888,
              "#fdca26"
             ],
             [
              1,
              "#f0f921"
             ]
            ],
            "type": "histogram2dcontour"
           }
          ],
          "mesh3d": [
           {
            "colorbar": {
             "outlinewidth": 0,
             "ticks": ""
            },
            "type": "mesh3d"
           }
          ],
          "parcoords": [
           {
            "line": {
             "colorbar": {
              "outlinewidth": 0,
              "ticks": ""
             }
            },
            "type": "parcoords"
           }
          ],
          "pie": [
           {
            "automargin": true,
            "type": "pie"
           }
          ],
          "scatter": [
           {
            "fillpattern": {
             "fillmode": "overlay",
             "size": 10,
             "solidity": 0.2
            },
            "type": "scatter"
           }
          ],
          "scatter3d": [
           {
            "line": {
             "colorbar": {
              "outlinewidth": 0,
              "ticks": ""
             }
            },
            "marker": {
             "colorbar": {
              "outlinewidth": 0,
              "ticks": ""
             }
            },
            "type": "scatter3d"
           }
          ],
          "scattercarpet": [
           {
            "marker": {
             "colorbar": {
              "outlinewidth": 0,
              "ticks": ""
             }
            },
            "type": "scattercarpet"
           }
          ],
          "scattergeo": [
           {
            "marker": {
             "colorbar": {
              "outlinewidth": 0,
              "ticks": ""
             }
            },
            "type": "scattergeo"
           }
          ],
          "scattergl": [
           {
            "marker": {
             "colorbar": {
              "outlinewidth": 0,
              "ticks": ""
             }
            },
            "type": "scattergl"
           }
          ],
          "scattermapbox": [
           {
            "marker": {
             "colorbar": {
              "outlinewidth": 0,
              "ticks": ""
             }
            },
            "type": "scattermapbox"
           }
          ],
          "scatterpolar": [
           {
            "marker": {
             "colorbar": {
              "outlinewidth": 0,
              "ticks": ""
             }
            },
            "type": "scatterpolar"
           }
          ],
          "scatterpolargl": [
           {
            "marker": {
             "colorbar": {
              "outlinewidth": 0,
              "ticks": ""
             }
            },
            "type": "scatterpolargl"
           }
          ],
          "scatterternary": [
           {
            "marker": {
             "colorbar": {
              "outlinewidth": 0,
              "ticks": ""
             }
            },
            "type": "scatterternary"
           }
          ],
          "surface": [
           {
            "colorbar": {
             "outlinewidth": 0,
             "ticks": ""
            },
            "colorscale": [
             [
              0,
              "#0d0887"
             ],
             [
              0.1111111111111111,
              "#46039f"
             ],
             [
              0.2222222222222222,
              "#7201a8"
             ],
             [
              0.3333333333333333,
              "#9c179e"
             ],
             [
              0.4444444444444444,
              "#bd3786"
             ],
             [
              0.5555555555555556,
              "#d8576b"
             ],
             [
              0.6666666666666666,
              "#ed7953"
             ],
             [
              0.7777777777777778,
              "#fb9f3a"
             ],
             [
              0.8888888888888888,
              "#fdca26"
             ],
             [
              1,
              "#f0f921"
             ]
            ],
            "type": "surface"
           }
          ],
          "table": [
           {
            "cells": {
             "fill": {
              "color": "#EBF0F8"
             },
             "line": {
              "color": "white"
             }
            },
            "header": {
             "fill": {
              "color": "#C8D4E3"
             },
             "line": {
              "color": "white"
             }
            },
            "type": "table"
           }
          ]
         },
         "layout": {
          "annotationdefaults": {
           "arrowcolor": "#2a3f5f",
           "arrowhead": 0,
           "arrowwidth": 1
          },
          "autotypenumbers": "strict",
          "coloraxis": {
           "colorbar": {
            "outlinewidth": 0,
            "ticks": ""
           }
          },
          "colorscale": {
           "diverging": [
            [
             0,
             "#8e0152"
            ],
            [
             0.1,
             "#c51b7d"
            ],
            [
             0.2,
             "#de77ae"
            ],
            [
             0.3,
             "#f1b6da"
            ],
            [
             0.4,
             "#fde0ef"
            ],
            [
             0.5,
             "#f7f7f7"
            ],
            [
             0.6,
             "#e6f5d0"
            ],
            [
             0.7,
             "#b8e186"
            ],
            [
             0.8,
             "#7fbc41"
            ],
            [
             0.9,
             "#4d9221"
            ],
            [
             1,
             "#276419"
            ]
           ],
           "sequential": [
            [
             0,
             "#0d0887"
            ],
            [
             0.1111111111111111,
             "#46039f"
            ],
            [
             0.2222222222222222,
             "#7201a8"
            ],
            [
             0.3333333333333333,
             "#9c179e"
            ],
            [
             0.4444444444444444,
             "#bd3786"
            ],
            [
             0.5555555555555556,
             "#d8576b"
            ],
            [
             0.6666666666666666,
             "#ed7953"
            ],
            [
             0.7777777777777778,
             "#fb9f3a"
            ],
            [
             0.8888888888888888,
             "#fdca26"
            ],
            [
             1,
             "#f0f921"
            ]
           ],
           "sequentialminus": [
            [
             0,
             "#0d0887"
            ],
            [
             0.1111111111111111,
             "#46039f"
            ],
            [
             0.2222222222222222,
             "#7201a8"
            ],
            [
             0.3333333333333333,
             "#9c179e"
            ],
            [
             0.4444444444444444,
             "#bd3786"
            ],
            [
             0.5555555555555556,
             "#d8576b"
            ],
            [
             0.6666666666666666,
             "#ed7953"
            ],
            [
             0.7777777777777778,
             "#fb9f3a"
            ],
            [
             0.8888888888888888,
             "#fdca26"
            ],
            [
             1,
             "#f0f921"
            ]
           ]
          },
          "colorway": [
           "#636efa",
           "#EF553B",
           "#00cc96",
           "#ab63fa",
           "#FFA15A",
           "#19d3f3",
           "#FF6692",
           "#B6E880",
           "#FF97FF",
           "#FECB52"
          ],
          "font": {
           "color": "#2a3f5f"
          },
          "geo": {
           "bgcolor": "white",
           "lakecolor": "white",
           "landcolor": "#E5ECF6",
           "showlakes": true,
           "showland": true,
           "subunitcolor": "white"
          },
          "hoverlabel": {
           "align": "left"
          },
          "hovermode": "closest",
          "mapbox": {
           "style": "light"
          },
          "paper_bgcolor": "white",
          "plot_bgcolor": "#E5ECF6",
          "polar": {
           "angularaxis": {
            "gridcolor": "white",
            "linecolor": "white",
            "ticks": ""
           },
           "bgcolor": "#E5ECF6",
           "radialaxis": {
            "gridcolor": "white",
            "linecolor": "white",
            "ticks": ""
           }
          },
          "scene": {
           "xaxis": {
            "backgroundcolor": "#E5ECF6",
            "gridcolor": "white",
            "gridwidth": 2,
            "linecolor": "white",
            "showbackground": true,
            "ticks": "",
            "zerolinecolor": "white"
           },
           "yaxis": {
            "backgroundcolor": "#E5ECF6",
            "gridcolor": "white",
            "gridwidth": 2,
            "linecolor": "white",
            "showbackground": true,
            "ticks": "",
            "zerolinecolor": "white"
           },
           "zaxis": {
            "backgroundcolor": "#E5ECF6",
            "gridcolor": "white",
            "gridwidth": 2,
            "linecolor": "white",
            "showbackground": true,
            "ticks": "",
            "zerolinecolor": "white"
           }
          },
          "shapedefaults": {
           "line": {
            "color": "#2a3f5f"
           }
          },
          "ternary": {
           "aaxis": {
            "gridcolor": "white",
            "linecolor": "white",
            "ticks": ""
           },
           "baxis": {
            "gridcolor": "white",
            "linecolor": "white",
            "ticks": ""
           },
           "bgcolor": "#E5ECF6",
           "caxis": {
            "gridcolor": "white",
            "linecolor": "white",
            "ticks": ""
           }
          },
          "title": {
           "x": 0.05
          },
          "xaxis": {
           "automargin": true,
           "gridcolor": "white",
           "linecolor": "white",
           "ticks": "",
           "title": {
            "standoff": 15
           },
           "zerolinecolor": "white",
           "zerolinewidth": 2
          },
          "yaxis": {
           "automargin": true,
           "gridcolor": "white",
           "linecolor": "white",
           "ticks": "",
           "title": {
            "standoff": 15
           },
           "zerolinecolor": "white",
           "zerolinewidth": 2
          }
         }
        },
        "title": {
         "text": "t_1_c_g"
        },
        "xaxis": {
         "anchor": "y",
         "domain": [
          0,
          1
         ],
         "title": {
          "text": "n"
         }
        },
        "yaxis": {
         "anchor": "x",
         "categoryarray": [
          "하나 하나",
          "많은 생각",
          "여운 남는",
          "최고 최고",
          "처음 부터",
          "최고 입니다",
          "재밌게 봤습니다",
          "다시 보고",
          "재밌게 봤어요",
          "다시 한번",
          "라고 생각",
          "감동 이고",
          "마지막 장면",
          "지금 봐도",
          "인생 최고",
          "생각 보다",
          "보는 내내",
          "최고 드라마",
          "다시 봐도",
          "배우 연기"
         ],
         "categoryorder": "array",
         "domain": [
          0,
          1
         ],
         "title": {
          "text": "c_w"
         }
        }
       }
      },
      "text/html": [
       "<div>                            <div id=\"e53b8bd7-a5a0-4dea-a1bf-49022422686b\" class=\"plotly-graph-div\" style=\"height:525px; width:100%;\"></div>            <script type=\"text/javascript\">                require([\"plotly\"], function(Plotly) {                    window.PLOTLYENV=window.PLOTLYENV || {};                                    if (document.getElementById(\"e53b8bd7-a5a0-4dea-a1bf-49022422686b\")) {                    Plotly.newPlot(                        \"e53b8bd7-a5a0-4dea-a1bf-49022422686b\",                        [{\"alignmentgroup\":\"True\",\"hovertemplate\":\"c_w=%{y}<br>n=%{x}<extra></extra>\",\"legendgroup\":\"\\ubc30\\uc6b0 \\uc5f0\\uae30\",\"marker\":{\"color\":\"#636efa\",\"pattern\":{\"shape\":\"\"}},\"name\":\"\\ubc30\\uc6b0 \\uc5f0\\uae30\",\"offsetgroup\":\"\\ubc30\\uc6b0 \\uc5f0\\uae30\",\"orientation\":\"h\",\"showlegend\":true,\"textposition\":\"auto\",\"x\":[170],\"xaxis\":\"x\",\"y\":[\"\\ubc30\\uc6b0 \\uc5f0\\uae30\"],\"yaxis\":\"y\",\"type\":\"bar\"},{\"alignmentgroup\":\"True\",\"hovertemplate\":\"c_w=%{y}<br>n=%{x}<extra></extra>\",\"legendgroup\":\"\\ub2e4\\uc2dc \\ubd10\\ub3c4\",\"marker\":{\"color\":\"#EF553B\",\"pattern\":{\"shape\":\"\"}},\"name\":\"\\ub2e4\\uc2dc \\ubd10\\ub3c4\",\"offsetgroup\":\"\\ub2e4\\uc2dc \\ubd10\\ub3c4\",\"orientation\":\"h\",\"showlegend\":true,\"textposition\":\"auto\",\"x\":[123],\"xaxis\":\"x\",\"y\":[\"\\ub2e4\\uc2dc \\ubd10\\ub3c4\"],\"yaxis\":\"y\",\"type\":\"bar\"},{\"alignmentgroup\":\"True\",\"hovertemplate\":\"c_w=%{y}<br>n=%{x}<extra></extra>\",\"legendgroup\":\"\\ucd5c\\uace0 \\ub4dc\\ub77c\\ub9c8\",\"marker\":{\"color\":\"#00cc96\",\"pattern\":{\"shape\":\"\"}},\"name\":\"\\ucd5c\\uace0 \\ub4dc\\ub77c\\ub9c8\",\"offsetgroup\":\"\\ucd5c\\uace0 \\ub4dc\\ub77c\\ub9c8\",\"orientation\":\"h\",\"showlegend\":true,\"textposition\":\"auto\",\"x\":[106],\"xaxis\":\"x\",\"y\":[\"\\ucd5c\\uace0 \\ub4dc\\ub77c\\ub9c8\"],\"yaxis\":\"y\",\"type\":\"bar\"},{\"alignmentgroup\":\"True\",\"hovertemplate\":\"c_w=%{y}<br>n=%{x}<extra></extra>\",\"legendgroup\":\"\\ubcf4\\ub294 \\ub0b4\\ub0b4\",\"marker\":{\"color\":\"#ab63fa\",\"pattern\":{\"shape\":\"\"}},\"name\":\"\\ubcf4\\ub294 \\ub0b4\\ub0b4\",\"offsetgroup\":\"\\ubcf4\\ub294 \\ub0b4\\ub0b4\",\"orientation\":\"h\",\"showlegend\":true,\"textposition\":\"auto\",\"x\":[102],\"xaxis\":\"x\",\"y\":[\"\\ubcf4\\ub294 \\ub0b4\\ub0b4\"],\"yaxis\":\"y\",\"type\":\"bar\"},{\"alignmentgroup\":\"True\",\"hovertemplate\":\"c_w=%{y}<br>n=%{x}<extra></extra>\",\"legendgroup\":\"\\uc0dd\\uac01 \\ubcf4\\ub2e4\",\"marker\":{\"color\":\"#FFA15A\",\"pattern\":{\"shape\":\"\"}},\"name\":\"\\uc0dd\\uac01 \\ubcf4\\ub2e4\",\"offsetgroup\":\"\\uc0dd\\uac01 \\ubcf4\\ub2e4\",\"orientation\":\"h\",\"showlegend\":true,\"textposition\":\"auto\",\"x\":[95],\"xaxis\":\"x\",\"y\":[\"\\uc0dd\\uac01 \\ubcf4\\ub2e4\"],\"yaxis\":\"y\",\"type\":\"bar\"},{\"alignmentgroup\":\"True\",\"hovertemplate\":\"c_w=%{y}<br>n=%{x}<extra></extra>\",\"legendgroup\":\"\\uc778\\uc0dd \\ucd5c\\uace0\",\"marker\":{\"color\":\"#19d3f3\",\"pattern\":{\"shape\":\"\"}},\"name\":\"\\uc778\\uc0dd \\ucd5c\\uace0\",\"offsetgroup\":\"\\uc778\\uc0dd \\ucd5c\\uace0\",\"orientation\":\"h\",\"showlegend\":true,\"textposition\":\"auto\",\"x\":[93],\"xaxis\":\"x\",\"y\":[\"\\uc778\\uc0dd \\ucd5c\\uace0\"],\"yaxis\":\"y\",\"type\":\"bar\"},{\"alignmentgroup\":\"True\",\"hovertemplate\":\"c_w=%{y}<br>n=%{x}<extra></extra>\",\"legendgroup\":\"\\uc9c0\\uae08 \\ubd10\\ub3c4\",\"marker\":{\"color\":\"#FF6692\",\"pattern\":{\"shape\":\"\"}},\"name\":\"\\uc9c0\\uae08 \\ubd10\\ub3c4\",\"offsetgroup\":\"\\uc9c0\\uae08 \\ubd10\\ub3c4\",\"orientation\":\"h\",\"showlegend\":true,\"textposition\":\"auto\",\"x\":[90],\"xaxis\":\"x\",\"y\":[\"\\uc9c0\\uae08 \\ubd10\\ub3c4\"],\"yaxis\":\"y\",\"type\":\"bar\"},{\"alignmentgroup\":\"True\",\"hovertemplate\":\"c_w=%{y}<br>n=%{x}<extra></extra>\",\"legendgroup\":\"\\ub9c8\\uc9c0\\ub9c9 \\uc7a5\\uba74\",\"marker\":{\"color\":\"#B6E880\",\"pattern\":{\"shape\":\"\"}},\"name\":\"\\ub9c8\\uc9c0\\ub9c9 \\uc7a5\\uba74\",\"offsetgroup\":\"\\ub9c8\\uc9c0\\ub9c9 \\uc7a5\\uba74\",\"orientation\":\"h\",\"showlegend\":true,\"textposition\":\"auto\",\"x\":[89],\"xaxis\":\"x\",\"y\":[\"\\ub9c8\\uc9c0\\ub9c9 \\uc7a5\\uba74\"],\"yaxis\":\"y\",\"type\":\"bar\"},{\"alignmentgroup\":\"True\",\"hovertemplate\":\"c_w=%{y}<br>n=%{x}<extra></extra>\",\"legendgroup\":\"\\uac10\\ub3d9 \\uc774\\uace0\",\"marker\":{\"color\":\"#FF97FF\",\"pattern\":{\"shape\":\"\"}},\"name\":\"\\uac10\\ub3d9 \\uc774\\uace0\",\"offsetgroup\":\"\\uac10\\ub3d9 \\uc774\\uace0\",\"orientation\":\"h\",\"showlegend\":true,\"textposition\":\"auto\",\"x\":[79],\"xaxis\":\"x\",\"y\":[\"\\uac10\\ub3d9 \\uc774\\uace0\"],\"yaxis\":\"y\",\"type\":\"bar\"},{\"alignmentgroup\":\"True\",\"hovertemplate\":\"c_w=%{y}<br>n=%{x}<extra></extra>\",\"legendgroup\":\"\\ub77c\\uace0 \\uc0dd\\uac01\",\"marker\":{\"color\":\"#FECB52\",\"pattern\":{\"shape\":\"\"}},\"name\":\"\\ub77c\\uace0 \\uc0dd\\uac01\",\"offsetgroup\":\"\\ub77c\\uace0 \\uc0dd\\uac01\",\"orientation\":\"h\",\"showlegend\":true,\"textposition\":\"auto\",\"x\":[78],\"xaxis\":\"x\",\"y\":[\"\\ub77c\\uace0 \\uc0dd\\uac01\"],\"yaxis\":\"y\",\"type\":\"bar\"},{\"alignmentgroup\":\"True\",\"hovertemplate\":\"c_w=%{y}<br>n=%{x}<extra></extra>\",\"legendgroup\":\"\\ub2e4\\uc2dc \\ud55c\\ubc88\",\"marker\":{\"color\":\"#636efa\",\"pattern\":{\"shape\":\"\"}},\"name\":\"\\ub2e4\\uc2dc \\ud55c\\ubc88\",\"offsetgroup\":\"\\ub2e4\\uc2dc \\ud55c\\ubc88\",\"orientation\":\"h\",\"showlegend\":true,\"textposition\":\"auto\",\"x\":[77],\"xaxis\":\"x\",\"y\":[\"\\ub2e4\\uc2dc \\ud55c\\ubc88\"],\"yaxis\":\"y\",\"type\":\"bar\"},{\"alignmentgroup\":\"True\",\"hovertemplate\":\"c_w=%{y}<br>n=%{x}<extra></extra>\",\"legendgroup\":\"\\uc7ac\\ubc0c\\uac8c \\ubd24\\uc5b4\\uc694\",\"marker\":{\"color\":\"#EF553B\",\"pattern\":{\"shape\":\"\"}},\"name\":\"\\uc7ac\\ubc0c\\uac8c \\ubd24\\uc5b4\\uc694\",\"offsetgroup\":\"\\uc7ac\\ubc0c\\uac8c \\ubd24\\uc5b4\\uc694\",\"orientation\":\"h\",\"showlegend\":true,\"textposition\":\"auto\",\"x\":[75],\"xaxis\":\"x\",\"y\":[\"\\uc7ac\\ubc0c\\uac8c \\ubd24\\uc5b4\\uc694\"],\"yaxis\":\"y\",\"type\":\"bar\"},{\"alignmentgroup\":\"True\",\"hovertemplate\":\"c_w=%{y}<br>n=%{x}<extra></extra>\",\"legendgroup\":\"\\ub2e4\\uc2dc \\ubcf4\\uace0\",\"marker\":{\"color\":\"#00cc96\",\"pattern\":{\"shape\":\"\"}},\"name\":\"\\ub2e4\\uc2dc \\ubcf4\\uace0\",\"offsetgroup\":\"\\ub2e4\\uc2dc \\ubcf4\\uace0\",\"orientation\":\"h\",\"showlegend\":true,\"textposition\":\"auto\",\"x\":[73],\"xaxis\":\"x\",\"y\":[\"\\ub2e4\\uc2dc \\ubcf4\\uace0\"],\"yaxis\":\"y\",\"type\":\"bar\"},{\"alignmentgroup\":\"True\",\"hovertemplate\":\"c_w=%{y}<br>n=%{x}<extra></extra>\",\"legendgroup\":\"\\uc7ac\\ubc0c\\uac8c \\ubd24\\uc2b5\\ub2c8\\ub2e4\",\"marker\":{\"color\":\"#ab63fa\",\"pattern\":{\"shape\":\"\"}},\"name\":\"\\uc7ac\\ubc0c\\uac8c \\ubd24\\uc2b5\\ub2c8\\ub2e4\",\"offsetgroup\":\"\\uc7ac\\ubc0c\\uac8c \\ubd24\\uc2b5\\ub2c8\\ub2e4\",\"orientation\":\"h\",\"showlegend\":true,\"textposition\":\"auto\",\"x\":[62],\"xaxis\":\"x\",\"y\":[\"\\uc7ac\\ubc0c\\uac8c \\ubd24\\uc2b5\\ub2c8\\ub2e4\"],\"yaxis\":\"y\",\"type\":\"bar\"},{\"alignmentgroup\":\"True\",\"hovertemplate\":\"c_w=%{y}<br>n=%{x}<extra></extra>\",\"legendgroup\":\"\\ucd5c\\uace0 \\uc785\\ub2c8\\ub2e4\",\"marker\":{\"color\":\"#FFA15A\",\"pattern\":{\"shape\":\"\"}},\"name\":\"\\ucd5c\\uace0 \\uc785\\ub2c8\\ub2e4\",\"offsetgroup\":\"\\ucd5c\\uace0 \\uc785\\ub2c8\\ub2e4\",\"orientation\":\"h\",\"showlegend\":true,\"textposition\":\"auto\",\"x\":[62],\"xaxis\":\"x\",\"y\":[\"\\ucd5c\\uace0 \\uc785\\ub2c8\\ub2e4\"],\"yaxis\":\"y\",\"type\":\"bar\"},{\"alignmentgroup\":\"True\",\"hovertemplate\":\"c_w=%{y}<br>n=%{x}<extra></extra>\",\"legendgroup\":\"\\ucc98\\uc74c \\ubd80\\ud130\",\"marker\":{\"color\":\"#19d3f3\",\"pattern\":{\"shape\":\"\"}},\"name\":\"\\ucc98\\uc74c \\ubd80\\ud130\",\"offsetgroup\":\"\\ucc98\\uc74c \\ubd80\\ud130\",\"orientation\":\"h\",\"showlegend\":true,\"textposition\":\"auto\",\"x\":[60],\"xaxis\":\"x\",\"y\":[\"\\ucc98\\uc74c \\ubd80\\ud130\"],\"yaxis\":\"y\",\"type\":\"bar\"},{\"alignmentgroup\":\"True\",\"hovertemplate\":\"c_w=%{y}<br>n=%{x}<extra></extra>\",\"legendgroup\":\"\\ucd5c\\uace0 \\ucd5c\\uace0\",\"marker\":{\"color\":\"#FF6692\",\"pattern\":{\"shape\":\"\"}},\"name\":\"\\ucd5c\\uace0 \\ucd5c\\uace0\",\"offsetgroup\":\"\\ucd5c\\uace0 \\ucd5c\\uace0\",\"orientation\":\"h\",\"showlegend\":true,\"textposition\":\"auto\",\"x\":[59],\"xaxis\":\"x\",\"y\":[\"\\ucd5c\\uace0 \\ucd5c\\uace0\"],\"yaxis\":\"y\",\"type\":\"bar\"},{\"alignmentgroup\":\"True\",\"hovertemplate\":\"c_w=%{y}<br>n=%{x}<extra></extra>\",\"legendgroup\":\"\\uc5ec\\uc6b4 \\ub0a8\\ub294\",\"marker\":{\"color\":\"#B6E880\",\"pattern\":{\"shape\":\"\"}},\"name\":\"\\uc5ec\\uc6b4 \\ub0a8\\ub294\",\"offsetgroup\":\"\\uc5ec\\uc6b4 \\ub0a8\\ub294\",\"orientation\":\"h\",\"showlegend\":true,\"textposition\":\"auto\",\"x\":[59],\"xaxis\":\"x\",\"y\":[\"\\uc5ec\\uc6b4 \\ub0a8\\ub294\"],\"yaxis\":\"y\",\"type\":\"bar\"},{\"alignmentgroup\":\"True\",\"hovertemplate\":\"c_w=%{y}<br>n=%{x}<extra></extra>\",\"legendgroup\":\"\\ub9ce\\uc740 \\uc0dd\\uac01\",\"marker\":{\"color\":\"#FF97FF\",\"pattern\":{\"shape\":\"\"}},\"name\":\"\\ub9ce\\uc740 \\uc0dd\\uac01\",\"offsetgroup\":\"\\ub9ce\\uc740 \\uc0dd\\uac01\",\"orientation\":\"h\",\"showlegend\":true,\"textposition\":\"auto\",\"x\":[58],\"xaxis\":\"x\",\"y\":[\"\\ub9ce\\uc740 \\uc0dd\\uac01\"],\"yaxis\":\"y\",\"type\":\"bar\"},{\"alignmentgroup\":\"True\",\"hovertemplate\":\"c_w=%{y}<br>n=%{x}<extra></extra>\",\"legendgroup\":\"\\ud558\\ub098 \\ud558\\ub098\",\"marker\":{\"color\":\"#FECB52\",\"pattern\":{\"shape\":\"\"}},\"name\":\"\\ud558\\ub098 \\ud558\\ub098\",\"offsetgroup\":\"\\ud558\\ub098 \\ud558\\ub098\",\"orientation\":\"h\",\"showlegend\":true,\"textposition\":\"auto\",\"x\":[56],\"xaxis\":\"x\",\"y\":[\"\\ud558\\ub098 \\ud558\\ub098\"],\"yaxis\":\"y\",\"type\":\"bar\"}],                        {\"template\":{\"data\":{\"histogram2dcontour\":[{\"type\":\"histogram2dcontour\",\"colorbar\":{\"outlinewidth\":0,\"ticks\":\"\"},\"colorscale\":[[0.0,\"#0d0887\"],[0.1111111111111111,\"#46039f\"],[0.2222222222222222,\"#7201a8\"],[0.3333333333333333,\"#9c179e\"],[0.4444444444444444,\"#bd3786\"],[0.5555555555555556,\"#d8576b\"],[0.6666666666666666,\"#ed7953\"],[0.7777777777777778,\"#fb9f3a\"],[0.8888888888888888,\"#fdca26\"],[1.0,\"#f0f921\"]]}],\"choropleth\":[{\"type\":\"choropleth\",\"colorbar\":{\"outlinewidth\":0,\"ticks\":\"\"}}],\"histogram2d\":[{\"type\":\"histogram2d\",\"colorbar\":{\"outlinewidth\":0,\"ticks\":\"\"},\"colorscale\":[[0.0,\"#0d0887\"],[0.1111111111111111,\"#46039f\"],[0.2222222222222222,\"#7201a8\"],[0.3333333333333333,\"#9c179e\"],[0.4444444444444444,\"#bd3786\"],[0.5555555555555556,\"#d8576b\"],[0.6666666666666666,\"#ed7953\"],[0.7777777777777778,\"#fb9f3a\"],[0.8888888888888888,\"#fdca26\"],[1.0,\"#f0f921\"]]}],\"heatmap\":[{\"type\":\"heatmap\",\"colorbar\":{\"outlinewidth\":0,\"ticks\":\"\"},\"colorscale\":[[0.0,\"#0d0887\"],[0.1111111111111111,\"#46039f\"],[0.2222222222222222,\"#7201a8\"],[0.3333333333333333,\"#9c179e\"],[0.4444444444444444,\"#bd3786\"],[0.5555555555555556,\"#d8576b\"],[0.6666666666666666,\"#ed7953\"],[0.7777777777777778,\"#fb9f3a\"],[0.8888888888888888,\"#fdca26\"],[1.0,\"#f0f921\"]]}],\"heatmapgl\":[{\"type\":\"heatmapgl\",\"colorbar\":{\"outlinewidth\":0,\"ticks\":\"\"},\"colorscale\":[[0.0,\"#0d0887\"],[0.1111111111111111,\"#46039f\"],[0.2222222222222222,\"#7201a8\"],[0.3333333333333333,\"#9c179e\"],[0.4444444444444444,\"#bd3786\"],[0.5555555555555556,\"#d8576b\"],[0.6666666666666666,\"#ed7953\"],[0.7777777777777778,\"#fb9f3a\"],[0.8888888888888888,\"#fdca26\"],[1.0,\"#f0f921\"]]}],\"contourcarpet\":[{\"type\":\"contourcarpet\",\"colorbar\":{\"outlinewidth\":0,\"ticks\":\"\"}}],\"contour\":[{\"type\":\"contour\",\"colorbar\":{\"outlinewidth\":0,\"ticks\":\"\"},\"colorscale\":[[0.0,\"#0d0887\"],[0.1111111111111111,\"#46039f\"],[0.2222222222222222,\"#7201a8\"],[0.3333333333333333,\"#9c179e\"],[0.4444444444444444,\"#bd3786\"],[0.5555555555555556,\"#d8576b\"],[0.6666666666666666,\"#ed7953\"],[0.7777777777777778,\"#fb9f3a\"],[0.8888888888888888,\"#fdca26\"],[1.0,\"#f0f921\"]]}],\"surface\":[{\"type\":\"surface\",\"colorbar\":{\"outlinewidth\":0,\"ticks\":\"\"},\"colorscale\":[[0.0,\"#0d0887\"],[0.1111111111111111,\"#46039f\"],[0.2222222222222222,\"#7201a8\"],[0.3333333333333333,\"#9c179e\"],[0.4444444444444444,\"#bd3786\"],[0.5555555555555556,\"#d8576b\"],[0.6666666666666666,\"#ed7953\"],[0.7777777777777778,\"#fb9f3a\"],[0.8888888888888888,\"#fdca26\"],[1.0,\"#f0f921\"]]}],\"mesh3d\":[{\"type\":\"mesh3d\",\"colorbar\":{\"outlinewidth\":0,\"ticks\":\"\"}}],\"scatter\":[{\"fillpattern\":{\"fillmode\":\"overlay\",\"size\":10,\"solidity\":0.2},\"type\":\"scatter\"}],\"parcoords\":[{\"type\":\"parcoords\",\"line\":{\"colorbar\":{\"outlinewidth\":0,\"ticks\":\"\"}}}],\"scatterpolargl\":[{\"type\":\"scatterpolargl\",\"marker\":{\"colorbar\":{\"outlinewidth\":0,\"ticks\":\"\"}}}],\"bar\":[{\"error_x\":{\"color\":\"#2a3f5f\"},\"error_y\":{\"color\":\"#2a3f5f\"},\"marker\":{\"line\":{\"color\":\"#E5ECF6\",\"width\":0.5},\"pattern\":{\"fillmode\":\"overlay\",\"size\":10,\"solidity\":0.2}},\"type\":\"bar\"}],\"scattergeo\":[{\"type\":\"scattergeo\",\"marker\":{\"colorbar\":{\"outlinewidth\":0,\"ticks\":\"\"}}}],\"scatterpolar\":[{\"type\":\"scatterpolar\",\"marker\":{\"colorbar\":{\"outlinewidth\":0,\"ticks\":\"\"}}}],\"histogram\":[{\"marker\":{\"pattern\":{\"fillmode\":\"overlay\",\"size\":10,\"solidity\":0.2}},\"type\":\"histogram\"}],\"scattergl\":[{\"type\":\"scattergl\",\"marker\":{\"colorbar\":{\"outlinewidth\":0,\"ticks\":\"\"}}}],\"scatter3d\":[{\"type\":\"scatter3d\",\"line\":{\"colorbar\":{\"outlinewidth\":0,\"ticks\":\"\"}},\"marker\":{\"colorbar\":{\"outlinewidth\":0,\"ticks\":\"\"}}}],\"scattermapbox\":[{\"type\":\"scattermapbox\",\"marker\":{\"colorbar\":{\"outlinewidth\":0,\"ticks\":\"\"}}}],\"scatterternary\":[{\"type\":\"scatterternary\",\"marker\":{\"colorbar\":{\"outlinewidth\":0,\"ticks\":\"\"}}}],\"scattercarpet\":[{\"type\":\"scattercarpet\",\"marker\":{\"colorbar\":{\"outlinewidth\":0,\"ticks\":\"\"}}}],\"carpet\":[{\"aaxis\":{\"endlinecolor\":\"#2a3f5f\",\"gridcolor\":\"white\",\"linecolor\":\"white\",\"minorgridcolor\":\"white\",\"startlinecolor\":\"#2a3f5f\"},\"baxis\":{\"endlinecolor\":\"#2a3f5f\",\"gridcolor\":\"white\",\"linecolor\":\"white\",\"minorgridcolor\":\"white\",\"startlinecolor\":\"#2a3f5f\"},\"type\":\"carpet\"}],\"table\":[{\"cells\":{\"fill\":{\"color\":\"#EBF0F8\"},\"line\":{\"color\":\"white\"}},\"header\":{\"fill\":{\"color\":\"#C8D4E3\"},\"line\":{\"color\":\"white\"}},\"type\":\"table\"}],\"barpolar\":[{\"marker\":{\"line\":{\"color\":\"#E5ECF6\",\"width\":0.5},\"pattern\":{\"fillmode\":\"overlay\",\"size\":10,\"solidity\":0.2}},\"type\":\"barpolar\"}],\"pie\":[{\"automargin\":true,\"type\":\"pie\"}]},\"layout\":{\"autotypenumbers\":\"strict\",\"colorway\":[\"#636efa\",\"#EF553B\",\"#00cc96\",\"#ab63fa\",\"#FFA15A\",\"#19d3f3\",\"#FF6692\",\"#B6E880\",\"#FF97FF\",\"#FECB52\"],\"font\":{\"color\":\"#2a3f5f\"},\"hovermode\":\"closest\",\"hoverlabel\":{\"align\":\"left\"},\"paper_bgcolor\":\"white\",\"plot_bgcolor\":\"#E5ECF6\",\"polar\":{\"bgcolor\":\"#E5ECF6\",\"angularaxis\":{\"gridcolor\":\"white\",\"linecolor\":\"white\",\"ticks\":\"\"},\"radialaxis\":{\"gridcolor\":\"white\",\"linecolor\":\"white\",\"ticks\":\"\"}},\"ternary\":{\"bgcolor\":\"#E5ECF6\",\"aaxis\":{\"gridcolor\":\"white\",\"linecolor\":\"white\",\"ticks\":\"\"},\"baxis\":{\"gridcolor\":\"white\",\"linecolor\":\"white\",\"ticks\":\"\"},\"caxis\":{\"gridcolor\":\"white\",\"linecolor\":\"white\",\"ticks\":\"\"}},\"coloraxis\":{\"colorbar\":{\"outlinewidth\":0,\"ticks\":\"\"}},\"colorscale\":{\"sequential\":[[0.0,\"#0d0887\"],[0.1111111111111111,\"#46039f\"],[0.2222222222222222,\"#7201a8\"],[0.3333333333333333,\"#9c179e\"],[0.4444444444444444,\"#bd3786\"],[0.5555555555555556,\"#d8576b\"],[0.6666666666666666,\"#ed7953\"],[0.7777777777777778,\"#fb9f3a\"],[0.8888888888888888,\"#fdca26\"],[1.0,\"#f0f921\"]],\"sequentialminus\":[[0.0,\"#0d0887\"],[0.1111111111111111,\"#46039f\"],[0.2222222222222222,\"#7201a8\"],[0.3333333333333333,\"#9c179e\"],[0.4444444444444444,\"#bd3786\"],[0.5555555555555556,\"#d8576b\"],[0.6666666666666666,\"#ed7953\"],[0.7777777777777778,\"#fb9f3a\"],[0.8888888888888888,\"#fdca26\"],[1.0,\"#f0f921\"]],\"diverging\":[[0,\"#8e0152\"],[0.1,\"#c51b7d\"],[0.2,\"#de77ae\"],[0.3,\"#f1b6da\"],[0.4,\"#fde0ef\"],[0.5,\"#f7f7f7\"],[0.6,\"#e6f5d0\"],[0.7,\"#b8e186\"],[0.8,\"#7fbc41\"],[0.9,\"#4d9221\"],[1,\"#276419\"]]},\"xaxis\":{\"gridcolor\":\"white\",\"linecolor\":\"white\",\"ticks\":\"\",\"title\":{\"standoff\":15},\"zerolinecolor\":\"white\",\"automargin\":true,\"zerolinewidth\":2},\"yaxis\":{\"gridcolor\":\"white\",\"linecolor\":\"white\",\"ticks\":\"\",\"title\":{\"standoff\":15},\"zerolinecolor\":\"white\",\"automargin\":true,\"zerolinewidth\":2},\"scene\":{\"xaxis\":{\"backgroundcolor\":\"#E5ECF6\",\"gridcolor\":\"white\",\"linecolor\":\"white\",\"showbackground\":true,\"ticks\":\"\",\"zerolinecolor\":\"white\",\"gridwidth\":2},\"yaxis\":{\"backgroundcolor\":\"#E5ECF6\",\"gridcolor\":\"white\",\"linecolor\":\"white\",\"showbackground\":true,\"ticks\":\"\",\"zerolinecolor\":\"white\",\"gridwidth\":2},\"zaxis\":{\"backgroundcolor\":\"#E5ECF6\",\"gridcolor\":\"white\",\"linecolor\":\"white\",\"showbackground\":true,\"ticks\":\"\",\"zerolinecolor\":\"white\",\"gridwidth\":2}},\"shapedefaults\":{\"line\":{\"color\":\"#2a3f5f\"}},\"annotationdefaults\":{\"arrowcolor\":\"#2a3f5f\",\"arrowhead\":0,\"arrowwidth\":1},\"geo\":{\"bgcolor\":\"white\",\"landcolor\":\"#E5ECF6\",\"subunitcolor\":\"white\",\"showland\":true,\"showlakes\":true,\"lakecolor\":\"white\"},\"title\":{\"x\":0.05},\"mapbox\":{\"style\":\"light\"}}},\"xaxis\":{\"anchor\":\"y\",\"domain\":[0.0,1.0],\"title\":{\"text\":\"n\"}},\"yaxis\":{\"anchor\":\"x\",\"domain\":[0.0,1.0],\"title\":{\"text\":\"c_w\"},\"categoryorder\":\"array\",\"categoryarray\":[\"\\ud558\\ub098 \\ud558\\ub098\",\"\\ub9ce\\uc740 \\uc0dd\\uac01\",\"\\uc5ec\\uc6b4 \\ub0a8\\ub294\",\"\\ucd5c\\uace0 \\ucd5c\\uace0\",\"\\ucc98\\uc74c \\ubd80\\ud130\",\"\\ucd5c\\uace0 \\uc785\\ub2c8\\ub2e4\",\"\\uc7ac\\ubc0c\\uac8c \\ubd24\\uc2b5\\ub2c8\\ub2e4\",\"\\ub2e4\\uc2dc \\ubcf4\\uace0\",\"\\uc7ac\\ubc0c\\uac8c \\ubd24\\uc5b4\\uc694\",\"\\ub2e4\\uc2dc \\ud55c\\ubc88\",\"\\ub77c\\uace0 \\uc0dd\\uac01\",\"\\uac10\\ub3d9 \\uc774\\uace0\",\"\\ub9c8\\uc9c0\\ub9c9 \\uc7a5\\uba74\",\"\\uc9c0\\uae08 \\ubd10\\ub3c4\",\"\\uc778\\uc0dd \\ucd5c\\uace0\",\"\\uc0dd\\uac01 \\ubcf4\\ub2e4\",\"\\ubcf4\\ub294 \\ub0b4\\ub0b4\",\"\\ucd5c\\uace0 \\ub4dc\\ub77c\\ub9c8\",\"\\ub2e4\\uc2dc \\ubd10\\ub3c4\",\"\\ubc30\\uc6b0 \\uc5f0\\uae30\"]},\"legend\":{\"title\":{\"text\":\"c_w\"},\"tracegroupgap\":0},\"title\":{\"text\":\"t_1_c_g\"},\"barmode\":\"relative\"},                        {\"responsive\": true}                    ).then(function(){\n",
       "                            \n",
       "var gd = document.getElementById('e53b8bd7-a5a0-4dea-a1bf-49022422686b');\n",
       "var x = new MutationObserver(function (mutations, observer) {{\n",
       "        var display = window.getComputedStyle(gd).display;\n",
       "        if (!display || display === 'none') {{\n",
       "            console.log([gd, 'removed!']);\n",
       "            Plotly.purge(gd);\n",
       "            observer.disconnect();\n",
       "        }}\n",
       "}});\n",
       "\n",
       "// Listen for the removal of the full notebook cells\n",
       "var notebookContainer = gd.closest('#notebook-container');\n",
       "if (notebookContainer) {{\n",
       "    x.observe(notebookContainer, {childList: true});\n",
       "}}\n",
       "\n",
       "// Listen for the clearing of the current output cell\n",
       "var outputEl = gd.closest('.output');\n",
       "if (outputEl) {{\n",
       "    x.observe(outputEl, {childList: true});\n",
       "}}\n",
       "\n",
       "                        })                };                });            </script>        </div>"
      ]
     },
     "metadata": {},
     "output_type": "display_data"
    }
   ],
   "source": [
    "t_l_0_data=dict(N_그램_표현(t_l_1_s,20,2))\n",
    "v_df2=pd.DataFrame(columns=['c_w','n'])\n",
    "v_df2['c_w']=list(t_l_0_data.keys())\n",
    "v_df2['n']=list(t_l_0_data.values())\n",
    "fig=px.bar(v_df2,x='n',y='c_w',orientation='h',title='t_1_c_g',color='c_w')#orientation:동작 형식\n",
    "fig.show()"
   ]
  },
  {
   "cell_type": "code",
   "execution_count": 60,
   "id": "e8047514",
   "metadata": {},
   "outputs": [
    {
     "data": {
      "application/vnd.plotly.v1+json": {
       "config": {
        "plotlyServerURL": "https://plot.ly"
       },
       "data": [
        {
         "alignmentgroup": "True",
         "hovertemplate": "c_w=%{y}<br>n=%{x}<extra></extra>",
         "legendgroup": "처음 부터 까지",
         "marker": {
          "color": "#636efa",
          "pattern": {
           "shape": ""
          }
         },
         "name": "처음 부터 까지",
         "offsetgroup": "처음 부터 까지",
         "orientation": "h",
         "showlegend": true,
         "textposition": "auto",
         "type": "bar",
         "x": [
          40
         ],
         "xaxis": "x",
         "y": [
          "처음 부터 까지"
         ],
         "yaxis": "y"
        },
        {
         "alignmentgroup": "True",
         "hovertemplate": "c_w=%{y}<br>n=%{x}<extra></extra>",
         "legendgroup": "시간 가는줄 모르고",
         "marker": {
          "color": "#EF553B",
          "pattern": {
           "shape": ""
          }
         },
         "name": "시간 가는줄 모르고",
         "offsetgroup": "시간 가는줄 모르고",
         "orientation": "h",
         "showlegend": true,
         "textposition": "auto",
         "type": "bar",
         "x": [
          32
         ],
         "xaxis": "x",
         "y": [
          "시간 가는줄 모르고"
         ],
         "yaxis": "y"
        },
        {
         "alignmentgroup": "True",
         "hovertemplate": "c_w=%{y}<br>n=%{x}<extra></extra>",
         "legendgroup": "다시 보고 싶은",
         "marker": {
          "color": "#00cc96",
          "pattern": {
           "shape": ""
          }
         },
         "name": "다시 보고 싶은",
         "offsetgroup": "다시 보고 싶은",
         "orientation": "h",
         "showlegend": true,
         "textposition": "auto",
         "type": "bar",
         "x": [
          25
         ],
         "xaxis": "x",
         "y": [
          "다시 보고 싶은"
         ],
         "yaxis": "y"
        },
        {
         "alignmentgroup": "True",
         "hovertemplate": "c_w=%{y}<br>n=%{x}<extra></extra>",
         "legendgroup": "인생 최고 드라마",
         "marker": {
          "color": "#ab63fa",
          "pattern": {
           "shape": ""
          }
         },
         "name": "인생 최고 드라마",
         "offsetgroup": "인생 최고 드라마",
         "orientation": "h",
         "showlegend": true,
         "textposition": "auto",
         "type": "bar",
         "x": [
          21
         ],
         "xaxis": "x",
         "y": [
          "인생 최고 드라마"
         ],
         "yaxis": "y"
        },
        {
         "alignmentgroup": "True",
         "hovertemplate": "c_w=%{y}<br>n=%{x}<extra></extra>",
         "legendgroup": "다시 한번 생각",
         "marker": {
          "color": "#FFA15A",
          "pattern": {
           "shape": ""
          }
         },
         "name": "다시 한번 생각",
         "offsetgroup": "다시 한번 생각",
         "orientation": "h",
         "showlegend": true,
         "textposition": "auto",
         "type": "bar",
         "x": [
          20
         ],
         "xaxis": "x",
         "y": [
          "다시 한번 생각"
         ],
         "yaxis": "y"
        },
        {
         "alignmentgroup": "True",
         "hovertemplate": "c_w=%{y}<br>n=%{x}<extra></extra>",
         "legendgroup": "아무 생각 없이",
         "marker": {
          "color": "#19d3f3",
          "pattern": {
           "shape": ""
          }
         },
         "name": "아무 생각 없이",
         "offsetgroup": "아무 생각 없이",
         "orientation": "h",
         "showlegend": true,
         "textposition": "auto",
         "type": "bar",
         "x": [
          20
         ],
         "xaxis": "x",
         "y": [
          "아무 생각 없이"
         ],
         "yaxis": "y"
        },
        {
         "alignmentgroup": "True",
         "hovertemplate": "c_w=%{y}<br>n=%{x}<extra></extra>",
         "legendgroup": "최고 최고 최고",
         "marker": {
          "color": "#FF6692",
          "pattern": {
           "shape": ""
          }
         },
         "name": "최고 최고 최고",
         "offsetgroup": "최고 최고 최고",
         "orientation": "h",
         "showlegend": true,
         "textposition": "auto",
         "type": "bar",
         "x": [
          19
         ],
         "xaxis": "x",
         "y": [
          "최고 최고 최고"
         ],
         "yaxis": "y"
        },
        {
         "alignmentgroup": "True",
         "hovertemplate": "c_w=%{y}<br>n=%{x}<extra></extra>",
         "legendgroup": "대해 다시 생각",
         "marker": {
          "color": "#B6E880",
          "pattern": {
           "shape": ""
          }
         },
         "name": "대해 다시 생각",
         "offsetgroup": "대해 다시 생각",
         "orientation": "h",
         "showlegend": true,
         "textposition": "auto",
         "type": "bar",
         "x": [
          15
         ],
         "xaxis": "x",
         "y": [
          "대해 다시 생각"
         ],
         "yaxis": "y"
        },
        {
         "alignmentgroup": "True",
         "hovertemplate": "c_w=%{y}<br>n=%{x}<extra></extra>",
         "legendgroup": "대사 하나 하나",
         "marker": {
          "color": "#FF97FF",
          "pattern": {
           "shape": ""
          }
         },
         "name": "대사 하나 하나",
         "offsetgroup": "대사 하나 하나",
         "orientation": "h",
         "showlegend": true,
         "textposition": "auto",
         "type": "bar",
         "x": [
          15
         ],
         "xaxis": "x",
         "y": [
          "대사 하나 하나"
         ],
         "yaxis": "y"
        },
        {
         "alignmentgroup": "True",
         "hovertemplate": "c_w=%{y}<br>n=%{x}<extra></extra>",
         "legendgroup": "봐도 질리 않는",
         "marker": {
          "color": "#FECB52",
          "pattern": {
           "shape": ""
          }
         },
         "name": "봐도 질리 않는",
         "offsetgroup": "봐도 질리 않는",
         "orientation": "h",
         "showlegend": true,
         "textposition": "auto",
         "type": "bar",
         "x": [
          14
         ],
         "xaxis": "x",
         "y": [
          "봐도 질리 않는"
         ],
         "yaxis": "y"
        },
        {
         "alignmentgroup": "True",
         "hovertemplate": "c_w=%{y}<br>n=%{x}<extra></extra>",
         "legendgroup": "라고 생각 합니다",
         "marker": {
          "color": "#636efa",
          "pattern": {
           "shape": ""
          }
         },
         "name": "라고 생각 합니다",
         "offsetgroup": "라고 생각 합니다",
         "orientation": "h",
         "showlegend": true,
         "textposition": "auto",
         "type": "bar",
         "x": [
          14
         ],
         "xaxis": "x",
         "y": [
          "라고 생각 합니다"
         ],
         "yaxis": "y"
        },
        {
         "alignmentgroup": "True",
         "hovertemplate": "c_w=%{y}<br>n=%{x}<extra></extra>",
         "legendgroup": "이제 서야 보다니",
         "marker": {
          "color": "#EF553B",
          "pattern": {
           "shape": ""
          }
         },
         "name": "이제 서야 보다니",
         "offsetgroup": "이제 서야 보다니",
         "orientation": "h",
         "showlegend": true,
         "textposition": "auto",
         "type": "bar",
         "x": [
          13
         ],
         "xaxis": "x",
         "y": [
          "이제 서야 보다니"
         ],
         "yaxis": "y"
        },
        {
         "alignmentgroup": "True",
         "hovertemplate": "c_w=%{y}<br>n=%{x}<extra></extra>",
         "legendgroup": "재밌게 봤는데 평점",
         "marker": {
          "color": "#00cc96",
          "pattern": {
           "shape": ""
          }
         },
         "name": "재밌게 봤는데 평점",
         "offsetgroup": "재밌게 봤는데 평점",
         "orientation": "h",
         "showlegend": true,
         "textposition": "auto",
         "type": "bar",
         "x": [
          12
         ],
         "xaxis": "x",
         "y": [
          "재밌게 봤는데 평점"
         ],
         "yaxis": "y"
        },
        {
         "alignmentgroup": "True",
         "hovertemplate": "c_w=%{y}<br>n=%{x}<extra></extra>",
         "legendgroup": "대해 다시 한번",
         "marker": {
          "color": "#ab63fa",
          "pattern": {
           "shape": ""
          }
         },
         "name": "대해 다시 한번",
         "offsetgroup": "대해 다시 한번",
         "orientation": "h",
         "showlegend": true,
         "textposition": "auto",
         "type": "bar",
         "x": [
          12
         ],
         "xaxis": "x",
         "y": [
          "대해 다시 한번"
         ],
         "yaxis": "y"
        },
        {
         "alignmentgroup": "True",
         "hovertemplate": "c_w=%{y}<br>n=%{x}<extra></extra>",
         "legendgroup": "다시 보고 싶다",
         "marker": {
          "color": "#FFA15A",
          "pattern": {
           "shape": ""
          }
         },
         "name": "다시 보고 싶다",
         "offsetgroup": "다시 보고 싶다",
         "orientation": "h",
         "showlegend": true,
         "textposition": "auto",
         "type": "bar",
         "x": [
          11
         ],
         "xaxis": "x",
         "y": [
          "다시 보고 싶다"
         ],
         "yaxis": "y"
        },
        {
         "alignmentgroup": "True",
         "hovertemplate": "c_w=%{y}<br>n=%{x}<extra></extra>",
         "legendgroup": "배우 연기 좋고",
         "marker": {
          "color": "#19d3f3",
          "pattern": {
           "shape": ""
          }
         },
         "name": "배우 연기 좋고",
         "offsetgroup": "배우 연기 좋고",
         "orientation": "h",
         "showlegend": true,
         "textposition": "auto",
         "type": "bar",
         "x": [
          11
         ],
         "xaxis": "x",
         "y": [
          "배우 연기 좋고"
         ],
         "yaxis": "y"
        },
        {
         "alignmentgroup": "True",
         "hovertemplate": "c_w=%{y}<br>n=%{x}<extra></extra>",
         "legendgroup": "가는줄 모르고 봤다",
         "marker": {
          "color": "#FF6692",
          "pattern": {
           "shape": ""
          }
         },
         "name": "가는줄 모르고 봤다",
         "offsetgroup": "가는줄 모르고 봤다",
         "orientation": "h",
         "showlegend": true,
         "textposition": "auto",
         "type": "bar",
         "x": [
          10
         ],
         "xaxis": "x",
         "y": [
          "가는줄 모르고 봤다"
         ],
         "yaxis": "y"
        },
        {
         "alignmentgroup": "True",
         "hovertemplate": "c_w=%{y}<br>n=%{x}<extra></extra>",
         "legendgroup": "생각 없이 봤는데",
         "marker": {
          "color": "#B6E880",
          "pattern": {
           "shape": ""
          }
         },
         "name": "생각 없이 봤는데",
         "offsetgroup": "생각 없이 봤는데",
         "orientation": "h",
         "showlegend": true,
         "textposition": "auto",
         "type": "bar",
         "x": [
          10
         ],
         "xaxis": "x",
         "y": [
          "생각 없이 봤는데"
         ],
         "yaxis": "y"
        },
        {
         "alignmentgroup": "True",
         "hovertemplate": "c_w=%{y}<br>n=%{x}<extra></extra>",
         "legendgroup": "다시 봐도 감동",
         "marker": {
          "color": "#FF97FF",
          "pattern": {
           "shape": ""
          }
         },
         "name": "다시 봐도 감동",
         "offsetgroup": "다시 봐도 감동",
         "orientation": "h",
         "showlegend": true,
         "textposition": "auto",
         "type": "bar",
         "x": [
          10
         ],
         "xaxis": "x",
         "y": [
          "다시 봐도 감동"
         ],
         "yaxis": "y"
        },
        {
         "alignmentgroup": "True",
         "hovertemplate": "c_w=%{y}<br>n=%{x}<extra></extra>",
         "legendgroup": "진짜 재밌게 봤는데",
         "marker": {
          "color": "#FECB52",
          "pattern": {
           "shape": ""
          }
         },
         "name": "진짜 재밌게 봤는데",
         "offsetgroup": "진짜 재밌게 봤는데",
         "orientation": "h",
         "showlegend": true,
         "textposition": "auto",
         "type": "bar",
         "x": [
          10
         ],
         "xaxis": "x",
         "y": [
          "진짜 재밌게 봤는데"
         ],
         "yaxis": "y"
        }
       ],
       "layout": {
        "barmode": "relative",
        "legend": {
         "title": {
          "text": "c_w"
         },
         "tracegroupgap": 0
        },
        "template": {
         "data": {
          "bar": [
           {
            "error_x": {
             "color": "#2a3f5f"
            },
            "error_y": {
             "color": "#2a3f5f"
            },
            "marker": {
             "line": {
              "color": "#E5ECF6",
              "width": 0.5
             },
             "pattern": {
              "fillmode": "overlay",
              "size": 10,
              "solidity": 0.2
             }
            },
            "type": "bar"
           }
          ],
          "barpolar": [
           {
            "marker": {
             "line": {
              "color": "#E5ECF6",
              "width": 0.5
             },
             "pattern": {
              "fillmode": "overlay",
              "size": 10,
              "solidity": 0.2
             }
            },
            "type": "barpolar"
           }
          ],
          "carpet": [
           {
            "aaxis": {
             "endlinecolor": "#2a3f5f",
             "gridcolor": "white",
             "linecolor": "white",
             "minorgridcolor": "white",
             "startlinecolor": "#2a3f5f"
            },
            "baxis": {
             "endlinecolor": "#2a3f5f",
             "gridcolor": "white",
             "linecolor": "white",
             "minorgridcolor": "white",
             "startlinecolor": "#2a3f5f"
            },
            "type": "carpet"
           }
          ],
          "choropleth": [
           {
            "colorbar": {
             "outlinewidth": 0,
             "ticks": ""
            },
            "type": "choropleth"
           }
          ],
          "contour": [
           {
            "colorbar": {
             "outlinewidth": 0,
             "ticks": ""
            },
            "colorscale": [
             [
              0,
              "#0d0887"
             ],
             [
              0.1111111111111111,
              "#46039f"
             ],
             [
              0.2222222222222222,
              "#7201a8"
             ],
             [
              0.3333333333333333,
              "#9c179e"
             ],
             [
              0.4444444444444444,
              "#bd3786"
             ],
             [
              0.5555555555555556,
              "#d8576b"
             ],
             [
              0.6666666666666666,
              "#ed7953"
             ],
             [
              0.7777777777777778,
              "#fb9f3a"
             ],
             [
              0.8888888888888888,
              "#fdca26"
             ],
             [
              1,
              "#f0f921"
             ]
            ],
            "type": "contour"
           }
          ],
          "contourcarpet": [
           {
            "colorbar": {
             "outlinewidth": 0,
             "ticks": ""
            },
            "type": "contourcarpet"
           }
          ],
          "heatmap": [
           {
            "colorbar": {
             "outlinewidth": 0,
             "ticks": ""
            },
            "colorscale": [
             [
              0,
              "#0d0887"
             ],
             [
              0.1111111111111111,
              "#46039f"
             ],
             [
              0.2222222222222222,
              "#7201a8"
             ],
             [
              0.3333333333333333,
              "#9c179e"
             ],
             [
              0.4444444444444444,
              "#bd3786"
             ],
             [
              0.5555555555555556,
              "#d8576b"
             ],
             [
              0.6666666666666666,
              "#ed7953"
             ],
             [
              0.7777777777777778,
              "#fb9f3a"
             ],
             [
              0.8888888888888888,
              "#fdca26"
             ],
             [
              1,
              "#f0f921"
             ]
            ],
            "type": "heatmap"
           }
          ],
          "heatmapgl": [
           {
            "colorbar": {
             "outlinewidth": 0,
             "ticks": ""
            },
            "colorscale": [
             [
              0,
              "#0d0887"
             ],
             [
              0.1111111111111111,
              "#46039f"
             ],
             [
              0.2222222222222222,
              "#7201a8"
             ],
             [
              0.3333333333333333,
              "#9c179e"
             ],
             [
              0.4444444444444444,
              "#bd3786"
             ],
             [
              0.5555555555555556,
              "#d8576b"
             ],
             [
              0.6666666666666666,
              "#ed7953"
             ],
             [
              0.7777777777777778,
              "#fb9f3a"
             ],
             [
              0.8888888888888888,
              "#fdca26"
             ],
             [
              1,
              "#f0f921"
             ]
            ],
            "type": "heatmapgl"
           }
          ],
          "histogram": [
           {
            "marker": {
             "pattern": {
              "fillmode": "overlay",
              "size": 10,
              "solidity": 0.2
             }
            },
            "type": "histogram"
           }
          ],
          "histogram2d": [
           {
            "colorbar": {
             "outlinewidth": 0,
             "ticks": ""
            },
            "colorscale": [
             [
              0,
              "#0d0887"
             ],
             [
              0.1111111111111111,
              "#46039f"
             ],
             [
              0.2222222222222222,
              "#7201a8"
             ],
             [
              0.3333333333333333,
              "#9c179e"
             ],
             [
              0.4444444444444444,
              "#bd3786"
             ],
             [
              0.5555555555555556,
              "#d8576b"
             ],
             [
              0.6666666666666666,
              "#ed7953"
             ],
             [
              0.7777777777777778,
              "#fb9f3a"
             ],
             [
              0.8888888888888888,
              "#fdca26"
             ],
             [
              1,
              "#f0f921"
             ]
            ],
            "type": "histogram2d"
           }
          ],
          "histogram2dcontour": [
           {
            "colorbar": {
             "outlinewidth": 0,
             "ticks": ""
            },
            "colorscale": [
             [
              0,
              "#0d0887"
             ],
             [
              0.1111111111111111,
              "#46039f"
             ],
             [
              0.2222222222222222,
              "#7201a8"
             ],
             [
              0.3333333333333333,
              "#9c179e"
             ],
             [
              0.4444444444444444,
              "#bd3786"
             ],
             [
              0.5555555555555556,
              "#d8576b"
             ],
             [
              0.6666666666666666,
              "#ed7953"
             ],
             [
              0.7777777777777778,
              "#fb9f3a"
             ],
             [
              0.8888888888888888,
              "#fdca26"
             ],
             [
              1,
              "#f0f921"
             ]
            ],
            "type": "histogram2dcontour"
           }
          ],
          "mesh3d": [
           {
            "colorbar": {
             "outlinewidth": 0,
             "ticks": ""
            },
            "type": "mesh3d"
           }
          ],
          "parcoords": [
           {
            "line": {
             "colorbar": {
              "outlinewidth": 0,
              "ticks": ""
             }
            },
            "type": "parcoords"
           }
          ],
          "pie": [
           {
            "automargin": true,
            "type": "pie"
           }
          ],
          "scatter": [
           {
            "fillpattern": {
             "fillmode": "overlay",
             "size": 10,
             "solidity": 0.2
            },
            "type": "scatter"
           }
          ],
          "scatter3d": [
           {
            "line": {
             "colorbar": {
              "outlinewidth": 0,
              "ticks": ""
             }
            },
            "marker": {
             "colorbar": {
              "outlinewidth": 0,
              "ticks": ""
             }
            },
            "type": "scatter3d"
           }
          ],
          "scattercarpet": [
           {
            "marker": {
             "colorbar": {
              "outlinewidth": 0,
              "ticks": ""
             }
            },
            "type": "scattercarpet"
           }
          ],
          "scattergeo": [
           {
            "marker": {
             "colorbar": {
              "outlinewidth": 0,
              "ticks": ""
             }
            },
            "type": "scattergeo"
           }
          ],
          "scattergl": [
           {
            "marker": {
             "colorbar": {
              "outlinewidth": 0,
              "ticks": ""
             }
            },
            "type": "scattergl"
           }
          ],
          "scattermapbox": [
           {
            "marker": {
             "colorbar": {
              "outlinewidth": 0,
              "ticks": ""
             }
            },
            "type": "scattermapbox"
           }
          ],
          "scatterpolar": [
           {
            "marker": {
             "colorbar": {
              "outlinewidth": 0,
              "ticks": ""
             }
            },
            "type": "scatterpolar"
           }
          ],
          "scatterpolargl": [
           {
            "marker": {
             "colorbar": {
              "outlinewidth": 0,
              "ticks": ""
             }
            },
            "type": "scatterpolargl"
           }
          ],
          "scatterternary": [
           {
            "marker": {
             "colorbar": {
              "outlinewidth": 0,
              "ticks": ""
             }
            },
            "type": "scatterternary"
           }
          ],
          "surface": [
           {
            "colorbar": {
             "outlinewidth": 0,
             "ticks": ""
            },
            "colorscale": [
             [
              0,
              "#0d0887"
             ],
             [
              0.1111111111111111,
              "#46039f"
             ],
             [
              0.2222222222222222,
              "#7201a8"
             ],
             [
              0.3333333333333333,
              "#9c179e"
             ],
             [
              0.4444444444444444,
              "#bd3786"
             ],
             [
              0.5555555555555556,
              "#d8576b"
             ],
             [
              0.6666666666666666,
              "#ed7953"
             ],
             [
              0.7777777777777778,
              "#fb9f3a"
             ],
             [
              0.8888888888888888,
              "#fdca26"
             ],
             [
              1,
              "#f0f921"
             ]
            ],
            "type": "surface"
           }
          ],
          "table": [
           {
            "cells": {
             "fill": {
              "color": "#EBF0F8"
             },
             "line": {
              "color": "white"
             }
            },
            "header": {
             "fill": {
              "color": "#C8D4E3"
             },
             "line": {
              "color": "white"
             }
            },
            "type": "table"
           }
          ]
         },
         "layout": {
          "annotationdefaults": {
           "arrowcolor": "#2a3f5f",
           "arrowhead": 0,
           "arrowwidth": 1
          },
          "autotypenumbers": "strict",
          "coloraxis": {
           "colorbar": {
            "outlinewidth": 0,
            "ticks": ""
           }
          },
          "colorscale": {
           "diverging": [
            [
             0,
             "#8e0152"
            ],
            [
             0.1,
             "#c51b7d"
            ],
            [
             0.2,
             "#de77ae"
            ],
            [
             0.3,
             "#f1b6da"
            ],
            [
             0.4,
             "#fde0ef"
            ],
            [
             0.5,
             "#f7f7f7"
            ],
            [
             0.6,
             "#e6f5d0"
            ],
            [
             0.7,
             "#b8e186"
            ],
            [
             0.8,
             "#7fbc41"
            ],
            [
             0.9,
             "#4d9221"
            ],
            [
             1,
             "#276419"
            ]
           ],
           "sequential": [
            [
             0,
             "#0d0887"
            ],
            [
             0.1111111111111111,
             "#46039f"
            ],
            [
             0.2222222222222222,
             "#7201a8"
            ],
            [
             0.3333333333333333,
             "#9c179e"
            ],
            [
             0.4444444444444444,
             "#bd3786"
            ],
            [
             0.5555555555555556,
             "#d8576b"
            ],
            [
             0.6666666666666666,
             "#ed7953"
            ],
            [
             0.7777777777777778,
             "#fb9f3a"
            ],
            [
             0.8888888888888888,
             "#fdca26"
            ],
            [
             1,
             "#f0f921"
            ]
           ],
           "sequentialminus": [
            [
             0,
             "#0d0887"
            ],
            [
             0.1111111111111111,
             "#46039f"
            ],
            [
             0.2222222222222222,
             "#7201a8"
            ],
            [
             0.3333333333333333,
             "#9c179e"
            ],
            [
             0.4444444444444444,
             "#bd3786"
            ],
            [
             0.5555555555555556,
             "#d8576b"
            ],
            [
             0.6666666666666666,
             "#ed7953"
            ],
            [
             0.7777777777777778,
             "#fb9f3a"
            ],
            [
             0.8888888888888888,
             "#fdca26"
            ],
            [
             1,
             "#f0f921"
            ]
           ]
          },
          "colorway": [
           "#636efa",
           "#EF553B",
           "#00cc96",
           "#ab63fa",
           "#FFA15A",
           "#19d3f3",
           "#FF6692",
           "#B6E880",
           "#FF97FF",
           "#FECB52"
          ],
          "font": {
           "color": "#2a3f5f"
          },
          "geo": {
           "bgcolor": "white",
           "lakecolor": "white",
           "landcolor": "#E5ECF6",
           "showlakes": true,
           "showland": true,
           "subunitcolor": "white"
          },
          "hoverlabel": {
           "align": "left"
          },
          "hovermode": "closest",
          "mapbox": {
           "style": "light"
          },
          "paper_bgcolor": "white",
          "plot_bgcolor": "#E5ECF6",
          "polar": {
           "angularaxis": {
            "gridcolor": "white",
            "linecolor": "white",
            "ticks": ""
           },
           "bgcolor": "#E5ECF6",
           "radialaxis": {
            "gridcolor": "white",
            "linecolor": "white",
            "ticks": ""
           }
          },
          "scene": {
           "xaxis": {
            "backgroundcolor": "#E5ECF6",
            "gridcolor": "white",
            "gridwidth": 2,
            "linecolor": "white",
            "showbackground": true,
            "ticks": "",
            "zerolinecolor": "white"
           },
           "yaxis": {
            "backgroundcolor": "#E5ECF6",
            "gridcolor": "white",
            "gridwidth": 2,
            "linecolor": "white",
            "showbackground": true,
            "ticks": "",
            "zerolinecolor": "white"
           },
           "zaxis": {
            "backgroundcolor": "#E5ECF6",
            "gridcolor": "white",
            "gridwidth": 2,
            "linecolor": "white",
            "showbackground": true,
            "ticks": "",
            "zerolinecolor": "white"
           }
          },
          "shapedefaults": {
           "line": {
            "color": "#2a3f5f"
           }
          },
          "ternary": {
           "aaxis": {
            "gridcolor": "white",
            "linecolor": "white",
            "ticks": ""
           },
           "baxis": {
            "gridcolor": "white",
            "linecolor": "white",
            "ticks": ""
           },
           "bgcolor": "#E5ECF6",
           "caxis": {
            "gridcolor": "white",
            "linecolor": "white",
            "ticks": ""
           }
          },
          "title": {
           "x": 0.05
          },
          "xaxis": {
           "automargin": true,
           "gridcolor": "white",
           "linecolor": "white",
           "ticks": "",
           "title": {
            "standoff": 15
           },
           "zerolinecolor": "white",
           "zerolinewidth": 2
          },
          "yaxis": {
           "automargin": true,
           "gridcolor": "white",
           "linecolor": "white",
           "ticks": "",
           "title": {
            "standoff": 15
           },
           "zerolinecolor": "white",
           "zerolinewidth": 2
          }
         }
        },
        "title": {
         "text": "t_1_c_g"
        },
        "xaxis": {
         "anchor": "y",
         "domain": [
          0,
          1
         ],
         "title": {
          "text": "n"
         }
        },
        "yaxis": {
         "anchor": "x",
         "categoryarray": [
          "진짜 재밌게 봤는데",
          "다시 봐도 감동",
          "생각 없이 봤는데",
          "가는줄 모르고 봤다",
          "배우 연기 좋고",
          "다시 보고 싶다",
          "대해 다시 한번",
          "재밌게 봤는데 평점",
          "이제 서야 보다니",
          "라고 생각 합니다",
          "봐도 질리 않는",
          "대사 하나 하나",
          "대해 다시 생각",
          "최고 최고 최고",
          "아무 생각 없이",
          "다시 한번 생각",
          "인생 최고 드라마",
          "다시 보고 싶은",
          "시간 가는줄 모르고",
          "처음 부터 까지"
         ],
         "categoryorder": "array",
         "domain": [
          0,
          1
         ],
         "title": {
          "text": "c_w"
         }
        }
       }
      },
      "text/html": [
       "<div>                            <div id=\"4fc7c8ce-f2db-468b-b9b2-06089390689d\" class=\"plotly-graph-div\" style=\"height:525px; width:100%;\"></div>            <script type=\"text/javascript\">                require([\"plotly\"], function(Plotly) {                    window.PLOTLYENV=window.PLOTLYENV || {};                                    if (document.getElementById(\"4fc7c8ce-f2db-468b-b9b2-06089390689d\")) {                    Plotly.newPlot(                        \"4fc7c8ce-f2db-468b-b9b2-06089390689d\",                        [{\"alignmentgroup\":\"True\",\"hovertemplate\":\"c_w=%{y}<br>n=%{x}<extra></extra>\",\"legendgroup\":\"\\ucc98\\uc74c \\ubd80\\ud130 \\uae4c\\uc9c0\",\"marker\":{\"color\":\"#636efa\",\"pattern\":{\"shape\":\"\"}},\"name\":\"\\ucc98\\uc74c \\ubd80\\ud130 \\uae4c\\uc9c0\",\"offsetgroup\":\"\\ucc98\\uc74c \\ubd80\\ud130 \\uae4c\\uc9c0\",\"orientation\":\"h\",\"showlegend\":true,\"textposition\":\"auto\",\"x\":[40],\"xaxis\":\"x\",\"y\":[\"\\ucc98\\uc74c \\ubd80\\ud130 \\uae4c\\uc9c0\"],\"yaxis\":\"y\",\"type\":\"bar\"},{\"alignmentgroup\":\"True\",\"hovertemplate\":\"c_w=%{y}<br>n=%{x}<extra></extra>\",\"legendgroup\":\"\\uc2dc\\uac04 \\uac00\\ub294\\uc904 \\ubaa8\\ub974\\uace0\",\"marker\":{\"color\":\"#EF553B\",\"pattern\":{\"shape\":\"\"}},\"name\":\"\\uc2dc\\uac04 \\uac00\\ub294\\uc904 \\ubaa8\\ub974\\uace0\",\"offsetgroup\":\"\\uc2dc\\uac04 \\uac00\\ub294\\uc904 \\ubaa8\\ub974\\uace0\",\"orientation\":\"h\",\"showlegend\":true,\"textposition\":\"auto\",\"x\":[32],\"xaxis\":\"x\",\"y\":[\"\\uc2dc\\uac04 \\uac00\\ub294\\uc904 \\ubaa8\\ub974\\uace0\"],\"yaxis\":\"y\",\"type\":\"bar\"},{\"alignmentgroup\":\"True\",\"hovertemplate\":\"c_w=%{y}<br>n=%{x}<extra></extra>\",\"legendgroup\":\"\\ub2e4\\uc2dc \\ubcf4\\uace0 \\uc2f6\\uc740\",\"marker\":{\"color\":\"#00cc96\",\"pattern\":{\"shape\":\"\"}},\"name\":\"\\ub2e4\\uc2dc \\ubcf4\\uace0 \\uc2f6\\uc740\",\"offsetgroup\":\"\\ub2e4\\uc2dc \\ubcf4\\uace0 \\uc2f6\\uc740\",\"orientation\":\"h\",\"showlegend\":true,\"textposition\":\"auto\",\"x\":[25],\"xaxis\":\"x\",\"y\":[\"\\ub2e4\\uc2dc \\ubcf4\\uace0 \\uc2f6\\uc740\"],\"yaxis\":\"y\",\"type\":\"bar\"},{\"alignmentgroup\":\"True\",\"hovertemplate\":\"c_w=%{y}<br>n=%{x}<extra></extra>\",\"legendgroup\":\"\\uc778\\uc0dd \\ucd5c\\uace0 \\ub4dc\\ub77c\\ub9c8\",\"marker\":{\"color\":\"#ab63fa\",\"pattern\":{\"shape\":\"\"}},\"name\":\"\\uc778\\uc0dd \\ucd5c\\uace0 \\ub4dc\\ub77c\\ub9c8\",\"offsetgroup\":\"\\uc778\\uc0dd \\ucd5c\\uace0 \\ub4dc\\ub77c\\ub9c8\",\"orientation\":\"h\",\"showlegend\":true,\"textposition\":\"auto\",\"x\":[21],\"xaxis\":\"x\",\"y\":[\"\\uc778\\uc0dd \\ucd5c\\uace0 \\ub4dc\\ub77c\\ub9c8\"],\"yaxis\":\"y\",\"type\":\"bar\"},{\"alignmentgroup\":\"True\",\"hovertemplate\":\"c_w=%{y}<br>n=%{x}<extra></extra>\",\"legendgroup\":\"\\ub2e4\\uc2dc \\ud55c\\ubc88 \\uc0dd\\uac01\",\"marker\":{\"color\":\"#FFA15A\",\"pattern\":{\"shape\":\"\"}},\"name\":\"\\ub2e4\\uc2dc \\ud55c\\ubc88 \\uc0dd\\uac01\",\"offsetgroup\":\"\\ub2e4\\uc2dc \\ud55c\\ubc88 \\uc0dd\\uac01\",\"orientation\":\"h\",\"showlegend\":true,\"textposition\":\"auto\",\"x\":[20],\"xaxis\":\"x\",\"y\":[\"\\ub2e4\\uc2dc \\ud55c\\ubc88 \\uc0dd\\uac01\"],\"yaxis\":\"y\",\"type\":\"bar\"},{\"alignmentgroup\":\"True\",\"hovertemplate\":\"c_w=%{y}<br>n=%{x}<extra></extra>\",\"legendgroup\":\"\\uc544\\ubb34 \\uc0dd\\uac01 \\uc5c6\\uc774\",\"marker\":{\"color\":\"#19d3f3\",\"pattern\":{\"shape\":\"\"}},\"name\":\"\\uc544\\ubb34 \\uc0dd\\uac01 \\uc5c6\\uc774\",\"offsetgroup\":\"\\uc544\\ubb34 \\uc0dd\\uac01 \\uc5c6\\uc774\",\"orientation\":\"h\",\"showlegend\":true,\"textposition\":\"auto\",\"x\":[20],\"xaxis\":\"x\",\"y\":[\"\\uc544\\ubb34 \\uc0dd\\uac01 \\uc5c6\\uc774\"],\"yaxis\":\"y\",\"type\":\"bar\"},{\"alignmentgroup\":\"True\",\"hovertemplate\":\"c_w=%{y}<br>n=%{x}<extra></extra>\",\"legendgroup\":\"\\ucd5c\\uace0 \\ucd5c\\uace0 \\ucd5c\\uace0\",\"marker\":{\"color\":\"#FF6692\",\"pattern\":{\"shape\":\"\"}},\"name\":\"\\ucd5c\\uace0 \\ucd5c\\uace0 \\ucd5c\\uace0\",\"offsetgroup\":\"\\ucd5c\\uace0 \\ucd5c\\uace0 \\ucd5c\\uace0\",\"orientation\":\"h\",\"showlegend\":true,\"textposition\":\"auto\",\"x\":[19],\"xaxis\":\"x\",\"y\":[\"\\ucd5c\\uace0 \\ucd5c\\uace0 \\ucd5c\\uace0\"],\"yaxis\":\"y\",\"type\":\"bar\"},{\"alignmentgroup\":\"True\",\"hovertemplate\":\"c_w=%{y}<br>n=%{x}<extra></extra>\",\"legendgroup\":\"\\ub300\\ud574 \\ub2e4\\uc2dc \\uc0dd\\uac01\",\"marker\":{\"color\":\"#B6E880\",\"pattern\":{\"shape\":\"\"}},\"name\":\"\\ub300\\ud574 \\ub2e4\\uc2dc \\uc0dd\\uac01\",\"offsetgroup\":\"\\ub300\\ud574 \\ub2e4\\uc2dc \\uc0dd\\uac01\",\"orientation\":\"h\",\"showlegend\":true,\"textposition\":\"auto\",\"x\":[15],\"xaxis\":\"x\",\"y\":[\"\\ub300\\ud574 \\ub2e4\\uc2dc \\uc0dd\\uac01\"],\"yaxis\":\"y\",\"type\":\"bar\"},{\"alignmentgroup\":\"True\",\"hovertemplate\":\"c_w=%{y}<br>n=%{x}<extra></extra>\",\"legendgroup\":\"\\ub300\\uc0ac \\ud558\\ub098 \\ud558\\ub098\",\"marker\":{\"color\":\"#FF97FF\",\"pattern\":{\"shape\":\"\"}},\"name\":\"\\ub300\\uc0ac \\ud558\\ub098 \\ud558\\ub098\",\"offsetgroup\":\"\\ub300\\uc0ac \\ud558\\ub098 \\ud558\\ub098\",\"orientation\":\"h\",\"showlegend\":true,\"textposition\":\"auto\",\"x\":[15],\"xaxis\":\"x\",\"y\":[\"\\ub300\\uc0ac \\ud558\\ub098 \\ud558\\ub098\"],\"yaxis\":\"y\",\"type\":\"bar\"},{\"alignmentgroup\":\"True\",\"hovertemplate\":\"c_w=%{y}<br>n=%{x}<extra></extra>\",\"legendgroup\":\"\\ubd10\\ub3c4 \\uc9c8\\ub9ac \\uc54a\\ub294\",\"marker\":{\"color\":\"#FECB52\",\"pattern\":{\"shape\":\"\"}},\"name\":\"\\ubd10\\ub3c4 \\uc9c8\\ub9ac \\uc54a\\ub294\",\"offsetgroup\":\"\\ubd10\\ub3c4 \\uc9c8\\ub9ac \\uc54a\\ub294\",\"orientation\":\"h\",\"showlegend\":true,\"textposition\":\"auto\",\"x\":[14],\"xaxis\":\"x\",\"y\":[\"\\ubd10\\ub3c4 \\uc9c8\\ub9ac \\uc54a\\ub294\"],\"yaxis\":\"y\",\"type\":\"bar\"},{\"alignmentgroup\":\"True\",\"hovertemplate\":\"c_w=%{y}<br>n=%{x}<extra></extra>\",\"legendgroup\":\"\\ub77c\\uace0 \\uc0dd\\uac01 \\ud569\\ub2c8\\ub2e4\",\"marker\":{\"color\":\"#636efa\",\"pattern\":{\"shape\":\"\"}},\"name\":\"\\ub77c\\uace0 \\uc0dd\\uac01 \\ud569\\ub2c8\\ub2e4\",\"offsetgroup\":\"\\ub77c\\uace0 \\uc0dd\\uac01 \\ud569\\ub2c8\\ub2e4\",\"orientation\":\"h\",\"showlegend\":true,\"textposition\":\"auto\",\"x\":[14],\"xaxis\":\"x\",\"y\":[\"\\ub77c\\uace0 \\uc0dd\\uac01 \\ud569\\ub2c8\\ub2e4\"],\"yaxis\":\"y\",\"type\":\"bar\"},{\"alignmentgroup\":\"True\",\"hovertemplate\":\"c_w=%{y}<br>n=%{x}<extra></extra>\",\"legendgroup\":\"\\uc774\\uc81c \\uc11c\\uc57c \\ubcf4\\ub2e4\\ub2c8\",\"marker\":{\"color\":\"#EF553B\",\"pattern\":{\"shape\":\"\"}},\"name\":\"\\uc774\\uc81c \\uc11c\\uc57c \\ubcf4\\ub2e4\\ub2c8\",\"offsetgroup\":\"\\uc774\\uc81c \\uc11c\\uc57c \\ubcf4\\ub2e4\\ub2c8\",\"orientation\":\"h\",\"showlegend\":true,\"textposition\":\"auto\",\"x\":[13],\"xaxis\":\"x\",\"y\":[\"\\uc774\\uc81c \\uc11c\\uc57c \\ubcf4\\ub2e4\\ub2c8\"],\"yaxis\":\"y\",\"type\":\"bar\"},{\"alignmentgroup\":\"True\",\"hovertemplate\":\"c_w=%{y}<br>n=%{x}<extra></extra>\",\"legendgroup\":\"\\uc7ac\\ubc0c\\uac8c \\ubd24\\ub294\\ub370 \\ud3c9\\uc810\",\"marker\":{\"color\":\"#00cc96\",\"pattern\":{\"shape\":\"\"}},\"name\":\"\\uc7ac\\ubc0c\\uac8c \\ubd24\\ub294\\ub370 \\ud3c9\\uc810\",\"offsetgroup\":\"\\uc7ac\\ubc0c\\uac8c \\ubd24\\ub294\\ub370 \\ud3c9\\uc810\",\"orientation\":\"h\",\"showlegend\":true,\"textposition\":\"auto\",\"x\":[12],\"xaxis\":\"x\",\"y\":[\"\\uc7ac\\ubc0c\\uac8c \\ubd24\\ub294\\ub370 \\ud3c9\\uc810\"],\"yaxis\":\"y\",\"type\":\"bar\"},{\"alignmentgroup\":\"True\",\"hovertemplate\":\"c_w=%{y}<br>n=%{x}<extra></extra>\",\"legendgroup\":\"\\ub300\\ud574 \\ub2e4\\uc2dc \\ud55c\\ubc88\",\"marker\":{\"color\":\"#ab63fa\",\"pattern\":{\"shape\":\"\"}},\"name\":\"\\ub300\\ud574 \\ub2e4\\uc2dc \\ud55c\\ubc88\",\"offsetgroup\":\"\\ub300\\ud574 \\ub2e4\\uc2dc \\ud55c\\ubc88\",\"orientation\":\"h\",\"showlegend\":true,\"textposition\":\"auto\",\"x\":[12],\"xaxis\":\"x\",\"y\":[\"\\ub300\\ud574 \\ub2e4\\uc2dc \\ud55c\\ubc88\"],\"yaxis\":\"y\",\"type\":\"bar\"},{\"alignmentgroup\":\"True\",\"hovertemplate\":\"c_w=%{y}<br>n=%{x}<extra></extra>\",\"legendgroup\":\"\\ub2e4\\uc2dc \\ubcf4\\uace0 \\uc2f6\\ub2e4\",\"marker\":{\"color\":\"#FFA15A\",\"pattern\":{\"shape\":\"\"}},\"name\":\"\\ub2e4\\uc2dc \\ubcf4\\uace0 \\uc2f6\\ub2e4\",\"offsetgroup\":\"\\ub2e4\\uc2dc \\ubcf4\\uace0 \\uc2f6\\ub2e4\",\"orientation\":\"h\",\"showlegend\":true,\"textposition\":\"auto\",\"x\":[11],\"xaxis\":\"x\",\"y\":[\"\\ub2e4\\uc2dc \\ubcf4\\uace0 \\uc2f6\\ub2e4\"],\"yaxis\":\"y\",\"type\":\"bar\"},{\"alignmentgroup\":\"True\",\"hovertemplate\":\"c_w=%{y}<br>n=%{x}<extra></extra>\",\"legendgroup\":\"\\ubc30\\uc6b0 \\uc5f0\\uae30 \\uc88b\\uace0\",\"marker\":{\"color\":\"#19d3f3\",\"pattern\":{\"shape\":\"\"}},\"name\":\"\\ubc30\\uc6b0 \\uc5f0\\uae30 \\uc88b\\uace0\",\"offsetgroup\":\"\\ubc30\\uc6b0 \\uc5f0\\uae30 \\uc88b\\uace0\",\"orientation\":\"h\",\"showlegend\":true,\"textposition\":\"auto\",\"x\":[11],\"xaxis\":\"x\",\"y\":[\"\\ubc30\\uc6b0 \\uc5f0\\uae30 \\uc88b\\uace0\"],\"yaxis\":\"y\",\"type\":\"bar\"},{\"alignmentgroup\":\"True\",\"hovertemplate\":\"c_w=%{y}<br>n=%{x}<extra></extra>\",\"legendgroup\":\"\\uac00\\ub294\\uc904 \\ubaa8\\ub974\\uace0 \\ubd24\\ub2e4\",\"marker\":{\"color\":\"#FF6692\",\"pattern\":{\"shape\":\"\"}},\"name\":\"\\uac00\\ub294\\uc904 \\ubaa8\\ub974\\uace0 \\ubd24\\ub2e4\",\"offsetgroup\":\"\\uac00\\ub294\\uc904 \\ubaa8\\ub974\\uace0 \\ubd24\\ub2e4\",\"orientation\":\"h\",\"showlegend\":true,\"textposition\":\"auto\",\"x\":[10],\"xaxis\":\"x\",\"y\":[\"\\uac00\\ub294\\uc904 \\ubaa8\\ub974\\uace0 \\ubd24\\ub2e4\"],\"yaxis\":\"y\",\"type\":\"bar\"},{\"alignmentgroup\":\"True\",\"hovertemplate\":\"c_w=%{y}<br>n=%{x}<extra></extra>\",\"legendgroup\":\"\\uc0dd\\uac01 \\uc5c6\\uc774 \\ubd24\\ub294\\ub370\",\"marker\":{\"color\":\"#B6E880\",\"pattern\":{\"shape\":\"\"}},\"name\":\"\\uc0dd\\uac01 \\uc5c6\\uc774 \\ubd24\\ub294\\ub370\",\"offsetgroup\":\"\\uc0dd\\uac01 \\uc5c6\\uc774 \\ubd24\\ub294\\ub370\",\"orientation\":\"h\",\"showlegend\":true,\"textposition\":\"auto\",\"x\":[10],\"xaxis\":\"x\",\"y\":[\"\\uc0dd\\uac01 \\uc5c6\\uc774 \\ubd24\\ub294\\ub370\"],\"yaxis\":\"y\",\"type\":\"bar\"},{\"alignmentgroup\":\"True\",\"hovertemplate\":\"c_w=%{y}<br>n=%{x}<extra></extra>\",\"legendgroup\":\"\\ub2e4\\uc2dc \\ubd10\\ub3c4 \\uac10\\ub3d9\",\"marker\":{\"color\":\"#FF97FF\",\"pattern\":{\"shape\":\"\"}},\"name\":\"\\ub2e4\\uc2dc \\ubd10\\ub3c4 \\uac10\\ub3d9\",\"offsetgroup\":\"\\ub2e4\\uc2dc \\ubd10\\ub3c4 \\uac10\\ub3d9\",\"orientation\":\"h\",\"showlegend\":true,\"textposition\":\"auto\",\"x\":[10],\"xaxis\":\"x\",\"y\":[\"\\ub2e4\\uc2dc \\ubd10\\ub3c4 \\uac10\\ub3d9\"],\"yaxis\":\"y\",\"type\":\"bar\"},{\"alignmentgroup\":\"True\",\"hovertemplate\":\"c_w=%{y}<br>n=%{x}<extra></extra>\",\"legendgroup\":\"\\uc9c4\\uc9dc \\uc7ac\\ubc0c\\uac8c \\ubd24\\ub294\\ub370\",\"marker\":{\"color\":\"#FECB52\",\"pattern\":{\"shape\":\"\"}},\"name\":\"\\uc9c4\\uc9dc \\uc7ac\\ubc0c\\uac8c \\ubd24\\ub294\\ub370\",\"offsetgroup\":\"\\uc9c4\\uc9dc \\uc7ac\\ubc0c\\uac8c \\ubd24\\ub294\\ub370\",\"orientation\":\"h\",\"showlegend\":true,\"textposition\":\"auto\",\"x\":[10],\"xaxis\":\"x\",\"y\":[\"\\uc9c4\\uc9dc \\uc7ac\\ubc0c\\uac8c \\ubd24\\ub294\\ub370\"],\"yaxis\":\"y\",\"type\":\"bar\"}],                        {\"template\":{\"data\":{\"histogram2dcontour\":[{\"type\":\"histogram2dcontour\",\"colorbar\":{\"outlinewidth\":0,\"ticks\":\"\"},\"colorscale\":[[0.0,\"#0d0887\"],[0.1111111111111111,\"#46039f\"],[0.2222222222222222,\"#7201a8\"],[0.3333333333333333,\"#9c179e\"],[0.4444444444444444,\"#bd3786\"],[0.5555555555555556,\"#d8576b\"],[0.6666666666666666,\"#ed7953\"],[0.7777777777777778,\"#fb9f3a\"],[0.8888888888888888,\"#fdca26\"],[1.0,\"#f0f921\"]]}],\"choropleth\":[{\"type\":\"choropleth\",\"colorbar\":{\"outlinewidth\":0,\"ticks\":\"\"}}],\"histogram2d\":[{\"type\":\"histogram2d\",\"colorbar\":{\"outlinewidth\":0,\"ticks\":\"\"},\"colorscale\":[[0.0,\"#0d0887\"],[0.1111111111111111,\"#46039f\"],[0.2222222222222222,\"#7201a8\"],[0.3333333333333333,\"#9c179e\"],[0.4444444444444444,\"#bd3786\"],[0.5555555555555556,\"#d8576b\"],[0.6666666666666666,\"#ed7953\"],[0.7777777777777778,\"#fb9f3a\"],[0.8888888888888888,\"#fdca26\"],[1.0,\"#f0f921\"]]}],\"heatmap\":[{\"type\":\"heatmap\",\"colorbar\":{\"outlinewidth\":0,\"ticks\":\"\"},\"colorscale\":[[0.0,\"#0d0887\"],[0.1111111111111111,\"#46039f\"],[0.2222222222222222,\"#7201a8\"],[0.3333333333333333,\"#9c179e\"],[0.4444444444444444,\"#bd3786\"],[0.5555555555555556,\"#d8576b\"],[0.6666666666666666,\"#ed7953\"],[0.7777777777777778,\"#fb9f3a\"],[0.8888888888888888,\"#fdca26\"],[1.0,\"#f0f921\"]]}],\"heatmapgl\":[{\"type\":\"heatmapgl\",\"colorbar\":{\"outlinewidth\":0,\"ticks\":\"\"},\"colorscale\":[[0.0,\"#0d0887\"],[0.1111111111111111,\"#46039f\"],[0.2222222222222222,\"#7201a8\"],[0.3333333333333333,\"#9c179e\"],[0.4444444444444444,\"#bd3786\"],[0.5555555555555556,\"#d8576b\"],[0.6666666666666666,\"#ed7953\"],[0.7777777777777778,\"#fb9f3a\"],[0.8888888888888888,\"#fdca26\"],[1.0,\"#f0f921\"]]}],\"contourcarpet\":[{\"type\":\"contourcarpet\",\"colorbar\":{\"outlinewidth\":0,\"ticks\":\"\"}}],\"contour\":[{\"type\":\"contour\",\"colorbar\":{\"outlinewidth\":0,\"ticks\":\"\"},\"colorscale\":[[0.0,\"#0d0887\"],[0.1111111111111111,\"#46039f\"],[0.2222222222222222,\"#7201a8\"],[0.3333333333333333,\"#9c179e\"],[0.4444444444444444,\"#bd3786\"],[0.5555555555555556,\"#d8576b\"],[0.6666666666666666,\"#ed7953\"],[0.7777777777777778,\"#fb9f3a\"],[0.8888888888888888,\"#fdca26\"],[1.0,\"#f0f921\"]]}],\"surface\":[{\"type\":\"surface\",\"colorbar\":{\"outlinewidth\":0,\"ticks\":\"\"},\"colorscale\":[[0.0,\"#0d0887\"],[0.1111111111111111,\"#46039f\"],[0.2222222222222222,\"#7201a8\"],[0.3333333333333333,\"#9c179e\"],[0.4444444444444444,\"#bd3786\"],[0.5555555555555556,\"#d8576b\"],[0.6666666666666666,\"#ed7953\"],[0.7777777777777778,\"#fb9f3a\"],[0.8888888888888888,\"#fdca26\"],[1.0,\"#f0f921\"]]}],\"mesh3d\":[{\"type\":\"mesh3d\",\"colorbar\":{\"outlinewidth\":0,\"ticks\":\"\"}}],\"scatter\":[{\"fillpattern\":{\"fillmode\":\"overlay\",\"size\":10,\"solidity\":0.2},\"type\":\"scatter\"}],\"parcoords\":[{\"type\":\"parcoords\",\"line\":{\"colorbar\":{\"outlinewidth\":0,\"ticks\":\"\"}}}],\"scatterpolargl\":[{\"type\":\"scatterpolargl\",\"marker\":{\"colorbar\":{\"outlinewidth\":0,\"ticks\":\"\"}}}],\"bar\":[{\"error_x\":{\"color\":\"#2a3f5f\"},\"error_y\":{\"color\":\"#2a3f5f\"},\"marker\":{\"line\":{\"color\":\"#E5ECF6\",\"width\":0.5},\"pattern\":{\"fillmode\":\"overlay\",\"size\":10,\"solidity\":0.2}},\"type\":\"bar\"}],\"scattergeo\":[{\"type\":\"scattergeo\",\"marker\":{\"colorbar\":{\"outlinewidth\":0,\"ticks\":\"\"}}}],\"scatterpolar\":[{\"type\":\"scatterpolar\",\"marker\":{\"colorbar\":{\"outlinewidth\":0,\"ticks\":\"\"}}}],\"histogram\":[{\"marker\":{\"pattern\":{\"fillmode\":\"overlay\",\"size\":10,\"solidity\":0.2}},\"type\":\"histogram\"}],\"scattergl\":[{\"type\":\"scattergl\",\"marker\":{\"colorbar\":{\"outlinewidth\":0,\"ticks\":\"\"}}}],\"scatter3d\":[{\"type\":\"scatter3d\",\"line\":{\"colorbar\":{\"outlinewidth\":0,\"ticks\":\"\"}},\"marker\":{\"colorbar\":{\"outlinewidth\":0,\"ticks\":\"\"}}}],\"scattermapbox\":[{\"type\":\"scattermapbox\",\"marker\":{\"colorbar\":{\"outlinewidth\":0,\"ticks\":\"\"}}}],\"scatterternary\":[{\"type\":\"scatterternary\",\"marker\":{\"colorbar\":{\"outlinewidth\":0,\"ticks\":\"\"}}}],\"scattercarpet\":[{\"type\":\"scattercarpet\",\"marker\":{\"colorbar\":{\"outlinewidth\":0,\"ticks\":\"\"}}}],\"carpet\":[{\"aaxis\":{\"endlinecolor\":\"#2a3f5f\",\"gridcolor\":\"white\",\"linecolor\":\"white\",\"minorgridcolor\":\"white\",\"startlinecolor\":\"#2a3f5f\"},\"baxis\":{\"endlinecolor\":\"#2a3f5f\",\"gridcolor\":\"white\",\"linecolor\":\"white\",\"minorgridcolor\":\"white\",\"startlinecolor\":\"#2a3f5f\"},\"type\":\"carpet\"}],\"table\":[{\"cells\":{\"fill\":{\"color\":\"#EBF0F8\"},\"line\":{\"color\":\"white\"}},\"header\":{\"fill\":{\"color\":\"#C8D4E3\"},\"line\":{\"color\":\"white\"}},\"type\":\"table\"}],\"barpolar\":[{\"marker\":{\"line\":{\"color\":\"#E5ECF6\",\"width\":0.5},\"pattern\":{\"fillmode\":\"overlay\",\"size\":10,\"solidity\":0.2}},\"type\":\"barpolar\"}],\"pie\":[{\"automargin\":true,\"type\":\"pie\"}]},\"layout\":{\"autotypenumbers\":\"strict\",\"colorway\":[\"#636efa\",\"#EF553B\",\"#00cc96\",\"#ab63fa\",\"#FFA15A\",\"#19d3f3\",\"#FF6692\",\"#B6E880\",\"#FF97FF\",\"#FECB52\"],\"font\":{\"color\":\"#2a3f5f\"},\"hovermode\":\"closest\",\"hoverlabel\":{\"align\":\"left\"},\"paper_bgcolor\":\"white\",\"plot_bgcolor\":\"#E5ECF6\",\"polar\":{\"bgcolor\":\"#E5ECF6\",\"angularaxis\":{\"gridcolor\":\"white\",\"linecolor\":\"white\",\"ticks\":\"\"},\"radialaxis\":{\"gridcolor\":\"white\",\"linecolor\":\"white\",\"ticks\":\"\"}},\"ternary\":{\"bgcolor\":\"#E5ECF6\",\"aaxis\":{\"gridcolor\":\"white\",\"linecolor\":\"white\",\"ticks\":\"\"},\"baxis\":{\"gridcolor\":\"white\",\"linecolor\":\"white\",\"ticks\":\"\"},\"caxis\":{\"gridcolor\":\"white\",\"linecolor\":\"white\",\"ticks\":\"\"}},\"coloraxis\":{\"colorbar\":{\"outlinewidth\":0,\"ticks\":\"\"}},\"colorscale\":{\"sequential\":[[0.0,\"#0d0887\"],[0.1111111111111111,\"#46039f\"],[0.2222222222222222,\"#7201a8\"],[0.3333333333333333,\"#9c179e\"],[0.4444444444444444,\"#bd3786\"],[0.5555555555555556,\"#d8576b\"],[0.6666666666666666,\"#ed7953\"],[0.7777777777777778,\"#fb9f3a\"],[0.8888888888888888,\"#fdca26\"],[1.0,\"#f0f921\"]],\"sequentialminus\":[[0.0,\"#0d0887\"],[0.1111111111111111,\"#46039f\"],[0.2222222222222222,\"#7201a8\"],[0.3333333333333333,\"#9c179e\"],[0.4444444444444444,\"#bd3786\"],[0.5555555555555556,\"#d8576b\"],[0.6666666666666666,\"#ed7953\"],[0.7777777777777778,\"#fb9f3a\"],[0.8888888888888888,\"#fdca26\"],[1.0,\"#f0f921\"]],\"diverging\":[[0,\"#8e0152\"],[0.1,\"#c51b7d\"],[0.2,\"#de77ae\"],[0.3,\"#f1b6da\"],[0.4,\"#fde0ef\"],[0.5,\"#f7f7f7\"],[0.6,\"#e6f5d0\"],[0.7,\"#b8e186\"],[0.8,\"#7fbc41\"],[0.9,\"#4d9221\"],[1,\"#276419\"]]},\"xaxis\":{\"gridcolor\":\"white\",\"linecolor\":\"white\",\"ticks\":\"\",\"title\":{\"standoff\":15},\"zerolinecolor\":\"white\",\"automargin\":true,\"zerolinewidth\":2},\"yaxis\":{\"gridcolor\":\"white\",\"linecolor\":\"white\",\"ticks\":\"\",\"title\":{\"standoff\":15},\"zerolinecolor\":\"white\",\"automargin\":true,\"zerolinewidth\":2},\"scene\":{\"xaxis\":{\"backgroundcolor\":\"#E5ECF6\",\"gridcolor\":\"white\",\"linecolor\":\"white\",\"showbackground\":true,\"ticks\":\"\",\"zerolinecolor\":\"white\",\"gridwidth\":2},\"yaxis\":{\"backgroundcolor\":\"#E5ECF6\",\"gridcolor\":\"white\",\"linecolor\":\"white\",\"showbackground\":true,\"ticks\":\"\",\"zerolinecolor\":\"white\",\"gridwidth\":2},\"zaxis\":{\"backgroundcolor\":\"#E5ECF6\",\"gridcolor\":\"white\",\"linecolor\":\"white\",\"showbackground\":true,\"ticks\":\"\",\"zerolinecolor\":\"white\",\"gridwidth\":2}},\"shapedefaults\":{\"line\":{\"color\":\"#2a3f5f\"}},\"annotationdefaults\":{\"arrowcolor\":\"#2a3f5f\",\"arrowhead\":0,\"arrowwidth\":1},\"geo\":{\"bgcolor\":\"white\",\"landcolor\":\"#E5ECF6\",\"subunitcolor\":\"white\",\"showland\":true,\"showlakes\":true,\"lakecolor\":\"white\"},\"title\":{\"x\":0.05},\"mapbox\":{\"style\":\"light\"}}},\"xaxis\":{\"anchor\":\"y\",\"domain\":[0.0,1.0],\"title\":{\"text\":\"n\"}},\"yaxis\":{\"anchor\":\"x\",\"domain\":[0.0,1.0],\"title\":{\"text\":\"c_w\"},\"categoryorder\":\"array\",\"categoryarray\":[\"\\uc9c4\\uc9dc \\uc7ac\\ubc0c\\uac8c \\ubd24\\ub294\\ub370\",\"\\ub2e4\\uc2dc \\ubd10\\ub3c4 \\uac10\\ub3d9\",\"\\uc0dd\\uac01 \\uc5c6\\uc774 \\ubd24\\ub294\\ub370\",\"\\uac00\\ub294\\uc904 \\ubaa8\\ub974\\uace0 \\ubd24\\ub2e4\",\"\\ubc30\\uc6b0 \\uc5f0\\uae30 \\uc88b\\uace0\",\"\\ub2e4\\uc2dc \\ubcf4\\uace0 \\uc2f6\\ub2e4\",\"\\ub300\\ud574 \\ub2e4\\uc2dc \\ud55c\\ubc88\",\"\\uc7ac\\ubc0c\\uac8c \\ubd24\\ub294\\ub370 \\ud3c9\\uc810\",\"\\uc774\\uc81c \\uc11c\\uc57c \\ubcf4\\ub2e4\\ub2c8\",\"\\ub77c\\uace0 \\uc0dd\\uac01 \\ud569\\ub2c8\\ub2e4\",\"\\ubd10\\ub3c4 \\uc9c8\\ub9ac \\uc54a\\ub294\",\"\\ub300\\uc0ac \\ud558\\ub098 \\ud558\\ub098\",\"\\ub300\\ud574 \\ub2e4\\uc2dc \\uc0dd\\uac01\",\"\\ucd5c\\uace0 \\ucd5c\\uace0 \\ucd5c\\uace0\",\"\\uc544\\ubb34 \\uc0dd\\uac01 \\uc5c6\\uc774\",\"\\ub2e4\\uc2dc \\ud55c\\ubc88 \\uc0dd\\uac01\",\"\\uc778\\uc0dd \\ucd5c\\uace0 \\ub4dc\\ub77c\\ub9c8\",\"\\ub2e4\\uc2dc \\ubcf4\\uace0 \\uc2f6\\uc740\",\"\\uc2dc\\uac04 \\uac00\\ub294\\uc904 \\ubaa8\\ub974\\uace0\",\"\\ucc98\\uc74c \\ubd80\\ud130 \\uae4c\\uc9c0\"]},\"legend\":{\"title\":{\"text\":\"c_w\"},\"tracegroupgap\":0},\"title\":{\"text\":\"t_1_c_g\"},\"barmode\":\"relative\"},                        {\"responsive\": true}                    ).then(function(){\n",
       "                            \n",
       "var gd = document.getElementById('4fc7c8ce-f2db-468b-b9b2-06089390689d');\n",
       "var x = new MutationObserver(function (mutations, observer) {{\n",
       "        var display = window.getComputedStyle(gd).display;\n",
       "        if (!display || display === 'none') {{\n",
       "            console.log([gd, 'removed!']);\n",
       "            Plotly.purge(gd);\n",
       "            observer.disconnect();\n",
       "        }}\n",
       "}});\n",
       "\n",
       "// Listen for the removal of the full notebook cells\n",
       "var notebookContainer = gd.closest('#notebook-container');\n",
       "if (notebookContainer) {{\n",
       "    x.observe(notebookContainer, {childList: true});\n",
       "}}\n",
       "\n",
       "// Listen for the clearing of the current output cell\n",
       "var outputEl = gd.closest('.output');\n",
       "if (outputEl) {{\n",
       "    x.observe(outputEl, {childList: true});\n",
       "}}\n",
       "\n",
       "                        })                };                });            </script>        </div>"
      ]
     },
     "metadata": {},
     "output_type": "display_data"
    }
   ],
   "source": [
    "t_l_0_data=dict(N_그램_표현(t_l_1_s,20,3))\n",
    "v_df2=pd.DataFrame(columns=['c_w','n'])\n",
    "v_df2['c_w']=list(t_l_0_data.keys())\n",
    "v_df2['n']=list(t_l_0_data.values())\n",
    "fig=px.bar(v_df2,x='n',y='c_w',orientation='h',title='t_1_c_g',color='c_w')#orientation:동작 형식\n",
    "fig.show()"
   ]
  },
  {
   "cell_type": "code",
   "execution_count": 62,
   "id": "644e06c8",
   "metadata": {},
   "outputs": [],
   "source": [
    "from tensorflow.keras.preprocessing.text import Tokenizer "
   ]
  },
  {
   "cell_type": "code",
   "execution_count": 64,
   "id": "f394e126",
   "metadata": {},
   "outputs": [
    {
     "data": {
      "text/plain": [
       "(54240,\n",
       " {'진짜': 1,\n",
       "  '적': 2,\n",
       "  '로': 3,\n",
       "  '점': 4,\n",
       "  '평점': 5,\n",
       "  '연기': 6,\n",
       "  '것': 7,\n",
       "  '과': 8,\n",
       "  '내': 9,\n",
       "  '최고': 10,\n",
       "  '그': 11,\n",
       "  '인': 12,\n",
       "  '잘': 13,\n",
       "  '안': 14,\n",
       "  '나': 15,\n",
       "  '와': 16,\n",
       "  '생각': 17,\n",
       "  '이런': 18,\n",
       "  '게': 19,\n",
       "  '못': 20,\n",
       "  '왜': 21,\n",
       "  '스토리': 22,\n",
       "  '드라마': 23,\n",
       "  '사람': 24,\n",
       "  '감동': 25,\n",
       "  '보고': 26,\n",
       "  '때': 27,\n",
       "  '더': 28,\n",
       "  '고': 29,\n",
       "  '말': 30,\n",
       "  '감독': 31,\n",
       "  '배우': 32,\n",
       "  'ㅋㅋ': 33,\n",
       "  '아': 34,\n",
       "  '그냥': 35,\n",
       "  '내용': 36,\n",
       "  '거': 37,\n",
       "  '까지': 38,\n",
       "  '중': 39,\n",
       "  '재미': 40,\n",
       "  '보다': 41,\n",
       "  '본': 42,\n",
       "  '시간': 43,\n",
       "  '없는': 44,\n",
       "  '좀': 45,\n",
       "  '뭐': 46,\n",
       "  '수': 47,\n",
       "  '지': 48,\n",
       "  '봤는데': 49,\n",
       "  '쓰레기': 50,\n",
       "  '사랑': 51,\n",
       "  '볼': 52,\n",
       "  '작품': 53,\n",
       "  '다시': 54,\n",
       "  '하나': 55,\n",
       "  '없다': 56,\n",
       "  '할': 57,\n",
       "  '마지막': 58,\n",
       "  'ㅠㅠ': 59,\n",
       "  '이건': 60,\n",
       "  '저': 61,\n",
       "  '같은': 62,\n",
       "  '정도': 63,\n",
       "  '있는': 64,\n",
       "  '좋은': 65,\n",
       "  '완전': 66,\n",
       "  '처음': 67,\n",
       "  'ㅋ': 68,\n",
       "  '장면': 69,\n",
       "  '주인공': 70,\n",
       "  'ㅋㅋㅋ': 71,\n",
       "  '이렇게': 72,\n",
       "  '입니다': 73,\n",
       "  '액션': 74,\n",
       "  '하': 75,\n",
       "  '최악': 76,\n",
       "  '걸': 77,\n",
       "  '보는': 78,\n",
       "  '이야기': 79,\n",
       "  '지금': 80,\n",
       "  '끝': 81,\n",
       "  'ㅡㅡ': 82,\n",
       "  '연출': 83,\n",
       "  '없고': 84,\n",
       "  '임': 85,\n",
       "  '개': 86,\n",
       "  '참': 87,\n",
       "  '돈': 88,\n",
       "  '서': 89,\n",
       "  '년': 90,\n",
       "  '느낌': 91,\n",
       "  '봐도': 92,\n",
       "  '듯': 93,\n",
       "  '별로': 94,\n",
       "  '라': 95,\n",
       "  '인데': 96,\n",
       "  '기': 97,\n",
       "  '재밌게': 98,\n",
       "  '역시': 99,\n",
       "  '많이': 100,\n",
       "  '명작': 101,\n",
       "  '이해': 102,\n",
       "  '면': 103,\n",
       "  '대': 104,\n",
       "  '난': 105,\n",
       "  '별': 106,\n",
       "  '라고': 107,\n",
       "  '그리고': 108,\n",
       "  '분': 109,\n",
       "  '때문': 110,\n",
       "  '이영화': 111,\n",
       "  '여자': 112,\n",
       "  '부터': 113,\n",
       "  '해서': 114,\n",
       "  '보면': 115,\n",
       "  '또': 116,\n",
       "  '두': 117,\n",
       "  '성': 118,\n",
       "  '꼭': 119,\n",
       "  '일': 120,\n",
       "  '보기': 121,\n",
       "  '인생': 122,\n",
       "  '된': 123,\n",
       "  '이나': 124,\n",
       "  '이고': 125,\n",
       "  '무슨': 126,\n",
       "  '편': 127,\n",
       "  '여': 128,\n",
       "  '수준': 129,\n",
       "  '짱': 130,\n",
       "  '애': 131,\n",
       "  '기억': 132,\n",
       "  '아깝다': 133,\n",
       "  '엔': 134,\n",
       "  '영': 135,\n",
       "  '랑': 136,\n",
       "  '님': 137,\n",
       "  '야': 138,\n",
       "  '같다': 139,\n",
       "  '마음': 140,\n",
       "  '결말': 141,\n",
       "  '전': 142,\n",
       "  '제': 143,\n",
       "  'ㅎㅎ': 144,\n",
       "  '반전': 145,\n",
       "  '한번': 146,\n",
       "  '현실': 147,\n",
       "  '속': 148,\n",
       "  '넘': 149,\n",
       "  '매력': 150,\n",
       "  '가슴': 151,\n",
       "  '소재': 152,\n",
       "  '해': 153,\n",
       "  '없이': 154,\n",
       "  '남자': 155,\n",
       "  '한국': 156,\n",
       "  '라는': 157,\n",
       "  '번': 158,\n",
       "  '아이': 159,\n",
       "  '씨': 160,\n",
       "  '인간': 161,\n",
       "  '알': 162,\n",
       "  '전개': 163,\n",
       "  '하지만': 164,\n",
       "  '냐': 165,\n",
       "  '되는': 166,\n",
       "  '만든': 167,\n",
       "  '눈물': 168,\n",
       "  '뿐': 169,\n",
       "  '니': 170,\n",
       "  '급': 171,\n",
       "  '우리': 172,\n",
       "  '추천': 173,\n",
       "  '자체': 174,\n",
       "  '화': 175,\n",
       "  '다른': 176,\n",
       "  '봤다': 177,\n",
       "  '모든': 178,\n",
       "  '가장': 179,\n",
       "  '음악': 180,\n",
       "  '모습': 181,\n",
       "  '않고': 182,\n",
       "  '합니다': 183,\n",
       "  '인가': 184,\n",
       "  '지만': 185,\n",
       "  '모두': 186,\n",
       "  '줄': 187,\n",
       "  '하지': 188,\n",
       "  '계속': 189,\n",
       "  '코미디': 190,\n",
       "  '캐릭터': 191,\n",
       "  '그래도': 192,\n",
       "  '실망': 193,\n",
       "  '인지': 194,\n",
       "  '시리즈': 195,\n",
       "  '대한': 196,\n",
       "  '에는': 197,\n",
       "  '이제': 198,\n",
       "  '좋다': 199,\n",
       "  '원작': 200,\n",
       "  '연기력': 201,\n",
       "  '있다': 202,\n",
       "  '개봉': 203,\n",
       "  '처럼': 204,\n",
       "  '솔직히': 205,\n",
       "  'ㅠ': 206,\n",
       "  '표현': 207,\n",
       "  '중간': 208,\n",
       "  '뭔가': 209,\n",
       "  '눈': 210,\n",
       "  '기대': 211,\n",
       "  'ㅋㅋㅋㅋ': 212,\n",
       "  '진심': 213,\n",
       "  '하면': 214,\n",
       "  '이라': 215,\n",
       "  '여운': 216,\n",
       "  '이상': 217,\n",
       "  '이네': 218,\n",
       "  '부분': 219,\n",
       "  '공감': 220,\n",
       "  '대박': 221,\n",
       "  '였다': 222,\n",
       "  '했다': 223,\n",
       "  '일본': 224,\n",
       "  '기분': 225,\n",
       "  'ㅜㅜ': 226,\n",
       "  '자': 227,\n",
       "  '많은': 228,\n",
       "  '나오는': 229,\n",
       "  '아주': 230,\n",
       "  '보지': 231,\n",
       "  '전혀': 232,\n",
       "  '가족': 233,\n",
       "  '근데': 234,\n",
       "  '영상': 235,\n",
       "  '이랑': 236,\n",
       "  '연': 237,\n",
       "  '그런': 238,\n",
       "  '허': 239,\n",
       "  '제목': 240,\n",
       "  '이라는': 241,\n",
       "  '어떻게': 242,\n",
       "  '작': 243,\n",
       "  '내내': 244,\n",
       "  '없음': 245,\n",
       "  '아니라': 246,\n",
       "  '아닌': 247,\n",
       "  '봤습니다': 248,\n",
       "  '감': 249,\n",
       "  '뭔': 250,\n",
       "  '좋고': 251,\n",
       "  '대사': 252,\n",
       "  '아니다': 253,\n",
       "  '움': 254,\n",
       "  '건지': 255,\n",
       "  '건': 256,\n",
       "  '했는데': 257,\n",
       "  '아니고': 258,\n",
       "  '공포': 259,\n",
       "  '애니': 260,\n",
       "  '극장': 261,\n",
       "  '놈': 262,\n",
       "  '요즘': 263,\n",
       "  '재밌다': 264,\n",
       "  '몰입': 265,\n",
       "  '재미있게': 266,\n",
       "  '점도': 267,\n",
       "  '봐': 268,\n",
       "  '후': 269,\n",
       "  '특히': 270,\n",
       "  '밖에': 271,\n",
       "  'ㅎ': 272,\n",
       "  '재미없다': 273,\n",
       "  '하다': 274,\n",
       "  '조금': 275,\n",
       "  '작가': 276,\n",
       "  '긴장감': 277,\n",
       "  '나름': 278,\n",
       "  '용': 279,\n",
       "  '보면서': 280,\n",
       "  '시': 281,\n",
       "  '삶': 282,\n",
       "  '명': 283,\n",
       "  '이란': 284,\n",
       "  '않는': 285,\n",
       "  '차라리': 286,\n",
       "  '욕': 287,\n",
       "  '굿': 288,\n",
       "  '에도': 289,\n",
       "  '한테': 290,\n",
       "  '않은': 291,\n",
       "  '의미': 292,\n",
       "  '노래': 293,\n",
       "  '오랜': 294,\n",
       "  '딱': 295,\n",
       "  '친구': 296,\n",
       "  '이지': 297,\n",
       "  '잼': 298,\n",
       "  '시작': 299,\n",
       "  '이유': 300,\n",
       "  '해도': 301,\n",
       "  '만드는': 302,\n",
       "  '개인': 303,\n",
       "  '아름다운': 304,\n",
       "  '위': 305,\n",
       "  '노잼': 306,\n",
       "  '스릴러': 307,\n",
       "  '보다가': 308,\n",
       "  '당시': 309,\n",
       "  '공포영화': 310,\n",
       "  '봄': 311,\n",
       "  '아까운': 312,\n",
       "  '우리나라': 313,\n",
       "  '몇': 314,\n",
       "  '뻔한': 315,\n",
       "  '력': 316,\n",
       "  '영화로': 317,\n",
       "  '알바': 318,\n",
       "  '데': 319,\n",
       "  '제일': 320,\n",
       "  '보게': 321,\n",
       "  '재밌어요': 322,\n",
       "  '된다': 323,\n",
       "  '이라고': 324,\n",
       "  '식': 325,\n",
       "  '아직도': 326,\n",
       "  '점수': 327,\n",
       "  '년대': 328,\n",
       "  '엄청': 329,\n",
       "  '뭘': 330,\n",
       "  '세상': 331,\n",
       "  '있고': 332,\n",
       "  '무엇': 333,\n",
       "  '웃음': 334,\n",
       "  '아무': 335,\n",
       "  '보세요': 336,\n",
       "  '좋아하는': 337,\n",
       "  '막장': 338,\n",
       "  '제대로': 339,\n",
       "  '시나리오': 340,\n",
       "  '준': 341,\n",
       "  '결국': 342,\n",
       "  '극': 343,\n",
       "  '보니': 344,\n",
       "  '오': 345,\n",
       "  '싶다': 346,\n",
       "  '출연': 347,\n",
       "  '초반': 348,\n",
       "  '앞': 349,\n",
       "  '시대': 350,\n",
       "  '같이': 351,\n",
       "  '관객': 352,\n",
       "  '봤어요': 353,\n",
       "  '절대': 354,\n",
       "  '미국': 355,\n",
       "  '도대체': 356,\n",
       "  '그렇게': 357,\n",
       "  '분위기': 358,\n",
       "  '남': 359,\n",
       "  '구': 360,\n",
       "  '같아요': 361,\n",
       "  '대해': 362,\n",
       "  '설정': 363,\n",
       "  '위해': 364,\n",
       "  '인상': 365,\n",
       "  '재밌음': 366,\n",
       "  '물': 367,\n",
       "  '보는내내': 368,\n",
       "  '사실': 369,\n",
       "  '제발': 370,\n",
       "  '든': 371,\n",
       "  '최고다': 372,\n",
       "  '류': 373,\n",
       "  '나도': 374,\n",
       "  '한국영': 375,\n",
       "  '마다': 376,\n",
       "  '자신': 377,\n",
       "  '봤던': 378,\n",
       "  '졸작': 379,\n",
       "  '너': 380,\n",
       "  '장난': 381,\n",
       "  '이딴': 382,\n",
       "  '정신': 383,\n",
       "  '주는': 384,\n",
       "  '살': 385,\n",
       "  '준다': 386,\n",
       "  '등': 387,\n",
       "  '어릴': 388,\n",
       "  '걍': 389,\n",
       "  '신': 390,\n",
       "  '영화관': 391,\n",
       "  '주고': 392,\n",
       "  '니까': 393,\n",
       "  '좋았다': 394,\n",
       "  '가지': 395,\n",
       "  '남는': 396,\n",
       "  '소리': 397,\n",
       "  '지루하고': 398,\n",
       "  '라면': 399,\n",
       "  '더빙': 400,\n",
       "  '반': 401,\n",
       "  '멋진': 402,\n",
       "  '감정': 403,\n",
       "  '수작': 404,\n",
       "  '후반': 405,\n",
       "  '될': 406,\n",
       "  '뒤': 407,\n",
       "  '안되는': 408,\n",
       "  '엄마': 409,\n",
       "  '추억': 410,\n",
       "  '아무리': 411,\n",
       "  '좋아요': 412,\n",
       "  '이야': 413,\n",
       "  '갈수록': 414,\n",
       "  '그저': 415,\n",
       "  '문제': 416,\n",
       "  '옛날': 417,\n",
       "  '이름': 418,\n",
       "  '기도': 419,\n",
       "  '개연': 420,\n",
       "  '함께': 421,\n",
       "  '봐서': 422,\n",
       "  '킬링타임': 423,\n",
       "  '엔딩': 424,\n",
       "  '접': 425,\n",
       "  '조': 426,\n",
       "  '오늘': 427,\n",
       "  '코믹': 428,\n",
       "  '싶은': 429,\n",
       "  '주': 430,\n",
       "  '팬': 431,\n",
       "  '어떤': 432,\n",
       "  '큰': 433,\n",
       "  '원': 434,\n",
       "  '여기': 435,\n",
       "  '아니': 436,\n",
       "  '충격': 437,\n",
       "  '평가': 438,\n",
       "  '지루함': 439,\n",
       "  '이지만': 440,\n",
       "  '간': 441,\n",
       "  '스릴': 442,\n",
       "  '얘기': 443,\n",
       "  '애니메이션': 444,\n",
       "  '포스터': 445,\n",
       "  '세': 446,\n",
       "  '역사': 447,\n",
       "  '전쟁': 448,\n",
       "  '그것': 449,\n",
       "  '엉': 450,\n",
       "  '모르겠다': 451,\n",
       "  '얼굴': 452,\n",
       "  '캐스팅': 453,\n",
       "  '배경': 454,\n",
       "  '까': 455,\n",
       "  '비': 456,\n",
       "  '다큐': 457,\n",
       "  '지루한': 458,\n",
       "  '구성': 459,\n",
       "  '얼마나': 460,\n",
       "  '소름': 461,\n",
       "  '상황': 462,\n",
       "  '했던': 463,\n",
       "  '울': 464,\n",
       "  '후회': 465,\n",
       "  '하면서': 466,\n",
       "  '한마디': 467,\n",
       "  '집': 468,\n",
       "  '그래서': 469,\n",
       "  '질': 470,\n",
       "  '예술': 471,\n",
       "  '아직': 472,\n",
       "  '괜찮은': 473,\n",
       "  '맘': 474,\n",
       "  '머': 475,\n",
       "  '영화인': 476,\n",
       "  '보단': 477,\n",
       "  '머리': 478,\n",
       "  '티비': 479,\n",
       "  '첨': 480,\n",
       "  '분들': 481,\n",
       "  '장르': 482,\n",
       "  '걸작': 483,\n",
       "  '했지만': 484,\n",
       "  '만들어': 485,\n",
       "  '총': 486,\n",
       "  '대체': 487,\n",
       "  '않는다': 488,\n",
       "  '않다': 489,\n",
       "  '다운': 490,\n",
       "  '주연': 491,\n",
       "  '이후': 492,\n",
       "  '나온': 493,\n",
       "  '시즌': 494,\n",
       "  '상': 495,\n",
       "  '하는데': 496,\n",
       "  '건가': 497,\n",
       "  '강추': 498,\n",
       "  '음': 499,\n",
       "  '같은데': 500,\n",
       "  'ㅉㅉ': 501,\n",
       "  '만화': 502,\n",
       "  '짜증': 503,\n",
       "  '훨씬': 504,\n",
       "  '혼자': 505,\n",
       "  '봤지만': 506,\n",
       "  '글': 507,\n",
       "  '비교': 508,\n",
       "  '없었다': 509,\n",
       "  '누구': 510,\n",
       "  '이었다': 511,\n",
       "  '실화': 512,\n",
       "  '집중': 513,\n",
       "  '지루하다': 514,\n",
       "  '봐라': 515,\n",
       "  '보는데': 516,\n",
       "  '인물': 517,\n",
       "  '날': 518,\n",
       "  '마세요': 519,\n",
       "  '바로': 520,\n",
       "  '그나마': 521,\n",
       "  '시절': 522,\n",
       "  '없네': 523,\n",
       "  '회': 524,\n",
       "  '약간': 525,\n",
       "  '부': 526,\n",
       "  '존나': 527,\n",
       "  '억지': 528,\n",
       "  '할수': 529,\n",
       "  '웃기': 530,\n",
       "  '만점': 531,\n",
       "  '몰입도': 532,\n",
       "  '동안': 533,\n",
       "  '방송': 534,\n",
       "  '어느': 535,\n",
       "  '재밌는': 536,\n",
       "  '먹': 537,\n",
       "  '너무나': 538,\n",
       "  '초딩': 539,\n",
       "  '아들': 540,\n",
       "  '언제': 541,\n",
       "  '봤음': 542,\n",
       "  '어디': 543,\n",
       "  '편이': 544,\n",
       "  '꽤': 545,\n",
       "  '같음': 546,\n",
       "  '진': 547,\n",
       "  '라도': 548,\n",
       "  '주제': 549,\n",
       "  '에요': 550,\n",
       "  '목소리': 551,\n",
       "  '책': 552,\n",
       "  '자기': 553,\n",
       "  '당신': 554,\n",
       "  '네이버': 555,\n",
       "  '코': 556,\n",
       "  '씬': 557,\n",
       "  '매우': 558,\n",
       "  '재미없음': 559,\n",
       "  '비디오': 560,\n",
       "  '그대로': 561,\n",
       "  '됨': 562,\n",
       "  '저런': 563,\n",
       "  '휴': 564,\n",
       "  '이리': 565,\n",
       "  '본다': 566,\n",
       "  '나이': 567,\n",
       "  '전체': 568,\n",
       "  '쳐': 569,\n",
       "  '였습니다': 570,\n",
       "  '없어': 571,\n",
       "  '히': 572,\n",
       "  '하기': 573,\n",
       "  '나와서': 574,\n",
       "  '맛': 575,\n",
       "  '발': 576,\n",
       "  '로맨스': 577,\n",
       "  '쯤': 578,\n",
       "  '사회': 579,\n",
       "  '나라': 580,\n",
       "  '감성': 581,\n",
       "  '꿈': 582,\n",
       "  '굉장히': 583,\n",
       "  '재밋': 584,\n",
       "  '보다는': 585,\n",
       "  '답': 586,\n",
       "  '안보': 587,\n",
       "  '아님': 588,\n",
       "  '재밌고': 589,\n",
       "  '가는': 590,\n",
       "  '빨리': 591,\n",
       "  '누가': 592,\n",
       "  '죽': 593,\n",
       "  '판': 594,\n",
       "  '년도': 595,\n",
       "  '보': 596,\n",
       "  '힘': 597,\n",
       "  '평론가': 598,\n",
       "  '란': 599,\n",
       "  '가치': 600,\n",
       "  '없어서': 601,\n",
       "  '상당히': 602,\n",
       "  '예전': 603,\n",
       "  '다음': 604,\n",
       "  '짜리': 605,\n",
       "  '발연기': 606,\n",
       "  '만하': 607,\n",
       "  '해야': 608,\n",
       "  '억': 609,\n",
       "  '같네요': 610,\n",
       "  '질질': 611,\n",
       "  '이하': 612,\n",
       "  '실제': 613,\n",
       "  '바': 614,\n",
       "  '하네요': 615,\n",
       "  '재': 616,\n",
       "  '소설': 617,\n",
       "  '삼류': 618,\n",
       "  '어렸을': 619,\n",
       "  '굳': 620,\n",
       "  '장': 621,\n",
       "  '죠': 622,\n",
       "  '보여주는': 623,\n",
       "  '어설픈': 624,\n",
       "  '여배우': 625,\n",
       "  '년전': 626,\n",
       "  '아버지': 627,\n",
       "  '아까': 628,\n",
       "  '시청률': 629,\n",
       "  '점주': 630,\n",
       "  '좀비': 631,\n",
       "  '첫': 632,\n",
       "  '좋아': 633,\n",
       "  '어린': 634,\n",
       "  '성룡': 635,\n",
       "  '그때': 636,\n",
       "  '낭비': 637,\n",
       "  '사': 638,\n",
       "  '교훈': 639,\n",
       "  '해주는': 640,\n",
       "  '있지만': 641,\n",
       "  '모': 642,\n",
       "  '몇번': 643,\n",
       "  '선': 644,\n",
       "  '깊은': 645,\n",
       "  '어른': 646,\n",
       "  '거의': 647,\n",
       "  '간만': 648,\n",
       "  '여서': 649,\n",
       "  'ㅜ': 650,\n",
       "  '극장판': 651,\n",
       "  '여주': 652,\n",
       "  '잔잔한': 653,\n",
       "  '재미있어요': 654,\n",
       "  '전부': 655,\n",
       "  '재밌네요': 656,\n",
       "  '판타지': 657,\n",
       "  '열': 658,\n",
       "  '슬픈': 659,\n",
       "  '소': 660,\n",
       "  '상영': 661,\n",
       "  '있어': 662,\n",
       "  '난다': 663,\n",
       "  '이에요': 664,\n",
       "  '줄거리': 665,\n",
       "  '버린': 666,\n",
       "  '는데': 667,\n",
       "  '으로도': 668,\n",
       "  '둘': 669,\n",
       "  '아까워': 670,\n",
       "  '각본': 671,\n",
       "  '항상': 672,\n",
       "  '에선': 673,\n",
       "  '전달': 674,\n",
       "  '미친': 675,\n",
       "  '좋음': 676,\n",
       "  '세계': 677,\n",
       "  '중국': 678,\n",
       "  '간다': 679,\n",
       "  '낸': 680,\n",
       "  '믿고': 681,\n",
       "  '라니': 682,\n",
       "  '요소': 683,\n",
       "  '좋은데': 684,\n",
       "  '그만': 685,\n",
       "  '올': 686,\n",
       "  '멜로': 687,\n",
       "  '되고': 688,\n",
       "  '치고': 689,\n",
       "  '현': 690,\n",
       "  'ㅎㅎㅎ': 691,\n",
       "  '인거': 692,\n",
       "  '형': 693,\n",
       "  '점점': 694,\n",
       "  '낫다': 695,\n",
       "  '재미있다': 696,\n",
       "  '사건': 697,\n",
       "  '곳': 698,\n",
       "  '말고': 699,\n",
       "  '존재': 700,\n",
       "  '그러나': 701,\n",
       "  '대로': 702,\n",
       "  '터': 703,\n",
       "  '이라도': 704,\n",
       "  '그런지': 705,\n",
       "  '진정한': 706,\n",
       "  '상상': 707,\n",
       "  '초': 708,\n",
       "  '흥행': 709,\n",
       "  '선택': 710,\n",
       "  '필요': 711,\n",
       "  '순간': 712,\n",
       "  '새끼': 713,\n",
       "  '볼때': 714,\n",
       "  '그림': 715,\n",
       "  '개그': 716,\n",
       "  '따뜻한': 717,\n",
       "  '되어': 718,\n",
       "  '대한민국': 719,\n",
       "  '제작': 720,\n",
       "  '밑': 721,\n",
       "  '만이': 722,\n",
       "  '가서': 723,\n",
       "  '화보': 724,\n",
       "  '복수': 725,\n",
       "  '더럽게': 726,\n",
       "  '리': 727,\n",
       "  '온': 728,\n",
       "  '암': 729,\n",
       "  '여러': 730,\n",
       "  '나쁜': 731,\n",
       "  '하네': 732,\n",
       "  '만큼': 733,\n",
       "  '이번': 734,\n",
       "  '에서도': 735,\n",
       "  '거기': 736,\n",
       "  'ㅠㅠㅠ': 737,\n",
       "  '환상': 738,\n",
       "  '이라니': 739,\n",
       "  '병맛': 740,\n",
       "  '단': 741,\n",
       "  '거지': 742,\n",
       "  '연기자': 743,\n",
       "  '피': 744,\n",
       "  '관': 745,\n",
       "  '이냐': 746,\n",
       "  '평': 747,\n",
       "  '아빠': 748,\n",
       "  '또한': 749,\n",
       "  '아쉽다': 750,\n",
       "  '감상': 751,\n",
       "  '스타': 752,\n",
       "  'ㄷㄷ': 753,\n",
       "  '땜': 754,\n",
       "  '아닌가': 755,\n",
       "  '잘만': 756,\n",
       "  '뻔': 757,\n",
       "  '있는데': 758,\n",
       "  '햇': 759,\n",
       "  '역대': 760,\n",
       "  '좋겠다': 761,\n",
       "  '의도': 762,\n",
       "  '군': 763,\n",
       "  '화면': 764,\n",
       "  '충분히': 765,\n",
       "  '하며': 766,\n",
       "  '성우': 767,\n",
       "  '에서는': 768,\n",
       "  '상미': 769,\n",
       "  '대단한': 770,\n",
       "  '프랑스': 771,\n",
       "  '였음': 772,\n",
       "  '스러운': 773,\n",
       "  '그녀': 774,\n",
       "  '봐야': 775,\n",
       "  '있어서': 776,\n",
       "  '짓': 777,\n",
       "  '어쩔': 778,\n",
       "  '액션영화': 779,\n",
       "  '되지': 780,\n",
       "  '엉망': 781,\n",
       "  '당': 782,\n",
       "  '천재': 783,\n",
       "  '좋았어요': 784,\n",
       "  '키': 785,\n",
       "  '마무리': 786,\n",
       "  '하는게': 787,\n",
       "  '몸': 788,\n",
       "  '나온다': 789,\n",
       "  '좋네요': 790,\n",
       "  '갑자기': 791,\n",
       "  '스타일': 792,\n",
       "  '훌륭한': 793,\n",
       "  'ㅋㅋㅋㅋㅋ': 794,\n",
       "  '학교': 795,\n",
       "  '술': 796,\n",
       "  '참고': 797,\n",
       "  '주의': 798,\n",
       "  '없네요': 799,\n",
       "  '어이': 800,\n",
       "  '영웅': 801,\n",
       "  '원래': 802,\n",
       "  '예고편': 803,\n",
       "  '나오고': 804,\n",
       "  '모르고': 805,\n",
       "  '였어요': 806,\n",
       "  '잠': 807,\n",
       "  '씩': 808,\n",
       "  '우연히': 809,\n",
       "  '게임': 810,\n",
       "  '새': 811,\n",
       "  '엄청난': 812,\n",
       "  '있게': 813,\n",
       "  '완성': 814,\n",
       "  '수가': 815,\n",
       "  '바보': 816,\n",
       "  '죽음': 817,\n",
       "  '야할': 818,\n",
       "  '에겐': 819,\n",
       "  '더욱': 820,\n",
       "  '안된다': 821,\n",
       "  '한편': 822,\n",
       "  '비해': 823,\n",
       "  '해준': 824,\n",
       "  '딸': 825,\n",
       "  '유치': 826,\n",
       "  '그래픽': 827,\n",
       "  '재미있는': 828,\n",
       "  '알았는데': 829,\n",
       "  '입': 830,\n",
       "  '막': 831,\n",
       "  '물론': 832,\n",
       "  '타': 833,\n",
       "  '행동': 834,\n",
       "  '재미없는': 835,\n",
       "  '똥': 836,\n",
       "  '없을': 837,\n",
       "  '완벽한': 838,\n",
       "  '있음': 839,\n",
       "  '화이팅': 840,\n",
       "  '전편': 841,\n",
       "  '자꾸': 842,\n",
       "  '봤네요': 843,\n",
       "  '무': 844,\n",
       "  '헐': 845,\n",
       "  '땐': 846,\n",
       "  '꿀잼': 847,\n",
       "  '어디서': 848,\n",
       "  '동': 849,\n",
       "  '대작': 850,\n",
       "  '편집': 851,\n",
       "  '조차': 852,\n",
       "  '했음': 853,\n",
       "  '낚': 854,\n",
       "  '속편': 855,\n",
       "  '하는지': 856,\n",
       "  '그게': 857,\n",
       "  '래': 858,\n",
       "  '괜히': 859,\n",
       "  '척': 860,\n",
       "  '강': 861,\n",
       "  '중반': 862,\n",
       "  '공': 863,\n",
       "  '같아': 864,\n",
       "  '손': 865,\n",
       "  '드는': 866,\n",
       "  '티': 867,\n",
       "  '놔': 868,\n",
       "  '무비': 869,\n",
       "  '채널': 870,\n",
       "  '보이': 871,\n",
       "  '배': 872,\n",
       "  '나옴': 873,\n",
       "  '취향': 874,\n",
       "  '귀': 875,\n",
       "  '기대하고': 876,\n",
       "  '보는게': 877,\n",
       "  '있을까': 878,\n",
       "  '드': 879,\n",
       "  '가끔': 880,\n",
       "  '외': 881,\n",
       "  '노출': 882,\n",
       "  '먼저': 883,\n",
       "  '자극': 884,\n",
       "  '미화': 885,\n",
       "  '재미없고': 886,\n",
       "  '억지로': 887,\n",
       "  '일단': 888,\n",
       "  '일까': 889,\n",
       "  '경찰': 890,\n",
       "  '노': 891,\n",
       "  '새로운': 892,\n",
       "  '나올': 893,\n",
       "  '관심': 894,\n",
       "  '흥미': 895,\n",
       "  '젠': 896,\n",
       "  '댓글': 897,\n",
       "  '알았다': 898,\n",
       "  '진행': 899,\n",
       "  '영환': 900,\n",
       "  '역': 901,\n",
       "  '화가': 902,\n",
       "  '결혼': 903,\n",
       "  '통해': 904,\n",
       "  '했으면': 905,\n",
       "  '긴': 906,\n",
       "  '심리': 907,\n",
       "  '좋았습니다': 908,\n",
       "  '메세지': 909,\n",
       "  '한다는': 910,\n",
       "  '오빠': 911,\n",
       "  '짐': 912,\n",
       "  '슬프다': 913,\n",
       "  '이상한': 914,\n",
       "  '리메이크': 915,\n",
       "  '으': 916,\n",
       "  '같습니다': 917,\n",
       "  '제작비': 918,\n",
       "  '만으로도': 919,\n",
       "  '오히려': 920,\n",
       "  '소녀': 921,\n",
       "  '로는': 922,\n",
       "  '예상': 923,\n",
       "  '만들': 924,\n",
       "  '힘든': 925,\n",
       "  '양': 926,\n",
       "  '비슷한': 927,\n",
       "  '쓴': 928,\n",
       "  '전형': 929,\n",
       "  '짜': 930,\n",
       "  '다가': 931,\n",
       "  '좋았음': 932,\n",
       "  '타임': 933,\n",
       "  '노력': 934,\n",
       "  '화려한': 935,\n",
       "  '재미없어': 936,\n",
       "  '예': 937,\n",
       "  '예산': 938,\n",
       "  '전작': 939,\n",
       "  '관람': 940,\n",
       "  '법': 941,\n",
       "  '표정': 942,\n",
       "  '봤을': 943,\n",
       "  '깊게': 944,\n",
       "  '용도': 945,\n",
       "  '높은': 946,\n",
       "  '과정': 947,\n",
       "  '메디': 948,\n",
       "  '재밌는데': 949,\n",
       "  '효과': 950,\n",
       "  '아저씨': 951,\n",
       "  '끝나고': 952,\n",
       "  '유머': 953,\n",
       "  '흥미진진': 954,\n",
       "  '재미있고': 955,\n",
       "  '먹고': 956,\n",
       "  '아니면': 957,\n",
       "  '보고나서': 958,\n",
       "  '되': 959,\n",
       "  '아쉬운': 960,\n",
       "  '일이': 961,\n",
       "  '맞는': 962,\n",
       "  '길': 963,\n",
       "  '오래': 964,\n",
       "  '최근': 965,\n",
       "  '진실': 966,\n",
       "  '촬영': 967,\n",
       "  '하하': 968,\n",
       "  '나왔으면': 969,\n",
       "  '좋았고': 970,\n",
       "  '지루': 971,\n",
       "  '체': 972,\n",
       "  '재밌었다': 973,\n",
       "  '형님': 974,\n",
       "  '거리': 975,\n",
       "  '느끼게': 976,\n",
       "  'ㅡ': 977,\n",
       "  '바람': 978,\n",
       "  '해요': 979,\n",
       "  '무조건': 980,\n",
       "  '되게': 981,\n",
       "  '있었다': 982,\n",
       "  '반개': 983,\n",
       "  '귀신': 984,\n",
       "  '예요': 985,\n",
       "  '이런거': 986,\n",
       "  '그리': 987,\n",
       "  '보여준': 988,\n",
       "  '재밌었음': 989,\n",
       "  '맨': 990,\n",
       "  '치': 991,\n",
       "  '필요없는': 992,\n",
       "  '너무나도': 993,\n",
       "  '로맨틱': 994,\n",
       "  '리얼': 995,\n",
       "  '볼수': 996,\n",
       "  '동화': 997,\n",
       "  '따': 998,\n",
       "  '만에': 999,\n",
       "  '만들었다': 1000,\n",
       "  ...})"
      ]
     },
     "execution_count": 64,
     "metadata": {},
     "output_type": "execute_result"
    }
   ],
   "source": [
    "tk_d=Tokenizer()\n",
    "tk_d.fit_on_texts(df_d.document)\n",
    "len(tk_d.word_index),tk_d.word_index"
   ]
  },
  {
   "cell_type": "code",
   "execution_count": null,
   "id": "5450da55",
   "metadata": {},
   "outputs": [],
   "source": [
    "np.unique()"
   ]
  }
 ],
 "metadata": {
  "kernelspec": {
   "display_name": "Python 3 (ipykernel)",
   "language": "python",
   "name": "python3"
  },
  "language_info": {
   "codemirror_mode": {
    "name": "ipython",
    "version": 3
   },
   "file_extension": ".py",
   "mimetype": "text/x-python",
   "name": "python",
   "nbconvert_exporter": "python",
   "pygments_lexer": "ipython3",
   "version": "3.9.7"
  }
 },
 "nbformat": 4,
 "nbformat_minor": 5
}
