{
 "cells": [
  {
   "cell_type": "code",
   "execution_count": 5,
   "id": "56a5ab8b",
   "metadata": {},
   "outputs": [
    {
     "data": {
      "text/plain": [
       "(array([0. , 0. , 0.5, 0.5, 1. ]),\n",
       " array([0. , 0.5, 0.5, 1. , 1. ]),\n",
       " array([1.8 , 0.8 , 0.4 , 0.35, 0.1 ]))"
      ]
     },
     "execution_count": 5,
     "metadata": {},
     "output_type": "execute_result"
    }
   ],
   "source": [
    "import numpy as np\n",
    "from sklearn.metrics import roc_curve\n",
    "y = np.array([1,1,2,2])\n",
    "sc=np.array([0.1,0.4,0.35,0.8])\n",
    "fpr, tpr, th = roc_curve(y,sc,pos_label=2)#항목을 설정해줘야한다/auc는 roc하단의 넓이\n",
    "fpr, tpr, th"
   ]
  },
  {
   "cell_type": "code",
   "execution_count": 6,
   "id": "76880f34",
   "metadata": {},
   "outputs": [
    {
     "data": {
      "text/plain": [
       "0.75"
      ]
     },
     "execution_count": 6,
     "metadata": {},
     "output_type": "execute_result"
    }
   ],
   "source": [
    "from sklearn.metrics import auc#면적이기 때문의 가로와 세로 2가지가 존재\n",
    "roc_auc=auc(fpr,tpr)\n",
    "roc_auc"
   ]
  },
  {
   "cell_type": "code",
   "execution_count": null,
   "id": "200c901d",
   "metadata": {},
   "outputs": [],
   "source": []
  }
 ],
 "metadata": {
  "kernelspec": {
   "display_name": "Python 3 (ipykernel)",
   "language": "python",
   "name": "python3"
  },
  "language_info": {
   "codemirror_mode": {
    "name": "ipython",
    "version": 3
   },
   "file_extension": ".py",
   "mimetype": "text/x-python",
   "name": "python",
   "nbconvert_exporter": "python",
   "pygments_lexer": "ipython3",
   "version": "3.9.7"
  }
 },
 "nbformat": 4,
 "nbformat_minor": 5
}
