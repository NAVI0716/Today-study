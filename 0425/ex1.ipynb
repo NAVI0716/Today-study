{
 "cells": [
  {
   "cell_type": "code",
   "execution_count": 2,
   "id": "c0954a99",
   "metadata": {},
   "outputs": [
    {
     "data": {
      "text/plain": [
       "array([[2, 0],\n",
       "       [1, 3]], dtype=int64)"
      ]
     },
     "execution_count": 2,
     "metadata": {},
     "output_type": "execute_result"
    }
   ],
   "source": [
    "from sklearn.metrics import confusion_matrix #혼동행렬\n",
    "#2가지의 결과값y_t,y_p / 기본적으로 2진분류의 성능평가의 척도롤 사용한다.\n",
    "y_t=[1,0,1,1,0,1]#1or 0이 정답\n",
    "y_p=[0,0,1,1,0,1]#예측값\n",
    "confusion_matrix(y_t,y_p)\n",
    "#tn=2 fp=0 fn=1 tp=3"
   ]
  },
  {
   "cell_type": "code",
   "execution_count": 4,
   "id": "fbae7aca",
   "metadata": {},
   "outputs": [
    {
     "data": {
      "text/plain": [
       "array([2, 0, 1, 3], dtype=int64)"
      ]
     },
     "execution_count": 4,
     "metadata": {},
     "output_type": "execute_result"
    }
   ],
   "source": [
    "confusion_matrix(y_t,y_p).ravel()"
   ]
  },
  {
   "cell_type": "code",
   "execution_count": 6,
   "id": "076b4b5c",
   "metadata": {},
   "outputs": [
    {
     "data": {
      "text/plain": [
       "(2, 0, 1, 3)"
      ]
     },
     "execution_count": 6,
     "metadata": {},
     "output_type": "execute_result"
    }
   ],
   "source": [
    "#분류모델의 성능을 평가하기위해 추출한다 4가지를\n",
    "tn,fp,fn,tp =  confusion_matrix(y_t,y_p).ravel()#2차원의 형태라 바로 못불러와서 ravel사용\n",
    "tn,fp,fn,tp"
   ]
  },
  {
   "cell_type": "markdown",
   "id": "07ab5cee",
   "metadata": {},
   "source": [
    "정확도= tp/(tp+fp) 예측값에서니까 예측값 1일때값으로 계산<br>\n",
    "민감도= tp/(tp+fn) 실제값이 1이였을때 예측값이 얼마인가<br>\n",
    "f1스코어 정밀도와 민감도의 조화평균값\n"
   ]
  },
  {
   "cell_type": "code",
   "execution_count": 9,
   "id": "120d397b",
   "metadata": {},
   "outputs": [
    {
     "data": {
      "text/plain": [
       "0.8333333333333334"
      ]
     },
     "execution_count": 9,
     "metadata": {},
     "output_type": "execute_result"
    }
   ],
   "source": [
    "#정확도\n",
    "import numpy as np\n",
    "y_t=np.array(y_t)\n",
    "y_p=np.array(y_p)\n",
    "sum(y_t == y_p)/len(y_t)"
   ]
  },
  {
   "cell_type": "code",
   "execution_count": 10,
   "id": "d02cbc88",
   "metadata": {},
   "outputs": [
    {
     "data": {
      "text/plain": [
       "0.8333333333333334"
      ]
     },
     "execution_count": 10,
     "metadata": {},
     "output_type": "execute_result"
    }
   ],
   "source": [
    "from sklearn.metrics import accuracy_score #얼마나 잘만들어졌는가 확인 =sum(y_t == y_p)/len(y_t)\n",
    "accuracy_score(y_t,y_p)"
   ]
  },
  {
   "cell_type": "code",
   "execution_count": 12,
   "id": "04ec7eab",
   "metadata": {},
   "outputs": [],
   "source": [
    "from sklearn.metrics import precision_score#정밀도\n",
    "from sklearn.metrics import recall_score #민감도\n",
    "from sklearn.metrics import f1_score #f1스코어"
   ]
  },
  {
   "cell_type": "code",
   "execution_count": 14,
   "id": "7a0e8cb5",
   "metadata": {},
   "outputs": [
    {
     "data": {
      "text/plain": [
       "1.0"
      ]
     },
     "execution_count": 14,
     "metadata": {},
     "output_type": "execute_result"
    }
   ],
   "source": [
    "precision_score(y_t,y_p)"
   ]
  },
  {
   "cell_type": "code",
   "execution_count": 15,
   "id": "244c0abc",
   "metadata": {},
   "outputs": [
    {
     "data": {
      "text/plain": [
       "0.75"
      ]
     },
     "execution_count": 15,
     "metadata": {},
     "output_type": "execute_result"
    }
   ],
   "source": [
    "recall_score(y_t,y_p)"
   ]
  },
  {
   "cell_type": "code",
   "execution_count": 16,
   "id": "7ac82ca0",
   "metadata": {},
   "outputs": [
    {
     "data": {
      "text/plain": [
       "0.8571428571428571"
      ]
     },
     "execution_count": 16,
     "metadata": {},
     "output_type": "execute_result"
    }
   ],
   "source": [
    "f1_score(y_t,y_p)"
   ]
  },
  {
   "cell_type": "code",
   "execution_count": null,
   "id": "017abca2",
   "metadata": {},
   "outputs": [],
   "source": []
  }
 ],
 "metadata": {
  "kernelspec": {
   "display_name": "Python 3 (ipykernel)",
   "language": "python",
   "name": "python3"
  },
  "language_info": {
   "codemirror_mode": {
    "name": "ipython",
    "version": 3
   },
   "file_extension": ".py",
   "mimetype": "text/x-python",
   "name": "python",
   "nbconvert_exporter": "python",
   "pygments_lexer": "ipython3",
   "version": "3.9.7"
  }
 },
 "nbformat": 4,
 "nbformat_minor": 5
}
