{
 "cells": [
  {
   "cell_type": "code",
   "execution_count": 3,
   "id": "972b8921",
   "metadata": {},
   "outputs": [],
   "source": [
    "#분류는 확률을 기반으로 나눈다.\n",
    "from pandas import Series,DataFrame\n",
    "import pandas as pd\n",
    "import numpy as np\n",
    "viagra_spam={\n",
    "    'viagra':[1,0,0,0,0,0,0,0,1,1,1,0,0,1,0,0,0,0,0,1]\n",
    "    ,'spam':[1,0,0,0,0,0,1,0,1,0,0,0,0,0,0,0,0,1,1,1]\n",
    "}\n",
    "df = pd.DataFrame(viagra_spam,columns=['viagra','spam'])\n",
    "np_data=df.values\n"
   ]
  },
  {
   "cell_type": "markdown",
   "id": "2fcef877",
   "metadata": {},
   "source": []
  }
 ],
 "metadata": {
  "kernelspec": {
   "display_name": "Python 3 (ipykernel)",
   "language": "python",
   "name": "python3"
  },
  "language_info": {
   "codemirror_mode": {
    "name": "ipython",
    "version": 3
   },
   "file_extension": ".py",
   "mimetype": "text/x-python",
   "name": "python",
   "nbconvert_exporter": "python",
   "pygments_lexer": "ipython3",
   "version": "3.9.7"
  }
 },
 "nbformat": 4,
 "nbformat_minor": 5
}
