{
 "cells": [
  {
   "cell_type": "code",
   "execution_count": 1,
   "id": "3a9d4b04",
   "metadata": {},
   "outputs": [],
   "source": [
    "from pandas import Series,DataFrame\n",
    "import pandas as pd\n",
    "import numpy as np\n",
    "import matplotlib.pyplot as plt\n",
    "import seaborn as sns\n",
    "import re #정규표현식\n"
   ]
  },
  {
   "cell_type": "markdown",
   "id": "f11c613e",
   "metadata": {},
   "source": [
    "data준비"
   ]
  },
  {
   "cell_type": "code",
   "execution_count": 3,
   "id": "bebde846",
   "metadata": {},
   "outputs": [
    {
     "data": {
      "text/plain": [
       "dict_keys(['data', 'filenames', 'target_names', 'target', 'DESCR'])"
      ]
     },
     "execution_count": 3,
     "metadata": {},
     "output_type": "execute_result"
    }
   ],
   "source": [
    "from sklearn.datasets import fetch_20newsgroups\n",
    "new = fetch_20newsgroups(subset='all')#전체적인 정보\n",
    "new.keys()"
   ]
  },
  {
   "cell_type": "code",
   "execution_count": 4,
   "id": "7c339080",
   "metadata": {},
   "outputs": [
    {
     "name": "stdout",
     "output_type": "stream",
     "text": [
      "From: Mamatha Devineni Ratnam <mr47+@andrew.cmu.edu>\n",
      "Subject: Pens fans reactions\n",
      "Organization: Post Office, Carnegie Mellon, Pittsburgh, PA\n",
      "Lines: 12\n",
      "NNTP-Posting-Host: po4.andrew.cmu.edu\n",
      "\n",
      "\n",
      "\n",
      "I am sure some bashers of Pens fans are pretty confused about the lack\n",
      "of any kind of posts about the recent Pens massacre of the Devils. Actually,\n",
      "I am  bit puzzled too and a bit relieved. However, I am going to put an end\n",
      "to non-PIttsburghers' relief with a bit of praise for the Pens. Man, they\n",
      "are killing those Devils worse than I thought. Jagr just showed you why\n",
      "he is much better than his regular season stats. He is also a lot\n",
      "fo fun to watch in the playoffs. Bowman should let JAgr have a lot of\n",
      "fun in the next couple of games since the Pens are going to beat the pulp out of Jersey anyway. I was very disappointed not to see the Islanders lose the final\n",
      "regular season game.          PENS RULE!!!\n",
      "\n",
      "\n"
     ]
    }
   ],
   "source": [
    "print(new.data[0])"
   ]
  },
  {
   "cell_type": "code",
   "execution_count": 11,
   "id": "b10e6aa0",
   "metadata": {},
   "outputs": [
    {
     "data": {
      "text/plain": [
       "['alt.atheism',\n",
       " 'comp.graphics',\n",
       " 'comp.os.ms-windows.misc',\n",
       " 'comp.sys.ibm.pc.hardware',\n",
       " 'comp.sys.mac.hardware',\n",
       " 'comp.windows.x',\n",
       " 'misc.forsale',\n",
       " 'rec.autos',\n",
       " 'rec.motorcycles',\n",
       " 'rec.sport.baseball',\n",
       " 'rec.sport.hockey',\n",
       " 'sci.crypt',\n",
       " 'sci.electronics',\n",
       " 'sci.med',\n",
       " 'sci.space',\n",
       " 'soc.religion.christian',\n",
       " 'talk.politics.guns',\n",
       " 'talk.politics.mideast',\n",
       " 'talk.politics.misc',\n",
       " 'talk.religion.misc']"
      ]
     },
     "execution_count": 11,
     "metadata": {},
     "output_type": "execute_result"
    }
   ],
   "source": [
    "new.target_names"
   ]
  },
  {
   "cell_type": "code",
   "execution_count": 6,
   "id": "1aea28b6",
   "metadata": {},
   "outputs": [
    {
     "data": {
      "text/html": [
       "<div>\n",
       "<style scoped>\n",
       "    .dataframe tbody tr th:only-of-type {\n",
       "        vertical-align: middle;\n",
       "    }\n",
       "\n",
       "    .dataframe tbody tr th {\n",
       "        vertical-align: top;\n",
       "    }\n",
       "\n",
       "    .dataframe thead th {\n",
       "        text-align: right;\n",
       "    }\n",
       "</style>\n",
       "<table border=\"1\" class=\"dataframe\">\n",
       "  <thead>\n",
       "    <tr style=\"text-align: right;\">\n",
       "      <th></th>\n",
       "      <th>News</th>\n",
       "      <th>Target</th>\n",
       "    </tr>\n",
       "  </thead>\n",
       "  <tbody>\n",
       "    <tr>\n",
       "      <th>0</th>\n",
       "      <td>From: Mamatha Devineni Ratnam &lt;mr47+@andrew.cm...</td>\n",
       "      <td>10</td>\n",
       "    </tr>\n",
       "    <tr>\n",
       "      <th>1</th>\n",
       "      <td>From: mblawson@midway.ecn.uoknor.edu (Matthew ...</td>\n",
       "      <td>3</td>\n",
       "    </tr>\n",
       "    <tr>\n",
       "      <th>2</th>\n",
       "      <td>From: hilmi-er@dsv.su.se (Hilmi Eren)\\nSubject...</td>\n",
       "      <td>17</td>\n",
       "    </tr>\n",
       "    <tr>\n",
       "      <th>3</th>\n",
       "      <td>From: guyd@austin.ibm.com (Guy Dawson)\\nSubjec...</td>\n",
       "      <td>3</td>\n",
       "    </tr>\n",
       "    <tr>\n",
       "      <th>4</th>\n",
       "      <td>From: Alexander Samuel McDiarmid &lt;am2o+@andrew...</td>\n",
       "      <td>4</td>\n",
       "    </tr>\n",
       "    <tr>\n",
       "      <th>...</th>\n",
       "      <td>...</td>\n",
       "      <td>...</td>\n",
       "    </tr>\n",
       "    <tr>\n",
       "      <th>18841</th>\n",
       "      <td>From: jim.zisfein@factory.com (Jim Zisfein) \\n...</td>\n",
       "      <td>13</td>\n",
       "    </tr>\n",
       "    <tr>\n",
       "      <th>18842</th>\n",
       "      <td>From: rdell@cbnewsf.cb.att.com (richard.b.dell...</td>\n",
       "      <td>12</td>\n",
       "    </tr>\n",
       "    <tr>\n",
       "      <th>18843</th>\n",
       "      <td>From: westes@netcom.com (Will Estes)\\nSubject:...</td>\n",
       "      <td>3</td>\n",
       "    </tr>\n",
       "    <tr>\n",
       "      <th>18844</th>\n",
       "      <td>From: steve@hcrlgw (Steven Collins)\\nSubject: ...</td>\n",
       "      <td>1</td>\n",
       "    </tr>\n",
       "    <tr>\n",
       "      <th>18845</th>\n",
       "      <td>From: chriss@netcom.com (Chris Silvester)\\nSub...</td>\n",
       "      <td>7</td>\n",
       "    </tr>\n",
       "  </tbody>\n",
       "</table>\n",
       "<p>18846 rows × 2 columns</p>\n",
       "</div>"
      ],
      "text/plain": [
       "                                                    News  Target\n",
       "0      From: Mamatha Devineni Ratnam <mr47+@andrew.cm...      10\n",
       "1      From: mblawson@midway.ecn.uoknor.edu (Matthew ...       3\n",
       "2      From: hilmi-er@dsv.su.se (Hilmi Eren)\\nSubject...      17\n",
       "3      From: guyd@austin.ibm.com (Guy Dawson)\\nSubjec...       3\n",
       "4      From: Alexander Samuel McDiarmid <am2o+@andrew...       4\n",
       "...                                                  ...     ...\n",
       "18841  From: jim.zisfein@factory.com (Jim Zisfein) \\n...      13\n",
       "18842  From: rdell@cbnewsf.cb.att.com (richard.b.dell...      12\n",
       "18843  From: westes@netcom.com (Will Estes)\\nSubject:...       3\n",
       "18844  From: steve@hcrlgw (Steven Collins)\\nSubject: ...       1\n",
       "18845  From: chriss@netcom.com (Chris Silvester)\\nSub...       7\n",
       "\n",
       "[18846 rows x 2 columns]"
      ]
     },
     "execution_count": 6,
     "metadata": {},
     "output_type": "execute_result"
    }
   ],
   "source": [
    "new_df = pd.DataFrame({'News':new.data,'Target':new.target})\n",
    "new_df"
   ]
  },
  {
   "cell_type": "code",
   "execution_count": 9,
   "id": "5490faa0",
   "metadata": {},
   "outputs": [
    {
     "data": {
      "text/plain": [
       "{0: 'alt.atheism',\n",
       " 1: 'comp.graphics',\n",
       " 2: 'comp.os.ms-windows.misc',\n",
       " 3: 'comp.sys.ibm.pc.hardware',\n",
       " 4: 'comp.sys.mac.hardware',\n",
       " 5: 'comp.windows.x',\n",
       " 6: 'misc.forsale',\n",
       " 7: 'rec.autos',\n",
       " 8: 'rec.motorcycles',\n",
       " 9: 'rec.sport.baseball',\n",
       " 10: 'rec.sport.hockey',\n",
       " 11: 'sci.crypt',\n",
       " 12: 'sci.electronics',\n",
       " 13: 'sci.med',\n",
       " 14: 'sci.space',\n",
       " 15: 'soc.religion.christian',\n",
       " 16: 'talk.politics.guns',\n",
       " 17: 'talk.politics.mideast',\n",
       " 18: 'talk.politics.misc',\n",
       " 19: 'talk.religion.misc'}"
      ]
     },
     "execution_count": 9,
     "metadata": {},
     "output_type": "execute_result"
    }
   ],
   "source": [
    "t_dict={idx:name for idx,name in enumerate(new.target_names)}\n",
    "t_dict"
   ]
  },
  {
   "cell_type": "markdown",
   "id": "5a3c41a2",
   "metadata": {},
   "source": [
    "data전처리"
   ]
  },
  {
   "cell_type": "code",
   "execution_count": 12,
   "id": "6f438a39",
   "metadata": {
    "scrolled": true
   },
   "outputs": [
    {
     "data": {
      "text/plain": [
       "0                rec.sport.hockey\n",
       "1        comp.sys.ibm.pc.hardware\n",
       "2           talk.politics.mideast\n",
       "3        comp.sys.ibm.pc.hardware\n",
       "4           comp.sys.mac.hardware\n",
       "                   ...           \n",
       "18841                     sci.med\n",
       "18842             sci.electronics\n",
       "18843    comp.sys.ibm.pc.hardware\n",
       "18844               comp.graphics\n",
       "18845                   rec.autos\n",
       "Name: Target, Length: 18846, dtype: object"
      ]
     },
     "execution_count": 12,
     "metadata": {},
     "output_type": "execute_result"
    }
   ],
   "source": [
    "new_df['Target']=new_df['Target'].replace(t_dict)\n",
    "new_df['Target']"
   ]
  },
  {
   "cell_type": "code",
   "execution_count": 14,
   "id": "d5d3857d",
   "metadata": {},
   "outputs": [
    {
     "data": {
      "text/html": [
       "<div>\n",
       "<style scoped>\n",
       "    .dataframe tbody tr th:only-of-type {\n",
       "        vertical-align: middle;\n",
       "    }\n",
       "\n",
       "    .dataframe tbody tr th {\n",
       "        vertical-align: top;\n",
       "    }\n",
       "\n",
       "    .dataframe thead th {\n",
       "        text-align: right;\n",
       "    }\n",
       "</style>\n",
       "<table border=\"1\" class=\"dataframe\">\n",
       "  <thead>\n",
       "    <tr style=\"text-align: right;\">\n",
       "      <th></th>\n",
       "      <th>News</th>\n",
       "      <th>Target</th>\n",
       "    </tr>\n",
       "  </thead>\n",
       "  <tbody>\n",
       "    <tr>\n",
       "      <th>0</th>\n",
       "      <td>From Mamatha Devineni Ratnam Subject Pens fans...</td>\n",
       "      <td>rec.sport.hockey</td>\n",
       "    </tr>\n",
       "    <tr>\n",
       "      <th>1</th>\n",
       "      <td>From Matthew B Lawson Subject Which high perfo...</td>\n",
       "      <td>comp.sys.ibm.pc.hardware</td>\n",
       "    </tr>\n",
       "    <tr>\n",
       "      <th>2</th>\n",
       "      <td>From hilmi Hilmi Eren Subject Re ARMENIA SAYS ...</td>\n",
       "      <td>talk.politics.mideast</td>\n",
       "    </tr>\n",
       "    <tr>\n",
       "      <th>3</th>\n",
       "      <td>From Guy Dawson Subject Re IDE vs SCSI DMA and...</td>\n",
       "      <td>comp.sys.ibm.pc.hardware</td>\n",
       "    </tr>\n",
       "    <tr>\n",
       "      <th>4</th>\n",
       "      <td>From Alexander Samuel McDiarmid Subject driver...</td>\n",
       "      <td>comp.sys.mac.hardware</td>\n",
       "    </tr>\n",
       "    <tr>\n",
       "      <th>...</th>\n",
       "      <td>...</td>\n",
       "      <td>...</td>\n",
       "    </tr>\n",
       "    <tr>\n",
       "      <th>18841</th>\n",
       "      <td>From jim Jim Zisfein Subject Re Migraines and ...</td>\n",
       "      <td>sci.med</td>\n",
       "    </tr>\n",
       "    <tr>\n",
       "      <th>18842</th>\n",
       "      <td>From richard b dell Subject Re A question abou...</td>\n",
       "      <td>sci.electronics</td>\n",
       "    </tr>\n",
       "    <tr>\n",
       "      <th>18843</th>\n",
       "      <td>From Will Estes Subject Mounting CPU Cooler in...</td>\n",
       "      <td>comp.sys.ibm.pc.hardware</td>\n",
       "    </tr>\n",
       "    <tr>\n",
       "      <th>18844</th>\n",
       "      <td>From steve hcrlgw Steven Collins Subject Re Sp...</td>\n",
       "      <td>comp.graphics</td>\n",
       "    </tr>\n",
       "    <tr>\n",
       "      <th>18845</th>\n",
       "      <td>From Chris Silvester Subject Production Hold o...</td>\n",
       "      <td>rec.autos</td>\n",
       "    </tr>\n",
       "  </tbody>\n",
       "</table>\n",
       "<p>18846 rows × 2 columns</p>\n",
       "</div>"
      ],
      "text/plain": [
       "                                                    News  \\\n",
       "0      From Mamatha Devineni Ratnam Subject Pens fans...   \n",
       "1      From Matthew B Lawson Subject Which high perfo...   \n",
       "2      From hilmi Hilmi Eren Subject Re ARMENIA SAYS ...   \n",
       "3      From Guy Dawson Subject Re IDE vs SCSI DMA and...   \n",
       "4      From Alexander Samuel McDiarmid Subject driver...   \n",
       "...                                                  ...   \n",
       "18841  From jim Jim Zisfein Subject Re Migraines and ...   \n",
       "18842  From richard b dell Subject Re A question abou...   \n",
       "18843  From Will Estes Subject Mounting CPU Cooler in...   \n",
       "18844  From steve hcrlgw Steven Collins Subject Re Sp...   \n",
       "18845  From Chris Silvester Subject Production Hold o...   \n",
       "\n",
       "                         Target  \n",
       "0              rec.sport.hockey  \n",
       "1      comp.sys.ibm.pc.hardware  \n",
       "2         talk.politics.mideast  \n",
       "3      comp.sys.ibm.pc.hardware  \n",
       "4         comp.sys.mac.hardware  \n",
       "...                         ...  \n",
       "18841                   sci.med  \n",
       "18842           sci.electronics  \n",
       "18843  comp.sys.ibm.pc.hardware  \n",
       "18844             comp.graphics  \n",
       "18845                 rec.autos  \n",
       "\n",
       "[18846 rows x 2 columns]"
      ]
     },
     "execution_count": 14,
     "metadata": {},
     "output_type": "execute_result"
    }
   ],
   "source": [
    "def data_cleansing(df):\n",
    "    delete_email = re.sub(r'\\b[\\w\\+]+@[\\w]+.[\\w]+.[\\w]+.[\\w]+\\b', ' ', df)\n",
    "    delete_number = re.sub(r'\\b|\\d+|\\b', ' ',delete_email)\n",
    "    delete_non_word = re.sub(r'\\b[\\W]+\\b', ' ', delete_number)\n",
    "    cleaning_result = ' '.join(delete_non_word.split())# 잘라진 문자들을 연결해준다.\n",
    "    return cleaning_result\n",
    "new_df.loc[:,'News']= new_df['News'].apply(data_cleansing)\n",
    "#전처리된 비정형 데이터"
   ]
  },
  {
   "cell_type": "markdown",
   "id": "346416cb",
   "metadata": {},
   "source": [
    "백터화 작업"
   ]
  },
  {
   "cell_type": "code",
   "execution_count": 16,
   "id": "85343750",
   "metadata": {},
   "outputs": [
    {
     "data": {
      "text/plain": [
       "['look', 'look', 'look']"
      ]
     },
     "execution_count": 16,
     "metadata": {},
     "output_type": "execute_result"
    }
   ],
   "source": [
    "from nltk import stem\n",
    "stmmer = stem.SnowballStemmer('english')\n",
    "ex_t='looking looks looked'\n",
    "[stmmer.stem(i) for i in ex_t.split()]"
   ]
  },
  {
   "cell_type": "code",
   "execution_count": 18,
   "id": "359053d9",
   "metadata": {},
   "outputs": [],
   "source": [
    "from sklearn.feature_extraction.text import CountVectorizer\n",
    "import nltk"
   ]
  },
  {
   "cell_type": "code",
   "execution_count": 19,
   "id": "cee6e74d",
   "metadata": {},
   "outputs": [],
   "source": [
    "stmmer = nltk.stem.SnowballStemmer('english')"
   ]
  },
  {
   "cell_type": "code",
   "execution_count": 20,
   "id": "a5c0b56a",
   "metadata": {},
   "outputs": [],
   "source": [
    "class S_C_V(CountVectorizer):\n",
    "    def build_analyzer(self):\n",
    "        analyzer = super(S_C_V,self).bulid_analyzer()\n",
    "        return lambda doc:(stmmer.stem(w) for w in analyzer(doc)) #람다 1회성 함수\n",
    "        "
   ]
  },
  {
   "cell_type": "code",
   "execution_count": 21,
   "id": "142de7e2",
   "metadata": {},
   "outputs": [],
   "source": [
    "from sklearn.feature_extraction.text import TfidfVectorizer\n",
    "stmmer = nltk.stem.SnowballStemmer('english')\n",
    "class S_T_V(TfidfVectorizer):\n",
    "    def build_analyzer(self):\n",
    "        analyzer = super(S_T_V,self).bulid_analyzer()\n",
    "        return lambda doc:(stmmer.stem(w) for w in analyzer(doc)) #람다 1회성 함수\n",
    "    "
   ]
  },
  {
   "cell_type": "code",
   "execution_count": 22,
   "id": "43ff2c38",
   "metadata": {},
   "outputs": [],
   "source": [
    "from sklearn.naive_bayes import MultinomialNB, BernoulliNB, GaussianNB\n",
    "from sklearn.linear_model import LogisticRegression#선형회귀\n",
    "from sklearn.pipeline import Pipeline,make_pipeline#내부구조 만들어줌\n",
    "vectorizizer = [CountVectorizer(),TfidfVectorizer(),S_C_V(),S_T_V()]#4개의 백터화된 리스트 생성\n",
    "algth = [MultinomialNB(),LogisticRegression()]#분류객체\n",
    "pie_l = []"
   ]
  },
  {
   "cell_type": "code",
   "execution_count": 25,
   "id": "5691a147",
   "metadata": {},
   "outputs": [],
   "source": [
    "import itertools #데이터의 추가 변화작업\n",
    "for i in list(itertools.product(vectorizizer,algth)):#구성요소와 동작요소 추가\n",
    "    pie_l.append(make_pipeline(*i))"
   ]
  },
  {
   "cell_type": "code",
   "execution_count": 26,
   "id": "ebf15585",
   "metadata": {},
   "outputs": [],
   "source": [
    "#5종류의 파라미터값\n",
    "n_par=[(1,1),(1,3)]\n",
    "stopw_par = ['english']\n",
    "l_case_par = [ True, False] #참과 거짓에 대한 이야기, 초기값 부여한것\n",
    "max_par = np.linspace(0.4,0.6,num=6)\n",
    "min_par = np.linspace(0.0,0.0,num=1)\n"
   ]
  },
  {
   "cell_type": "code",
   "execution_count": 30,
   "id": "b3cf41ec",
   "metadata": {},
   "outputs": [
    {
     "name": "stdout",
     "output_type": "stream",
     "text": [
      "ngram_range [(1, 1), (1, 3)]\n",
      "max_df [0.4  0.44 0.48 0.52 0.56 0.6 ]\n",
      "min_df [0.]\n",
      "lowercases [True, False]\n",
      "stop_words ['english']\n",
      "ngram_range [(1, 1), (1, 3)]\n",
      "max_df [0.4  0.44 0.48 0.52 0.56 0.6 ]\n",
      "min_df [0.]\n",
      "lowercases [True, False]\n",
      "stop_words ['english']\n",
      "ngram_range [(1, 1), (1, 3)]\n",
      "max_df [0.4  0.44 0.48 0.52 0.56 0.6 ]\n",
      "min_df [0.]\n",
      "lowercases [True, False]\n",
      "stop_words ['english']\n",
      "ngram_range [(1, 1), (1, 3)]\n",
      "max_df [0.4  0.44 0.48 0.52 0.56 0.6 ]\n",
      "min_df [0.]\n",
      "lowercases [True, False]\n",
      "stop_words ['english']\n"
     ]
    }
   ],
   "source": [
    "att = {'ngram_range':n_par,'max_df':max_par,'min_df':min_par,'lowercases':l_case_par,'stop_words':stopw_par}\n",
    "vectorizizer_names=['countvectorizer','tfidvectorizer','s_c_v','s_t_v']\n",
    "vectorizizer_par_dict={}\n",
    "for i in vectorizizer_names:\n",
    "    vectorizizer_par_dict[i]={}\n",
    "    for key,v in att.items():\n",
    "        print(key,v)"
   ]
  },
  {
   "cell_type": "code",
   "execution_count": null,
   "id": "c6a35643",
   "metadata": {},
   "outputs": [],
   "source": []
  }
 ],
 "metadata": {
  "kernelspec": {
   "display_name": "Python 3 (ipykernel)",
   "language": "python",
   "name": "python3"
  },
  "language_info": {
   "codemirror_mode": {
    "name": "ipython",
    "version": 3
   },
   "file_extension": ".py",
   "mimetype": "text/x-python",
   "name": "python",
   "nbconvert_exporter": "python",
   "pygments_lexer": "ipython3",
   "version": "3.9.7"
  }
 },
 "nbformat": 4,
 "nbformat_minor": 5
}
