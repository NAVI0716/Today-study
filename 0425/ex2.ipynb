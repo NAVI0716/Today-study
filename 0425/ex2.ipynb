{
 "cells": [
  {
   "cell_type": "markdown",
   "id": "c2321428",
   "metadata": {},
   "source": [
    "1.데이터수집"
   ]
  },
  {
   "cell_type": "code",
   "execution_count": 7,
   "id": "90f12f13",
   "metadata": {},
   "outputs": [
    {
     "data": {
      "text/html": [
       "<div>\n",
       "<style scoped>\n",
       "    .dataframe tbody tr th:only-of-type {\n",
       "        vertical-align: middle;\n",
       "    }\n",
       "\n",
       "    .dataframe tbody tr th {\n",
       "        vertical-align: top;\n",
       "    }\n",
       "\n",
       "    .dataframe thead th {\n",
       "        text-align: right;\n",
       "    }\n",
       "</style>\n",
       "<table border=\"1\" class=\"dataframe\">\n",
       "  <thead>\n",
       "    <tr style=\"text-align: right;\">\n",
       "      <th></th>\n",
       "      <th>who</th>\n",
       "      <th>Newbie</th>\n",
       "      <th>Age</th>\n",
       "      <th>Gender</th>\n",
       "      <th>Household Income</th>\n",
       "      <th>Sexual Preference</th>\n",
       "      <th>Country</th>\n",
       "      <th>Education Attainment</th>\n",
       "      <th>Major Occupation</th>\n",
       "      <th>Marital Status</th>\n",
       "      <th>Years on Internet</th>\n",
       "    </tr>\n",
       "  </thead>\n",
       "  <tbody>\n",
       "    <tr>\n",
       "      <th>0</th>\n",
       "      <td>id74364</td>\n",
       "      <td>0</td>\n",
       "      <td>54.0</td>\n",
       "      <td>Male</td>\n",
       "      <td>$50-74</td>\n",
       "      <td>Gay male</td>\n",
       "      <td>Ontario</td>\n",
       "      <td>Some College</td>\n",
       "      <td>Computer</td>\n",
       "      <td>Other</td>\n",
       "      <td>4-6 yr</td>\n",
       "    </tr>\n",
       "    <tr>\n",
       "      <th>1</th>\n",
       "      <td>id84505</td>\n",
       "      <td>0</td>\n",
       "      <td>39.0</td>\n",
       "      <td>Female</td>\n",
       "      <td>Over $100</td>\n",
       "      <td>Heterosexual</td>\n",
       "      <td>Sweden</td>\n",
       "      <td>Professional</td>\n",
       "      <td>Other</td>\n",
       "      <td>Other</td>\n",
       "      <td>1-3 yr</td>\n",
       "    </tr>\n",
       "    <tr>\n",
       "      <th>2</th>\n",
       "      <td>id84509</td>\n",
       "      <td>1</td>\n",
       "      <td>49.0</td>\n",
       "      <td>Female</td>\n",
       "      <td>$40-49</td>\n",
       "      <td>Heterosexual</td>\n",
       "      <td>Washington</td>\n",
       "      <td>Some College</td>\n",
       "      <td>Management</td>\n",
       "      <td>Other</td>\n",
       "      <td>Under 6 mo</td>\n",
       "    </tr>\n",
       "    <tr>\n",
       "      <th>3</th>\n",
       "      <td>id87028</td>\n",
       "      <td>1</td>\n",
       "      <td>22.0</td>\n",
       "      <td>Female</td>\n",
       "      <td>$40-49</td>\n",
       "      <td>Heterosexual</td>\n",
       "      <td>Florida</td>\n",
       "      <td>Some College</td>\n",
       "      <td>Computer</td>\n",
       "      <td>Married</td>\n",
       "      <td>6-12 mo</td>\n",
       "    </tr>\n",
       "    <tr>\n",
       "      <th>4</th>\n",
       "      <td>id76087</td>\n",
       "      <td>0</td>\n",
       "      <td>20.0</td>\n",
       "      <td>Male</td>\n",
       "      <td>$30-39</td>\n",
       "      <td>Bisexual</td>\n",
       "      <td>New Jersey</td>\n",
       "      <td>Some College</td>\n",
       "      <td>Education</td>\n",
       "      <td>Single</td>\n",
       "      <td>1-3 yr</td>\n",
       "    </tr>\n",
       "    <tr>\n",
       "      <th>...</th>\n",
       "      <td>...</td>\n",
       "      <td>...</td>\n",
       "      <td>...</td>\n",
       "      <td>...</td>\n",
       "      <td>...</td>\n",
       "      <td>...</td>\n",
       "      <td>...</td>\n",
       "      <td>...</td>\n",
       "      <td>...</td>\n",
       "      <td>...</td>\n",
       "      <td>...</td>\n",
       "    </tr>\n",
       "    <tr>\n",
       "      <th>19578</th>\n",
       "      <td>id83400</td>\n",
       "      <td>0</td>\n",
       "      <td>22.0</td>\n",
       "      <td>Male</td>\n",
       "      <td>Over $100</td>\n",
       "      <td>Heterosexual</td>\n",
       "      <td>Texas</td>\n",
       "      <td>Some College</td>\n",
       "      <td>Education</td>\n",
       "      <td>Single</td>\n",
       "      <td>4-6 yr</td>\n",
       "    </tr>\n",
       "    <tr>\n",
       "      <th>19579</th>\n",
       "      <td>id72216</td>\n",
       "      <td>0</td>\n",
       "      <td>19.0</td>\n",
       "      <td>Male</td>\n",
       "      <td>NaN</td>\n",
       "      <td>Heterosexual</td>\n",
       "      <td>New Jersey</td>\n",
       "      <td>Some College</td>\n",
       "      <td>Education</td>\n",
       "      <td>Single</td>\n",
       "      <td>4-6 yr</td>\n",
       "    </tr>\n",
       "    <tr>\n",
       "      <th>19580</th>\n",
       "      <td>id8654</td>\n",
       "      <td>0</td>\n",
       "      <td>49.0</td>\n",
       "      <td>Female</td>\n",
       "      <td>$50-74</td>\n",
       "      <td>Heterosexual</td>\n",
       "      <td>Missouri</td>\n",
       "      <td>Doctoral</td>\n",
       "      <td>Education</td>\n",
       "      <td>Married</td>\n",
       "      <td>1-3 yr</td>\n",
       "    </tr>\n",
       "    <tr>\n",
       "      <th>19581</th>\n",
       "      <td>id84503</td>\n",
       "      <td>1</td>\n",
       "      <td>42.0</td>\n",
       "      <td>Female</td>\n",
       "      <td>$50-74</td>\n",
       "      <td>Heterosexual</td>\n",
       "      <td>Kentucky</td>\n",
       "      <td>Some College</td>\n",
       "      <td>Other</td>\n",
       "      <td>Married</td>\n",
       "      <td>Under 6 mo</td>\n",
       "    </tr>\n",
       "    <tr>\n",
       "      <th>19582</th>\n",
       "      <td>id87674</td>\n",
       "      <td>0</td>\n",
       "      <td>24.0</td>\n",
       "      <td>Female</td>\n",
       "      <td>$50-74</td>\n",
       "      <td>Transgender</td>\n",
       "      <td>California</td>\n",
       "      <td>College</td>\n",
       "      <td>Computer</td>\n",
       "      <td>Single</td>\n",
       "      <td>1-3 yr</td>\n",
       "    </tr>\n",
       "  </tbody>\n",
       "</table>\n",
       "<p>19583 rows × 11 columns</p>\n",
       "</div>"
      ],
      "text/plain": [
       "           who  Newbie   Age  Gender Household Income Sexual Preference  \\\n",
       "0      id74364       0  54.0    Male           $50-74          Gay male   \n",
       "1      id84505       0  39.0  Female        Over $100      Heterosexual   \n",
       "2      id84509       1  49.0  Female           $40-49      Heterosexual   \n",
       "3      id87028       1  22.0  Female           $40-49      Heterosexual   \n",
       "4      id76087       0  20.0    Male           $30-39          Bisexual   \n",
       "...        ...     ...   ...     ...              ...               ...   \n",
       "19578  id83400       0  22.0    Male        Over $100      Heterosexual   \n",
       "19579  id72216       0  19.0    Male              NaN      Heterosexual   \n",
       "19580   id8654       0  49.0  Female           $50-74      Heterosexual   \n",
       "19581  id84503       1  42.0  Female           $50-74      Heterosexual   \n",
       "19582  id87674       0  24.0  Female           $50-74       Transgender   \n",
       "\n",
       "          Country Education Attainment Major Occupation Marital Status  \\\n",
       "0         Ontario         Some College         Computer          Other   \n",
       "1          Sweden         Professional            Other          Other   \n",
       "2      Washington         Some College       Management          Other   \n",
       "3         Florida         Some College         Computer        Married   \n",
       "4      New Jersey         Some College        Education         Single   \n",
       "...           ...                  ...              ...            ...   \n",
       "19578       Texas         Some College        Education         Single   \n",
       "19579  New Jersey         Some College        Education         Single   \n",
       "19580    Missouri             Doctoral        Education        Married   \n",
       "19581    Kentucky         Some College            Other        Married   \n",
       "19582  California              College         Computer         Single   \n",
       "\n",
       "      Years on Internet  \n",
       "0                4-6 yr  \n",
       "1                1-3 yr  \n",
       "2            Under 6 mo  \n",
       "3               6-12 mo  \n",
       "4                1-3 yr  \n",
       "...                 ...  \n",
       "19578            4-6 yr  \n",
       "19579            4-6 yr  \n",
       "19580            1-3 yr  \n",
       "19581        Under 6 mo  \n",
       "19582            1-3 yr  \n",
       "\n",
       "[19583 rows x 11 columns]"
      ]
     },
     "execution_count": 7,
     "metadata": {},
     "output_type": "execute_result"
    }
   ],
   "source": [
    "import pandas as pd\n",
    "df = pd.read_csv('day5_data1.csv')\n",
    "df"
   ]
  },
  {
   "cell_type": "markdown",
   "id": "9f312865",
   "metadata": {},
   "source": [
    "2. data 전처리작업<br> 1) '필요 유무에따른 정리'"
   ]
  },
  {
   "cell_type": "code",
   "execution_count": 8,
   "id": "d53858ac",
   "metadata": {},
   "outputs": [
    {
     "data": {
      "text/plain": [
       "Newbie                    int64\n",
       "Age                     float64\n",
       "Gender                   object\n",
       "Household Income         object\n",
       "Sexual Preference        object\n",
       "Education Attainment     object\n",
       "Major Occupation         object\n",
       "Marital Status           object\n",
       "dtype: object"
      ]
     },
     "execution_count": 8,
     "metadata": {},
     "output_type": "execute_result"
    }
   ],
   "source": [
    "df.pop('who')\n",
    "df.pop('Country')\n",
    "df.pop('Years on Internet')\n",
    "#제거 했으니 검토해야한다.\n",
    "df.dtypes"
   ]
  },
  {
   "cell_type": "code",
   "execution_count": 11,
   "id": "462f853a",
   "metadata": {},
   "outputs": [
    {
     "data": {
      "text/plain": [
       "Newbie                     int64\n",
       "Age                      float64\n",
       "Gender                  category\n",
       "Household Income        category\n",
       "Sexual Preference       category\n",
       "Education Attainment    category\n",
       "Major Occupation        category\n",
       "Marital Status          category\n",
       "dtype: object"
      ]
     },
     "execution_count": 11,
     "metadata": {},
     "output_type": "execute_result"
    }
   ],
   "source": [
    "#범주데이터를 참거짓으로 표현해준다.\n",
    "#object class를 범주화 작업\n",
    "ck_c=['Gender','Household Income','Sexual Preference','Education Attainment','Major Occupation','Marital Status']\n",
    "for i in ck_c:\n",
    "    df[i] = df[i].astype('category') #시리즈마다 따로처리하기위해 사용/ category로 바꿔준다\n",
    "df.dtypes"
   ]
  },
  {
   "cell_type": "markdown",
   "id": "20bc3f4a",
   "metadata": {},
   "source": [
    "2.data 전처리 <br> 2)결측치"
   ]
  },
  {
   "cell_type": "code",
   "execution_count": 19,
   "id": "fe658806",
   "metadata": {},
   "outputs": [
    {
     "data": {
      "text/plain": [
       "Newbie                                 0\n",
       "Age                                  561\n",
       "Gender_Female                          0\n",
       "Gender_Male                            0\n",
       "Household Income_$10-19                0\n",
       "Household Income_$20-29                0\n",
       "Household Income_$30-39                0\n",
       "Household Income_$40-49                0\n",
       "Household Income_$50-74                0\n",
       "Household Income_$75-99                0\n",
       "Household Income_Over $100             0\n",
       "Household Income_Under $10             0\n",
       "Sexual Preference_Bisexual             0\n",
       "Sexual Preference_Gay male             0\n",
       "Sexual Preference_Heterosexual         0\n",
       "Sexual Preference_Lesbian              0\n",
       "Sexual Preference_Transgender          0\n",
       "Sexual Preference_na                   0\n",
       "Education Attainment_College           0\n",
       "Education Attainment_Doctoral          0\n",
       "Education Attainment_Grammar           0\n",
       "Education Attainment_High School       0\n",
       "Education Attainment_Masters           0\n",
       "Education Attainment_Other             0\n",
       "Education Attainment_Professional      0\n",
       "Education Attainment_Some College      0\n",
       "Education Attainment_Special           0\n",
       "Major Occupation_Computer              0\n",
       "Major Occupation_Education             0\n",
       "Major Occupation_Management            0\n",
       "Major Occupation_Other                 0\n",
       "Major Occupation_Professional          0\n",
       "Marital Status_Divorced                0\n",
       "Marital Status_Married                 0\n",
       "Marital Status_Other                   0\n",
       "Marital Status_Separated               0\n",
       "Marital Status_Single                  0\n",
       "Marital Status_Widowed                 0\n",
       "dtype: int64"
      ]
     },
     "execution_count": 19,
     "metadata": {},
     "output_type": "execute_result"
    }
   ],
   "source": [
    "#범주화된 데이텉를 원핫인코딩화 해줌 \n",
    "df_one_hot=pd.get_dummies(df)\n",
    "df_one_hot#각각의 열들은 데이터 인스턴스에스 특징을 의미한다./ 즉 데이터의 특징을 2가지로 나눠줬다.\n",
    "df_one_hot.isnull().sum()"
   ]
  },
  {
   "cell_type": "code",
   "execution_count": 20,
   "id": "3690c581",
   "metadata": {},
   "outputs": [],
   "source": [
    "df_one_hot.loc[pd.isnull(df_one_hot['Age']),'Age']=df_one_hot['Age'].mean() #결측치가 존재하는 age인덱스로 접근해줌"
   ]
  },
  {
   "cell_type": "markdown",
   "id": "f3683452",
   "metadata": {},
   "source": [
    "3.입력data정리"
   ]
  },
  {
   "cell_type": "code",
   "execution_count": 27,
   "id": "bb11fd9d",
   "metadata": {},
   "outputs": [
    {
     "data": {
      "text/plain": [
       "((19583, 37), (19583, 1))"
      ]
     },
     "execution_count": 27,
     "metadata": {},
     "output_type": "execute_result"
    }
   ],
   "source": [
    "X = df_one_hot.iloc[:,1:].values\n",
    "Y = df_one_hot.iloc[:,0].values.reshape(-1,1)#단일데이터화 시켜줌\n",
    "X.shape, Y.shape # 동일한 사이즈로 변환해주는것이 정규화작업"
   ]
  },
  {
   "cell_type": "code",
   "execution_count": 28,
   "id": "02485304",
   "metadata": {},
   "outputs": [],
   "source": [
    "from sklearn.preprocessing import MinMaxScaler\n",
    "m_m_s=MinMaxScaler()\n",
    "#전체데이터를 다룰때\n",
    "X_data=m_m_s.fit_transform(X)#정규화 작업 스케일작업은 너무 쏠려있으면 나쁜상태라 평균작업을해준것"
   ]
  },
  {
   "cell_type": "code",
   "execution_count": 29,
   "id": "6beb62e1",
   "metadata": {},
   "outputs": [],
   "source": [
    "from sklearn.model_selection import train_test_split\n",
    "t_x,tt_x,t_y,tt_y = train_test_split(X_data,Y,test_size=0.3,random_state=42)"
   ]
  },
  {
   "cell_type": "markdown",
   "id": "1c9bab1e",
   "metadata": {},
   "source": [
    "4. 모델 생성 및 학습"
   ]
  },
  {
   "cell_type": "code",
   "execution_count": 32,
   "id": "cfc16e3c",
   "metadata": {},
   "outputs": [
    {
     "data": {
      "text/plain": [
       "array([1, 1, 0, ..., 1, 0, 1], dtype=int64)"
      ]
     },
     "execution_count": 32,
     "metadata": {},
     "output_type": "execute_result"
    }
   ],
   "source": [
    "t_y.flatten()#전환 작업"
   ]
  },
  {
   "cell_type": "code",
   "execution_count": 33,
   "id": "9debcc31",
   "metadata": {},
   "outputs": [
    {
     "data": {
      "text/plain": [
       "LogisticRegression()"
      ]
     },
     "execution_count": 33,
     "metadata": {},
     "output_type": "execute_result"
    }
   ],
   "source": [
    "from sklearn.linear_model import LogisticRegression\n",
    "lo_g=LogisticRegression(fit_intercept=True)#설정해둔 목표값에 도달하면 값에대한 것을 판단할수있다.\n",
    "lo_g.fit(t_x,t_y.flatten())\n"
   ]
  },
  {
   "cell_type": "markdown",
   "id": "2928c680",
   "metadata": {},
   "source": [
    "5.테스트 및 검증"
   ]
  },
  {
   "cell_type": "code",
   "execution_count": 34,
   "id": "016196fd",
   "metadata": {},
   "outputs": [
    {
     "data": {
      "text/plain": [
       "array([0, 0, 0, 0, 0], dtype=int64)"
      ]
     },
     "execution_count": 34,
     "metadata": {},
     "output_type": "execute_result"
    }
   ],
   "source": [
    "lo_g.predict(tt_x[:5])"
   ]
  },
  {
   "cell_type": "code",
   "execution_count": 35,
   "id": "20d580d0",
   "metadata": {},
   "outputs": [
    {
     "data": {
      "text/plain": [
       "array([1, 0, 1, 0, 1], dtype=int64)"
      ]
     },
     "execution_count": 35,
     "metadata": {},
     "output_type": "execute_result"
    }
   ],
   "source": [
    "tt_y.flatten()[:5]"
   ]
  },
  {
   "cell_type": "code",
   "execution_count": 36,
   "id": "29fd2432",
   "metadata": {},
   "outputs": [
    {
     "data": {
      "text/plain": [
       "array([[0.56799173, 0.43200827],\n",
       "       [0.91026881, 0.08973119],\n",
       "       [0.79110791, 0.20889209],\n",
       "       [0.85449667, 0.14550333],\n",
       "       [0.62307651, 0.37692349]])"
      ]
     },
     "execution_count": 36,
     "metadata": {},
     "output_type": "execute_result"
    }
   ],
   "source": [
    "lo_g.predict_proba(tt_x[:5])"
   ]
  },
  {
   "cell_type": "code",
   "execution_count": 37,
   "id": "27533244",
   "metadata": {},
   "outputs": [
    {
     "data": {
      "text/plain": [
       "array([[4093,  240],\n",
       "       [1221,  321]], dtype=int64)"
      ]
     },
     "execution_count": 37,
     "metadata": {},
     "output_type": "execute_result"
    }
   ],
   "source": [
    "from sklearn.metrics import confusion_matrix#매트릭스\n",
    "from sklearn.metrics import accuracy_score#정확도\n",
    "y_t = tt_y.copy()\n",
    "y_p = lo_g.predict(tt_x)\n",
    "confusion_matrix(y_t,y_p)"
   ]
  },
  {
   "cell_type": "code",
   "execution_count": 38,
   "id": "8e1ee74c",
   "metadata": {},
   "outputs": [
    {
     "data": {
      "text/plain": [
       "0.7513191489361702"
      ]
     },
     "execution_count": 38,
     "metadata": {},
     "output_type": "execute_result"
    }
   ],
   "source": [
    "accuracy_score(y_t,y_p)#75% 정확도 나옴"
   ]
  },
  {
   "cell_type": "code",
   "execution_count": null,
   "id": "a53cc963",
   "metadata": {},
   "outputs": [],
   "source": []
  }
 ],
 "metadata": {
  "kernelspec": {
   "display_name": "Python 3 (ipykernel)",
   "language": "python",
   "name": "python3"
  },
  "language_info": {
   "codemirror_mode": {
    "name": "ipython",
    "version": 3
   },
   "file_extension": ".py",
   "mimetype": "text/x-python",
   "name": "python",
   "nbconvert_exporter": "python",
   "pygments_lexer": "ipython3",
   "version": "3.9.7"
  }
 },
 "nbformat": 4,
 "nbformat_minor": 5
}
