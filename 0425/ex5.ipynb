{
 "cells": [
  {
   "cell_type": "code",
   "execution_count": 3,
   "id": "e9b26823",
   "metadata": {},
   "outputs": [],
   "source": [
    "#분류는 확률을 기반으로 나눈다.\n",
    "from pandas import Series,DataFrame\n",
    "import pandas as pd\n",
    "import numpy as np\n",
    "viagra_spam={\n",
    "    'viagra':[1,0,0,0,0,0,0,0,1,1,1,0,0,1,0,0,0,0,0,1]\n",
    "    ,'spam':[1,0,0,0,0,0,1,0,1,0,0,0,0,0,0,0,0,1,1,1]\n",
    "}\n",
    "df = pd.DataFrame(viagra_spam,columns=['viagra','spam'])\n",
    "np_data=df.values\n"
   ]
  },
  {
   "cell_type": "markdown",
   "id": "a1425bfd",
   "metadata": {},
   "source": [
    "P(viagra,spam)"
   ]
  },
  {
   "cell_type": "code",
   "execution_count": 15,
   "id": "fcdca191",
   "metadata": {},
   "outputs": [
    {
     "data": {
      "text/plain": [
       "0.15"
      ]
     },
     "execution_count": 15,
     "metadata": {},
     "output_type": "execute_result"
    }
   ],
   "source": [
    "p_v_cap_s = sum((np_data[:,0]==1)&(np_data[:,1]==1))/20\n",
    "p_v_cap_s"
   ]
  },
  {
   "cell_type": "markdown",
   "id": "a8bbcc08",
   "metadata": {},
   "source": [
    "P(viagra)"
   ]
  },
  {
   "cell_type": "code",
   "execution_count": 9,
   "id": "09eededc",
   "metadata": {},
   "outputs": [
    {
     "data": {
      "text/plain": [
       "0.3"
      ]
     },
     "execution_count": 9,
     "metadata": {},
     "output_type": "execute_result"
    }
   ],
   "source": [
    "p_v = sum((np_data[:,0]==1))/20\n",
    "p_v"
   ]
  },
  {
   "cell_type": "markdown",
   "id": "f088950a",
   "metadata": {},
   "source": [
    "P(spam)"
   ]
  },
  {
   "cell_type": "code",
   "execution_count": 12,
   "id": "ae832c0d",
   "metadata": {},
   "outputs": [
    {
     "data": {
      "text/plain": [
       "0.3"
      ]
     },
     "execution_count": 12,
     "metadata": {},
     "output_type": "execute_result"
    }
   ],
   "source": [
    "p_s = sum((np_data[:,1]==1))/20\n",
    "p_s"
   ]
  },
  {
   "cell_type": "markdown",
   "id": "685202e3",
   "metadata": {},
   "source": [
    "P(~viagra|spam)"
   ]
  },
  {
   "cell_type": "code",
   "execution_count": 20,
   "id": "14add454",
   "metadata": {},
   "outputs": [
    {
     "data": {
      "text/plain": [
       "0.15"
      ]
     },
     "execution_count": 20,
     "metadata": {},
     "output_type": "execute_result"
    }
   ],
   "source": [
    "p_n_v_cap_s = sum((np_data[:,0]==0)&(np_data[:,1]==1))/20\n",
    "p_n_v_cap_s"
   ]
  },
  {
   "cell_type": "markdown",
   "id": "4e249a4a",
   "metadata": {},
   "source": [
    "P(spam|vigra)"
   ]
  },
  {
   "cell_type": "code",
   "execution_count": 22,
   "id": "803d358e",
   "metadata": {},
   "outputs": [
    {
     "data": {
      "text/plain": [
       "0.5"
      ]
     },
     "execution_count": 22,
     "metadata": {},
     "output_type": "execute_result"
    }
   ],
   "source": [
    "p_s * (p_v_cap_s/p_s)/p_v"
   ]
  },
  {
   "cell_type": "markdown",
   "id": "f93a91ce",
   "metadata": {},
   "source": [
    "P(spam|~vigra)"
   ]
  },
  {
   "cell_type": "code",
   "execution_count": 23,
   "id": "db7f7043",
   "metadata": {},
   "outputs": [
    {
     "data": {
      "text/plain": [
       "0.5"
      ]
     },
     "execution_count": 23,
     "metadata": {},
     "output_type": "execute_result"
    }
   ],
   "source": [
    "p_s * (p_n_v_cap_s/p_s)/p_v"
   ]
  }
 ],
 "metadata": {
  "kernelspec": {
   "display_name": "Python 3 (ipykernel)",
   "language": "python",
   "name": "python3"
  },
  "language_info": {
   "codemirror_mode": {
    "name": "ipython",
    "version": 3
   },
   "file_extension": ".py",
   "mimetype": "text/x-python",
   "name": "python",
   "nbconvert_exporter": "python",
   "pygments_lexer": "ipython3",
   "version": "3.9.7"
  }
 },
 "nbformat": 4,
 "nbformat_minor": 5
}
