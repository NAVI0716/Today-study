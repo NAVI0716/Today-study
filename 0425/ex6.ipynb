{
 "cells": [
  {
   "cell_type": "code",
   "execution_count": 12,
   "id": "e042dbf3",
   "metadata": {},
   "outputs": [],
   "source": [
    "from pandas import Series,DataFrame\n",
    "import pandas as pd\n",
    "import numpy as np\n",
    "df = pd.read_csv('day5_data2.csv')\n",
    "del df['ID']\n",
    "Y_data = df.pop('Fraud')#현재 시리즈데이터로 되어있다. 이걸 넘파이로 변경해서 작업해야한다.\n",
    "Y_data = Y_data.values#=np.array(Y_data)\n",
    "x_df = pd.get_dummies(df) #t f로 바꿔주는것 원핫인코딩\n",
    "X_data =x_df.values"
   ]
  },
  {
   "cell_type": "code",
   "execution_count": 15,
   "id": "55fb4337",
   "metadata": {},
   "outputs": [
    {
     "data": {
      "text/plain": [
       "0.7"
      ]
     },
     "execution_count": 15,
     "metadata": {},
     "output_type": "execute_result"
    }
   ],
   "source": [
    "P_Y_T=sum(Y_data == True)/len(Y_data)#조건에 맞는 계수 \n",
    "P_Y_F=1-P_Y_T\n"
   ]
  },
  {
   "cell_type": "code",
   "execution_count": 20,
   "id": "4523ac37",
   "metadata": {},
   "outputs": [],
   "source": [
    "idx_Y_T = np.where(Y_data==True)#어디에 존재하는지 인덱스 알려줌\n",
    "idx_Y_F = np.where(Y_data==False)#어디에 존재하는지 인덱스 알려줌"
   ]
  },
  {
   "cell_type": "code",
   "execution_count": 24,
   "id": "019ce817",
   "metadata": {},
   "outputs": [
    {
     "data": {
      "text/plain": [
       "(array([0.16666667, 0.5       , 0.16666667, 0.16666667, 0.        ,\n",
       "        0.16666667, 0.83333333, 0.        , 0.66666667, 0.33333333]),\n",
       " array([0.42857143, 0.28571429, 0.        , 0.28571429, 0.14285714,\n",
       "        0.        , 0.85714286, 0.07142857, 0.78571429, 0.14285714]))"
      ]
     },
     "execution_count": 24,
     "metadata": {},
     "output_type": "execute_result"
    }
   ],
   "source": [
    "p_x_y_t=(X_data[idx_Y_T].sum(axis=0))/sum(Y_data==True)\n",
    "p_x_y_f=(X_data[idx_Y_F].sum(axis=0))/sum(Y_data==False)\n",
    "p_x_y_t, p_x_y_f"
   ]
  },
  {
   "cell_type": "code",
   "execution_count": 25,
   "id": "45a09797",
   "metadata": {},
   "outputs": [
    {
     "data": {
      "text/plain": [
       "(1.7714285714285714, 1.6333333333333333)"
      ]
     },
     "execution_count": 25,
     "metadata": {},
     "output_type": "execute_result"
    }
   ],
   "source": [
    "tt_x = [0,1,0,0,0,1,0,0,1,0]\n",
    "tt_y_t = P_Y_T+p_x_y_t.dot(tt_x)\n",
    "tt_y_f = P_Y_F+p_x_y_f.dot(tt_x)\n",
    "tt_y_f,tt_y_t"
   ]
  },
  {
   "cell_type": "code",
   "execution_count": null,
   "id": "c291afe6",
   "metadata": {},
   "outputs": [],
   "source": []
  }
 ],
 "metadata": {
  "kernelspec": {
   "display_name": "Python 3 (ipykernel)",
   "language": "python",
   "name": "python3"
  },
  "language_info": {
   "codemirror_mode": {
    "name": "ipython",
    "version": 3
   },
   "file_extension": ".py",
   "mimetype": "text/x-python",
   "name": "python",
   "nbconvert_exporter": "python",
   "pygments_lexer": "ipython3",
   "version": "3.9.7"
  }
 },
 "nbformat": 4,
 "nbformat_minor": 5
}
